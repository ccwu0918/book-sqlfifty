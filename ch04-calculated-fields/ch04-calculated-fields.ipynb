{
 "cells": [
  {
   "cell_type": "markdown",
   "id": "lightweight-fruit",
   "metadata": {
    "slideshow": {
     "slide_type": "slide"
    }
   },
   "source": [
    "# SQL 的五十道練習：初學者友善的資料庫入門\n",
    "\n",
    "> 衍生計算欄位"
   ]
  },
  {
   "cell_type": "code",
   "execution_count": 1,
   "id": "matched-spyware",
   "metadata": {
    "slideshow": {
     "slide_type": "skip"
    }
   },
   "outputs": [],
   "source": [
    "%LOAD sqlite3 db=../databases/imdb.db timeout=2 shared_cache=true"
   ]
  },
  {
   "cell_type": "markdown",
   "id": "shaped-reconstruction",
   "metadata": {
    "slideshow": {
     "slide_type": "subslide"
    }
   },
   "source": [
    "## 複習一下\n",
    "\n",
    "使用單獨存在的 `SELECT` 保留字指定希望在查詢結果中顯示的常數，常用的常數類別有四種，分別是整數、浮點數、文字與空值，我們可以使用 `TYPEOF()` 函數顯示常數或者資料表欄位的類別。"
   ]
  },
  {
   "cell_type": "code",
   "execution_count": 2,
   "id": "excess-solid",
   "metadata": {
    "slideshow": {
     "slide_type": "-"
    }
   },
   "outputs": [
    {
     "data": {
      "text/html": [
       "<table>\n",
       "<tr>\n",
       "<th>an_integer</th>\n",
       "<th>a_real</th>\n",
       "<th>a_text</th>\n",
       "<th>a_null</th>\n",
       "</tr>\n",
       "<tr>\n",
       "<td>5566</td>\n",
       "<td>2.718</td>\n",
       "<td>Hello, World!</td>\n",
       "<td>NULL</td>\n",
       "</tr>\n",
       "</table>\n",
       "1 row in set (0.00 sec)"
      ],
      "text/plain": [
       "+------------+--------+---------------+--------+\n",
       "| an_integer | a_real | a_text        | a_null |\n",
       "+------------+--------+---------------+--------+\n",
       "| 5566       | 2.718  | Hello, World! | NULL   |\n",
       "+------------+--------+---------------+--------+\n",
       "1 row in set (0.00 sec)"
      ]
     },
     "execution_count": 2,
     "metadata": {},
     "output_type": "execute_result"
    }
   ],
   "source": [
    "SELECT 5566 AS an_integer,\n",
    "       2.718 AS a_real,\n",
    "       'Hello, World!' AS a_text,\n",
    "       NULL AS a_null;"
   ]
  },
  {
   "cell_type": "code",
   "execution_count": 3,
   "id": "2c5a67cc",
   "metadata": {
    "slideshow": {
     "slide_type": "-"
    }
   },
   "outputs": [
    {
     "data": {
      "text/html": [
       "<table>\n",
       "<tr>\n",
       "<th>typeof_an_integer</th>\n",
       "<th>typeof_a_real</th>\n",
       "<th>typeof_a_text</th>\n",
       "<th>typeof_a_null</th>\n",
       "</tr>\n",
       "<tr>\n",
       "<td>integer</td>\n",
       "<td>real</td>\n",
       "<td>text</td>\n",
       "<td>null</td>\n",
       "</tr>\n",
       "</table>\n",
       "1 row in set (0.00 sec)"
      ],
      "text/plain": [
       "+-------------------+---------------+---------------+---------------+\n",
       "| typeof_an_integer | typeof_a_real | typeof_a_text | typeof_a_null |\n",
       "+-------------------+---------------+---------------+---------------+\n",
       "| integer           | real          | text          | null          |\n",
       "+-------------------+---------------+---------------+---------------+\n",
       "1 row in set (0.00 sec)"
      ]
     },
     "execution_count": 3,
     "metadata": {},
     "output_type": "execute_result"
    }
   ],
   "source": [
    "SELECT TYPEOF(5566) AS typeof_an_integer,\n",
    "       TYPEOF(2.718) AS typeof_a_real,\n",
    "       TYPEOF('Hello, World!') AS typeof_a_text,\n",
    "       TYPEOF(NULL) AS typeof_a_null;"
   ]
  },
  {
   "cell_type": "markdown",
   "id": "studied-preference",
   "metadata": {
    "slideshow": {
     "slide_type": "slide"
    }
   },
   "source": [
    "在第三章「從資料表選擇」我們將 SQL 敘述歸納為以下幾個部分的組成：\n",
    "\n",
    "- 保留字：具有特定功能的指令。\n",
    "- 符號：具有特定功能的符號。\n",
    "- 常數：由使用者給予的資料。\n",
    "- 函數：具有特定邏輯的輸入與輸出對應。\n",
    "\n",
    "## 運算符\n",
    "\n",
    "其中在「符號」這個部分，我們可以使用屬於符號分類下的運算符（Operators），來對不同資料類別進行運算，包含整數、浮點數、文字與空值，不僅能運算常數，亦能運算資料表的欄。運算符區分為：\n",
    "\n",
    "1. 數值運算符：應用在資料類別為整數或浮點數的常數或欄位，運算結果為數值。\n",
    "2. 文字運算符：應用在資料類別為文字的常數或欄位，運算結果為文字。\n",
    "3. 關係運算符：應用會得到條件判斷結果 0（布林值 `False`）或 1（布林值 `True`）兩者其中之一。\n",
    "4. 邏輯運算符：應用在資料類別屬於 0（布林值 `False`）或 1（布林值 `True`）的敘述、常數或欄位，運算結果為布林值。\n",
    "\n",
    "## 數值運算符\n",
    "\n",
    "針對整數（`integer`）與帶小數點的浮點數（`real`）的常數或欄位可以使用數值運算符衍生計算欄位，運算結果為數值，基礎的數值運算符有：\n",
    "\n",
    "|數值運算符|作用描述|\n",
    "|:-------|:------|\n",
    "|`+`|相加|\n",
    "|`-`|相減|\n",
    "|`*`|相乘|\n",
    "|`/`|相除|\n",
    "|`%`|回傳餘數|\n",
    "|`()`|優先運算|"
   ]
  },
  {
   "cell_type": "code",
   "execution_count": 4,
   "id": "b0d178d1",
   "metadata": {},
   "outputs": [
    {
     "data": {
      "text/html": [
       "<table>\n",
       "<tr>\n",
       "<th>add_two_integers</th>\n",
       "<th>subtract_two_integers</th>\n",
       "<th>multiply_two_integers</th>\n",
       "<th>divide_two_integers</th>\n",
       "<th>modulo</th>\n",
       "</tr>\n",
       "<tr>\n",
       "<td>121</td>\n",
       "<td>-11</td>\n",
       "<td>3630</td>\n",
       "<td>3</td>\n",
       "<td>1</td>\n",
       "</tr>\n",
       "</table>\n",
       "1 row in set (0.00 sec)"
      ],
      "text/plain": [
       "+------------------+-----------------------+-----------------------+---------------------+--------+\n",
       "| add_two_integers | subtract_two_integers | multiply_two_integers | divide_two_integers | modulo |\n",
       "+------------------+-----------------------+-----------------------+---------------------+--------+\n",
       "| 121              | -11                   | 3630                  | 3                   | 1      |\n",
       "+------------------+-----------------------+-----------------------+---------------------+--------+\n",
       "1 row in set (0.00 sec)"
      ]
     },
     "execution_count": 4,
     "metadata": {},
     "output_type": "execute_result"
    }
   ],
   "source": [
    "SELECT 55 + 66 AS add_two_integers,\n",
    "       55 - 66 AS subtract_two_integers,\n",
    "       55 * 66 AS multiply_two_integers,\n",
    "       7 / 2 AS divide_two_integers,\n",
    "       7 % 2 AS modulo;"
   ]
  },
  {
   "cell_type": "markdown",
   "id": "minus-calgary",
   "metadata": {
    "slideshow": {
     "slide_type": "subslide"
    }
   },
   "source": [
    "值得注意的是使用 `/` 相除兩個整數的時候要特別注意所衍生的欄位依然會以整數（`integer`）存在，如果希望調整運算結果為浮點數（`real`），就要將分子或分母至少一者改變為浮點數，最簡單的做法就是乘以 `1.0`。"
   ]
  },
  {
   "cell_type": "code",
   "execution_count": 5,
   "id": "e8ed5a54",
   "metadata": {},
   "outputs": [
    {
     "data": {
      "text/html": [
       "<table>\n",
       "<tr>\n",
       "<th>divide_two_integers</th>\n",
       "<th>divide_real</th>\n",
       "<th>divide_integer</th>\n",
       "</tr>\n",
       "<tr>\n",
       "<td>3</td>\n",
       "<td>3.5</td>\n",
       "<td>3.0</td>\n",
       "</tr>\n",
       "</table>\n",
       "1 row in set (0.00 sec)"
      ],
      "text/plain": [
       "+---------------------+-------------+----------------+\n",
       "| divide_two_integers | divide_real | divide_integer |\n",
       "+---------------------+-------------+----------------+\n",
       "| 3                   | 3.5         | 3.0            |\n",
       "+---------------------+-------------+----------------+\n",
       "1 row in set (0.00 sec)"
      ]
     },
     "execution_count": 5,
     "metadata": {},
     "output_type": "execute_result"
    }
   ],
   "source": [
    "SELECT 7 / 2 AS divide_two_integers,\n",
    "       7 * 1.0 / 2 AS divide_real,\n",
    "       7 / 2 * 1.0 AS divide_integer; -- be aware of the priority of operation"
   ]
  },
  {
   "cell_type": "markdown",
   "id": "0aab7aee",
   "metadata": {
    "slideshow": {
     "slide_type": "subslide"
    }
   },
   "source": [
    "前述例子在分子乘以 `1.0` 能順利獲得預期運算結果 `3.5`，但是在分母乘以 `1.0` 卻仍然是 `3.0`，原因在於運算的優先順序，乘除的運算優先順序相同（先乘除後加減），在沒有以 `()` 指定優先運算時，會先算完 `7 / 2` 才算 `3 * 1.0`，所以若是將分母改為浮點數，必須使用 `()` 指定優先運算。"
   ]
  },
  {
   "cell_type": "code",
   "execution_count": 6,
   "id": "537df664",
   "metadata": {},
   "outputs": [
    {
     "data": {
      "text/html": [
       "<table>\n",
       "<tr>\n",
       "<th>divide_two_integers</th>\n",
       "<th>divide_real</th>\n",
       "<th>divide_by_real</th>\n",
       "</tr>\n",
       "<tr>\n",
       "<td>3</td>\n",
       "<td>3.5</td>\n",
       "<td>3.5</td>\n",
       "</tr>\n",
       "</table>\n",
       "1 row in set (0.00 sec)"
      ],
      "text/plain": [
       "+---------------------+-------------+----------------+\n",
       "| divide_two_integers | divide_real | divide_by_real |\n",
       "+---------------------+-------------+----------------+\n",
       "| 3                   | 3.5         | 3.5            |\n",
       "+---------------------+-------------+----------------+\n",
       "1 row in set (0.00 sec)"
      ]
     },
     "execution_count": 6,
     "metadata": {},
     "output_type": "execute_result"
    }
   ],
   "source": [
    "SELECT 7 / 2 AS divide_two_integers,\n",
    "       7 * 1.0 / 2 AS divide_real,\n",
    "       7 / (2 * 1.0) AS divide_by_real; -- be aware of the priority of operation"
   ]
  },
  {
   "cell_type": "markdown",
   "id": "150a81bd",
   "metadata": {},
   "source": [
    "除了常數，我們也能運用數值運算符於資料類別為整數或浮點數的欄位，舉例來說，在 `imdb` 資料庫的 `movies` 資料表中 `runtime` 欄是以「分鐘」記錄電影長度，我們可以透過相除運算符 `/` 以及回傳餘數運算符 `%` 衍生運算電影長度為 `x` 小時 `y` 分鐘。"
   ]
  },
  {
   "cell_type": "code",
   "execution_count": 7,
   "id": "839714c5",
   "metadata": {},
   "outputs": [
    {
     "data": {
      "text/html": [
       "<table>\n",
       "<tr>\n",
       "<th>runtime</th>\n",
       "<th>hours</th>\n",
       "<th>minutes</th>\n",
       "</tr>\n",
       "<tr>\n",
       "<td>142</td>\n",
       "<td>2</td>\n",
       "<td>22</td>\n",
       "</tr>\n",
       "<tr>\n",
       "<td>175</td>\n",
       "<td>2</td>\n",
       "<td>55</td>\n",
       "</tr>\n",
       "<tr>\n",
       "<td>152</td>\n",
       "<td>2</td>\n",
       "<td>32</td>\n",
       "</tr>\n",
       "<tr>\n",
       "<td>202</td>\n",
       "<td>3</td>\n",
       "<td>22</td>\n",
       "</tr>\n",
       "<tr>\n",
       "<td>96</td>\n",
       "<td>1</td>\n",
       "<td>36</td>\n",
       "</tr>\n",
       "</table>\n",
       "5 rows in set (0.00 sec)"
      ],
      "text/plain": [
       "+---------+-------+---------+\n",
       "| runtime | hours | minutes |\n",
       "+---------+-------+---------+\n",
       "| 142     | 2     | 22      |\n",
       "+---------+-------+---------+\n",
       "| 175     | 2     | 55      |\n",
       "+---------+-------+---------+\n",
       "| 152     | 2     | 32      |\n",
       "+---------+-------+---------+\n",
       "| 202     | 3     | 22      |\n",
       "+---------+-------+---------+\n",
       "| 96      | 1     | 36      |\n",
       "+---------+-------+---------+\n",
       "5 rows in set (0.00 sec)"
      ]
     },
     "execution_count": 7,
     "metadata": {},
     "output_type": "execute_result"
    }
   ],
   "source": [
    "SELECT runtime,\n",
    "       runtime / 60 AS hours,\n",
    "       runtime % 60 AS minutes\n",
    "  FROM movies\n",
    " LIMIT 5;"
   ]
  },
  {
   "cell_type": "markdown",
   "id": "bigger-berry",
   "metadata": {
    "slideshow": {
     "slide_type": "slide"
    }
   },
   "source": [
    "## 文字運算符\n",
    "\n",
    "針對文字（`text`）的常數或欄位可以使用文字運算符衍生計算欄位，運算結果為文字，相較於數值運算符，文字運算符的數量少了許多，僅有 `||` 兩個垂直線（可透過 `Shift + \\` 按出來）能夠**連接文字**。 "
   ]
  },
  {
   "cell_type": "code",
   "execution_count": 8,
   "id": "0f203710",
   "metadata": {},
   "outputs": [
    {
     "data": {
      "text/html": [
       "<table>\n",
       "<tr>\n",
       "<th>first_name</th>\n",
       "<th>last_name</th>\n",
       "<th>ironman</th>\n",
       "</tr>\n",
       "<tr>\n",
       "<td>Tony</td>\n",
       "<td>Stark</td>\n",
       "<td>Tony Stark</td>\n",
       "</tr>\n",
       "</table>\n",
       "1 row in set (0.00 sec)"
      ],
      "text/plain": [
       "+------------+-----------+------------+\n",
       "| first_name | last_name | ironman    |\n",
       "+------------+-----------+------------+\n",
       "| Tony       | Stark     | Tony Stark |\n",
       "+------------+-----------+------------+\n",
       "1 row in set (0.00 sec)"
      ]
     },
     "execution_count": 8,
     "metadata": {},
     "output_type": "execute_result"
    }
   ],
   "source": [
    "SELECT 'Tony' AS first_name,\n",
    "       'Stark' AS last_name,\n",
    "       'Tony' || ' ' || 'Stark' AS ironman;"
   ]
  },
  {
   "cell_type": "markdown",
   "id": "c29e6995",
   "metadata": {
    "slideshow": {
     "slide_type": "slide"
    }
   },
   "source": [
    "除了常數，我們也能運用文字運算符於資料類別為文字的欄位，舉例來說，前一個小節我們透過相除運算符 `/` 以及回傳餘數運算符 `%` 衍生運算電影長度為 `x` 小時 `y` 分鐘，可以進一步用 `||` 將兩個衍生欄位再連接為一欄。"
   ]
  },
  {
   "cell_type": "code",
   "execution_count": 9,
   "id": "76592763",
   "metadata": {},
   "outputs": [
    {
     "data": {
      "text/html": [
       "<table>\n",
       "<tr>\n",
       "<th>runtime</th>\n",
       "<th>hours_minutes</th>\n",
       "</tr>\n",
       "<tr>\n",
       "<td>142</td>\n",
       "<td>2 hours 22 minutes</td>\n",
       "</tr>\n",
       "<tr>\n",
       "<td>175</td>\n",
       "<td>2 hours 55 minutes</td>\n",
       "</tr>\n",
       "<tr>\n",
       "<td>152</td>\n",
       "<td>2 hours 32 minutes</td>\n",
       "</tr>\n",
       "<tr>\n",
       "<td>202</td>\n",
       "<td>3 hours 22 minutes</td>\n",
       "</tr>\n",
       "<tr>\n",
       "<td>96</td>\n",
       "<td>1 hours 36 minutes</td>\n",
       "</tr>\n",
       "</table>\n",
       "5 rows in set (0.00 sec)"
      ],
      "text/plain": [
       "+---------+--------------------+\n",
       "| runtime | hours_minutes      |\n",
       "+---------+--------------------+\n",
       "| 142     | 2 hours 22 minutes |\n",
       "+---------+--------------------+\n",
       "| 175     | 2 hours 55 minutes |\n",
       "+---------+--------------------+\n",
       "| 152     | 2 hours 32 minutes |\n",
       "+---------+--------------------+\n",
       "| 202     | 3 hours 22 minutes |\n",
       "+---------+--------------------+\n",
       "| 96      | 1 hours 36 minutes |\n",
       "+---------+--------------------+\n",
       "5 rows in set (0.00 sec)"
      ]
     },
     "execution_count": 9,
     "metadata": {},
     "output_type": "execute_result"
    }
   ],
   "source": [
    "SELECT runtime,\n",
    "       (runtime / 60) || ' hours ' || (runtime % 60) || ' minutes' AS hours_minutes\n",
    "  FROM movies\n",
    " LIMIT 5;"
   ]
  },
  {
   "cell_type": "markdown",
   "id": "e67019aa",
   "metadata": {},
   "source": [
    "由於 `runtime / 60` 與 `runtime % 60` 是整數的資料類別，使用文字運算符的同時產生了隱性類別轉換，如果想明確宣告類別轉換，就使用保留字 `CAST`。\n",
    "\n",
    "```sql\n",
    "SELECT CAST(constants/columns AS datatype)\n",
    "  FROM table;\n",
    "```"
   ]
  },
  {
   "cell_type": "code",
   "execution_count": 10,
   "id": "08ebedf3",
   "metadata": {},
   "outputs": [
    {
     "data": {
      "text/html": [
       "<table>\n",
       "<tr>\n",
       "<th>hours</th>\n",
       "<th>typeof_hours</th>\n",
       "<th>hours_text</th>\n",
       "<th>typeof_hours_text</th>\n",
       "</tr>\n",
       "<tr>\n",
       "<td>2</td>\n",
       "<td>integer</td>\n",
       "<td>2</td>\n",
       "<td>text</td>\n",
       "</tr>\n",
       "<tr>\n",
       "<td>2</td>\n",
       "<td>integer</td>\n",
       "<td>2</td>\n",
       "<td>text</td>\n",
       "</tr>\n",
       "<tr>\n",
       "<td>2</td>\n",
       "<td>integer</td>\n",
       "<td>2</td>\n",
       "<td>text</td>\n",
       "</tr>\n",
       "<tr>\n",
       "<td>3</td>\n",
       "<td>integer</td>\n",
       "<td>3</td>\n",
       "<td>text</td>\n",
       "</tr>\n",
       "<tr>\n",
       "<td>1</td>\n",
       "<td>integer</td>\n",
       "<td>1</td>\n",
       "<td>text</td>\n",
       "</tr>\n",
       "</table>\n",
       "5 rows in set (0.00 sec)"
      ],
      "text/plain": [
       "+-------+--------------+------------+-------------------+\n",
       "| hours | typeof_hours | hours_text | typeof_hours_text |\n",
       "+-------+--------------+------------+-------------------+\n",
       "| 2     | integer      | 2          | text              |\n",
       "+-------+--------------+------------+-------------------+\n",
       "| 2     | integer      | 2          | text              |\n",
       "+-------+--------------+------------+-------------------+\n",
       "| 2     | integer      | 2          | text              |\n",
       "+-------+--------------+------------+-------------------+\n",
       "| 3     | integer      | 3          | text              |\n",
       "+-------+--------------+------------+-------------------+\n",
       "| 1     | integer      | 1          | text              |\n",
       "+-------+--------------+------------+-------------------+\n",
       "5 rows in set (0.00 sec)"
      ]
     },
     "execution_count": 10,
     "metadata": {},
     "output_type": "execute_result"
    }
   ],
   "source": [
    "SELECT runtime / 60 AS hours,\n",
    "       TYPEOF(runtime / 60) AS typeof_hours,\n",
    "       CAST(runtime / 60 AS text) AS hours_text,               -- convert datatype explicitly\n",
    "       TYPEOF(CAST(runtime / 60 AS text)) AS typeof_hours_text -- check datatype conversion\n",
    "  FROM movies\n",
    " LIMIT 5;"
   ]
  },
  {
   "cell_type": "markdown",
   "id": "29d48453",
   "metadata": {
    "slideshow": {
     "slide_type": "slide"
    }
   },
   "source": [
    "## 關係運算符\n",
    "\n",
    "針對常數或欄位可以使用關係運算符衍生計算欄位，應用後會得到 0（布林值 False）或 1（布林值 True）兩者其中之一，基礎的關係運算符有：\n",
    "\n",
    "|關係運算符|作用描述|\n",
    "|:-------|:------|\n",
    "|`=`|相等|\n",
    "|`!=`|不相等|\n",
    "|`>`|大於|\n",
    "|`>=`|大於等於|\n",
    "|`<`|小於|\n",
    "|`<=`|小於等於|\n",
    "|`LIKE`|相似|\n",
    "|`IN`|存在於|\n",
    "|`BETWEEN lower_bound AND upper_bound`|大於等於 `lower_bound` 且小於等於 `upper_bound`|\n",
    "|`IS NULL`|是否為空值|"
   ]
  },
  {
   "cell_type": "code",
   "execution_count": 11,
   "id": "8200891d",
   "metadata": {},
   "outputs": [
    {
     "data": {
      "text/html": [
       "<table>\n",
       "<tr>\n",
       "<th>False</th>\n",
       "<th>True</th>\n",
       "<th>False</th>\n",
       "<th>True</th>\n",
       "<th>False</th>\n",
       "<th>True</th>\n",
       "<th>True</th>\n",
       "<th>False</th>\n",
       "<th>True</th>\n",
       "<th>True</th>\n",
       "<th>True</th>\n",
       "</tr>\n",
       "<tr>\n",
       "<td>0</td>\n",
       "<td>1</td>\n",
       "<td>0</td>\n",
       "<td>1</td>\n",
       "<td>0</td>\n",
       "<td>1</td>\n",
       "<td>1</td>\n",
       "<td>0</td>\n",
       "<td>1</td>\n",
       "<td>1</td>\n",
       "<td>1</td>\n",
       "</tr>\n",
       "</table>\n",
       "1 row in set (0.00 sec)"
      ],
      "text/plain": [
       "+-------+------+-------+------+-------+------+------+-------+------+------+------+\n",
       "| False | True | False | True | False | True | True | False | True | True | True |\n",
       "+-------+------+-------+------+-------+------+------+-------+------+------+------+\n",
       "| 0     | 1    | 0     | 1    | 0     | 1    | 1    | 0     | 1    | 1    | 1    |\n",
       "+-------+------+-------+------+-------+------+------+-------+------+------+------+\n",
       "1 row in set (0.00 sec)"
      ]
     },
     "execution_count": 11,
     "metadata": {},
     "output_type": "execute_result"
    }
   ],
   "source": [
    "SELECT 55 = 66 AS False,\n",
    "       55 != 66 AS True,\n",
    "       55 > 55 AS False,\n",
    "       55 >= 55 AS True,\n",
    "       66 < 66 AS False,\n",
    "       66 <= 66 AS True,\n",
    "       'Apple' LIKE 'A%' AS True,\n",
    "       'Banana' LIKE 'A%' AS False,\n",
    "       'A' IN ('A', 'B', 'C') AS True,\n",
    "       59 BETWEEN 55 AND 66 AS True,\n",
    "       NULL IS NULL AS True;"
   ]
  },
  {
   "cell_type": "markdown",
   "id": "686dff1a",
   "metadata": {},
   "source": [
    "其中值得注意的是 `LIKE` 關係運算符，作用是文字特徵的判斷，會搭配萬用字元（Wildcards）使用，這裡我們使用了 `'%'` 萬用字元代表「任意文字、長短不拘」這樣的特徵；值得注意的還有 `IS NULL` 關係運算符，作用是判斷空值 `NULL` 是否存在。關係運算符在後續的「篩選觀測值」以及「條件邏輯」的章節中佔有舉足輕重的地位，我們屆時會再複習以及更詳細地解說。\n",
    "\n",
    "除了常數，我們也能運用關係運算符於資料表的欄位，這時所形成的 0（布林值 `False`）或 1（布林值 `True`）就會隨著列數而產生基於列（Row-wise）的運算。"
   ]
  },
  {
   "cell_type": "code",
   "execution_count": 12,
   "id": "13ac6954",
   "metadata": {},
   "outputs": [
    {
     "data": {
      "text/html": [
       "<table>\n",
       "<tr>\n",
       "<th>rating_is_high</th>\n",
       "<th>is_directed_by_steven_spielberg</th>\n",
       "<th>is_specific_movie</th>\n",
       "</tr>\n",
       "<tr>\n",
       "<td>1</td>\n",
       "<td>0</td>\n",
       "<td>1</td>\n",
       "</tr>\n",
       "<tr>\n",
       "<td>1</td>\n",
       "<td>0</td>\n",
       "<td>0</td>\n",
       "</tr>\n",
       "<tr>\n",
       "<td>1</td>\n",
       "<td>0</td>\n",
       "<td>1</td>\n",
       "</tr>\n",
       "<tr>\n",
       "<td>1</td>\n",
       "<td>0</td>\n",
       "<td>0</td>\n",
       "</tr>\n",
       "<tr>\n",
       "<td>1</td>\n",
       "<td>0</td>\n",
       "<td>0</td>\n",
       "</tr>\n",
       "<tr>\n",
       "<td>1</td>\n",
       "<td>1</td>\n",
       "<td>0</td>\n",
       "</tr>\n",
       "<tr>\n",
       "<td>1</td>\n",
       "<td>0</td>\n",
       "<td>0</td>\n",
       "</tr>\n",
       "<tr>\n",
       "<td>0</td>\n",
       "<td>0</td>\n",
       "<td>0</td>\n",
       "</tr>\n",
       "<tr>\n",
       "<td>0</td>\n",
       "<td>0</td>\n",
       "<td>0</td>\n",
       "</tr>\n",
       "<tr>\n",
       "<td>0</td>\n",
       "<td>0</td>\n",
       "<td>0</td>\n",
       "</tr>\n",
       "</table>\n",
       "10 rows in set (0.00 sec)"
      ],
      "text/plain": [
       "+----------------+---------------------------------+-------------------+\n",
       "| rating_is_high | is_directed_by_steven_spielberg | is_specific_movie |\n",
       "+----------------+---------------------------------+-------------------+\n",
       "| 1              | 0                               | 1                 |\n",
       "+----------------+---------------------------------+-------------------+\n",
       "| 1              | 0                               | 0                 |\n",
       "+----------------+---------------------------------+-------------------+\n",
       "| 1              | 0                               | 1                 |\n",
       "+----------------+---------------------------------+-------------------+\n",
       "| 1              | 0                               | 0                 |\n",
       "+----------------+---------------------------------+-------------------+\n",
       "| 1              | 0                               | 0                 |\n",
       "+----------------+---------------------------------+-------------------+\n",
       "| 1              | 1                               | 0                 |\n",
       "+----------------+---------------------------------+-------------------+\n",
       "| 1              | 0                               | 0                 |\n",
       "+----------------+---------------------------------+-------------------+\n",
       "| 0              | 0                               | 0                 |\n",
       "+----------------+---------------------------------+-------------------+\n",
       "| 0              | 0                               | 0                 |\n",
       "+----------------+---------------------------------+-------------------+\n",
       "| 0              | 0                               | 0                 |\n",
       "+----------------+---------------------------------+-------------------+\n",
       "10 rows in set (0.00 sec)"
      ]
     },
     "execution_count": 12,
     "metadata": {},
     "output_type": "execute_result"
    }
   ],
   "source": [
    "SELECT rating >= 9 AS rating_is_high,\n",
    "       director == 'Steven Spielberg' AS is_directed_by_steven_spielberg,\n",
    "       title IN ('The Shawshank Redemption', 'The Dark Knight') AS is_specific_movie\n",
    "  FROM movies\n",
    " LIMIT 10;"
   ]
  },
  {
   "cell_type": "markdown",
   "id": "3e24765f",
   "metadata": {
    "slideshow": {
     "slide_type": "slide"
    }
   },
   "source": [
    "## 邏輯運算符\n",
    "\n",
    "針對常數或欄位可以使用邏輯運算符衍生計算欄位，應用在資料類別屬於 0（布林值 `False`）或 1（布林值 `True`）的敘述、常數或欄位，運算結果為布林值，基礎的邏輯運算符有：\n",
    "\n",
    "|邏輯運算符|作用描述|\n",
    "|:-------|:------|\n",
    "|`AND`|和，交集|\n",
    "|`OR`|或，聯集|\n",
    "|`NOT`|反轉布林值，將 0（布林值 `False`）與 1（布林值 `True`）互換|"
   ]
  },
  {
   "cell_type": "code",
   "execution_count": 13,
   "id": "fbb7f686",
   "metadata": {},
   "outputs": [
    {
     "data": {
      "text/html": [
       "<table>\n",
       "<tr>\n",
       "<th>False</th>\n",
       "<th>False</th>\n",
       "<th>True</th>\n",
       "<th>False</th>\n",
       "<th>True</th>\n",
       "<th>True</th>\n",
       "<th>False</th>\n",
       "<th>True</th>\n",
       "<th>False</th>\n",
       "<th>False</th>\n",
       "<th>False</th>\n",
       "</tr>\n",
       "<tr>\n",
       "<td>0</td>\n",
       "<td>0</td>\n",
       "<td>1</td>\n",
       "<td>0</td>\n",
       "<td>1</td>\n",
       "<td>1</td>\n",
       "<td>0</td>\n",
       "<td>1</td>\n",
       "<td>0</td>\n",
       "<td>0</td>\n",
       "<td>0</td>\n",
       "</tr>\n",
       "</table>\n",
       "1 row in set (0.00 sec)"
      ],
      "text/plain": [
       "+-------+-------+------+-------+------+------+-------+------+-------+-------+-------+\n",
       "| False | False | True | False | True | True | False | True | False | False | False |\n",
       "+-------+-------+------+-------+------+------+-------+------+-------+-------+-------+\n",
       "| 0     | 0     | 1    | 0     | 1    | 1    | 0     | 1    | 0     | 0     | 0     |\n",
       "+-------+-------+------+-------+------+------+-------+------+-------+-------+-------+\n",
       "1 row in set (0.00 sec)"
      ]
     },
     "execution_count": 13,
     "metadata": {},
     "output_type": "execute_result"
    }
   ],
   "source": [
    "SELECT 0 AND 0 AS False,\n",
    "       0 AND 1 AS False,\n",
    "       1 AND 1 AS True,\n",
    "       0 OR 0 AS False,\n",
    "       0 OR 1 AS True,\n",
    "       1 OR 1 AS True,\n",
    "       'Apple' NOT LIKE 'A%' AS False,\n",
    "       'Banana' NOT LIKE 'A%' AS True,\n",
    "       'A' NOT IN ('A', 'B', 'C') AS False,\n",
    "       59 NOT BETWEEN 55 AND 66 AS False,\n",
    "       NULL IS NOT NULL AS False;"
   ]
  },
  {
   "cell_type": "markdown",
   "id": "90e2d4ad",
   "metadata": {},
   "source": [
    "除了常數，我們也能運用邏輯運算符於資料表的欄位，這時所形成的 0（布林值 `False`）或 1（布林值 `True`）就會隨著列數而產生基於列（Row-wise）的運算。"
   ]
  },
  {
   "cell_type": "code",
   "execution_count": 14,
   "id": "50211926",
   "metadata": {},
   "outputs": [
    {
     "data": {
      "text/html": [
       "<table>\n",
       "<tr>\n",
       "<th>rating_is_high_and_released_before_millennium</th>\n",
       "<th>is_directed_by_steven_spielberg_or_christopher_nolan</th>\n",
       "<th>is_specific_movie</th>\n",
       "</tr>\n",
       "<tr>\n",
       "<td>1</td>\n",
       "<td>0</td>\n",
       "<td>1</td>\n",
       "</tr>\n",
       "<tr>\n",
       "<td>1</td>\n",
       "<td>0</td>\n",
       "<td>0</td>\n",
       "</tr>\n",
       "<tr>\n",
       "<td>0</td>\n",
       "<td>1</td>\n",
       "<td>1</td>\n",
       "</tr>\n",
       "<tr>\n",
       "<td>1</td>\n",
       "<td>0</td>\n",
       "<td>0</td>\n",
       "</tr>\n",
       "<tr>\n",
       "<td>1</td>\n",
       "<td>0</td>\n",
       "<td>0</td>\n",
       "</tr>\n",
       "<tr>\n",
       "<td>1</td>\n",
       "<td>1</td>\n",
       "<td>0</td>\n",
       "</tr>\n",
       "<tr>\n",
       "<td>0</td>\n",
       "<td>0</td>\n",
       "<td>0</td>\n",
       "</tr>\n",
       "<tr>\n",
       "<td>0</td>\n",
       "<td>0</td>\n",
       "<td>0</td>\n",
       "</tr>\n",
       "<tr>\n",
       "<td>0</td>\n",
       "<td>0</td>\n",
       "<td>0</td>\n",
       "</tr>\n",
       "<tr>\n",
       "<td>0</td>\n",
       "<td>0</td>\n",
       "<td>0</td>\n",
       "</tr>\n",
       "</table>\n",
       "10 rows in set (0.00 sec)"
      ],
      "text/plain": [
       "+-----------------------------------------------+------------------------------------------------------+-------------------+\n",
       "| rating_is_high_and_released_before_millennium | is_directed_by_steven_spielberg_or_christopher_nolan | is_specific_movie |\n",
       "+-----------------------------------------------+------------------------------------------------------+-------------------+\n",
       "| 1                                             | 0                                                    | 1                 |\n",
       "+-----------------------------------------------+------------------------------------------------------+-------------------+\n",
       "| 1                                             | 0                                                    | 0                 |\n",
       "+-----------------------------------------------+------------------------------------------------------+-------------------+\n",
       "| 0                                             | 1                                                    | 1                 |\n",
       "+-----------------------------------------------+------------------------------------------------------+-------------------+\n",
       "| 1                                             | 0                                                    | 0                 |\n",
       "+-----------------------------------------------+------------------------------------------------------+-------------------+\n",
       "| 1                                             | 0                                                    | 0                 |\n",
       "+-----------------------------------------------+------------------------------------------------------+-------------------+\n",
       "| 1                                             | 1                                                    | 0                 |\n",
       "+-----------------------------------------------+------------------------------------------------------+-------------------+\n",
       "| 0                                             | 0                                                    | 0                 |\n",
       "+-----------------------------------------------+------------------------------------------------------+-------------------+\n",
       "| 0                                             | 0                                                    | 0                 |\n",
       "+-----------------------------------------------+------------------------------------------------------+-------------------+\n",
       "| 0                                             | 0                                                    | 0                 |\n",
       "+-----------------------------------------------+------------------------------------------------------+-------------------+\n",
       "| 0                                             | 0                                                    | 0                 |\n",
       "+-----------------------------------------------+------------------------------------------------------+-------------------+\n",
       "10 rows in set (0.00 sec)"
      ]
     },
     "execution_count": 14,
     "metadata": {},
     "output_type": "execute_result"
    }
   ],
   "source": [
    "SELECT rating >= 9 AND release_year < 2000 AS rating_is_high_and_released_before_millennium,\n",
    "       director == 'Steven Spielberg' OR\n",
    "       director == 'Christopher Nolan' AS is_directed_by_steven_spielberg_or_christopher_nolan,\n",
    "       title == 'The Shawshank Redemption' OR\n",
    "       title == 'The Dark Knight' AS is_specific_movie\n",
    "  FROM movies\n",
    " LIMIT 10;"
   ]
  },
  {
   "cell_type": "markdown",
   "id": "computational-africa",
   "metadata": {
    "slideshow": {
     "slide_type": "slide"
    }
   },
   "source": [
    "關係運算符與邏輯運算符在後續的「從資料表篩選」以及「條件邏輯」的章節中佔有舉足輕重的地位，我們屆時會再複習並更詳細地解說。\n",
    "\n",
    "## 重點統整\n",
    "\n",
    "- 運算符區分為：\n",
    "    - 數值運算符：應用在資料類別為整數或浮點數的常數或欄位，運算結果為數值。\n",
    "    - 文字運算符：應用在資料類別為文字的常數或欄位，運算結果為文字。\n",
    "    - 關係運算符：應用會得到條件判斷結果 0（布林值 `False`）或 1（布林值 `True`）兩者其中之一。\n",
    "    - 邏輯運算符：應用在資料類別屬於 0（布林值 `False`）或 1（布林值 `True`）的敘述、常數或欄位，運算結果為布林值。\n",
    "- 這個章節學起來的 SQL 保留字：\n",
    "    - `CAST`\n",
    "    - `LIKE`\n",
    "    - `IN`\n",
    "    - `BETWEEN lower_bound AND upper_bound`\n",
    "    - `IS NULL`\n",
    "    - `AND`\n",
    "    - `OR`\n",
    "    - `NOT`\n",
    "- 將截至目前所學的 SQL 保留字集中在一個敘述中，寫作順序必須遵從標準 SQL 的規定。\n",
    "\n",
    "```sql\n",
    "SELECT DISTINCT columns AS alias\n",
    "  FROM table\n",
    " LIMIT m;\n",
    "```\n",
    "\n",
    "## 練習題 06-08\n",
    "\n",
    "練習題會涵蓋四個學習資料庫，記得要依據題目的需求，調整編輯器選單的學習資料庫，在自己電腦的 SQLiteStudio 寫出跟預期輸出相同的 SQL 敘述，寫作過程如果卡關了，可以參考附錄二「練習題參考解答」。\n",
    "\n",
    "### 06. 從 `covid19` 資料庫的 `daily_report` 資料表根據 `Confirmed`、`Deaths` 欄位以及下列公式衍生計算欄位 `Fatality_Ratio`，參考下列的預期查詢結果。\n",
    "\n",
    "\\begin{equation}\n",
    "\\text{Fatality_Ratio} = \\frac{\\text{Deaths}}{\\text{Confirmed}}\n",
    "\\end{equation}\n",
    "\n",
    "預期輸出：(4011, 3) 的查詢結果。\n",
    "\n",
    "```\n",
    "Confirmed\tDeaths\tFatality_Ratio\n",
    "180347\t7705\t0.04272319473016\n",
    "276101\t3497\t0.0126656549596\n",
    "265884\t6875\t0.02585714070798\n",
    "42894\t153\t0.0035669324381\n",
    "99761\t1900\t0.01904551878991\n",
    "...\n",
    "```\n",
    "\n",
    "### 07. 從 `nba` 資料庫的 `players` 資料表依據 `heightMeters`、`weightKilograms` 欄位以及下列公式衍生計算欄位 `bmi`，參考下列的預期查詢結果。\n",
    "\n",
    "\\begin{equation}\n",
    "BMI = \\frac{weight_{kg}}{height_{m}^2}\n",
    "\\end{equation}\n",
    "\n",
    "預期輸出：(506, 3) 的查詢結果。\n",
    "\n",
    "```\n",
    "heightMeters\tweightKilograms\tbmi\n",
    "2.06\t113.4\t26.72259402394194\n",
    "2.01\t108\t26.73201158387169\n",
    "2.03\t106.6\t25.86813560144629\n",
    "2.08\t120.2\t27.78291420118343\n",
    "1.98\t97.5\t24.8699112335476\n",
    "...\n",
    "```\n",
    "\n",
    "### 08. 從 `nba` 資料庫的 `teams` 資料表連接 `confName`、`divName` 欄位後使用 `DISTINCT` 去除重複值，參考下列的預期查詢結果。\n",
    "\n",
    "預期輸出：(6, 1) 的查詢結果。\n",
    "\n",
    "```\n",
    "conf_div\n",
    "East, Southeast\n",
    "East, Atlantic\n",
    "East, Central\n",
    "West, Southwest\n",
    "West, Northwest\n",
    "West, Pacific\n",
    "```"
   ]
  }
 ],
 "metadata": {
  "kernelspec": {
   "display_name": "xsql",
   "language": "sqlite",
   "name": "xsql"
  },
  "language_info": {
   "codemirror_mode": "sql",
   "file_extension": "",
   "mimetype": "",
   "name": "mysql",
   "version": "0.1.4"
  }
 },
 "nbformat": 4,
 "nbformat_minor": 5
}
