{
  "cells": [
    {
      "cell_type": "markdown",
      "metadata": {
        "id": "view-in-github",
        "colab_type": "text"
      },
      "source": [
        "<a href=\"https://colab.research.google.com/github/ccwu0918/book-sqlfifty/blob/main/appx01-schema/appx01-schema.ipynb\" target=\"_parent\"><img src=\"https://colab.research.google.com/assets/colab-badge.svg\" alt=\"Open In Colab\"/></a>"
      ]
    },
    {
      "cell_type": "markdown",
      "id": "lightweight-fruit",
      "metadata": {
        "id": "lightweight-fruit"
      },
      "source": [
        "# SQL 的五十道練習：初學者友善的資料庫入門\n",
        "\n",
        "> 附錄一：學習資料庫綱要"
      ]
    },
    {
      "cell_type": "code",
      "source": [
        "!pip install SQLAlchemy==1.4.46"
      ],
      "metadata": {
        "id": "e6QyoZr5DC1R"
      },
      "id": "e6QyoZr5DC1R",
      "execution_count": null,
      "outputs": []
    },    
    {
      "cell_type": "code",
      "source": [
        "!git clone https://github.com/datainpoint/book-sqlfifty"
      ],
      "metadata": {
        "colab": {
          "base_uri": "https://localhost:8080/"
        },
        "id": "ZNKBMbIzJIDY",
        "outputId": "59f7f792-0f3a-4861-a19a-c1b3a1189747"
      },
      "id": "ZNKBMbIzJIDY",
      "execution_count": null,
      "outputs": [
        {
          "output_type": "stream",
          "name": "stdout",
          "text": [
            "Cloning into 'book-sqlfifty'...\n",
            "remote: Enumerating objects: 186, done.\u001b[K\n",
            "remote: Counting objects: 100% (186/186), done.\u001b[K\n",
            "remote: Compressing objects: 100% (122/122), done.\u001b[K\n",
            "remote: Total 186 (delta 54), reused 173 (delta 44), pack-reused 0\u001b[K\n",
            "Receiving objects: 100% (186/186), 28.90 MiB | 5.50 MiB/s, done.\n",
            "Resolving deltas: 100% (54/54), done.\n"
          ]
        }
      ]
    },
    {
      "cell_type": "code",
      "source": [
        "%cd book-sqlfifty"
      ],
      "metadata": {
        "colab": {
          "base_uri": "https://localhost:8080/"
        },
        "id": "2L8Q3dXeJZ1Q",
        "outputId": "9cdaa45c-b779-4cb2-d4da-c1b8ec426e90"
      },
      "id": "2L8Q3dXeJZ1Q",
      "execution_count": null,
      "outputs": [
        {
          "output_type": "stream",
          "name": "stdout",
          "text": [
            "/content/book-sqlfifty\n"
          ]
        }
      ]
    },
    {
      "cell_type": "code",
      "source": [
        "# %%capture\n",
        "%load_ext sql"
      ],
      "metadata": {
        "id": "vGcipWYUKBmO"
      },
      "id": "vGcipWYUKBmO",
      "execution_count": null,
      "outputs": []
    },
    {
      "cell_type": "code",
      "source": [
        "import sqlite3\n",
        "\n",
        "conn = sqlite3.connect('../databases/imdb.db')\n",
        "\n",
        "cur = conn.cursor()\n",
        "cur.execute(\"SELECT * FROM sqlite_master WHERE type='table'\")\n",
        "\n",
        "rows = cur.fetchall()\n",
        "for row in rows:\n",
        "    print(row)\n",
        "conn.close()"
      ],
      "metadata": {
        "id": "Fbzvj8IHKaIJ",
        "outputId": "224aabce-88c8-40b8-ad42-68cd9540ffac",
        "colab": {
          "base_uri": "https://localhost:8080/"
        }
      },
      "id": "Fbzvj8IHKaIJ",
      "execution_count": null,
      "outputs": [
        {
          "output_type": "stream",
          "name": "stdout",
          "text": [
            "('table', 'movies', 'movies', 41, 'CREATE TABLE movies (\\n    id INTEGER,\\n    title TEXT,\\n    release_year INTEGER,\\n    rating REAL,\\n    director TEXT,\\n    runtime int,\\n    PRIMARY KEY (id)\\n)')\n",
            "('table', 'actors', 'actors', 46, 'CREATE TABLE actors (\\n    id INTEGER,\\n    name TEXT,\\n    PRIMARY KEY (id)\\n)')\n",
            "('table', 'casting', 'casting', 64, 'CREATE TABLE casting (\\n    movie_id INTEGER,\\n    actor_id INTEGER,\\n    ord INTEGER,\\n    FOREIGN KEY (movie_id) REFERENCES movies (id) \\n            ON DELETE CASCADE ON UPDATE NO ACTION\\n    FOREIGN KEY (actor_id) REFERENCES actors (id) \\n            ON DELETE CASCADE ON UPDATE NO ACTION\\n)')\n"
          ]
        }
      ]
    },
    {
      "cell_type": "code",
      "source": [
        "%sql sqlite:///databases/imdb.db"
      ],
      "metadata": {
        "id": "YeYsklCrKJPk",
        "outputId": "336248b5-957a-4de3-b3f1-fbb4b48cb5fb",
        "colab": {
          "base_uri": "https://localhost:8080/",
          "height": 35
        }
      },
      "id": "YeYsklCrKJPk",
      "execution_count": null,
      "outputs": [
        {
          "output_type": "execute_result",
          "data": {
            "text/plain": [
              "'Connected: @databases/imdb.db'"
            ],
            "application/vnd.google.colaboratory.intrinsic+json": {
              "type": "string"
            }
          },
          "metadata": {},
          "execution_count": 15
        }
      ]
    },
    {
      "cell_type": "code",
      "execution_count": null,
      "id": "de6cc691",
      "metadata": {
        "id": "de6cc691"
      },
      "outputs": [],
      "source": [
        "# %LOAD sqlite3 db=../databases/imdb.db timeout=2 shared_cache=true"
      ]
    },
    {
      "cell_type": "code",
      "execution_count": null,
      "id": "9bcc07d8",
      "metadata": {
        "id": "9bcc07d8"
      },
      "outputs": [],
      "source": [
        "%%sql\n",
        "ATTACH \"./databases/nba.db\" AS nba;\n",
        "ATTACH \"./databases/twElection2020.db\" AS twElection2020;\n",
        "ATTACH \"./databases/covid19.db\" AS covid19;"
      ]
    },
    {
      "cell_type": "markdown",
      "id": "838451a6",
      "metadata": {
        "id": "838451a6"
      },
      "source": [
        "## 學習資料庫 `covid19`\n",
        "\n",
        "![](https://github.com/ccwu0918/book-sqlfifty/blob/main/images/covid19-erd.png?raw=1)"
      ]
    },
    {
      "cell_type": "code",
      "execution_count": null,
      "id": "9e3b1e0f",
      "metadata": {
        "colab": {
          "base_uri": "https://localhost:8080/",
          "height": 161
        },
        "id": "9e3b1e0f",
        "outputId": "05defcef-459e-4091-fe67-6fcf93fed910"
      },
      "outputs": [
        {
          "output_type": "stream",
          "name": "stdout",
          "text": [
            " * sqlite:///databases/imdb.db\n",
            "Done.\n"
          ]
        },
        {
          "output_type": "execute_result",
          "data": {
            "text/plain": [
              "[('Combined_Key', 'TEXT', 1),\n",
              " ('Confirmed', 'INTEGER', 0),\n",
              " ('Deaths', 'INTEGER', 0),\n",
              " ('Last_Update', 'TEXT', 0)]"
            ],
            "text/html": [
              "<table>\n",
              "    <thead>\n",
              "        <tr>\n",
              "            <th>name</th>\n",
              "            <th>type</th>\n",
              "            <th>pk</th>\n",
              "        </tr>\n",
              "    </thead>\n",
              "    <tbody>\n",
              "        <tr>\n",
              "            <td>Combined_Key</td>\n",
              "            <td>TEXT</td>\n",
              "            <td>1</td>\n",
              "        </tr>\n",
              "        <tr>\n",
              "            <td>Confirmed</td>\n",
              "            <td>INTEGER</td>\n",
              "            <td>0</td>\n",
              "        </tr>\n",
              "        <tr>\n",
              "            <td>Deaths</td>\n",
              "            <td>INTEGER</td>\n",
              "            <td>0</td>\n",
              "        </tr>\n",
              "        <tr>\n",
              "            <td>Last_Update</td>\n",
              "            <td>TEXT</td>\n",
              "            <td>0</td>\n",
              "        </tr>\n",
              "    </tbody>\n",
              "</table>"
            ]
          },
          "metadata": {},
          "execution_count": 22
        }
      ],
      "source": [
        "%%sql\n",
        "SELECT name,\n",
        "    type,\n",
        "    pk\n",
        "FROM PRAGMA_TABLE_INFO('daily_report')\n",
        "ORDER BY name;"
      ]
    },
    {
      "cell_type": "code",
      "execution_count": null,
      "id": "21ee3697",
      "metadata": {
        "colab": {
          "base_uri": "https://localhost:8080/",
          "height": 289
        },
        "id": "21ee3697",
        "outputId": "6c96a8e8-514a-4bdc-fa12-9f8fe6ff882b"
      },
      "outputs": [
        {
          "output_type": "stream",
          "name": "stdout",
          "text": [
            " * sqlite:///databases/imdb.db\n",
            "Done.\n"
          ]
        },
        {
          "output_type": "execute_result",
          "data": {
            "text/plain": [
              "[('Admin2', 'TEXT', 0),\n",
              " ('Combined_Key', 'TEXT', 0),\n",
              " ('Country_Region', 'TEXT', 0),\n",
              " ('Lat', 'REAL', 0),\n",
              " ('Long_', 'REAL', 0),\n",
              " ('Population', 'INTEGER', 0),\n",
              " ('Province_State', 'TEXT', 0),\n",
              " ('UID', 'INTEGER', 1),\n",
              " ('iso2', 'TEXT', 0),\n",
              " ('iso3', 'TEXT', 0)]"
            ],
            "text/html": [
              "<table>\n",
              "    <thead>\n",
              "        <tr>\n",
              "            <th>name</th>\n",
              "            <th>type</th>\n",
              "            <th>pk</th>\n",
              "        </tr>\n",
              "    </thead>\n",
              "    <tbody>\n",
              "        <tr>\n",
              "            <td>Admin2</td>\n",
              "            <td>TEXT</td>\n",
              "            <td>0</td>\n",
              "        </tr>\n",
              "        <tr>\n",
              "            <td>Combined_Key</td>\n",
              "            <td>TEXT</td>\n",
              "            <td>0</td>\n",
              "        </tr>\n",
              "        <tr>\n",
              "            <td>Country_Region</td>\n",
              "            <td>TEXT</td>\n",
              "            <td>0</td>\n",
              "        </tr>\n",
              "        <tr>\n",
              "            <td>Lat</td>\n",
              "            <td>REAL</td>\n",
              "            <td>0</td>\n",
              "        </tr>\n",
              "        <tr>\n",
              "            <td>Long_</td>\n",
              "            <td>REAL</td>\n",
              "            <td>0</td>\n",
              "        </tr>\n",
              "        <tr>\n",
              "            <td>Population</td>\n",
              "            <td>INTEGER</td>\n",
              "            <td>0</td>\n",
              "        </tr>\n",
              "        <tr>\n",
              "            <td>Province_State</td>\n",
              "            <td>TEXT</td>\n",
              "            <td>0</td>\n",
              "        </tr>\n",
              "        <tr>\n",
              "            <td>UID</td>\n",
              "            <td>INTEGER</td>\n",
              "            <td>1</td>\n",
              "        </tr>\n",
              "        <tr>\n",
              "            <td>iso2</td>\n",
              "            <td>TEXT</td>\n",
              "            <td>0</td>\n",
              "        </tr>\n",
              "        <tr>\n",
              "            <td>iso3</td>\n",
              "            <td>TEXT</td>\n",
              "            <td>0</td>\n",
              "        </tr>\n",
              "    </tbody>\n",
              "</table>"
            ]
          },
          "metadata": {},
          "execution_count": 23
        }
      ],
      "source": [
        "%%sql\n",
        "SELECT name,\n",
        "    type,\n",
        "    pk\n",
        "FROM PRAGMA_TABLE_INFO('lookup_table')\n",
        "ORDER BY name;"
      ]
    },
    {
      "cell_type": "code",
      "execution_count": null,
      "id": "36c64a2e",
      "metadata": {
        "colab": {
          "base_uri": "https://localhost:8080/",
          "height": 203
        },
        "id": "36c64a2e",
        "outputId": "dc0c7e82-f5a1-4299-c966-df6aaf2bd770"
      },
      "outputs": [
        {
          "output_type": "stream",
          "name": "stdout",
          "text": [
            " * sqlite:///databases/imdb.db\n",
            "Done.\n"
          ]
        },
        {
          "output_type": "execute_result",
          "data": {
            "text/plain": [
              "[('Confirmed', 'INTEGER', 0),\n",
              " ('Country_Region', 'TEXT', 2),\n",
              " ('Daily_Cases', 'INTEGER', 0),\n",
              " ('Daily_Deaths', 'INTEGER', 0),\n",
              " ('Date', 'TEXT', 1),\n",
              " ('Deaths', 'INTEGER', 0)]"
            ],
            "text/html": [
              "<table>\n",
              "    <thead>\n",
              "        <tr>\n",
              "            <th>name</th>\n",
              "            <th>type</th>\n",
              "            <th>pk</th>\n",
              "        </tr>\n",
              "    </thead>\n",
              "    <tbody>\n",
              "        <tr>\n",
              "            <td>Confirmed</td>\n",
              "            <td>INTEGER</td>\n",
              "            <td>0</td>\n",
              "        </tr>\n",
              "        <tr>\n",
              "            <td>Country_Region</td>\n",
              "            <td>TEXT</td>\n",
              "            <td>2</td>\n",
              "        </tr>\n",
              "        <tr>\n",
              "            <td>Daily_Cases</td>\n",
              "            <td>INTEGER</td>\n",
              "            <td>0</td>\n",
              "        </tr>\n",
              "        <tr>\n",
              "            <td>Daily_Deaths</td>\n",
              "            <td>INTEGER</td>\n",
              "            <td>0</td>\n",
              "        </tr>\n",
              "        <tr>\n",
              "            <td>Date</td>\n",
              "            <td>TEXT</td>\n",
              "            <td>1</td>\n",
              "        </tr>\n",
              "        <tr>\n",
              "            <td>Deaths</td>\n",
              "            <td>INTEGER</td>\n",
              "            <td>0</td>\n",
              "        </tr>\n",
              "    </tbody>\n",
              "</table>"
            ]
          },
          "metadata": {},
          "execution_count": 24
        }
      ],
      "source": [
        "%%sql\n",
        "SELECT name,\n",
        "    type,\n",
        "    pk\n",
        "FROM PRAGMA_TABLE_INFO('time_series')\n",
        "ORDER BY name;"
      ]
    },
    {
      "cell_type": "markdown",
      "id": "e36cce06",
      "metadata": {
        "id": "e36cce06"
      },
      "source": [
        "## 學習資料庫 `imdb`\n",
        "\n",
        "![](https://github.com/ccwu0918/book-sqlfifty/blob/main/images/imdb-erd.png?raw=1)"
      ]
    },
    {
      "cell_type": "code",
      "execution_count": null,
      "id": "08fdd298",
      "metadata": {
        "colab": {
          "base_uri": "https://localhost:8080/",
          "height": 118
        },
        "id": "08fdd298",
        "outputId": "e8b80d7d-2eef-45fb-9bbe-c0789664c983"
      },
      "outputs": [
        {
          "output_type": "stream",
          "name": "stdout",
          "text": [
            " * sqlite:///databases/imdb.db\n",
            "Done.\n"
          ]
        },
        {
          "output_type": "execute_result",
          "data": {
            "text/plain": [
              "[('id', 'INTEGER', 1), ('name', 'TEXT', 0)]"
            ],
            "text/html": [
              "<table>\n",
              "    <thead>\n",
              "        <tr>\n",
              "            <th>name</th>\n",
              "            <th>type</th>\n",
              "            <th>pk</th>\n",
              "        </tr>\n",
              "    </thead>\n",
              "    <tbody>\n",
              "        <tr>\n",
              "            <td>id</td>\n",
              "            <td>INTEGER</td>\n",
              "            <td>1</td>\n",
              "        </tr>\n",
              "        <tr>\n",
              "            <td>name</td>\n",
              "            <td>TEXT</td>\n",
              "            <td>0</td>\n",
              "        </tr>\n",
              "    </tbody>\n",
              "</table>"
            ]
          },
          "metadata": {},
          "execution_count": 25
        }
      ],
      "source": [
        "%%sql\n",
        "SELECT name,\n",
        "    type,\n",
        "    pk\n",
        "FROM PRAGMA_TABLE_INFO('actors')\n",
        "ORDER BY name;"
      ]
    },
    {
      "cell_type": "code",
      "execution_count": null,
      "id": "dd975254",
      "metadata": {
        "colab": {
          "base_uri": "https://localhost:8080/",
          "height": 139
        },
        "id": "dd975254",
        "outputId": "ed156329-2f12-4b1a-b29b-43e7d6f10227"
      },
      "outputs": [
        {
          "output_type": "stream",
          "name": "stdout",
          "text": [
            " * sqlite:///databases/imdb.db\n",
            "Done.\n"
          ]
        },
        {
          "output_type": "execute_result",
          "data": {
            "text/plain": [
              "[('actor_id', 'INTEGER', 0), ('movie_id', 'INTEGER', 0), ('ord', 'INTEGER', 0)]"
            ],
            "text/html": [
              "<table>\n",
              "    <thead>\n",
              "        <tr>\n",
              "            <th>name</th>\n",
              "            <th>type</th>\n",
              "            <th>pk</th>\n",
              "        </tr>\n",
              "    </thead>\n",
              "    <tbody>\n",
              "        <tr>\n",
              "            <td>actor_id</td>\n",
              "            <td>INTEGER</td>\n",
              "            <td>0</td>\n",
              "        </tr>\n",
              "        <tr>\n",
              "            <td>movie_id</td>\n",
              "            <td>INTEGER</td>\n",
              "            <td>0</td>\n",
              "        </tr>\n",
              "        <tr>\n",
              "            <td>ord</td>\n",
              "            <td>INTEGER</td>\n",
              "            <td>0</td>\n",
              "        </tr>\n",
              "    </tbody>\n",
              "</table>"
            ]
          },
          "metadata": {},
          "execution_count": 26
        }
      ],
      "source": [
        "%%sql\n",
        "SELECT name,\n",
        "    type,\n",
        "    pk\n",
        "FROM PRAGMA_TABLE_INFO('casting')\n",
        "ORDER BY name;"
      ]
    },
    {
      "cell_type": "code",
      "execution_count": null,
      "id": "cba589f6",
      "metadata": {
        "colab": {
          "base_uri": "https://localhost:8080/",
          "height": 203
        },
        "id": "cba589f6",
        "outputId": "5f08ffbb-a4dd-4d35-d177-747af19e7ea4"
      },
      "outputs": [
        {
          "output_type": "stream",
          "name": "stdout",
          "text": [
            " * sqlite:///databases/imdb.db\n",
            "Done.\n"
          ]
        },
        {
          "output_type": "execute_result",
          "data": {
            "text/plain": [
              "[('director', 'TEXT', 0),\n",
              " ('id', 'INTEGER', 1),\n",
              " ('rating', 'REAL', 0),\n",
              " ('release_year', 'INTEGER', 0),\n",
              " ('runtime', 'int', 0),\n",
              " ('title', 'TEXT', 0)]"
            ],
            "text/html": [
              "<table>\n",
              "    <thead>\n",
              "        <tr>\n",
              "            <th>name</th>\n",
              "            <th>type</th>\n",
              "            <th>pk</th>\n",
              "        </tr>\n",
              "    </thead>\n",
              "    <tbody>\n",
              "        <tr>\n",
              "            <td>director</td>\n",
              "            <td>TEXT</td>\n",
              "            <td>0</td>\n",
              "        </tr>\n",
              "        <tr>\n",
              "            <td>id</td>\n",
              "            <td>INTEGER</td>\n",
              "            <td>1</td>\n",
              "        </tr>\n",
              "        <tr>\n",
              "            <td>rating</td>\n",
              "            <td>REAL</td>\n",
              "            <td>0</td>\n",
              "        </tr>\n",
              "        <tr>\n",
              "            <td>release_year</td>\n",
              "            <td>INTEGER</td>\n",
              "            <td>0</td>\n",
              "        </tr>\n",
              "        <tr>\n",
              "            <td>runtime</td>\n",
              "            <td>int</td>\n",
              "            <td>0</td>\n",
              "        </tr>\n",
              "        <tr>\n",
              "            <td>title</td>\n",
              "            <td>TEXT</td>\n",
              "            <td>0</td>\n",
              "        </tr>\n",
              "    </tbody>\n",
              "</table>"
            ]
          },
          "metadata": {},
          "execution_count": 27
        }
      ],
      "source": [
        "%%sql\n",
        "SELECT name,\n",
        "    type,\n",
        "    pk\n",
        "FROM PRAGMA_TABLE_INFO('movies')\n",
        "ORDER BY name;"
      ]
    },
    {
      "cell_type": "markdown",
      "id": "76222d7e",
      "metadata": {
        "id": "76222d7e"
      },
      "source": [
        "## 學習資料庫 `nba`\n",
        "\n",
        "![](https://github.com/ccwu0918/book-sqlfifty/blob/main/images/nba-erd.png?raw=1)"
      ]
    },
    {
      "cell_type": "code",
      "execution_count": null,
      "id": "dd5b961f",
      "metadata": {
        "colab": {
          "base_uri": "https://localhost:8080/",
          "height": 737
        },
        "id": "dd5b961f",
        "outputId": "f6574d7f-d64f-4435-faa3-5af1c8567f54"
      },
      "outputs": [
        {
          "output_type": "stream",
          "name": "stdout",
          "text": [
            " * sqlite:///databases/imdb.db\n",
            "Done.\n"
          ]
        },
        {
          "output_type": "execute_result",
          "data": {
            "text/plain": [
              "[('apg', 'REAL', 0),\n",
              " ('assists', 'INTEGER', 0),\n",
              " ('blocks', 'INTEGER', 0),\n",
              " ('bpg', 'REAL', 0),\n",
              " ('dd2', 'INTEGER', 0),\n",
              " ('defReb', 'INTEGER', 0),\n",
              " ('fga', 'INTEGER', 0),\n",
              " ('fgm', 'INTEGER', 0),\n",
              " ('fgp', 'REAL', 0),\n",
              " ('fta', 'INTEGER', 0),\n",
              " ('ftm', 'INTEGER', 0),\n",
              " ('ftp', 'REAL', 0),\n",
              " ('gamesPlayed', 'INTEGER', 0),\n",
              " ('gamesStarted', 'INTEGER', 0),\n",
              " ('min', 'INTEGER', 0),\n",
              " ('mpg', 'REAL', 0),\n",
              " ('offReb', 'INTEGER', 0),\n",
              " ('pFouls', 'INTEGER', 0),\n",
              " ('personId', 'INTEGER', 1),\n",
              " ('plusMinus', 'INTEGER', 0),\n",
              " ('points', 'INTEGER', 0),\n",
              " ('ppg', 'REAL', 0),\n",
              " ('rpg', 'REAL', 0),\n",
              " ('spg', 'REAL', 0),\n",
              " ('steals', 'INTEGER', 0),\n",
              " ('td3', 'INTEGER', 0),\n",
              " ('totReb', 'INTEGER', 0),\n",
              " ('tpa', 'INTEGER', 0),\n",
              " ('tpm', 'INTEGER', 0),\n",
              " ('tpp', 'REAL', 0),\n",
              " ('turnovers', 'INTEGER', 0)]"
            ],
            "text/html": [
              "<table>\n",
              "    <thead>\n",
              "        <tr>\n",
              "            <th>name</th>\n",
              "            <th>type</th>\n",
              "            <th>pk</th>\n",
              "        </tr>\n",
              "    </thead>\n",
              "    <tbody>\n",
              "        <tr>\n",
              "            <td>apg</td>\n",
              "            <td>REAL</td>\n",
              "            <td>0</td>\n",
              "        </tr>\n",
              "        <tr>\n",
              "            <td>assists</td>\n",
              "            <td>INTEGER</td>\n",
              "            <td>0</td>\n",
              "        </tr>\n",
              "        <tr>\n",
              "            <td>blocks</td>\n",
              "            <td>INTEGER</td>\n",
              "            <td>0</td>\n",
              "        </tr>\n",
              "        <tr>\n",
              "            <td>bpg</td>\n",
              "            <td>REAL</td>\n",
              "            <td>0</td>\n",
              "        </tr>\n",
              "        <tr>\n",
              "            <td>dd2</td>\n",
              "            <td>INTEGER</td>\n",
              "            <td>0</td>\n",
              "        </tr>\n",
              "        <tr>\n",
              "            <td>defReb</td>\n",
              "            <td>INTEGER</td>\n",
              "            <td>0</td>\n",
              "        </tr>\n",
              "        <tr>\n",
              "            <td>fga</td>\n",
              "            <td>INTEGER</td>\n",
              "            <td>0</td>\n",
              "        </tr>\n",
              "        <tr>\n",
              "            <td>fgm</td>\n",
              "            <td>INTEGER</td>\n",
              "            <td>0</td>\n",
              "        </tr>\n",
              "        <tr>\n",
              "            <td>fgp</td>\n",
              "            <td>REAL</td>\n",
              "            <td>0</td>\n",
              "        </tr>\n",
              "        <tr>\n",
              "            <td>fta</td>\n",
              "            <td>INTEGER</td>\n",
              "            <td>0</td>\n",
              "        </tr>\n",
              "        <tr>\n",
              "            <td>ftm</td>\n",
              "            <td>INTEGER</td>\n",
              "            <td>0</td>\n",
              "        </tr>\n",
              "        <tr>\n",
              "            <td>ftp</td>\n",
              "            <td>REAL</td>\n",
              "            <td>0</td>\n",
              "        </tr>\n",
              "        <tr>\n",
              "            <td>gamesPlayed</td>\n",
              "            <td>INTEGER</td>\n",
              "            <td>0</td>\n",
              "        </tr>\n",
              "        <tr>\n",
              "            <td>gamesStarted</td>\n",
              "            <td>INTEGER</td>\n",
              "            <td>0</td>\n",
              "        </tr>\n",
              "        <tr>\n",
              "            <td>min</td>\n",
              "            <td>INTEGER</td>\n",
              "            <td>0</td>\n",
              "        </tr>\n",
              "        <tr>\n",
              "            <td>mpg</td>\n",
              "            <td>REAL</td>\n",
              "            <td>0</td>\n",
              "        </tr>\n",
              "        <tr>\n",
              "            <td>offReb</td>\n",
              "            <td>INTEGER</td>\n",
              "            <td>0</td>\n",
              "        </tr>\n",
              "        <tr>\n",
              "            <td>pFouls</td>\n",
              "            <td>INTEGER</td>\n",
              "            <td>0</td>\n",
              "        </tr>\n",
              "        <tr>\n",
              "            <td>personId</td>\n",
              "            <td>INTEGER</td>\n",
              "            <td>1</td>\n",
              "        </tr>\n",
              "        <tr>\n",
              "            <td>plusMinus</td>\n",
              "            <td>INTEGER</td>\n",
              "            <td>0</td>\n",
              "        </tr>\n",
              "        <tr>\n",
              "            <td>points</td>\n",
              "            <td>INTEGER</td>\n",
              "            <td>0</td>\n",
              "        </tr>\n",
              "        <tr>\n",
              "            <td>ppg</td>\n",
              "            <td>REAL</td>\n",
              "            <td>0</td>\n",
              "        </tr>\n",
              "        <tr>\n",
              "            <td>rpg</td>\n",
              "            <td>REAL</td>\n",
              "            <td>0</td>\n",
              "        </tr>\n",
              "        <tr>\n",
              "            <td>spg</td>\n",
              "            <td>REAL</td>\n",
              "            <td>0</td>\n",
              "        </tr>\n",
              "        <tr>\n",
              "            <td>steals</td>\n",
              "            <td>INTEGER</td>\n",
              "            <td>0</td>\n",
              "        </tr>\n",
              "        <tr>\n",
              "            <td>td3</td>\n",
              "            <td>INTEGER</td>\n",
              "            <td>0</td>\n",
              "        </tr>\n",
              "        <tr>\n",
              "            <td>totReb</td>\n",
              "            <td>INTEGER</td>\n",
              "            <td>0</td>\n",
              "        </tr>\n",
              "        <tr>\n",
              "            <td>tpa</td>\n",
              "            <td>INTEGER</td>\n",
              "            <td>0</td>\n",
              "        </tr>\n",
              "        <tr>\n",
              "            <td>tpm</td>\n",
              "            <td>INTEGER</td>\n",
              "            <td>0</td>\n",
              "        </tr>\n",
              "        <tr>\n",
              "            <td>tpp</td>\n",
              "            <td>REAL</td>\n",
              "            <td>0</td>\n",
              "        </tr>\n",
              "        <tr>\n",
              "            <td>turnovers</td>\n",
              "            <td>INTEGER</td>\n",
              "            <td>0</td>\n",
              "        </tr>\n",
              "    </tbody>\n",
              "</table>"
            ]
          },
          "metadata": {},
          "execution_count": 28
        }
      ],
      "source": [
        "%%sql\n",
        "SELECT name,\n",
        "    type,\n",
        "    pk\n",
        "FROM PRAGMA_TABLE_INFO('career_summaries')\n",
        "ORDER BY name;"
      ]
    },
    {
      "cell_type": "code",
      "execution_count": null,
      "id": "9b0afd5d",
      "metadata": {
        "colab": {
          "base_uri": "https://localhost:8080/",
          "height": 460
        },
        "id": "9b0afd5d",
        "outputId": "d83e86e9-af9b-4552-b7c3-11e23cc939b2"
      },
      "outputs": [
        {
          "output_type": "stream",
          "name": "stdout",
          "text": [
            " * sqlite:///databases/imdb.db\n",
            "Done.\n"
          ]
        },
        {
          "output_type": "execute_result",
          "data": {
            "text/plain": [
              "[('collegeName', 'TEXT', 0),\n",
              " ('country', 'TEXT', 0),\n",
              " ('dateOfBirthUTC', 'TEXT', 0),\n",
              " ('firstName', 'TEXT', 0),\n",
              " ('heightFeet', 'INTEGER', 0),\n",
              " ('heightInches', 'INTEGER', 0),\n",
              " ('heightMeters', 'REAL', 0),\n",
              " ('jersey', 'INTEGER', 0),\n",
              " ('lastAffiliation', 'TEXT', 0),\n",
              " ('lastName', 'TEXT', 0),\n",
              " ('nbaDebutYear', 'INTEGER', 0),\n",
              " ('personId', 'INTEGER', 1),\n",
              " ('pos', 'TEXT', 0),\n",
              " ('teamId', 'INTEGER', 0),\n",
              " ('temporaryDisplayName', 'TEXT', 0),\n",
              " ('weightKilograms', 'REAL', 0),\n",
              " ('weightPounds', 'REAL', 0),\n",
              " ('yearsPro', 'INTEGER', 0)]"
            ],
            "text/html": [
              "<table>\n",
              "    <thead>\n",
              "        <tr>\n",
              "            <th>name</th>\n",
              "            <th>type</th>\n",
              "            <th>pk</th>\n",
              "        </tr>\n",
              "    </thead>\n",
              "    <tbody>\n",
              "        <tr>\n",
              "            <td>collegeName</td>\n",
              "            <td>TEXT</td>\n",
              "            <td>0</td>\n",
              "        </tr>\n",
              "        <tr>\n",
              "            <td>country</td>\n",
              "            <td>TEXT</td>\n",
              "            <td>0</td>\n",
              "        </tr>\n",
              "        <tr>\n",
              "            <td>dateOfBirthUTC</td>\n",
              "            <td>TEXT</td>\n",
              "            <td>0</td>\n",
              "        </tr>\n",
              "        <tr>\n",
              "            <td>firstName</td>\n",
              "            <td>TEXT</td>\n",
              "            <td>0</td>\n",
              "        </tr>\n",
              "        <tr>\n",
              "            <td>heightFeet</td>\n",
              "            <td>INTEGER</td>\n",
              "            <td>0</td>\n",
              "        </tr>\n",
              "        <tr>\n",
              "            <td>heightInches</td>\n",
              "            <td>INTEGER</td>\n",
              "            <td>0</td>\n",
              "        </tr>\n",
              "        <tr>\n",
              "            <td>heightMeters</td>\n",
              "            <td>REAL</td>\n",
              "            <td>0</td>\n",
              "        </tr>\n",
              "        <tr>\n",
              "            <td>jersey</td>\n",
              "            <td>INTEGER</td>\n",
              "            <td>0</td>\n",
              "        </tr>\n",
              "        <tr>\n",
              "            <td>lastAffiliation</td>\n",
              "            <td>TEXT</td>\n",
              "            <td>0</td>\n",
              "        </tr>\n",
              "        <tr>\n",
              "            <td>lastName</td>\n",
              "            <td>TEXT</td>\n",
              "            <td>0</td>\n",
              "        </tr>\n",
              "        <tr>\n",
              "            <td>nbaDebutYear</td>\n",
              "            <td>INTEGER</td>\n",
              "            <td>0</td>\n",
              "        </tr>\n",
              "        <tr>\n",
              "            <td>personId</td>\n",
              "            <td>INTEGER</td>\n",
              "            <td>1</td>\n",
              "        </tr>\n",
              "        <tr>\n",
              "            <td>pos</td>\n",
              "            <td>TEXT</td>\n",
              "            <td>0</td>\n",
              "        </tr>\n",
              "        <tr>\n",
              "            <td>teamId</td>\n",
              "            <td>INTEGER</td>\n",
              "            <td>0</td>\n",
              "        </tr>\n",
              "        <tr>\n",
              "            <td>temporaryDisplayName</td>\n",
              "            <td>TEXT</td>\n",
              "            <td>0</td>\n",
              "        </tr>\n",
              "        <tr>\n",
              "            <td>weightKilograms</td>\n",
              "            <td>REAL</td>\n",
              "            <td>0</td>\n",
              "        </tr>\n",
              "        <tr>\n",
              "            <td>weightPounds</td>\n",
              "            <td>REAL</td>\n",
              "            <td>0</td>\n",
              "        </tr>\n",
              "        <tr>\n",
              "            <td>yearsPro</td>\n",
              "            <td>INTEGER</td>\n",
              "            <td>0</td>\n",
              "        </tr>\n",
              "    </tbody>\n",
              "</table>"
            ]
          },
          "metadata": {},
          "execution_count": 29
        }
      ],
      "source": [
        "%%sql\n",
        "SELECT name,\n",
        "    type,\n",
        "    pk\n",
        "FROM PRAGMA_TABLE_INFO('players')\n",
        "ORDER BY name;"
      ]
    },
    {
      "cell_type": "code",
      "execution_count": null,
      "id": "48cee479",
      "metadata": {
        "colab": {
          "base_uri": "https://localhost:8080/",
          "height": 331
        },
        "id": "48cee479",
        "outputId": "fd89d3e2-2e2f-47a2-dabc-6d9eab8009ca"
      },
      "outputs": [
        {
          "output_type": "stream",
          "name": "stdout",
          "text": [
            " * sqlite:///databases/imdb.db\n",
            "Done.\n"
          ]
        },
        {
          "output_type": "execute_result",
          "data": {
            "text/plain": [
              "[('altCityName', 'TEXT', 0),\n",
              " ('city', 'TEXT', 0),\n",
              " ('confName', 'TEXT', 0),\n",
              " ('divName', 'TEXT', 0),\n",
              " ('fullName', 'TEXT', 0),\n",
              " ('isAllStar', 'TEXT', 0),\n",
              " ('isNBAFranchise', 'TEXT', 0),\n",
              " ('nickname', 'TEXT', 0),\n",
              " ('teamId', 'INTEGER', 1),\n",
              " ('teamShortName', 'TEXT', 0),\n",
              " ('tricode', 'TEXT', 0),\n",
              " ('urlName', 'TEXT', 0)]"
            ],
            "text/html": [
              "<table>\n",
              "    <thead>\n",
              "        <tr>\n",
              "            <th>name</th>\n",
              "            <th>type</th>\n",
              "            <th>pk</th>\n",
              "        </tr>\n",
              "    </thead>\n",
              "    <tbody>\n",
              "        <tr>\n",
              "            <td>altCityName</td>\n",
              "            <td>TEXT</td>\n",
              "            <td>0</td>\n",
              "        </tr>\n",
              "        <tr>\n",
              "            <td>city</td>\n",
              "            <td>TEXT</td>\n",
              "            <td>0</td>\n",
              "        </tr>\n",
              "        <tr>\n",
              "            <td>confName</td>\n",
              "            <td>TEXT</td>\n",
              "            <td>0</td>\n",
              "        </tr>\n",
              "        <tr>\n",
              "            <td>divName</td>\n",
              "            <td>TEXT</td>\n",
              "            <td>0</td>\n",
              "        </tr>\n",
              "        <tr>\n",
              "            <td>fullName</td>\n",
              "            <td>TEXT</td>\n",
              "            <td>0</td>\n",
              "        </tr>\n",
              "        <tr>\n",
              "            <td>isAllStar</td>\n",
              "            <td>TEXT</td>\n",
              "            <td>0</td>\n",
              "        </tr>\n",
              "        <tr>\n",
              "            <td>isNBAFranchise</td>\n",
              "            <td>TEXT</td>\n",
              "            <td>0</td>\n",
              "        </tr>\n",
              "        <tr>\n",
              "            <td>nickname</td>\n",
              "            <td>TEXT</td>\n",
              "            <td>0</td>\n",
              "        </tr>\n",
              "        <tr>\n",
              "            <td>teamId</td>\n",
              "            <td>INTEGER</td>\n",
              "            <td>1</td>\n",
              "        </tr>\n",
              "        <tr>\n",
              "            <td>teamShortName</td>\n",
              "            <td>TEXT</td>\n",
              "            <td>0</td>\n",
              "        </tr>\n",
              "        <tr>\n",
              "            <td>tricode</td>\n",
              "            <td>TEXT</td>\n",
              "            <td>0</td>\n",
              "        </tr>\n",
              "        <tr>\n",
              "            <td>urlName</td>\n",
              "            <td>TEXT</td>\n",
              "            <td>0</td>\n",
              "        </tr>\n",
              "    </tbody>\n",
              "</table>"
            ]
          },
          "metadata": {},
          "execution_count": 30
        }
      ],
      "source": [
        "%%sql\n",
        "SELECT name,\n",
        "    type,\n",
        "    pk\n",
        "FROM PRAGMA_TABLE_INFO('teams')\n",
        "ORDER BY name;"
      ]
    },
    {
      "cell_type": "markdown",
      "id": "0825f72a",
      "metadata": {
        "id": "0825f72a"
      },
      "source": [
        "## 學習資料庫 `twElection2020`\n",
        "\n",
        "![](https://github.com/ccwu0918/book-sqlfifty/blob/main/images/twElection2020-erd.png?raw=1)"
      ]
    },
    {
      "cell_type": "code",
      "execution_count": null,
      "id": "714d7b38",
      "metadata": {
        "colab": {
          "base_uri": "https://localhost:8080/",
          "height": 161
        },
        "id": "714d7b38",
        "outputId": "d285c92c-7820-43d5-c80a-052fe6b38630"
      },
      "outputs": [
        {
          "output_type": "stream",
          "name": "stdout",
          "text": [
            " * sqlite:///databases/imdb.db\n",
            "Done.\n"
          ]
        },
        {
          "output_type": "execute_result",
          "data": {
            "text/plain": [
              "[('county', 'TEXT', 0),\n",
              " ('id', 'INTEGER', 1),\n",
              " ('town', 'TEXT', 0),\n",
              " ('village', 'TEXT', 0)]"
            ],
            "text/html": [
              "<table>\n",
              "    <thead>\n",
              "        <tr>\n",
              "            <th>name</th>\n",
              "            <th>type</th>\n",
              "            <th>pk</th>\n",
              "        </tr>\n",
              "    </thead>\n",
              "    <tbody>\n",
              "        <tr>\n",
              "            <td>county</td>\n",
              "            <td>TEXT</td>\n",
              "            <td>0</td>\n",
              "        </tr>\n",
              "        <tr>\n",
              "            <td>id</td>\n",
              "            <td>INTEGER</td>\n",
              "            <td>1</td>\n",
              "        </tr>\n",
              "        <tr>\n",
              "            <td>town</td>\n",
              "            <td>TEXT</td>\n",
              "            <td>0</td>\n",
              "        </tr>\n",
              "        <tr>\n",
              "            <td>village</td>\n",
              "            <td>TEXT</td>\n",
              "            <td>0</td>\n",
              "        </tr>\n",
              "    </tbody>\n",
              "</table>"
            ]
          },
          "metadata": {},
          "execution_count": 31
        }
      ],
      "source": [
        "%%sql\n",
        "SELECT name,\n",
        "    type,\n",
        "    pk\n",
        "FROM PRAGMA_TABLE_INFO('admin_regions')\n",
        "ORDER BY name;"
      ]
    },
    {
      "cell_type": "code",
      "execution_count": null,
      "id": "23c522a0",
      "metadata": {
        "colab": {
          "base_uri": "https://localhost:8080/",
          "height": 182
        },
        "id": "23c522a0",
        "outputId": "cc1a8459-0232-4056-8137-bf2a1bfee1d8"
      },
      "outputs": [
        {
          "output_type": "stream",
          "name": "stdout",
          "text": [
            " * sqlite:///databases/imdb.db\n",
            "Done.\n"
          ]
        },
        {
          "output_type": "execute_result",
          "data": {
            "text/plain": [
              "[('id', 'INTEGER', 1),\n",
              " ('party_id', 'INTEGER', 0),\n",
              " ('type', 'TEXT', 0),\n",
              " ('number', 'INTEGER', 0),\n",
              " ('candidate', 'TEXT', 0)]"
            ],
            "text/html": [
              "<table>\n",
              "    <thead>\n",
              "        <tr>\n",
              "            <th>name</th>\n",
              "            <th>type</th>\n",
              "            <th>pk</th>\n",
              "        </tr>\n",
              "    </thead>\n",
              "    <tbody>\n",
              "        <tr>\n",
              "            <td>id</td>\n",
              "            <td>INTEGER</td>\n",
              "            <td>1</td>\n",
              "        </tr>\n",
              "        <tr>\n",
              "            <td>party_id</td>\n",
              "            <td>INTEGER</td>\n",
              "            <td>0</td>\n",
              "        </tr>\n",
              "        <tr>\n",
              "            <td>type</td>\n",
              "            <td>TEXT</td>\n",
              "            <td>0</td>\n",
              "        </tr>\n",
              "        <tr>\n",
              "            <td>number</td>\n",
              "            <td>INTEGER</td>\n",
              "            <td>0</td>\n",
              "        </tr>\n",
              "        <tr>\n",
              "            <td>candidate</td>\n",
              "            <td>TEXT</td>\n",
              "            <td>0</td>\n",
              "        </tr>\n",
              "    </tbody>\n",
              "</table>"
            ]
          },
          "metadata": {},
          "execution_count": 32
        }
      ],
      "source": [
        "%%sql\n",
        "SELECT name,\n",
        "    type,\n",
        "    pk\n",
        "FROM PRAGMA_TABLE_INFO('candidates');"
      ]
    },
    {
      "cell_type": "code",
      "execution_count": null,
      "id": "c8f90335",
      "metadata": {
        "colab": {
          "base_uri": "https://localhost:8080/",
          "height": 161
        },
        "id": "c8f90335",
        "outputId": "e2fef464-b145-4c23-df03-6fc8a7a37c30"
      },
      "outputs": [
        {
          "output_type": "stream",
          "name": "stdout",
          "text": [
            " * sqlite:///databases/imdb.db\n",
            "Done.\n"
          ]
        },
        {
          "output_type": "execute_result",
          "data": {
            "text/plain": [
              "[('admin_region_id', 'INTEGER', 0),\n",
              " ('office', 'INTEGER', 0),\n",
              " ('party_id', 'INTEGER', 0),\n",
              " ('votes', 'INTEGER', 0)]"
            ],
            "text/html": [
              "<table>\n",
              "    <thead>\n",
              "        <tr>\n",
              "            <th>name</th>\n",
              "            <th>type</th>\n",
              "            <th>pk</th>\n",
              "        </tr>\n",
              "    </thead>\n",
              "    <tbody>\n",
              "        <tr>\n",
              "            <td>admin_region_id</td>\n",
              "            <td>INTEGER</td>\n",
              "            <td>0</td>\n",
              "        </tr>\n",
              "        <tr>\n",
              "            <td>office</td>\n",
              "            <td>INTEGER</td>\n",
              "            <td>0</td>\n",
              "        </tr>\n",
              "        <tr>\n",
              "            <td>party_id</td>\n",
              "            <td>INTEGER</td>\n",
              "            <td>0</td>\n",
              "        </tr>\n",
              "        <tr>\n",
              "            <td>votes</td>\n",
              "            <td>INTEGER</td>\n",
              "            <td>0</td>\n",
              "        </tr>\n",
              "    </tbody>\n",
              "</table>"
            ]
          },
          "metadata": {},
          "execution_count": 34
        }
      ],
      "source": [
        "%%sql\n",
        "SELECT name,\n",
        "    type,\n",
        "    pk\n",
        "FROM PRAGMA_TABLE_INFO('legislative_at_large')\n",
        "ORDER BY name;"
      ]
    },
    {
      "cell_type": "code",
      "execution_count": null,
      "id": "dc446871",
      "metadata": {
        "colab": {
          "base_uri": "https://localhost:8080/",
          "height": 182
        },
        "id": "dc446871",
        "outputId": "aa85f641-541d-4f78-ec16-b06cd5c14734"
      },
      "outputs": [
        {
          "output_type": "stream",
          "name": "stdout",
          "text": [
            " * sqlite:///databases/imdb.db\n",
            "Done.\n"
          ]
        },
        {
          "output_type": "execute_result",
          "data": {
            "text/plain": [
              "[('admin_region_id', 'INTEGER', 0),\n",
              " ('candidate_id', 'INTEGER', 0),\n",
              " ('electoral_district', 'TEXT', 0),\n",
              " ('office', 'INTEGER', 0),\n",
              " ('votes', 'INTEGER', 0)]"
            ],
            "text/html": [
              "<table>\n",
              "    <thead>\n",
              "        <tr>\n",
              "            <th>name</th>\n",
              "            <th>type</th>\n",
              "            <th>pk</th>\n",
              "        </tr>\n",
              "    </thead>\n",
              "    <tbody>\n",
              "        <tr>\n",
              "            <td>admin_region_id</td>\n",
              "            <td>INTEGER</td>\n",
              "            <td>0</td>\n",
              "        </tr>\n",
              "        <tr>\n",
              "            <td>candidate_id</td>\n",
              "            <td>INTEGER</td>\n",
              "            <td>0</td>\n",
              "        </tr>\n",
              "        <tr>\n",
              "            <td>electoral_district</td>\n",
              "            <td>TEXT</td>\n",
              "            <td>0</td>\n",
              "        </tr>\n",
              "        <tr>\n",
              "            <td>office</td>\n",
              "            <td>INTEGER</td>\n",
              "            <td>0</td>\n",
              "        </tr>\n",
              "        <tr>\n",
              "            <td>votes</td>\n",
              "            <td>INTEGER</td>\n",
              "            <td>0</td>\n",
              "        </tr>\n",
              "    </tbody>\n",
              "</table>"
            ]
          },
          "metadata": {},
          "execution_count": 35
        }
      ],
      "source": [
        "%%sql\n",
        "SELECT name,\n",
        "    type,\n",
        "    pk\n",
        "FROM PRAGMA_TABLE_INFO('legislative_regional')\n",
        "ORDER BY name;"
      ]
    },
    {
      "cell_type": "code",
      "execution_count": null,
      "id": "1fb1ba12",
      "metadata": {
        "colab": {
          "base_uri": "https://localhost:8080/",
          "height": 118
        },
        "id": "1fb1ba12",
        "outputId": "b0014444-e124-4463-fdd9-08973c558300"
      },
      "outputs": [
        {
          "output_type": "stream",
          "name": "stdout",
          "text": [
            " * sqlite:///databases/imdb.db\n",
            "Done.\n"
          ]
        },
        {
          "output_type": "execute_result",
          "data": {
            "text/plain": [
              "[('id', 'INTEGER', 1), ('party', 'TEXT', 0)]"
            ],
            "text/html": [
              "<table>\n",
              "    <thead>\n",
              "        <tr>\n",
              "            <th>name</th>\n",
              "            <th>type</th>\n",
              "            <th>pk</th>\n",
              "        </tr>\n",
              "    </thead>\n",
              "    <tbody>\n",
              "        <tr>\n",
              "            <td>id</td>\n",
              "            <td>INTEGER</td>\n",
              "            <td>1</td>\n",
              "        </tr>\n",
              "        <tr>\n",
              "            <td>party</td>\n",
              "            <td>TEXT</td>\n",
              "            <td>0</td>\n",
              "        </tr>\n",
              "    </tbody>\n",
              "</table>"
            ]
          },
          "metadata": {},
          "execution_count": 36
        }
      ],
      "source": [
        "%%sql\n",
        "SELECT name,\n",
        "    type,\n",
        "    pk\n",
        "FROM PRAGMA_TABLE_INFO('parties')\n",
        "ORDER BY name;"
      ]
    },
    {
      "cell_type": "code",
      "execution_count": null,
      "id": "70dadbec",
      "metadata": {
        "colab": {
          "base_uri": "https://localhost:8080/",
          "height": 161
        },
        "id": "70dadbec",
        "outputId": "bdf157c0-b093-4e46-8f6e-f426d449950d"
      },
      "outputs": [
        {
          "output_type": "stream",
          "name": "stdout",
          "text": [
            " * sqlite:///databases/imdb.db\n",
            "Done.\n"
          ]
        },
        {
          "output_type": "execute_result",
          "data": {
            "text/plain": [
              "[('admin_region_id', 'INTEGER', 0),\n",
              " ('candidate_id', 'INTEGER', 0),\n",
              " ('office', 'INTEGER', 0),\n",
              " ('votes', 'INTEGER', 0)]"
            ],
            "text/html": [
              "<table>\n",
              "    <thead>\n",
              "        <tr>\n",
              "            <th>name</th>\n",
              "            <th>type</th>\n",
              "            <th>pk</th>\n",
              "        </tr>\n",
              "    </thead>\n",
              "    <tbody>\n",
              "        <tr>\n",
              "            <td>admin_region_id</td>\n",
              "            <td>INTEGER</td>\n",
              "            <td>0</td>\n",
              "        </tr>\n",
              "        <tr>\n",
              "            <td>candidate_id</td>\n",
              "            <td>INTEGER</td>\n",
              "            <td>0</td>\n",
              "        </tr>\n",
              "        <tr>\n",
              "            <td>office</td>\n",
              "            <td>INTEGER</td>\n",
              "            <td>0</td>\n",
              "        </tr>\n",
              "        <tr>\n",
              "            <td>votes</td>\n",
              "            <td>INTEGER</td>\n",
              "            <td>0</td>\n",
              "        </tr>\n",
              "    </tbody>\n",
              "</table>"
            ]
          },
          "metadata": {},
          "execution_count": 37
        }
      ],
      "source": [
        "%%sql\n",
        "SELECT name,\n",
        "    type,\n",
        "    pk\n",
        "FROM PRAGMA_TABLE_INFO('presidential')\n",
        "ORDER BY name;"
      ]
    }
  ],
  "metadata": {
    "kernelspec": {
      "display_name": "xsql",
      "language": "sqlite",
      "name": "xsql"
    },
    "language_info": {
      "codemirror_mode": "sql",
      "file_extension": "",
      "mimetype": "",
      "name": "mysql",
      "version": "0.1.4"
    },
    "colab": {
      "provenance": [],
      "include_colab_link": true
    }
  },
  "nbformat": 4,
  "nbformat_minor": 5
}
