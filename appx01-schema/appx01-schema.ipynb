{
  "cells": [
    {
      "cell_type": "markdown",
      "metadata": {
        "id": "view-in-github",
        "colab_type": "text"
      },
      "source": [
        "<a href=\"https://colab.research.google.com/github/ccwu0918/book-sqlfifty/blob/main/appx01-schema/appx01-schema.ipynb\" target=\"_parent\"><img src=\"https://colab.research.google.com/assets/colab-badge.svg\" alt=\"Open In Colab\"/></a>"
      ]
    },
    {
      "cell_type": "markdown",
      "id": "lightweight-fruit",
      "metadata": {
        "id": "lightweight-fruit"
      },
      "source": [
        "# SQL 的五十道練習：初學者友善的資料庫入門\n",
        "\n",
        "> 附錄一：學習資料庫綱要"
      ]
    },
    {
      "cell_type": "code",
      "source": [
        "!git clone https://github.com/datainpoint/book-sqlfifty"
      ],
      "metadata": {
        "id": "ZNKBMbIzJIDY",
        "outputId": "59f7f792-0f3a-4861-a19a-c1b3a1189747",
        "colab": {
          "base_uri": "https://localhost:8080/"
        }
      },
      "id": "ZNKBMbIzJIDY",
      "execution_count": 1,
      "outputs": [
        {
          "output_type": "stream",
          "name": "stdout",
          "text": [
            "Cloning into 'book-sqlfifty'...\n",
            "remote: Enumerating objects: 186, done.\u001b[K\n",
            "remote: Counting objects: 100% (186/186), done.\u001b[K\n",
            "remote: Compressing objects: 100% (122/122), done.\u001b[K\n",
            "remote: Total 186 (delta 54), reused 173 (delta 44), pack-reused 0\u001b[K\n",
            "Receiving objects: 100% (186/186), 28.90 MiB | 5.50 MiB/s, done.\n",
            "Resolving deltas: 100% (54/54), done.\n"
          ]
        }
      ]
    },
    {
      "cell_type": "code",
      "source": [
        "%cd book-sqlfifty"
      ],
      "metadata": {
        "id": "2L8Q3dXeJZ1Q",
        "outputId": "9cdaa45c-b779-4cb2-d4da-c1b8ec426e90",
        "colab": {
          "base_uri": "https://localhost:8080/"
        }
      },
      "id": "2L8Q3dXeJZ1Q",
      "execution_count": 2,
      "outputs": [
        {
          "output_type": "stream",
          "name": "stdout",
          "text": [
            "/content/book-sqlfifty\n"
          ]
        }
      ]
    },
    {
      "cell_type": "code",
      "execution_count": 3,
      "id": "de6cc691",
      "metadata": {
        "id": "de6cc691",
        "outputId": "1ecca4de-409a-45d2-be91-ffbe0aa6458d",
        "colab": {
          "base_uri": "https://localhost:8080/"
        }
      },
      "outputs": [
        {
          "output_type": "stream",
          "name": "stderr",
          "text": [
            "UsageError: Line magic function `%LOAD` not found.\n"
          ]
        }
      ],
      "source": [
        "%LOAD sqlite3 db=../databases/imdb.db timeout=2 shared_cache=true"
      ]
    },
    {
      "cell_type": "code",
      "execution_count": null,
      "id": "9bcc07d8",
      "metadata": {
        "id": "9bcc07d8"
      },
      "outputs": [],
      "source": [
        "ATTACH \"../databases/nba.db\" AS nba;"
      ]
    },
    {
      "cell_type": "code",
      "execution_count": null,
      "id": "23b5a13d",
      "metadata": {
        "id": "23b5a13d"
      },
      "outputs": [],
      "source": [
        "ATTACH \"../databases/twElection2020.db\" AS twElection2020;"
      ]
    },
    {
      "cell_type": "code",
      "execution_count": null,
      "id": "4cae3aa2",
      "metadata": {
        "id": "4cae3aa2"
      },
      "outputs": [],
      "source": [
        "ATTACH \"../databases/covid19.db\" AS covid19;"
      ]
    },
    {
      "cell_type": "markdown",
      "id": "838451a6",
      "metadata": {
        "id": "838451a6"
      },
      "source": [
        "## 學習資料庫 `covid19`\n",
        "\n",
        "![](https://github.com/ccwu0918/book-sqlfifty/blob/main/images/covid19-erd.png?raw=1)"
      ]
    },
    {
      "cell_type": "code",
      "execution_count": null,
      "id": "9e3b1e0f",
      "metadata": {
        "id": "9e3b1e0f",
        "outputId": "4fbee18f-8fb2-4d5e-ff91-8b09129cf5a9"
      },
      "outputs": [
        {
          "data": {
            "text/html": [
              "<table>\n",
              "<tr>\n",
              "<th>name</th>\n",
              "<th>type</th>\n",
              "<th>pk</th>\n",
              "</tr>\n",
              "<tr>\n",
              "<td>Combined_Key</td>\n",
              "<td>TEXT</td>\n",
              "<td>1</td>\n",
              "</tr>\n",
              "<tr>\n",
              "<td>Confirmed</td>\n",
              "<td>INTEGER</td>\n",
              "<td>0</td>\n",
              "</tr>\n",
              "<tr>\n",
              "<td>Deaths</td>\n",
              "<td>INTEGER</td>\n",
              "<td>0</td>\n",
              "</tr>\n",
              "<tr>\n",
              "<td>Last_Update</td>\n",
              "<td>TEXT</td>\n",
              "<td>0</td>\n",
              "</tr>\n",
              "</table>\n",
              "4 rows in set (0.00 sec)"
            ],
            "text/plain": [
              "+--------------+---------+----+\n",
              "| name         | type    | pk |\n",
              "+--------------+---------+----+\n",
              "| Combined_Key | TEXT    | 1  |\n",
              "+--------------+---------+----+\n",
              "| Confirmed    | INTEGER | 0  |\n",
              "+--------------+---------+----+\n",
              "| Deaths       | INTEGER | 0  |\n",
              "+--------------+---------+----+\n",
              "| Last_Update  | TEXT    | 0  |\n",
              "+--------------+---------+----+\n",
              "4 rows in set (0.00 sec)"
            ]
          },
          "execution_count": 5,
          "metadata": {},
          "output_type": "execute_result"
        }
      ],
      "source": [
        "SELECT name,\n",
        "       type,\n",
        "       pk\n",
        "  FROM PRAGMA_TABLE_INFO('daily_report')\n",
        " ORDER BY name;"
      ]
    },
    {
      "cell_type": "code",
      "execution_count": null,
      "id": "21ee3697",
      "metadata": {
        "id": "21ee3697",
        "outputId": "1506101d-a3e2-4583-9299-7a2eb7a3f58a"
      },
      "outputs": [
        {
          "data": {
            "text/html": [
              "<table>\n",
              "<tr>\n",
              "<th>name</th>\n",
              "<th>type</th>\n",
              "<th>pk</th>\n",
              "</tr>\n",
              "<tr>\n",
              "<td>Admin2</td>\n",
              "<td>TEXT</td>\n",
              "<td>0</td>\n",
              "</tr>\n",
              "<tr>\n",
              "<td>Combined_Key</td>\n",
              "<td>TEXT</td>\n",
              "<td>0</td>\n",
              "</tr>\n",
              "<tr>\n",
              "<td>Country_Region</td>\n",
              "<td>TEXT</td>\n",
              "<td>0</td>\n",
              "</tr>\n",
              "<tr>\n",
              "<td>Lat</td>\n",
              "<td>REAL</td>\n",
              "<td>0</td>\n",
              "</tr>\n",
              "<tr>\n",
              "<td>Long_</td>\n",
              "<td>REAL</td>\n",
              "<td>0</td>\n",
              "</tr>\n",
              "<tr>\n",
              "<td>Population</td>\n",
              "<td>INTEGER</td>\n",
              "<td>0</td>\n",
              "</tr>\n",
              "<tr>\n",
              "<td>Province_State</td>\n",
              "<td>TEXT</td>\n",
              "<td>0</td>\n",
              "</tr>\n",
              "<tr>\n",
              "<td>UID</td>\n",
              "<td>INTEGER</td>\n",
              "<td>1</td>\n",
              "</tr>\n",
              "<tr>\n",
              "<td>iso2</td>\n",
              "<td>TEXT</td>\n",
              "<td>0</td>\n",
              "</tr>\n",
              "<tr>\n",
              "<td>iso3</td>\n",
              "<td>TEXT</td>\n",
              "<td>0</td>\n",
              "</tr>\n",
              "</table>\n",
              "10 rows in set (0.00 sec)"
            ],
            "text/plain": [
              "+----------------+---------+----+\n",
              "| name           | type    | pk |\n",
              "+----------------+---------+----+\n",
              "| Admin2         | TEXT    | 0  |\n",
              "+----------------+---------+----+\n",
              "| Combined_Key   | TEXT    | 0  |\n",
              "+----------------+---------+----+\n",
              "| Country_Region | TEXT    | 0  |\n",
              "+----------------+---------+----+\n",
              "| Lat            | REAL    | 0  |\n",
              "+----------------+---------+----+\n",
              "| Long_          | REAL    | 0  |\n",
              "+----------------+---------+----+\n",
              "| Population     | INTEGER | 0  |\n",
              "+----------------+---------+----+\n",
              "| Province_State | TEXT    | 0  |\n",
              "+----------------+---------+----+\n",
              "| UID            | INTEGER | 1  |\n",
              "+----------------+---------+----+\n",
              "| iso2           | TEXT    | 0  |\n",
              "+----------------+---------+----+\n",
              "| iso3           | TEXT    | 0  |\n",
              "+----------------+---------+----+\n",
              "10 rows in set (0.00 sec)"
            ]
          },
          "execution_count": 6,
          "metadata": {},
          "output_type": "execute_result"
        }
      ],
      "source": [
        "SELECT name,\n",
        "       type,\n",
        "       pk\n",
        "  FROM PRAGMA_TABLE_INFO('lookup_table')\n",
        " ORDER BY name;"
      ]
    },
    {
      "cell_type": "code",
      "execution_count": null,
      "id": "36c64a2e",
      "metadata": {
        "id": "36c64a2e",
        "outputId": "e44041a5-ac1f-45f4-9493-14c6726758aa"
      },
      "outputs": [
        {
          "data": {
            "text/html": [
              "<table>\n",
              "<tr>\n",
              "<th>name</th>\n",
              "<th>type</th>\n",
              "<th>pk</th>\n",
              "</tr>\n",
              "<tr>\n",
              "<td>Confirmed</td>\n",
              "<td>INTEGER</td>\n",
              "<td>0</td>\n",
              "</tr>\n",
              "<tr>\n",
              "<td>Country_Region</td>\n",
              "<td>TEXT</td>\n",
              "<td>2</td>\n",
              "</tr>\n",
              "<tr>\n",
              "<td>Daily_Cases</td>\n",
              "<td>INTEGER</td>\n",
              "<td>0</td>\n",
              "</tr>\n",
              "<tr>\n",
              "<td>Daily_Deaths</td>\n",
              "<td>INTEGER</td>\n",
              "<td>0</td>\n",
              "</tr>\n",
              "<tr>\n",
              "<td>Date</td>\n",
              "<td>TEXT</td>\n",
              "<td>1</td>\n",
              "</tr>\n",
              "<tr>\n",
              "<td>Deaths</td>\n",
              "<td>INTEGER</td>\n",
              "<td>0</td>\n",
              "</tr>\n",
              "</table>\n",
              "6 rows in set (0.00 sec)"
            ],
            "text/plain": [
              "+----------------+---------+----+\n",
              "| name           | type    | pk |\n",
              "+----------------+---------+----+\n",
              "| Confirmed      | INTEGER | 0  |\n",
              "+----------------+---------+----+\n",
              "| Country_Region | TEXT    | 2  |\n",
              "+----------------+---------+----+\n",
              "| Daily_Cases    | INTEGER | 0  |\n",
              "+----------------+---------+----+\n",
              "| Daily_Deaths   | INTEGER | 0  |\n",
              "+----------------+---------+----+\n",
              "| Date           | TEXT    | 1  |\n",
              "+----------------+---------+----+\n",
              "| Deaths         | INTEGER | 0  |\n",
              "+----------------+---------+----+\n",
              "6 rows in set (0.00 sec)"
            ]
          },
          "execution_count": 7,
          "metadata": {},
          "output_type": "execute_result"
        }
      ],
      "source": [
        "SELECT name,\n",
        "       type,\n",
        "       pk\n",
        "  FROM PRAGMA_TABLE_INFO('time_series')\n",
        " ORDER BY name;"
      ]
    },
    {
      "cell_type": "markdown",
      "id": "e36cce06",
      "metadata": {
        "id": "e36cce06"
      },
      "source": [
        "## 學習資料庫 `imdb`\n",
        "\n",
        "![](https://github.com/ccwu0918/book-sqlfifty/blob/main/images/imdb-erd.png?raw=1)"
      ]
    },
    {
      "cell_type": "code",
      "execution_count": null,
      "id": "08fdd298",
      "metadata": {
        "id": "08fdd298",
        "outputId": "0562b4ed-64f6-46fd-bd76-703939daf4df"
      },
      "outputs": [
        {
          "data": {
            "text/html": [
              "<table>\n",
              "<tr>\n",
              "<th>name</th>\n",
              "<th>type</th>\n",
              "<th>pk</th>\n",
              "</tr>\n",
              "<tr>\n",
              "<td>id</td>\n",
              "<td>INTEGER</td>\n",
              "<td>1</td>\n",
              "</tr>\n",
              "<tr>\n",
              "<td>name</td>\n",
              "<td>TEXT</td>\n",
              "<td>0</td>\n",
              "</tr>\n",
              "</table>\n",
              "2 rows in set (0.00 sec)"
            ],
            "text/plain": [
              "+------+---------+----+\n",
              "| name | type    | pk |\n",
              "+------+---------+----+\n",
              "| id   | INTEGER | 1  |\n",
              "+------+---------+----+\n",
              "| name | TEXT    | 0  |\n",
              "+------+---------+----+\n",
              "2 rows in set (0.00 sec)"
            ]
          },
          "execution_count": 8,
          "metadata": {},
          "output_type": "execute_result"
        }
      ],
      "source": [
        "SELECT name,\n",
        "       type,\n",
        "       pk\n",
        "  FROM PRAGMA_TABLE_INFO('actors')\n",
        " ORDER BY name;"
      ]
    },
    {
      "cell_type": "code",
      "execution_count": null,
      "id": "dd975254",
      "metadata": {
        "id": "dd975254",
        "outputId": "77b5e95f-620b-47ba-a74b-d7e30226d389"
      },
      "outputs": [
        {
          "data": {
            "text/html": [
              "<table>\n",
              "<tr>\n",
              "<th>name</th>\n",
              "<th>type</th>\n",
              "<th>pk</th>\n",
              "</tr>\n",
              "<tr>\n",
              "<td>actor_id</td>\n",
              "<td>INTEGER</td>\n",
              "<td>0</td>\n",
              "</tr>\n",
              "<tr>\n",
              "<td>movie_id</td>\n",
              "<td>INTEGER</td>\n",
              "<td>0</td>\n",
              "</tr>\n",
              "<tr>\n",
              "<td>ord</td>\n",
              "<td>INTEGER</td>\n",
              "<td>0</td>\n",
              "</tr>\n",
              "</table>\n",
              "3 rows in set (0.00 sec)"
            ],
            "text/plain": [
              "+----------+---------+----+\n",
              "| name     | type    | pk |\n",
              "+----------+---------+----+\n",
              "| actor_id | INTEGER | 0  |\n",
              "+----------+---------+----+\n",
              "| movie_id | INTEGER | 0  |\n",
              "+----------+---------+----+\n",
              "| ord      | INTEGER | 0  |\n",
              "+----------+---------+----+\n",
              "3 rows in set (0.00 sec)"
            ]
          },
          "execution_count": 9,
          "metadata": {},
          "output_type": "execute_result"
        }
      ],
      "source": [
        "SELECT name,\n",
        "       type,\n",
        "       pk\n",
        "  FROM PRAGMA_TABLE_INFO('casting')\n",
        " ORDER BY name;"
      ]
    },
    {
      "cell_type": "code",
      "execution_count": null,
      "id": "cba589f6",
      "metadata": {
        "id": "cba589f6",
        "outputId": "aba65d6f-4a35-4345-cfa8-e6bb97b64a18"
      },
      "outputs": [
        {
          "data": {
            "text/html": [
              "<table>\n",
              "<tr>\n",
              "<th>name</th>\n",
              "<th>type</th>\n",
              "<th>pk</th>\n",
              "</tr>\n",
              "<tr>\n",
              "<td>director</td>\n",
              "<td>TEXT</td>\n",
              "<td>0</td>\n",
              "</tr>\n",
              "<tr>\n",
              "<td>id</td>\n",
              "<td>INTEGER</td>\n",
              "<td>1</td>\n",
              "</tr>\n",
              "<tr>\n",
              "<td>rating</td>\n",
              "<td>REAL</td>\n",
              "<td>0</td>\n",
              "</tr>\n",
              "<tr>\n",
              "<td>release_year</td>\n",
              "<td>INTEGER</td>\n",
              "<td>0</td>\n",
              "</tr>\n",
              "<tr>\n",
              "<td>runtime</td>\n",
              "<td>INT</td>\n",
              "<td>0</td>\n",
              "</tr>\n",
              "<tr>\n",
              "<td>title</td>\n",
              "<td>TEXT</td>\n",
              "<td>0</td>\n",
              "</tr>\n",
              "</table>\n",
              "6 rows in set (0.00 sec)"
            ],
            "text/plain": [
              "+--------------+---------+----+\n",
              "| name         | type    | pk |\n",
              "+--------------+---------+----+\n",
              "| director     | TEXT    | 0  |\n",
              "+--------------+---------+----+\n",
              "| id           | INTEGER | 1  |\n",
              "+--------------+---------+----+\n",
              "| rating       | REAL    | 0  |\n",
              "+--------------+---------+----+\n",
              "| release_year | INTEGER | 0  |\n",
              "+--------------+---------+----+\n",
              "| runtime      | INT     | 0  |\n",
              "+--------------+---------+----+\n",
              "| title        | TEXT    | 0  |\n",
              "+--------------+---------+----+\n",
              "6 rows in set (0.00 sec)"
            ]
          },
          "execution_count": 10,
          "metadata": {},
          "output_type": "execute_result"
        }
      ],
      "source": [
        "SELECT name,\n",
        "       type,\n",
        "       pk\n",
        "  FROM PRAGMA_TABLE_INFO('movies')\n",
        " ORDER BY name;"
      ]
    },
    {
      "cell_type": "markdown",
      "id": "76222d7e",
      "metadata": {
        "id": "76222d7e"
      },
      "source": [
        "## 學習資料庫 `nba`\n",
        "\n",
        "![](https://github.com/ccwu0918/book-sqlfifty/blob/main/images/nba-erd.png?raw=1)"
      ]
    },
    {
      "cell_type": "code",
      "execution_count": null,
      "id": "dd5b961f",
      "metadata": {
        "id": "dd5b961f",
        "outputId": "872dcf5e-863c-4136-90e8-76de275138d8"
      },
      "outputs": [
        {
          "data": {
            "text/html": [
              "<table>\n",
              "<tr>\n",
              "<th>name</th>\n",
              "<th>type</th>\n",
              "<th>pk</th>\n",
              "</tr>\n",
              "<tr>\n",
              "<td>apg</td>\n",
              "<td>REAL</td>\n",
              "<td>0</td>\n",
              "</tr>\n",
              "<tr>\n",
              "<td>assists</td>\n",
              "<td>INTEGER</td>\n",
              "<td>0</td>\n",
              "</tr>\n",
              "<tr>\n",
              "<td>blocks</td>\n",
              "<td>INTEGER</td>\n",
              "<td>0</td>\n",
              "</tr>\n",
              "<tr>\n",
              "<td>bpg</td>\n",
              "<td>REAL</td>\n",
              "<td>0</td>\n",
              "</tr>\n",
              "<tr>\n",
              "<td>dd2</td>\n",
              "<td>INTEGER</td>\n",
              "<td>0</td>\n",
              "</tr>\n",
              "<tr>\n",
              "<td>defReb</td>\n",
              "<td>INTEGER</td>\n",
              "<td>0</td>\n",
              "</tr>\n",
              "<tr>\n",
              "<td>fga</td>\n",
              "<td>INTEGER</td>\n",
              "<td>0</td>\n",
              "</tr>\n",
              "<tr>\n",
              "<td>fgm</td>\n",
              "<td>INTEGER</td>\n",
              "<td>0</td>\n",
              "</tr>\n",
              "<tr>\n",
              "<td>fgp</td>\n",
              "<td>REAL</td>\n",
              "<td>0</td>\n",
              "</tr>\n",
              "<tr>\n",
              "<td>fta</td>\n",
              "<td>INTEGER</td>\n",
              "<td>0</td>\n",
              "</tr>\n",
              "<tr>\n",
              "<td>ftm</td>\n",
              "<td>INTEGER</td>\n",
              "<td>0</td>\n",
              "</tr>\n",
              "<tr>\n",
              "<td>ftp</td>\n",
              "<td>REAL</td>\n",
              "<td>0</td>\n",
              "</tr>\n",
              "<tr>\n",
              "<td>gamesPlayed</td>\n",
              "<td>INTEGER</td>\n",
              "<td>0</td>\n",
              "</tr>\n",
              "<tr>\n",
              "<td>gamesStarted</td>\n",
              "<td>INTEGER</td>\n",
              "<td>0</td>\n",
              "</tr>\n",
              "<tr>\n",
              "<td>min</td>\n",
              "<td>INTEGER</td>\n",
              "<td>0</td>\n",
              "</tr>\n",
              "<tr>\n",
              "<td>mpg</td>\n",
              "<td>REAL</td>\n",
              "<td>0</td>\n",
              "</tr>\n",
              "<tr>\n",
              "<td>offReb</td>\n",
              "<td>INTEGER</td>\n",
              "<td>0</td>\n",
              "</tr>\n",
              "<tr>\n",
              "<td>pFouls</td>\n",
              "<td>INTEGER</td>\n",
              "<td>0</td>\n",
              "</tr>\n",
              "<tr>\n",
              "<td>personId</td>\n",
              "<td>INTEGER</td>\n",
              "<td>1</td>\n",
              "</tr>\n",
              "<tr>\n",
              "<td>plusMinus</td>\n",
              "<td>INTEGER</td>\n",
              "<td>0</td>\n",
              "</tr>\n",
              "<tr>\n",
              "<td>points</td>\n",
              "<td>INTEGER</td>\n",
              "<td>0</td>\n",
              "</tr>\n",
              "<tr>\n",
              "<td>ppg</td>\n",
              "<td>REAL</td>\n",
              "<td>0</td>\n",
              "</tr>\n",
              "<tr>\n",
              "<td>rpg</td>\n",
              "<td>REAL</td>\n",
              "<td>0</td>\n",
              "</tr>\n",
              "<tr>\n",
              "<td>spg</td>\n",
              "<td>REAL</td>\n",
              "<td>0</td>\n",
              "</tr>\n",
              "<tr>\n",
              "<td>steals</td>\n",
              "<td>INTEGER</td>\n",
              "<td>0</td>\n",
              "</tr>\n",
              "<tr>\n",
              "<td>td3</td>\n",
              "<td>INTEGER</td>\n",
              "<td>0</td>\n",
              "</tr>\n",
              "<tr>\n",
              "<td>totReb</td>\n",
              "<td>INTEGER</td>\n",
              "<td>0</td>\n",
              "</tr>\n",
              "<tr>\n",
              "<td>tpa</td>\n",
              "<td>INTEGER</td>\n",
              "<td>0</td>\n",
              "</tr>\n",
              "<tr>\n",
              "<td>tpm</td>\n",
              "<td>INTEGER</td>\n",
              "<td>0</td>\n",
              "</tr>\n",
              "<tr>\n",
              "<td>tpp</td>\n",
              "<td>REAL</td>\n",
              "<td>0</td>\n",
              "</tr>\n",
              "<tr>\n",
              "<td>turnovers</td>\n",
              "<td>INTEGER</td>\n",
              "<td>0</td>\n",
              "</tr>\n",
              "</table>\n",
              "31 rows in set (0.00 sec)"
            ],
            "text/plain": [
              "+--------------+---------+----+\n",
              "| name         | type    | pk |\n",
              "+--------------+---------+----+\n",
              "| apg          | REAL    | 0  |\n",
              "+--------------+---------+----+\n",
              "| assists      | INTEGER | 0  |\n",
              "+--------------+---------+----+\n",
              "| blocks       | INTEGER | 0  |\n",
              "+--------------+---------+----+\n",
              "| bpg          | REAL    | 0  |\n",
              "+--------------+---------+----+\n",
              "| dd2          | INTEGER | 0  |\n",
              "+--------------+---------+----+\n",
              "| defReb       | INTEGER | 0  |\n",
              "+--------------+---------+----+\n",
              "| fga          | INTEGER | 0  |\n",
              "+--------------+---------+----+\n",
              "| fgm          | INTEGER | 0  |\n",
              "+--------------+---------+----+\n",
              "| fgp          | REAL    | 0  |\n",
              "+--------------+---------+----+\n",
              "| fta          | INTEGER | 0  |\n",
              "+--------------+---------+----+\n",
              "| ftm          | INTEGER | 0  |\n",
              "+--------------+---------+----+\n",
              "| ftp          | REAL    | 0  |\n",
              "+--------------+---------+----+\n",
              "| gamesPlayed  | INTEGER | 0  |\n",
              "+--------------+---------+----+\n",
              "| gamesStarted | INTEGER | 0  |\n",
              "+--------------+---------+----+\n",
              "| min          | INTEGER | 0  |\n",
              "+--------------+---------+----+\n",
              "| mpg          | REAL    | 0  |\n",
              "+--------------+---------+----+\n",
              "| offReb       | INTEGER | 0  |\n",
              "+--------------+---------+----+\n",
              "| pFouls       | INTEGER | 0  |\n",
              "+--------------+---------+----+\n",
              "| personId     | INTEGER | 1  |\n",
              "+--------------+---------+----+\n",
              "| plusMinus    | INTEGER | 0  |\n",
              "+--------------+---------+----+\n",
              "| points       | INTEGER | 0  |\n",
              "+--------------+---------+----+\n",
              "| ppg          | REAL    | 0  |\n",
              "+--------------+---------+----+\n",
              "| rpg          | REAL    | 0  |\n",
              "+--------------+---------+----+\n",
              "| spg          | REAL    | 0  |\n",
              "+--------------+---------+----+\n",
              "| steals       | INTEGER | 0  |\n",
              "+--------------+---------+----+\n",
              "| td3          | INTEGER | 0  |\n",
              "+--------------+---------+----+\n",
              "| totReb       | INTEGER | 0  |\n",
              "+--------------+---------+----+\n",
              "| tpa          | INTEGER | 0  |\n",
              "+--------------+---------+----+\n",
              "| tpm          | INTEGER | 0  |\n",
              "+--------------+---------+----+\n",
              "| tpp          | REAL    | 0  |\n",
              "+--------------+---------+----+\n",
              "| turnovers    | INTEGER | 0  |\n",
              "+--------------+---------+----+\n",
              "31 rows in set (0.00 sec)"
            ]
          },
          "execution_count": 11,
          "metadata": {},
          "output_type": "execute_result"
        }
      ],
      "source": [
        "SELECT name,\n",
        "       type,\n",
        "       pk\n",
        "  FROM PRAGMA_TABLE_INFO('career_summaries')\n",
        " ORDER BY name;"
      ]
    },
    {
      "cell_type": "code",
      "execution_count": null,
      "id": "9b0afd5d",
      "metadata": {
        "id": "9b0afd5d",
        "outputId": "fd6448a4-8a54-4841-f38d-62bff49e46e4"
      },
      "outputs": [
        {
          "data": {
            "text/html": [
              "<table>\n",
              "<tr>\n",
              "<th>name</th>\n",
              "<th>type</th>\n",
              "<th>pk</th>\n",
              "</tr>\n",
              "<tr>\n",
              "<td>collegeName</td>\n",
              "<td>TEXT</td>\n",
              "<td>0</td>\n",
              "</tr>\n",
              "<tr>\n",
              "<td>country</td>\n",
              "<td>TEXT</td>\n",
              "<td>0</td>\n",
              "</tr>\n",
              "<tr>\n",
              "<td>dateOfBirthUTC</td>\n",
              "<td>TEXT</td>\n",
              "<td>0</td>\n",
              "</tr>\n",
              "<tr>\n",
              "<td>firstName</td>\n",
              "<td>TEXT</td>\n",
              "<td>0</td>\n",
              "</tr>\n",
              "<tr>\n",
              "<td>heightFeet</td>\n",
              "<td>INTEGER</td>\n",
              "<td>0</td>\n",
              "</tr>\n",
              "<tr>\n",
              "<td>heightInches</td>\n",
              "<td>INTEGER</td>\n",
              "<td>0</td>\n",
              "</tr>\n",
              "<tr>\n",
              "<td>heightMeters</td>\n",
              "<td>REAL</td>\n",
              "<td>0</td>\n",
              "</tr>\n",
              "<tr>\n",
              "<td>jersey</td>\n",
              "<td>INTEGER</td>\n",
              "<td>0</td>\n",
              "</tr>\n",
              "<tr>\n",
              "<td>lastAffiliation</td>\n",
              "<td>TEXT</td>\n",
              "<td>0</td>\n",
              "</tr>\n",
              "<tr>\n",
              "<td>lastName</td>\n",
              "<td>TEXT</td>\n",
              "<td>0</td>\n",
              "</tr>\n",
              "<tr>\n",
              "<td>nbaDebutYear</td>\n",
              "<td>INTEGER</td>\n",
              "<td>0</td>\n",
              "</tr>\n",
              "<tr>\n",
              "<td>personId</td>\n",
              "<td>INTEGER</td>\n",
              "<td>1</td>\n",
              "</tr>\n",
              "<tr>\n",
              "<td>pos</td>\n",
              "<td>TEXT</td>\n",
              "<td>0</td>\n",
              "</tr>\n",
              "<tr>\n",
              "<td>teamId</td>\n",
              "<td>INTEGER</td>\n",
              "<td>0</td>\n",
              "</tr>\n",
              "<tr>\n",
              "<td>temporaryDisplayName</td>\n",
              "<td>TEXT</td>\n",
              "<td>0</td>\n",
              "</tr>\n",
              "<tr>\n",
              "<td>weightKilograms</td>\n",
              "<td>REAL</td>\n",
              "<td>0</td>\n",
              "</tr>\n",
              "<tr>\n",
              "<td>weightPounds</td>\n",
              "<td>REAL</td>\n",
              "<td>0</td>\n",
              "</tr>\n",
              "<tr>\n",
              "<td>yearsPro</td>\n",
              "<td>INTEGER</td>\n",
              "<td>0</td>\n",
              "</tr>\n",
              "</table>\n",
              "18 rows in set (0.00 sec)"
            ],
            "text/plain": [
              "+----------------------+---------+----+\n",
              "| name                 | type    | pk |\n",
              "+----------------------+---------+----+\n",
              "| collegeName          | TEXT    | 0  |\n",
              "+----------------------+---------+----+\n",
              "| country              | TEXT    | 0  |\n",
              "+----------------------+---------+----+\n",
              "| dateOfBirthUTC       | TEXT    | 0  |\n",
              "+----------------------+---------+----+\n",
              "| firstName            | TEXT    | 0  |\n",
              "+----------------------+---------+----+\n",
              "| heightFeet           | INTEGER | 0  |\n",
              "+----------------------+---------+----+\n",
              "| heightInches         | INTEGER | 0  |\n",
              "+----------------------+---------+----+\n",
              "| heightMeters         | REAL    | 0  |\n",
              "+----------------------+---------+----+\n",
              "| jersey               | INTEGER | 0  |\n",
              "+----------------------+---------+----+\n",
              "| lastAffiliation      | TEXT    | 0  |\n",
              "+----------------------+---------+----+\n",
              "| lastName             | TEXT    | 0  |\n",
              "+----------------------+---------+----+\n",
              "| nbaDebutYear         | INTEGER | 0  |\n",
              "+----------------------+---------+----+\n",
              "| personId             | INTEGER | 1  |\n",
              "+----------------------+---------+----+\n",
              "| pos                  | TEXT    | 0  |\n",
              "+----------------------+---------+----+\n",
              "| teamId               | INTEGER | 0  |\n",
              "+----------------------+---------+----+\n",
              "| temporaryDisplayName | TEXT    | 0  |\n",
              "+----------------------+---------+----+\n",
              "| weightKilograms      | REAL    | 0  |\n",
              "+----------------------+---------+----+\n",
              "| weightPounds         | REAL    | 0  |\n",
              "+----------------------+---------+----+\n",
              "| yearsPro             | INTEGER | 0  |\n",
              "+----------------------+---------+----+\n",
              "18 rows in set (0.00 sec)"
            ]
          },
          "execution_count": 12,
          "metadata": {},
          "output_type": "execute_result"
        }
      ],
      "source": [
        "SELECT name,\n",
        "       type,\n",
        "       pk\n",
        "  FROM PRAGMA_TABLE_INFO('players')\n",
        " ORDER BY name;"
      ]
    },
    {
      "cell_type": "code",
      "execution_count": null,
      "id": "48cee479",
      "metadata": {
        "id": "48cee479",
        "outputId": "3669740b-6cc2-414f-a529-3d366839838f"
      },
      "outputs": [
        {
          "data": {
            "text/html": [
              "<table>\n",
              "<tr>\n",
              "<th>name</th>\n",
              "<th>type</th>\n",
              "<th>pk</th>\n",
              "</tr>\n",
              "<tr>\n",
              "<td>altCityName</td>\n",
              "<td>TEXT</td>\n",
              "<td>0</td>\n",
              "</tr>\n",
              "<tr>\n",
              "<td>city</td>\n",
              "<td>TEXT</td>\n",
              "<td>0</td>\n",
              "</tr>\n",
              "<tr>\n",
              "<td>confName</td>\n",
              "<td>TEXT</td>\n",
              "<td>0</td>\n",
              "</tr>\n",
              "<tr>\n",
              "<td>divName</td>\n",
              "<td>TEXT</td>\n",
              "<td>0</td>\n",
              "</tr>\n",
              "<tr>\n",
              "<td>fullName</td>\n",
              "<td>TEXT</td>\n",
              "<td>0</td>\n",
              "</tr>\n",
              "<tr>\n",
              "<td>isAllStar</td>\n",
              "<td>TEXT</td>\n",
              "<td>0</td>\n",
              "</tr>\n",
              "<tr>\n",
              "<td>isNBAFranchise</td>\n",
              "<td>TEXT</td>\n",
              "<td>0</td>\n",
              "</tr>\n",
              "<tr>\n",
              "<td>nickname</td>\n",
              "<td>TEXT</td>\n",
              "<td>0</td>\n",
              "</tr>\n",
              "<tr>\n",
              "<td>teamId</td>\n",
              "<td>INTEGER</td>\n",
              "<td>1</td>\n",
              "</tr>\n",
              "<tr>\n",
              "<td>teamShortName</td>\n",
              "<td>TEXT</td>\n",
              "<td>0</td>\n",
              "</tr>\n",
              "<tr>\n",
              "<td>tricode</td>\n",
              "<td>TEXT</td>\n",
              "<td>0</td>\n",
              "</tr>\n",
              "<tr>\n",
              "<td>urlName</td>\n",
              "<td>TEXT</td>\n",
              "<td>0</td>\n",
              "</tr>\n",
              "</table>\n",
              "12 rows in set (0.00 sec)"
            ],
            "text/plain": [
              "+----------------+---------+----+\n",
              "| name           | type    | pk |\n",
              "+----------------+---------+----+\n",
              "| altCityName    | TEXT    | 0  |\n",
              "+----------------+---------+----+\n",
              "| city           | TEXT    | 0  |\n",
              "+----------------+---------+----+\n",
              "| confName       | TEXT    | 0  |\n",
              "+----------------+---------+----+\n",
              "| divName        | TEXT    | 0  |\n",
              "+----------------+---------+----+\n",
              "| fullName       | TEXT    | 0  |\n",
              "+----------------+---------+----+\n",
              "| isAllStar      | TEXT    | 0  |\n",
              "+----------------+---------+----+\n",
              "| isNBAFranchise | TEXT    | 0  |\n",
              "+----------------+---------+----+\n",
              "| nickname       | TEXT    | 0  |\n",
              "+----------------+---------+----+\n",
              "| teamId         | INTEGER | 1  |\n",
              "+----------------+---------+----+\n",
              "| teamShortName  | TEXT    | 0  |\n",
              "+----------------+---------+----+\n",
              "| tricode        | TEXT    | 0  |\n",
              "+----------------+---------+----+\n",
              "| urlName        | TEXT    | 0  |\n",
              "+----------------+---------+----+\n",
              "12 rows in set (0.00 sec)"
            ]
          },
          "execution_count": 13,
          "metadata": {},
          "output_type": "execute_result"
        }
      ],
      "source": [
        "SELECT name,\n",
        "       type,\n",
        "       pk\n",
        "  FROM PRAGMA_TABLE_INFO('teams')\n",
        " ORDER BY name;"
      ]
    },
    {
      "cell_type": "markdown",
      "id": "0825f72a",
      "metadata": {
        "id": "0825f72a"
      },
      "source": [
        "## 學習資料庫 `twElection2020`\n",
        "\n",
        "![](https://github.com/ccwu0918/book-sqlfifty/blob/main/images/twElection2020-erd.png?raw=1)"
      ]
    },
    {
      "cell_type": "code",
      "execution_count": null,
      "id": "714d7b38",
      "metadata": {
        "id": "714d7b38",
        "outputId": "5c1fbbf7-3106-462e-d08a-58402d6ffcbd"
      },
      "outputs": [
        {
          "data": {
            "text/html": [
              "<table>\n",
              "<tr>\n",
              "<th>name</th>\n",
              "<th>type</th>\n",
              "<th>pk</th>\n",
              "</tr>\n",
              "<tr>\n",
              "<td>county</td>\n",
              "<td>TEXT</td>\n",
              "<td>0</td>\n",
              "</tr>\n",
              "<tr>\n",
              "<td>id</td>\n",
              "<td>INTEGER</td>\n",
              "<td>1</td>\n",
              "</tr>\n",
              "<tr>\n",
              "<td>town</td>\n",
              "<td>TEXT</td>\n",
              "<td>0</td>\n",
              "</tr>\n",
              "<tr>\n",
              "<td>village</td>\n",
              "<td>TEXT</td>\n",
              "<td>0</td>\n",
              "</tr>\n",
              "</table>\n",
              "4 rows in set (0.00 sec)"
            ],
            "text/plain": [
              "+---------+---------+----+\n",
              "| name    | type    | pk |\n",
              "+---------+---------+----+\n",
              "| county  | TEXT    | 0  |\n",
              "+---------+---------+----+\n",
              "| id      | INTEGER | 1  |\n",
              "+---------+---------+----+\n",
              "| town    | TEXT    | 0  |\n",
              "+---------+---------+----+\n",
              "| village | TEXT    | 0  |\n",
              "+---------+---------+----+\n",
              "4 rows in set (0.00 sec)"
            ]
          },
          "execution_count": 14,
          "metadata": {},
          "output_type": "execute_result"
        }
      ],
      "source": [
        "SELECT name,\n",
        "       type,\n",
        "       pk\n",
        "  FROM PRAGMA_TABLE_INFO('admin_regions')\n",
        " ORDER BY name;"
      ]
    },
    {
      "cell_type": "code",
      "execution_count": null,
      "id": "23c522a0",
      "metadata": {
        "id": "23c522a0",
        "outputId": "ffa02536-191a-4fba-9cff-95740a2ce769"
      },
      "outputs": [
        {
          "data": {
            "text/html": [
              "<table>\n",
              "<tr>\n",
              "<th>name</th>\n",
              "<th>type</th>\n",
              "<th>pk</th>\n",
              "</tr>\n",
              "<tr>\n",
              "<td>id</td>\n",
              "<td>INTEGER</td>\n",
              "<td>1</td>\n",
              "</tr>\n",
              "<tr>\n",
              "<td>party_id</td>\n",
              "<td>INTEGER</td>\n",
              "<td>0</td>\n",
              "</tr>\n",
              "<tr>\n",
              "<td>type</td>\n",
              "<td>TEXT</td>\n",
              "<td>0</td>\n",
              "</tr>\n",
              "<tr>\n",
              "<td>number</td>\n",
              "<td>INTEGER</td>\n",
              "<td>0</td>\n",
              "</tr>\n",
              "<tr>\n",
              "<td>candidate</td>\n",
              "<td>TEXT</td>\n",
              "<td>0</td>\n",
              "</tr>\n",
              "</table>\n",
              "5 rows in set (0.00 sec)"
            ],
            "text/plain": [
              "+-----------+---------+----+\n",
              "| name      | type    | pk |\n",
              "+-----------+---------+----+\n",
              "| id        | INTEGER | 1  |\n",
              "+-----------+---------+----+\n",
              "| party_id  | INTEGER | 0  |\n",
              "+-----------+---------+----+\n",
              "| type      | TEXT    | 0  |\n",
              "+-----------+---------+----+\n",
              "| number    | INTEGER | 0  |\n",
              "+-----------+---------+----+\n",
              "| candidate | TEXT    | 0  |\n",
              "+-----------+---------+----+\n",
              "5 rows in set (0.00 sec)"
            ]
          },
          "execution_count": 15,
          "metadata": {},
          "output_type": "execute_result"
        }
      ],
      "source": [
        "SELECT name,\n",
        "       type,\n",
        "       pk\n",
        "  FROM PRAGMA_TABLE_INFO('candidates');"
      ]
    },
    {
      "cell_type": "code",
      "execution_count": null,
      "id": "c8f90335",
      "metadata": {
        "id": "c8f90335",
        "outputId": "60c8b216-abc0-4897-dd69-716388b05fdf"
      },
      "outputs": [
        {
          "data": {
            "text/html": [
              "<table>\n",
              "<tr>\n",
              "<th>name</th>\n",
              "<th>type</th>\n",
              "<th>pk</th>\n",
              "</tr>\n",
              "<tr>\n",
              "<td>admin_region_id</td>\n",
              "<td>INTEGER</td>\n",
              "<td>0</td>\n",
              "</tr>\n",
              "<tr>\n",
              "<td>office</td>\n",
              "<td>INTEGER</td>\n",
              "<td>0</td>\n",
              "</tr>\n",
              "<tr>\n",
              "<td>party_id</td>\n",
              "<td>INTEGER</td>\n",
              "<td>0</td>\n",
              "</tr>\n",
              "<tr>\n",
              "<td>votes</td>\n",
              "<td>INTEGER</td>\n",
              "<td>0</td>\n",
              "</tr>\n",
              "</table>\n",
              "4 rows in set (0.00 sec)"
            ],
            "text/plain": [
              "+-----------------+---------+----+\n",
              "| name            | type    | pk |\n",
              "+-----------------+---------+----+\n",
              "| admin_region_id | INTEGER | 0  |\n",
              "+-----------------+---------+----+\n",
              "| office          | INTEGER | 0  |\n",
              "+-----------------+---------+----+\n",
              "| party_id        | INTEGER | 0  |\n",
              "+-----------------+---------+----+\n",
              "| votes           | INTEGER | 0  |\n",
              "+-----------------+---------+----+\n",
              "4 rows in set (0.00 sec)"
            ]
          },
          "execution_count": 16,
          "metadata": {},
          "output_type": "execute_result"
        }
      ],
      "source": [
        "SELECT name,\n",
        "       type,\n",
        "       pk\n",
        "  FROM PRAGMA_TABLE_INFO('legislative_at_large')\n",
        " ORDER BY name;"
      ]
    },
    {
      "cell_type": "code",
      "execution_count": null,
      "id": "dc446871",
      "metadata": {
        "id": "dc446871",
        "outputId": "84eab0db-75c4-4b36-8698-9460d1106296"
      },
      "outputs": [
        {
          "data": {
            "text/html": [
              "<table>\n",
              "<tr>\n",
              "<th>name</th>\n",
              "<th>type</th>\n",
              "<th>pk</th>\n",
              "</tr>\n",
              "<tr>\n",
              "<td>admin_region_id</td>\n",
              "<td>INTEGER</td>\n",
              "<td>0</td>\n",
              "</tr>\n",
              "<tr>\n",
              "<td>candidate_id</td>\n",
              "<td>INTEGER</td>\n",
              "<td>0</td>\n",
              "</tr>\n",
              "<tr>\n",
              "<td>electoral_district</td>\n",
              "<td>TEXT</td>\n",
              "<td>0</td>\n",
              "</tr>\n",
              "<tr>\n",
              "<td>office</td>\n",
              "<td>INTEGER</td>\n",
              "<td>0</td>\n",
              "</tr>\n",
              "<tr>\n",
              "<td>votes</td>\n",
              "<td>INTEGER</td>\n",
              "<td>0</td>\n",
              "</tr>\n",
              "</table>\n",
              "5 rows in set (0.00 sec)"
            ],
            "text/plain": [
              "+--------------------+---------+----+\n",
              "| name               | type    | pk |\n",
              "+--------------------+---------+----+\n",
              "| admin_region_id    | INTEGER | 0  |\n",
              "+--------------------+---------+----+\n",
              "| candidate_id       | INTEGER | 0  |\n",
              "+--------------------+---------+----+\n",
              "| electoral_district | TEXT    | 0  |\n",
              "+--------------------+---------+----+\n",
              "| office             | INTEGER | 0  |\n",
              "+--------------------+---------+----+\n",
              "| votes              | INTEGER | 0  |\n",
              "+--------------------+---------+----+\n",
              "5 rows in set (0.00 sec)"
            ]
          },
          "execution_count": 17,
          "metadata": {},
          "output_type": "execute_result"
        }
      ],
      "source": [
        "SELECT name,\n",
        "       type,\n",
        "       pk\n",
        "  FROM PRAGMA_TABLE_INFO('legislative_regional')\n",
        " ORDER BY name;"
      ]
    },
    {
      "cell_type": "code",
      "execution_count": null,
      "id": "1fb1ba12",
      "metadata": {
        "id": "1fb1ba12",
        "outputId": "5ff8ccb8-b10e-4da7-db2b-2836167e7bda"
      },
      "outputs": [
        {
          "data": {
            "text/html": [
              "<table>\n",
              "<tr>\n",
              "<th>name</th>\n",
              "<th>type</th>\n",
              "<th>pk</th>\n",
              "</tr>\n",
              "<tr>\n",
              "<td>id</td>\n",
              "<td>INTEGER</td>\n",
              "<td>1</td>\n",
              "</tr>\n",
              "<tr>\n",
              "<td>party</td>\n",
              "<td>TEXT</td>\n",
              "<td>0</td>\n",
              "</tr>\n",
              "</table>\n",
              "2 rows in set (0.00 sec)"
            ],
            "text/plain": [
              "+-------+---------+----+\n",
              "| name  | type    | pk |\n",
              "+-------+---------+----+\n",
              "| id    | INTEGER | 1  |\n",
              "+-------+---------+----+\n",
              "| party | TEXT    | 0  |\n",
              "+-------+---------+----+\n",
              "2 rows in set (0.00 sec)"
            ]
          },
          "execution_count": 18,
          "metadata": {},
          "output_type": "execute_result"
        }
      ],
      "source": [
        "SELECT name,\n",
        "       type,\n",
        "       pk\n",
        "  FROM PRAGMA_TABLE_INFO('parties')\n",
        " ORDER BY name;"
      ]
    },
    {
      "cell_type": "code",
      "execution_count": null,
      "id": "70dadbec",
      "metadata": {
        "id": "70dadbec",
        "outputId": "3d7d8ef6-0dc1-46de-c98d-dacc08530205"
      },
      "outputs": [
        {
          "data": {
            "text/html": [
              "<table>\n",
              "<tr>\n",
              "<th>name</th>\n",
              "<th>type</th>\n",
              "<th>pk</th>\n",
              "</tr>\n",
              "<tr>\n",
              "<td>admin_region_id</td>\n",
              "<td>INTEGER</td>\n",
              "<td>0</td>\n",
              "</tr>\n",
              "<tr>\n",
              "<td>candidate_id</td>\n",
              "<td>INTEGER</td>\n",
              "<td>0</td>\n",
              "</tr>\n",
              "<tr>\n",
              "<td>office</td>\n",
              "<td>INTEGER</td>\n",
              "<td>0</td>\n",
              "</tr>\n",
              "<tr>\n",
              "<td>votes</td>\n",
              "<td>INTEGER</td>\n",
              "<td>0</td>\n",
              "</tr>\n",
              "</table>\n",
              "4 rows in set (0.00 sec)"
            ],
            "text/plain": [
              "+-----------------+---------+----+\n",
              "| name            | type    | pk |\n",
              "+-----------------+---------+----+\n",
              "| admin_region_id | INTEGER | 0  |\n",
              "+-----------------+---------+----+\n",
              "| candidate_id    | INTEGER | 0  |\n",
              "+-----------------+---------+----+\n",
              "| office          | INTEGER | 0  |\n",
              "+-----------------+---------+----+\n",
              "| votes           | INTEGER | 0  |\n",
              "+-----------------+---------+----+\n",
              "4 rows in set (0.00 sec)"
            ]
          },
          "execution_count": 19,
          "metadata": {},
          "output_type": "execute_result"
        }
      ],
      "source": [
        "SELECT name,\n",
        "       type,\n",
        "       pk\n",
        "  FROM PRAGMA_TABLE_INFO('presidential')\n",
        " ORDER BY name;"
      ]
    }
  ],
  "metadata": {
    "kernelspec": {
      "display_name": "xsql",
      "language": "sqlite",
      "name": "xsql"
    },
    "language_info": {
      "codemirror_mode": "sql",
      "file_extension": "",
      "mimetype": "",
      "name": "mysql",
      "version": "0.1.4"
    },
    "colab": {
      "provenance": [],
      "include_colab_link": true
    }
  },
  "nbformat": 4,
  "nbformat_minor": 5
}