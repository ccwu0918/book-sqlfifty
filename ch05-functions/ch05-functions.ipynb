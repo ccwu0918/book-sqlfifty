{
  "cells": [
    {
      "cell_type": "markdown",
      "metadata": {
        "id": "view-in-github",
        "colab_type": "text"
      },
      "source": [
        "<a href=\"https://colab.research.google.com/github/ccwu0918/book-sqlfifty/blob/main/ch05-functions/ch05-functions.ipynb\" target=\"_parent\"><img src=\"https://colab.research.google.com/assets/colab-badge.svg\" alt=\"Open In Colab\"/></a>"
      ]
    },
    {
      "cell_type": "markdown",
      "id": "lightweight-fruit",
      "metadata": {
        "id": "lightweight-fruit"
      },
      "source": [
        "# SQL 的五十道練習：初學者友善的資料庫入門\n",
        "\n",
        "> 函數"
      ]
    },
    {
      "cell_type": "markdown",
      "id": "d1ed5229",
      "metadata": {
        "id": "d1ed5229"
      },
      "source": [
        "讀者如果是資料科學的初學者，可以略過下述的程式碼；讀者如果不是資料科學的初學者，欲使用 JupyterLab 執行本章節內容，必須先執行下述程式碼載入所需模組與連接資料庫。"
      ]
    },
    {
      "cell_type": "code",
      "source": [
        "!git clone https://github.com/ccwu0918/book-sqlfifty"
      ],
      "metadata": {
        "id": "OLdPXBJgIE8x"
      },
      "execution_count": null,
      "outputs": [],
      "id": "OLdPXBJgIE8x"
    },
    {
      "cell_type": "code",
      "execution_count": null,
      "metadata": {
        "id": "bfa07fd1"
      },
      "outputs": [],
      "source": [
        "# %LOAD sqlite3 db=../databases/imdb.db timeout=2 shared_cache=true"
      ],
      "id": "bfa07fd1"
    },
    {
      "cell_type": "code",
      "execution_count": null,
      "metadata": {
        "deletable": false,
        "id": "N6lQpgDt_iPy"
      },
      "outputs": [],
      "source": [
        "import sqlite3\n",
        "import unittest\n",
        "import json\n",
        "import os\n",
        "import numpy as np\n",
        "import pandas as pd\n",
        "conn = sqlite3.connect('./databases/imdb.db')\n",
        "conn.execute(\"\"\"ATTACH './databases/covid19.db' AS covid19\"\"\")\n",
        "conn.execute(\"\"\"ATTACH './databases/twElection2020.db' AS twElection2020\"\"\")\n",
        "conn.execute(\"\"\"ATTACH './databases/nba.db' AS nba\"\"\")\n",
        "conn.execute(\"\"\"ATTACH './databases/northwind.db' AS Northwind\"\"\")\n",
        "conn.execute(\"\"\"ATTACH './databases/Chinook_Sqlite.sqlite' AS Chinook\"\"\")"
      ],
      "id": "N6lQpgDt_iPy"
    },
    {
      "cell_type": "code",
      "source": [
        "# %%capture\n",
        "# load the SQL magic extension\n",
        "# https://github.com/catherinedevlin/ipython-sql\n",
        "# this extension allows us to connect to DBs and issue SQL command\n",
        "%load_ext sql\n",
        "\n",
        "# now we can use the magic extension to connect to our SQLite DB\n",
        "# use %sql to write an inline SQL command\n",
        "# use %%sql to write SQL commands in a cell\n",
        "%sql sqlite:///databases/imdb.db"
      ],
      "metadata": {
        "id": "PdgXDJam_07h"
      },
      "execution_count": null,
      "outputs": [],
      "id": "PdgXDJam_07h"
    },
    {
      "cell_type": "code",
      "source": [
        "%%sql\n",
        "ATTACH \"./databases/covid19.db\" AS covid19;\n",
        "ATTACH \"./databases/twElection2020.db\" AS twElection2020;\n",
        "ATTACH \"./databases/nba.db\" AS nba;\n",
        "ATTACH \"./databases/northwind.db\" AS Northwind;\n",
        "ATTACH \"./databases/Chinook_Sqlite.sqlite\" AS Chinook;"
      ],
      "metadata": {
        "id": "2buY_jlrABq3"
      },
      "execution_count": null,
      "outputs": [],
      "id": "2buY_jlrABq3"
    },
    {
      "cell_type": "code",
      "source": [
        "%%sql\n",
        "SELECT sqlite_version();"
      ],
      "metadata": {
        "id": "Bm8LogkDACyI"
      },
      "execution_count": null,
      "outputs": [],
      "id": "Bm8LogkDACyI"
    },
    {
      "cell_type": "markdown",
      "id": "supposed-spread",
      "metadata": {
        "id": "supposed-spread"
      },
      "source": [
        "## 複習一下\n",
        "\n",
        "在第三章「從資料表選擇」我們將 SQL 敘述歸納為以下幾個部分的組成：\n",
        "\n",
        "- 保留字：具有特定功能的指令。\n",
        "- 符號：具有特定功能的符號。\n",
        "- 常數：由使用者給予的資料。\n",
        "- 函數：具有特定邏輯的輸入與輸出對應。\n",
        "\n",
        "其中在「函數」這個部分，我們可以使用函數來對不同資料類別應用，包含整數、浮點數、文字與空值，藉此讓輸入經由特定邏輯處理後對應為輸出，函數不僅能應用於常數之上，亦能應用在資料表的欄。\n",
        "\n",
        "## 函數\n",
        "\n",
        "Function，中文翻譯為函數或者函式，在資料分析和程式語言中都扮演舉足輕重的角色！函數是預先被定義好的運算處理邏輯，透過它的作用，能夠將「輸入」對應為「輸出」，進而完成計算數值、操作文字以及資料類別相關等任務。函數可以粗略分為兩大類：\n",
        "\n",
        "1. 通用函數（Universal functions）。\n",
        "2. 聚合函數（Aggregate functions）。\n",
        "\n",
        "其中通用函數又能細分為四種：\n",
        "\n",
        "1. 資料類別相關。\n",
        "2. 計算數值。\n",
        "3. 操作文字。\n",
        "4. 操作日期時間。\n",
        "\n",
        "理解函數的運作首先我們要認識函數是怎麼組成的，函數由「函數的名稱」、「輸入」、「參數」、「運算處理邏輯」以及「輸出」所組成，以日常生活中去手搖飲料店買珍珠奶茶來比喻會更容易理解：\n",
        "\n",
        "- 函數的名稱：去手搖飲料店買珍珠奶茶。\n",
        "- 輸入（Input）：珍珠奶茶的價錢。\n",
        "- 參數（Parameter）：甜度以及冰度。\n",
        "- 運算處理邏輯：從訂單成立、製作珍珠奶茶、封口最後是成品。\n",
        "- 輸出（Output）：依據價錢、甜度與冰度所製作的珍珠奶茶。\n",
        "\n",
        "![](https://github.com/datainpoint/book-sqlfifty/blob/main/images/rosalind-chang-P_wPicZYoPI-unsplash.jpg?raw=1)\n",
        "\n",
        "來源：[Photo by Rosalind Chang on Unsplash](https://unsplash.com/photos/P_wPicZYoPI)\n",
        "\n",
        "使用函數的語法是：\n",
        "\n",
        "```sql\n",
        "SELECT FUNCTION(input, parameter) AS alias\n",
        "```\n",
        "\n",
        "以一個常用的數值運算函數 `ROUND()` 為例說明，`ROUND()` 函數能夠對輸入的浮點數四捨五入至指定小數點位數："
      ]
    },
    {
      "cell_type": "code",
      "execution_count": null,
      "id": "0d254c79",
      "metadata": {
        "id": "0d254c79",
        "outputId": "49398457-a748-4a99-d7e7-0b864b4b791f"
      },
      "outputs": [
        {
          "data": {
            "text/html": [
              "<table>\n",
              "<tr>\n",
              "<th>e</th>\n",
              "<th>round_e_0</th>\n",
              "<th>round_e_1</th>\n",
              "<th>round_e_2</th>\n",
              "</tr>\n",
              "<tr>\n",
              "<td>2.718</td>\n",
              "<td>3.0</td>\n",
              "<td>2.7</td>\n",
              "<td>2.72</td>\n",
              "</tr>\n",
              "</table>\n",
              "1 row in set (0.00 sec)"
            ],
            "text/plain": [
              "+-------+-----------+-----------+-----------+\n",
              "| e     | round_e_0 | round_e_1 | round_e_2 |\n",
              "+-------+-----------+-----------+-----------+\n",
              "| 2.718 | 3.0       | 2.7       | 2.72      |\n",
              "+-------+-----------+-----------+-----------+\n",
              "1 row in set (0.00 sec)"
            ]
          },
          "execution_count": 5,
          "metadata": {},
          "output_type": "execute_result"
        }
      ],
      "source": [
        "%%sql\n",
        "SELECT 2.718 AS e,\n",
        "       ROUND(2.718) AS round_e_0,    -- round to 0 digit\n",
        "       ROUND(2.718, 1) AS round_e_1, -- round to 1 digit\n",
        "       ROUND(2.718, 2) AS round_e_2; -- round to 2 digits"
      ]
    },
    {
      "cell_type": "markdown",
      "id": "shaped-reconstruction",
      "metadata": {
        "id": "shaped-reconstruction"
      },
      "source": [
        "再以另一個常用的文字操作函數 `SUBSTR()` 為例說明，`SUBSTR()` 函數能夠對輸入的文字從指定起點擷取指定長度的字串："
      ]
    },
    {
      "cell_type": "code",
      "execution_count": null,
      "id": "pursuant-passport",
      "metadata": {
        "id": "pursuant-passport",
        "outputId": "2b6d83b0-9f6c-40db-bc57-ecaf5c3095b1"
      },
      "outputs": [
        {
          "data": {
            "text/html": [
              "<table>\n",
              "<tr>\n",
              "<th>ironman</th>\n",
              "<th>first_name</th>\n",
              "<th>last_name</th>\n",
              "</tr>\n",
              "<tr>\n",
              "<td>Tony Stark</td>\n",
              "<td>Tony</td>\n",
              "<td>Stark</td>\n",
              "</tr>\n",
              "</table>\n",
              "1 row in set (0.00 sec)"
            ],
            "text/plain": [
              "+------------+------------+-----------+\n",
              "| ironman    | first_name | last_name |\n",
              "+------------+------------+-----------+\n",
              "| Tony Stark | Tony       | Stark     |\n",
              "+------------+------------+-----------+\n",
              "1 row in set (0.00 sec)"
            ]
          },
          "execution_count": 6,
          "metadata": {},
          "output_type": "execute_result"
        }
      ],
      "source": [
        "%%sql\n",
        "SELECT 'Tony Stark' AS ironman,\n",
        "       SUBSTR('Tony Stark', 1, 4) AS first_name, -- sub-string from the 1st character for length of 4\n",
        "       SUBSTR('Tony Stark', 6, 5) AS last_name;  -- sub-string from the 6th character for length of 5"
      ]
    },
    {
      "cell_type": "markdown",
      "id": "5c3abe34",
      "metadata": {
        "id": "5c3abe34"
      },
      "source": [
        "函數中的輸入與參數有時不一定需要指定，有些函數的設計不需要輸入，例如 `DATE()` 函數能夠回傳電腦當下的日期；有些函數的設計參數具有預設（Default），如果沒有指定就採用預設，例如 `ROUND()` 函數如果沒有指定四捨五入至幾位小數，則會採用 `0` 為預設，意即四捨五入到整數位數、小數位數 `0`。\n",
        "\n",
        "```sql\n",
        "SELECT ROUND(2.718) AS round_e_0,\n",
        "       DATE() AS todays_date;\n",
        "```\n",
        "\n",
        "使用函數還有一點值得注意的概念：複合函數（Composite functions），意即在函數中包括函數、先後使用多個函數，先使用的函數輸出將會成為後使用的函數輸入。舉例來說，`SUBSTR()` 函數的輸出為 `'Bos'`，成為 `UPPER()` 函數的輸入，最後的輸出為 `'BOS'`。"
      ]
    },
    {
      "cell_type": "code",
      "execution_count": null,
      "id": "6f90f776",
      "metadata": {
        "id": "6f90f776",
        "outputId": "62c8b1ac-fc6e-4596-822e-b7115890fc69"
      },
      "outputs": [
        {
          "data": {
            "text/html": [
              "<table>\n",
              "<tr>\n",
              "<th>city</th>\n",
              "<th>composite_function</th>\n",
              "</tr>\n",
              "<tr>\n",
              "<td>Boston</td>\n",
              "<td>BOS</td>\n",
              "</tr>\n",
              "</table>\n",
              "1 row in set (0.00 sec)"
            ],
            "text/plain": [
              "+--------+--------------------+\n",
              "| city   | composite_function |\n",
              "+--------+--------------------+\n",
              "| Boston | BOS                |\n",
              "+--------+--------------------+\n",
              "1 row in set (0.00 sec)"
            ]
          },
          "execution_count": 7,
          "metadata": {},
          "output_type": "execute_result"
        }
      ],
      "source": [
        "%%sql\n",
        "SELECT 'Boston' AS city,\n",
        "       UPPER(SUBSTR('Boston', 1, 3)) AS composite_function;"
      ]
    },
    {
      "cell_type": "markdown",
      "id": "complete-breast",
      "metadata": {
        "id": "complete-breast"
      },
      "source": [
        "## 通用函數與聚合函數\n",
        "\n",
        "前一個小節我們提到函數可以粗略分為兩大類：通用函數（Universal functions）與聚合函數（Aggregate functions），之所以區分為兩類，是因為函數的作用方向不同，跟資料表是由列（水平方向）與欄（垂直方向）所組成的二維表格概念契合，通用函數作用在「水平方向」、聚合函數作用在「垂直方向」。具體來說，通用函數的特徵是每列觀測值對應一個輸出結果，效果類似「衍生計算欄位」，差別在於一個是以函數輸出衍生計算欄位，一個則是以運算符生成衍生計算欄位，例如常用的數值運算函數 `ROUND()` 就是一個通用函數。"
      ]
    },
    {
      "cell_type": "code",
      "execution_count": null,
      "id": "4dd5f721",
      "metadata": {
        "id": "4dd5f721",
        "outputId": "8badd398-703b-4bcb-c71e-1acec5f9e2d1"
      },
      "outputs": [
        {
          "data": {
            "text/html": [
              "<table>\n",
              "<tr>\n",
              "<th>rating</th>\n",
              "<th>round_rating</th>\n",
              "</tr>\n",
              "<tr>\n",
              "<td>9.3</td>\n",
              "<td>9.0</td>\n",
              "</tr>\n",
              "<tr>\n",
              "<td>9.2</td>\n",
              "<td>9.0</td>\n",
              "</tr>\n",
              "<tr>\n",
              "<td>9</td>\n",
              "<td>9.0</td>\n",
              "</tr>\n",
              "<tr>\n",
              "<td>9</td>\n",
              "<td>9.0</td>\n",
              "</tr>\n",
              "<tr>\n",
              "<td>9</td>\n",
              "<td>9.0</td>\n",
              "</tr>\n",
              "</table>\n",
              "5 rows in set (0.00 sec)"
            ],
            "text/plain": [
              "+--------+--------------+\n",
              "| rating | round_rating |\n",
              "+--------+--------------+\n",
              "| 9.3    | 9.0          |\n",
              "+--------+--------------+\n",
              "| 9.2    | 9.0          |\n",
              "+--------+--------------+\n",
              "| 9      | 9.0          |\n",
              "+--------+--------------+\n",
              "| 9      | 9.0          |\n",
              "+--------+--------------+\n",
              "| 9      | 9.0          |\n",
              "+--------+--------------+\n",
              "5 rows in set (0.00 sec)"
            ]
          },
          "execution_count": 8,
          "metadata": {},
          "output_type": "execute_result"
        }
      ],
      "source": [
        "%%sql\n",
        "SELECT rating,\n",
        "       ROUND(rating) AS round_rating\n",
        "  FROM movies\n",
        " LIMIT 5;"
      ]
    },
    {
      "cell_type": "markdown",
      "id": "51368e97",
      "metadata": {
        "id": "51368e97"
      },
      "source": [
        "常用的文字操作函數 `SUBSTR()` 同樣也是一個通用函數。"
      ]
    },
    {
      "cell_type": "code",
      "execution_count": null,
      "id": "687020c6",
      "metadata": {
        "id": "687020c6",
        "outputId": "7e1378de-0a83-415f-adcb-c1e6c0e3d831"
      },
      "outputs": [
        {
          "data": {
            "text/html": [
              "<table>\n",
              "<tr>\n",
              "<th>title</th>\n",
              "<th>substr_title</th>\n",
              "</tr>\n",
              "<tr>\n",
              "<td>The Shawshank Redemption</td>\n",
              "<td>The</td>\n",
              "</tr>\n",
              "<tr>\n",
              "<td>The Godfather</td>\n",
              "<td>The</td>\n",
              "</tr>\n",
              "<tr>\n",
              "<td>The Dark Knight</td>\n",
              "<td>The</td>\n",
              "</tr>\n",
              "<tr>\n",
              "<td>The Godfather Part II</td>\n",
              "<td>The</td>\n",
              "</tr>\n",
              "</table>\n",
              "4 rows in set (0.00 sec)"
            ],
            "text/plain": [
              "+--------------------------+--------------+\n",
              "| title                    | substr_title |\n",
              "+--------------------------+--------------+\n",
              "| The Shawshank Redemption | The          |\n",
              "+--------------------------+--------------+\n",
              "| The Godfather            | The          |\n",
              "+--------------------------+--------------+\n",
              "| The Dark Knight          | The          |\n",
              "+--------------------------+--------------+\n",
              "| The Godfather Part II    | The          |\n",
              "+--------------------------+--------------+\n",
              "4 rows in set (0.00 sec)"
            ]
          },
          "execution_count": 9,
          "metadata": {},
          "output_type": "execute_result"
        }
      ],
      "source": [
        "%%sql\n",
        "SELECT title,\n",
        "       SUBSTR(title, 1, 3) AS substr_title\n",
        "  FROM movies\n",
        " LIMIT 4;"
      ]
    },
    {
      "cell_type": "markdown",
      "id": "informal-marriage",
      "metadata": {
        "id": "informal-marriage"
      },
      "source": [
        "聚合函數的特徵是一欄變數、`m` 列觀測值對應一個輸出結果，例如常用於摘要數值的函數 `AVG()` 就是一個通用函數，`AVG()` 函數能夠對輸入的數值欄位取其平均值。"
      ]
    },
    {
      "cell_type": "code",
      "execution_count": null,
      "id": "80b944d1",
      "metadata": {
        "id": "80b944d1",
        "outputId": "755fa5fd-9978-4307-989f-7cc79d8ab80e"
      },
      "outputs": [
        {
          "data": {
            "text/html": [
              "<table>\n",
              "<tr>\n",
              "<th>avg_rating</th>\n",
              "</tr>\n",
              "<tr>\n",
              "<td>8.30719999999998</td>\n",
              "</tr>\n",
              "</table>\n",
              "1 row in set (0.00 sec)"
            ],
            "text/plain": [
              "+------------------+\n",
              "| avg_rating       |\n",
              "+------------------+\n",
              "| 8.30719999999998 |\n",
              "+------------------+\n",
              "1 row in set (0.00 sec)"
            ]
          },
          "execution_count": 10,
          "metadata": {},
          "output_type": "execute_result"
        }
      ],
      "source": [
        "%%sql\n",
        "SELECT AVG(rating) AS avg_rating\n",
        "  FROM movies;"
      ]
    },
    {
      "cell_type": "markdown",
      "id": "e0b5fde3",
      "metadata": {
        "id": "e0b5fde3"
      },
      "source": [
        "聚合函數的特徵是一欄變數、`m` 列觀測值對應一個輸出結果，例如常用於摘要數值的函數 `AVG()` 就是一個通用函數，`AVG()` 函數能夠對輸入的數值欄位取其平均值。"
      ]
    },
    {
      "cell_type": "markdown",
      "id": "raising-earthquake",
      "metadata": {
        "id": "raising-earthquake"
      },
      "source": [
        "## 通用函數\n",
        "\n",
        "每列觀測值對應一個輸出結果的通用函數又可以細分為四種類型：\n",
        "\n",
        "1. 資料類別相關。\n",
        "2. 計算數值。\n",
        "3. 操作文字。\n",
        "4. 操作日期時間。\n",
        "\n",
        "我們從 SQLite 的官方文件 <https://www.sqlite.org/lang_corefunc.html> 挑出部分函數跟讀者簡介，不會一一示範，讀者只要理解函數的使用語法：\n",
        "\n",
        "```sql\n",
        "SELECT FUNCTION(input, parameter) AS alias\n",
        "```\n",
        "\n",
        "以及本章少數的函數使用範例，應該能夠舉一反三。"
      ]
    },
    {
      "cell_type": "markdown",
      "id": "several-luxembourg",
      "metadata": {
        "id": "several-luxembourg"
      },
      "source": [
        "### 通用函數：資料類別相關 `TYPEOF()`\n",
        "\n",
        "使用 `TYPEOF()` 函數顯示常數或者資料表欄位的類別。"
      ]
    },
    {
      "cell_type": "code",
      "execution_count": null,
      "id": "341be984",
      "metadata": {
        "id": "341be984",
        "outputId": "e89da308-fad6-4419-ddd2-eb9ac5c4b10a"
      },
      "outputs": [
        {
          "data": {
            "text/html": [
              "<table>\n",
              "<tr>\n",
              "<th>typeof_release_year</th>\n",
              "<th>typeof_rating</th>\n",
              "<th>typeof_title</th>\n",
              "</tr>\n",
              "<tr>\n",
              "<td>integer</td>\n",
              "<td>real</td>\n",
              "<td>text</td>\n",
              "</tr>\n",
              "</table>\n",
              "1 row in set (0.00 sec)"
            ],
            "text/plain": [
              "+---------------------+---------------+--------------+\n",
              "| typeof_release_year | typeof_rating | typeof_title |\n",
              "+---------------------+---------------+--------------+\n",
              "| integer             | real          | text         |\n",
              "+---------------------+---------------+--------------+\n",
              "1 row in set (0.00 sec)"
            ]
          },
          "execution_count": 11,
          "metadata": {},
          "output_type": "execute_result"
        }
      ],
      "source": [
        "%%sql\n",
        "SELECT TYPEOF(release_year) AS typeof_release_year,\n",
        "       TYPEOF(rating) AS typeof_rating,\n",
        "       TYPEOF(title) AS typeof_title\n",
        "  FROM movies\n",
        " LIMIT 1;"
      ]
    },
    {
      "cell_type": "markdown",
      "id": "e664a9ad",
      "metadata": {
        "id": "e664a9ad"
      },
      "source": [
        "### 通用函數：資料類別相關 `IFNULL()`\n",
        "\n",
        "使用 `IFNULL()` 函數回傳輸入常數或者資料表欄位中的第一個非空值資料，若皆為空值則回傳空值。"
      ]
    },
    {
      "cell_type": "code",
      "execution_count": null,
      "id": "ba7fb73d",
      "metadata": {
        "id": "ba7fb73d",
        "outputId": "88ac70d3-bbfa-44e2-86c3-fb8690d86d0c"
      },
      "outputs": [
        {
          "data": {
            "text/html": [
              "<table>\n",
              "<tr>\n",
              "<th>null_value</th>\n",
              "<th>text_value</th>\n",
              "</tr>\n",
              "<tr>\n",
              "<td>NULL</td>\n",
              "<td>Null replaced by text</td>\n",
              "</tr>\n",
              "</table>\n",
              "1 row in set (0.00 sec)"
            ],
            "text/plain": [
              "+------------+-----------------------+\n",
              "| null_value | text_value            |\n",
              "+------------+-----------------------+\n",
              "| NULL       | Null replaced by text |\n",
              "+------------+-----------------------+\n",
              "1 row in set (0.00 sec)"
            ]
          },
          "execution_count": 12,
          "metadata": {},
          "output_type": "execute_result"
        }
      ],
      "source": [
        "%%sql\n",
        "SELECT IFNULL(NULL, NULL) AS null_value,\n",
        "       IFNULL(NULL, 'Null replaced by text') AS text_value;"
      ]
    },
    {
      "cell_type": "markdown",
      "id": "ba71df4c",
      "metadata": {
        "id": "ba71df4c"
      },
      "source": [
        "舉例來說，在 `covid19` 資料庫的 `lookup_table` 資料表中 `Province_State` 與 `Admin2` 欄都有空值的存在，如果對這兩欄分別使用 `IFNULL()` 函數，可以將空值取代為指定文字。"
      ]
    },
    {
      "cell_type": "code",
      "execution_count": null,
      "id": "f65bcba1",
      "metadata": {
        "id": "f65bcba1",
        "outputId": "8bcf69d1-9bb4-4205-927e-78986dad45ee"
      },
      "outputs": [
        {
          "data": {
            "text/html": [
              "<table>\n",
              "<tr>\n",
              "<th>Province_State</th>\n",
              "<th>province_or_text_value</th>\n",
              "<th>Admin2</th>\n",
              "<th>county_or_text_value</th>\n",
              "</tr>\n",
              "<tr>\n",
              "<td>NULL</td>\n",
              "<td>No province data</td>\n",
              "<td>NULL</td>\n",
              "<td>No county data</td>\n",
              "</tr>\n",
              "<tr>\n",
              "<td>NULL</td>\n",
              "<td>No province data</td>\n",
              "<td>NULL</td>\n",
              "<td>No county data</td>\n",
              "</tr>\n",
              "<tr>\n",
              "<td>NULL</td>\n",
              "<td>No province data</td>\n",
              "<td>NULL</td>\n",
              "<td>No county data</td>\n",
              "</tr>\n",
              "<tr>\n",
              "<td>NULL</td>\n",
              "<td>No province data</td>\n",
              "<td>NULL</td>\n",
              "<td>No county data</td>\n",
              "</tr>\n",
              "<tr>\n",
              "<td>American Samoa</td>\n",
              "<td>American Samoa</td>\n",
              "<td>NULL</td>\n",
              "<td>No county data</td>\n",
              "</tr>\n",
              "</table>\n",
              "5 rows in set (0.00 sec)"
            ],
            "text/plain": [
              "+----------------+------------------------+--------+----------------------+\n",
              "| Province_State | province_or_text_value | Admin2 | county_or_text_value |\n",
              "+----------------+------------------------+--------+----------------------+\n",
              "| NULL           | No province data       | NULL   | No county data       |\n",
              "+----------------+------------------------+--------+----------------------+\n",
              "| NULL           | No province data       | NULL   | No county data       |\n",
              "+----------------+------------------------+--------+----------------------+\n",
              "| NULL           | No province data       | NULL   | No county data       |\n",
              "+----------------+------------------------+--------+----------------------+\n",
              "| NULL           | No province data       | NULL   | No county data       |\n",
              "+----------------+------------------------+--------+----------------------+\n",
              "| American Samoa | American Samoa         | NULL   | No county data       |\n",
              "+----------------+------------------------+--------+----------------------+\n",
              "5 rows in set (0.00 sec)"
            ]
          },
          "execution_count": 13,
          "metadata": {},
          "output_type": "execute_result"
        }
      ],
      "source": [
        "%%sql\n",
        "SELECT Province_State,\n",
        "       IFNULL(Province_State, 'No province data') AS province_or_text_value,\n",
        "       Admin2,\n",
        "       IFNULL(Admin2, 'No county data') AS county_or_text_value\n",
        "  FROM lookup_table\n",
        " LIMIT 5;"
      ]
    },
    {
      "cell_type": "markdown",
      "id": "e64a3702",
      "metadata": {
        "id": "e64a3702"
      },
      "source": [
        "### 通用函數：資料類別相關 `COALESCE()`\n",
        "\n",
        "使用 `COALESCE()` 函數回傳輸入常數或者資料表欄位中的第一個非空值資料，若皆為空值則回傳空值，與 `IFNULL()` 不同的地方在於可以接受兩個以上的輸入。"
      ]
    },
    {
      "cell_type": "code",
      "execution_count": null,
      "id": "546c0f27",
      "metadata": {
        "id": "546c0f27",
        "outputId": "2ca377c6-5d4d-4e1c-8002-8553e822a699"
      },
      "outputs": [
        {
          "data": {
            "text/html": [
              "<table>\n",
              "<tr>\n",
              "<th>null_value</th>\n",
              "<th>text_value</th>\n",
              "<th>text_value</th>\n",
              "</tr>\n",
              "<tr>\n",
              "<td>NULL</td>\n",
              "<td>Null replaced by text</td>\n",
              "<td>Null replaced by text</td>\n",
              "</tr>\n",
              "</table>\n",
              "1 row in set (0.00 sec)"
            ],
            "text/plain": [
              "+------------+-----------------------+-----------------------+\n",
              "| null_value | text_value            | text_value            |\n",
              "+------------+-----------------------+-----------------------+\n",
              "| NULL       | Null replaced by text | Null replaced by text |\n",
              "+------------+-----------------------+-----------------------+\n",
              "1 row in set (0.00 sec)"
            ]
          },
          "execution_count": 14,
          "metadata": {},
          "output_type": "execute_result"
        }
      ],
      "source": [
        "%%sql\n",
        "SELECT COALESCE(NULL, NULL) AS null_value,\n",
        "       COALESCE(NULL, 'Null replaced by text') AS text_value,\n",
        "       COALESCE(NULL, NULL, 'Null replaced by text') AS text_value;"
      ]
    },
    {
      "cell_type": "markdown",
      "id": "d8b2209d",
      "metadata": {
        "id": "d8b2209d"
      },
      "source": [
        "舉例來說，在 `covid19` 資料庫的 `lookup_table` 資料表中 `Province_State` 與 `Admin2` 欄都有空值的存在，如果對這兩欄使用 `COALESCE()` 函數，可以在僅有 `Admin2` 為空值的列數回傳 `Province_State` 值；在 `Province_State` 與 `Admin2` 皆為空值的列數回傳指定文字。"
      ]
    },
    {
      "cell_type": "code",
      "execution_count": null,
      "id": "311cc6dd",
      "metadata": {
        "id": "311cc6dd",
        "outputId": "57b045db-5627-4878-9aa6-cc6b76cb8003"
      },
      "outputs": [
        {
          "data": {
            "text/html": [
              "<table>\n",
              "<tr>\n",
              "<th>Province_State</th>\n",
              "<th>Admin2</th>\n",
              "<th>province_or_null</th>\n",
              "<th>province_or_text_value</th>\n",
              "</tr>\n",
              "<tr>\n",
              "<td>NULL</td>\n",
              "<td>NULL</td>\n",
              "<td>NULL</td>\n",
              "<td>No province or county data</td>\n",
              "</tr>\n",
              "<tr>\n",
              "<td>NULL</td>\n",
              "<td>NULL</td>\n",
              "<td>NULL</td>\n",
              "<td>No province or county data</td>\n",
              "</tr>\n",
              "<tr>\n",
              "<td>NULL</td>\n",
              "<td>NULL</td>\n",
              "<td>NULL</td>\n",
              "<td>No province or county data</td>\n",
              "</tr>\n",
              "<tr>\n",
              "<td>NULL</td>\n",
              "<td>NULL</td>\n",
              "<td>NULL</td>\n",
              "<td>No province or county data</td>\n",
              "</tr>\n",
              "<tr>\n",
              "<td>American Samoa</td>\n",
              "<td>NULL</td>\n",
              "<td>American Samoa</td>\n",
              "<td>American Samoa</td>\n",
              "</tr>\n",
              "</table>\n",
              "5 rows in set (0.00 sec)"
            ],
            "text/plain": [
              "+----------------+--------+------------------+----------------------------+\n",
              "| Province_State | Admin2 | province_or_null | province_or_text_value     |\n",
              "+----------------+--------+------------------+----------------------------+\n",
              "| NULL           | NULL   | NULL             | No province or county data |\n",
              "+----------------+--------+------------------+----------------------------+\n",
              "| NULL           | NULL   | NULL             | No province or county data |\n",
              "+----------------+--------+------------------+----------------------------+\n",
              "| NULL           | NULL   | NULL             | No province or county data |\n",
              "+----------------+--------+------------------+----------------------------+\n",
              "| NULL           | NULL   | NULL             | No province or county data |\n",
              "+----------------+--------+------------------+----------------------------+\n",
              "| American Samoa | NULL   | American Samoa   | American Samoa             |\n",
              "+----------------+--------+------------------+----------------------------+\n",
              "5 rows in set (0.00 sec)"
            ]
          },
          "execution_count": 15,
          "metadata": {},
          "output_type": "execute_result"
        }
      ],
      "source": [
        "%%sql\n",
        "SELECT Province_State,\n",
        "       Admin2,\n",
        "       COALESCE(Province_State, Admin2) AS province_or_null,\n",
        "       COALESCE(Province_State, Admin2, 'No province or county data') AS province_or_text_value\n",
        "  FROM lookup_table\n",
        " LIMIT 5;"
      ]
    },
    {
      "cell_type": "markdown",
      "id": "concrete-summary",
      "metadata": {
        "id": "concrete-summary"
      },
      "source": [
        "### 通用函數：計算數值 `ROUND()`\n",
        "\n",
        "`ROUND()` 函數能夠對輸入的浮點數四捨五入至指定小數點位數。"
      ]
    },
    {
      "cell_type": "code",
      "execution_count": null,
      "id": "6f3c7047",
      "metadata": {
        "id": "6f3c7047",
        "outputId": "7da4467f-2400-4a47-de0c-2cc29170d7a0"
      },
      "outputs": [
        {
          "data": {
            "text/html": [
              "<table>\n",
              "<tr>\n",
              "<th>runtime</th>\n",
              "<th>hours_0</th>\n",
              "<th>hours_1</th>\n",
              "<th>hours_2</th>\n",
              "</tr>\n",
              "<tr>\n",
              "<td>142</td>\n",
              "<td>2.0</td>\n",
              "<td>2.4</td>\n",
              "<td>2.37</td>\n",
              "</tr>\n",
              "<tr>\n",
              "<td>175</td>\n",
              "<td>3.0</td>\n",
              "<td>2.9</td>\n",
              "<td>2.92</td>\n",
              "</tr>\n",
              "<tr>\n",
              "<td>152</td>\n",
              "<td>3.0</td>\n",
              "<td>2.5</td>\n",
              "<td>2.53</td>\n",
              "</tr>\n",
              "<tr>\n",
              "<td>202</td>\n",
              "<td>3.0</td>\n",
              "<td>3.4</td>\n",
              "<td>3.37</td>\n",
              "</tr>\n",
              "<tr>\n",
              "<td>96</td>\n",
              "<td>2.0</td>\n",
              "<td>1.6</td>\n",
              "<td>1.6</td>\n",
              "</tr>\n",
              "</table>\n",
              "5 rows in set (0.00 sec)"
            ],
            "text/plain": [
              "+---------+---------+---------+---------+\n",
              "| runtime | hours_0 | hours_1 | hours_2 |\n",
              "+---------+---------+---------+---------+\n",
              "| 142     | 2.0     | 2.4     | 2.37    |\n",
              "+---------+---------+---------+---------+\n",
              "| 175     | 3.0     | 2.9     | 2.92    |\n",
              "+---------+---------+---------+---------+\n",
              "| 152     | 3.0     | 2.5     | 2.53    |\n",
              "+---------+---------+---------+---------+\n",
              "| 202     | 3.0     | 3.4     | 3.37    |\n",
              "+---------+---------+---------+---------+\n",
              "| 96      | 2.0     | 1.6     | 1.6     |\n",
              "+---------+---------+---------+---------+\n",
              "5 rows in set (0.00 sec)"
            ]
          },
          "execution_count": 16,
          "metadata": {},
          "output_type": "execute_result"
        }
      ],
      "source": [
        "%%sql\n",
        "SELECT runtime,\n",
        "       ROUND(runtime/60.0) AS hours_0,    -- round to 0 digit\n",
        "       ROUND(runtime/60.0, 1) AS hours_1, -- round to 1 digit\n",
        "       ROUND(runtime/60.0, 2) AS hours_2  -- round to 2 digits\n",
        "  FROM movies\n",
        " LIMIT 5;"
      ]
    },
    {
      "cell_type": "markdown",
      "id": "perceived-rubber",
      "metadata": {
        "id": "perceived-rubber"
      },
      "source": [
        "### 通用函數：操作文字 `LENGTH()`\n",
        "\n",
        "`LENGTH()` 函數可以計算輸入文字資料類別中有幾個字元，包含空格以及標點符號。"
      ]
    },
    {
      "cell_type": "code",
      "execution_count": null,
      "id": "a864bf7a",
      "metadata": {
        "id": "a864bf7a",
        "outputId": "ac8cec06-e299-448f-8121-5a4451e3c6c4"
      },
      "outputs": [
        {
          "data": {
            "text/html": [
              "<table>\n",
              "<tr>\n",
              "<th>title</th>\n",
              "<th>length_title</th>\n",
              "</tr>\n",
              "<tr>\n",
              "<td>The Shawshank Redemption</td>\n",
              "<td>24</td>\n",
              "</tr>\n",
              "<tr>\n",
              "<td>The Godfather</td>\n",
              "<td>13</td>\n",
              "</tr>\n",
              "<tr>\n",
              "<td>The Dark Knight</td>\n",
              "<td>15</td>\n",
              "</tr>\n",
              "<tr>\n",
              "<td>The Godfather Part II</td>\n",
              "<td>21</td>\n",
              "</tr>\n",
              "<tr>\n",
              "<td>12 Angry Men</td>\n",
              "<td>12</td>\n",
              "</tr>\n",
              "</table>\n",
              "5 rows in set (0.00 sec)"
            ],
            "text/plain": [
              "+--------------------------+--------------+\n",
              "| title                    | length_title |\n",
              "+--------------------------+--------------+\n",
              "| The Shawshank Redemption | 24           |\n",
              "+--------------------------+--------------+\n",
              "| The Godfather            | 13           |\n",
              "+--------------------------+--------------+\n",
              "| The Dark Knight          | 15           |\n",
              "+--------------------------+--------------+\n",
              "| The Godfather Part II    | 21           |\n",
              "+--------------------------+--------------+\n",
              "| 12 Angry Men             | 12           |\n",
              "+--------------------------+--------------+\n",
              "5 rows in set (0.00 sec)"
            ]
          },
          "execution_count": 17,
          "metadata": {},
          "output_type": "execute_result"
        }
      ],
      "source": [
        "%%sql\n",
        "SELECT title,\n",
        "       LENGTH(title) AS length_title\n",
        "  FROM movies\n",
        " LIMIT 5;"
      ]
    },
    {
      "cell_type": "markdown",
      "id": "unnecessary-denmark",
      "metadata": {
        "id": "unnecessary-denmark"
      },
      "source": [
        "### 通用函數：操作文字 `SUBSTR()`\n",
        "\n",
        "`SUBSTR()` 函數可利用位置與長度將輸入文字的指定段落擷取出來。"
      ]
    },
    {
      "cell_type": "code",
      "execution_count": null,
      "id": "christian-polymer",
      "metadata": {
        "id": "christian-polymer",
        "outputId": "211fa5c2-3049-480c-de16-944aad16b4f3"
      },
      "outputs": [
        {
          "data": {
            "text/html": [
              "<table>\n",
              "<tr>\n",
              "<th>title</th>\n",
              "<th>substr_title</th>\n",
              "</tr>\n",
              "<tr>\n",
              "<td>The Shawshank Redemption</td>\n",
              "<td>The</td>\n",
              "</tr>\n",
              "<tr>\n",
              "<td>The Godfather</td>\n",
              "<td>The</td>\n",
              "</tr>\n",
              "<tr>\n",
              "<td>The Dark Knight</td>\n",
              "<td>The</td>\n",
              "</tr>\n",
              "<tr>\n",
              "<td>The Godfather Part II</td>\n",
              "<td>The</td>\n",
              "</tr>\n",
              "</table>\n",
              "4 rows in set (0.00 sec)"
            ],
            "text/plain": [
              "+--------------------------+--------------+\n",
              "| title                    | substr_title |\n",
              "+--------------------------+--------------+\n",
              "| The Shawshank Redemption | The          |\n",
              "+--------------------------+--------------+\n",
              "| The Godfather            | The          |\n",
              "+--------------------------+--------------+\n",
              "| The Dark Knight          | The          |\n",
              "+--------------------------+--------------+\n",
              "| The Godfather Part II    | The          |\n",
              "+--------------------------+--------------+\n",
              "4 rows in set (0.00 sec)"
            ]
          },
          "execution_count": 18,
          "metadata": {},
          "output_type": "execute_result"
        }
      ],
      "source": [
        "%%sql\n",
        "SELECT title,\n",
        "       SUBSTR(title, 1, 3) AS substr_title\n",
        "  FROM movies\n",
        " LIMIT 4;"
      ]
    },
    {
      "cell_type": "markdown",
      "id": "hawaiian-facial",
      "metadata": {
        "id": "hawaiian-facial"
      },
      "source": [
        "###  通用函數：操作文字 `LOWER()` 與 `UPPER()`\n",
        "\n",
        "`LOWER()` 與 `UPPER()` 函數可以調整英文的大小寫。"
      ]
    },
    {
      "cell_type": "code",
      "execution_count": null,
      "id": "enhanced-quest",
      "metadata": {
        "id": "enhanced-quest",
        "outputId": "336db92a-a724-4f25-887a-4956f404880e"
      },
      "outputs": [
        {
          "data": {
            "text/html": [
              "<table>\n",
              "<tr>\n",
              "<th>title</th>\n",
              "<th>lower_title</th>\n",
              "<th>upper_title</th>\n",
              "</tr>\n",
              "<tr>\n",
              "<td>The Shawshank Redemption</td>\n",
              "<td>the shawshank redemption</td>\n",
              "<td>THE SHAWSHANK REDEMPTION</td>\n",
              "</tr>\n",
              "<tr>\n",
              "<td>The Godfather</td>\n",
              "<td>the godfather</td>\n",
              "<td>THE GODFATHER</td>\n",
              "</tr>\n",
              "<tr>\n",
              "<td>The Dark Knight</td>\n",
              "<td>the dark knight</td>\n",
              "<td>THE DARK KNIGHT</td>\n",
              "</tr>\n",
              "<tr>\n",
              "<td>The Godfather Part II</td>\n",
              "<td>the godfather part ii</td>\n",
              "<td>THE GODFATHER PART II</td>\n",
              "</tr>\n",
              "<tr>\n",
              "<td>12 Angry Men</td>\n",
              "<td>12 angry men</td>\n",
              "<td>12 ANGRY MEN</td>\n",
              "</tr>\n",
              "</table>\n",
              "5 rows in set (0.00 sec)"
            ],
            "text/plain": [
              "+--------------------------+--------------------------+--------------------------+\n",
              "| title                    | lower_title              | upper_title              |\n",
              "+--------------------------+--------------------------+--------------------------+\n",
              "| The Shawshank Redemption | the shawshank redemption | THE SHAWSHANK REDEMPTION |\n",
              "+--------------------------+--------------------------+--------------------------+\n",
              "| The Godfather            | the godfather            | THE GODFATHER            |\n",
              "+--------------------------+--------------------------+--------------------------+\n",
              "| The Dark Knight          | the dark knight          | THE DARK KNIGHT          |\n",
              "+--------------------------+--------------------------+--------------------------+\n",
              "| The Godfather Part II    | the godfather part ii    | THE GODFATHER PART II    |\n",
              "+--------------------------+--------------------------+--------------------------+\n",
              "| 12 Angry Men             | 12 angry men             | 12 ANGRY MEN             |\n",
              "+--------------------------+--------------------------+--------------------------+\n",
              "5 rows in set (0.00 sec)"
            ]
          },
          "execution_count": 19,
          "metadata": {},
          "output_type": "execute_result"
        }
      ],
      "source": [
        "%%sql\n",
        "SELECT title,\n",
        "       LOWER(title) AS lower_title,\n",
        "       UPPER(title) AS upper_title\n",
        "  FROM movies\n",
        " LIMIT 5;"
      ]
    },
    {
      "cell_type": "markdown",
      "id": "valued-season",
      "metadata": {
        "id": "valued-season"
      },
      "source": [
        "### 通用函數：操作日期時間\n",
        "\n",
        "`DATE('now', 'localtime')`、`TIME('now', 'localtime')` 與 `DATETIME('now', 'localtime')` 函數可以顯示電腦時區現在的日期、時間與日期時間，並且以 ISO-8601 標準格式 `YYYY-MM-DD HH:MM:SS` 呈現\n",
        "\n",
        "```sql\n",
        "SELECT DATE('now', 'localtime') AS date_now,\n",
        "       TIME('now', 'localtime') AS time_now,\n",
        "       DATETIME('now', 'localtime') AS datetime_now;\n",
        "```\n",
        "\n",
        "我們也可以輸入 ISO-8601 標準格式作為日期、時間或日期時間。"
      ]
    },
    {
      "cell_type": "code",
      "execution_count": null,
      "id": "ec5f16cb",
      "metadata": {
        "id": "ec5f16cb",
        "outputId": "b3077e5f-542b-478e-f316-9d69d2bfc41e"
      },
      "outputs": [
        {
          "data": {
            "text/html": [
              "<table>\n",
              "<tr>\n",
              "<th>date_20221231</th>\n",
              "<th>time_235959</th>\n",
              "<th>datetime_20221231235959</th>\n",
              "</tr>\n",
              "<tr>\n",
              "<td>2022-12-31</td>\n",
              "<td>23:59:59</td>\n",
              "<td>2022-12-31 23:59:59</td>\n",
              "</tr>\n",
              "</table>\n",
              "1 row in set (0.00 sec)"
            ],
            "text/plain": [
              "+---------------+-------------+-------------------------+\n",
              "| date_20221231 | time_235959 | datetime_20221231235959 |\n",
              "+---------------+-------------+-------------------------+\n",
              "| 2022-12-31    | 23:59:59    | 2022-12-31 23:59:59     |\n",
              "+---------------+-------------+-------------------------+\n",
              "1 row in set (0.00 sec)"
            ]
          },
          "execution_count": 20,
          "metadata": {},
          "output_type": "execute_result"
        }
      ],
      "source": [
        "%%sql\n",
        "SELECT DATE('2022-12-31') AS date_20221231,\n",
        "       TIME('23:59:59') AS time_235959,\n",
        "       DATETIME('2022-12-31 23:59:59') AS datetime_20221231235959;"
      ]
    },
    {
      "cell_type": "markdown",
      "id": "norwegian-scenario",
      "metadata": {
        "id": "norwegian-scenario"
      },
      "source": [
        "### 通用函數：操作日期時間 `STRFTIME()`\n",
        "\n",
        "`STRFTIME()` 函數可以調整日期、時間或日期時間的顯示格式，常用的日期、時間格式參數有：\n",
        "\n",
        "- `%d`：二位數的日（01-31）\n",
        "- `%j`：一年中的第幾天（001-366）\n",
        "- `%m`：二位數的月（01-12）\n",
        "- `%w`：一星期中的第幾天（0-6）\n",
        "- `%W`：一年中的第幾週（00-53）\n",
        "- `%Y`：四位數的年（0000-9999）\n",
        "- `%H`：兩位數的小時（00-24）\n",
        "- `%M`：兩位數的分鐘（00-59）\n",
        "- `%S`：兩位數的秒（00-59）"
      ]
    },
    {
      "cell_type": "code",
      "execution_count": null,
      "id": "1debea56",
      "metadata": {
        "id": "1debea56",
        "outputId": "0137f522-09b2-4718-9aaa-3fa017d81144"
      },
      "outputs": [
        {
          "data": {
            "text/html": [
              "<table>\n",
              "<tr>\n",
              "<th>datetime_20221231235959</th>\n",
              "<th>day_part</th>\n",
              "<th>day_of_year</th>\n",
              "<th>month_part</th>\n",
              "<th>weekday</th>\n",
              "<th>nth_week</th>\n",
              "<th>year_part</th>\n",
              "<th>time_part</th>\n",
              "</tr>\n",
              "<tr>\n",
              "<td>2022-12-31 23:59:59</td>\n",
              "<td>31</td>\n",
              "<td>365</td>\n",
              "<td>12</td>\n",
              "<td>6</td>\n",
              "<td>52</td>\n",
              "<td>2022</td>\n",
              "<td>23:59:59</td>\n",
              "</tr>\n",
              "</table>\n",
              "1 row in set (0.00 sec)"
            ],
            "text/plain": [
              "+-------------------------+----------+-------------+------------+---------+----------+-----------+-----------+\n",
              "| datetime_20221231235959 | day_part | day_of_year | month_part | weekday | nth_week | year_part | time_part |\n",
              "+-------------------------+----------+-------------+------------+---------+----------+-----------+-----------+\n",
              "| 2022-12-31 23:59:59     | 31       | 365         | 12         | 6       | 52       | 2022      | 23:59:59  |\n",
              "+-------------------------+----------+-------------+------------+---------+----------+-----------+-----------+\n",
              "1 row in set (0.00 sec)"
            ]
          },
          "execution_count": 21,
          "metadata": {},
          "output_type": "execute_result"
        }
      ],
      "source": [
        "%%sql\n",
        "SELECT '2022-12-31 23:59:59' AS datetime_20221231235959,\n",
        "       STRFTIME('%d', '2022-12-31 23:59:59') AS day_part,\n",
        "       STRFTIME('%j', '2022-12-31 23:59:59') AS day_of_year,\n",
        "       STRFTIME('%m', '2022-12-31 23:59:59') AS month_part,\n",
        "       STRFTIME('%w', '2022-12-31 23:59:59') AS weekday,\n",
        "       STRFTIME('%W', '2022-12-31 23:59:59') AS nth_week,\n",
        "       STRFTIME('%Y', '2022-12-31 23:59:59') AS year_part,\n",
        "       STRFTIME('%H:%M:%S', '2022-12-31 23:59:59') AS time_part;"
      ]
    },
    {
      "cell_type": "markdown",
      "id": "pleasant-dynamics",
      "metadata": {
        "id": "pleasant-dynamics"
      },
      "source": [
        "## 聚合函數\n",
        "\n",
        "一欄變數、`m` 列觀測值對應一個輸出結果的常用聚合函數有：\n",
        "\n",
        "- `AVG()`：計算欄位的平均數。\n",
        "- `COUNT(*)`：計算資料表的列數。\n",
        "- `COUNT(column)`：計算欄位的「非空值」列數。\n",
        "- `MIN()`：計算欄位的最小值。\n",
        "- `MAX()`：計算欄位的最大值。\n",
        "- `SUM()`：計算欄位的加總。\n",
        "\n",
        "聚合函數的名稱和其中所含的運算處理邏輯是相當直觀的，例如 `AVG()` 作用即為 average、`MIN()` 作用即為 minimum、`MAX()` 作用即為 maximum。"
      ]
    },
    {
      "cell_type": "code",
      "execution_count": null,
      "id": "announced-masters",
      "metadata": {
        "id": "announced-masters",
        "outputId": "3dc06c33-7eb1-4f56-b478-f82859c4fce8"
      },
      "outputs": [
        {
          "data": {
            "text/html": [
              "<table>\n",
              "<tr>\n",
              "<th>avg_rating</th>\n",
              "<th>min_rating</th>\n",
              "<th>max_rating</th>\n",
              "</tr>\n",
              "<tr>\n",
              "<td>8.30719999999998</td>\n",
              "<td>8.0</td>\n",
              "<td>9.3</td>\n",
              "</tr>\n",
              "</table>\n",
              "1 row in set (0.00 sec)"
            ],
            "text/plain": [
              "+------------------+------------+------------+\n",
              "| avg_rating       | min_rating | max_rating |\n",
              "+------------------+------------+------------+\n",
              "| 8.30719999999998 | 8.0        | 9.3        |\n",
              "+------------------+------------+------------+\n",
              "1 row in set (0.00 sec)"
            ]
          },
          "execution_count": 22,
          "metadata": {},
          "output_type": "execute_result"
        }
      ],
      "source": [
        "%%sql\n",
        "SELECT AVG(rating) AS avg_rating,\n",
        "       MIN(rating) AS min_rating,\n",
        "       MAX(rating) AS max_rating\n",
        "  FROM movies;"
      ]
    },
    {
      "cell_type": "markdown",
      "id": "5242a64d",
      "metadata": {
        "id": "5242a64d"
      },
      "source": [
        "使用聚合函數 `COUNT()` 時候要注意兩種不同的用法，其一是輸入 `*` 藉以獲得資料表列數；另一則是輸入欄位的名稱獲得該欄位「非空值」列數，這兩種不同用法在沒有空值 `NULL` 的欄位上輸出是相同的，但是對於有空值 `NULL` 的欄位，就能夠發現差異之處。舉例來說，在 `covid19` 資料庫的 `lookup_table` 資料表中 `Province_State` 與 `Admin2` 欄都有空值的存在，如果對這兩欄使用 `COUNT()` 函數會得到與 `COUNT(*)` 不同的輸出結果；反之 `lookup_table` 資料表中 `Combined_Key` 欄沒有空值的存在，對它使用 `COUNT()` 函數會得到與 `COUNT(*)` 相同的輸出結果。"
      ]
    },
    {
      "cell_type": "code",
      "execution_count": null,
      "id": "ab634265",
      "metadata": {
        "id": "ab634265",
        "outputId": "d49295b3-02fe-44a2-f5e5-64ce71c80a52"
      },
      "outputs": [
        {
          "data": {
            "text/html": [
              "<table>\n",
              "<tr>\n",
              "<th>nrows_table</th>\n",
              "<th>non_null_province</th>\n",
              "<th>non_null_county</th>\n",
              "</tr>\n",
              "<tr>\n",
              "<td>4317</td>\n",
              "<td>4118</td>\n",
              "<td>3344</td>\n",
              "</tr>\n",
              "</table>\n",
              "1 row in set (0.01 sec)"
            ],
            "text/plain": [
              "+-------------+-------------------+-----------------+\n",
              "| nrows_table | non_null_province | non_null_county |\n",
              "+-------------+-------------------+-----------------+\n",
              "| 4317        | 4118              | 3344            |\n",
              "+-------------+-------------------+-----------------+\n",
              "1 row in set (0.01 sec)"
            ]
          },
          "execution_count": 23,
          "metadata": {},
          "output_type": "execute_result"
        }
      ],
      "source": [
        "%%sql\n",
        "SELECT COUNT(*) AS nrows_table,\n",
        "       COUNT(Province_State) AS non_null_province,\n",
        "       COUNT(Admin2) AS non_null_county\n",
        "  FROM lookup_table;"
      ]
    },
    {
      "cell_type": "code",
      "execution_count": null,
      "id": "57609eb5",
      "metadata": {
        "id": "57609eb5",
        "outputId": "eb370498-6ef3-4b2b-9912-32833565d43e"
      },
      "outputs": [
        {
          "data": {
            "text/html": [
              "<table>\n",
              "<tr>\n",
              "<th>nrows_table</th>\n",
              "<th>non_null_combined_key</th>\n",
              "</tr>\n",
              "<tr>\n",
              "<td>4317</td>\n",
              "<td>4317</td>\n",
              "</tr>\n",
              "</table>\n",
              "1 row in set (0.00 sec)"
            ],
            "text/plain": [
              "+-------------+-----------------------+\n",
              "| nrows_table | non_null_combined_key |\n",
              "+-------------+-----------------------+\n",
              "| 4317        | 4317                  |\n",
              "+-------------+-----------------------+\n",
              "1 row in set (0.00 sec)"
            ]
          },
          "execution_count": 24,
          "metadata": {},
          "output_type": "execute_result"
        }
      ],
      "source": [
        "%%sql\n",
        "SELECT COUNT(*) AS nrows_table,\n",
        "       COUNT(Combined_Key) AS non_null_combined_key\n",
        "  FROM lookup_table;"
      ]
    },
    {
      "cell_type": "markdown",
      "id": "de041d49",
      "metadata": {
        "id": "de041d49"
      },
      "source": [
        "## 重點統整\n",
        "\n",
        "- 需要特定函數處理資料類別相關、數值計算、文字操作或日期時間操作時，可以查閱 SQLite 函數官方文件：\n",
        "    - 通用函數：<https://www.sqlite.org/lang_corefunc.html>\n",
        "    - 日期時間操作函數：<https://www.sqlite.org/lang_datefunc.html>\n",
        "    - 聚合函數：<https://www.sqlite.org/lang_aggfunc.html>\n",
        "- 將截至目前所學的 SQL 保留字集中在一個敘述中，寫作順序必須遵從標準 SQL 的規定。\n",
        "\n",
        "```sql\n",
        "SELECT DISTINCT columns AS alias\n",
        "  FROM table\n",
        " LIMIT m;\n",
        "```\n",
        "\n",
        "## 練習題 09-13\n",
        "\n",
        "練習題會涵蓋四個學習資料庫，記得要依據題目的需求，調整編輯器選單的學習資料庫，在自己電腦的 SQLiteStudio 寫出跟預期輸出相同的 SQL 敘述，寫作過程如果卡關了，可以參考附錄二「練習題參考解答」。\n",
        "\n",
        "### 09. 從 `nba` 資料庫的 `players` 資料表依據 `heightMeters`、`weightKilograms` 以及下列公式衍生計算欄位 `bmi`，並使用 `ROUND` 函數將 `bmi` 的小數點位數調整為 2 位，參考下列的預期查詢結果。\n",
        "\n",
        "\\begin{equation}\n",
        "BMI = \\frac{weight_{kg}}{height_{m}^2}\n",
        "\\end{equation}\n",
        "\n",
        "預期輸出：(506, 3) 的查詢結果。"
      ]
    },
    {
      "cell_type": "code",
      "execution_count": null,
      "id": "b81747f9",
      "metadata": {
        "id": "b81747f9",
        "outputId": "4d078371-c27d-440a-ea26-54ac90c6cdab"
      },
      "outputs": [
        {
          "data": {
            "text/html": [
              "<table>\n",
              "<tr>\n",
              "<th>heightMeters</th>\n",
              "<th>weightKilograms</th>\n",
              "<th>bmi</th>\n",
              "</tr>\n",
              "<tr>\n",
              "<td>2.06</td>\n",
              "<td>113.4</td>\n",
              "<td>26.72</td>\n",
              "</tr>\n",
              "<tr>\n",
              "<td>2.01</td>\n",
              "<td>108</td>\n",
              "<td>26.73</td>\n",
              "</tr>\n",
              "<tr>\n",
              "<td>2.03</td>\n",
              "<td>106.6</td>\n",
              "<td>25.87</td>\n",
              "</tr>\n",
              "<tr>\n",
              "<td>2.08</td>\n",
              "<td>120.2</td>\n",
              "<td>27.78</td>\n",
              "</tr>\n",
              "<tr>\n",
              "<td>1.98</td>\n",
              "<td>97.5</td>\n",
              "<td>24.87</td>\n",
              "</tr>\n",
              "</table>\n",
              "5 rows in set (0.00 sec)"
            ],
            "text/plain": [
              "+--------------+-----------------+-------+\n",
              "| heightMeters | weightKilograms | bmi   |\n",
              "+--------------+-----------------+-------+\n",
              "| 2.06         | 113.4           | 26.72 |\n",
              "+--------------+-----------------+-------+\n",
              "| 2.01         | 108             | 26.73 |\n",
              "+--------------+-----------------+-------+\n",
              "| 2.03         | 106.6           | 25.87 |\n",
              "+--------------+-----------------+-------+\n",
              "| 2.08         | 120.2           | 27.78 |\n",
              "+--------------+-----------------+-------+\n",
              "| 1.98         | 97.5            | 24.87 |\n",
              "+--------------+-----------------+-------+\n",
              "5 rows in set (0.00 sec)"
            ]
          },
          "execution_count": 25,
          "metadata": {},
          "output_type": "execute_result"
        }
      ],
      "source": [
        "-- 礙於紙本篇幅僅顯示出前五列示意\n",
        "%%sql\n"
      ]
    },
    {
      "cell_type": "markdown",
      "id": "fec69b3a",
      "metadata": {
        "id": "fec69b3a"
      },
      "source": [
        "### 10. 從 `nba` 資料庫的 `career_summaries` 資料表中依據 `assists`、`turnovers` 欄位以及下列公式衍生計算助攻失誤比，讓衍生計算欄位的資料類型為浮點數 `REAL`，參考下列的預期查詢結果。\n",
        "\n",
        "\\begin{equation}\n",
        "\\text{Assists Turnover Ratio} = \\frac{\\text{Assists}}{\\text{Turnovers}}\n",
        "\\end{equation}\n",
        "\n",
        "預期輸出：(506, 3) 的查詢結果。"
      ]
    },
    {
      "cell_type": "code",
      "execution_count": null,
      "id": "52bb69ee",
      "metadata": {
        "id": "52bb69ee",
        "outputId": "bdb4eb68-af1a-48bf-84d3-c15efe0a6722"
      },
      "outputs": [
        {
          "data": {
            "text/html": [
              "<table>\n",
              "<tr>\n",
              "<th>assists</th>\n",
              "<th>turnovers</th>\n",
              "<th>assist_turnover_ratio</th>\n",
              "</tr>\n",
              "<tr>\n",
              "<td>10045</td>\n",
              "<td>4788</td>\n",
              "<td>2.09795321637427</td>\n",
              "</tr>\n",
              "<tr>\n",
              "<td>3422</td>\n",
              "<td>3052</td>\n",
              "<td>1.12123197903014</td>\n",
              "</tr>\n",
              "<tr>\n",
              "<td>733</td>\n",
              "<td>809</td>\n",
              "<td>0.906056860321385</td>\n",
              "</tr>\n",
              "<tr>\n",
              "<td>1676</td>\n",
              "<td>3302</td>\n",
              "<td>0.507571168988492</td>\n",
              "</tr>\n",
              "<tr>\n",
              "<td>5128</td>\n",
              "<td>2231</td>\n",
              "<td>2.29852084267145</td>\n",
              "</tr>\n",
              "</table>\n",
              "5 rows in set (0.00 sec)"
            ],
            "text/plain": [
              "+---------+-----------+-----------------------+\n",
              "| assists | turnovers | assist_turnover_ratio |\n",
              "+---------+-----------+-----------------------+\n",
              "| 10045   | 4788      | 2.09795321637427      |\n",
              "+---------+-----------+-----------------------+\n",
              "| 3422    | 3052      | 1.12123197903014      |\n",
              "+---------+-----------+-----------------------+\n",
              "| 733     | 809       | 0.906056860321385     |\n",
              "+---------+-----------+-----------------------+\n",
              "| 1676    | 3302      | 0.507571168988492     |\n",
              "+---------+-----------+-----------------------+\n",
              "| 5128    | 2231      | 2.29852084267145      |\n",
              "+---------+-----------+-----------------------+\n",
              "5 rows in set (0.00 sec)"
            ]
          },
          "execution_count": 26,
          "metadata": {},
          "output_type": "execute_result"
        }
      ],
      "source": [
        "-- 礙於紙本篇幅僅顯示出前五列示意\n",
        "%%sql\n"
      ]
    },
    {
      "cell_type": "markdown",
      "id": "f8637058",
      "metadata": {
        "id": "f8637058"
      },
      "source": [
        "### 11. 從 `covid19` 資料庫的 `time_series` 資料表依據 `Date` 變數，使用 `STRFTIME` 函數查詢時間序列資料有哪些不重複的月份，參考下列的預期查詢結果。\n",
        "\n",
        "預期輸出：(29, 1) 的查詢結果。"
      ]
    },
    {
      "cell_type": "code",
      "execution_count": null,
      "id": "bd666040",
      "metadata": {
        "id": "bd666040",
        "outputId": "bd411117-cf76-4d37-fc5a-c1a48637a2dc"
      },
      "outputs": [
        {
          "data": {
            "text/html": [
              "<table>\n",
              "<tr>\n",
              "<th>distinct_year_month</th>\n",
              "</tr>\n",
              "<tr>\n",
              "<td>2020-01</td>\n",
              "</tr>\n",
              "<tr>\n",
              "<td>2020-02</td>\n",
              "</tr>\n",
              "<tr>\n",
              "<td>2020-03</td>\n",
              "</tr>\n",
              "<tr>\n",
              "<td>2020-04</td>\n",
              "</tr>\n",
              "<tr>\n",
              "<td>2020-05</td>\n",
              "</tr>\n",
              "<tr>\n",
              "<td>2020-06</td>\n",
              "</tr>\n",
              "<tr>\n",
              "<td>2020-07</td>\n",
              "</tr>\n",
              "<tr>\n",
              "<td>2020-08</td>\n",
              "</tr>\n",
              "<tr>\n",
              "<td>2020-09</td>\n",
              "</tr>\n",
              "<tr>\n",
              "<td>2020-10</td>\n",
              "</tr>\n",
              "<tr>\n",
              "<td>2020-11</td>\n",
              "</tr>\n",
              "<tr>\n",
              "<td>2020-12</td>\n",
              "</tr>\n",
              "<tr>\n",
              "<td>2021-01</td>\n",
              "</tr>\n",
              "<tr>\n",
              "<td>2021-02</td>\n",
              "</tr>\n",
              "<tr>\n",
              "<td>2021-03</td>\n",
              "</tr>\n",
              "<tr>\n",
              "<td>2021-04</td>\n",
              "</tr>\n",
              "<tr>\n",
              "<td>2021-05</td>\n",
              "</tr>\n",
              "<tr>\n",
              "<td>2021-06</td>\n",
              "</tr>\n",
              "<tr>\n",
              "<td>2021-07</td>\n",
              "</tr>\n",
              "<tr>\n",
              "<td>2021-08</td>\n",
              "</tr>\n",
              "<tr>\n",
              "<td>2021-09</td>\n",
              "</tr>\n",
              "<tr>\n",
              "<td>2021-10</td>\n",
              "</tr>\n",
              "<tr>\n",
              "<td>2021-11</td>\n",
              "</tr>\n",
              "<tr>\n",
              "<td>2021-12</td>\n",
              "</tr>\n",
              "<tr>\n",
              "<td>2022-01</td>\n",
              "</tr>\n",
              "<tr>\n",
              "<td>2022-02</td>\n",
              "</tr>\n",
              "<tr>\n",
              "<td>2022-03</td>\n",
              "</tr>\n",
              "<tr>\n",
              "<td>2022-04</td>\n",
              "</tr>\n",
              "<tr>\n",
              "<td>2022-05</td>\n",
              "</tr>\n",
              "</table>\n",
              "29 rows in set (0.89 sec)"
            ],
            "text/plain": [
              "+---------------------+\n",
              "| distinct_year_month |\n",
              "+---------------------+\n",
              "| 2020-01             |\n",
              "+---------------------+\n",
              "| 2020-02             |\n",
              "+---------------------+\n",
              "| 2020-03             |\n",
              "+---------------------+\n",
              "| 2020-04             |\n",
              "+---------------------+\n",
              "| 2020-05             |\n",
              "+---------------------+\n",
              "| 2020-06             |\n",
              "+---------------------+\n",
              "| 2020-07             |\n",
              "+---------------------+\n",
              "| 2020-08             |\n",
              "+---------------------+\n",
              "| 2020-09             |\n",
              "+---------------------+\n",
              "| 2020-10             |\n",
              "+---------------------+\n",
              "| 2020-11             |\n",
              "+---------------------+\n",
              "| 2020-12             |\n",
              "+---------------------+\n",
              "| 2021-01             |\n",
              "+---------------------+\n",
              "| 2021-02             |\n",
              "+---------------------+\n",
              "| 2021-03             |\n",
              "+---------------------+\n",
              "| 2021-04             |\n",
              "+---------------------+\n",
              "| 2021-05             |\n",
              "+---------------------+\n",
              "| 2021-06             |\n",
              "+---------------------+\n",
              "| 2021-07             |\n",
              "+---------------------+\n",
              "| 2021-08             |\n",
              "+---------------------+\n",
              "| 2021-09             |\n",
              "+---------------------+\n",
              "| 2021-10             |\n",
              "+---------------------+\n",
              "| 2021-11             |\n",
              "+---------------------+\n",
              "| 2021-12             |\n",
              "+---------------------+\n",
              "| 2022-01             |\n",
              "+---------------------+\n",
              "| 2022-02             |\n",
              "+---------------------+\n",
              "| 2022-03             |\n",
              "+---------------------+\n",
              "| 2022-04             |\n",
              "+---------------------+\n",
              "| 2022-05             |\n",
              "+---------------------+\n",
              "29 rows in set (0.89 sec)"
            ]
          },
          "execution_count": 27,
          "metadata": {},
          "output_type": "execute_result"
        }
      ],
      "source": [
        "%%sql\n"
      ]
    },
    {
      "cell_type": "markdown",
      "id": "f2674a95",
      "metadata": {
        "id": "f2674a95"
      },
      "source": [
        "### 12. 從 `twElection2020` 資料庫的 `presidential` 資料表利用聚合函數彙總有多少人參與了總統副總統的投票選舉，參考下列的預期查詢結果。\n",
        "\n",
        "預期輸出：(1, 1) 的查詢結果。"
      ]
    },
    {
      "cell_type": "code",
      "execution_count": null,
      "id": "4d0ef2d1",
      "metadata": {
        "id": "4d0ef2d1",
        "outputId": "9f9703d0-f21d-47ba-fc2e-0508f9f6bf02"
      },
      "outputs": [
        {
          "data": {
            "text/html": [
              "<table>\n",
              "<tr>\n",
              "<th>total_presidential_votes</th>\n",
              "</tr>\n",
              "<tr>\n",
              "<td>14300940</td>\n",
              "</tr>\n",
              "</table>\n",
              "1 row in set (0.01 sec)"
            ],
            "text/plain": [
              "+--------------------------+\n",
              "| total_presidential_votes |\n",
              "+--------------------------+\n",
              "| 14300940                 |\n",
              "+--------------------------+\n",
              "1 row in set (0.01 sec)"
            ]
          },
          "execution_count": 28,
          "metadata": {},
          "output_type": "execute_result"
        }
      ],
      "source": [
        "%%sql\n"
      ]
    },
    {
      "cell_type": "markdown",
      "id": "6f0becd6",
      "metadata": {
        "id": "6f0becd6"
      },
      "source": [
        "### 13. 從 `covid19` 資料庫的 `daily_report` 資料表利用聚合函數彙總截至 2022-05-31 全世界總確診數以及總死亡數，參考下列的預期查詢結果。\n",
        "\n",
        "註：本題不需考慮 `daily_report` 內的 `Last_Update` 時間戳記，`daily_report` 的數據有效期間就是 2022-05-31。\n",
        "\n",
        "預期輸出：(1, 2) 的查詢結果。"
      ]
    },
    {
      "cell_type": "code",
      "execution_count": null,
      "id": "d37f625d",
      "metadata": {
        "id": "d37f625d",
        "outputId": "285ad4d9-4636-4025-dc6a-f402b84dd31e"
      },
      "outputs": [
        {
          "data": {
            "text/html": [
              "<table>\n",
              "<tr>\n",
              "<th>total_confirmed</th>\n",
              "<th>total_deaths</th>\n",
              "</tr>\n",
              "<tr>\n",
              "<td>529625234</td>\n",
              "<td>6292512</td>\n",
              "</tr>\n",
              "</table>\n",
              "1 row in set (0.00 sec)"
            ],
            "text/plain": [
              "+-----------------+--------------+\n",
              "| total_confirmed | total_deaths |\n",
              "+-----------------+--------------+\n",
              "| 529625234       | 6292512      |\n",
              "+-----------------+--------------+\n",
              "1 row in set (0.00 sec)"
            ]
          },
          "execution_count": 29,
          "metadata": {},
          "output_type": "execute_result"
        }
      ],
      "source": [
        "%%sql\n"
      ]
    }
  ],
  "metadata": {
    "kernelspec": {
      "display_name": "xsql",
      "language": "sqlite",
      "name": "xsql"
    },
    "language_info": {
      "codemirror_mode": "sql",
      "file_extension": "",
      "mimetype": "",
      "name": "mysql",
      "version": "0.1.5"
    },
    "colab": {
      "provenance": [],
      "include_colab_link": true
    }
  },
  "nbformat": 4,
  "nbformat_minor": 5
}