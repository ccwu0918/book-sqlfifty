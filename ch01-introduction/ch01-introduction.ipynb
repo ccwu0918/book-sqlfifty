{
  "cells": [
    {
      "cell_type": "markdown",
      "metadata": {
        "id": "view-in-github",
        "colab_type": "text"
      },
      "source": [
        "<a href=\"https://colab.research.google.com/github/ccwu0918/book-sqlfifty/blob/main/ch01-introduction/ch01-introduction.ipynb\" target=\"_parent\"><img src=\"https://colab.research.google.com/assets/colab-badge.svg\" alt=\"Open In Colab\"/></a>"
      ]
    },
    {
      "cell_type": "markdown",
      "id": "lightweight-fruit",
      "metadata": {
        "id": "lightweight-fruit"
      },
      "source": [
        "# SQL 的五十道練習：初學者友善的資料庫入門\n",
        "\n",
        "> 簡介"
      ]
    },
    {
      "cell_type": "markdown",
      "id": "9804dff4",
      "metadata": {
        "id": "9804dff4"
      },
      "source": [
        "讀者如果是資料科學的初學者，可以略過下述的程式碼；讀者如果不是資料科學的初學者，欲使用 JupyterLab 執行本章節內容，必須先執行下述程式碼載入所需模組與連接資料庫。"
      ]
    },
    {
      "cell_type": "code",
      "source": [
        "!pip install SQLAlchemy==1.4.46"
      ],
      "metadata": {
        "id": "e6QyoZr5DC1R"
      },
      "id": "e6QyoZr5DC1R",
      "execution_count": null,
      "outputs": []
    },    
    {
      "cell_type": "code",
      "source": [
        "!git clone https://github.com/ccwu0918/book-sqlfifty"
      ],
      "metadata": {
        "id": "PAy257keyiUT",
        "outputId": "d14902eb-f3b7-4714-8668-98b661b1fcef",
        "colab": {
          "base_uri": "https://localhost:8080/"
        }
      },
      "id": "PAy257keyiUT",
      "execution_count": null,
      "outputs": [
        {
          "output_type": "stream",
          "name": "stdout",
          "text": [
            "Cloning into 'book-sqlfifty'...\n",
            "remote: Enumerating objects: 186, done.\u001b[K\n",
            "remote: Counting objects: 100% (186/186), done.\u001b[K\n",
            "remote: Compressing objects: 100% (122/122), done.\u001b[K\n",
            "remote: Total 186 (delta 54), reused 173 (delta 44), pack-reused 0\u001b[K\n",
            "Receiving objects: 100% (186/186), 28.90 MiB | 17.73 MiB/s, done.\n",
            "Resolving deltas: 100% (54/54), done.\n"
          ]
        }
      ]
    },
    {
      "cell_type": "code",
      "source": [
        "%cd book-sqlfifty"
      ],
      "metadata": {
        "id": "7rOqQiDQzVNi",
        "outputId": "8283450a-f3c2-44bf-dee0-a5349a31e8f6",
        "colab": {
          "base_uri": "https://localhost:8080/"
        }
      },
      "id": "7rOqQiDQzVNi",
      "execution_count": null,
      "outputs": [
        {
          "output_type": "stream",
          "name": "stdout",
          "text": [
            "/content/book-sqlfifty\n"
          ]
        }
      ]
    },
    {
      "cell_type": "code",
      "execution_count": null,
      "id": "textile-inquiry",
      "metadata": {
        "id": "textile-inquiry"
      },
      "outputs": [],
      "source": [
        "# import ks2021\n",
        "import sqlite3\n",
        "import pandas as pd"
      ]
    },
    {
      "cell_type": "markdown",
      "id": "4f117b7f",
      "metadata": {
        "id": "4f117b7f"
      },
      "source": [
        "## 什麼是 SQL\n",
        "\n",
        "SQL 是由 **S**tructured **Q**uery **L**anguage 三個單字的字首組成的縮寫，而 SQL 的唸法一般有兩種，有些人偏好 ess-que-ell，也就是將三個英文字母 S、Q、L 分別唸出；有些人偏好 sequel，也就是在其中加入母音連結，變成一個能夠發音的單字，兩種唸法都被廣泛地採用，讀者可以根據自己的偏好選擇。\n",
        "\n",
        "Structured Query Language 直接翻譯是結構化查詢語言，但直接翻譯對這個語言的理解毫無幫助，我們試圖用一句話解釋：\n",
        "\n",
        "> SQL 是 Structured Query Language 的縮寫，是一個專門針對關聯式資料庫中所儲存的資料進行查詢、定義、操作與控制的語言。\n",
        "\n",
        "SQL 在 1970 年代由國際商業機器公司（IBM）創造，剛開發出來時候僅只是為了更有效率地「查詢」儲存於關聯式資料庫中的資料，但是到了現代，除了查詢以外像是資料的建立、更新與刪除，也都能靠著 SQL 來完成。具體來說，SQL 是由保留字（Keyword）、符號、常數與函數所組合而成的一種語言，按照使用目的可以再細分為資料查詢語言（Data Query Language, DQL）、資料定義語言（Data Definition Language, DDL）、資料操作語言（Data Manipulation Language, DML）、資料控制語言（Data Control Language, DCL）以及交易控制語言（Transaction Control Language, TCL）；本書是初學者友善的導向，內容會以資料查詢語言為主，資料定義語言與資料操作語言為輔。\n",
        "\n",
        "|SQL 的分類|範例|\n",
        "|:---------|:----|\n",
        "|資料查詢語言（Data Query Language, DQL）|`SELECT ...`|\n",
        "|資料定義語言（Data Definition Language, DDL）|`CREATE ...`|\n",
        "|資料操作語言（Data Manipulation Language, DML）|`UPDATE ...`|\n",
        "|資料控制語言（Data Control Language, DCL）|`GRANT ...`|\n",
        "|交易控制語言（Transaction Control Language, TCL）|`COMMIT`|\n",
        "\n",
        "因此我們可以理解 SQL 是一個能夠與關聯式資料庫互動的專用語言，常見的互動有四個：包含創造（Create）、查詢（Read）、更新（Update）與刪除（Delete），這四個動作又在業界與社群被簡稱為 CRUD，聽起來十分抽象，但其實與現代生活形影不離。舉例來說在社群應用程式中的一舉一動，不論是透過滑鼠點擊或者手勢觸控，都會被應用程式轉換為 CRUD 的指令：上傳新的動態與貼文，就是創造的體現；瀏覽追蹤對象的動態與貼文，就是查詢的體現；編輯動態與貼文，就是更新的體現；撤掉動態與貼文，就是刪除的體現。\n",
        "\n",
        "![](https://github.com/ccwu0918/book-sqlfifty/blob/main/images/hugh-han-5pkYWUDDthQ-unsplash.jpg?raw=1)\n",
        "\n",
        "來源：[Photo by Hugh Han on Unsplash](https://unsplash.com/photos/5pkYWUDDthQ)\n",
        "\n",
        "SQL 雖然早於 1970 年代問世，但一直到了 2020 年代依然是資料科學家與軟體工程師最仰賴的語言之一。根據資料科學家社群 Kaggle 以及軟體工程師社群 StackOverflow 在 2021 年針對網站會員所發出的問卷，在 2021 Kaggle ML&DS Survey 中 SQL 在資料科學家日常頻繁使用語言中排名第二、在資料科學家推薦學習語言中排名第三、Stack Overflow 2021 Developer Survey 中 SQL 在軟體工程師受歡迎技術中排名第四、Google 資料分析專業證照也有涵蓋 SQL 的教學，學習 SQL 的重要性不言可喻。"
      ]
    },
    {
      "cell_type": "code",
      "execution_count": null,
      "id": "01a1c447",
      "metadata": {
        "id": "01a1c447"
      },
      "outputs": [],
      "source": [
        "csv_file = \"https://kaggle-ml-ds-survey.s3.ap-northeast-1.amazonaws.com/kaggle-survey-2021/kaggle_survey_2021_responses.csv\"\n",
        "# ks = ks2021.KaggleSurvey2021(csv_file)\n",
        "# ks.generate_question_table()"
      ]
    },
    {
      "cell_type": "code",
      "execution_count": null,
      "id": "2d1b118d",
      "metadata": {
        "id": "2d1b118d",
        "outputId": "f9a94936-1918-4b68-855e-405b269d1555"
      },
      "outputs": [
        {
          "data": {
            "image/png": "[encoded data removed]",
            "text/plain": [
              "<Figure size 432x288 with 1 Axes>"
            ]
          },
          "metadata": {
            "needs_background": "light"
          },
          "output_type": "display_data"
        }
      ],
      "source": [
        "# ks.plot_survey_summary(question_index=\"Q7\", n=2)"
      ]
    },
    {
      "cell_type": "code",
      "execution_count": null,
      "id": "a796cb8b",
      "metadata": {
        "id": "a796cb8b",
        "outputId": "daca0d07-dc02-4038-b69b-f642219de814"
      },
      "outputs": [
        {
          "data": {
            "image/png": "[encoded data removed]",
            "text/plain": [
              "<Figure size 432x288 with 1 Axes>"
            ]
          },
          "metadata": {
            "needs_background": "light"
          },
          "output_type": "display_data"
        }
      ],
      "source": [
        "# ks.plot_survey_summary(question_index=\"Q8\", n=3)"
      ]
    },
    {
      "cell_type": "markdown",
      "id": "supposed-spread",
      "metadata": {
        "id": "supposed-spread"
      },
      "source": [
        "![](https://github.com/ccwu0918/book-sqlfifty/blob/main/images/ranked_4th.png?raw=1)\n",
        "\n",
        "來源：<https://insights.stackoverflow.com/survey/2021>\n",
        "\n",
        "![](https://github.com/ccwu0918/book-sqlfifty/blob/main/images/google-data-analytics.png?raw=1)\n",
        "\n",
        "來源：<https://www.coursera.org/professional-certificates/google-data-analytics>"
      ]
    },
    {
      "cell_type": "markdown",
      "id": "d9a90204",
      "metadata": {
        "id": "d9a90204"
      },
      "source": [
        "## 什麼是關聯式資料庫\n",
        "\n",
        "欲解釋何謂關聯式資料庫，我們將它拆成「關聯式」與「資料庫」分別定義。資料庫是一種特定、經過加工的資料集合，能夠放置在伺服器、個人電腦、手機或者微型電腦之中，資料庫可以透過 SQL 與之互動，有效率地進行資料查詢、定義、操作與控制。關聯式則是描述資料庫中的資料集合是以列（Rows）與欄（Columns）所組成的二維表格形式記錄，並且遵守關聯式模型準則設計，這樣的資料庫就被稱為關聯式資料庫。有時列也有其他別名，像是紀錄（Records）、觀測值（Observations）、元組（Tuples）等；欄的其他別名則有欄位（Fields）、變數（Variables）、屬性（Attributes）等。\n",
        "\n",
        "![](https://github.com/ccwu0918/book-sqlfifty/blob/main/images/Relational_database_terms.png?raw=1)\n",
        "\n",
        "來源：<https://en.wikipedia.org/wiki/Relational_database>\n",
        "\n",
        "什麼樣的資料集合能夠被稱為是資料庫呢？大致來說必須要同時具備兩個特徵：\n",
        "\n",
        "1. 觀測值必須具備屬性。\n",
        "2. 資料集合必須具備元資料（Metadata）。\n",
        "\n",
        "第一個特徵是描述資料表內容必須是完整的，觀測值與屬性都要具備，例如 `id` 到 `runtime` 這六個變數名稱就是屬性的體現。"
      ]
    },
    {
      "cell_type": "code",
      "source": [
        "# %%capture\n",
        "# load the SQL magic extension\n",
        "# https://github.com/catherinedevlin/ipython-sql\n",
        "# this extension allows us to connect to DBs and issue SQL command\n",
        "%load_ext sql\n",
        "\n",
        "# now we can use the magic extension to connect to our SQLite DB\n",
        "# use %sql to write an inline SQL command\n",
        "# use %%sql to write SQL commands in a cell\n",
        "%sql sqlite:///databases/imdb.db"
      ],
      "metadata": {
        "id": "75cfgwZXzes_",
        "outputId": "5ac29093-2dc4-4257-9429-2d682dbbb3fe",
        "colab": {
          "base_uri": "https://localhost:8080/",
          "height": 35
        }
      },
      "id": "75cfgwZXzes_",
      "execution_count": null,
      "outputs": [
        {
          "output_type": "execute_result",
          "data": {
            "text/plain": [
              "'Connected: @databases/imdb.db'"
            ],
            "application/vnd.google.colaboratory.intrinsic+json": {
              "type": "string"
            }
          },
          "metadata": {},
          "execution_count": 12
        }
      ]
    },
    {
      "cell_type": "code",
      "source": [
        "%%sql\n",
        "SELECT * \n",
        "FROM movies \n",
        "LIMIT 5;"
      ],
      "metadata": {
        "id": "jLou255vzZgZ",
        "outputId": "8637c90c-4945-4a0d-98ac-68c11c401438",
        "colab": {
          "base_uri": "https://localhost:8080/",
          "height": 182
        }
      },
      "id": "jLou255vzZgZ",
      "execution_count": null,
      "outputs": [
        {
          "output_type": "stream",
          "name": "stdout",
          "text": [
            " * sqlite:///databases/imdb.db\n",
            "Done.\n"
          ]
        },
        {
          "output_type": "execute_result",
          "data": {
            "text/plain": [
              "[(1, 'The Shawshank Redemption', 1994, 9.3, 'Frank Darabont', 142),\n",
              " (2, 'The Godfather', 1972, 9.2, 'Francis Ford Coppola', 175),\n",
              " (3, 'The Dark Knight', 2008, 9.0, 'Christopher Nolan', 152),\n",
              " (4, 'The Godfather Part II', 1974, 9.0, 'Francis Ford Coppola', 202),\n",
              " (5, '12 Angry Men', 1957, 9.0, 'Sidney Lumet', 96)]"
            ],
            "text/html": [
              "<table>\n",
              "    <thead>\n",
              "        <tr>\n",
              "            <th>id</th>\n",
              "            <th>title</th>\n",
              "            <th>release_year</th>\n",
              "            <th>rating</th>\n",
              "            <th>director</th>\n",
              "            <th>runtime</th>\n",
              "        </tr>\n",
              "    </thead>\n",
              "    <tbody>\n",
              "        <tr>\n",
              "            <td>1</td>\n",
              "            <td>The Shawshank Redemption</td>\n",
              "            <td>1994</td>\n",
              "            <td>9.3</td>\n",
              "            <td>Frank Darabont</td>\n",
              "            <td>142</td>\n",
              "        </tr>\n",
              "        <tr>\n",
              "            <td>2</td>\n",
              "            <td>The Godfather</td>\n",
              "            <td>1972</td>\n",
              "            <td>9.2</td>\n",
              "            <td>Francis Ford Coppola</td>\n",
              "            <td>175</td>\n",
              "        </tr>\n",
              "        <tr>\n",
              "            <td>3</td>\n",
              "            <td>The Dark Knight</td>\n",
              "            <td>2008</td>\n",
              "            <td>9.0</td>\n",
              "            <td>Christopher Nolan</td>\n",
              "            <td>152</td>\n",
              "        </tr>\n",
              "        <tr>\n",
              "            <td>4</td>\n",
              "            <td>The Godfather Part II</td>\n",
              "            <td>1974</td>\n",
              "            <td>9.0</td>\n",
              "            <td>Francis Ford Coppola</td>\n",
              "            <td>202</td>\n",
              "        </tr>\n",
              "        <tr>\n",
              "            <td>5</td>\n",
              "            <td>12 Angry Men</td>\n",
              "            <td>1957</td>\n",
              "            <td>9.0</td>\n",
              "            <td>Sidney Lumet</td>\n",
              "            <td>96</td>\n",
              "        </tr>\n",
              "    </tbody>\n",
              "</table>"
            ]
          },
          "metadata": {},
          "execution_count": 13
        }
      ]
    },
    {
      "cell_type": "code",
      "execution_count": null,
      "id": "d5d54cf8",
      "metadata": {
        "id": "d5d54cf8",
        "outputId": "d2a10a7b-9bb2-46be-f8dc-1a5191c4c86f",
        "colab": {
          "base_uri": "https://localhost:8080/",
          "height": 206
        }
      },
      "outputs": [
        {
          "output_type": "execute_result",
          "data": {
            "text/plain": [
              "   id                     title  release_year  rating              director  \\\n",
              "0   1  The Shawshank Redemption          1994     9.3        Frank Darabont   \n",
              "1   2             The Godfather          1972     9.2  Francis Ford Coppola   \n",
              "2   3           The Dark Knight          2008     9.0     Christopher Nolan   \n",
              "3   4     The Godfather Part II          1974     9.0  Francis Ford Coppola   \n",
              "4   5              12 Angry Men          1957     9.0          Sidney Lumet   \n",
              "\n",
              "   runtime  \n",
              "0      142  \n",
              "1      175  \n",
              "2      152  \n",
              "3      202  \n",
              "4       96  "
            ],
            "text/html": [
              "\n",
              "  <div id=\"df-c900ca56-79d8-42c7-8702-60dbf0c2a987\">\n",
              "    <div class=\"colab-df-container\">\n",
              "      <div>\n",
              "<style scoped>\n",
              "    .dataframe tbody tr th:only-of-type {\n",
              "        vertical-align: middle;\n",
              "    }\n",
              "\n",
              "    .dataframe tbody tr th {\n",
              "        vertical-align: top;\n",
              "    }\n",
              "\n",
              "    .dataframe thead th {\n",
              "        text-align: right;\n",
              "    }\n",
              "</style>\n",
              "<table border=\"1\" class=\"dataframe\">\n",
              "  <thead>\n",
              "    <tr style=\"text-align: right;\">\n",
              "      <th></th>\n",
              "      <th>id</th>\n",
              "      <th>title</th>\n",
              "      <th>release_year</th>\n",
              "      <th>rating</th>\n",
              "      <th>director</th>\n",
              "      <th>runtime</th>\n",
              "    </tr>\n",
              "  </thead>\n",
              "  <tbody>\n",
              "    <tr>\n",
              "      <th>0</th>\n",
              "      <td>1</td>\n",
              "      <td>The Shawshank Redemption</td>\n",
              "      <td>1994</td>\n",
              "      <td>9.3</td>\n",
              "      <td>Frank Darabont</td>\n",
              "      <td>142</td>\n",
              "    </tr>\n",
              "    <tr>\n",
              "      <th>1</th>\n",
              "      <td>2</td>\n",
              "      <td>The Godfather</td>\n",
              "      <td>1972</td>\n",
              "      <td>9.2</td>\n",
              "      <td>Francis Ford Coppola</td>\n",
              "      <td>175</td>\n",
              "    </tr>\n",
              "    <tr>\n",
              "      <th>2</th>\n",
              "      <td>3</td>\n",
              "      <td>The Dark Knight</td>\n",
              "      <td>2008</td>\n",
              "      <td>9.0</td>\n",
              "      <td>Christopher Nolan</td>\n",
              "      <td>152</td>\n",
              "    </tr>\n",
              "    <tr>\n",
              "      <th>3</th>\n",
              "      <td>4</td>\n",
              "      <td>The Godfather Part II</td>\n",
              "      <td>1974</td>\n",
              "      <td>9.0</td>\n",
              "      <td>Francis Ford Coppola</td>\n",
              "      <td>202</td>\n",
              "    </tr>\n",
              "    <tr>\n",
              "      <th>4</th>\n",
              "      <td>5</td>\n",
              "      <td>12 Angry Men</td>\n",
              "      <td>1957</td>\n",
              "      <td>9.0</td>\n",
              "      <td>Sidney Lumet</td>\n",
              "      <td>96</td>\n",
              "    </tr>\n",
              "  </tbody>\n",
              "</table>\n",
              "</div>\n",
              "      <button class=\"colab-df-convert\" onclick=\"convertToInteractive('df-c900ca56-79d8-42c7-8702-60dbf0c2a987')\"\n",
              "              title=\"Convert this dataframe to an interactive table.\"\n",
              "              style=\"display:none;\">\n",
              "        \n",
              "  <svg xmlns=\"http://www.w3.org/2000/svg\" height=\"24px\"viewBox=\"0 0 24 24\"\n",
              "       width=\"24px\">\n",
              "    <path d=\"M0 0h24v24H0V0z\" fill=\"none\"/>\n",
              "    <path d=\"M18.56 5.44l.94 2.06.94-2.06 2.06-.94-2.06-.94-.94-2.06-.94 2.06-2.06.94zm-11 1L8.5 8.5l.94-2.06 2.06-.94-2.06-.94L8.5 2.5l-.94 2.06-2.06.94zm10 10l.94 2.06.94-2.06 2.06-.94-2.06-.94-.94-2.06-.94 2.06-2.06.94z\"/><path d=\"M17.41 7.96l-1.37-1.37c-.4-.4-.92-.59-1.43-.59-.52 0-1.04.2-1.43.59L10.3 9.45l-7.72 7.72c-.78.78-.78 2.05 0 2.83L4 21.41c.39.39.9.59 1.41.59.51 0 1.02-.2 1.41-.59l7.78-7.78 2.81-2.81c.8-.78.8-2.07 0-2.86zM5.41 20L4 18.59l7.72-7.72 1.47 1.35L5.41 20z\"/>\n",
              "  </svg>\n",
              "      </button>\n",
              "      \n",
              "  <style>\n",
              "    .colab-df-container {\n",
              "      display:flex;\n",
              "      flex-wrap:wrap;\n",
              "      gap: 12px;\n",
              "    }\n",
              "\n",
              "    .colab-df-convert {\n",
              "      background-color: #E8F0FE;\n",
              "      border: none;\n",
              "      border-radius: 50%;\n",
              "      cursor: pointer;\n",
              "      display: none;\n",
              "      fill: #1967D2;\n",
              "      height: 32px;\n",
              "      padding: 0 0 0 0;\n",
              "      width: 32px;\n",
              "    }\n",
              "\n",
              "    .colab-df-convert:hover {\n",
              "      background-color: #E2EBFA;\n",
              "      box-shadow: 0px 1px 2px rgba(60, 64, 67, 0.3), 0px 1px 3px 1px rgba(60, 64, 67, 0.15);\n",
              "      fill: #174EA6;\n",
              "    }\n",
              "\n",
              "    [theme=dark] .colab-df-convert {\n",
              "      background-color: #3B4455;\n",
              "      fill: #D2E3FC;\n",
              "    }\n",
              "\n",
              "    [theme=dark] .colab-df-convert:hover {\n",
              "      background-color: #434B5C;\n",
              "      box-shadow: 0px 1px 3px 1px rgba(0, 0, 0, 0.15);\n",
              "      filter: drop-shadow(0px 1px 2px rgba(0, 0, 0, 0.3));\n",
              "      fill: #FFFFFF;\n",
              "    }\n",
              "  </style>\n",
              "\n",
              "      <script>\n",
              "        const buttonEl =\n",
              "          document.querySelector('#df-c900ca56-79d8-42c7-8702-60dbf0c2a987 button.colab-df-convert');\n",
              "        buttonEl.style.display =\n",
              "          google.colab.kernel.accessAllowed ? 'block' : 'none';\n",
              "\n",
              "        async function convertToInteractive(key) {\n",
              "          const element = document.querySelector('#df-c900ca56-79d8-42c7-8702-60dbf0c2a987');\n",
              "          const dataTable =\n",
              "            await google.colab.kernel.invokeFunction('convertToInteractive',\n",
              "                                                     [key], {});\n",
              "          if (!dataTable) return;\n",
              "\n",
              "          const docLinkHtml = 'Like what you see? Visit the ' +\n",
              "            '<a target=\"_blank\" href=https://colab.research.google.com/notebooks/data_table.ipynb>data table notebook</a>'\n",
              "            + ' to learn more about interactive tables.';\n",
              "          element.innerHTML = '';\n",
              "          dataTable['output_type'] = 'display_data';\n",
              "          await google.colab.output.renderOutput(dataTable, element);\n",
              "          const docLink = document.createElement('div');\n",
              "          docLink.innerHTML = docLinkHtml;\n",
              "          element.appendChild(docLink);\n",
              "        }\n",
              "      </script>\n",
              "    </div>\n",
              "  </div>\n",
              "  "
            ]
          },
          "metadata": {},
          "execution_count": 11
        }
      ],
      "source": [
        "conn = sqlite3.connect('./databases/imdb.db')\n",
        "pd.read_sql(\"\"\"SELECT * FROM movies LIMIT 5;\"\"\", conn)"
      ]
    },
    {
      "cell_type": "markdown",
      "id": "569cc7b3",
      "metadata": {
        "id": "569cc7b3"
      },
      "source": [
        "如果資料只有觀測值而沒有屬性，例如二維陣列，就不是具備資料庫特徵的資料集合。"
      ]
    },
    {
      "cell_type": "code",
      "execution_count": null,
      "id": "a7438a06",
      "metadata": {
        "id": "a7438a06",
        "outputId": "33fd721a-a28e-469c-c92b-bf60e12a9402",
        "colab": {
          "base_uri": "https://localhost:8080/"
        }
      },
      "outputs": [
        {
          "output_type": "execute_result",
          "data": {
            "text/plain": [
              "array([[1, 'The Shawshank Redemption', 1994, 9.3, 'Frank Darabont', 142],\n",
              "       [2, 'The Godfather', 1972, 9.2, 'Francis Ford Coppola', 175],\n",
              "       [3, 'The Dark Knight', 2008, 9.0, 'Christopher Nolan', 152],\n",
              "       [4, 'The Godfather Part II', 1974, 9.0, 'Francis Ford Coppola',\n",
              "        202],\n",
              "       [5, '12 Angry Men', 1957, 9.0, 'Sidney Lumet', 96]], dtype=object)"
            ]
          },
          "metadata": {},
          "execution_count": 14
        }
      ],
      "source": [
        "pd.read_sql(\"\"\"SELECT * FROM movies LIMIT 5;\"\"\", conn).loc[:, ].values"
      ]
    },
    {
      "cell_type": "markdown",
      "id": "9f147e08",
      "metadata": {
        "id": "9f147e08"
      },
      "source": [
        "如果資料只有屬性而沒有擺放觀測值的位置，例如一維陣列，就不是具備資料庫特徵的資料集合。"
      ]
    },
    {
      "cell_type": "code",
      "execution_count": null,
      "id": "ae8f49ab",
      "metadata": {
        "id": "ae8f49ab",
        "outputId": "dbdc5c29-dee6-4c3b-c73c-61dc54463d2c",
        "colab": {
          "base_uri": "https://localhost:8080/"
        }
      },
      "outputs": [
        {
          "output_type": "execute_result",
          "data": {
            "text/plain": [
              "Index(['id', 'title', 'release_year', 'rating', 'director', 'runtime'], dtype='object')"
            ]
          },
          "metadata": {},
          "execution_count": 16
        }
      ],
      "source": [
        "conn = sqlite3.connect('./databases/imdb.db')\n",
        "pd.read_sql(\"\"\"SELECT * FROM movies LIMIT 5;\"\"\", conn).columns"
      ]
    },
    {
      "cell_type": "markdown",
      "id": "1e732312",
      "metadata": {
        "id": "1e732312"
      },
      "source": [
        "第二個特徵是資料集合必須要具備能夠自我解釋（Self-explainable）的能力，這個能力就是所謂的元資料（Metadata），元資料直接翻譯為描述資料的資料，但直接翻譯對這個名詞的理解有限，比較能夠幫助理解的譬喻是元資料就像英英字典，當我們在查詢英文單字時英英字典會用另外一段英文來描述；當我們在查詢資料表的詳細資料時，元資料會用另外一個資料表來描述。"
      ]
    },
    {
      "cell_type": "code",
      "source": [
        "%%sql\n",
        "SELECT * \n",
        "FROM PRAGMA_TABLE_INFO('movies');"
      ],
      "metadata": {
        "id": "mIJwTSKjz-0u",
        "outputId": "a537aeb3-fb3a-465a-e449-a4945efca5bc",
        "colab": {
          "base_uri": "https://localhost:8080/",
          "height": 203
        }
      },
      "id": "mIJwTSKjz-0u",
      "execution_count": null,
      "outputs": [
        {
          "output_type": "stream",
          "name": "stdout",
          "text": [
            " * sqlite:///databases/imdb.db\n",
            "Done.\n"
          ]
        },
        {
          "output_type": "execute_result",
          "data": {
            "text/plain": [
              "[(0, 'id', 'INTEGER', 0, None, 1),\n",
              " (1, 'title', 'TEXT', 0, None, 0),\n",
              " (2, 'release_year', 'INTEGER', 0, None, 0),\n",
              " (3, 'rating', 'REAL', 0, None, 0),\n",
              " (4, 'director', 'TEXT', 0, None, 0),\n",
              " (5, 'runtime', 'int', 0, None, 0)]"
            ],
            "text/html": [
              "<table>\n",
              "    <thead>\n",
              "        <tr>\n",
              "            <th>cid</th>\n",
              "            <th>name</th>\n",
              "            <th>type</th>\n",
              "            <th>notnull</th>\n",
              "            <th>dflt_value</th>\n",
              "            <th>pk</th>\n",
              "        </tr>\n",
              "    </thead>\n",
              "    <tbody>\n",
              "        <tr>\n",
              "            <td>0</td>\n",
              "            <td>id</td>\n",
              "            <td>INTEGER</td>\n",
              "            <td>0</td>\n",
              "            <td>None</td>\n",
              "            <td>1</td>\n",
              "        </tr>\n",
              "        <tr>\n",
              "            <td>1</td>\n",
              "            <td>title</td>\n",
              "            <td>TEXT</td>\n",
              "            <td>0</td>\n",
              "            <td>None</td>\n",
              "            <td>0</td>\n",
              "        </tr>\n",
              "        <tr>\n",
              "            <td>2</td>\n",
              "            <td>release_year</td>\n",
              "            <td>INTEGER</td>\n",
              "            <td>0</td>\n",
              "            <td>None</td>\n",
              "            <td>0</td>\n",
              "        </tr>\n",
              "        <tr>\n",
              "            <td>3</td>\n",
              "            <td>rating</td>\n",
              "            <td>REAL</td>\n",
              "            <td>0</td>\n",
              "            <td>None</td>\n",
              "            <td>0</td>\n",
              "        </tr>\n",
              "        <tr>\n",
              "            <td>4</td>\n",
              "            <td>director</td>\n",
              "            <td>TEXT</td>\n",
              "            <td>0</td>\n",
              "            <td>None</td>\n",
              "            <td>0</td>\n",
              "        </tr>\n",
              "        <tr>\n",
              "            <td>5</td>\n",
              "            <td>runtime</td>\n",
              "            <td>int</td>\n",
              "            <td>0</td>\n",
              "            <td>None</td>\n",
              "            <td>0</td>\n",
              "        </tr>\n",
              "    </tbody>\n",
              "</table>"
            ]
          },
          "metadata": {},
          "execution_count": 18
        }
      ]
    },
    {
      "cell_type": "code",
      "execution_count": null,
      "id": "ddb20d0e",
      "metadata": {
        "id": "ddb20d0e",
        "outputId": "a948b348-830d-46e7-e5da-14e9fc2fc7ee",
        "colab": {
          "base_uri": "https://localhost:8080/",
          "height": 238
        }
      },
      "outputs": [
        {
          "output_type": "execute_result",
          "data": {
            "text/plain": [
              "   cid          name     type  notnull dflt_value  pk\n",
              "0    0            id  INTEGER        0       None   1\n",
              "1    1         title     TEXT        0       None   0\n",
              "2    2  release_year  INTEGER        0       None   0\n",
              "3    3        rating     REAL        0       None   0\n",
              "4    4      director     TEXT        0       None   0\n",
              "5    5       runtime      int        0       None   0"
            ],
            "text/html": [
              "\n",
              "  <div id=\"df-4c6500d3-dc5a-41b8-b622-317a2e165428\">\n",
              "    <div class=\"colab-df-container\">\n",
              "      <div>\n",
              "<style scoped>\n",
              "    .dataframe tbody tr th:only-of-type {\n",
              "        vertical-align: middle;\n",
              "    }\n",
              "\n",
              "    .dataframe tbody tr th {\n",
              "        vertical-align: top;\n",
              "    }\n",
              "\n",
              "    .dataframe thead th {\n",
              "        text-align: right;\n",
              "    }\n",
              "</style>\n",
              "<table border=\"1\" class=\"dataframe\">\n",
              "  <thead>\n",
              "    <tr style=\"text-align: right;\">\n",
              "      <th></th>\n",
              "      <th>cid</th>\n",
              "      <th>name</th>\n",
              "      <th>type</th>\n",
              "      <th>notnull</th>\n",
              "      <th>dflt_value</th>\n",
              "      <th>pk</th>\n",
              "    </tr>\n",
              "  </thead>\n",
              "  <tbody>\n",
              "    <tr>\n",
              "      <th>0</th>\n",
              "      <td>0</td>\n",
              "      <td>id</td>\n",
              "      <td>INTEGER</td>\n",
              "      <td>0</td>\n",
              "      <td>None</td>\n",
              "      <td>1</td>\n",
              "    </tr>\n",
              "    <tr>\n",
              "      <th>1</th>\n",
              "      <td>1</td>\n",
              "      <td>title</td>\n",
              "      <td>TEXT</td>\n",
              "      <td>0</td>\n",
              "      <td>None</td>\n",
              "      <td>0</td>\n",
              "    </tr>\n",
              "    <tr>\n",
              "      <th>2</th>\n",
              "      <td>2</td>\n",
              "      <td>release_year</td>\n",
              "      <td>INTEGER</td>\n",
              "      <td>0</td>\n",
              "      <td>None</td>\n",
              "      <td>0</td>\n",
              "    </tr>\n",
              "    <tr>\n",
              "      <th>3</th>\n",
              "      <td>3</td>\n",
              "      <td>rating</td>\n",
              "      <td>REAL</td>\n",
              "      <td>0</td>\n",
              "      <td>None</td>\n",
              "      <td>0</td>\n",
              "    </tr>\n",
              "    <tr>\n",
              "      <th>4</th>\n",
              "      <td>4</td>\n",
              "      <td>director</td>\n",
              "      <td>TEXT</td>\n",
              "      <td>0</td>\n",
              "      <td>None</td>\n",
              "      <td>0</td>\n",
              "    </tr>\n",
              "    <tr>\n",
              "      <th>5</th>\n",
              "      <td>5</td>\n",
              "      <td>runtime</td>\n",
              "      <td>int</td>\n",
              "      <td>0</td>\n",
              "      <td>None</td>\n",
              "      <td>0</td>\n",
              "    </tr>\n",
              "  </tbody>\n",
              "</table>\n",
              "</div>\n",
              "      <button class=\"colab-df-convert\" onclick=\"convertToInteractive('df-4c6500d3-dc5a-41b8-b622-317a2e165428')\"\n",
              "              title=\"Convert this dataframe to an interactive table.\"\n",
              "              style=\"display:none;\">\n",
              "        \n",
              "  <svg xmlns=\"http://www.w3.org/2000/svg\" height=\"24px\"viewBox=\"0 0 24 24\"\n",
              "       width=\"24px\">\n",
              "    <path d=\"M0 0h24v24H0V0z\" fill=\"none\"/>\n",
              "    <path d=\"M18.56 5.44l.94 2.06.94-2.06 2.06-.94-2.06-.94-.94-2.06-.94 2.06-2.06.94zm-11 1L8.5 8.5l.94-2.06 2.06-.94-2.06-.94L8.5 2.5l-.94 2.06-2.06.94zm10 10l.94 2.06.94-2.06 2.06-.94-2.06-.94-.94-2.06-.94 2.06-2.06.94z\"/><path d=\"M17.41 7.96l-1.37-1.37c-.4-.4-.92-.59-1.43-.59-.52 0-1.04.2-1.43.59L10.3 9.45l-7.72 7.72c-.78.78-.78 2.05 0 2.83L4 21.41c.39.39.9.59 1.41.59.51 0 1.02-.2 1.41-.59l7.78-7.78 2.81-2.81c.8-.78.8-2.07 0-2.86zM5.41 20L4 18.59l7.72-7.72 1.47 1.35L5.41 20z\"/>\n",
              "  </svg>\n",
              "      </button>\n",
              "      \n",
              "  <style>\n",
              "    .colab-df-container {\n",
              "      display:flex;\n",
              "      flex-wrap:wrap;\n",
              "      gap: 12px;\n",
              "    }\n",
              "\n",
              "    .colab-df-convert {\n",
              "      background-color: #E8F0FE;\n",
              "      border: none;\n",
              "      border-radius: 50%;\n",
              "      cursor: pointer;\n",
              "      display: none;\n",
              "      fill: #1967D2;\n",
              "      height: 32px;\n",
              "      padding: 0 0 0 0;\n",
              "      width: 32px;\n",
              "    }\n",
              "\n",
              "    .colab-df-convert:hover {\n",
              "      background-color: #E2EBFA;\n",
              "      box-shadow: 0px 1px 2px rgba(60, 64, 67, 0.3), 0px 1px 3px 1px rgba(60, 64, 67, 0.15);\n",
              "      fill: #174EA6;\n",
              "    }\n",
              "\n",
              "    [theme=dark] .colab-df-convert {\n",
              "      background-color: #3B4455;\n",
              "      fill: #D2E3FC;\n",
              "    }\n",
              "\n",
              "    [theme=dark] .colab-df-convert:hover {\n",
              "      background-color: #434B5C;\n",
              "      box-shadow: 0px 1px 3px 1px rgba(0, 0, 0, 0.15);\n",
              "      filter: drop-shadow(0px 1px 2px rgba(0, 0, 0, 0.3));\n",
              "      fill: #FFFFFF;\n",
              "    }\n",
              "  </style>\n",
              "\n",
              "      <script>\n",
              "        const buttonEl =\n",
              "          document.querySelector('#df-4c6500d3-dc5a-41b8-b622-317a2e165428 button.colab-df-convert');\n",
              "        buttonEl.style.display =\n",
              "          google.colab.kernel.accessAllowed ? 'block' : 'none';\n",
              "\n",
              "        async function convertToInteractive(key) {\n",
              "          const element = document.querySelector('#df-4c6500d3-dc5a-41b8-b622-317a2e165428');\n",
              "          const dataTable =\n",
              "            await google.colab.kernel.invokeFunction('convertToInteractive',\n",
              "                                                     [key], {});\n",
              "          if (!dataTable) return;\n",
              "\n",
              "          const docLinkHtml = 'Like what you see? Visit the ' +\n",
              "            '<a target=\"_blank\" href=https://colab.research.google.com/notebooks/data_table.ipynb>data table notebook</a>'\n",
              "            + ' to learn more about interactive tables.';\n",
              "          element.innerHTML = '';\n",
              "          dataTable['output_type'] = 'display_data';\n",
              "          await google.colab.output.renderOutput(dataTable, element);\n",
              "          const docLink = document.createElement('div');\n",
              "          docLink.innerHTML = docLinkHtml;\n",
              "          element.appendChild(docLink);\n",
              "        }\n",
              "      </script>\n",
              "    </div>\n",
              "  </div>\n",
              "  "
            ]
          },
          "metadata": {},
          "execution_count": 17
        }
      ],
      "source": [
        "pd.read_sql(\"\"\"SELECT * FROM PRAGMA_TABLE_INFO('movies');\"\"\", conn)"
      ]
    },
    {
      "cell_type": "markdown",
      "id": "79e8e8bd",
      "metadata": {
        "id": "79e8e8bd"
      },
      "source": [
        "## 什麼是關聯式資料庫管理系統\n",
        "\n",
        "管理關聯式資料庫的電腦軟體稱為關聯式資料庫管理系統（Relational Database Management System, RDBMS），透過關聯式資料庫管理系統，可以讓關聯式資料庫具有多人共用、處理大量資料、自動化讀寫與備份等功能。常見的關聯式資料庫管理系統大致可以分為商業授權與開放原始碼兩個大類：\n",
        "\n",
        "- 商業授權\n",
        "    - DB2：國際商業機器公司的關聯式資料庫管理系統。\n",
        "    - SQL Server：微軟公司的關聯式資料庫管理系統。\n",
        "    - Oracle Database：甲骨文公司的關聯式資料庫管理系統。\n",
        "- 開放原始碼\n",
        "    - MySQL：開放原始碼的關聯式資料庫管理系統，現為甲骨文公司所有。\n",
        "    - MariaDB：開放原始碼的關聯式資料庫管理系統，是 MySQL 的分支。\n",
        "    - SQLite：開放原始碼的關聯式資料庫管理系統。\n",
        "\n",
        "由於各種關聯式資料庫管理系統都支援標準 SQL，多數時候標準 SQL 就能順利在上述常見的關聯式資料庫管理系統運行，只有少數時候必須要使用專用語法，因此初學者從學習任何一個關聯式資料庫管理系統起步皆可。而本書會以輕量、無伺服器架構並且與主流程式語言都能串接的 SQLite 開放原始碼關聯式資料庫管理系統為準。除了關聯式資料庫管理系統以外，還有非關聯式資料庫管理系統（NoSQL Database Management System），這是一種非結構化、非列與欄資料表結構的資料集合模型，通常會在注重資料儲存彈性的應用場景時被採用。本書聚焦的 SQL 是一個專門針對關聯式資料庫中所儲存的資料進行查詢、定義、操作與控制的語言，所以並不會涉及到非關聯式資料庫管理系統。\n",
        "\n",
        "## SQL 與關聯式資料庫管理系統是重要的\n",
        "\n",
        "SQL 與關聯式資料庫管理系統不論是對於資料科學家、軟體工程師都是至關重要的語言與技術，在資料科學應用領域中，關聯式資料庫管理系統是常見的資料來源，對於在大型企業工作的資料科學家來說更是如此，透過 SQL 能夠載入產品、服務與財務的相關數據進行分析探索；在軟體開發領域中，關聯式資料庫管理系統是網頁應用程式、手機應用程式或桌面應用程式不可或缺的一環，透過 SQL 能夠讓應用程式的使用者與資料進行互動。就算並非從事資料科學、軟體開發的相關領域工作，生活中關聯式資料庫管理系統也是無所不在，小至手機的通話紀錄與通訊錄、大至社群應用程式與購物網站、銀行的存款與交易資訊，能夠讓成千上萬個使用者自動化、大規模地同時運作無虞，背後都有 SQL、關聯式資料庫管理系統與應用程式在支撐。\n",
        "\n",
        "![](https://github.com/ccwu0918/book-sqlfifty/blob/main/images/sql_rdb_rdbms.png?raw=1)\n",
        "\n",
        "## 重點統整\n",
        "\n",
        "- SQL 是 Structured Query Language 的縮寫，是一個專門針對關聯式資料庫中所儲存的資料進行查詢、定義、操作與控制的語言。\n",
        "- SQL 雖然早於 1970 年代問世，但一直到了 2020 年代依然是資料科學家與軟體工程師最仰賴的語言之一。\n",
        "- 什麼樣的資料集合能夠被稱為是資料庫呢？大致來說必須要同時具備兩個特徵：\n",
        "    - 觀測值必須具備屬性。\n",
        "    - 資料集合必須具備元資料（Metadata）。\n",
        "- 管理關聯式資料庫的電腦軟體稱為關聯式資料庫管理系統（Relational Database Management System, RDBMS），透過關聯式資料庫管理系統，可以讓關聯式資料庫具有多人共用、處理大量資料、自動化讀寫與備份等功能。\n",
        "\n",
        "## 延伸閱讀\n",
        "\n",
        "- 2021 Kaggle Machine Learning & Data Science Survey <https://www.kaggle.com/c/kaggle-survey-2021>\n",
        "- Stack Overflow Developer Survey 2021 <https://insights.stackoverflow.com/survey/2021>"
      ]
    }
  ],
  "metadata": {
    "kernelspec": {
      "display_name": "Python 3 (ipykernel)",
      "language": "python",
      "name": "python3"
    },
    "language_info": {
      "codemirror_mode": {
        "name": "ipython",
        "version": 3
      },
      "file_extension": ".py",
      "mimetype": "text/x-python",
      "name": "python",
      "nbconvert_exporter": "python",
      "pygments_lexer": "ipython3",
      "version": "3.10.6"
    },
    "colab": {
      "provenance": [],
      "include_colab_link": true
    }
  },
  "nbformat": 4,
  "nbformat_minor": 5
}
