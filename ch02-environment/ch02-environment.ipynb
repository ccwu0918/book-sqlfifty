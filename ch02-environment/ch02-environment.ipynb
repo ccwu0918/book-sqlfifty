{
  "cells": [
    {
      "cell_type": "markdown",
      "metadata": {
        "id": "view-in-github",
        "colab_type": "text"
      },
      "source": [
        "<a href=\"https://colab.research.google.com/github/ccwu0918/book-sqlfifty/blob/main/ch02-environment/ch02-environment.ipynb\" target=\"_parent\"><img src=\"https://colab.research.google.com/assets/colab-badge.svg\" alt=\"Open In Colab\"/></a>"
      ]
    },
    {
      "cell_type": "markdown",
      "id": "lightweight-fruit",
      "metadata": {
        "id": "lightweight-fruit"
      },
      "source": [
        "# SQL 的五十道練習：初學者友善的資料庫入門\n",
        "\n",
        "> 建立學習環境"
      ]
    },
    {
      "cell_type": "code",
      "source": [
        "!pip install SQLAlchemy==1.4.46"
      ],
      "metadata": {
        "id": "e6QyoZr5DC1R"
      },
      "id": "e6QyoZr5DC1R",
      "execution_count": null,
      "outputs": []
    },    
    {
      "cell_type": "code",
      "source": [
        "!git clone https://github.com/ccwu0918/book-sqlfifty"
      ],
      "metadata": {
        "id": "aqwJ4Y1T0f6f",
        "outputId": "acf05efc-3ff8-4ed8-d01e-1175d5c756ec",
        "colab": {
          "base_uri": "https://localhost:8080/"
        }
      },
      "id": "aqwJ4Y1T0f6f",
      "execution_count": null,
      "outputs": [
        {
          "output_type": "stream",
          "name": "stdout",
          "text": [
            "Cloning into 'book-sqlfifty'...\n",
            "remote: Enumerating objects: 186, done.\u001b[K\n",
            "remote: Counting objects: 100% (186/186), done.\u001b[K\n",
            "remote: Compressing objects: 100% (122/122), done.\u001b[K\n",
            "remote: Total 186 (delta 54), reused 173 (delta 44), pack-reused 0\u001b[K\n",
            "Receiving objects: 100% (186/186), 28.90 MiB | 15.58 MiB/s, done.\n",
            "Resolving deltas: 100% (54/54), done.\n"
          ]
        }
      ]
    },
    {
      "cell_type": "code",
      "source": [
        "%cd book-sqlfifty"
      ],
      "metadata": {
        "id": "2zA5EYKY0lqK",
        "outputId": "9d09a1b9-edbd-4e11-9261-82e1ab246f09",
        "colab": {
          "base_uri": "https://localhost:8080/"
        }
      },
      "id": "2zA5EYKY0lqK",
      "execution_count": null,
      "outputs": [
        {
          "output_type": "stream",
          "name": "stdout",
          "text": [
            "/content/book-sqlfifty\n"
          ]
        }
      ]
    },
    {
      "cell_type": "markdown",
      "id": "710108e1",
      "metadata": {
        "id": "710108e1"
      },
      "source": [
        "讀者如果是資料科學的初學者，可以略過下述的程式碼；讀者如果不是資料科學的初學者，欲使用 JupyterLab 執行本章節內容，必須先執行下述程式碼載入所需模組與連接資料庫。"
      ]
    },
    {
      "cell_type": "code",
      "source": [
        "import sqlite3\n",
        "import unittest\n",
        "import json\n",
        "import os\n",
        "import numpy as np\n",
        "import pandas as pd\n",
        "conn = sqlite3.connect('./databases/imdb.db')\n",
        "conn.execute(\"\"\"ATTACH './databases/covid19.db' AS covid19\"\"\")\n",
        "conn.execute(\"\"\"ATTACH './databases/twElection2020.db' AS twElection2020\"\"\")\n",
        "conn.execute(\"\"\"ATTACH './databases/nba.db' AS nba\"\"\")\n",
        "conn.execute(\"\"\"ATTACH './databases/northwind.db' AS Northwind\"\"\")\n",
        "conn.execute(\"\"\"ATTACH './databases/Chinook_Sqlite.sqlite' AS Chinook\"\"\")"
      ],
      "metadata": {
        "id": "LlgerXfdLaXI"
      },
      "id": "LlgerXfdLaXI",
      "execution_count": null,
      "outputs": []
    },
    {
      "cell_type": "code",
      "source": [
        "# %%capture\n",
        "# load the SQL magic extension\n",
        "# https://github.com/catherinedevlin/ipython-sql\n",
        "# this extension allows us to connect to DBs and issue SQL command\n",
        "%load_ext sql\n",
        "\n",
        "# now we can use the magic extension to connect to our SQLite DB\n",
        "# use %sql to write an inline SQL command\n",
        "# use %%sql to write SQL commands in a cell\n",
        "%sql sqlite:///databases/imdb.db"
      ],
      "metadata": {
        "id": "Ieg3H2Wm0rIv",
        "outputId": "6b615b68-b752-414f-f468-37ae27ad7059",
        "colab": {
          "base_uri": "https://localhost:8080/",
          "height": 35
        }
      },
      "id": "Ieg3H2Wm0rIv",
      "execution_count": null,
      "outputs": [
        {
          "output_type": "execute_result",
          "data": {
            "text/plain": [
              "'Connected: @databases/imdb.db'"
            ],
            "application/vnd.google.colaboratory.intrinsic+json": {
              "type": "string"
            }
          },
          "metadata": {},
          "execution_count": 4
        }
      ]
    },
    {
      "cell_type": "code",
      "execution_count": null,
      "id": "de6cc691",
      "metadata": {
        "id": "de6cc691"
      },
      "outputs": [],
      "source": [
        "# %LOAD sqlite3 db=../databases/imdb.db timeout=2 shared_cache=true"
      ]
    },
    {
      "cell_type": "code",
      "execution_count": null,
      "id": "9bcc07d8",
      "metadata": {
        "id": "9bcc07d8",
        "outputId": "5c393b87-104e-4e1d-9b06-a475a9bbc8a5",
        "colab": {
          "base_uri": "https://localhost:8080/"
        }
      },
      "outputs": [
        {
          "output_type": "stream",
          "name": "stdout",
          "text": [
            " * sqlite:///databases/imdb.db\n",
            "Done.\n",
            "Done.\n",
            "Done.\n"
          ]
        },
        {
          "output_type": "execute_result",
          "data": {
            "text/plain": [
              "[]"
            ]
          },
          "metadata": {},
          "execution_count": 6
        }
      ],
      "source": [
        "%%sql\n",
        "ATTACH \"./databases/covid19.db\" AS covid19;\n",
        "ATTACH \"./databases/twElection2020.db\" AS twElection2020;\n",
        "ATTACH \"./databases/nba.db\" AS nba;\n",
        "ATTACH \"./databases/northwind.db\" AS Northwind;\n",
        "ATTACH \"./databases/Chinook_Sqlite.sqlite\" AS Chinook;"
      ]
    },
    {
      "cell_type": "markdown",
      "id": "41041d3a",
      "metadata": {
        "id": "41041d3a"
      },
      "source": [
        "## SQL 的學習門檻\n",
        "\n",
        "平心而論，比起其他泛用程式語言（C 語言、Java、Python 等）或者科學計算專用語言（R 語言、Matlab、SAS 等），SQL 的學習門檻是比較低的，原因在於 SQL 是一個與英文高度相似的語言，所以即便完全沒有程式語言、資料科學基礎的讀者，只要具備一定程度的英文能力（可能是全民英檢中高級以上或者多益 650 分以上），在 SQL 的學習上依然能顯得輕鬆寫意。不過，我們還是有三個需要克服的難關：一是建立學習環境；二是範例資料；三是練習。\n",
        "\n",
        "學習 SQL 我們會從用途最廣泛也最為簡易的資料查詢語言（Data Query Language, DQL）入門，但是在可以驗證自己所寫的查詢敘述會對應出什麼樣的查詢結果之前，卻需要先透過比較進階的資料定義語言（Data Definition Language, DDL）建立關聯式資料庫、建立資料表並插入觀測值，如此一來資料查詢語言才能夠有作用的對象。這也導致很多初學者會在一開始使用比較進階的資料定義語言時因為發生錯誤而打退堂鼓，本書考量到這點，借助 SQLite 關聯式資料庫管理系統輕巧、便利攜帶且自我包含的特點，將範例資料製作成學習資料庫，讓讀者一開始是對已經建立好、設定完善的關聯式資料庫寫作查詢敘述，如此一來可以在學習資料查詢語言之前，巧妙地跳過資料定義語言。\n",
        "\n",
        "多數課程或教科書所使用的範例資料都是較為制式化的資料內容，像是國家城市資料、超級市場銷售資料或者班級成績資料。本書考量到這點，使用了像是 IMDb 網站的電影與演員資料、NBA 網站的球員、球隊與生涯統計資料、約翰霍普金斯大學 COVID-19 每日報告、地理區域與時間序列資料以及中選會總統與立委的選舉資料，希望能夠讓學習過程因為這些範例資料而饒富趣味。\n",
        "\n",
        "想要有效確實地將 SQL 學起來，需要在每個知識點運用 LPAA 循環（Learn、Practice、Apply、Assess），首先透過本書的文字敘述理解觀念（Learn），接著在自己電腦中所建立的學習環境跟著本書的範例操作，觀察是否得到相似的查詢結果（Practice），然後是寫作練習題（Apply），若是卡關，可以翻閱本書所附的參考練習題詳解（Assess）。這也是本書寫作的核心精神，採用了 EBL (Exercise Based Learning) 的學習理念，可以確保學生在每個章節都會走一遍 LPAA 循環，五十九道練習都是明確給定預期輸入和預期輸出的題目設計，直觀而有效。\n",
        "\n",
        "## 下載 SQLiteStudio\n",
        "\n",
        "本書將會採用 SQLiteStudio 作為自己電腦中的學習環境，SQLiteStudio 是一個具備 SQLite 關聯式資料庫管理系統的圖形化介面軟體，透過 SQLiteStudio 能夠讓我們在自己電腦中連結學習資料庫、撰寫 SQL 查詢敘述並且檢視查詢結果。除了支援資料查詢語言，SQLiteStudio 的圖形化介面也支援 SQL 中的資料定義語言、資料操作語言、資料控制語言以及交易控制語言，讓使用者不僅可以用 SQL 與關聯式資料庫互動，亦能夠透過圖形化介面達成。\n",
        "\n",
        "本書使用 SQLiteStudio 的安裝版本 3.2.1（之後更新版本的 SQLiteStudio 都改為免安裝設定），讀者必須依照自己電腦的作業系統選擇不同副檔名的安裝檔下載。\n",
        "\n",
        "- Windows 作業系統的讀者下載副檔名為 `.exe` 的安裝檔：<https://bit.ly/gh-sqlite-studio-exe>\n",
        "- macOS 的讀者下載副檔名為 `.dmg` 的安裝檔：<https://bit.ly/gh-sqlite-studio-dmg>\n",
        "\n",
        "上述安裝檔下載連結源於 SQLiteStudio 官方 GitHub，我另外有用 AWS S3 儲存空間作為備份，假如未來讀者發現下載連結有問題，亦可以點選下列的備份下載連結。\n",
        "\n",
        "- （備份下載連結）Windows 作業系統的讀者下載副檔名為 `.exe` 的安裝檔：<https://bit.ly/aws-sqlite-studio-exe>\n",
        "- （備份下載連結）macOS 的讀者下載副檔名為 `.dmg` 的安裝檔：<https://bit.ly/aws-sqlite-studio-dmg>\n",
        "\n",
        "## 安裝 SQLiteStudio\n",
        "\n",
        "下載好 SQLiteStudio 安裝檔之後，Windows 作業系統的讀者在安裝過程大致不會碰到什麼問題，不過 macOS 的讀者需要特別留意因為安裝檔在預設的作業系統設定下不被允許安裝，必須要去系統設定（System Preferences）-> 安全與隱私（Security & Privacy）-> 一般（General）手動允許才能順利開始安裝過程，以下的安裝步驟截圖就以 macOS 為準示範。\n",
        "\n",
        "1. 滑鼠游標雙擊安裝檔。\n",
        "\n",
        "![](https://github.com/ccwu0918/book-sqlfifty/blob/main/images/install-01.png?raw=1)\n",
        "\n",
        "2. 彈出視窗顯示不允許安裝，先不要點擊 Eject Disk Image，也不要點擊 Cancel\n",
        "\n",
        "![](https://github.com/ccwu0918/book-sqlfifty/blob/main/images/install-02.png?raw=1)\n",
        "\n",
        "3. 前往系統設定（System Preferences）-> 安全與隱私（Security & Privacy）-> 一般（General），會看到有 Open Anyway 的按鈕可以點擊，這時將原本彈出視窗點擊 Cancel，然後點擊 Open Anyway\n",
        "\n",
        "![](https://github.com/ccwu0918/book-sqlfifty/blob/main/images/install-03.png?raw=1)\n",
        "\n",
        "4. 彈出視窗這時多了 Open 按鈕可以點選，點擊後就開始安裝過程。\n",
        "\n",
        "![](https://github.com/ccwu0918/book-sqlfifty/blob/main/images/install-04.png?raw=1)\n",
        "\n",
        "5. 安裝路徑採預設即可，點擊 Continue 繼續。\n",
        "\n",
        "![](https://github.com/ccwu0918/book-sqlfifty/blob/main/images/install-05.png?raw=1)\n",
        "\n",
        "6. 安裝元件採預設即可，點擊 Continue 繼續。\n",
        "\n",
        "![](https://github.com/ccwu0918/book-sqlfifty/blob/main/images/install-06.png?raw=1)\n",
        "\n",
        "7. 點擊 Install 開始安裝。\n",
        "\n",
        "![](https://github.com/ccwu0918/book-sqlfifty/blob/main/images/install-07.png?raw=1)\n",
        "\n",
        "8. 安裝完畢後，啟動 SQLiteStudio\n",
        "\n",
        "![](https://github.com/ccwu0918/book-sqlfifty/blob/main/images/install-08.png?raw=1)"
      ]
    },
    {
      "cell_type": "markdown",
      "id": "de6da5a9",
      "metadata": {
        "id": "de6da5a9"
      },
      "source": [
        "## 下載學習資料庫並用 SQLiteStudio 連線\n",
        "\n",
        "誠如我們在 SQL 的學習門檻所提到的，本書借助 SQLite 關聯式資料庫管理系統輕巧、便利攜帶且自我包含的特點，將範例資料製作成學習資料庫，讓讀者一開始能夠直接對已經建立好、設定完善的關聯式資料庫寫作查詢敘述，如此一來可以在學習資料查詢語言之前，巧妙地跳過資料定義語言，我準備了四個學習資料庫，它們分別是 covid19.db、imdb.db、nba.db 與 twElection2020.db，學習資料庫的下載連結是源於我的 AWS S3 儲存空間，假如未來讀者發現下載連結有問題，可以寄信給我反映 <yaojenkuo@datainpoint.com>。\n",
        "\n",
        "- covid19.db <https://bit.ly/covid19-db>\n",
        "- imdb.db <https://bit.ly/imdb-db>\n",
        "- nba.db <https://bit.ly/nba-db>\n",
        "- twElection2020.db <https://bit.ly/tw-election-2020-db>\n",
        "- Northwind SQLite DB <https://tdmdal.github.io/mma-sql-2022/data/northwind.sqlite3>\n",
        "- Chinook SQLite DB <https://github.com/lerocha/chinook-database/raw/master/ChinookDatabase/DataSources/Chinook_Sqlite.sqlite>\n",
        "\n",
        "讀者下載完畢之後先不要以滑鼠游標雙擊這些檔案，因為它們並不是副檔名為 `.exe` 的可執行檔案（Executables），請讀者將四個學習資料庫檔案置放在你熟悉的路徑即可，如果讀者熟悉的路徑是桌面，可以放在 `C:\\Users\\YOUR_NAME\\Desktop`（Windows 作業系統）或者 `/Users/YOUR_NAME/Desktop`（macOS），`YOUR_NAME` 的部分替換為自己電腦的使用者名稱。\n",
        "\n",
        "接著我們要為 SQLiteStudio 與學習資料庫建立連線並確認學習環境能妥善運行。\n",
        "\n",
        "1. 啟動 SQLiteStudio\n",
        "2. 點擊選單 Database -> Add a database\n",
        "\n",
        "![](https://github.com/ccwu0918/book-sqlfifty/blob/main/images/connect-01.png?raw=1)\n",
        "\n",
        "3. Database type 採用預設的 SQLite 3，點擊圖示 Browse for existing database file on local computer\n",
        "\n",
        "![](https://github.com/ccwu0918/book-sqlfifty/blob/main/images/connect-02.png?raw=1)\n",
        "\n",
        "4. 移動到四個學習資料庫檔案所置放的路徑，選擇其中一個學習資料庫，點擊 Open\n",
        "\n",
        "![](https://github.com/ccwu0918/book-sqlfifty/blob/main/images/connect-03.png?raw=1)\n",
        "\n",
        "5. 點擊 OK\n",
        "\n",
        "![](https://github.com/ccwu0918/book-sqlfifty/blob/main/images/connect-04.png?raw=1)\n",
        "\n",
        "6. 將滑鼠游標移動到左側資料庫圖示上按下右鍵，點擊 Connect to the database\n",
        "\n",
        "![](https://github.com/ccwu0918/book-sqlfifty/blob/main/images/connect-05.png?raw=1)\n",
        "\n",
        "7. 重複步驟 2 到步驟 6 將四個學習資料庫都新增至 SQLiteStudio，並且建立連線。\n",
        "\n",
        "![](https://github.com/ccwu0918/book-sqlfifty/blob/main/images/connect-06.png?raw=1)"
      ]
    },
    {
      "cell_type": "markdown",
      "id": "88cea100",
      "metadata": {
        "id": "88cea100"
      },
      "source": [
        "## 哈囉世界與查詢四個學習資料庫中的第一個資料表\n",
        "\n",
        "哈囉世界是指在電腦螢幕顯示「Hello, World!」（你好，世界！）字串的電腦程式，通常用來確認一個程式語言的開發環境及運行環境是否已經安裝妥當。學習 SQL 也不例外，不過若光是在 SQLiteStudio 顯示「Hello, World!」還不足以確認讀者是否有順利完成下載學習資料庫並用 SQLiteStudio 連線，因此還會查詢四個學習資料庫中第一個資料表（依照英文字母順序排列）的「前五列、所有欄」。\n",
        "\n",
        "1. 點擊選單 Tools -> Open SQL Editor 開啟能夠寫作 SQL 敘述的編輯器。\n",
        "\n",
        "![](https://github.com/ccwu0918/book-sqlfifty/blob/main/images/editor-01.png?raw=1)\n",
        "\n",
        "2. 在編輯器的區域寫下 `SELECT 'Hello, World!';`\n",
        "\n",
        "![](https://github.com/ccwu0918/book-sqlfifty/blob/main/images/editor-02.png?raw=1)\n",
        "\n",
        "3. 反白選取後點擊編輯器的 Execute query 圖示，完成哈囉世界。\n",
        "\n",
        "![](https://github.com/ccwu0918/book-sqlfifty/blob/main/images/editor-03.png?raw=1)\n",
        "\n",
        "4. 在編輯器的選單點擊 `covid19`\n",
        "\n",
        "![](https://github.com/ccwu0918/book-sqlfifty/blob/main/images/editor-04.png?raw=1)\n",
        "\n",
        "5. 在編輯器的區域寫下\n",
        "\n",
        "```sql\n",
        "SELECT *\n",
        "  FROM daily_report\n",
        " LIMIT 5;\n",
        "```\n",
        "\n",
        "6. 反白選取後點擊編輯器的 Execute query 圖示，完成查詢 `covid19` 學習資料庫中 `daily_report` 資料表的前五列、所有欄。\n",
        "\n",
        "![](https://github.com/ccwu0918/book-sqlfifty/blob/main/images/editor-05.png?raw=1)\n",
        "\n",
        "7. 在編輯器的選單點擊 imdb\n",
        "\n",
        "![](https://github.com/ccwu0918/book-sqlfifty/blob/main/images/editor-06.png?raw=1)\n",
        "\n",
        "8. 在編輯器的區域寫下\n",
        "\n",
        "```sql\n",
        "SELECT *\n",
        "  FROM actors\n",
        " LIMIT 5;\n",
        "```\n",
        "\n",
        "9. 反白選取後點擊編輯器的 Execute query 圖示，完成查詢 `imdb` 學習資料庫中 `actors` 資料表的前五列、所有欄。\n",
        "\n",
        "![](https://github.com/ccwu0918/book-sqlfifty/blob/main/images/editor-07.png?raw=1)\n",
        "\n",
        "10. 在編輯器的選單點擊 `nba`\n",
        "\n",
        "![](https://github.com/ccwu0918/book-sqlfifty/blob/main/images/editor-08.png?raw=1)\n",
        "\n",
        "11. 在編輯器的區域寫下\n",
        "\n",
        "```sql\n",
        "SELECT *\n",
        "  FROM career_summaries\n",
        " LIMIT 5;\n",
        "```\n",
        "\n",
        "12. 反白選取後點擊編輯器的 Execute query 圖示，完成查詢 `nba` 學習資料庫中 `career_summaries` 資料表的前五列、所有欄。\n",
        "\n",
        "![](https://github.com/ccwu0918/book-sqlfifty/blob/main/images/editor-09.png?raw=1)\n",
        "\n",
        "13. 在編輯器的選單點擊 `twElection2020`\n",
        "\n",
        "![](https://github.com/ccwu0918/book-sqlfifty/blob/main/images/editor-10.png?raw=1)\n",
        "\n",
        "11. 在編輯器的區域寫下\n",
        "\n",
        "```sql\n",
        "SELECT *\n",
        "  FROM admin_regions\n",
        " LIMIT 5;\n",
        "```\n",
        "\n",
        "12. 反白選取後點擊編輯器的 Execute query 圖示，完成查詢 `twElection2020` 學習資料庫中 `admin_regions` 資料表的前五列、所有欄。\n",
        "\n",
        "![](https://github.com/ccwu0918/book-sqlfifty/blob/main/images/editor-11.png?raw=1)"
      ]
    },
    {
      "cell_type": "markdown",
      "id": "9866612c",
      "metadata": {
        "id": "9866612c"
      },
      "source": [
        "## 關於學習資料庫\n",
        "\n",
        "從四個學習資料庫的檔案名稱以及查詢四個學習資料庫的資料表，我們大概瞭解是關於新冠肺炎疫情、電影、美國職業籃球聯盟以及 2020 年台灣大選的資料，副檔名 `.db` 則體現資料庫（Database）的特徵，學習資料庫的數據有效期間除了 twElection2020.db 沒有效期之外（因為內容不會再有任何更新），其餘三個學習資料庫的數據截至 2022-05-31，也就是本書第一版的寫作期間。這些資料的來源與原始格式表列如下：\n",
        "\n",
        "|學習資料庫|資料來源|原始資料格式|\n",
        "|:--------|:-------|:----------|\n",
        "|covid19.db|<https://github.com/CSSEGISandData/COVID-19>|CSV|\n",
        "|imdb.db|<https://www.imdb.com>|HTML|\n",
        "|nba.db|<https://data.nba.net/prod/v1/today.json>|JSON|\n",
        "|twElection2020.db|<https://db.cec.gov.tw>|Microsoft Excel|\n",
        "\n",
        "我們也能藉由查詢四個學習資料庫每一個資料表的元資料（Metadata）來獲得每一欄的資訊，包含：\n",
        "\n",
        "- `cid`：欄流水號（Column ID）。\n",
        "- `name`：欄名。\n",
        "- `type`：欄資料類別。\n",
        "- `notnull`：是否不允許 `NULL` 空值存在。\n",
        "- `dflt_value`：預設值（Default value）。\n",
        "- `pk`：是否為主鍵（Primary key）。"
      ]
    },
    {
      "cell_type": "markdown",
      "id": "838451a6",
      "metadata": {
        "id": "838451a6"
      },
      "source": [
        "### 學習資料庫 `covid19`"
      ]
    },
    {
      "cell_type": "code",
      "execution_count": null,
      "id": "9e3b1e0f",
      "metadata": {
        "id": "9e3b1e0f",
        "outputId": "c73d6c24-213b-4ecc-ea59-5a858134ff16"
      },
      "outputs": [
        {
          "data": {
            "text/html": [
              "<table>\n",
              "<tr>\n",
              "<th>cid</th>\n",
              "<th>name</th>\n",
              "<th>type</th>\n",
              "<th>notnull</th>\n",
              "<th>dflt_value</th>\n",
              "<th>pk</th>\n",
              "</tr>\n",
              "<tr>\n",
              "<td>0</td>\n",
              "<td>Combined_Key</td>\n",
              "<td>TEXT</td>\n",
              "<td>0</td>\n",
              "<td>NULL</td>\n",
              "<td>1</td>\n",
              "</tr>\n",
              "<tr>\n",
              "<td>1</td>\n",
              "<td>Last_Update</td>\n",
              "<td>TEXT</td>\n",
              "<td>0</td>\n",
              "<td>NULL</td>\n",
              "<td>0</td>\n",
              "</tr>\n",
              "<tr>\n",
              "<td>2</td>\n",
              "<td>Confirmed</td>\n",
              "<td>INTEGER</td>\n",
              "<td>0</td>\n",
              "<td>NULL</td>\n",
              "<td>0</td>\n",
              "</tr>\n",
              "<tr>\n",
              "<td>3</td>\n",
              "<td>Deaths</td>\n",
              "<td>INTEGER</td>\n",
              "<td>0</td>\n",
              "<td>NULL</td>\n",
              "<td>0</td>\n",
              "</tr>\n",
              "</table>\n",
              "4 rows in set (0.00 sec)"
            ],
            "text/plain": [
              "+-----+--------------+---------+---------+------------+----+\n",
              "| cid | name         | type    | notnull | dflt_value | pk |\n",
              "+-----+--------------+---------+---------+------------+----+\n",
              "| 0   | Combined_Key | TEXT    | 0       | NULL       | 1  |\n",
              "+-----+--------------+---------+---------+------------+----+\n",
              "| 1   | Last_Update  | TEXT    | 0       | NULL       | 0  |\n",
              "+-----+--------------+---------+---------+------------+----+\n",
              "| 2   | Confirmed    | INTEGER | 0       | NULL       | 0  |\n",
              "+-----+--------------+---------+---------+------------+----+\n",
              "| 3   | Deaths       | INTEGER | 0       | NULL       | 0  |\n",
              "+-----+--------------+---------+---------+------------+----+\n",
              "4 rows in set (0.00 sec)"
            ]
          },
          "execution_count": 5,
          "metadata": {},
          "output_type": "execute_result"
        }
      ],
      "source": [
        "%%sql\n",
        "SELECT *\n",
        "  FROM PRAGMA_TABLE_INFO('daily_report');"
      ]
    },
    {
      "cell_type": "code",
      "execution_count": null,
      "id": "21ee3697",
      "metadata": {
        "id": "21ee3697",
        "outputId": "fa9ac9f2-34b2-491b-e8c0-96f4238428d0"
      },
      "outputs": [
        {
          "data": {
            "text/html": [
              "<table>\n",
              "<tr>\n",
              "<th>cid</th>\n",
              "<th>name</th>\n",
              "<th>type</th>\n",
              "<th>notnull</th>\n",
              "<th>dflt_value</th>\n",
              "<th>pk</th>\n",
              "</tr>\n",
              "<tr>\n",
              "<td>0</td>\n",
              "<td>UID</td>\n",
              "<td>INTEGER</td>\n",
              "<td>0</td>\n",
              "<td>NULL</td>\n",
              "<td>1</td>\n",
              "</tr>\n",
              "<tr>\n",
              "<td>1</td>\n",
              "<td>Combined_Key</td>\n",
              "<td>TEXT</td>\n",
              "<td>0</td>\n",
              "<td>NULL</td>\n",
              "<td>0</td>\n",
              "</tr>\n",
              "<tr>\n",
              "<td>2</td>\n",
              "<td>iso2</td>\n",
              "<td>TEXT</td>\n",
              "<td>0</td>\n",
              "<td>NULL</td>\n",
              "<td>0</td>\n",
              "</tr>\n",
              "<tr>\n",
              "<td>3</td>\n",
              "<td>iso3</td>\n",
              "<td>TEXT</td>\n",
              "<td>0</td>\n",
              "<td>NULL</td>\n",
              "<td>0</td>\n",
              "</tr>\n",
              "<tr>\n",
              "<td>4</td>\n",
              "<td>Country_Region</td>\n",
              "<td>TEXT</td>\n",
              "<td>0</td>\n",
              "<td>NULL</td>\n",
              "<td>0</td>\n",
              "</tr>\n",
              "<tr>\n",
              "<td>5</td>\n",
              "<td>Province_State</td>\n",
              "<td>TEXT</td>\n",
              "<td>0</td>\n",
              "<td>NULL</td>\n",
              "<td>0</td>\n",
              "</tr>\n",
              "<tr>\n",
              "<td>6</td>\n",
              "<td>Admin2</td>\n",
              "<td>TEXT</td>\n",
              "<td>0</td>\n",
              "<td>NULL</td>\n",
              "<td>0</td>\n",
              "</tr>\n",
              "<tr>\n",
              "<td>7</td>\n",
              "<td>Lat</td>\n",
              "<td>REAL</td>\n",
              "<td>0</td>\n",
              "<td>NULL</td>\n",
              "<td>0</td>\n",
              "</tr>\n",
              "<tr>\n",
              "<td>8</td>\n",
              "<td>Long_</td>\n",
              "<td>REAL</td>\n",
              "<td>0</td>\n",
              "<td>NULL</td>\n",
              "<td>0</td>\n",
              "</tr>\n",
              "<tr>\n",
              "<td>9</td>\n",
              "<td>Population</td>\n",
              "<td>INTEGER</td>\n",
              "<td>0</td>\n",
              "<td>NULL</td>\n",
              "<td>0</td>\n",
              "</tr>\n",
              "</table>\n",
              "10 rows in set (0.00 sec)"
            ],
            "text/plain": [
              "+-----+----------------+---------+---------+------------+----+\n",
              "| cid | name           | type    | notnull | dflt_value | pk |\n",
              "+-----+----------------+---------+---------+------------+----+\n",
              "| 0   | UID            | INTEGER | 0       | NULL       | 1  |\n",
              "+-----+----------------+---------+---------+------------+----+\n",
              "| 1   | Combined_Key   | TEXT    | 0       | NULL       | 0  |\n",
              "+-----+----------------+---------+---------+------------+----+\n",
              "| 2   | iso2           | TEXT    | 0       | NULL       | 0  |\n",
              "+-----+----------------+---------+---------+------------+----+\n",
              "| 3   | iso3           | TEXT    | 0       | NULL       | 0  |\n",
              "+-----+----------------+---------+---------+------------+----+\n",
              "| 4   | Country_Region | TEXT    | 0       | NULL       | 0  |\n",
              "+-----+----------------+---------+---------+------------+----+\n",
              "| 5   | Province_State | TEXT    | 0       | NULL       | 0  |\n",
              "+-----+----------------+---------+---------+------------+----+\n",
              "| 6   | Admin2         | TEXT    | 0       | NULL       | 0  |\n",
              "+-----+----------------+---------+---------+------------+----+\n",
              "| 7   | Lat            | REAL    | 0       | NULL       | 0  |\n",
              "+-----+----------------+---------+---------+------------+----+\n",
              "| 8   | Long_          | REAL    | 0       | NULL       | 0  |\n",
              "+-----+----------------+---------+---------+------------+----+\n",
              "| 9   | Population     | INTEGER | 0       | NULL       | 0  |\n",
              "+-----+----------------+---------+---------+------------+----+\n",
              "10 rows in set (0.00 sec)"
            ]
          },
          "execution_count": 6,
          "metadata": {},
          "output_type": "execute_result"
        }
      ],
      "source": [
        "%%sql\n",
        "SELECT *\n",
        "  FROM PRAGMA_TABLE_INFO('lookup_table');"
      ]
    },
    {
      "cell_type": "code",
      "execution_count": null,
      "id": "36c64a2e",
      "metadata": {
        "id": "36c64a2e",
        "outputId": "5195dd88-df77-49bc-9caa-e6b54778d86e"
      },
      "outputs": [
        {
          "data": {
            "text/html": [
              "<table>\n",
              "<tr>\n",
              "<th>cid</th>\n",
              "<th>name</th>\n",
              "<th>type</th>\n",
              "<th>notnull</th>\n",
              "<th>dflt_value</th>\n",
              "<th>pk</th>\n",
              "</tr>\n",
              "<tr>\n",
              "<td>0</td>\n",
              "<td>Date</td>\n",
              "<td>TEXT</td>\n",
              "<td>0</td>\n",
              "<td>NULL</td>\n",
              "<td>1</td>\n",
              "</tr>\n",
              "<tr>\n",
              "<td>1</td>\n",
              "<td>Country_Region</td>\n",
              "<td>TEXT</td>\n",
              "<td>0</td>\n",
              "<td>NULL</td>\n",
              "<td>2</td>\n",
              "</tr>\n",
              "<tr>\n",
              "<td>2</td>\n",
              "<td>Confirmed</td>\n",
              "<td>INTEGER</td>\n",
              "<td>0</td>\n",
              "<td>NULL</td>\n",
              "<td>0</td>\n",
              "</tr>\n",
              "<tr>\n",
              "<td>3</td>\n",
              "<td>Deaths</td>\n",
              "<td>INTEGER</td>\n",
              "<td>0</td>\n",
              "<td>NULL</td>\n",
              "<td>0</td>\n",
              "</tr>\n",
              "<tr>\n",
              "<td>4</td>\n",
              "<td>Daily_Cases</td>\n",
              "<td>INTEGER</td>\n",
              "<td>0</td>\n",
              "<td>NULL</td>\n",
              "<td>0</td>\n",
              "</tr>\n",
              "<tr>\n",
              "<td>5</td>\n",
              "<td>Daily_Deaths</td>\n",
              "<td>INTEGER</td>\n",
              "<td>0</td>\n",
              "<td>NULL</td>\n",
              "<td>0</td>\n",
              "</tr>\n",
              "</table>\n",
              "6 rows in set (0.00 sec)"
            ],
            "text/plain": [
              "+-----+----------------+---------+---------+------------+----+\n",
              "| cid | name           | type    | notnull | dflt_value | pk |\n",
              "+-----+----------------+---------+---------+------------+----+\n",
              "| 0   | Date           | TEXT    | 0       | NULL       | 1  |\n",
              "+-----+----------------+---------+---------+------------+----+\n",
              "| 1   | Country_Region | TEXT    | 0       | NULL       | 2  |\n",
              "+-----+----------------+---------+---------+------------+----+\n",
              "| 2   | Confirmed      | INTEGER | 0       | NULL       | 0  |\n",
              "+-----+----------------+---------+---------+------------+----+\n",
              "| 3   | Deaths         | INTEGER | 0       | NULL       | 0  |\n",
              "+-----+----------------+---------+---------+------------+----+\n",
              "| 4   | Daily_Cases    | INTEGER | 0       | NULL       | 0  |\n",
              "+-----+----------------+---------+---------+------------+----+\n",
              "| 5   | Daily_Deaths   | INTEGER | 0       | NULL       | 0  |\n",
              "+-----+----------------+---------+---------+------------+----+\n",
              "6 rows in set (0.00 sec)"
            ]
          },
          "execution_count": 7,
          "metadata": {},
          "output_type": "execute_result"
        }
      ],
      "source": [
        "%%sql\n",
        "SELECT *\n",
        "  FROM PRAGMA_TABLE_INFO('time_series');"
      ]
    },
    {
      "cell_type": "markdown",
      "id": "e36cce06",
      "metadata": {
        "id": "e36cce06"
      },
      "source": [
        "### 學習資料庫 `imdb`"
      ]
    },
    {
      "cell_type": "code",
      "execution_count": null,
      "id": "08fdd298",
      "metadata": {
        "id": "08fdd298",
        "outputId": "ad338d62-32a7-41c3-cd8c-8f1301fabb82",
        "colab": {
          "base_uri": "https://localhost:8080/",
          "height": 118
        }
      },
      "outputs": [
        {
          "output_type": "stream",
          "name": "stdout",
          "text": [
            " * sqlite:///databases/imdb.db\n",
            "Done.\n"
          ]
        },
        {
          "output_type": "execute_result",
          "data": {
            "text/plain": [
              "[(0, 'id', 'INTEGER', 0, None, 1), (1, 'name', 'TEXT', 0, None, 0)]"
            ],
            "text/html": [
              "<table>\n",
              "    <thead>\n",
              "        <tr>\n",
              "            <th>cid</th>\n",
              "            <th>name</th>\n",
              "            <th>type</th>\n",
              "            <th>notnull</th>\n",
              "            <th>dflt_value</th>\n",
              "            <th>pk</th>\n",
              "        </tr>\n",
              "    </thead>\n",
              "    <tbody>\n",
              "        <tr>\n",
              "            <td>0</td>\n",
              "            <td>id</td>\n",
              "            <td>INTEGER</td>\n",
              "            <td>0</td>\n",
              "            <td>None</td>\n",
              "            <td>1</td>\n",
              "        </tr>\n",
              "        <tr>\n",
              "            <td>1</td>\n",
              "            <td>name</td>\n",
              "            <td>TEXT</td>\n",
              "            <td>0</td>\n",
              "            <td>None</td>\n",
              "            <td>0</td>\n",
              "        </tr>\n",
              "    </tbody>\n",
              "</table>"
            ]
          },
          "metadata": {},
          "execution_count": 7
        }
      ],
      "source": [
        "%%sql\n",
        "SELECT *\n",
        "  FROM PRAGMA_TABLE_INFO('actors');"
      ]
    },
    {
      "cell_type": "code",
      "execution_count": null,
      "id": "dd975254",
      "metadata": {
        "id": "dd975254",
        "outputId": "7afefcf0-24b4-4371-e4ac-b278ac35b3f1",
        "colab": {
          "base_uri": "https://localhost:8080/",
          "height": 139
        }
      },
      "outputs": [
        {
          "output_type": "stream",
          "name": "stdout",
          "text": [
            " * sqlite:///databases/imdb.db\n",
            "Done.\n"
          ]
        },
        {
          "output_type": "execute_result",
          "data": {
            "text/plain": [
              "[(0, 'movie_id', 'INTEGER', 0, None, 0),\n",
              " (1, 'actor_id', 'INTEGER', 0, None, 0),\n",
              " (2, 'ord', 'INTEGER', 0, None, 0)]"
            ],
            "text/html": [
              "<table>\n",
              "    <thead>\n",
              "        <tr>\n",
              "            <th>cid</th>\n",
              "            <th>name</th>\n",
              "            <th>type</th>\n",
              "            <th>notnull</th>\n",
              "            <th>dflt_value</th>\n",
              "            <th>pk</th>\n",
              "        </tr>\n",
              "    </thead>\n",
              "    <tbody>\n",
              "        <tr>\n",
              "            <td>0</td>\n",
              "            <td>movie_id</td>\n",
              "            <td>INTEGER</td>\n",
              "            <td>0</td>\n",
              "            <td>None</td>\n",
              "            <td>0</td>\n",
              "        </tr>\n",
              "        <tr>\n",
              "            <td>1</td>\n",
              "            <td>actor_id</td>\n",
              "            <td>INTEGER</td>\n",
              "            <td>0</td>\n",
              "            <td>None</td>\n",
              "            <td>0</td>\n",
              "        </tr>\n",
              "        <tr>\n",
              "            <td>2</td>\n",
              "            <td>ord</td>\n",
              "            <td>INTEGER</td>\n",
              "            <td>0</td>\n",
              "            <td>None</td>\n",
              "            <td>0</td>\n",
              "        </tr>\n",
              "    </tbody>\n",
              "</table>"
            ]
          },
          "metadata": {},
          "execution_count": 8
        }
      ],
      "source": [
        "%%sql\n",
        "SELECT *\n",
        "  FROM PRAGMA_TABLE_INFO('casting');"
      ]
    },
    {
      "cell_type": "code",
      "execution_count": null,
      "id": "cba589f6",
      "metadata": {
        "id": "cba589f6",
        "outputId": "f2237ee7-08e2-4ea1-cd43-c64efba0bb3c",
        "colab": {
          "base_uri": "https://localhost:8080/",
          "height": 203
        }
      },
      "outputs": [
        {
          "output_type": "stream",
          "name": "stdout",
          "text": [
            " * sqlite:///databases/imdb.db\n",
            "Done.\n"
          ]
        },
        {
          "output_type": "execute_result",
          "data": {
            "text/plain": [
              "[(0, 'id', 'INTEGER', 0, None, 1),\n",
              " (1, 'title', 'TEXT', 0, None, 0),\n",
              " (2, 'release_year', 'INTEGER', 0, None, 0),\n",
              " (3, 'rating', 'REAL', 0, None, 0),\n",
              " (4, 'director', 'TEXT', 0, None, 0),\n",
              " (5, 'runtime', 'int', 0, None, 0)]"
            ],
            "text/html": [
              "<table>\n",
              "    <thead>\n",
              "        <tr>\n",
              "            <th>cid</th>\n",
              "            <th>name</th>\n",
              "            <th>type</th>\n",
              "            <th>notnull</th>\n",
              "            <th>dflt_value</th>\n",
              "            <th>pk</th>\n",
              "        </tr>\n",
              "    </thead>\n",
              "    <tbody>\n",
              "        <tr>\n",
              "            <td>0</td>\n",
              "            <td>id</td>\n",
              "            <td>INTEGER</td>\n",
              "            <td>0</td>\n",
              "            <td>None</td>\n",
              "            <td>1</td>\n",
              "        </tr>\n",
              "        <tr>\n",
              "            <td>1</td>\n",
              "            <td>title</td>\n",
              "            <td>TEXT</td>\n",
              "            <td>0</td>\n",
              "            <td>None</td>\n",
              "            <td>0</td>\n",
              "        </tr>\n",
              "        <tr>\n",
              "            <td>2</td>\n",
              "            <td>release_year</td>\n",
              "            <td>INTEGER</td>\n",
              "            <td>0</td>\n",
              "            <td>None</td>\n",
              "            <td>0</td>\n",
              "        </tr>\n",
              "        <tr>\n",
              "            <td>3</td>\n",
              "            <td>rating</td>\n",
              "            <td>REAL</td>\n",
              "            <td>0</td>\n",
              "            <td>None</td>\n",
              "            <td>0</td>\n",
              "        </tr>\n",
              "        <tr>\n",
              "            <td>4</td>\n",
              "            <td>director</td>\n",
              "            <td>TEXT</td>\n",
              "            <td>0</td>\n",
              "            <td>None</td>\n",
              "            <td>0</td>\n",
              "        </tr>\n",
              "        <tr>\n",
              "            <td>5</td>\n",
              "            <td>runtime</td>\n",
              "            <td>int</td>\n",
              "            <td>0</td>\n",
              "            <td>None</td>\n",
              "            <td>0</td>\n",
              "        </tr>\n",
              "    </tbody>\n",
              "</table>"
            ]
          },
          "metadata": {},
          "execution_count": 9
        }
      ],
      "source": [
        "%%sql\n",
        "SELECT *\n",
        "  FROM PRAGMA_TABLE_INFO('movies');"
      ]
    },
    {
      "cell_type": "markdown",
      "id": "76222d7e",
      "metadata": {
        "id": "76222d7e"
      },
      "source": [
        "### 學習資料庫 `nba`"
      ]
    },
    {
      "cell_type": "code",
      "execution_count": null,
      "id": "dd5b961f",
      "metadata": {
        "id": "dd5b961f",
        "outputId": "f755e7c3-a30c-488f-f2ee-21e159213b29",
        "colab": {
          "base_uri": "https://localhost:8080/",
          "height": 737
        }
      },
      "outputs": [
        {
          "output_type": "stream",
          "name": "stdout",
          "text": [
            " * sqlite:///databases/imdb.db\n",
            "Done.\n"
          ]
        },
        {
          "output_type": "execute_result",
          "data": {
            "text/plain": [
              "[(0, 'personId', 'INTEGER', 0, None, 1),\n",
              " (1, 'tpp', 'REAL', 0, None, 0),\n",
              " (2, 'ftp', 'REAL', 0, None, 0),\n",
              " (3, 'fgp', 'REAL', 0, None, 0),\n",
              " (4, 'ppg', 'REAL', 0, None, 0),\n",
              " (5, 'rpg', 'REAL', 0, None, 0),\n",
              " (6, 'apg', 'REAL', 0, None, 0),\n",
              " (7, 'bpg', 'REAL', 0, None, 0),\n",
              " (8, 'mpg', 'REAL', 0, None, 0),\n",
              " (9, 'spg', 'REAL', 0, None, 0),\n",
              " (10, 'assists', 'INTEGER', 0, None, 0),\n",
              " (11, 'blocks', 'INTEGER', 0, None, 0),\n",
              " (12, 'steals', 'INTEGER', 0, None, 0),\n",
              " (13, 'turnovers', 'INTEGER', 0, None, 0),\n",
              " (14, 'offReb', 'INTEGER', 0, None, 0),\n",
              " (15, 'defReb', 'INTEGER', 0, None, 0),\n",
              " (16, 'totReb', 'INTEGER', 0, None, 0),\n",
              " (17, 'fgm', 'INTEGER', 0, None, 0),\n",
              " (18, 'fga', 'INTEGER', 0, None, 0),\n",
              " (19, 'tpm', 'INTEGER', 0, None, 0),\n",
              " (20, 'tpa', 'INTEGER', 0, None, 0),\n",
              " (21, 'ftm', 'INTEGER', 0, None, 0),\n",
              " (22, 'fta', 'INTEGER', 0, None, 0),\n",
              " (23, 'pFouls', 'INTEGER', 0, None, 0),\n",
              " (24, 'points', 'INTEGER', 0, None, 0),\n",
              " (25, 'gamesPlayed', 'INTEGER', 0, None, 0),\n",
              " (26, 'gamesStarted', 'INTEGER', 0, None, 0),\n",
              " (27, 'plusMinus', 'INTEGER', 0, None, 0),\n",
              " (28, 'min', 'INTEGER', 0, None, 0),\n",
              " (29, 'dd2', 'INTEGER', 0, None, 0),\n",
              " (30, 'td3', 'INTEGER', 0, None, 0)]"
            ],
            "text/html": [
              "<table>\n",
              "    <thead>\n",
              "        <tr>\n",
              "            <th>cid</th>\n",
              "            <th>name</th>\n",
              "            <th>type</th>\n",
              "            <th>notnull</th>\n",
              "            <th>dflt_value</th>\n",
              "            <th>pk</th>\n",
              "        </tr>\n",
              "    </thead>\n",
              "    <tbody>\n",
              "        <tr>\n",
              "            <td>0</td>\n",
              "            <td>personId</td>\n",
              "            <td>INTEGER</td>\n",
              "            <td>0</td>\n",
              "            <td>None</td>\n",
              "            <td>1</td>\n",
              "        </tr>\n",
              "        <tr>\n",
              "            <td>1</td>\n",
              "            <td>tpp</td>\n",
              "            <td>REAL</td>\n",
              "            <td>0</td>\n",
              "            <td>None</td>\n",
              "            <td>0</td>\n",
              "        </tr>\n",
              "        <tr>\n",
              "            <td>2</td>\n",
              "            <td>ftp</td>\n",
              "            <td>REAL</td>\n",
              "            <td>0</td>\n",
              "            <td>None</td>\n",
              "            <td>0</td>\n",
              "        </tr>\n",
              "        <tr>\n",
              "            <td>3</td>\n",
              "            <td>fgp</td>\n",
              "            <td>REAL</td>\n",
              "            <td>0</td>\n",
              "            <td>None</td>\n",
              "            <td>0</td>\n",
              "        </tr>\n",
              "        <tr>\n",
              "            <td>4</td>\n",
              "            <td>ppg</td>\n",
              "            <td>REAL</td>\n",
              "            <td>0</td>\n",
              "            <td>None</td>\n",
              "            <td>0</td>\n",
              "        </tr>\n",
              "        <tr>\n",
              "            <td>5</td>\n",
              "            <td>rpg</td>\n",
              "            <td>REAL</td>\n",
              "            <td>0</td>\n",
              "            <td>None</td>\n",
              "            <td>0</td>\n",
              "        </tr>\n",
              "        <tr>\n",
              "            <td>6</td>\n",
              "            <td>apg</td>\n",
              "            <td>REAL</td>\n",
              "            <td>0</td>\n",
              "            <td>None</td>\n",
              "            <td>0</td>\n",
              "        </tr>\n",
              "        <tr>\n",
              "            <td>7</td>\n",
              "            <td>bpg</td>\n",
              "            <td>REAL</td>\n",
              "            <td>0</td>\n",
              "            <td>None</td>\n",
              "            <td>0</td>\n",
              "        </tr>\n",
              "        <tr>\n",
              "            <td>8</td>\n",
              "            <td>mpg</td>\n",
              "            <td>REAL</td>\n",
              "            <td>0</td>\n",
              "            <td>None</td>\n",
              "            <td>0</td>\n",
              "        </tr>\n",
              "        <tr>\n",
              "            <td>9</td>\n",
              "            <td>spg</td>\n",
              "            <td>REAL</td>\n",
              "            <td>0</td>\n",
              "            <td>None</td>\n",
              "            <td>0</td>\n",
              "        </tr>\n",
              "        <tr>\n",
              "            <td>10</td>\n",
              "            <td>assists</td>\n",
              "            <td>INTEGER</td>\n",
              "            <td>0</td>\n",
              "            <td>None</td>\n",
              "            <td>0</td>\n",
              "        </tr>\n",
              "        <tr>\n",
              "            <td>11</td>\n",
              "            <td>blocks</td>\n",
              "            <td>INTEGER</td>\n",
              "            <td>0</td>\n",
              "            <td>None</td>\n",
              "            <td>0</td>\n",
              "        </tr>\n",
              "        <tr>\n",
              "            <td>12</td>\n",
              "            <td>steals</td>\n",
              "            <td>INTEGER</td>\n",
              "            <td>0</td>\n",
              "            <td>None</td>\n",
              "            <td>0</td>\n",
              "        </tr>\n",
              "        <tr>\n",
              "            <td>13</td>\n",
              "            <td>turnovers</td>\n",
              "            <td>INTEGER</td>\n",
              "            <td>0</td>\n",
              "            <td>None</td>\n",
              "            <td>0</td>\n",
              "        </tr>\n",
              "        <tr>\n",
              "            <td>14</td>\n",
              "            <td>offReb</td>\n",
              "            <td>INTEGER</td>\n",
              "            <td>0</td>\n",
              "            <td>None</td>\n",
              "            <td>0</td>\n",
              "        </tr>\n",
              "        <tr>\n",
              "            <td>15</td>\n",
              "            <td>defReb</td>\n",
              "            <td>INTEGER</td>\n",
              "            <td>0</td>\n",
              "            <td>None</td>\n",
              "            <td>0</td>\n",
              "        </tr>\n",
              "        <tr>\n",
              "            <td>16</td>\n",
              "            <td>totReb</td>\n",
              "            <td>INTEGER</td>\n",
              "            <td>0</td>\n",
              "            <td>None</td>\n",
              "            <td>0</td>\n",
              "        </tr>\n",
              "        <tr>\n",
              "            <td>17</td>\n",
              "            <td>fgm</td>\n",
              "            <td>INTEGER</td>\n",
              "            <td>0</td>\n",
              "            <td>None</td>\n",
              "            <td>0</td>\n",
              "        </tr>\n",
              "        <tr>\n",
              "            <td>18</td>\n",
              "            <td>fga</td>\n",
              "            <td>INTEGER</td>\n",
              "            <td>0</td>\n",
              "            <td>None</td>\n",
              "            <td>0</td>\n",
              "        </tr>\n",
              "        <tr>\n",
              "            <td>19</td>\n",
              "            <td>tpm</td>\n",
              "            <td>INTEGER</td>\n",
              "            <td>0</td>\n",
              "            <td>None</td>\n",
              "            <td>0</td>\n",
              "        </tr>\n",
              "        <tr>\n",
              "            <td>20</td>\n",
              "            <td>tpa</td>\n",
              "            <td>INTEGER</td>\n",
              "            <td>0</td>\n",
              "            <td>None</td>\n",
              "            <td>0</td>\n",
              "        </tr>\n",
              "        <tr>\n",
              "            <td>21</td>\n",
              "            <td>ftm</td>\n",
              "            <td>INTEGER</td>\n",
              "            <td>0</td>\n",
              "            <td>None</td>\n",
              "            <td>0</td>\n",
              "        </tr>\n",
              "        <tr>\n",
              "            <td>22</td>\n",
              "            <td>fta</td>\n",
              "            <td>INTEGER</td>\n",
              "            <td>0</td>\n",
              "            <td>None</td>\n",
              "            <td>0</td>\n",
              "        </tr>\n",
              "        <tr>\n",
              "            <td>23</td>\n",
              "            <td>pFouls</td>\n",
              "            <td>INTEGER</td>\n",
              "            <td>0</td>\n",
              "            <td>None</td>\n",
              "            <td>0</td>\n",
              "        </tr>\n",
              "        <tr>\n",
              "            <td>24</td>\n",
              "            <td>points</td>\n",
              "            <td>INTEGER</td>\n",
              "            <td>0</td>\n",
              "            <td>None</td>\n",
              "            <td>0</td>\n",
              "        </tr>\n",
              "        <tr>\n",
              "            <td>25</td>\n",
              "            <td>gamesPlayed</td>\n",
              "            <td>INTEGER</td>\n",
              "            <td>0</td>\n",
              "            <td>None</td>\n",
              "            <td>0</td>\n",
              "        </tr>\n",
              "        <tr>\n",
              "            <td>26</td>\n",
              "            <td>gamesStarted</td>\n",
              "            <td>INTEGER</td>\n",
              "            <td>0</td>\n",
              "            <td>None</td>\n",
              "            <td>0</td>\n",
              "        </tr>\n",
              "        <tr>\n",
              "            <td>27</td>\n",
              "            <td>plusMinus</td>\n",
              "            <td>INTEGER</td>\n",
              "            <td>0</td>\n",
              "            <td>None</td>\n",
              "            <td>0</td>\n",
              "        </tr>\n",
              "        <tr>\n",
              "            <td>28</td>\n",
              "            <td>min</td>\n",
              "            <td>INTEGER</td>\n",
              "            <td>0</td>\n",
              "            <td>None</td>\n",
              "            <td>0</td>\n",
              "        </tr>\n",
              "        <tr>\n",
              "            <td>29</td>\n",
              "            <td>dd2</td>\n",
              "            <td>INTEGER</td>\n",
              "            <td>0</td>\n",
              "            <td>None</td>\n",
              "            <td>0</td>\n",
              "        </tr>\n",
              "        <tr>\n",
              "            <td>30</td>\n",
              "            <td>td3</td>\n",
              "            <td>INTEGER</td>\n",
              "            <td>0</td>\n",
              "            <td>None</td>\n",
              "            <td>0</td>\n",
              "        </tr>\n",
              "    </tbody>\n",
              "</table>"
            ]
          },
          "metadata": {},
          "execution_count": 10
        }
      ],
      "source": [
        "%%sql\n",
        "SELECT *\n",
        "  FROM PRAGMA_TABLE_INFO('career_summaries');"
      ]
    },
    {
      "cell_type": "code",
      "execution_count": null,
      "id": "9b0afd5d",
      "metadata": {
        "id": "9b0afd5d",
        "outputId": "4e7dbccb-30b2-46b0-e6f6-8d33feb32831",
        "colab": {
          "base_uri": "https://localhost:8080/",
          "height": 460
        }
      },
      "outputs": [
        {
          "output_type": "stream",
          "name": "stdout",
          "text": [
            " * sqlite:///databases/imdb.db\n",
            "Done.\n"
          ]
        },
        {
          "output_type": "execute_result",
          "data": {
            "text/plain": [
              "[(0, 'firstName', 'TEXT', 0, None, 0),\n",
              " (1, 'lastName', 'TEXT', 0, None, 0),\n",
              " (2, 'temporaryDisplayName', 'TEXT', 0, None, 0),\n",
              " (3, 'personId', 'INTEGER', 0, None, 1),\n",
              " (4, 'teamId', 'INTEGER', 0, None, 0),\n",
              " (5, 'jersey', 'INTEGER', 0, None, 0),\n",
              " (6, 'pos', 'TEXT', 0, None, 0),\n",
              " (7, 'heightFeet', 'INTEGER', 0, None, 0),\n",
              " (8, 'heightInches', 'INTEGER', 0, None, 0),\n",
              " (9, 'heightMeters', 'REAL', 0, None, 0),\n",
              " (10, 'weightPounds', 'REAL', 0, None, 0),\n",
              " (11, 'weightKilograms', 'REAL', 0, None, 0),\n",
              " (12, 'dateOfBirthUTC', 'TEXT', 0, None, 0),\n",
              " (13, 'nbaDebutYear', 'INTEGER', 0, None, 0),\n",
              " (14, 'yearsPro', 'INTEGER', 0, None, 0),\n",
              " (15, 'collegeName', 'TEXT', 0, None, 0),\n",
              " (16, 'lastAffiliation', 'TEXT', 0, None, 0),\n",
              " (17, 'country', 'TEXT', 0, None, 0)]"
            ],
            "text/html": [
              "<table>\n",
              "    <thead>\n",
              "        <tr>\n",
              "            <th>cid</th>\n",
              "            <th>name</th>\n",
              "            <th>type</th>\n",
              "            <th>notnull</th>\n",
              "            <th>dflt_value</th>\n",
              "            <th>pk</th>\n",
              "        </tr>\n",
              "    </thead>\n",
              "    <tbody>\n",
              "        <tr>\n",
              "            <td>0</td>\n",
              "            <td>firstName</td>\n",
              "            <td>TEXT</td>\n",
              "            <td>0</td>\n",
              "            <td>None</td>\n",
              "            <td>0</td>\n",
              "        </tr>\n",
              "        <tr>\n",
              "            <td>1</td>\n",
              "            <td>lastName</td>\n",
              "            <td>TEXT</td>\n",
              "            <td>0</td>\n",
              "            <td>None</td>\n",
              "            <td>0</td>\n",
              "        </tr>\n",
              "        <tr>\n",
              "            <td>2</td>\n",
              "            <td>temporaryDisplayName</td>\n",
              "            <td>TEXT</td>\n",
              "            <td>0</td>\n",
              "            <td>None</td>\n",
              "            <td>0</td>\n",
              "        </tr>\n",
              "        <tr>\n",
              "            <td>3</td>\n",
              "            <td>personId</td>\n",
              "            <td>INTEGER</td>\n",
              "            <td>0</td>\n",
              "            <td>None</td>\n",
              "            <td>1</td>\n",
              "        </tr>\n",
              "        <tr>\n",
              "            <td>4</td>\n",
              "            <td>teamId</td>\n",
              "            <td>INTEGER</td>\n",
              "            <td>0</td>\n",
              "            <td>None</td>\n",
              "            <td>0</td>\n",
              "        </tr>\n",
              "        <tr>\n",
              "            <td>5</td>\n",
              "            <td>jersey</td>\n",
              "            <td>INTEGER</td>\n",
              "            <td>0</td>\n",
              "            <td>None</td>\n",
              "            <td>0</td>\n",
              "        </tr>\n",
              "        <tr>\n",
              "            <td>6</td>\n",
              "            <td>pos</td>\n",
              "            <td>TEXT</td>\n",
              "            <td>0</td>\n",
              "            <td>None</td>\n",
              "            <td>0</td>\n",
              "        </tr>\n",
              "        <tr>\n",
              "            <td>7</td>\n",
              "            <td>heightFeet</td>\n",
              "            <td>INTEGER</td>\n",
              "            <td>0</td>\n",
              "            <td>None</td>\n",
              "            <td>0</td>\n",
              "        </tr>\n",
              "        <tr>\n",
              "            <td>8</td>\n",
              "            <td>heightInches</td>\n",
              "            <td>INTEGER</td>\n",
              "            <td>0</td>\n",
              "            <td>None</td>\n",
              "            <td>0</td>\n",
              "        </tr>\n",
              "        <tr>\n",
              "            <td>9</td>\n",
              "            <td>heightMeters</td>\n",
              "            <td>REAL</td>\n",
              "            <td>0</td>\n",
              "            <td>None</td>\n",
              "            <td>0</td>\n",
              "        </tr>\n",
              "        <tr>\n",
              "            <td>10</td>\n",
              "            <td>weightPounds</td>\n",
              "            <td>REAL</td>\n",
              "            <td>0</td>\n",
              "            <td>None</td>\n",
              "            <td>0</td>\n",
              "        </tr>\n",
              "        <tr>\n",
              "            <td>11</td>\n",
              "            <td>weightKilograms</td>\n",
              "            <td>REAL</td>\n",
              "            <td>0</td>\n",
              "            <td>None</td>\n",
              "            <td>0</td>\n",
              "        </tr>\n",
              "        <tr>\n",
              "            <td>12</td>\n",
              "            <td>dateOfBirthUTC</td>\n",
              "            <td>TEXT</td>\n",
              "            <td>0</td>\n",
              "            <td>None</td>\n",
              "            <td>0</td>\n",
              "        </tr>\n",
              "        <tr>\n",
              "            <td>13</td>\n",
              "            <td>nbaDebutYear</td>\n",
              "            <td>INTEGER</td>\n",
              "            <td>0</td>\n",
              "            <td>None</td>\n",
              "            <td>0</td>\n",
              "        </tr>\n",
              "        <tr>\n",
              "            <td>14</td>\n",
              "            <td>yearsPro</td>\n",
              "            <td>INTEGER</td>\n",
              "            <td>0</td>\n",
              "            <td>None</td>\n",
              "            <td>0</td>\n",
              "        </tr>\n",
              "        <tr>\n",
              "            <td>15</td>\n",
              "            <td>collegeName</td>\n",
              "            <td>TEXT</td>\n",
              "            <td>0</td>\n",
              "            <td>None</td>\n",
              "            <td>0</td>\n",
              "        </tr>\n",
              "        <tr>\n",
              "            <td>16</td>\n",
              "            <td>lastAffiliation</td>\n",
              "            <td>TEXT</td>\n",
              "            <td>0</td>\n",
              "            <td>None</td>\n",
              "            <td>0</td>\n",
              "        </tr>\n",
              "        <tr>\n",
              "            <td>17</td>\n",
              "            <td>country</td>\n",
              "            <td>TEXT</td>\n",
              "            <td>0</td>\n",
              "            <td>None</td>\n",
              "            <td>0</td>\n",
              "        </tr>\n",
              "    </tbody>\n",
              "</table>"
            ]
          },
          "metadata": {},
          "execution_count": 11
        }
      ],
      "source": [
        "%%sql\n",
        "SELECT *\n",
        "  FROM PRAGMA_TABLE_INFO('players');"
      ]
    },
    {
      "cell_type": "code",
      "execution_count": null,
      "id": "48cee479",
      "metadata": {
        "id": "48cee479",
        "outputId": "31af8197-8e0a-44cc-8088-fbb92f330b40",
        "colab": {
          "base_uri": "https://localhost:8080/",
          "height": 331
        }
      },
      "outputs": [
        {
          "output_type": "stream",
          "name": "stdout",
          "text": [
            " * sqlite:///databases/imdb.db\n",
            "Done.\n"
          ]
        },
        {
          "output_type": "execute_result",
          "data": {
            "text/plain": [
              "[(0, 'city', 'TEXT', 0, None, 0),\n",
              " (1, 'fullName', 'TEXT', 0, None, 0),\n",
              " (2, 'isNBAFranchise', 'TEXT', 0, None, 0),\n",
              " (3, 'confName', 'TEXT', 0, None, 0),\n",
              " (4, 'tricode', 'TEXT', 0, None, 0),\n",
              " (5, 'teamShortName', 'TEXT', 0, None, 0),\n",
              " (6, 'divName', 'TEXT', 0, None, 0),\n",
              " (7, 'isAllStar', 'TEXT', 0, None, 0),\n",
              " (8, 'nickname', 'TEXT', 0, None, 0),\n",
              " (9, 'urlName', 'TEXT', 0, None, 0),\n",
              " (10, 'teamId', 'INTEGER', 0, None, 1),\n",
              " (11, 'altCityName', 'TEXT', 0, None, 0)]"
            ],
            "text/html": [
              "<table>\n",
              "    <thead>\n",
              "        <tr>\n",
              "            <th>cid</th>\n",
              "            <th>name</th>\n",
              "            <th>type</th>\n",
              "            <th>notnull</th>\n",
              "            <th>dflt_value</th>\n",
              "            <th>pk</th>\n",
              "        </tr>\n",
              "    </thead>\n",
              "    <tbody>\n",
              "        <tr>\n",
              "            <td>0</td>\n",
              "            <td>city</td>\n",
              "            <td>TEXT</td>\n",
              "            <td>0</td>\n",
              "            <td>None</td>\n",
              "            <td>0</td>\n",
              "        </tr>\n",
              "        <tr>\n",
              "            <td>1</td>\n",
              "            <td>fullName</td>\n",
              "            <td>TEXT</td>\n",
              "            <td>0</td>\n",
              "            <td>None</td>\n",
              "            <td>0</td>\n",
              "        </tr>\n",
              "        <tr>\n",
              "            <td>2</td>\n",
              "            <td>isNBAFranchise</td>\n",
              "            <td>TEXT</td>\n",
              "            <td>0</td>\n",
              "            <td>None</td>\n",
              "            <td>0</td>\n",
              "        </tr>\n",
              "        <tr>\n",
              "            <td>3</td>\n",
              "            <td>confName</td>\n",
              "            <td>TEXT</td>\n",
              "            <td>0</td>\n",
              "            <td>None</td>\n",
              "            <td>0</td>\n",
              "        </tr>\n",
              "        <tr>\n",
              "            <td>4</td>\n",
              "            <td>tricode</td>\n",
              "            <td>TEXT</td>\n",
              "            <td>0</td>\n",
              "            <td>None</td>\n",
              "            <td>0</td>\n",
              "        </tr>\n",
              "        <tr>\n",
              "            <td>5</td>\n",
              "            <td>teamShortName</td>\n",
              "            <td>TEXT</td>\n",
              "            <td>0</td>\n",
              "            <td>None</td>\n",
              "            <td>0</td>\n",
              "        </tr>\n",
              "        <tr>\n",
              "            <td>6</td>\n",
              "            <td>divName</td>\n",
              "            <td>TEXT</td>\n",
              "            <td>0</td>\n",
              "            <td>None</td>\n",
              "            <td>0</td>\n",
              "        </tr>\n",
              "        <tr>\n",
              "            <td>7</td>\n",
              "            <td>isAllStar</td>\n",
              "            <td>TEXT</td>\n",
              "            <td>0</td>\n",
              "            <td>None</td>\n",
              "            <td>0</td>\n",
              "        </tr>\n",
              "        <tr>\n",
              "            <td>8</td>\n",
              "            <td>nickname</td>\n",
              "            <td>TEXT</td>\n",
              "            <td>0</td>\n",
              "            <td>None</td>\n",
              "            <td>0</td>\n",
              "        </tr>\n",
              "        <tr>\n",
              "            <td>9</td>\n",
              "            <td>urlName</td>\n",
              "            <td>TEXT</td>\n",
              "            <td>0</td>\n",
              "            <td>None</td>\n",
              "            <td>0</td>\n",
              "        </tr>\n",
              "        <tr>\n",
              "            <td>10</td>\n",
              "            <td>teamId</td>\n",
              "            <td>INTEGER</td>\n",
              "            <td>0</td>\n",
              "            <td>None</td>\n",
              "            <td>1</td>\n",
              "        </tr>\n",
              "        <tr>\n",
              "            <td>11</td>\n",
              "            <td>altCityName</td>\n",
              "            <td>TEXT</td>\n",
              "            <td>0</td>\n",
              "            <td>None</td>\n",
              "            <td>0</td>\n",
              "        </tr>\n",
              "    </tbody>\n",
              "</table>"
            ]
          },
          "metadata": {},
          "execution_count": 12
        }
      ],
      "source": [
        "%%sql\n",
        "SELECT *\n",
        "  FROM PRAGMA_TABLE_INFO('teams');"
      ]
    },
    {
      "cell_type": "markdown",
      "id": "0825f72a",
      "metadata": {
        "id": "0825f72a"
      },
      "source": [
        "### 學習資料庫 `twElection2020`"
      ]
    },
    {
      "cell_type": "code",
      "execution_count": null,
      "id": "714d7b38",
      "metadata": {
        "id": "714d7b38",
        "outputId": "29f90047-f93b-4e83-9804-0753f129623d",
        "colab": {
          "base_uri": "https://localhost:8080/",
          "height": 161
        }
      },
      "outputs": [
        {
          "output_type": "stream",
          "name": "stdout",
          "text": [
            " * sqlite:///databases/imdb.db\n",
            "Done.\n"
          ]
        },
        {
          "output_type": "execute_result",
          "data": {
            "text/plain": [
              "[(0, 'id', 'INTEGER', 0, None, 1),\n",
              " (1, 'county', 'TEXT', 0, None, 0),\n",
              " (2, 'town', 'TEXT', 0, None, 0),\n",
              " (3, 'village', 'TEXT', 0, None, 0)]"
            ],
            "text/html": [
              "<table>\n",
              "    <thead>\n",
              "        <tr>\n",
              "            <th>cid</th>\n",
              "            <th>name</th>\n",
              "            <th>type</th>\n",
              "            <th>notnull</th>\n",
              "            <th>dflt_value</th>\n",
              "            <th>pk</th>\n",
              "        </tr>\n",
              "    </thead>\n",
              "    <tbody>\n",
              "        <tr>\n",
              "            <td>0</td>\n",
              "            <td>id</td>\n",
              "            <td>INTEGER</td>\n",
              "            <td>0</td>\n",
              "            <td>None</td>\n",
              "            <td>1</td>\n",
              "        </tr>\n",
              "        <tr>\n",
              "            <td>1</td>\n",
              "            <td>county</td>\n",
              "            <td>TEXT</td>\n",
              "            <td>0</td>\n",
              "            <td>None</td>\n",
              "            <td>0</td>\n",
              "        </tr>\n",
              "        <tr>\n",
              "            <td>2</td>\n",
              "            <td>town</td>\n",
              "            <td>TEXT</td>\n",
              "            <td>0</td>\n",
              "            <td>None</td>\n",
              "            <td>0</td>\n",
              "        </tr>\n",
              "        <tr>\n",
              "            <td>3</td>\n",
              "            <td>village</td>\n",
              "            <td>TEXT</td>\n",
              "            <td>0</td>\n",
              "            <td>None</td>\n",
              "            <td>0</td>\n",
              "        </tr>\n",
              "    </tbody>\n",
              "</table>"
            ]
          },
          "metadata": {},
          "execution_count": 13
        }
      ],
      "source": [
        "%%sql\n",
        "SELECT *\n",
        "  FROM PRAGMA_TABLE_INFO('admin_regions');"
      ]
    },
    {
      "cell_type": "code",
      "execution_count": null,
      "id": "23c522a0",
      "metadata": {
        "id": "23c522a0",
        "outputId": "c3f0bb15-2c76-48eb-d635-a8fbc2cd16e6",
        "colab": {
          "base_uri": "https://localhost:8080/",
          "height": 182
        }
      },
      "outputs": [
        {
          "output_type": "stream",
          "name": "stdout",
          "text": [
            " * sqlite:///databases/imdb.db\n",
            "Done.\n"
          ]
        },
        {
          "output_type": "execute_result",
          "data": {
            "text/plain": [
              "[(0, 'id', 'INTEGER', 0, None, 1),\n",
              " (1, 'party_id', 'INTEGER', 0, None, 0),\n",
              " (2, 'type', 'TEXT', 0, None, 0),\n",
              " (3, 'number', 'INTEGER', 0, None, 0),\n",
              " (4, 'candidate', 'TEXT', 0, None, 0)]"
            ],
            "text/html": [
              "<table>\n",
              "    <thead>\n",
              "        <tr>\n",
              "            <th>cid</th>\n",
              "            <th>name</th>\n",
              "            <th>type</th>\n",
              "            <th>notnull</th>\n",
              "            <th>dflt_value</th>\n",
              "            <th>pk</th>\n",
              "        </tr>\n",
              "    </thead>\n",
              "    <tbody>\n",
              "        <tr>\n",
              "            <td>0</td>\n",
              "            <td>id</td>\n",
              "            <td>INTEGER</td>\n",
              "            <td>0</td>\n",
              "            <td>None</td>\n",
              "            <td>1</td>\n",
              "        </tr>\n",
              "        <tr>\n",
              "            <td>1</td>\n",
              "            <td>party_id</td>\n",
              "            <td>INTEGER</td>\n",
              "            <td>0</td>\n",
              "            <td>None</td>\n",
              "            <td>0</td>\n",
              "        </tr>\n",
              "        <tr>\n",
              "            <td>2</td>\n",
              "            <td>type</td>\n",
              "            <td>TEXT</td>\n",
              "            <td>0</td>\n",
              "            <td>None</td>\n",
              "            <td>0</td>\n",
              "        </tr>\n",
              "        <tr>\n",
              "            <td>3</td>\n",
              "            <td>number</td>\n",
              "            <td>INTEGER</td>\n",
              "            <td>0</td>\n",
              "            <td>None</td>\n",
              "            <td>0</td>\n",
              "        </tr>\n",
              "        <tr>\n",
              "            <td>4</td>\n",
              "            <td>candidate</td>\n",
              "            <td>TEXT</td>\n",
              "            <td>0</td>\n",
              "            <td>None</td>\n",
              "            <td>0</td>\n",
              "        </tr>\n",
              "    </tbody>\n",
              "</table>"
            ]
          },
          "metadata": {},
          "execution_count": 14
        }
      ],
      "source": [
        "%%sql\n",
        "SELECT *\n",
        "  FROM PRAGMA_TABLE_INFO('candidates');"
      ]
    },
    {
      "cell_type": "code",
      "execution_count": null,
      "id": "c8f90335",
      "metadata": {
        "id": "c8f90335",
        "outputId": "289f5b21-bbe6-49a7-f141-2a2085de0419",
        "colab": {
          "base_uri": "https://localhost:8080/",
          "height": 161
        }
      },
      "outputs": [
        {
          "output_type": "stream",
          "name": "stdout",
          "text": [
            " * sqlite:///databases/imdb.db\n",
            "Done.\n"
          ]
        },
        {
          "output_type": "execute_result",
          "data": {
            "text/plain": [
              "[(0, 'admin_region_id', 'INTEGER', 0, None, 0),\n",
              " (1, 'office', 'INTEGER', 0, None, 0),\n",
              " (2, 'party_id', 'INTEGER', 0, None, 0),\n",
              " (3, 'votes', 'INTEGER', 0, None, 0)]"
            ],
            "text/html": [
              "<table>\n",
              "    <thead>\n",
              "        <tr>\n",
              "            <th>cid</th>\n",
              "            <th>name</th>\n",
              "            <th>type</th>\n",
              "            <th>notnull</th>\n",
              "            <th>dflt_value</th>\n",
              "            <th>pk</th>\n",
              "        </tr>\n",
              "    </thead>\n",
              "    <tbody>\n",
              "        <tr>\n",
              "            <td>0</td>\n",
              "            <td>admin_region_id</td>\n",
              "            <td>INTEGER</td>\n",
              "            <td>0</td>\n",
              "            <td>None</td>\n",
              "            <td>0</td>\n",
              "        </tr>\n",
              "        <tr>\n",
              "            <td>1</td>\n",
              "            <td>office</td>\n",
              "            <td>INTEGER</td>\n",
              "            <td>0</td>\n",
              "            <td>None</td>\n",
              "            <td>0</td>\n",
              "        </tr>\n",
              "        <tr>\n",
              "            <td>2</td>\n",
              "            <td>party_id</td>\n",
              "            <td>INTEGER</td>\n",
              "            <td>0</td>\n",
              "            <td>None</td>\n",
              "            <td>0</td>\n",
              "        </tr>\n",
              "        <tr>\n",
              "            <td>3</td>\n",
              "            <td>votes</td>\n",
              "            <td>INTEGER</td>\n",
              "            <td>0</td>\n",
              "            <td>None</td>\n",
              "            <td>0</td>\n",
              "        </tr>\n",
              "    </tbody>\n",
              "</table>"
            ]
          },
          "metadata": {},
          "execution_count": 15
        }
      ],
      "source": [
        "%%sql\n",
        "SELECT *\n",
        "  FROM PRAGMA_TABLE_INFO('legislative_at_large');"
      ]
    },
    {
      "cell_type": "code",
      "execution_count": null,
      "id": "dc446871",
      "metadata": {
        "id": "dc446871",
        "outputId": "29071668-3629-4944-969b-070170f73a21",
        "colab": {
          "base_uri": "https://localhost:8080/",
          "height": 182
        }
      },
      "outputs": [
        {
          "output_type": "stream",
          "name": "stdout",
          "text": [
            " * sqlite:///databases/imdb.db\n",
            "Done.\n"
          ]
        },
        {
          "output_type": "execute_result",
          "data": {
            "text/plain": [
              "[(0, 'admin_region_id', 'INTEGER', 0, None, 0),\n",
              " (1, 'electoral_district', 'TEXT', 0, None, 0),\n",
              " (2, 'office', 'INTEGER', 0, None, 0),\n",
              " (3, 'candidate_id', 'INTEGER', 0, None, 0),\n",
              " (4, 'votes', 'INTEGER', 0, None, 0)]"
            ],
            "text/html": [
              "<table>\n",
              "    <thead>\n",
              "        <tr>\n",
              "            <th>cid</th>\n",
              "            <th>name</th>\n",
              "            <th>type</th>\n",
              "            <th>notnull</th>\n",
              "            <th>dflt_value</th>\n",
              "            <th>pk</th>\n",
              "        </tr>\n",
              "    </thead>\n",
              "    <tbody>\n",
              "        <tr>\n",
              "            <td>0</td>\n",
              "            <td>admin_region_id</td>\n",
              "            <td>INTEGER</td>\n",
              "            <td>0</td>\n",
              "            <td>None</td>\n",
              "            <td>0</td>\n",
              "        </tr>\n",
              "        <tr>\n",
              "            <td>1</td>\n",
              "            <td>electoral_district</td>\n",
              "            <td>TEXT</td>\n",
              "            <td>0</td>\n",
              "            <td>None</td>\n",
              "            <td>0</td>\n",
              "        </tr>\n",
              "        <tr>\n",
              "            <td>2</td>\n",
              "            <td>office</td>\n",
              "            <td>INTEGER</td>\n",
              "            <td>0</td>\n",
              "            <td>None</td>\n",
              "            <td>0</td>\n",
              "        </tr>\n",
              "        <tr>\n",
              "            <td>3</td>\n",
              "            <td>candidate_id</td>\n",
              "            <td>INTEGER</td>\n",
              "            <td>0</td>\n",
              "            <td>None</td>\n",
              "            <td>0</td>\n",
              "        </tr>\n",
              "        <tr>\n",
              "            <td>4</td>\n",
              "            <td>votes</td>\n",
              "            <td>INTEGER</td>\n",
              "            <td>0</td>\n",
              "            <td>None</td>\n",
              "            <td>0</td>\n",
              "        </tr>\n",
              "    </tbody>\n",
              "</table>"
            ]
          },
          "metadata": {},
          "execution_count": 16
        }
      ],
      "source": [
        "%%sql\n",
        "SELECT *\n",
        "  FROM PRAGMA_TABLE_INFO('legislative_regional');"
      ]
    },
    {
      "cell_type": "code",
      "execution_count": null,
      "id": "1fb1ba12",
      "metadata": {
        "id": "1fb1ba12",
        "outputId": "e77a708b-da78-4cd0-8c31-49ced5a341b9",
        "colab": {
          "base_uri": "https://localhost:8080/",
          "height": 118
        }
      },
      "outputs": [
        {
          "output_type": "stream",
          "name": "stdout",
          "text": [
            " * sqlite:///databases/imdb.db\n",
            "Done.\n"
          ]
        },
        {
          "output_type": "execute_result",
          "data": {
            "text/plain": [
              "[(0, 'id', 'INTEGER', 0, None, 1), (1, 'party', 'TEXT', 0, None, 0)]"
            ],
            "text/html": [
              "<table>\n",
              "    <thead>\n",
              "        <tr>\n",
              "            <th>cid</th>\n",
              "            <th>name</th>\n",
              "            <th>type</th>\n",
              "            <th>notnull</th>\n",
              "            <th>dflt_value</th>\n",
              "            <th>pk</th>\n",
              "        </tr>\n",
              "    </thead>\n",
              "    <tbody>\n",
              "        <tr>\n",
              "            <td>0</td>\n",
              "            <td>id</td>\n",
              "            <td>INTEGER</td>\n",
              "            <td>0</td>\n",
              "            <td>None</td>\n",
              "            <td>1</td>\n",
              "        </tr>\n",
              "        <tr>\n",
              "            <td>1</td>\n",
              "            <td>party</td>\n",
              "            <td>TEXT</td>\n",
              "            <td>0</td>\n",
              "            <td>None</td>\n",
              "            <td>0</td>\n",
              "        </tr>\n",
              "    </tbody>\n",
              "</table>"
            ]
          },
          "metadata": {},
          "execution_count": 17
        }
      ],
      "source": [
        "%%sql\n",
        "SELECT *\n",
        "  FROM PRAGMA_TABLE_INFO('parties');"
      ]
    },
    {
      "cell_type": "code",
      "execution_count": null,
      "id": "70dadbec",
      "metadata": {
        "id": "70dadbec",
        "outputId": "33c4f6a9-6bab-45c9-90c1-2d2bbb72c3aa",
        "colab": {
          "base_uri": "https://localhost:8080/",
          "height": 161
        }
      },
      "outputs": [
        {
          "output_type": "stream",
          "name": "stdout",
          "text": [
            " * sqlite:///databases/imdb.db\n",
            "Done.\n"
          ]
        },
        {
          "output_type": "execute_result",
          "data": {
            "text/plain": [
              "[(0, 'admin_region_id', 'INTEGER', 0, None, 0),\n",
              " (1, 'office', 'INTEGER', 0, None, 0),\n",
              " (2, 'candidate_id', 'INTEGER', 0, None, 0),\n",
              " (3, 'votes', 'INTEGER', 0, None, 0)]"
            ],
            "text/html": [
              "<table>\n",
              "    <thead>\n",
              "        <tr>\n",
              "            <th>cid</th>\n",
              "            <th>name</th>\n",
              "            <th>type</th>\n",
              "            <th>notnull</th>\n",
              "            <th>dflt_value</th>\n",
              "            <th>pk</th>\n",
              "        </tr>\n",
              "    </thead>\n",
              "    <tbody>\n",
              "        <tr>\n",
              "            <td>0</td>\n",
              "            <td>admin_region_id</td>\n",
              "            <td>INTEGER</td>\n",
              "            <td>0</td>\n",
              "            <td>None</td>\n",
              "            <td>0</td>\n",
              "        </tr>\n",
              "        <tr>\n",
              "            <td>1</td>\n",
              "            <td>office</td>\n",
              "            <td>INTEGER</td>\n",
              "            <td>0</td>\n",
              "            <td>None</td>\n",
              "            <td>0</td>\n",
              "        </tr>\n",
              "        <tr>\n",
              "            <td>2</td>\n",
              "            <td>candidate_id</td>\n",
              "            <td>INTEGER</td>\n",
              "            <td>0</td>\n",
              "            <td>None</td>\n",
              "            <td>0</td>\n",
              "        </tr>\n",
              "        <tr>\n",
              "            <td>3</td>\n",
              "            <td>votes</td>\n",
              "            <td>INTEGER</td>\n",
              "            <td>0</td>\n",
              "            <td>None</td>\n",
              "            <td>0</td>\n",
              "        </tr>\n",
              "    </tbody>\n",
              "</table>"
            ]
          },
          "metadata": {},
          "execution_count": 18
        }
      ],
      "source": [
        "%%sql\n",
        "SELECT *\n",
        "  FROM PRAGMA_TABLE_INFO('presidential');"
      ]
    },
    {
      "cell_type": "markdown",
      "id": "supposed-spread",
      "metadata": {
        "id": "supposed-spread"
      },
      "source": [
        "## 重點統整\n",
        "\n",
        "- 本書使用 SQLiteStudio 的安裝版本 `3.2.1`（之後更新版本的 SQLiteStudio 都改為免安裝設定），讀者必須依照自己電腦的作業系統選擇不同副檔名的安裝檔下載。\n",
        "- 光是在 SQLiteStudio 顯示「Hello, World!」還不足以確認讀者是否有順利完成下載學習資料庫並用 SQLiteStudio 連線，因此還會查詢四個學習資料庫中第一個資料表（依照英文字母順序排列）的「前五列、所有欄」。\n",
        "- 藉由查詢四個學習資料庫每一個資料表的元資料（Metadata）來獲得每一欄的資訊。\n",
        "\n",
        "## 延伸閱讀\n",
        "\n",
        "- SQLiteStudio <https://sqlitestudio.pl>\n",
        "- 哈囉世界 <https://zh.m.wikipedia.org/zh-tw/Hello_World>"
      ]
    }
  ],
  "metadata": {
    "kernelspec": {
      "display_name": "Python 3",
      "name": "python3"
    },
    "language_info": {
      "name": "python"
    },
    "colab": {
      "provenance": [],
      "include_colab_link": true
    },
    "gpuClass": "standard"
  },
  "nbformat": 4,
  "nbformat_minor": 5
}
