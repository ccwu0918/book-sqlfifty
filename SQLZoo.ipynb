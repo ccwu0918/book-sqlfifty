{
  "nbformat": 4,
  "nbformat_minor": 0,
  "metadata": {
    "colab": {
      "provenance": [],
      "authorship_tag": "ABX9TyN4g6NbNHJnwibOBpIGphSf",
      "include_colab_link": true
    },
    "kernelspec": {
      "name": "python3",
      "display_name": "Python 3"
    },
    "language_info": {
      "name": "python"
    }
  },
  "cells": [
    {
      "cell_type": "markdown",
      "metadata": {
        "id": "view-in-github",
        "colab_type": "text"
      },
      "source": [
        "<a href=\"https://colab.research.google.com/github/ccwu0918/book-sqlfifty/blob/main/SQLZoo.ipynb\" target=\"_parent\"><img src=\"https://colab.research.google.com/assets/colab-badge.svg\" alt=\"Open In Colab\"/></a>"
      ]
    },
    {
      "cell_type": "markdown",
      "source": [
        "### 班級：工管三\n",
        "### 學號：13913001\n",
        "### 姓名：吳佳駿"
      ],
      "metadata": {
        "id": "Qo_oklM4ZpWF"
      }
    },
    {
      "cell_type": "markdown",
      "source": [
        "### 1. 這個例子顯示’France法國’的人口。字串應該在'單引號'中。\n",
        "\n",
        "修改此例子,以顯示德國 Germany 的人口。"
      ],
      "metadata": {
        "id": "WrtkXEN7Zhad"
      }
    },
    {
      "cell_type": "code",
      "execution_count": null,
      "metadata": {
        "id": "DsbNd1jvY58l"
      },
      "outputs": [],
      "source": [
        "SELECT population FROM world\n",
        "  WHERE name = 'Germany'"
      ]
    },
    {
      "cell_type": "markdown",
      "source": [
        "### 2. 查詢顯示面積為 5,000,000 以上平方公里的國家,該國家的人口密度(population/area)。人口密度並不是 WORLD 表格中的欄,但我們可用公式(population/area)計算出來。\n",
        "\n",
        "修改此例子,查詢面積為 5,000,000 以上平方公里的國家,對每個國家顯示她的名字和人均國內生產總值(gdp/population)。"
      ],
      "metadata": {
        "id": "rH3lG05TZn8D"
      }
    },
    {
      "cell_type": "code",
      "source": [
        "SELECT name, gdp/population FROM world\n",
        "  WHERE area > 5000000"
      ],
      "metadata": {
        "id": "ShNvnP-gaCna"
      },
      "execution_count": null,
      "outputs": []
    }
  ]
}