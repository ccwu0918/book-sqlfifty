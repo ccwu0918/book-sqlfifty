{
  "nbformat": 4,
  "nbformat_minor": 0,
  "metadata": {
    "colab": {
      "provenance": [],
      "authorship_tag": "ABX9TyMBDfeLjp9RrhGCoOJz206G",
      "include_colab_link": true
    },
    "kernelspec": {
      "name": "python3",
      "display_name": "Python 3"
    },
    "language_info": {
      "name": "python"
    }
  },
  "cells": [
    {
      "cell_type": "markdown",
      "metadata": {
        "id": "view-in-github",
        "colab_type": "text"
      },
      "source": [
        "<a href=\"https://colab.research.google.com/github/ccwu0918/book-sqlfifty/blob/main/SQLZoo.ipynb\" target=\"_parent\"><img src=\"https://colab.research.google.com/assets/colab-badge.svg\" alt=\"Open In Colab\"/></a>"
      ]
    },
    {
      "cell_type": "markdown",
      "source": [
        "### 班級：工管三\n",
        "### 學號：13913001\n",
        "### 姓名：吳佳駿"
      ],
      "metadata": {
        "id": "Qo_oklM4ZpWF"
      }
    },
    {
      "cell_type": "code",
      "source": [
        "!pip install SQLAlchemy==1.4.46"
      ],
      "metadata": {
        "id": "vMMOCsytJ98k",
        "colab": {
          "base_uri": "https://localhost:8080/"
        },
        "outputId": "166d3d45-7634-4166-e924-9482c6acc7a0"
      },
      "execution_count": 1,
      "outputs": [
        {
          "output_type": "stream",
          "name": "stdout",
          "text": [
            "Looking in indexes: https://pypi.org/simple, https://us-python.pkg.dev/colab-wheels/public/simple/\n",
            "Collecting SQLAlchemy==1.4.46\n",
            "  Downloading SQLAlchemy-1.4.46-cp310-cp310-manylinux_2_5_x86_64.manylinux1_x86_64.manylinux_2_17_x86_64.manylinux2014_x86_64.whl (1.6 MB)\n",
            "\u001b[2K     \u001b[90m━━━━━━━━━━━━━━━━━━━━━━━━━━━━━━━━━━━━━━━━\u001b[0m \u001b[32m1.6/1.6 MB\u001b[0m \u001b[31m13.3 MB/s\u001b[0m eta \u001b[36m0:00:00\u001b[0m\n",
            "\u001b[?25hRequirement already satisfied: greenlet!=0.4.17 in /usr/local/lib/python3.10/dist-packages (from SQLAlchemy==1.4.46) (2.0.2)\n",
            "Installing collected packages: SQLAlchemy\n",
            "  Attempting uninstall: SQLAlchemy\n",
            "    Found existing installation: SQLAlchemy 2.0.10\n",
            "    Uninstalling SQLAlchemy-2.0.10:\n",
            "      Successfully uninstalled SQLAlchemy-2.0.10\n",
            "Successfully installed SQLAlchemy-1.4.46\n"
          ]
        }
      ]
    },
    {
      "cell_type": "code",
      "source": [
        "!git clone https://github.com/ccwu0918/book-sqlfifty"
      ],
      "metadata": {
        "id": "B5I8cc9KKCud",
        "colab": {
          "base_uri": "https://localhost:8080/"
        },
        "outputId": "da7f72c7-98ee-4551-e1b7-2c1ea3ebaf4e"
      },
      "execution_count": 2,
      "outputs": [
        {
          "output_type": "stream",
          "name": "stdout",
          "text": [
            "Cloning into 'book-sqlfifty'...\n",
            "remote: Enumerating objects: 495, done.\u001b[K\n",
            "remote: Counting objects: 100% (193/193), done.\u001b[K\n",
            "remote: Compressing objects: 100% (172/172), done.\u001b[K\n",
            "remote: Total 495 (delta 114), reused 19 (delta 19), pack-reused 302\u001b[K\n",
            "Receiving objects: 100% (495/495), 30.02 MiB | 17.99 MiB/s, done.\n",
            "Resolving deltas: 100% (209/209), done.\n"
          ]
        }
      ]
    },
    {
      "cell_type": "code",
      "source": [
        "%cd book-sqlfifty"
      ],
      "metadata": {
        "colab": {
          "base_uri": "https://localhost:8080/"
        },
        "id": "glF302VcVm53",
        "outputId": "e166afc9-4052-4bb9-f2fb-29c69b34b19c"
      },
      "execution_count": 4,
      "outputs": [
        {
          "output_type": "stream",
          "name": "stdout",
          "text": [
            "/content/book-sqlfifty\n"
          ]
        }
      ]
    },
    {
      "cell_type": "code",
      "source": [
        "import sqlite3\n",
        "import unittest\n",
        "import json\n",
        "import os\n",
        "import numpy as np\n",
        "import pandas as pd\n",
        "conn = sqlite3.connect('./databases/imdb.db')\n",
        "conn.execute(\"\"\"ATTACH './databases/covid19.db' AS covid19\"\"\")\n",
        "conn.execute(\"\"\"ATTACH './databases/twElection2020.db' AS twElection2020\"\"\")\n",
        "conn.execute(\"\"\"ATTACH './databases/nba.db' AS nba\"\"\")\n",
        "conn.execute(\"\"\"ATTACH './databases/northwind.db' AS Northwind\"\"\")\n",
        "conn.execute(\"\"\"ATTACH './databases/Chinook_Sqlite.sqlite' AS Chinook\"\"\")"
      ],
      "metadata": {
        "id": "a4MBVX70KHnM",
        "colab": {
          "base_uri": "https://localhost:8080/"
        },
        "outputId": "c9e4566c-7815-4b40-d561-6b24b688f6cd"
      },
      "execution_count": 5,
      "outputs": [
        {
          "output_type": "execute_result",
          "data": {
            "text/plain": [
              "<sqlite3.Cursor at 0x7f483e291fc0>"
            ]
          },
          "metadata": {},
          "execution_count": 5
        }
      ]
    },
    {
      "cell_type": "code",
      "source": [
        "# %%capture\n",
        "# load the SQL magic extension\n",
        "# https://github.com/catherinedevlin/ipython-sql\n",
        "# this extension allows us to connect to DBs and issue SQL command\n",
        "%load_ext sql\n",
        "\n",
        "# now we can use the magic extension to connect to our SQLite DB\n",
        "# use %sql to write an inline SQL command\n",
        "# use %%sql to write SQL commands in a cell\n",
        "%sql sqlite:///databases/imdb.db"
      ],
      "metadata": {
        "id": "QlCJWeNRKLfL"
      },
      "execution_count": 6,
      "outputs": []
    },
    {
      "cell_type": "code",
      "source": [
        "%%sql\n",
        "ATTACH \"./databases/covid19.db\" AS covid19;\n",
        "ATTACH \"./databases/twElection2020.db\" AS twElection2020;\n",
        "ATTACH \"./databases/nba.db\" AS nba;\n",
        "ATTACH \"./databases/northwind.db\" AS Northwind;\n",
        "ATTACH \"./databases/Chinook_Sqlite.sqlite\" AS Chinook;"
      ],
      "metadata": {
        "id": "GhTDeltpKRp_",
        "colab": {
          "base_uri": "https://localhost:8080/"
        },
        "outputId": "9bbd81b7-5d5d-40cb-d785-61dad2d1ae75"
      },
      "execution_count": 7,
      "outputs": [
        {
          "output_type": "stream",
          "name": "stdout",
          "text": [
            " * sqlite:///databases/imdb.db\n",
            "Done.\n",
            "Done.\n",
            "Done.\n",
            "Done.\n",
            "Done.\n"
          ]
        },
        {
          "output_type": "execute_result",
          "data": {
            "text/plain": [
              "[]"
            ]
          },
          "metadata": {},
          "execution_count": 7
        }
      ]
    },
    {
      "cell_type": "code",
      "source": [
        "%%sql\n",
        "DROP TABLE IF EXISTS World;\n",
        "CREATE TABLE World ( name VARCHAR ( 255 ), continent VARCHAR ( 255 ), area INT, population INT, gdp INT );\n",
        "INSERT INTO World ( name, continent, area, population, gdp )\n",
        "VALUES\n",
        "    ( 'Afghanistan', 'Asia', '652230', '25500100', '203430000' ),\n",
        "    ( 'Albania', 'Europe', '28748', '2831741', '129600000' ),\n",
        "    ( 'Algeria', 'Africa', '2381741', '37100000', '1886810000' ),\n",
        "    ( 'Andorra', 'Europe', '468', '78115', '37120000' ),\n",
        "    ( 'Angola', 'Africa', '1246700', '20609294', '1009900000' );"
      ],
      "metadata": {
        "colab": {
          "base_uri": "https://localhost:8080/"
        },
        "id": "nfbSxRU2UgO4",
        "outputId": "1df6e246-b823-47ce-b6c2-504e173c9e9b"
      },
      "execution_count": 8,
      "outputs": [
        {
          "output_type": "stream",
          "name": "stdout",
          "text": [
            " * sqlite:///databases/imdb.db\n",
            "Done.\n",
            "Done.\n",
            "5 rows affected.\n"
          ]
        },
        {
          "output_type": "execute_result",
          "data": {
            "text/plain": [
              "[]"
            ]
          },
          "metadata": {},
          "execution_count": 8
        }
      ]
    },
    {
      "cell_type": "code",
      "source": [
        "%%sql\n",
        "SELECT population FROM world"
      ],
      "metadata": {
        "id": "SUiGG6koWQS4",
        "outputId": "42c28118-9ebb-4309-b740-40feabacb20f",
        "colab": {
          "base_uri": "https://localhost:8080/",
          "height": 182
        }
      },
      "execution_count": 10,
      "outputs": [
        {
          "output_type": "stream",
          "name": "stdout",
          "text": [
            " * sqlite:///databases/imdb.db\n",
            "Done.\n"
          ]
        },
        {
          "output_type": "execute_result",
          "data": {
            "text/plain": [
              "[(25500100,), (2831741,), (37100000,), (78115,), (20609294,)]"
            ],
            "text/html": [
              "<table>\n",
              "    <tr>\n",
              "        <th>population</th>\n",
              "    </tr>\n",
              "    <tr>\n",
              "        <td>25500100</td>\n",
              "    </tr>\n",
              "    <tr>\n",
              "        <td>2831741</td>\n",
              "    </tr>\n",
              "    <tr>\n",
              "        <td>37100000</td>\n",
              "    </tr>\n",
              "    <tr>\n",
              "        <td>78115</td>\n",
              "    </tr>\n",
              "    <tr>\n",
              "        <td>20609294</td>\n",
              "    </tr>\n",
              "</table>"
            ]
          },
          "metadata": {},
          "execution_count": 10
        }
      ]
    },
    {
      "cell_type": "markdown",
      "source": [
        "### 1. 這個例子顯示’France法國’的人口。字串應該在'單引號'中。\n",
        "\n",
        "修改此例子,以顯示德國 Germany 的人口。"
      ],
      "metadata": {
        "id": "WrtkXEN7Zhad"
      }
    },
    {
      "cell_type": "code",
      "execution_count": null,
      "metadata": {
        "id": "DsbNd1jvY58l"
      },
      "outputs": [],
      "source": [
        "SELECT population FROM world\n",
        "  WHERE name = 'Germany'"
      ]
    },
    {
      "cell_type": "markdown",
      "source": [
        "### 2. 查詢顯示面積為 5,000,000 以上平方公里的國家,該國家的人口密度(population/area)。人口密度並不是 WORLD 表格中的欄,但我們可用公式(population/area)計算出來。\n",
        "\n",
        "修改此例子,查詢面積為 5,000,000 以上平方公里的國家,對每個國家顯示她的名字和人均國內生產總值(gdp/population)。"
      ],
      "metadata": {
        "id": "rH3lG05TZn8D"
      }
    },
    {
      "cell_type": "code",
      "source": [
        "SELECT name, gdp/population FROM world\n",
        "  WHERE area > 5000000"
      ],
      "metadata": {
        "id": "ShNvnP-gaCna"
      },
      "execution_count": null,
      "outputs": []
    }
  ]
}