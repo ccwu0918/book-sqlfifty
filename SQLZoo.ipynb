{
  "nbformat": 4,
  "nbformat_minor": 0,
  "metadata": {
    "colab": {
      "provenance": [],
      "authorship_tag": "ABX9TyOeOGkMKGFiaiLAUvDhxsci",
      "include_colab_link": true
    },
    "kernelspec": {
      "name": "python3",
      "display_name": "Python 3"
    },
    "language_info": {
      "name": "python"
    }
  },
  "cells": [
    {
      "cell_type": "markdown",
      "metadata": {
        "id": "view-in-github",
        "colab_type": "text"
      },
      "source": [
        "<a href=\"https://colab.research.google.com/github/ccwu0918/book-sqlfifty/blob/main/SQLZoo.ipynb\" target=\"_parent\"><img src=\"https://colab.research.google.com/assets/colab-badge.svg\" alt=\"Open In Colab\"/></a>"
      ]
    },
    {
      "cell_type": "markdown",
      "source": [
        "### 班級：工管三\n",
        "### 學號：13913001\n",
        "### 姓名：吳佳駿"
      ],
      "metadata": {
        "id": "Qo_oklM4ZpWF"
      }
    },
    {
      "cell_type": "code",
      "source": [
        "!pip install SQLAlchemy==1.4.46"
      ],
      "metadata": {
        "id": "vMMOCsytJ98k",
        "colab": {
          "base_uri": "https://localhost:8080/"
        },
        "outputId": "8bf606d4-a045-4641-cc4c-0c70cd9d3bbd"
      },
      "execution_count": 11,
      "outputs": [
        {
          "output_type": "stream",
          "name": "stdout",
          "text": [
            "Looking in indexes: https://pypi.org/simple, https://us-python.pkg.dev/colab-wheels/public/simple/\n",
            "Requirement already satisfied: SQLAlchemy==1.4.46 in /usr/local/lib/python3.10/dist-packages (1.4.46)\n",
            "Requirement already satisfied: greenlet!=0.4.17 in /usr/local/lib/python3.10/dist-packages (from SQLAlchemy==1.4.46) (2.0.2)\n"
          ]
        }
      ]
    },
    {
      "cell_type": "code",
      "source": [
        "!git clone https://github.com/ccwu0918/book-sqlfifty"
      ],
      "metadata": {
        "id": "B5I8cc9KKCud",
        "colab": {
          "base_uri": "https://localhost:8080/"
        },
        "outputId": "ef1c647a-f7a6-4eca-940c-654173f728ff"
      },
      "execution_count": 12,
      "outputs": [
        {
          "output_type": "stream",
          "name": "stdout",
          "text": [
            "Cloning into 'book-sqlfifty'...\n",
            "remote: Enumerating objects: 505, done.\u001b[K\n",
            "remote: Counting objects: 100% (203/203), done.\u001b[K\n",
            "remote: Compressing objects: 100% (182/182), done.\u001b[K\n",
            "remote: Total 505 (delta 119), reused 19 (delta 19), pack-reused 302\u001b[K\n",
            "Receiving objects: 100% (505/505), 30.03 MiB | 14.75 MiB/s, done.\n",
            "Resolving deltas: 100% (214/214), done.\n"
          ]
        }
      ]
    },
    {
      "cell_type": "code",
      "source": [
        "%cd book-sqlfifty"
      ],
      "metadata": {
        "colab": {
          "base_uri": "https://localhost:8080/"
        },
        "id": "glF302VcVm53",
        "outputId": "374103c2-c9c2-4198-9454-eae28e97a7b8"
      },
      "execution_count": 13,
      "outputs": [
        {
          "output_type": "stream",
          "name": "stdout",
          "text": [
            "/content/book-sqlfifty/book-sqlfifty\n"
          ]
        }
      ]
    },
    {
      "cell_type": "code",
      "source": [
        "import sqlite3\n",
        "import unittest\n",
        "import json\n",
        "import os\n",
        "import numpy as np\n",
        "import pandas as pd\n",
        "conn = sqlite3.connect('./databases/World.db')\n",
        "conn.execute(\"\"\"ATTACH './databases/imdb.db' AS imdb\"\"\")\n",
        "conn.execute(\"\"\"ATTACH './databases/covid19.db' AS covid19\"\"\")\n",
        "conn.execute(\"\"\"ATTACH './databases/twElection2020.db' AS twElection2020\"\"\")\n",
        "conn.execute(\"\"\"ATTACH './databases/nba.db' AS nba\"\"\")\n",
        "conn.execute(\"\"\"ATTACH './databases/northwind.db' AS Northwind\"\"\")\n",
        "conn.execute(\"\"\"ATTACH './databases/Chinook_Sqlite.sqlite' AS Chinook\"\"\")"
      ],
      "metadata": {
        "id": "a4MBVX70KHnM",
        "colab": {
          "base_uri": "https://localhost:8080/"
        },
        "outputId": "c9e4566c-7815-4b40-d561-6b24b688f6cd"
      },
      "execution_count": null,
      "outputs": [
        {
          "output_type": "execute_result",
          "data": {
            "text/plain": [
              "<sqlite3.Cursor at 0x7f483e291fc0>"
            ]
          },
          "metadata": {},
          "execution_count": 5
        }
      ]
    },
    {
      "cell_type": "code",
      "source": [
        "# %%capture\n",
        "# load the SQL magic extension\n",
        "# https://github.com/catherinedevlin/ipython-sql\n",
        "# this extension allows us to connect to DBs and issue SQL command\n",
        "%load_ext sql\n",
        "\n",
        "# now we can use the magic extension to connect to our SQLite DB\n",
        "# use %sql to write an inline SQL command\n",
        "# use %%sql to write SQL commands in a cell\n",
        "%sql sqlite:///databases/World.db"
      ],
      "metadata": {
        "id": "QlCJWeNRKLfL",
        "outputId": "ab710f1a-c9ed-4a4a-b812-8f10051b09e7",
        "colab": {
          "base_uri": "https://localhost:8080/"
        }
      },
      "execution_count": 14,
      "outputs": [
        {
          "output_type": "stream",
          "name": "stdout",
          "text": [
            "The sql extension is already loaded. To reload it, use:\n",
            "  %reload_ext sql\n"
          ]
        }
      ]
    },
    {
      "cell_type": "code",
      "source": [
        "%%sql\n",
        "ATTACH \"./databases/imdb.db\" AS imdb;\n",
        "ATTACH \"./databases/covid19.db\" AS covid19;\n",
        "ATTACH \"./databases/twElection2020.db\" AS twElection2020;\n",
        "ATTACH \"./databases/nba.db\" AS nba;\n",
        "ATTACH \"./databases/northwind.db\" AS Northwind;\n",
        "ATTACH \"./databases/Chinook_Sqlite.sqlite\" AS Chinook;"
      ],
      "metadata": {
        "id": "GhTDeltpKRp_",
        "colab": {
          "base_uri": "https://localhost:8080/"
        },
        "outputId": "16cfb8cb-0c3d-414f-9ea4-520b71eba854"
      },
      "execution_count": 15,
      "outputs": [
        {
          "output_type": "stream",
          "name": "stdout",
          "text": [
            "   sqlite:///databases/imdb.db\n",
            " * sqlite:///databases/world.db\n",
            "Done.\n",
            "Done.\n",
            "Done.\n",
            "Done.\n",
            "Done.\n",
            "Done.\n"
          ]
        },
        {
          "output_type": "execute_result",
          "data": {
            "text/plain": [
              "[]"
            ]
          },
          "metadata": {},
          "execution_count": 15
        }
      ]
    },
    {
      "cell_type": "code",
      "source": [
        "# %%sql\n",
        "# DROP TABLE IF EXISTS World;\n",
        "# CREATE TABLE World ( name VARCHAR (255), continent VARCHAR (255), area INT, population INT, gdp INT);\n",
        "# INSERT INTO World ( name, continent, area, population, gdp )\n",
        "# VALUES\n",
        "#     ( 'Afghanistan', 'Asia', '652230', '25500100', '203430000' ),\n",
        "#     ( 'Albania', 'Europe', '28748', '2831741', '129600000' ),\n",
        "#     ( 'Algeria', 'Africa', '2381741', '37100000', '1886810000' ),\n",
        "#     ( 'Andorra', 'Europe', '468', '78115', '37120000' ),\n",
        "#     ( 'Angola', 'Africa', '1246700', '20609294', '1009900000' );"
      ],
      "metadata": {
        "id": "nfbSxRU2UgO4"
      },
      "execution_count": 16,
      "outputs": []
    },
    {
      "cell_type": "code",
      "source": [
        "#@title\n",
        "# %%sql\n",
        "# DROP TABLE IF EXISTS World;\n",
        "# CREATE TABLE World ( name VARCHAR (255), continent VARCHAR (255), area INT, population INT, gdp INT, capital VARCHAR (255), tld VARCHAR (5), flag VARCHAR (255), wikiref VARCHAR (5));\n",
        "# INSERT INTO World ( name, continent, area, population, gdp, capital, tld, flag, wikiref )\n",
        "# VALUES \n",
        "#     ( \"Afghanistan\",\"Asia\",\"652867\",\"32890171\",\"20136000000\",\"Kabul\",\".af\",\"https://upload.wikimedia.org/wikipedia/commons/5/5c/Flag_of_the_Taliban.svg\",\"Q889\" ),\n",
        "#     ( \"Albania\",\"Europe\",\"27398\",\"2793592\",\"20177000000\",\"Tirana\",\".al\",\"https://upload.wikimedia.org/wikipedia/commons/3/36/Flag_of_Albania.svg\",\"Q222\" ),\n",
        "#     ( \"Algeria\",\"Africa\",\"2381741\",\"45400000\",\"195245000000\",\"Algiers\",\".dz\",\"https://upload.wikimedia.org/wikipedia/commons/7/77/Flag_of_Algeria.svg\",\"Q262\" ),\n",
        "#     ( \"Andorra\",\"Europe\",\"468\",\"81057\",\"3669000000\",\"Andorra la Vella\",\".ad\",\"https://upload.wikimedia.org/wikipedia/commons/1/19/Flag_of_Andorra.svg\",\"Q228\" ),\n",
        "#     ( \"Angola\",\"Africa\",\"1246700\",\"33086278\",\"117877000000\",\"Luanda\",\".ao\",\"https://upload.wikimedia.org/wikipedia/commons/9/9d/Flag_of_Angola.svg\",\"Q916\" ),\n",
        "#     ( \"Antigua and Barbuda\",\"Americas\",\"442\",\"100772\",\"1864000000\",\"Saint John's\",\".ag\",\"https://upload.wikimedia.org/wikipedia/commons/8/89/Flag_of_Antigua_and_Barbuda.svg\",\"Q781\" ),\n",
        "#     ( \"Argentina\",\"Americas\",\"2736690\",\"46044703\",\"641102000000\",\"Buenos Aires\",\".ar\",\"https://upload.wikimedia.org/wikipedia/commons/1/1a/Flag_of_Argentina.svg\",\"Q414\" ),\n",
        "#     ( \"Armenia\",\"Asia\",\"28342\",\"2976800\",\"23725000000\",\"Yerevan\",\".am\",\"https://upload.wikimedia.org/wikipedia/commons/2/2f/Flag_of_Armenia.svg\",\"Q399\" ),\n",
        "#     ( \"Australia\",\"Oceania\",\"7633565\",\"26082471\",\"1707548000000\",\"Canberra\",\".au\",\"https://upload.wikimedia.org/wikipedia/commons/8/88/Flag_of_Australia_%28converted%29.svg\",\"Q408\" ),\n",
        "#     ( \"Austria\",\"Europe\",\"82445\",\"9106126\",\"515199000000\",\"Vienna\",\".at\",\"https://upload.wikimedia.org/wikipedia/commons/4/41/Flag_of_Austria.svg\",\"Q40\" ),\n",
        "#     ( \"Azerbaijan\",\"Asia\",\"86100\",\"10127145\",\"70030000000\",\"Baku\",\".az\",\"https://upload.wikimedia.org/wikipedia/commons/d/dd/Flag_of_Azerbaijan.svg\",\"Q227\" ),\n",
        "#     ( \"Bahrain\",\"Asia\",\"786\",\"1501635\",\"44870000000\",\"Manama\",\".bh\",\"https://upload.wikimedia.org/wikipedia/commons/2/2c/Flag_of_Bahrain.svg\",\"Q398\" ),\n",
        "#     ( \"Bangladesh\",\"Asia\",\"134208\",\"169828911\",\"420516000000\",\"Dhaka\",\".bd\",\"https://upload.wikimedia.org/wikipedia/commons/f/f9/Flag_of_Bangladesh.svg\",\"Q902\" ),\n",
        "#     ( \"Barbados\",\"North America\",\"431\",\"282000\",\"6117000000\",\"Bridgetown\",\".bb\",\"https://upload.wikimedia.org/wikipedia/commons/e/ef/Flag_of_Barbados.svg\",\"Q244\" ),\n",
        "#     ( \"Belarus\",\"Europe\",\"202900\",\"9255524\",\"73543000000\",\"Minsk\",\".by\",\"https://upload.wikimedia.org/wikipedia/commons/8/85/Flag_of_Belarus.svg\",\"Q184\" ),\n",
        "#     ( \"Belgium\",\"Europe\",\"30278\",\"11730564\",\"624248000000\",\"Brussels\",\".be\",\"https://upload.wikimedia.org/wikipedia/commons/6/65/Flag_of_Belgium.svg\",\"Q31\" ),\n",
        "#     ( \"Belize\",\"North America\",\"22806\",\"441471\",\"3162000000\",\"Belmopan\",\".bz\",\"https://upload.wikimedia.org/wikipedia/commons/e/e7/Flag_of_Belize.svg\",\"Q242\" ),\n",
        "#     ( \"Benin\",\"Africa\",\"114305\",\"12506347\",\"19236000000\",\"Porto-Novo\",\".bj\",\"https://upload.wikimedia.org/wikipedia/commons/0/0a/Flag_of_Benin.svg\",\"Q962\" ),\n",
        "#     ( \"Bhutan\",\"Asia\",\"38394\",\"763200\",\"2683000000\",\"Thimphu\",\".bt\",\"https://upload.wikimedia.org/wikipedia/commons/9/91/Flag_of_Bhutan.svg\",\"Q917\" ),\n",
        "#     ( \"Bolivia\",\"Americas\",\"1083301\",\"12006031\",\"46097000000\",\"Sucre\",\".bo\",\"https://upload.wikimedia.org/wikipedia/commons/4/48/Flag_of_Bolivia.svg\",\"Q750\" ),\n",
        "#     ( \"Bosnia and Herzegovina\",\"Europe\",\"51187\",\"3320954\",\"28488000000\",\"Sarajevo\",\".ba\",\"https://upload.wikimedia.org/wikipedia/commons/b/bf/Flag_of_Bosnia_and_Herzegovina.svg\",\"Q225\" ),\n",
        "#     ( \"Botswana\",\"Africa\",\"566730\",\"2410338\",\"19572000000\",\"Gaborone\",\".bw\",\"https://upload.wikimedia.org/wikipedia/commons/f/fa/Flag_of_Botswana.svg\",\"Q963\" ),\n",
        "#     ( \"Brazil\",\"Americas\",\"8460415\",\"216020406\",\"2081235000000\",\"Brasília\",\".br\",\"https://upload.wikimedia.org/wikipedia/en/0/05/Flag_of_Brazil.svg\",\"Q155\" ),\n",
        "#     ( \"Brunei\",\"Asia\",\"5265\",\"429999\",\"15988000000\",\"Bandar Seri Begawan\",\".bn\",\"https://upload.wikimedia.org/wikipedia/commons/9/9c/Flag_of_Brunei.svg\",\"Q921\" ),\n",
        "#     ( \"Bulgaria\",\"Europe\",\"108612\",\"6519789\",\"100635000000\",\"Sofia\",\".bg\",\"https://upload.wikimedia.org/wikipedia/commons/9/9a/Flag_of_Bulgaria.svg\",\"Q219\" ),\n",
        "#     ( \"Burkina Faso\",\"Africa\",\"273602\",\"22185654\",\"21076000000\",\"Ouagadougou\",\".bf\",\"https://upload.wikimedia.org/wikipedia/commons/3/31/Flag_of_Burkina_Faso.svg\",\"Q965\" ),\n",
        "#     ( \"Burundi\",\"Africa\",\"25680\",\"12574571\",\"3234000000\",\"Gitega\",\".bi\",\"https://upload.wikimedia.org/wikipedia/commons/5/50/Flag_of_Burundi.svg\",\"Q967\" ),\n",
        "#     ( \"Cambodia\",\"Asia\",\"176515\",\"15552211\",\"30628000000\",\"Phnom Penh\",\".kh\",\"https://upload.wikimedia.org/wikipedia/commons/8/83/Flag_of_Cambodia.svg\",\"Q424\" ),\n",
        "#     ( \"Cameroon\",\"Africa\",\"472710\",\"24348251\",\"48625000000\",\"Yaoundé\",\".cm\",\"https://upload.wikimedia.org/wikipedia/commons/4/4f/Flag_of_Cameroon.svg\",\"Q1009\" ),\n",
        "#     ( \"Canada\",\"Americas\",\"9093507\",\"39800334\",\"2089672000000\",\"Ottawa\",\".ca\",\"https://upload.wikimedia.org/wikipedia/en/c/cf/Flag_of_Canada.svg\",\"Q16\" ),\n",
        "#     ( \"Cape Verde\",\"Africa\",\"4033\",\"563198\",\"2468000000\",\"Praia\",\".cv\",\"https://upload.wikimedia.org/wikipedia/commons/3/38/Flag_of_Cape_Verde.svg\",\"Q1011\" ),\n",
        "#     ( \"Central African Republic\",\"Africa\",\"622984\",\"5633412\",\"2736000000\",\"Bangui\",\".cf\",\"https://upload.wikimedia.org/wikipedia/commons/6/6f/Flag_of_the_Central_African_Republic.svg\",\"Q929\" ),\n",
        "#     ( \"Chad\",\"Africa\",\"1259200\",\"16818391\",\"11962000000\",\"N'Djamena\",\".td\",\"https://upload.wikimedia.org/wikipedia/commons/4/4b/Flag_of_Chad.svg\",\"Q657\" ),\n",
        "#     ( \"Chile\",\"Americas\",\"743812\",\"19960889\",\"358557000000\",\"Santiago\",\".cl\",\"https://upload.wikimedia.org/wikipedia/commons/7/78/Flag_of_Chile.svg\",\"Q298\" ),\n",
        "#     ( \"China\",\"Asia\",\"9326410\",\"1411750000\",\"19373586000000\",\"Beijing\",\".cn\",\"https://upload.wikimedia.org/wikipedia/commons/f/fa/Flag_of_the_People%27s_Republic_of_China.svg\",\"Q148\" ),\n",
        "#     ( \"Colombia\",\"Americas\",\"1038700\",\"52215503\",\"334689000000\",\"Bogotá\",\".co\",\"https://upload.wikimedia.org/wikipedia/commons/2/21/Flag_of_Colombia.svg\",\"Q739\" ),\n",
        "#     ( \"Comoros\",\"Africa\",\"1862\",\"758316\",\"1348000000\",\"Moroni\",\".km\",\"https://upload.wikimedia.org/wikipedia/commons/9/94/Flag_of_the_Comoros.svg\",\"Q970\" ),\n",
        "#     ( \"Costa Rica\",\"Americas\",\"51060\",\"5163038\",\"77777000000\",\"San José\",\".cr\",\"https://upload.wikimedia.org/wikipedia/commons/f/f2/Flag_of_Costa_Rica.svg\",\"Q800\" ),\n",
        "#     ( \"Croatia\",\"Europe\",\"55974\",\"3871833\",\"78881000000\",\"Zagreb\",\".hr\",\"https://upload.wikimedia.org/wikipedia/commons/1/1b/Flag_of_Croatia.svg\",\"Q224\" ),\n",
        "#     ( \"Cuba\",\"Americas\",\"109884\",\"11113215\",\"107352000000\",\"Havana\",\".cu\",\"https://upload.wikimedia.org/wikipedia/commons/b/bd/Flag_of_Cuba.svg\",\"Q241\" ),\n",
        "#     ( \"Cyprus\",\"Asia\",\"9241\",\"918100\",\"30864000000\",\"Nicosia\",\".cy\",\"https://upload.wikimedia.org/wikipedia/commons/d/d4/Flag_of_Cyprus.svg\",\"Q229\" ),\n",
        "#     ( \"Czech Republic\",\"Europe\",\"77187\",\"10526937\",\"330483000000\",\"Prague\",\".cz\",\"https://upload.wikimedia.org/wikipedia/commons/c/cb/Flag_of_the_Czech_Republic.svg\",\"Q213\" ),\n",
        "#     ( \"Democratic Republic of the Congo\",\"Africa\",\"2267048\",\"99010000\",\"69474000000\",\"Kinshasa\",\".cd\",\"https://upload.wikimedia.org/wikipedia/commons/6/6f/Flag_of_the_Democratic_Republic_of_the_Congo.svg\",\"Q974\" ),\n",
        "#     ( \"Denmark\",\"Europe\",\"42434\",\"5932654\",\"405626000000\",\"Copenhagen\",\".dk\",\"https://upload.wikimedia.org/wikipedia/commons/9/9c/Flag_of_Denmark.svg\",\"Q35\" ),\n",
        "#     ( \"Djibouti\",\"Africa\",\"23180\",\"1001454\",\"3916000000\",\"Djibouti\",\".dj\",\"https://upload.wikimedia.org/wikipedia/commons/3/34/Flag_of_Djibouti.svg\",\"Q977\" ),\n",
        "#     ( \"Dominica\",\"Americas\",\"751\",\"73000\",\"681000000\",\"Roseau\",\".dm\",\"https://upload.wikimedia.org/wikipedia/commons/c/c4/Flag_of_Dominica.svg\",\"Q784\" ),\n",
        "#     ( \"Dominican Republic\",\"Americas\",\"48320\",\"10535535\",\"121289000000\",\"Santo Domingo\",\".do\",\"https://upload.wikimedia.org/wikipedia/commons/9/9f/Flag_of_the_Dominican_Republic.svg\",\"Q786\" ),\n",
        "#     ( \"East Timor\",\"Asia\",\"14919\",\"1317780\",\"1988000000\",\"Dili\",\".tl\",\"https://upload.wikimedia.org/wikipedia/commons/2/26/Flag_of_East_Timor.svg\",\"Q574\" ),\n",
        "#     ( \"Ecuador\",\"Americas\",\"256369\",\"18205732\",\"121291000000\",\"Quito\",\".ec\",\"https://upload.wikimedia.org/wikipedia/commons/e/e8/Flag_of_Ecuador.svg\",\"Q736\" ),\n",
        "#     ( \"Egypt\",\"Africa\",\"995450\",\"104688572\",\"378110000000\",\"Cairo\",\".eg\",\"https://upload.wikimedia.org/wikipedia/commons/f/fe/Flag_of_Egypt.svg\",\"Q79\" ),\n",
        "#     ( \"El Salvador\",\"Americas\",\"20721\",\"6825935\",\"33752000000\",\"San Salvador\",\".sv\",\"https://upload.wikimedia.org/wikipedia/commons/3/34/Flag_of_El_Salvador.svg\",\"Q792\" ),\n",
        "#     ( \"Equatorial Guinea\",\"Africa\",\"28051\",\"1505588\",\"15099000000\",\"Ciudad de la Paz\",\".gq\",\"https://upload.wikimedia.org/wikipedia/commons/3/31/Flag_of_Equatorial_Guinea.svg\",\"Q983\" ),\n",
        "#     ( \"Eritrea\",\"Africa\",\"125000\",\"3684000\",\"2666000000\",\"Asmara\",\".er\",\"https://upload.wikimedia.org/wikipedia/commons/2/29/Flag_of_Eritrea.svg\",\"Q986\" ),\n",
        "#     ( \"Estonia\",\"Europe\",\"42388\",\"1331796\",\"41551000000\",\"Tallinn\",\".ee\",\"https://upload.wikimedia.org/wikipedia/commons/8/8f/Flag_of_Estonia.svg\",\"Q191\" ),\n",
        "#     ( \"Eswatini\",\"Africa\",\"17204\",\"1202000\",\"4824000000\",\"Lobamba\",\".sz\",\"https://upload.wikimedia.org/wikipedia/commons/f/fb/Flag_of_Eswatini.svg\",\"Q1050\" ),\n",
        "#     ( \"Ethiopia\",\"Africa\",\"1096630\",\"105163988\",\"156083000000\",\"Addis Ababa\",\".et\",\"https://upload.wikimedia.org/wikipedia/commons/7/71/Flag_of_Ethiopia.svg\",\"Q115\" ),\n",
        "#     ( \"Federated States of Micronesia\",\"Insular Oceania\",\"702\",\"105754\",\"456000000\",\"Palikir\",\".fm\",\"https://upload.wikimedia.org/wikipedia/commons/e/e4/Flag_of_the_Federated_States_of_Micronesia.svg\",\"Q702\" ),\n",
        "#     ( \"Fiji\",\"Oceania\",\"18274\",\"898402\",\"5385000000\",\"Suva\",\".fj\",\"https://upload.wikimedia.org/wikipedia/commons/b/ba/Flag_of_Fiji.svg\",\"Q712\" ),\n",
        "#     ( \"Finland\",\"Europe\",\"303816\",\"5528796\",\"301670000000\",\"Helsinki\",\".fi\",\"https://upload.wikimedia.org/wikipedia/commons/b/bc/Flag_of_Finland.svg\",\"Q33\" ),\n",
        "#     ( \"France\",\"Europe\",\"640427\",\"68042591\",\"2923489000000\",\"Paris\",\".fr\",\"https://upload.wikimedia.org/wikipedia/en/c/c3/Flag_of_France.svg\",\"Q142\" ),\n",
        "#     ( \"Gabon\",\"Africa\",\"257667\",\"2233272\",\"20330000000\",\"Libreville\",\".ga\",\"https://upload.wikimedia.org/wikipedia/commons/0/04/Flag_of_Gabon.svg\",\"Q1000\" ),\n",
        "#     ( \"Georgia\",\"Europe\",\"69700\",\"3688600\",\"27947000000\",\"Tbilisi\",\".ge\",\"https://upload.wikimedia.org/wikipedia/commons/0/0f/Flag_of_Georgia.svg\",\"Q230\" ),\n",
        "#     ( \"Germany\",\"Europe\",\"348672\",\"84270625\",\"4308854000000\",\"Berlin\",\".de\",\"https://upload.wikimedia.org/wikipedia/en/b/ba/Flag_of_Germany.svg\",\"Q183\" ),\n",
        "#     ( \"Ghana\",\"Africa\",\"227533\",\"30832019\",\"66622000000\",\"Accra\",\".gh\",\"https://upload.wikimedia.org/wikipedia/commons/1/19/Flag_of_Ghana.svg\",\"Q117\" ),\n",
        "#     ( \"Greece\",\"Europe\",\"130647\",\"10432481\",\"239300000000\",\"Athens\",\".gr\",\"https://upload.wikimedia.org/wikipedia/commons/5/5c/Flag_of_Greece.svg\",\"Q41\" ),\n",
        "#     ( \"Grenada\",\"Americas\",\"344\",\"125000\",\"1274000000\",\"St. George's\",\".gd\",\"https://upload.wikimedia.org/wikipedia/commons/b/bc/Flag_of_Grenada.svg\",\"Q769\" ),\n",
        "#     ( \"Guatemala\",\"Americas\",\"107159\",\"17109746\",\"102309000000\",\"Guatemala City\",\".gt\",\"https://upload.wikimedia.org/wikipedia/commons/e/ec/Flag_of_Guatemala.svg\",\"Q774\" ),\n",
        "#     ( \"Guinea\",\"Africa\",\"245717\",\"12907395\",\"23330000000\",\"Conakry\",\".gn\",\"https://upload.wikimedia.org/wikipedia/commons/e/ed/Flag_of_Guinea.svg\",\"Q1006\" ),\n",
        "#     ( \"Guinea-Bissau\",\"Africa\",\"28120\",\"1646077\",\"1887000000\",\"Bissau\",\".gw\",\"https://upload.wikimedia.org/wikipedia/commons/0/01/Flag_of_Guinea-Bissau.svg\",\"Q1007\" ),\n",
        "#     ( \"Guyana\",\"Americas\",\"196849\",\"743699\",\"16309000000\",\"Georgetown\",\".gy\",\"https://upload.wikimedia.org/wikipedia/commons/9/99/Flag_of_Guyana.svg\",\"Q734\" ),\n",
        "#     ( \"Haiti\",\"Americas\",\"27560\",\"11743017\",\"26580000000\",\"Port-au-Prince\",\".ht\",\"https://upload.wikimedia.org/wikipedia/commons/5/56/Flag_of_Haiti.svg\",\"Q790\" ),\n",
        "#     ( \"Honduras\",\"Americas\",\"111890\",\"9546178\",\"32860000000\",\"Tegucigalpa\",\".hn\",\"https://upload.wikimedia.org/wikipedia/commons/8/82/Flag_of_Honduras.svg\",\"Q783\" ),\n",
        "#     ( \"Hungary\",\"Europe\",\"89608\",\"9678000\",\"188505000000\",\"Budapest\",\".hu\",\"https://upload.wikimedia.org/wikipedia/commons/c/c1/Flag_of_Hungary.svg\",\"Q28\" ),\n",
        "#     ( \"Iceland\",\"Europe\",\"100250\",\"387758\",\"28625000000\",\"Reykjavík\",\".is\",\"https://upload.wikimedia.org/wikipedia/commons/c/ce/Flag_of_Iceland.svg\",\"Q189\" ),\n",
        "#     ( \"India\",\"Asia\",\"2973190\",\"1392329000\",\"3736882000000\",\"New Delhi\",\".in\",\"https://upload.wikimedia.org/wikipedia/en/4/41/Flag_of_India.svg\",\"Q668\" ),\n",
        "#     ( \"Indonesia\",\"Asia\",\"1811569\",\"275773800\",\"1391778000000\",\"Jakarta\",\".id\",\"https://upload.wikimedia.org/wikipedia/commons/9/9f/Flag_of_Indonesia.svg\",\"Q252\" ),\n",
        "#     ( \"Iran\",\"Asia\",\"1531595\",\"86353909\",\"367970000000\",\"Tehran\",\".ir\",\"https://upload.wikimedia.org/wikipedia/commons/c/ca/Flag_of_Iran.svg\",\"Q794\" ),\n",
        "#     ( \"Iraq\",\"Asia\",\"437367\",\"41190700\",\"267893000000\",\"Baghdad\",\".iq\",\"https://upload.wikimedia.org/wikipedia/commons/f/f6/Flag_of_Iraq.svg\",\"Q796\" ),\n",
        "#     ( \"Israel\",\"Asia\",\"20330\",\"9706400\",\"539223000000\",\"Jerusalem\",\".il\",\"https://upload.wikimedia.org/wikipedia/commons/d/d4/Flag_of_Israel.svg\",\"Q801\" ),\n",
        "#     ( \"Italy\",\"Europe\",\"294140\",\"58833079\",\"2169745000000\",\"Rome\",\".it\",\"https://upload.wikimedia.org/wikipedia/en/0/03/Flag_of_Italy.svg\",\"Q38\" ),\n",
        "#     ( \"Ivory Coast\",\"Africa\",\"318003\",\"29389150\",\"77047000000\",\"Yamoussoukro\",\".ci\",\"https://upload.wikimedia.org/wikipedia/commons/f/fe/Flag_of_C%C3%B4te_d%27Ivoire.svg\",\"Q1008\" ),\n",
        "#     ( \"Jamaica\",\"Americas\",\"10831\",\"2727503\",\"17254000000\",\"Kingston\",\".jm\",\"https://upload.wikimedia.org/wikipedia/commons/0/0a/Flag_of_Jamaica.svg\",\"Q766\" ),\n",
        "#     ( \"Japan\",\"Asia\",\"364546\",\"124947000\",\"4409738000000\",\"Tokyo\",\".jp\",\"https://upload.wikimedia.org/wikipedia/en/9/9e/Flag_of_Japan.svg\",\"Q17\" ),\n",
        "#     ( \"Jordan\",\"Asia\",\"88802\",\"11451588\",\"52061000000\",\"Amman\",\".jo\",\"https://upload.wikimedia.org/wikipedia/commons/c/c0/Flag_of_Jordan.svg\",\"Q810\" ),\n",
        "#     ( \"Kazakhstan\",\"Asia\",\"2699700\",\"19836556\",\"245695000000\",\"Astana\",\".kz\",\"https://upload.wikimedia.org/wikipedia/commons/d/d3/Flag_of_Kazakhstan.svg\",\"Q232\" ),\n",
        "#     ( \"Kenya\",\"Africa\",\"569140\",\"47564296\",\"118130000000\",\"Nairobi\",\".ke\",\"https://upload.wikimedia.org/wikipedia/commons/4/49/Flag_of_Kenya.svg\",\"Q114\" ),\n",
        "#     ( \"Kiribati\",\"Oceania\",\"811\",\"120740\",\"248000000\",\"South Tarawa\",\".ki\",\"https://upload.wikimedia.org/wikipedia/commons/d/d3/Flag_of_Kiribati.svg\",\"Q710\" ),\n",
        "#     ( \"Kuwait\",\"Asia\",\"17818\",\"4670713\",\"164713000000\",\"Kuwait City\",\".kw\",\"https://upload.wikimedia.org/wikipedia/commons/a/aa/Flag_of_Kuwait.svg\",\"Q817\" ),\n",
        "#     ( \"Kyrgyzstan\",\"Asia\",\"191801\",\"7000000\",\"12309000000\",\"Bishkek\",\".kg\",\"https://upload.wikimedia.org/wikipedia/commons/c/c7/Flag_of_Kyrgyzstan.svg\",\"Q813\" ),\n",
        "#     ( \"Laos\",\"Asia\",\"230800\",\"7337783\",\"14091000000\",\"Vientiane\",\".la\",\"https://upload.wikimedia.org/wikipedia/commons/5/56/Flag_of_Laos.svg\",\"Q819\" ),\n",
        "#     ( \"Latvia\",\"Europe\",\"62249\",\"1888200\",\"47398000000\",\"Riga\",\".lv\",\"https://upload.wikimedia.org/wikipedia/commons/8/84/Flag_of_Latvia.svg\",\"Q211\" ),\n",
        "#     ( \"Lebanon\",\"Asia\",\"10230\",\"5490000\",\"24494000000\",\"Beirut\",\".lb\",\"https://upload.wikimedia.org/wikipedia/commons/5/59/Flag_of_Lebanon.svg\",\"Q822\" ),\n",
        "#     ( \"Lesotho\",\"Africa\",\"30355\",\"2306000\",\"2584000000\",\"Maseru\",\".ls\",\"https://upload.wikimedia.org/wikipedia/commons/4/4a/Flag_of_Lesotho.svg\",\"Q1013\" ),\n",
        "#     ( \"Liberia\",\"Africa\",\"96320\",\"4661010\",\"4375000000\",\"Monrovia\",\".lr\",\"https://upload.wikimedia.org/wikipedia/commons/b/b8/Flag_of_Liberia.svg\",\"Q1014\" ),\n",
        "#     ( \"Libya\",\"Africa\",\"1759540\",\"6812000\",\"46297000000\",\"Tripoli\",\".ly\",\"https://upload.wikimedia.org/wikipedia/commons/0/05/Flag_of_Libya.svg\",\"Q1016\" ),\n",
        "#     ( \"Liechtenstein\",\"Europe\",\"160\",\"39680\",\"6114000000\",\"Vaduz\",\".li\",\"https://upload.wikimedia.org/wikipedia/commons/4/47/Flag_of_Liechtenstein.svg\",\"Q347\" ),\n",
        "#     ( \"Lithuania\",\"Europe\",\"62680\",\"2859718\",\"78346000000\",\"Vilnius\",\".lt\",\"https://upload.wikimedia.org/wikipedia/commons/1/11/Flag_of_Lithuania.svg\",\"Q37\" ),\n",
        "#     ( \"Luxembourg\",\"Europe\",\"2586\",\"645397\",\"86971000000\",\"Luxembourg\",\".lu\",\"https://upload.wikimedia.org/wikipedia/commons/d/da/Flag_of_Luxembourg.svg\",\"Q32\" ),\n",
        "#     ( \"Madagascar\",\"Africa\",\"581540\",\"26923353\",\"15969000000\",\"Antananarivo\",\".mg\",\"https://upload.wikimedia.org/wikipedia/commons/b/bc/Flag_of_Madagascar.svg\",\"Q1019\" ),\n",
        "#     ( \"Malawi\",\"Africa\",\"94080\",\"21507723\",\"11277000000\",\"Lilongwe\",\".mw\",\"https://upload.wikimedia.org/wikipedia/commons/d/d1/Flag_of_Malawi.svg\",\"Q1020\" ),\n",
        "#     ( \"Malaysia\",\"Asia\",\"329613\",\"32782400\",\"447026000000\",\"Kuala Lumpur\",\".my\",\"https://upload.wikimedia.org/wikipedia/commons/6/66/Flag_of_Malaysia.svg\",\"Q833\" ),\n",
        "#     ( \"Maldives\",\"Asia\",\"298\",\"383135\",\"7004000000\",\"Malé\",\".mv\",\"https://upload.wikimedia.org/wikipedia/commons/0/0f/Flag_of_Maldives.svg\",\"Q826\" ),\n",
        "#     ( \"Mali\",\"Africa\",\"1220190\",\"22594000\",\"20776000000\",\"Bamako\",\".ml\",\"https://upload.wikimedia.org/wikipedia/commons/9/92/Flag_of_Mali.svg\",\"Q912\" ),\n",
        "#     ( \"Malta\",\"Europe\",\"316\",\"519562\",\"19405000000\",\"Valletta\",\".mt\",\"https://upload.wikimedia.org/wikipedia/commons/7/73/Flag_of_Malta.svg\",\"Q233\" ),\n",
        "#     ( \"Marshall Islands\",\"Oceania\",\"181\",\"39262\",\"291000000\",\"Majuro\",\".mh\",\"https://upload.wikimedia.org/wikipedia/commons/2/2e/Flag_of_the_Marshall_Islands.svg\",\"Q709\" ),\n",
        "#     ( \"Mauritania\",\"Africa\",\"1025520\",\"4271197\",\"10966000000\",\"Nouakchott\",\".mr\",\"https://upload.wikimedia.org/wikipedia/commons/4/43/Flag_of_Mauritania.svg\",\"Q1025\" ),\n",
        "#     ( \"Mauritius\",\"Africa\",\"2030\",\"1266334\",\"14570000000\",\"Port Louis\",\".mu\",\"https://upload.wikimedia.org/wikipedia/commons/7/77/Flag_of_Mauritius.svg\",\"Q1027\" ),\n",
        "#     ( \"Mexico\",\"Americas\",\"1943945\",\"128665641\",\"1663164000000\",\"Mexico City\",\".mx\",\"https://upload.wikimedia.org/wikipedia/commons/f/fc/Flag_of_Mexico.svg\",\"Q96\" ),\n",
        "#     ( \"Moldova\",\"Europe\",\"32891\",\"2597100\",\"15829000000\",\"Chi?inau\",\".md\",\"https://upload.wikimedia.org/wikipedia/commons/2/27/Flag_of_Moldova.svg\",\"Q217\" ),\n",
        "#     ( \"Monaco\",\"Europe\",\"2\",\"39150\",\"8596000000\",\"Monaco City\",\".mc\",\"https://upload.wikimedia.org/wikipedia/commons/e/ea/Flag_of_Monaco.svg\",\"Q235\" ),\n",
        "#     ( \"Mongolia\",\"Asia\",\"1553556\",\"3492192\",\"16908000000\",\"Ulaanbaatar\",\".mn\",\"https://upload.wikimedia.org/wikipedia/commons/4/4c/Flag_of_Mongolia.svg\",\"Q711\" ),\n",
        "#     ( \"Montenegro\",\"Europe\",\"13452\",\"617683\",\"7027000000\",\"Podgorica\",\".me\",\"https://upload.wikimedia.org/wikipedia/commons/6/64/Flag_of_Montenegro.svg\",\"Q236\" ),\n",
        "#     ( \"Morocco\",\"Africa\",\"446300\",\"36925147\",\"138781000000\",\"Rabat\",\".ma\",\"https://upload.wikimedia.org/wikipedia/commons/2/2c/Flag_of_Morocco.svg\",\"Q1028\" ),\n",
        "#     ( \"Mozambique\",\"Africa\",\"786380\",\"32419747\",\"19909000000\",\"Maputo\",\".mz\",\"https://upload.wikimedia.org/wikipedia/commons/d/d0/Flag_of_Mozambique.svg\",\"Q1029\" ),\n",
        "#     ( \"Myanmar\",\"Asia\",\"653508\",\"55294979\",\"63988000000\",\"Naypyidaw\",\".mm\",\"https://upload.wikimedia.org/wikipedia/commons/8/8c/Flag_of_Myanmar.svg\",\"Q836\" ),\n",
        "#     ( \"Namibia\",\"Africa\",\"823290\",\"2550226\",\"13486000000\",\"Windhoek\",\".na\",\"https://upload.wikimedia.org/wikipedia/commons/0/00/Flag_of_Namibia.svg\",\"Q1030\" ),\n",
        "#     ( \"Nauru\",\"Oceania\",\"21\",\"11832\",\"151000000\",\"Yaren District\",\".nr\",\"https://upload.wikimedia.org/wikipedia/commons/3/30/Flag_of_Nauru.svg\",\"Q697\" ),\n",
        "#     ( \"Nepal\",\"Asia\",\"143686\",\"29164578\",\"42097000000\",\"Kathmandu\",\".np\",\"https://upload.wikimedia.org/wikipedia/commons/9/9b/Flag_of_Nepal.svg\",\"Q837\" ),\n",
        "#     ( \"Netherlands\",\"Europe\",\"33893\",\"17817010\",\"1080880000000\",\"Amsterdam\",\".nl\",\"https://upload.wikimedia.org/wikipedia/commons/2/20/Flag_of_the_Netherlands.svg\",\"Q55\" ),\n",
        "#     ( \"New Zealand\",\"Oceania\",\"262443\",\"5162426\",\"251969000000\",\"Wellington\",\".nz\",\"https://upload.wikimedia.org/wikipedia/commons/3/3e/Flag_of_New_Zealand.svg\",\"Q664\" ),\n",
        "#     ( \"Nicaragua\",\"Americas\",\"119990\",\"6595674\",\"17287000000\",\"Managua\",\".ni\",\"https://upload.wikimedia.org/wikipedia/commons/1/19/Flag_of_Nicaragua.svg\",\"Q811\" ),\n",
        "#     ( \"Niger\",\"Africa\",\"1266700\",\"24112753\",\"16617000000\",\"Niamey\",\".ne\",\"https://upload.wikimedia.org/wikipedia/commons/f/f4/Flag_of_Niger.svg\",\"Q1032\" ),\n",
        "#     ( \"Nigeria\",\"Africa\",\"910768\",\"218541000\",\"506601000000\",\"Abuja\",\".ng\",\"https://upload.wikimedia.org/wikipedia/commons/7/79/Flag_of_Nigeria.svg\",\"Q1033\" ),\n",
        "#     ( \"North Korea\",\"Asia\",\"120538\",\"25660000\",\"2020000000\",\"Pyongyang\",\".kp\",\"https://upload.wikimedia.org/wikipedia/commons/5/51/Flag_of_North_Korea.svg\",\"Q423\" ),\n",
        "#     ( \"North Macedonia\",\"Europe\",\"25433\",\"1832696\",\"15278000000\",\"Skopje\",\".mk\",\"https://upload.wikimedia.org/wikipedia/commons/7/79/Flag_of_North_Macedonia.svg\",\"Q221\" ),\n",
        "#     ( \"Norway\",\"Europe\",\"365957\",\"5488984\",\"554105000000\",\"Oslo\",\".no\",\"https://upload.wikimedia.org/wikipedia/commons/d/d9/Flag_of_Norway.svg\",\"Q20\" ),\n",
        "#     ( \"Oman\",\"Asia\",\"309500\",\"4527446\",\"104902000000\",\"Muscat\",\".om\",\"https://upload.wikimedia.org/wikipedia/commons/d/dd/Flag_of_Oman.svg\",\"Q842\" ),\n",
        "#     ( \"Pakistan\",\"Asia\",\"856690\",\"235825000\",\"376493000000\",\"Islamabad\",\".pk\",\"https://upload.wikimedia.org/wikipedia/commons/3/32/Flag_of_Pakistan.svg\",\"Q843\" ),\n",
        "#     ( \"Palau\",\"Oceania\",\"459\",\"16733\",\"262000000\",\"Ngerulmud\",\".pw\",\"https://upload.wikimedia.org/wikipedia/commons/4/48/Flag_of_Palau.svg\",\"Q695\" ),\n",
        "#     ( \"Panama\",\"Americas\",\"74340\",\"4278500\",\"77257000000\",\"Panama City\",\".pa\",\"https://upload.wikimedia.org/wikipedia/commons/a/ab/Flag_of_Panama.svg\",\"Q804\" ),\n",
        "#     ( \"Papua New Guinea\",\"Oceania\",\"452860\",\"9122994\",\"31362000000\",\"Port Moresby\",\".pg\",\"https://upload.wikimedia.org/wikipedia/commons/e/e3/Flag_of_Papua_New_Guinea.svg\",\"Q691\" ),\n",
        "#     ( \"Paraguay\",\"Americas\",\"397302\",\"7353038\",\"42820000000\",\"Asunción\",\".py\",\"https://upload.wikimedia.org/wikipedia/commons/2/27/Flag_of_Paraguay.svg\",\"Q733\" ),\n",
        "#     ( \"Peru\",\"Americas\",\"1279996\",\"33396698\",\"268235000000\",\"Lima\",\".pe\",\"https://upload.wikimedia.org/wikipedia/commons/c/cf/Flag_of_Peru.svg\",\"Q419\" ),\n",
        "#     ( \"Philippines\",\"Asia\",\"298170\",\"110560241\",\"440901000000\",\"Manila\",\".ph\",\"https://upload.wikimedia.org/wikipedia/commons/9/99/Flag_of_the_Philippines.svg\",\"Q928\" ),\n",
        "#     ( \"Poland\",\"Europe\",\"311888\",\"37749000\",\"748887000000\",\"Warsaw\",\".pl\",\"https://upload.wikimedia.org/wikipedia/en/1/12/Flag_of_Poland.svg\",\"Q36\" ),\n",
        "#     ( \"Portugal\",\"Europe\",\"91119\",\"10344802\",\"267721000000\",\"Lisbon\",\".pt\",\"https://upload.wikimedia.org/wikipedia/commons/5/5c/Flag_of_Portugal.svg\",\"Q45\" ),\n",
        "#     ( \"Qatar\",\"Asia\",\"11586\",\"2799202\",\"219570000000\",\"Doha\",\".qa\",\"https://upload.wikimedia.org/wikipedia/commons/6/65/Flag_of_Qatar.svg\",\"Q846\" ),\n",
        "#     ( \"Republic of Ireland\",\"Europe\",\"68883\",\"5123536\",\"594095000000\",\"Dublin\",\".ie\",\"https://upload.wikimedia.org/wikipedia/commons/4/45/Flag_of_Ireland.svg\",\"Q27\" ),\n",
        "#     ( \"Republic of the Congo\",\"Africa\",\"341500\",\"5970000\",\"13031000000\",\"Brazzaville\",\".cg\",\"https://upload.wikimedia.org/wikipedia/commons/9/92/Flag_of_the_Republic_of_the_Congo.svg\",\"Q971\" ),\n",
        "#     ( \"Romania\",\"Europe\",\"231291\",\"19053815\",\"348902000000\",\"Bucharest\",\".ro\",\"https://upload.wikimedia.org/wikipedia/commons/7/73/Flag_of_Romania.svg\",\"Q218\" ),\n",
        "#     ( \"Russia\",\"Europe\",\"16378410\",\"146424729\",\"2062649000000\",\"Moscow\",\".ru\",\"https://upload.wikimedia.org/wikipedia/en/f/f3/Flag_of_Russia.svg\",\"Q159\" ),\n",
        "#     ( \"Rwanda\",\"Africa\",\"24668\",\"13246394\",\"13149000000\",\"Kigali\",\".rw\",\"https://upload.wikimedia.org/wikipedia/commons/1/17/Flag_of_Rwanda.svg\",\"Q1037\" ),\n",
        "#     ( \"Saint Kitts and Nevis\",\"Americas\",\"261\",\"48000\",\"1052000000\",\"Basseterre\",\".kn\",\"https://upload.wikimedia.org/wikipedia/commons/f/fe/Flag_of_Saint_Kitts_and_Nevis.svg\",\"Q763\" ),\n",
        "#     ( \"Saint Lucia\",\"Americas\",\"606\",\"178696\",\"2262000000\",\"Castries\",\".lc\",\"https://upload.wikimedia.org/wikipedia/commons/9/9f/Flag_of_Saint_Lucia.svg\",\"Q760\" ),\n",
        "#     ( \"Saint Vincent and the Grenadines\",\"Americas\",\"389\",\"110696\",\"1039000000\",\"Kingstown\",\".vc\",\"https://upload.wikimedia.org/wikipedia/commons/6/6d/Flag_of_Saint_Vincent_and_the_Grenadines.svg\",\"Q757\" ),\n",
        "#     ( \"Samoa\",\"Oceania\",\"2821\",\"199853\",\"898000000\",\"Apia\",\".ws\",\"https://upload.wikimedia.org/wikipedia/commons/3/31/Flag_of_Samoa.svg\",\"Q683\" ),\n",
        "#     ( \"San Marino\",\"Europe\",\"61\",\"33785\",\"1807000000\",\"San Marino\",\".sm\",\"https://upload.wikimedia.org/wikipedia/commons/b/b1/Flag_of_San_Marino.svg\",\"Q238\" ),\n",
        "#     ( \"São Tomé and Príncipe\",\"Africa\",\"964\",\"214610\",\"625000000\",\"São Tomé\",\".st\",\"https://upload.wikimedia.org/wikipedia/commons/0/0a/Flag_of_S%C3%A3o_Tom%C3%A9_and_Pr%C3%ADncipe.svg\",\"Q1039\" ),\n",
        "#     ( \"Saudi Arabia\",\"Asia\",\"2149690\",\"34110821\",\"1061902000000\",\"Riyadh\",\".sa\",\"https://upload.wikimedia.org/wikipedia/commons/0/0d/Flag_of_Saudi_Arabia.svg\",\"Q851\" ),\n",
        "#     ( \"Senegal\",\"Africa\",\"192530\",\"17223497\",\"31221000000\",\"Dakar\",\".sn\",\"https://upload.wikimedia.org/wikipedia/commons/f/fd/Flag_of_Senegal.svg\",\"Q1041\" ),\n",
        "#     ( \"Serbia\",\"Europe\",\"88246\",\"6690887\",\"73961000000\",\"Belgrade\",\".rs\",\"https://upload.wikimedia.org/wikipedia/commons/f/ff/Flag_of_Serbia.svg\",\"Q403\" ),\n",
        "#     ( \"Seychelles\",\"Africa\",\"455\",\"100447\",\"1950000000\",\"Victoria\",\".sc\",\"https://upload.wikimedia.org/wikipedia/commons/f/fc/Flag_of_Seychelles.svg\",\"Q1042\" ),\n",
        "#     ( \"Sierra Leone\",\"Africa\",\"71620\",\"8494260\",\"3520000000\",\"Freetown\",\".sl\",\"https://upload.wikimedia.org/wikipedia/commons/1/17/Flag_of_Sierra_Leone.svg\",\"Q1044\" ),\n",
        "#     ( \"Singapore\",\"Asia\",\"716\",\"5453600\",\"515548000000\",\"Singapore\",\".sg\",\"https://upload.wikimedia.org/wikipedia/commons/4/48/Flag_of_Singapore.svg\",\"Q334\" ),\n",
        "#     ( \"Slovakia\",\"Europe\",\"48105\",\"5431344\",\"127533000000\",\"Bratislava\",\".sk\",\"https://upload.wikimedia.org/wikipedia/commons/e/e6/Flag_of_Slovakia.svg\",\"Q214\" ),\n",
        "#     ( \"Slovenia\",\"Europe\",\"20151\",\"2108977\",\"68108000000\",\"Ljubljana\",\".si\",\"https://upload.wikimedia.org/wikipedia/commons/f/f0/Flag_of_Slovenia.svg\",\"Q215\" ),\n",
        "#     ( \"Solomon Islands\",\"Oceania\",\"27986\",\"728041\",\"1701000000\",\"Honiara\",\"null\",\"https://upload.wikimedia.org/wikipedia/commons/7/74/Flag_of_the_Solomon_Islands.svg\",\"Q685\" ),\n",
        "#     ( \"Somalia\",\"Africa\",\"627337\",\"17598000\",\"8738000000\",\"Mogadishu\",\".so\",\"https://upload.wikimedia.org/wikipedia/commons/a/a0/Flag_of_Somalia.svg\",\"Q1045\" ),\n",
        "#     ( \"South Africa\",\"Africa\",\"1214470\",\"60604992\",\"399015000000\",\"Pretoria\",\".za\",\"https://upload.wikimedia.org/wikipedia/commons/a/af/Flag_of_South_Africa.svg\",\"Q258\" ),\n",
        "#     ( \"South Korea\",\"Asia\",\"99909\",\"51439038\",\"1721909000000\",\"Seoul\",\".kr\",\"https://upload.wikimedia.org/wikipedia/commons/0/09/Flag_of_South_Korea.svg\",\"Q884\" ),\n",
        "#     ( \"South Sudan\",\"Africa\",\"644329\",\"13249924\",\"7012000000\",\"Juba\",\".ss\",\"https://upload.wikimedia.org/wikipedia/commons/7/7a/Flag_of_South_Sudan.svg\",\"Q958\" ),\n",
        "#     ( \"Spain\",\"Europe\",\"498980\",\"47615034\",\"1492432000000\",\"Madrid\",\".es\",\"https://upload.wikimedia.org/wikipedia/en/9/9a/Flag_of_Spain.svg\",\"Q29\" ),\n",
        "#     ( \"Sri Lanka\",\"Asia\",\"62732\",\"22181000\",\"75296000000\",\"Sri Jayawardenepura Kotte\",\".lk\",\"https://upload.wikimedia.org/wikipedia/commons/1/11/Flag_of_Sri_Lanka.svg\",\"Q854\" ),\n",
        "#     ( \"Sudan\",\"Africa\",\"1731671\",\"45312720\",\"46705000000\",\"Khartoum\",\".sd\",\"https://upload.wikimedia.org/wikipedia/commons/0/01/Flag_of_Sudan.svg\",\"Q1049\" ),\n",
        "#     ( \"Suriname\",\"Americas\",\"156000\",\"598000\",\"3470000000\",\"Paramaribo\",\".sr\",\"https://upload.wikimedia.org/wikipedia/commons/6/60/Flag_of_Suriname.svg\",\"Q730\" ),\n",
        "#     ( \"Sweden\",\"Europe\",\"407284\",\"10528561\",\"599052000000\",\"Stockholm\",\".se\",\"https://upload.wikimedia.org/wikipedia/en/4/4c/Flag_of_Sweden.svg\",\"Q34\" ),\n",
        "#     ( \"Switzerland\",\"Europe\",\"39997\",\"8812728\",\"869601000000\",\"Bern\",\".ch\",\"https://upload.wikimedia.org/wikipedia/commons/f/f3/Flag_of_Switzerland.svg\",\"Q39\" ),\n",
        "#     ( \"Syria\",\"Asia\",\"183630\",\"22125000\",\"11080000000\",\"Damascus\",\".sy\",\"https://upload.wikimedia.org/wikipedia/commons/5/53/Flag_of_Syria.svg\",\"Q858\" ),\n",
        "#     ( \"Taiwan\",\"Asia\",\"32260\",\"23313550\",\"790728000000\",\"Taipei\",\".tw\",\"https://upload.wikimedia.org/wikipedia/commons/7/72/Flag_of_the_Republic_of_China.svg\",\"Q865\" ),\n",
        "#     ( \"Tajikistan\",\"Asia\",\"141510\",\"9506000\",\"12796000000\",\"Dushanbe\",\".tj\",\"https://upload.wikimedia.org/wikipedia/commons/d/d0/Flag_of_Tajikistan.svg\",\"Q863\" ),\n",
        "#     ( \"Tanzania\",\"Africa\",\"885800\",\"61741120\",\"85421000000\",\"Dodoma\",\".tz\",\"https://upload.wikimedia.org/wikipedia/commons/3/38/Flag_of_Tanzania.svg\",\"Q924\" ),\n",
        "#     ( \"Thailand\",\"Asia\",\"510890\",\"66917955\",\"574231000000\",\"Bangkok\",\".th\",\"https://upload.wikimedia.org/wikipedia/commons/a/a9/Flag_of_Thailand.svg\",\"Q869\" ),\n",
        "#     ( \"The Bahamas\",\"North America\",\"10010\",\"393450\",\"14114000000\",\"Nassau\",\".bs\",\"https://upload.wikimedia.org/wikipedia/commons/9/93/Flag_of_the_Bahamas.svg\",\"Q778\" ),\n",
        "#     ( \"The Gambia\",\"Africa\",\"10000\",\"2706000\",\"2277000000\",\"Banjul\",\".gm\",\"https://upload.wikimedia.org/wikipedia/commons/7/77/Flag_of_The_Gambia.svg\",\"Q1005\" ),\n",
        "#     ( \"Togo\",\"Africa\",\"54385\",\"7886000\",\"9001000000\",\"Lomé\",\".tg\",\"https://upload.wikimedia.org/wikipedia/commons/6/68/Flag_of_Togo.svg\",\"Q945\" ),\n",
        "#     ( \"Tonga\",\"Oceania\",\"717\",\"100179\",\"541000000\",\"Nuku'alofa\",\".to\",\"https://upload.wikimedia.org/wikipedia/commons/9/9a/Flag_of_Tonga.svg\",\"Q678\" ),\n",
        "#     ( \"Trinidad and Tobago\",\"Americas\",\"5128\",\"1367558\",\"28223000000\",\"Port of Spain\",\".tt\",\"https://upload.wikimedia.org/wikipedia/commons/6/64/Flag_of_Trinidad_and_Tobago.svg\",\"Q754\" ),\n",
        "#     ( \"Tunisia\",\"Africa\",\"155360\",\"11803588\",\"49815000000\",\"Tunis\",\".tn\",\"https://upload.wikimedia.org/wikipedia/commons/c/ce/Flag_of_Tunisia.svg\",\"Q948\" ),\n",
        "#     ( \"Turkey\",\"Asia\",\"769632\",\"85279553\",\"1029303000000\",\"Ankara\",\".tr\",\"https://upload.wikimedia.org/wikipedia/commons/b/b4/Flag_of_Turkey.svg\",\"Q43\" ),\n",
        "#     ( \"Turkmenistan\",\"Asia\",\"469930\",\"6431000\",\"82649000000\",\"Ashgabat\",\".tm\",\"https://upload.wikimedia.org/wikipedia/commons/1/1b/Flag_of_Turkmenistan.svg\",\"Q874\" ),\n",
        "#     ( \"Tuvalu\",\"Oceania\",\"26\",\"10679\",\"65000000\",\"Funafuti\",\".tv\",\"https://upload.wikimedia.org/wikipedia/commons/3/38/Flag_of_Tuvalu.svg\",\"Q672\" ),\n",
        "#     ( \"Uganda\",\"Africa\",\"197100\",\"42885900\",\"49792000000\",\"Kampala\",\".ug\",\"https://upload.wikimedia.org/wikipedia/commons/4/4e/Flag_of_Uganda.svg\",\"Q1036\" ),\n",
        "#     ( \"Ukraine\",\"Europe\",\"579300\",\"41130432\",\"148712000000\",\"Kyiv\",\".ua\",\"https://upload.wikimedia.org/wikipedia/commons/4/49/Flag_of_Ukraine.svg\",\"Q212\" ),\n",
        "#     ( \"United Arab Emirates\",\"Asia\",\"83600\",\"9282410\",\"498978000000\",\"Abu Dhabi\",\".ae\",\"https://upload.wikimedia.org/wikipedia/commons/c/cb/Flag_of_the_United_Arab_Emirates.svg\",\"Q878\" ),\n",
        "#     ( \"United Kingdom\",\"Europe\",\"241930\",\"67026292\",\"3158938000000\",\"London\",\".uk\",\"https://upload.wikimedia.org/wikipedia/en/a/ae/Flag_of_the_United_Kingdom.svg\",\"Q145\" ),\n",
        "#     ( \"United States\",\"North America\",\"9147593\",\"334627000\",\"26854599000000\",\"Washington, D.C.\",\".us\",\"https://upload.wikimedia.org/wikipedia/en/a/a4/Flag_of_the_United_States.svg\",\"Q30\" ),\n",
        "#     ( \"Uruguay\",\"Americas\",\"175015\",\"3554915\",\"77313000000\",\"Montevideo\",\".uy\",\"https://upload.wikimedia.org/wikipedia/commons/f/fe/Flag_of_Uruguay.svg\",\"Q77\" ),\n",
        "#     ( \"Uzbekistan\",\"Asia\",\"425400\",\"36163622\",\"92332000000\",\"Tashkent\",\".uz\",\"https://upload.wikimedia.org/wikipedia/commons/8/84/Flag_of_Uzbekistan.svg\",\"Q265\" ),\n",
        "#     ( \"Vanuatu\",\"Oceania\",\"12189\",\"301295\",\"1064000000\",\"Port Vila\",\".vu\",\"https://upload.wikimedia.org/wikipedia/commons/b/bc/Flag_of_Vanuatu.svg\",\"Q686\" ),\n",
        "#     ( \"Venezuela\",\"Americas\",\"882050\",\"28302000\",\"96628000000\",\"Caracas\",\".ve\",\"https://upload.wikimedia.org/wikipedia/commons/0/06/Flag_of_Venezuela.svg\",\"Q717\" ),\n",
        "#     ( \"Vietnam\",\"Asia\",\"310070\",\"99460000\",\"449094000000\",\"Hanoi\",\".vn\",\"https://upload.wikimedia.org/wikipedia/commons/2/21/Flag_of_Vietnam.svg\",\"Q881\" ),\n",
        "#     ( \"Yemen\",\"Asia\",\"555000\",\"33697000\",\"19529000000\",\"Sanaa\",\".ye\",\"https://upload.wikimedia.org/wikipedia/commons/8/89/Flag_of_Yemen.svg\",\"Q805\" ),\n",
        "#     ( \"Zambia\",\"Africa\",\"743398\",\"19610769\",\"29272000000\",\"Lusaka\",\".zm\",\"https://upload.wikimedia.org/wikipedia/commons/0/06/Flag_of_Zambia.svg\",\"Q953\" ),\n",
        "#     ( \"Zimbabwe\",\"Africa\",\"386847\",\"15178979\",\"29931000000\",\"Harare\",\".zw\",\"https://upload.wikimedia.org/wikipedia/commons/6/6a/Flag_of_Zimbabwe.svg\",\"Q954\" );\n"
      ],
      "metadata": {
        "cellView": "form",
        "id": "Lqug2HU1ne-A"
      },
      "execution_count": null,
      "outputs": []
    },
    {
      "cell_type": "markdown",
      "source": [
        "### 1. 這個例子顯示’France法國’的人口。字串應該在'單引號'中。\n",
        "\n",
        "修改此例子,以顯示德國 Germany 的人口。"
      ],
      "metadata": {
        "id": "WrtkXEN7Zhad"
      }
    },
    {
      "cell_type": "code",
      "execution_count": 25,
      "metadata": {
        "id": "DsbNd1jvY58l",
        "outputId": "1188b553-2a47-4721-def8-3687a823b967",
        "colab": {
          "base_uri": "https://localhost:8080/",
          "height": 114
        }
      },
      "outputs": [
        {
          "output_type": "stream",
          "name": "stdout",
          "text": [
            "   sqlite:///databases/imdb.db\n",
            " * sqlite:///databases/world.db\n",
            "Done.\n"
          ]
        },
        {
          "output_type": "execute_result",
          "data": {
            "text/plain": [
              "[(84270625,)]"
            ],
            "text/html": [
              "<table>\n",
              "    <tr>\n",
              "        <th>population</th>\n",
              "    </tr>\n",
              "    <tr>\n",
              "        <td>84270625</td>\n",
              "    </tr>\n",
              "</table>"
            ]
          },
          "metadata": {},
          "execution_count": 25
        }
      ],
      "source": [
        "%%sql\n",
        "SELECT population FROM world\n",
        "  WHERE name = 'Germany'"
      ]
    },
    {
      "cell_type": "markdown",
      "source": [
        "### 2. 查詢顯示面積為 5,000,000 以上平方公里的國家,該國家的人口密度(population/area)。人口密度並不是 WORLD 表格中的欄,但我們可用公式(population/area)計算出來。\n",
        "\n",
        "修改此例子,查詢面積為 5,000,000 以上平方公里的國家,對每個國家顯示她的名字和人均國內生產總值(gdp/population)。"
      ],
      "metadata": {
        "id": "rH3lG05TZn8D"
      }
    },
    {
      "cell_type": "code",
      "source": [
        "%%sql\n",
        "SELECT name, gdp/population FROM world\n",
        "  WHERE area > 5000000"
      ],
      "metadata": {
        "id": "ShNvnP-gaCna",
        "outputId": "83f747d9-66ad-4056-a990-835d0cc3ec9c",
        "colab": {
          "base_uri": "https://localhost:8080/",
          "height": 221
        }
      },
      "execution_count": 26,
      "outputs": [
        {
          "output_type": "stream",
          "name": "stdout",
          "text": [
            "   sqlite:///databases/imdb.db\n",
            " * sqlite:///databases/world.db\n",
            "Done.\n"
          ]
        },
        {
          "output_type": "execute_result",
          "data": {
            "text/plain": [
              "[('Australia', 65467),\n",
              " ('Brazil', 9634),\n",
              " ('Canada', 52503),\n",
              " ('China', 13723),\n",
              " ('Russia', 14086),\n",
              " ('United States', 80252)]"
            ],
            "text/html": [
              "<table>\n",
              "    <tr>\n",
              "        <th>name</th>\n",
              "        <th>gdp/population</th>\n",
              "    </tr>\n",
              "    <tr>\n",
              "        <td>Australia</td>\n",
              "        <td>65467</td>\n",
              "    </tr>\n",
              "    <tr>\n",
              "        <td>Brazil</td>\n",
              "        <td>9634</td>\n",
              "    </tr>\n",
              "    <tr>\n",
              "        <td>Canada</td>\n",
              "        <td>52503</td>\n",
              "    </tr>\n",
              "    <tr>\n",
              "        <td>China</td>\n",
              "        <td>13723</td>\n",
              "    </tr>\n",
              "    <tr>\n",
              "        <td>Russia</td>\n",
              "        <td>14086</td>\n",
              "    </tr>\n",
              "    <tr>\n",
              "        <td>United States</td>\n",
              "        <td>80252</td>\n",
              "    </tr>\n",
              "</table>"
            ]
          },
          "metadata": {},
          "execution_count": 26
        }
      ]
    }
  ]
}