{
  "nbformat": 4,
  "nbformat_minor": 0,
  "metadata": {
    "colab": {
      "provenance": [],
      "authorship_tag": "ABX9TyNVNHl1Q8EjDxg7vwJrwDnc",
      "include_colab_link": true
    },
    "kernelspec": {
      "name": "python3",
      "display_name": "Python 3"
    },
    "language_info": {
      "name": "python"
    }
  },
  "cells": [
    {
      "cell_type": "markdown",
      "metadata": {
        "id": "view-in-github",
        "colab_type": "text"
      },
      "source": [
        "<a href=\"https://colab.research.google.com/github/ccwu0918/book-sqlfifty/blob/main/SQLZoo.ipynb\" target=\"_parent\"><img src=\"https://colab.research.google.com/assets/colab-badge.svg\" alt=\"Open In Colab\"/></a>"
      ]
    },
    {
      "cell_type": "markdown",
      "source": [
        "### 班級：工管三\n",
        "### 學號：13913001\n",
        "### 姓名：吳佳駿"
      ],
      "metadata": {
        "id": "Qo_oklM4ZpWF"
      }
    },
    {
      "cell_type": "code",
      "source": [
        "!pip install SQLAlchemy==1.4.46"
      ],
      "metadata": {
        "id": "vMMOCsytJ98k"
      },
      "execution_count": null,
      "outputs": []
    },
    {
      "cell_type": "code",
      "source": [
        "!git clone https://github.com/ccwu0918/book-sqlfifty"
      ],
      "metadata": {
        "id": "B5I8cc9KKCud"
      },
      "execution_count": null,
      "outputs": []
    },
    {
      "cell_type": "code",
      "source": [
        "import sqlite3\n",
        "import unittest\n",
        "import json\n",
        "import os\n",
        "import numpy as np\n",
        "import pandas as pd\n",
        "conn = sqlite3.connect('./databases/imdb.db')\n",
        "conn.execute(\"\"\"ATTACH './databases/covid19.db' AS covid19\"\"\")\n",
        "conn.execute(\"\"\"ATTACH './databases/twElection2020.db' AS twElection2020\"\"\")\n",
        "conn.execute(\"\"\"ATTACH './databases/nba.db' AS nba\"\"\")\n",
        "conn.execute(\"\"\"ATTACH './databases/northwind.db' AS Northwind\"\"\")\n",
        "conn.execute(\"\"\"ATTACH './databases/Chinook_Sqlite.sqlite' AS Chinook\"\"\")"
      ],
      "metadata": {
        "id": "a4MBVX70KHnM"
      },
      "execution_count": null,
      "outputs": []
    },
    {
      "cell_type": "code",
      "source": [
        "# %%capture\n",
        "# load the SQL magic extension\n",
        "# https://github.com/catherinedevlin/ipython-sql\n",
        "# this extension allows us to connect to DBs and issue SQL command\n",
        "%load_ext sql\n",
        "\n",
        "# now we can use the magic extension to connect to our SQLite DB\n",
        "# use %sql to write an inline SQL command\n",
        "# use %%sql to write SQL commands in a cell\n",
        "%sql sqlite:///databases/imdb.db"
      ],
      "metadata": {
        "id": "QlCJWeNRKLfL"
      },
      "execution_count": null,
      "outputs": []
    },
    {
      "cell_type": "code",
      "source": [
        "%%sql\n",
        "ATTACH \"./databases/covid19.db\" AS covid19;\n",
        "ATTACH \"./databases/twElection2020.db\" AS twElection2020;\n",
        "ATTACH \"./databases/nba.db\" AS nba;\n",
        "ATTACH \"./databases/northwind.db\" AS Northwind;\n",
        "ATTACH \"./databases/Chinook_Sqlite.sqlite\" AS Chinook;"
      ],
      "metadata": {
        "id": "GhTDeltpKRp_"
      },
      "execution_count": null,
      "outputs": []
    },
    {
      "cell_type": "code",
      "source": [
        "%%sql\n",
        "DROP TABLE IF EXISTS World;\n",
        "CREATE TABLE World ( name VARCHAR ( 255 ), continent VARCHAR ( 255 ), area INT, population INT, gdp INT );\n",
        "INSERT INTO World ( name, continent, area, population, gdp )\n",
        "VALUES\n",
        "    ( 'Afghanistan', 'Asia', '652230', '25500100', '203430000' ),\n",
        "    ( 'Albania', 'Europe', '28748', '2831741', '129600000' ),\n",
        "    ( 'Algeria', 'Africa', '2381741', '37100000', '1886810000' ),\n",
        "    ( 'Andorra', 'Europe', '468', '78115', '37120000' ),\n",
        "    ( 'Angola', 'Africa', '1246700', '20609294', '1009900000' );"
      ],
      "metadata": {
        "id": "nfbSxRU2UgO4"
      },
      "execution_count": null,
      "outputs": []
    },
    {
      "cell_type": "markdown",
      "source": [
        "### 1. 這個例子顯示’France法國’的人口。字串應該在'單引號'中。\n",
        "\n",
        "修改此例子,以顯示德國 Germany 的人口。"
      ],
      "metadata": {
        "id": "WrtkXEN7Zhad"
      }
    },
    {
      "cell_type": "code",
      "execution_count": null,
      "metadata": {
        "id": "DsbNd1jvY58l"
      },
      "outputs": [],
      "source": [
        "SELECT population FROM world\n",
        "  WHERE name = 'Germany'"
      ]
    },
    {
      "cell_type": "markdown",
      "source": [
        "### 2. 查詢顯示面積為 5,000,000 以上平方公里的國家,該國家的人口密度(population/area)。人口密度並不是 WORLD 表格中的欄,但我們可用公式(population/area)計算出來。\n",
        "\n",
        "修改此例子,查詢面積為 5,000,000 以上平方公里的國家,對每個國家顯示她的名字和人均國內生產總值(gdp/population)。"
      ],
      "metadata": {
        "id": "rH3lG05TZn8D"
      }
    },
    {
      "cell_type": "code",
      "source": [
        "SELECT name, gdp/population FROM world\n",
        "  WHERE area > 5000000"
      ],
      "metadata": {
        "id": "ShNvnP-gaCna"
      },
      "execution_count": null,
      "outputs": []
    }
  ]
}