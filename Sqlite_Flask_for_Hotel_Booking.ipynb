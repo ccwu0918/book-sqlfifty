{
  "cells": [
    {
      "cell_type": "markdown",
      "metadata": {
        "id": "view-in-github",
        "colab_type": "text"
      },
      "source": [
        "<a href=\"https://colab.research.google.com/github/ccwu0918/book-sqlfifty/blob/main/Sqlite_Flask_for_Hotel_Booking.ipynb\" target=\"_parent\"><img src=\"https://colab.research.google.com/assets/colab-badge.svg\" alt=\"Open In Colab\"/></a>"
      ]
    },
    {
      "cell_type": "markdown",
      "metadata": {
        "id": "1IhN2BgUGzDJ"
      },
      "source": [
        "# SQL"
      ]
    },
    {
      "cell_type": "markdown",
      "metadata": {
        "id": "zIR4hP4zKpqX"
      },
      "source": [
        "## 為什麼要用資料庫？\n",
        "- 可以隨心所欲的做資料的存取\n",
        "- 當資料龐大時，處理效率比直接對檔案IO快上許多\n",
        "- 方便跟各種服務系統串接"
      ]
    },
    {
      "cell_type": "markdown",
      "metadata": {
        "id": "Rc4UK_DYMoDF"
      },
      "source": [
        "## 資料庫種類\n",
        "- 關聯式資料庫：資料欄位須先定義清楚、穩定\n",
        "- 非關聯式資料庫：資料擁有彈性結構、速度較快"
      ]
    },
    {
      "cell_type": "markdown",
      "metadata": {
        "id": "EJY_Gh5yLYIN"
      },
      "source": [
        "## 常見的關聯式資料庫種類\n",
        "- MySQL：免費、開源性質、常應用於Web，較適合中小型企業事務\n",
        "- PostgreSQL：免費、開源、以商業應用導向為主\n",
        "- MSSQL：Microsoft SQL Server，only on Windows，花錢就能買的完整方案。\n",
        "- Oracle：公部門常用的資料庫系統，安全、效能、功能都極為齊全。\n",
        "- SQLite：基於文件的資料庫，不需要架設伺服器，就能處理各種類數據。"
      ]
    },
    {
      "cell_type": "markdown",
      "metadata": {
        "id": "8KGQvub4MVKx"
      },
      "source": [
        "## 常見的非關聯式資料庫種類\n",
        "- MongoDB\n",
        "- Couchbase\n",
        "- Cassandra\n",
        "- Redis\n",
        "- memcache\n",
        "- HBase\n",
        "- Neo4J\n",
        "  \n",
        "![](http://image.slidesharecdn.com/mongodbrdbmsmigrationwebinar-140202060406-phpapp02/95/migrating-from-relational-databases-to-mongodb-10-638.jpg?cb=1391321199)"
      ]
    },
    {
      "cell_type": "markdown",
      "metadata": {
        "id": "RVPZc7P9IQIN"
      },
      "source": [
        "## Static\n",
        "- 新建資料夾 `static`\n",
        "- 在 `static` 資料夾中，新增檔案 `style.css`\n",
        "\n",
        "## instance\n",
        "- 新建資料夾 `instance`\n",
        "- 在 `instance` 資料夾中，建立資料庫檔案 `hotel.db`\n",
        "\n",
        "## Template\n",
        "- 新建資料夾 `templates`\n",
        "- 在 `templates` 資料夾中，新增檔案 `book_room.html`\n",
        "- 在 `templates` 資料夾中，新增檔案 `view_bookings.html`\n",
        "- 在 `templates` 資料夾中，新增檔案 `edit_booking.html`\n",
        "\n"
      ]
    },
    {
      "cell_type": "code",
      "execution_count": null,
      "metadata": {
        "id": "PSXyk5Pwwg2C"
      },
      "outputs": [],
      "source": [
        "!mkdir ./static\n",
        "!mkdir ./instance\n",
        "!mkdir ./templates"
      ]
    },
    {
      "cell_type": "markdown",
      "metadata": {
        "id": "BOMf6EWuG0RH"
      },
      "source": [
        "## SQLite"
      ]
    },
    {
      "cell_type": "markdown",
      "metadata": {
        "id": "IGFD4jwYOhwL"
      },
      "source": [
        "``` python\n",
        "import sqlite3\n",
        "conn = sqlite3.connect('資料庫名稱.db') \n",
        "sql = \"......\"\n",
        "cursor = conn.execute(sql_ins)\n",
        "cursor = conn.commit() ###  會修改到資料的必須要多寫此行\n",
        "conn.close()\n",
        "```"
      ]
    },
    {
      "cell_type": "markdown",
      "metadata": {
        "id": "N6gxe9inIrtE"
      },
      "source": [
        "### 建立資料庫/資料表\n",
        "- 建立資料庫(Database/DB)：`資料庫.db`\n",
        "- 建立資料表(Table)：\n",
        "\n",
        "SQLite 型別\n",
        "- INTEGER：整數\n",
        "- REAL：浮點數\n",
        "- TEXT：文字\n",
        "- BLOB：原始資料\n",
        "  \n",
        "``` mysql\n",
        "CREATE TABLE `資料表` (\n",
        "\t`欄位1`\t型別,\n",
        "\t`欄位2`\t型別,\n",
        "\t`.....\n",
        ")\n",
        "```"
      ]
    },
    {
      "cell_type": "code",
      "execution_count": null,
      "metadata": {
        "id": "DsJAWlLjWNPC"
      },
      "outputs": [],
      "source": [
        "!pip install SQLAlchemy==1.4.46"
      ]
    },
    {
      "cell_type": "code",
      "execution_count": null,
      "metadata": {
        "id": "zorb7TZoWMWk"
      },
      "outputs": [],
      "source": [
        "# !git clone https://github.com/ccwu0918/book-sqlfifty"
      ]
    },
    {
      "cell_type": "code",
      "execution_count": null,
      "metadata": {
        "id": "HXd7HGX0KVvv"
      },
      "outputs": [],
      "source": [
        "import sqlite3\n",
        "conn = sqlite3.connect('./instance/hotel.db') # 如果資料庫不存在，會自動幫你建立\n",
        "sql_create_table = \"\"\"\n",
        "CREATE TABLE IF NOT EXISTS rooms (\n",
        "\t`id` INTEGER PRIMARY KEY, \n",
        "\t`room_number` INTEGER, \n",
        "\t`room_type` TEXT, \n",
        "\t`price` INTEGER, \n",
        "\t`availability` TEXT, \n",
        "\t`booking_date` DATE\n",
        ");\n",
        "\"\"\"\n",
        "cursor = conn.execute(sql_create_table)\n",
        "conn.close()"
      ]
    },
    {
      "cell_type": "markdown",
      "metadata": {
        "id": "69a9gYGDOy9W"
      },
      "source": [
        "## CRUD"
      ]
    },
    {
      "cell_type": "markdown",
      "metadata": {
        "id": "gGoP-0kgO_Xy"
      },
      "source": [
        "### Create 新增資料\n",
        "``` mysql\n",
        "INSERT INTO `資料表` (`欄位1`, `欄位2`, ...)\n",
        "VALUES (值1, 值2, )\n",
        "```"
      ]
    },
    {
      "cell_type": "markdown",
      "metadata": {
        "id": "RxNY9qiVN-Db"
      },
      "source": [
        "\n",
        "### 一次新增多筆資料 (INSERT INTO SELECT)\n",
        "\n",
        "\n",
        "語法：\n",
        "\n",
        "``` mysql\n",
        "INSERT INTO `資料表` (`欄位1`, `欄位2`, ...)\n",
        "VALUES (value1_1, value1_2, ...),\n",
        "    (value2_1, value2_2, ...),\n",
        "    (value3_1, value3_2, ...),\n",
        "    ... ;\n",
        "或利用子查詢，從其它的資料表中取得資料來作一次多筆新增：\n",
        "\n",
        "INSERT INTO table_name (column1, column2, column3,...)\n",
        "SELECT othercolumn1, othercolumn2, othercolumn3,...\n",
        "FROM othertable_name;\n",
        "```"
      ]
    },
    {
      "cell_type": "code",
      "execution_count": null,
      "metadata": {
        "id": "qFxe4P0y5BF8"
      },
      "outputs": [],
      "source": [
        "#@title 新增一筆訂房記錄\n",
        "import sqlite3\n",
        "conn = sqlite3.connect('./instance/hotel.db')\n",
        "\n",
        "sql_ins = \"\"\"\n",
        "    INSERT INTO rooms (room_number, room_type, price, availability, booking_date) \n",
        "            VALUES (101, '雙人房', 2000, 'unavailable', '2023/08/08');\n",
        "\"\"\"\n",
        "cursor = conn.execute(sql_ins)\n",
        "cursor = conn.commit()\n",
        "conn.close()"
      ]
    },
    {
      "cell_type": "markdown",
      "metadata": {
        "id": "Xcx69GhqO4R-"
      },
      "source": [
        "### Read 讀取資料 \n",
        "``` mysql\n",
        "SELECT `欄位1`, `欄位2`, ...\n",
        "FROM `資料表`\n",
        "WHERE 條件1 and/or 條件2 ....\n",
        "ORDER BY 排序方式1, 排序方式2\n",
        "LIMIT 筆數限制\n",
        "```\n",
        "- 顯示欄位：\n",
        "    - 全選所有資料表內的欄位 `SELECT * `\n",
        "    - 可自訂新欄位(運算符號和Python相同) `SELECT 欄位1, (欄位1-欄位2)*100/欄位2`\n",
        "    - 可自訂順序(不需要跟資料表順序一致)\n",
        "- 條件：\n",
        "    - 數值比較符號大致上和Python相同，\n",
        "        - 比較兩邊相等：`=`\n",
        "        - 沒有整除、次方運算子(要用[函式](https://www.w3schools.com/sql/sql_ref_mysql.asp))\n",
        "- 排序方式：\n",
        "    - DESC 倒序(大->小)排序\n",
        "    - ASC 正序(小->大)排序(可省略不寫)"
      ]
    },
    {
      "cell_type": "code",
      "execution_count": null,
      "metadata": {
        "id": "UtKACt5KPJ7x"
      },
      "outputs": [],
      "source": [
        "import sqlite3\n",
        "conn = sqlite3.connect('./instance/hotel.db')\n",
        "\n",
        "# SELECT `stock_id`,`date`,`open`,`close`,`high`,`low`,`volume`, `volume`*1000\n",
        "# FROM `stock_date`\n",
        "# WHERE `date` = '2020-03-03' or `volume` >= 40000\n",
        "# ORDER BY `stock_id` DESC, `date`\n",
        "\n",
        "sql = \"\"\"\n",
        "    SELECT * FROM rooms ORDER BY id, booking_date DESC;\n",
        "\"\"\"\n",
        "cursor = conn.execute(sql)\n",
        "for row in cursor.fetchall():\n",
        "    print(row)\n",
        "conn.close()"
      ]
    },
    {
      "cell_type": "markdown",
      "metadata": {
        "id": "RL-NUTI6PKs_"
      },
      "source": [
        "### Update 更新資料\n",
        "``` mysql\n",
        "UPDATE `資料表`\n",
        "SET `欄位1`=值1, `欄位2`=值2, ...\n",
        "WHERE 條件1 and/or 條件2 ....\n",
        "```"
      ]
    },
    {
      "cell_type": "code",
      "execution_count": null,
      "metadata": {
        "id": "zuic5XnKjLz3"
      },
      "outputs": [],
      "source": [
        "import sqlite3\n",
        "conn = sqlite3.connect('./instance/hotel.db')\n",
        "\n",
        "id = 1\n",
        "room_number = 101\n",
        "room_type = \"單人房\"\n",
        "price = 120\n",
        "booking_date = \"2023/07/07\"\n",
        "\n",
        "sql_upd = f\"UPDATE rooms SET room_number={room_number}, room_type='{room_type}', price={price}, booking_date='{booking_date}' WHERE id={id};\"\n",
        "\n",
        "cursor = conn.execute(sql_upd)\n",
        "cursor = conn.commit()\n",
        "conn.close()"
      ]
    },
    {
      "cell_type": "markdown",
      "metadata": {
        "id": "B1TSoIGgPOp2"
      },
      "source": [
        "### Delete 刪除資料\n",
        "``` mysql\n",
        "DELETE \n",
        "FROM `資料表`\n",
        "WHERE 條件1 and/or 條件2 ....\n",
        "```"
      ]
    },
    {
      "cell_type": "code",
      "execution_count": null,
      "metadata": {
        "id": "P3C-3OiYPRkk"
      },
      "outputs": [],
      "source": [
        "import sqlite3\n",
        "conn = sqlite3.connect('./instance/hotel.db')\n",
        "\n",
        "id = 1\n",
        "\n",
        "# DELETE \n",
        "# FROM `stock_date`\n",
        "# WHERE `stock_id` = 2330 and `date` = '2020-03-03'\n",
        "\n",
        "sql_del = f\"DELETE FROM rooms WHERE id={id};\"\n",
        "\n",
        "cursor = conn.execute(sql_del)\n",
        "cursor = conn.commit()\n",
        "conn.close()"
      ]
    },
    {
      "cell_type": "markdown",
      "metadata": {
        "id": "_Frte3hAm-wn"
      },
      "source": [
        "### 處理重複資料\n",
        "- 新增資料的時候先檢查資料是否存在：`SELECT`\n",
        "- 設計資料庫：\n",
        "    - 新增一欄位讓所有資料各擁有一唯一代碼，\n",
        "        - 刪除時留下最小或最大的代碼：先用`SELECT`，再用`DELETE`\n",
        "    - 建立唯一值組合：`UNIQUE INDEX`\n",
        "        - 要先思考哪些欄位組合起來是唯一值"
      ]
    },
    {
      "cell_type": "code",
      "execution_count": null,
      "metadata": {
        "id": "bZ677Ry7lRjS"
      },
      "outputs": [],
      "source": [
        "import sqlite3\n",
        "conn = sqlite3.connect('./instance/hotel.db')\n",
        "sql_create_ui = \"\"\"\n",
        "    CREATE UNIQUE INDEX `id_date` ON `rooms`(`room_number`, `booking_date`)\n",
        "\"\"\"\n",
        "cursor = conn.execute(sql_create_ui)\n",
        "cursor = conn.commit()\n",
        "conn.close()"
      ]
    },
    {
      "cell_type": "code",
      "execution_count": null,
      "metadata": {
        "id": "v6a-85-XkfKG"
      },
      "outputs": [],
      "source": [
        "import sqlite3\n",
        "conn = sqlite3.connect('./instance/hotel.db')\n",
        "sql_ins = \"\"\"\n",
        "    INSERT INTO rooms (room_number, room_type, price, availability, booking_date) VALUES (101, '雙人房', 2000, 'unavailable', '2023/08/08'),\n",
        "                                                    (102, '單人房', 1500, 'unavailable', '2023/09/09'),\n",
        "                                                    (103, '單人房', 1500, 'unavailable', '2023/10/10'),\n",
        "                                                    (104, '雙人房', 1500, 'unavailable', '2023/11/11'),                  \n",
        "                                                    (105, '家庭房', 3000, 'unavailable', '2023/12/31');                      \n",
        "\"\"\"\n",
        "cursor = conn.execute(sql_ins)\n",
        "cursor = conn.commit()"
      ]
    },
    {
      "cell_type": "code",
      "execution_count": null,
      "metadata": {
        "id": "Xair6-K2lA_1"
      },
      "outputs": [],
      "source": [
        "# sql_ins2 = \"\"\"\n",
        "#     INSERT INTO rooms (room_number, room_type, price, availability, booking_date) VALUES (101, '雙人房', 2000, 'unavailable', '2023/08/08');\n",
        "# \"\"\"\n",
        "# cursor = conn.execute(sql_ins2)\n",
        "# cursor = conn.commit()\n",
        "# conn.close()"
      ]
    },
    {
      "cell_type": "code",
      "execution_count": null,
      "metadata": {
        "id": "wLrCS_37lOFi"
      },
      "outputs": [],
      "source": [
        "import sqlite3\n",
        "conn = sqlite3.connect('./instance/hotel.db')\n",
        "sql = \"\"\"\n",
        "    SELECT * \n",
        "    FROM `rooms`\n",
        "\"\"\"\n",
        "cursor = conn.execute(sql)\n",
        "for row in cursor.fetchall():\n",
        "    print(row)\n",
        "conn.close()"
      ]
    },
    {
      "cell_type": "markdown",
      "metadata": {
        "id": "OEzzA3sKG3I-"
      },
      "source": [
        "## MySQL"
      ]
    },
    {
      "cell_type": "markdown",
      "metadata": {
        "id": "QhKdBU4Dvesj"
      },
      "source": [
        "``` python\n",
        "import pymysql\n",
        "conn = pymysql.connect(host,account,passwd,dateabase)\n",
        "cursor = conn.cursor() \n",
        "sql = \"......\"\n",
        "cursor.execute(sql)\n",
        "cursor.commit()\n",
        "conn.close()\n",
        "```"
      ]
    },
    {
      "cell_type": "markdown",
      "metadata": {
        "id": "pv0ozFnNvzLQ"
      },
      "source": [
        "### 環境設定"
      ]
    },
    {
      "cell_type": "markdown",
      "metadata": {
        "id": "n77rV1ydwdxq"
      },
      "source": [
        "### [IMDB 資料庫](https://relational.fit.cvut.cz/dataset/IMDb)\n",
        "![](https://relational.fit.cvut.cz/assets/img/datasets-generated/imdb_ijs.svg)\n"
      ]
    },
    {
      "cell_type": "markdown",
      "metadata": {
        "id": "0BScAhZRwYtm"
      },
      "source": [
        "## INNER JOIN\n",
        "- 一對多關係\n",
        "    - 電影有很多演員\n",
        "- 資料單一地方管理\n",
        "    - `stock_list`：股票代碼、股票名稱\n",
        "    - `stock_date`：股票代碼、日期、各交易原始資訊\n",
        "    - 若股票名稱改名，改 `stock_list` 就好"
      ]
    },
    {
      "cell_type": "markdown",
      "metadata": {
        "id": "Ta4QLbJHyGbe"
      },
      "source": [
        "``` mysql\n",
        "SELECT `資料表n`.`欄位1`, `資料表n`.`欄位2`, ...\n",
        "FROM `資料表1`\n",
        "INNER JOIN `資料表2` ON 關聯條件1 and/or 條件2\n",
        "WHERE 條件1 and/or 條件2 ....\n",
        "ORDER BY 排序方式1, 排序方式2\n",
        "LIMIT 筆數限制\n",
        "```"
      ]
    },
    {
      "cell_type": "markdown",
      "metadata": {
        "id": "m-vIHwZYTpqS"
      },
      "source": [
        "## 學習資源\n",
        "- [w3school](https://www.w3schools.com/sql/default.asp)\n",
        "- [深入淺出 SQL](https://www.tenlong.com.tw/products/9789866840166)"
      ]
    },
    {
      "cell_type": "markdown",
      "metadata": {
        "id": "SKai6XR4MpQS"
      },
      "source": [
        "# Flask"
      ]
    },
    {
      "cell_type": "markdown",
      "metadata": {
        "id": "PBZMw_I2RtZw"
      },
      "source": [
        "## 為什麼要學架網站？\n",
        "- 讓任何人不限裝置/平台/系統，只要能上網，都能很方便且易使用\n",
        "- 網路爬蟲抓的就是網站，所以理解網站怎麼架設，對於增加爬蟲經驗會很有幫助\n",
        "\n",
        "## 為什麼要用 Flask ？\n",
        "- 容易上手\n",
        "- 輕量化"
      ]
    },
    {
      "cell_type": "markdown",
      "metadata": {
        "id": "rnBoI7b_MhVd"
      },
      "source": [
        "## 環境設定"
      ]
    },
    {
      "cell_type": "code",
      "execution_count": null,
      "metadata": {
        "id": "s2YDrW1QIHXL"
      },
      "outputs": [],
      "source": [
        "!pip install flask-ngrok"
      ]
    },
    {
      "cell_type": "code",
      "execution_count": null,
      "metadata": {
        "id": "9K1siLkxmHXG"
      },
      "outputs": [],
      "source": [
        "# !pip install flask==0.12.2"
      ]
    },
    {
      "cell_type": "code",
      "execution_count": null,
      "metadata": {
        "id": "vIlwHmaknWk1"
      },
      "outputs": [],
      "source": [
        "!pip install pyngrok==4.1.1"
      ]
    },
    {
      "cell_type": "markdown",
      "source": [
        "## 01.註冊 ngrok 帳號 \n",
        "\n",
        "\n",
        "\n",
        "[ngrok註冊網址](https://dashboard.ngrok.com/signup)\n",
        "\n",
        "## 02. 建立並取得 authtoken\n"
      ],
      "metadata": {
        "id": "ro-QNqDC_ykq"
      }
    },
    {
      "cell_type": "code",
      "execution_count": null,
      "metadata": {
        "id": "1vh65fvynZYL"
      },
      "outputs": [],
      "source": [
        "!ngrok authtoken '29Yeppg9EErt12XNjS2DlOVpMQv_4GHpNG5xMiBCPHwm2TzmD'"
      ]
    },
    {
      "cell_type": "code",
      "execution_count": null,
      "metadata": {
        "id": "9C5sw9itoRQF"
      },
      "outputs": [],
      "source": [
        "# !ngrok config add-authtoken 29Yeppg9EErt12XNjS2DlOVpMQv_4GHpNG5xMiBCPHwm2TzmD"
      ]
    },
    {
      "cell_type": "markdown",
      "metadata": {
        "id": "lm0tyXnMbE2X"
      },
      "source": [
        "## [Bootstrap](https://getbootstrap.com/)\n",
        "- 包含 HTML、CSS及JavaScript的前端框架，有許多已經設定好的元素，方便開發\n",
        "\n",
        "## [DataTables](https://datatables.net/)\n",
        "- jQuery 套件，讓表格可以有更多功能操作\n",
        "    - jQuery：JavaScript函式庫，簡化 HTML 與 JavaScript 之間的操作\n",
        "- 此套件會把所有結果按照套件設定重新排序，亦即不會依照原先資料的排序"
      ]
    },
    {
      "cell_type": "markdown",
      "metadata": {
        "id": "WpQ0ZuRGc3cM"
      },
      "source": [
        "![](https://simpliv.files.wordpress.com/2018/04/learn-the-foundations-of-html-css-javascript-from-experts12.gif?w=640)"
      ]
    },
    {
      "cell_type": "code",
      "execution_count": null,
      "metadata": {
        "id": "O__6Fjv0s2Fm"
      },
      "outputs": [],
      "source": [
        "!pip install flask_bootstrap"
      ]
    },
    {
      "cell_type": "code",
      "execution_count": null,
      "metadata": {
        "id": "RWhqx6c1vsgi"
      },
      "outputs": [],
      "source": [
        "!pip install flask_sqlalchemy"
      ]
    },
    {
      "cell_type": "markdown",
      "metadata": {
        "id": "gxt3An_xsSqC"
      },
      "source": [
        "\n",
        "\n",
        "---\n",
        "\n"
      ]
    },
    {
      "cell_type": "markdown",
      "source": [
        "# 網頁樣式設定"
      ],
      "metadata": {
        "id": "XynS08gkNEQg"
      }
    },
    {
      "cell_type": "code",
      "source": [
        "%%writefile ./static/style.css\n",
        "\n",
        "body {\n",
        "    font-family: Arial, sans-serif;\n",
        "    margin: 0;\n",
        "    padding: 0;\n",
        "}\n",
        "\n",
        "h1, h2 {\n",
        "    text-align: center;\n",
        "}\n",
        "\n",
        "form {\n",
        "    display: flex;\n",
        "    flex-direction: column;\n",
        "    align-items: center;\n",
        "}\n",
        "\n",
        "table {\n",
        "    border-collapse: collapse;\n",
        "    width: 100%;\n",
        "    margin-top: 20px;\n",
        "}\n",
        "\n",
        "th, td {\n",
        "    text-align: left;\n",
        "    padding: 8px;\n",
        "}\n",
        "\n",
        "label {\n",
        "    font-weight: bold;\n",
        "}\n",
        "\n",
        "a {\n",
        "    text-decoration: none;\n",
        "    color: #4CAF50;\n",
        "}\n",
        "\n",
        "th {\n",
        "    background-color: #4CAF50;\n",
        "    color: white;\n",
        "}\n",
        "\n",
        "tr:nth-child(even) {\n",
        "    background-color: #f2f2f2;\n",
        "}\n",
        "\n",
        "input[type=\"text\"], input[type=\"date\"] {\n",
        "    padding: 5px;\n",
        "    margin-bottom: 10px;\n",
        "    border-radius: 5px;\n",
        "    border: none;\n",
        "}\n",
        "\n",
        "input[type=\"submit\"] {\n",
        "    background-color: #4CAF50;\n",
        "    color: white;\n",
        "    padding: 10px;\n",
        "    border: none;\n",
        "    border-radius: 5px;\n",
        "    cursor: pointer;\n",
        "    align-items: center;\n",
        "}\n",
        "\n",
        "input[type=\"submit\"]:hover {\n",
        "    background-color: #3e8e41;\n",
        "}"
      ],
      "metadata": {
        "id": "JHMWzBEu6CYS"
      },
      "execution_count": null,
      "outputs": []
    },
    {
      "cell_type": "markdown",
      "source": [
        "# 基礎版網頁"
      ],
      "metadata": {
        "id": "BoeqrDbN8rcr"
      }
    },
    {
      "cell_type": "code",
      "execution_count": null,
      "metadata": {
        "id": "Ntwg4W2iv-uC"
      },
      "outputs": [],
      "source": [
        "%%writefile ./templates/book_room.html\n",
        "\n",
        "<!DOCTYPE html>\n",
        "<html>\n",
        "<head>\n",
        "    <title>Book Room</title>\n",
        "    <link rel=\"stylesheet\" href=\"{{ url_for('static', filename='style.css') }}\">\n",
        "</head>\n",
        "<body>\n",
        "    <h1>Book Room</h1>\n",
        "    <h2><a href=\"{{ url_for('view_bookings') }}\">View Bookings</a></h2>\n",
        "    <form method=\"POST\">\n",
        "        <label for=\"room_number\">Room Number:</label>\n",
        "        <input type=\"text\" id=\"room_number\" name=\"room_number\" required><br><br>\n",
        "        <label for=\"room_type\">Room Type:</label>\n",
        "        <input type=\"text\" id=\"room_type\" name=\"room_type\" required><br><br>\n",
        "        <label for=\"price\">Price:</label>\n",
        "        <input type=\"text\" id=\"price\" name=\"price\" required><br><br>\n",
        "        <label for=\"booking_date\">Booking Date:</label>\n",
        "        <input type=\"date\" id=\"booking_date\" name=\"booking_date\" required><br><br>\n",
        "        <input type=\"submit\" value=\"Book Room\">\n",
        "    </form>\n",
        "</body>\n",
        "</html>"
      ]
    },
    {
      "cell_type": "code",
      "execution_count": null,
      "metadata": {
        "id": "seJi26icx58P"
      },
      "outputs": [],
      "source": [
        "%%writefile ./templates/view_bookings.html\n",
        "\n",
        "<!DOCTYPE html>\n",
        "<html>\n",
        "<head>\n",
        "    <title>View Bookings</title>\n",
        "    <link rel=\"stylesheet\" href=\"{{ url_for('static', filename='style.css') }}\">\n",
        "</head>\n",
        "<body>\n",
        "    <h1>View Bookings</h1>\n",
        "    <h2><a href=\"{{ url_for('setup') }}\">Setup for Database</a></h2>\n",
        "    <table>\n",
        "        <thead>\n",
        "            <tr>\n",
        "                <th>Room Number</th>\n",
        "                <th>Room Type</th>\n",
        "                <th>Price</th>\n",
        "                <th>Availability</th>\n",
        "                <th>Booking Date</th>\n",
        "                <th>Action</th>\n",
        "            </tr>\n",
        "        </thead>\n",
        "        <tbody>\n",
        "            {% for booking in bookings %}\n",
        "            <tr>\n",
        "                <td>{{ booking[1] }}</td>\n",
        "                <td>{{ booking[2] }}</td>\n",
        "                <td>{{ booking[3] }}</td>\n",
        "                <td>{{ booking[4] }}</td>\n",
        "                <td>{{ booking[5] }}</td>\n",
        "                <td>\n",
        "                    <a href=\"{{ url_for('edit_booking', id=booking[0]) }}\">Edit</a> |\n",
        "                    <a href=\"{{ url_for('delete_booking', id=booking[0]) }}\">Delete</a>\n",
        "                </td>\n",
        "            </tr>\n",
        "            {% endfor %}\n",
        "        </tbody>\n",
        "    </table>\n",
        "    <br>\n",
        "    <form method=\"POST\">\n",
        "        <input type=\"submit\" value=\"Book Room\">\n",
        "    </form>    \n",
        "\n",
        "</body>\n",
        "</html>"
      ]
    },
    {
      "cell_type": "code",
      "execution_count": null,
      "metadata": {
        "id": "7bUymWudybyS"
      },
      "outputs": [],
      "source": [
        "%%writefile ./templates/edit_booking.html\n",
        "\n",
        "<!DOCTYPE html>\n",
        "<html>\n",
        "<head>\n",
        "    <title>Edit Booking</title>\n",
        "    <link rel=\"stylesheet\" href=\"{{ url_for('static', filename='style.css') }}\">\n",
        "</head>\n",
        "<body>\n",
        "    <h1>Edit Booking</h1>\n",
        "    <h2><a href=\"{{ url_for('view_bookings') }}\">View Bookings</a></h2>\n",
        "    <form method=\"POST\">\n",
        "        {% for booking in booking %}    \n",
        "        <label for=\"room_number\">Room Number:</label>\n",
        "        <input type=\"text\" id=\"room_number\" name=\"room_number\" value=\"{{ booking[1] }}\" required><br><br>\n",
        "        <label for=\"room_type\">Room Type:</label>\n",
        "        <input type=\"text\" id=\"room_type\" name=\"room_type\" value=\"{{ booking[2] }}\" required><br><br>\n",
        "        <label for=\"price\">Price:</label>\n",
        "        <input type=\"text\" id=\"price\" name=\"price\" value=\"{{ booking[3] }}\" required><br><br>\n",
        "        <label for=\"booking_date\">Booking Date:</label>\n",
        "        <input type=\"date\" id=\"booking_date\" name=\"booking_date\" value=\"{{ booking[5] }}\" required><br><br>\n",
        "        {% endfor %}\n",
        "        <input type=\"submit\" value=\"Update Booking\">\n",
        "    </form>\n",
        "</body>\n",
        "</html>"
      ]
    },
    {
      "cell_type": "markdown",
      "metadata": {
        "id": "ihz-gwVdyktL"
      },
      "source": [
        "\n",
        "\n",
        "---\n",
        "\n"
      ]
    },
    {
      "cell_type": "markdown",
      "source": [
        "# 進階版網頁"
      ],
      "metadata": {
        "id": "xzzr7uDU8jJb"
      }
    },
    {
      "cell_type": "code",
      "source": [
        "%%writefile ./templates/book_room.html\n",
        "<head>\n",
        "    <link rel=\"stylesheet\" type=\"text/css\" href=\"https://cdn.datatables.net/1.10.20/css/dataTables.bootstrap4.min.css\">\n",
        "    <link rel=\"stylesheet\" href=\"{{ url_for('static', filename='style.css') }}\">    \n",
        "    <script type=\"text/javascript\" src=\"https://code.jquery.com/jquery-3.3.1.js\"></script>\n",
        "    <script type=\"text/javascript\" src=\"https://cdn.datatables.net/1.10.20/js/jquery.dataTables.min.js\"></script>\n",
        "    <script type=\"text/javascript\" src=\"https://cdn.datatables.net/1.10.20/js/dataTables.bootstrap4.min.js\"></script>\n",
        "</head>\n",
        "{% extends \"bootstrap/base.html\" %}\n",
        "\n",
        "{% block title %}View Bookings{% endblock %}\n",
        "\n",
        "{% block navbar %}\n",
        "<div class=\"navbar navbar-inverse\" role=\"navigation\">\n",
        "    <div class=\"container\">\n",
        "        <div class=\"navbar-header\">\n",
        "            <button type=\"button\" class=\"navbar-toggle\"\n",
        "            data-toggle=\"collapse\" data-target=\".navbar-collapse\">\n",
        "                <span class=\"sr-only\">導覽</span>\n",
        "                <span class=\"icon-bar\"></span>\n",
        "                <span class=\"icon-bar\"></span>\n",
        "                <span class=\"icon-bar\"></span>\n",
        "            </button>\n",
        "            <a class=\"navbar-brand\" href=\"/\">預訂房間</a>\n",
        "        </div>\n",
        "        <div class=\"navbar-collapse collapse\">\n",
        "            <ul class=\"nav navbar-nav\">\n",
        "                <li><a href=\"/\">首頁</a></li>\n",
        "                <li><a href=\"/setup\">建立資料表</a></li>\n",
        "                <li><a href=\"/insert_book_room\">新增範例資料</a></li>                \n",
        "                <li><a href=\"/view_bookings\">訂房記錄</a></li>                \n",
        "            </ul>\n",
        "        </div>\n",
        "    </div>\n",
        "</div>\n",
        "{% endblock %}\n",
        "\n",
        "{% block content %}\n",
        "<div class=\"container\">\n",
        "    <div class=\"page-header\">\n",
        "    <h1>預訂房間</h1>\n",
        "    <form method=\"POST\">\n",
        "        <label for=\"room_number\">Room Number:</label>\n",
        "        <input type=\"text\" id=\"room_number\" name=\"room_number\" required><br><br>\n",
        "        <label for=\"room_type\">Room Type:</label>\n",
        "        <input type=\"text\" id=\"room_type\" name=\"room_type\" required><br><br>\n",
        "        <label for=\"price\">Price:</label>\n",
        "        <input type=\"text\" id=\"price\" name=\"price\" required><br><br>\n",
        "        <label for=\"booking_date\">Booking Date:</label>\n",
        "        <input type=\"date\" id=\"booking_date\" name=\"booking_date\" required><br><br>\n",
        "        <input type=\"submit\" value=\"確定送出\">\n",
        "    </form>\n",
        "    </div>\n",
        "</div>\n",
        "{% endblock %}"
      ],
      "metadata": {
        "id": "MHMLcSoX5AZL"
      },
      "execution_count": null,
      "outputs": []
    },
    {
      "cell_type": "code",
      "source": [
        "%%writefile ./templates/view_bookings.html\n",
        "<head>\n",
        "    <link rel=\"stylesheet\" type=\"text/css\" href=\"https://cdn.datatables.net/1.10.20/css/dataTables.bootstrap4.min.css\">\n",
        "    <link rel=\"stylesheet\" href=\"{{ url_for('static', filename='style.css') }}\">    \n",
        "    <script type=\"text/javascript\" src=\"https://code.jquery.com/jquery-3.3.1.js\"></script>\n",
        "    <script type=\"text/javascript\" src=\"https://cdn.datatables.net/1.10.20/js/jquery.dataTables.min.js\"></script>\n",
        "    <script type=\"text/javascript\" src=\"https://cdn.datatables.net/1.10.20/js/dataTables.bootstrap4.min.js\"></script>\n",
        "</head>\n",
        "{% extends \"bootstrap/base.html\" %}\n",
        "\n",
        "{% block title %}View Bookings{% endblock %}\n",
        "\n",
        "{% block navbar %}\n",
        "<div class=\"navbar navbar-inverse\" role=\"navigation\">\n",
        "    <div class=\"container\">\n",
        "        <div class=\"navbar-header\">\n",
        "            <button type=\"button\" class=\"navbar-toggle\"\n",
        "            data-toggle=\"collapse\" data-target=\".navbar-collapse\">\n",
        "                <span class=\"sr-only\">導覽</span>\n",
        "                <span class=\"icon-bar\"></span>\n",
        "                <span class=\"icon-bar\"></span>\n",
        "                <span class=\"icon-bar\"></span>\n",
        "            </button>\n",
        "            <a class=\"navbar-brand\" href=\"/\">訂房記錄</a>\n",
        "        </div>\n",
        "        <div class=\"navbar-collapse collapse\">\n",
        "            <ul class=\"nav navbar-nav\">\n",
        "                <li><a href=\"/\">首頁</a></li>\n",
        "                <li><a href=\"/setup\">建立資料表</a></li>\n",
        "                <li><a href=\"/insert_book_room\">新增範例資料</a></li>                \n",
        "                <li><a href=\"/book_room\">預訂房間</a></li>                \n",
        "            </ul>\n",
        "        </div>\n",
        "    </div>\n",
        "</div>\n",
        "{% endblock %}\n",
        "\n",
        "{% block content %}\n",
        "<div class=\"container\">\n",
        "    <div class=\"page-header\">\n",
        "    <h1>訂房記錄</h1>\n",
        "    <table class=\"table\" id=\"book_table\">\n",
        "        <thead>\n",
        "            <tr>\n",
        "                <th>Room Number</th>\n",
        "                <th>Room Type</th>\n",
        "                <th>Price</th>\n",
        "                <th>Availability</th>\n",
        "                <th>Booking Date</th>\n",
        "                <th>Action</th>\n",
        "            </tr>\n",
        "        </thead>\n",
        "        <tbody>\n",
        "            {% for booking in bookings %}\n",
        "            <tr>\n",
        "                <td>{{ booking[1] }}</td>\n",
        "                <td>{{ booking[2] }}</td>\n",
        "                <td>{{ booking[3] }}</td>\n",
        "                <td>{{ booking[4] }}</td>\n",
        "                <td>{{ booking[5] }}</td>\n",
        "                <td>\n",
        "                    <a href=\"{{ url_for('edit_booking', id=booking[0]) }}\">Edit</a> |\n",
        "                    <a href=\"{{ url_for('delete_booking', id=booking[0]) }}\">Delete</a>\n",
        "                </td>\n",
        "            </tr>\n",
        "            {% endfor %}\n",
        "        </tbody>\n",
        "    </table>\n",
        "    <br>\n",
        "    <form method=\"POST\">\n",
        "        <input type=\"submit\" value=\"回首頁\">\n",
        "    </form>    \n",
        "    </div>\n",
        "</div>\n",
        "{% endblock %}\n",
        "{% block scripts %}\n",
        "<script type=\"text/javascript\">\n",
        "$(document).ready(function() {\n",
        "    $('#book_table').DataTable();\n",
        "} );\n",
        "</script>\n",
        "{% endblock %}"
      ],
      "metadata": {
        "id": "TKcB4qoP40Gi"
      },
      "execution_count": null,
      "outputs": []
    },
    {
      "cell_type": "code",
      "source": [
        "%%writefile ./templates/edit_booking.html\n",
        "<head>\n",
        "    <link rel=\"stylesheet\" type=\"text/css\" href=\"https://cdn.datatables.net/1.10.20/css/dataTables.bootstrap4.min.css\">\n",
        "    <link rel=\"stylesheet\" href=\"{{ url_for('static', filename='style.css') }}\">    \n",
        "    <script type=\"text/javascript\" src=\"https://code.jquery.com/jquery-3.3.1.js\"></script>\n",
        "    <script type=\"text/javascript\" src=\"https://cdn.datatables.net/1.10.20/js/jquery.dataTables.min.js\"></script>\n",
        "    <script type=\"text/javascript\" src=\"https://cdn.datatables.net/1.10.20/js/dataTables.bootstrap4.min.js\"></script>\n",
        "</head>\n",
        "{% extends \"bootstrap/base.html\" %}\n",
        "\n",
        "{% block title %}View Bookings{% endblock %}\n",
        "\n",
        "{% block navbar %}\n",
        "<div class=\"navbar navbar-inverse\" role=\"navigation\">\n",
        "    <div class=\"container\">\n",
        "        <div class=\"navbar-header\">\n",
        "            <button type=\"button\" class=\"navbar-toggle\"\n",
        "            data-toggle=\"collapse\" data-target=\".navbar-collapse\">\n",
        "                <span class=\"sr-only\">導覽</span>\n",
        "                <span class=\"icon-bar\"></span>\n",
        "                <span class=\"icon-bar\"></span>\n",
        "                <span class=\"icon-bar\"></span>\n",
        "            </button>\n",
        "            <a class=\"navbar-brand\" href=\"/\">修改訂房紀錄</a>\n",
        "        </div>\n",
        "        <div class=\"navbar-collapse collapse\">\n",
        "            <ul class=\"nav navbar-nav\">\n",
        "                <li><a href=\"/\">首頁</a></li>\n",
        "                <li><a href=\"/setup\">建立資料表</a></li>\n",
        "                <li><a href=\"/insert_book_room\">新增範例資料</a></li>                \n",
        "                <li><a href=\"/view_bookings\">預訂房間</a></li>\n",
        "                <li><a href=\"/book_room\">預訂房間</a></li>                \n",
        "            </ul>\n",
        "        </div>\n",
        "    </div>\n",
        "</div>\n",
        "{% endblock %}\n",
        "\n",
        "{% block content %}\n",
        "<div class=\"container\">\n",
        "    <div class=\"page-header\">\n",
        "    <h1>修改訂房紀錄</h1>\n",
        "    <form method=\"POST\">\n",
        "        {% for booking in booking %}    \n",
        "        <label for=\"room_number\">Room Number:</label>\n",
        "        <input type=\"text\" id=\"room_number\" name=\"room_number\" value=\"{{ booking[1] }}\" required><br><br>\n",
        "        <label for=\"room_type\">Room Type:</label>\n",
        "        <input type=\"text\" id=\"room_type\" name=\"room_type\" value=\"{{ booking[2] }}\" required><br><br>\n",
        "        <label for=\"price\">Price:</label>\n",
        "        <input type=\"text\" id=\"price\" name=\"price\" value=\"{{ booking[3] }}\" required><br><br>\n",
        "        <label for=\"booking_date\">Booking Date:</label>\n",
        "        <input type=\"date\" id=\"booking_date\" name=\"booking_date\" value=\"{{ booking[5] }}\" required> ({{ booking[5] }}) <br><br>\n",
        "        {% endfor %}\n",
        "        <input type=\"submit\" value=\"確定修改\">\n",
        "    </form>\n",
        "    </div>\n",
        "</div>\n",
        "{% endblock %}"
      ],
      "metadata": {
        "id": "t0qMcJbs5PIs"
      },
      "execution_count": null,
      "outputs": []
    },
    {
      "cell_type": "markdown",
      "source": [
        "\n",
        "\n",
        "---\n",
        "\n"
      ],
      "metadata": {
        "id": "-yYuIYB68UyC"
      }
    },
    {
      "cell_type": "code",
      "execution_count": null,
      "metadata": {
        "id": "CmN_a2hUsTeG"
      },
      "outputs": [],
      "source": [
        "from flask_ngrok import run_with_ngrok\n",
        "from flask import Flask, render_template, request, redirect, url_for\n",
        "from flask_bootstrap import Bootstrap\n",
        "from flask_sqlalchemy import SQLAlchemy\n",
        "\n",
        "import sqlite3\n",
        "\n",
        "app = Flask(__name__)\n",
        "\n",
        "# 連接SQLite資料庫\n",
        "# conn = sqlite3.connect('hotel.db')\n",
        "\n",
        "app.config['SQLALCHEMY_DATABASE_URI'] = 'sqlite:///hotel.db'\n",
        "db = SQLAlchemy(app)\n",
        "bootstrap = Bootstrap(app)\n",
        "run_with_ngrok(app)\n",
        "\n",
        "\n",
        "# 建立訂房系統資料表\n",
        "@app.route('/setup')\n",
        "def setup():\n",
        "    sql = \"\"\"\n",
        "    CREATE TABLE IF NOT EXISTS rooms (id INTEGER PRIMARY KEY, room_number INTEGER, room_type TEXT, price INTEGER, availability TEXT, booking_date DATE)\n",
        "    \"\"\"\n",
        "    db.engine.execute(sql)\n",
        "    # return \"訂房系統資料表建立成功！<a href=\\\"/\\\">回首頁</a>\"\n",
        "    return redirect(url_for('view_bookings')) \n",
        "\n",
        "@app.route('/', methods=['GET', 'POST'])\n",
        "\n",
        "# 訂房功能\n",
        "@app.route('/book_room', methods=['GET', 'POST'])\n",
        "def book_room():\n",
        "    if request.method == 'POST':\n",
        "        room_number = request.form['room_number']\n",
        "        room_type = request.form['room_type']\n",
        "        price = request.form['price']\n",
        "        availability = 'unavailable'\n",
        "        booking_date = request.form['booking_date']\n",
        "\n",
        "        sql = f\"\"\"\n",
        "        INSERT INTO rooms (room_number, room_type, price, availability, booking_date) VALUES ({room_number}, '{room_type}', {price}, '{availability}', '{booking_date}')\n",
        "        \"\"\"\n",
        "\n",
        "        db.engine.execute(sql)        \n",
        "        return redirect(url_for('view_bookings'))\n",
        "    return render_template('book_room.html')\n",
        "\n",
        "# 新增多筆訂房範例記錄\n",
        "@app.route('/insert_book_room')\n",
        "def insert():\n",
        "    sql = \"\"\"\n",
        "    INSERT INTO rooms (room_number, room_type, price, availability, booking_date) VALUES (101, '雙人房', 2000, 'unavailable', '2023/08/08'),\n",
        "                                                    (102, '單人房', 1500, 'unavailable', '2023/09/09'),\n",
        "                                                    (103, '單人房', 1500, 'unavailable', '2023/10/10'),\n",
        "                                                    (104, '雙人房', 1500, 'unavailable', '2023/11/11'),                  \n",
        "                                                    (105, '家庭房', 3000, 'unavailable', '2023/12/31');                      \n",
        "    \"\"\"\n",
        "    db.engine.execute(sql)\n",
        "    # return \"多筆訂房範例資料新增成功！<a href=\\\"/\\\">回首頁</a>\"\n",
        "    return redirect(url_for('view_bookings'))\n",
        "\n",
        "# 查看訂房紀錄\n",
        "@app.route('/view_bookings', methods=['GET', 'POST'])\n",
        "def view_bookings():\n",
        "    if request.method == 'GET':\n",
        "        sql = \"SELECT * FROM rooms ORDER BY id\"\n",
        "        bookings = db.engine.execute(sql)\n",
        "        return render_template('view_bookings.html', bookings=bookings)\n",
        "    else:\n",
        "        return redirect(url_for('book_room'))    \n",
        "\n",
        "# 修改訂房紀錄\n",
        "@app.route('/edit_booking/<int:id>', methods=['GET', 'POST'])\n",
        "def edit_booking(id):\n",
        "    if request.method == 'POST':\n",
        "        room_number = request.form['room_number']\n",
        "        room_type = request.form['room_type']\n",
        "        price = request.form['price']\n",
        "        booking_date = request.form['booking_date']\n",
        "        sql = f\"UPDATE rooms SET room_number={room_number}, room_type='{room_type}', price={price}, booking_date='{booking_date}' WHERE id={id};\"\n",
        "        db.engine.execute(sql)\n",
        "        # return \"資料修改成功！\"\n",
        "        return redirect(url_for('view_bookings'))\n",
        "    else:\n",
        "        sql = f\"SELECT * FROM rooms WHERE id={id};\"\n",
        "        booking = db.engine.execute(sql)\n",
        "\n",
        "        return render_template('edit_booking.html', booking=booking)\n",
        "\n",
        "# 刪除訂房紀錄\n",
        "@app.route('/delete_booking/<int:id>')\n",
        "def delete_booking(id):\n",
        "    sql = f\"DELETE FROM rooms WHERE id={id};\"\n",
        "    db.engine.execute(sql)\n",
        "    # return \"資料刪除成功！\"    \n",
        "    return redirect(url_for('view_bookings'))\n",
        "\n",
        "# 使用參數刪除訂房紀錄\n",
        "@app.route(\"/delete_booking\")\n",
        "def delete_booking_param():\n",
        "    id = request.args.get('id')\n",
        "    sql = f\"DELETE FROM rooms WHERE id={id};\"\n",
        "    db.engine.execute(sql)\n",
        "    # return \"資料刪除成功！\"    \n",
        "    return redirect(url_for('view_bookings'))   \n",
        "\n",
        "if __name__ == '__main__':\n",
        "    app.run()"
      ]
    },
    {
      "cell_type": "markdown",
      "metadata": {
        "id": "FeROawSUQH3f"
      },
      "source": [
        "#### [練習]\n",
        "- 增加一個參數 booking_date\n",
        "    - 如果是走 delete_booking ， url 是 `/delete_booking/001/XXX`\n",
        "    - 如果是走 delete_booking_param ， url 是 `/delete_booking?id=001&booking_date=XXX`\n"
      ]
    },
    {
      "cell_type": "markdown",
      "metadata": {
        "id": "LpS5-_TAUVbE"
      },
      "source": [
        "## 學習資源\n",
        "- [Flask Web 開發實戰](https://tw.pyladies.com/events/topic.html?id=35)\n",
        "    - [Flask Web 開發:基於 Python 的 Web 應用開發實戰](https://www.tenlong.com.tw/products/9787115373991)\n",
        "- 學習地圖\n",
        "    - [前端](https://softnshare.com/webfrontendprogrammer/)\n",
        "    - [後端](https://softnshare.com/backenddeveloper/)\n",
        "        - VPS 主機：Linode, DigitalOcean, GCP, AWS, Azure\n",
        "            - [鳥哥的 Linux 私房菜](http://linux.vbird.org/)\n"
      ]
    }
  ],
  "metadata": {
    "colab": {
      "provenance": [],
      "include_colab_link": true
    },
    "kernelspec": {
      "display_name": "Python 3",
      "name": "python3"
    }
  },
  "nbformat": 4,
  "nbformat_minor": 0
}