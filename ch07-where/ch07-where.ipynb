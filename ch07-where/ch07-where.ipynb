{
  "cells": [
    {
      "cell_type": "markdown",
      "metadata": {
        "id": "view-in-github",
        "colab_type": "text"
      },
      "source": [
        "<a href=\"https://colab.research.google.com/github/ccwu0918/book-sqlfifty/blob/main/ch07-where/ch07-where.ipynb\" target=\"_parent\"><img src=\"https://colab.research.google.com/assets/colab-badge.svg\" alt=\"Open In Colab\"/></a>"
      ]
    },
    {
      "cell_type": "markdown",
      "id": "lightweight-fruit",
      "metadata": {
        "id": "lightweight-fruit"
      },
      "source": [
        "# SQL 的五十道練習：初學者友善的資料庫入門\n",
        "\n",
        "> 篩選觀測值"
      ]
    },
    {
      "cell_type": "markdown",
      "id": "6503a969",
      "metadata": {
        "id": "6503a969"
      },
      "source": [
        "讀者如果是資料科學的初學者，可以略過下述的程式碼；讀者如果不是資料科學的初學者，欲使用 JupyterLab 執行本章節內容，必須先執行下述程式碼載入所需模組與連接資料庫。"
      ]
    },
    {
      "cell_type": "code",
      "source": [
        "!git clone https://github.com/ccwu0918/book-sqlfifty"
      ],
      "metadata": {
        "id": "OLdPXBJgIE8x"
      },
      "execution_count": null,
      "outputs": [],
      "id": "OLdPXBJgIE8x"
    },
    {
      "cell_type": "code",
      "execution_count": null,
      "metadata": {
        "id": "bfa07fd1"
      },
      "outputs": [],
      "source": [
        "# %LOAD sqlite3 db=../databases/imdb.db timeout=2 shared_cache=true"
      ],
      "id": "bfa07fd1"
    },
    {
      "cell_type": "code",
      "execution_count": null,
      "metadata": {
        "deletable": false,
        "id": "N6lQpgDt_iPy"
      },
      "outputs": [],
      "source": [
        "import sqlite3\n",
        "import unittest\n",
        "import json\n",
        "import os\n",
        "import numpy as np\n",
        "import pandas as pd\n",
        "conn = sqlite3.connect('./databases/imdb.db')\n",
        "conn.execute(\"\"\"ATTACH './databases/covid19.db' AS covid19\"\"\")\n",
        "conn.execute(\"\"\"ATTACH './databases/twElection2020.db' AS twElection2020\"\"\")\n",
        "conn.execute(\"\"\"ATTACH './databases/nba.db' AS nba\"\"\")\n",
        "conn.execute(\"\"\"ATTACH './databases/northwind.db' AS Northwind\"\"\")\n",
        "conn.execute(\"\"\"ATTACH './databases/Chinook_Sqlite.sqlite' AS Chinook\"\"\")"
      ],
      "id": "N6lQpgDt_iPy"
    },
    {
      "cell_type": "code",
      "source": [
        "# %%capture\n",
        "# load the SQL magic extension\n",
        "# https://github.com/catherinedevlin/ipython-sql\n",
        "# this extension allows us to connect to DBs and issue SQL command\n",
        "%load_ext sql\n",
        "\n",
        "# now we can use the magic extension to connect to our SQLite DB\n",
        "# use %sql to write an inline SQL command\n",
        "# use %%sql to write SQL commands in a cell\n",
        "%sql sqlite:///databases/imdb.db"
      ],
      "metadata": {
        "id": "PdgXDJam_07h"
      },
      "execution_count": null,
      "outputs": [],
      "id": "PdgXDJam_07h"
    },
    {
      "cell_type": "code",
      "source": [
        "%%sql\n",
        "ATTACH \"./databases/covid19.db\" AS covid19;\n",
        "ATTACH \"./databases/twElection2020.db\" AS twElection2020;\n",
        "ATTACH \"./databases/nba.db\" AS nba;\n",
        "ATTACH \"./databases/northwind.db\" AS Northwind;\n",
        "ATTACH \"./databases/Chinook_Sqlite.sqlite\" AS Chinook;"
      ],
      "metadata": {
        "id": "2buY_jlrABq3"
      },
      "execution_count": null,
      "outputs": [],
      "id": "2buY_jlrABq3"
    },
    {
      "cell_type": "code",
      "source": [
        "%%sql\n",
        "SELECT sqlite_version();"
      ],
      "metadata": {
        "id": "Bm8LogkDACyI"
      },
      "execution_count": null,
      "outputs": [],
      "id": "Bm8LogkDACyI"
    },
    {
      "cell_type": "markdown",
      "id": "a1a02033",
      "metadata": {
        "id": "a1a02033"
      },
      "source": [
        "## 複習一下\n",
        "\n",
        "在第四章「衍生計算欄位」我們提過關係運算符與邏輯運算符在後續的「篩選觀測值」以及「條件邏輯」的章節中佔有舉足輕重的地位，針對常數或欄位可以使用關係運算符衍生計算欄位，應用後會得到 0（布林值 `False`）或 1（布林值 `True`）兩者其中之一，基礎的關係運算符有：\n",
        "\n",
        "|關係運算符|作用描述|\n",
        "|:-------|:------|\n",
        "|`=`|相等|\n",
        "|`!=`|不相等|\n",
        "|`>`|大於|\n",
        "|`>=`|大於等於|\n",
        "|`<`|小於|\n",
        "|`<=`|小於等於|\n",
        "|`LIKE`|相似|\n",
        "|`IN`|存在於|\n",
        "|`BETWEEN lower_bound AND upper_bound`|大於等於 `lower_bound` 且小於等於 `upper_bound`|\n",
        "|`IS NULL`|是否為空值|\n",
        "\n",
        "運用關係運算符於資料表的欄位，這時所形成的布林值就會隨著列數而產生基於列（Row-wise）的運算。比較結果為布林值 `False`，SQLite 以 0 表示；比較結果為布林值 `True`，SQLite 以 1 表示。"
      ]
    },
    {
      "cell_type": "code",
      "execution_count": null,
      "id": "c32648d7",
      "metadata": {
        "id": "c32648d7",
        "outputId": "b95eb0a5-0032-41de-a10f-d70e8e2bbc37"
      },
      "outputs": [
        {
          "data": {
            "text/html": [
              "<table>\n",
              "<tr>\n",
              "<th>release_year</th>\n",
              "<th>released_in_1994</th>\n",
              "</tr>\n",
              "<tr>\n",
              "<td>1994</td>\n",
              "<td>1</td>\n",
              "</tr>\n",
              "<tr>\n",
              "<td>1972</td>\n",
              "<td>0</td>\n",
              "</tr>\n",
              "<tr>\n",
              "<td>2008</td>\n",
              "<td>0</td>\n",
              "</tr>\n",
              "<tr>\n",
              "<td>1974</td>\n",
              "<td>0</td>\n",
              "</tr>\n",
              "<tr>\n",
              "<td>1957</td>\n",
              "<td>0</td>\n",
              "</tr>\n",
              "<tr>\n",
              "<td>1993</td>\n",
              "<td>0</td>\n",
              "</tr>\n",
              "<tr>\n",
              "<td>2003</td>\n",
              "<td>0</td>\n",
              "</tr>\n",
              "<tr>\n",
              "<td>1994</td>\n",
              "<td>1</td>\n",
              "</tr>\n",
              "<tr>\n",
              "<td>2001</td>\n",
              "<td>0</td>\n",
              "</tr>\n",
              "<tr>\n",
              "<td>1966</td>\n",
              "<td>0</td>\n",
              "</tr>\n",
              "</table>\n",
              "10 rows in set (0.00 sec)"
            ],
            "text/plain": [
              "+--------------+------------------+\n",
              "| release_year | released_in_1994 |\n",
              "+--------------+------------------+\n",
              "| 1994         | 1                |\n",
              "+--------------+------------------+\n",
              "| 1972         | 0                |\n",
              "+--------------+------------------+\n",
              "| 2008         | 0                |\n",
              "+--------------+------------------+\n",
              "| 1974         | 0                |\n",
              "+--------------+------------------+\n",
              "| 1957         | 0                |\n",
              "+--------------+------------------+\n",
              "| 1993         | 0                |\n",
              "+--------------+------------------+\n",
              "| 2003         | 0                |\n",
              "+--------------+------------------+\n",
              "| 1994         | 1                |\n",
              "+--------------+------------------+\n",
              "| 2001         | 0                |\n",
              "+--------------+------------------+\n",
              "| 1966         | 0                |\n",
              "+--------------+------------------+\n",
              "10 rows in set (0.00 sec)"
            ]
          },
          "execution_count": 3,
          "metadata": {},
          "output_type": "execute_result"
        }
      ],
      "source": [
        "%%sql\n",
        "SELECT release_year,\n",
        "       release_year = 1994 AS released_in_1994\n",
        "  FROM movies\n",
        " LIMIT 10;"
      ]
    },
    {
      "cell_type": "markdown",
      "id": "supposed-spread",
      "metadata": {
        "id": "supposed-spread"
      },
      "source": [
        "## 以 `WHERE` 從資料表篩選\n",
        "\n",
        "在第三章「從資料表選擇」運用 `SELECT` 保留字搭配欄位名稱可以取出資料表中指定的欄，這個章節我們要運用 `WHERE` 保留字搭配條件（Conditions）取出資料表符合「條件」的觀測值。\n",
        "\n",
        "```sql\n",
        "SELECT DISTINCT columns AS alias\n",
        "  FROM table\n",
        " WHERE conditions\n",
        " ORDER BY columns DESC\n",
        " LIMIT m;\n",
        "```\n",
        "\n",
        "當我們使用關係運算符衍生計算欄位，應用後所得到的 0（布林值 `False`）或 1（布林值 `True`）就是所謂的「條件」，將衍生計算所得的布林值放在 `WHERE` 保留字之後會將 1（布林值 `True`）的觀測值留在查詢結果中，就能完成從資料表篩選的任務。"
      ]
    },
    {
      "cell_type": "code",
      "execution_count": null,
      "id": "ca27c8f5",
      "metadata": {
        "id": "ca27c8f5",
        "outputId": "e12e5460-eb37-4e66-c487-eb70f80271e3"
      },
      "outputs": [
        {
          "data": {
            "text/html": [
              "<table>\n",
              "<tr>\n",
              "<th>release_year</th>\n",
              "<th>released_in_1994</th>\n",
              "</tr>\n",
              "<tr>\n",
              "<td>1994</td>\n",
              "<td>1</td>\n",
              "</tr>\n",
              "<tr>\n",
              "<td>1994</td>\n",
              "<td>1</td>\n",
              "</tr>\n",
              "<tr>\n",
              "<td>1994</td>\n",
              "<td>1</td>\n",
              "</tr>\n",
              "<tr>\n",
              "<td>1994</td>\n",
              "<td>1</td>\n",
              "</tr>\n",
              "<tr>\n",
              "<td>1994</td>\n",
              "<td>1</td>\n",
              "</tr>\n",
              "</table>\n",
              "5 rows in set (0.00 sec)"
            ],
            "text/plain": [
              "+--------------+------------------+\n",
              "| release_year | released_in_1994 |\n",
              "+--------------+------------------+\n",
              "| 1994         | 1                |\n",
              "+--------------+------------------+\n",
              "| 1994         | 1                |\n",
              "+--------------+------------------+\n",
              "| 1994         | 1                |\n",
              "+--------------+------------------+\n",
              "| 1994         | 1                |\n",
              "+--------------+------------------+\n",
              "| 1994         | 1                |\n",
              "+--------------+------------------+\n",
              "5 rows in set (0.00 sec)"
            ]
          },
          "execution_count": 4,
          "metadata": {},
          "output_type": "execute_result"
        }
      ],
      "source": [
        "%%sql\n",
        "SELECT release_year,\n",
        "       release_year = 1994 AS released_in_1994\n",
        "  FROM movies\n",
        " WHERE release_year = 1994;"
      ]
    },
    {
      "cell_type": "markdown",
      "id": "d69f197f",
      "metadata": {
        "id": "d69f197f"
      },
      "source": [
        "在一段 SQL 敘述中同時選擇指定欄位、符合條件觀測值，稱為子集（Subset），指的是從原本外型為 `(m, n)` 的資料表中選取出了一個列數較少、欄數較少的查詢結果。"
      ]
    },
    {
      "cell_type": "code",
      "execution_count": null,
      "id": "handy-access",
      "metadata": {
        "id": "handy-access",
        "outputId": "b82344a7-e466-4cc0-b395-9efa7e1b0ee1"
      },
      "outputs": [
        {
          "data": {
            "text/html": [
              "<table>\n",
              "<tr>\n",
              "<th>title</th>\n",
              "<th>release_year</th>\n",
              "<th>rating</th>\n",
              "<th>runtime</th>\n",
              "</tr>\n",
              "<tr>\n",
              "<td>The Shawshank Redemption</td>\n",
              "<td>1994</td>\n",
              "<td>9.3</td>\n",
              "<td>142</td>\n",
              "</tr>\n",
              "<tr>\n",
              "<td>Pulp Fiction</td>\n",
              "<td>1994</td>\n",
              "<td>8.9</td>\n",
              "<td>154</td>\n",
              "</tr>\n",
              "<tr>\n",
              "<td>Forrest Gump</td>\n",
              "<td>1994</td>\n",
              "<td>8.8</td>\n",
              "<td>142</td>\n",
              "</tr>\n",
              "<tr>\n",
              "<td>Léon: The Professional</td>\n",
              "<td>1994</td>\n",
              "<td>8.5</td>\n",
              "<td>110</td>\n",
              "</tr>\n",
              "<tr>\n",
              "<td>The Lion King</td>\n",
              "<td>1994</td>\n",
              "<td>8.5</td>\n",
              "<td>88</td>\n",
              "</tr>\n",
              "</table>\n",
              "5 rows in set (0.00 sec)"
            ],
            "text/plain": [
              "+--------------------------+--------------+--------+---------+\n",
              "| title                    | release_year | rating | runtime |\n",
              "+--------------------------+--------------+--------+---------+\n",
              "| The Shawshank Redemption | 1994         | 9.3    | 142     |\n",
              "+--------------------------+--------------+--------+---------+\n",
              "| Pulp Fiction             | 1994         | 8.9    | 154     |\n",
              "+--------------------------+--------------+--------+---------+\n",
              "| Forrest Gump             | 1994         | 8.8    | 142     |\n",
              "+--------------------------+--------------+--------+---------+\n",
              "| Léon: The Professional  | 1994         | 8.5    | 110     |\n",
              "+--------------------------+--------------+--------+---------+\n",
              "| The Lion King            | 1994         | 8.5    | 88      |\n",
              "+--------------------------+--------------+--------+---------+\n",
              "5 rows in set (0.00 sec)"
            ]
          },
          "execution_count": 5,
          "metadata": {},
          "output_type": "execute_result"
        }
      ],
      "source": [
        "%%sql\n",
        "SELECT title,\n",
        "       release_year,\n",
        "       rating,\n",
        "       runtime\n",
        "  FROM movies\n",
        " WHERE release_year = 1994;"
      ]
    },
    {
      "cell_type": "markdown",
      "id": "transsexual-universal",
      "metadata": {
        "id": "transsexual-universal"
      },
      "source": [
        "關係運算符也可以應用在文字資料類別的欄位，像是 `=` 作為文字內容的精準比對。"
      ]
    },
    {
      "cell_type": "code",
      "execution_count": null,
      "id": "exceptional-debut",
      "metadata": {
        "id": "exceptional-debut",
        "outputId": "77c696e0-afee-4544-b828-98c31a912c32"
      },
      "outputs": [
        {
          "data": {
            "text/html": [
              "<table>\n",
              "<tr>\n",
              "<th>title</th>\n",
              "<th>release_year</th>\n",
              "<th>director</th>\n",
              "</tr>\n",
              "<tr>\n",
              "<td>Memento</td>\n",
              "<td>2000</td>\n",
              "<td>Christopher Nolan</td>\n",
              "</tr>\n",
              "<tr>\n",
              "<td>Batman Begins</td>\n",
              "<td>2005</td>\n",
              "<td>Christopher Nolan</td>\n",
              "</tr>\n",
              "<tr>\n",
              "<td>The Prestige</td>\n",
              "<td>2006</td>\n",
              "<td>Christopher Nolan</td>\n",
              "</tr>\n",
              "<tr>\n",
              "<td>The Dark Knight</td>\n",
              "<td>2008</td>\n",
              "<td>Christopher Nolan</td>\n",
              "</tr>\n",
              "<tr>\n",
              "<td>Inception</td>\n",
              "<td>2010</td>\n",
              "<td>Christopher Nolan</td>\n",
              "</tr>\n",
              "<tr>\n",
              "<td>The Dark Knight Rises</td>\n",
              "<td>2012</td>\n",
              "<td>Christopher Nolan</td>\n",
              "</tr>\n",
              "<tr>\n",
              "<td>Interstellar</td>\n",
              "<td>2014</td>\n",
              "<td>Christopher Nolan</td>\n",
              "</tr>\n",
              "</table>\n",
              "7 rows in set (0.00 sec)"
            ],
            "text/plain": [
              "+-----------------------+--------------+-------------------+\n",
              "| title                 | release_year | director          |\n",
              "+-----------------------+--------------+-------------------+\n",
              "| Memento               | 2000         | Christopher Nolan |\n",
              "+-----------------------+--------------+-------------------+\n",
              "| Batman Begins         | 2005         | Christopher Nolan |\n",
              "+-----------------------+--------------+-------------------+\n",
              "| The Prestige          | 2006         | Christopher Nolan |\n",
              "+-----------------------+--------------+-------------------+\n",
              "| The Dark Knight       | 2008         | Christopher Nolan |\n",
              "+-----------------------+--------------+-------------------+\n",
              "| Inception             | 2010         | Christopher Nolan |\n",
              "+-----------------------+--------------+-------------------+\n",
              "| The Dark Knight Rises | 2012         | Christopher Nolan |\n",
              "+-----------------------+--------------+-------------------+\n",
              "| Interstellar          | 2014         | Christopher Nolan |\n",
              "+-----------------------+--------------+-------------------+\n",
              "7 rows in set (0.00 sec)"
            ]
          },
          "execution_count": 6,
          "metadata": {},
          "output_type": "execute_result"
        }
      ],
      "source": [
        "%%sql\n",
        "SELECT title,\n",
        "       release_year,\n",
        "       director\n",
        "  FROM movies\n",
        " WHERE director = 'Christopher Nolan'\n",
        " ORDER BY release_year;"
      ]
    },
    {
      "cell_type": "markdown",
      "id": "threaded-police",
      "metadata": {
        "id": "threaded-police"
      },
      "source": [
        "## 文字特徵比對\n",
        "\n",
        "除了使用 `=` 作為作為文字內容精準比對的關係運算符，我們也常需要使用具備特徵比對（Pattern matching）性質的關係運算符 `LIKE`，使用 `LIKE` 作為關係運算符的時候要搭配萬用字元（Wildcards）來描述特徵。\n",
        "\n",
        "|萬用字元|作用描述|\n",
        "|:------|:-----|\n",
        "|`%`|表示任意文字，包含空字元|\n",
        "|`_`|表示剛好一個文字|\n",
        "\n",
        "舉例來說，`'The Lord of the Rings%'` 這個文字特徵表示開頭為 Lord of the Rings 後面接任意文字。"
      ]
    },
    {
      "cell_type": "code",
      "execution_count": null,
      "id": "activated-regular",
      "metadata": {
        "id": "activated-regular",
        "outputId": "76fd8154-748b-40dc-83c4-feb0e434c0b4"
      },
      "outputs": [
        {
          "data": {
            "text/html": [
              "<table>\n",
              "<tr>\n",
              "<th>title</th>\n",
              "</tr>\n",
              "<tr>\n",
              "<td>The Lord of the Rings: The Return of the King</td>\n",
              "</tr>\n",
              "<tr>\n",
              "<td>The Lord of the Rings: The Fellowship of the Ring</td>\n",
              "</tr>\n",
              "<tr>\n",
              "<td>The Lord of the Rings: The Two Towers</td>\n",
              "</tr>\n",
              "</table>\n",
              "3 rows in set (0.00 sec)"
            ],
            "text/plain": [
              "+---------------------------------------------------+\n",
              "| title                                             |\n",
              "+---------------------------------------------------+\n",
              "| The Lord of the Rings: The Return of the King     |\n",
              "+---------------------------------------------------+\n",
              "| The Lord of the Rings: The Fellowship of the Ring |\n",
              "+---------------------------------------------------+\n",
              "| The Lord of the Rings: The Two Towers             |\n",
              "+---------------------------------------------------+\n",
              "3 rows in set (0.00 sec)"
            ]
          },
          "execution_count": 7,
          "metadata": {},
          "output_type": "execute_result"
        }
      ],
      "source": [
        "%%sql\n",
        "SELECT title\n",
        "  FROM movies\n",
        " WHERE title LIKE 'The Lord of the Rings%'; -- The Lord of the Rings followed by any characters"
      ]
    },
    {
      "cell_type": "markdown",
      "id": "9c03da7c",
      "metadata": {
        "id": "9c03da7c"
      },
      "source": [
        "舉例來說，`'The ______'` 這個文字特徵表示開頭為 The 後面接一個空白、六個任意文字。"
      ]
    },
    {
      "cell_type": "code",
      "execution_count": null,
      "id": "fewer-milwaukee",
      "metadata": {
        "id": "fewer-milwaukee",
        "outputId": "1a28191e-a15f-425b-e654-536082a0e330"
      },
      "outputs": [
        {
          "data": {
            "text/html": [
              "<table>\n",
              "<tr>\n",
              "<th>title</th>\n",
              "</tr>\n",
              "<tr>\n",
              "<td>The Matrix</td>\n",
              "</tr>\n",
              "<tr>\n",
              "<td>The Father</td>\n",
              "</tr>\n",
              "</table>\n",
              "2 rows in set (0.00 sec)"
            ],
            "text/plain": [
              "+------------+\n",
              "| title      |\n",
              "+------------+\n",
              "| The Matrix |\n",
              "+------------+\n",
              "| The Father |\n",
              "+------------+\n",
              "2 rows in set (0.00 sec)"
            ]
          },
          "execution_count": 8,
          "metadata": {},
          "output_type": "execute_result"
        }
      ],
      "source": [
        "%%sql\n",
        "SELECT title\n",
        "  FROM movies\n",
        " WHERE title LIKE 'The ______'; -- The followed by a space and 6 characters"
      ]
    },
    {
      "cell_type": "markdown",
      "id": "italic-symposium",
      "metadata": {
        "id": "italic-symposium"
      },
      "source": [
        "## `WHERE` 後的多個條件\n",
        "\n",
        "當 `WHERE` 保留字搭配多個條件時，我們會需要「邏輯運算符」結合這些布林值，基礎的邏輯運算符有：\n",
        "\n",
        "|邏輯運算符|作用描述|\n",
        "|:-------|:------|\n",
        "|`AND`|和，交集|\n",
        "|`OR`|或，聯集|\n",
        "|`NOT`|反轉布林值，將 0（布林值 `False`）與 1（布林值 `True`）互換|\n",
        "\n",
        "使用 `AND` 結合兩個條件時，要兩條件皆為真才會判斷為真，其餘狀況均為假。"
      ]
    },
    {
      "cell_type": "code",
      "execution_count": null,
      "id": "4e615f25",
      "metadata": {
        "id": "4e615f25",
        "outputId": "b8c3f5ca-c21a-4d33-ebdc-9ab541e2b7bf"
      },
      "outputs": [
        {
          "data": {
            "text/html": [
              "<table>\n",
              "<tr>\n",
              "<th>False</th>\n",
              "<th>False</th>\n",
              "<th>False</th>\n",
              "<th>True</th>\n",
              "</tr>\n",
              "<tr>\n",
              "<td>0</td>\n",
              "<td>0</td>\n",
              "<td>0</td>\n",
              "<td>1</td>\n",
              "</tr>\n",
              "</table>\n",
              "1 row in set (0.00 sec)"
            ],
            "text/plain": [
              "+-------+-------+-------+------+\n",
              "| False | False | False | True |\n",
              "+-------+-------+-------+------+\n",
              "| 0     | 0     | 0     | 1    |\n",
              "+-------+-------+-------+------+\n",
              "1 row in set (0.00 sec)"
            ]
          },
          "execution_count": 9,
          "metadata": {},
          "output_type": "execute_result"
        }
      ],
      "source": [
        "%%sql\n",
        "SELECT 0 AND 0 AS False,\n",
        "       0 AND 1 AS False,\n",
        "       1 AND 0 AS False,\n",
        "       1 AND 1 AS True;"
      ]
    },
    {
      "cell_type": "markdown",
      "id": "f02c382a",
      "metadata": {
        "id": "f02c382a"
      },
      "source": [
        "將 `AND` 應用在資料表欄位，所形成的判斷結果也會隨著列數而產生基於列的運算，因此最後從資料表中篩選的觀測值，會是 `condition_1_and_condition_2` 為 1（布林值 `True`）的觀測值。"
      ]
    },
    {
      "cell_type": "code",
      "execution_count": null,
      "id": "f71718be",
      "metadata": {
        "id": "f71718be",
        "outputId": "e9a21118-3e8e-4dbc-8b34-9a11f9c082fb"
      },
      "outputs": [
        {
          "data": {
            "text/html": [
              "<table>\n",
              "<tr>\n",
              "<th>condition_1</th>\n",
              "<th>condition_2</th>\n",
              "<th>condtion_1_and_condition_2</th>\n",
              "</tr>\n",
              "<tr>\n",
              "<td>1</td>\n",
              "<td>1</td>\n",
              "<td>1</td>\n",
              "</tr>\n",
              "<tr>\n",
              "<td>0</td>\n",
              "<td>1</td>\n",
              "<td>0</td>\n",
              "</tr>\n",
              "<tr>\n",
              "<td>1</td>\n",
              "<td>1</td>\n",
              "<td>1</td>\n",
              "</tr>\n",
              "<tr>\n",
              "<td>0</td>\n",
              "<td>1</td>\n",
              "<td>0</td>\n",
              "</tr>\n",
              "<tr>\n",
              "<td>0</td>\n",
              "<td>1</td>\n",
              "<td>0</td>\n",
              "</tr>\n",
              "</table>\n",
              "5 rows in set (0.00 sec)"
            ],
            "text/plain": [
              "+-------------+-------------+----------------------------+\n",
              "| condition_1 | condition_2 | condtion_1_and_condition_2 |\n",
              "+-------------+-------------+----------------------------+\n",
              "| 1           | 1           | 1                          |\n",
              "+-------------+-------------+----------------------------+\n",
              "| 0           | 1           | 0                          |\n",
              "+-------------+-------------+----------------------------+\n",
              "| 1           | 1           | 1                          |\n",
              "+-------------+-------------+----------------------------+\n",
              "| 0           | 1           | 0                          |\n",
              "+-------------+-------------+----------------------------+\n",
              "| 0           | 1           | 0                          |\n",
              "+-------------+-------------+----------------------------+\n",
              "5 rows in set (0.00 sec)"
            ]
          },
          "execution_count": 10,
          "metadata": {},
          "output_type": "execute_result"
        }
      ],
      "source": [
        "%%sql\n",
        "SELECT release_year >= 1990 AS condition_1,\n",
        "       release_year <= 2010 AS condition_2,\n",
        "       release_year >= 1990 AND release_year <= 2010 AS condtion_1_and_condition_2\n",
        "  FROM movies\n",
        " LIMIT 5;"
      ]
    },
    {
      "cell_type": "markdown",
      "id": "0dc4aafe",
      "metadata": {
        "id": "0dc4aafe"
      },
      "source": [
        "當我們以 `AND` 結合 `>=` 與 `<=` 兩個關係運算符之條件時，可以改使用 `BETWEEN lower_bound AND upper_bound` 作為關係運算符。"
      ]
    },
    {
      "cell_type": "code",
      "execution_count": null,
      "id": "d8397928",
      "metadata": {
        "id": "d8397928",
        "outputId": "688d17c9-818e-4957-c79e-3c5297d3b533"
      },
      "outputs": [
        {
          "data": {
            "text/html": [
              "<table>\n",
              "<tr>\n",
              "<th>condition_1</th>\n",
              "<th>condition_2</th>\n",
              "<th>condtion_1_and_condition_2</th>\n",
              "</tr>\n",
              "<tr>\n",
              "<td>1</td>\n",
              "<td>1</td>\n",
              "<td>1</td>\n",
              "</tr>\n",
              "<tr>\n",
              "<td>0</td>\n",
              "<td>1</td>\n",
              "<td>0</td>\n",
              "</tr>\n",
              "<tr>\n",
              "<td>1</td>\n",
              "<td>1</td>\n",
              "<td>1</td>\n",
              "</tr>\n",
              "<tr>\n",
              "<td>0</td>\n",
              "<td>1</td>\n",
              "<td>0</td>\n",
              "</tr>\n",
              "<tr>\n",
              "<td>0</td>\n",
              "<td>1</td>\n",
              "<td>0</td>\n",
              "</tr>\n",
              "</table>\n",
              "5 rows in set (0.00 sec)"
            ],
            "text/plain": [
              "+-------------+-------------+----------------------------+\n",
              "| condition_1 | condition_2 | condtion_1_and_condition_2 |\n",
              "+-------------+-------------+----------------------------+\n",
              "| 1           | 1           | 1                          |\n",
              "+-------------+-------------+----------------------------+\n",
              "| 0           | 1           | 0                          |\n",
              "+-------------+-------------+----------------------------+\n",
              "| 1           | 1           | 1                          |\n",
              "+-------------+-------------+----------------------------+\n",
              "| 0           | 1           | 0                          |\n",
              "+-------------+-------------+----------------------------+\n",
              "| 0           | 1           | 0                          |\n",
              "+-------------+-------------+----------------------------+\n",
              "5 rows in set (0.00 sec)"
            ]
          },
          "execution_count": 11,
          "metadata": {},
          "output_type": "execute_result"
        }
      ],
      "source": [
        "%%sql\n",
        "SELECT release_year >= 1990 AS condition_1,\n",
        "       release_year <= 2010 AS condition_2,\n",
        "       release_year BETWEEN 1990 AND 2010 AS condtion_1_and_condition_2\n",
        "  FROM movies\n",
        " LIMIT 5;"
      ]
    },
    {
      "cell_type": "code",
      "execution_count": null,
      "id": "ad8cb468",
      "metadata": {
        "id": "ad8cb468",
        "outputId": "dbac9302-ce4d-4c51-9af7-e2ef5f5e3a40"
      },
      "outputs": [
        {
          "data": {
            "text/html": [
              "<table>\n",
              "<tr>\n",
              "<th>title</th>\n",
              "<th>release_year</th>\n",
              "</tr>\n",
              "<tr>\n",
              "<td>The Shawshank Redemption</td>\n",
              "<td>1994</td>\n",
              "</tr>\n",
              "<tr>\n",
              "<td>The Dark Knight</td>\n",
              "<td>2008</td>\n",
              "</tr>\n",
              "<tr>\n",
              "<td>Schindler's List</td>\n",
              "<td>1993</td>\n",
              "</tr>\n",
              "<tr>\n",
              "<td>The Lord of the Rings: The Return of the King</td>\n",
              "<td>2003</td>\n",
              "</tr>\n",
              "<tr>\n",
              "<td>Pulp Fiction</td>\n",
              "<td>1994</td>\n",
              "</tr>\n",
              "</table>\n",
              "5 rows in set (0.00 sec)"
            ],
            "text/plain": [
              "+-----------------------------------------------+--------------+\n",
              "| title                                         | release_year |\n",
              "+-----------------------------------------------+--------------+\n",
              "| The Shawshank Redemption                      | 1994         |\n",
              "+-----------------------------------------------+--------------+\n",
              "| The Dark Knight                               | 2008         |\n",
              "+-----------------------------------------------+--------------+\n",
              "| Schindler's List                              | 1993         |\n",
              "+-----------------------------------------------+--------------+\n",
              "| The Lord of the Rings: The Return of the King | 2003         |\n",
              "+-----------------------------------------------+--------------+\n",
              "| Pulp Fiction                                  | 1994         |\n",
              "+-----------------------------------------------+--------------+\n",
              "5 rows in set (0.00 sec)"
            ]
          },
          "execution_count": 12,
          "metadata": {},
          "output_type": "execute_result"
        }
      ],
      "source": [
        "%%sql\n",
        "SELECT title,\n",
        "       release_year\n",
        "  FROM movies\n",
        " WHERE release_year BETWEEN 1990 AND 2010\n",
        " LIMIT 5;"
      ]
    },
    {
      "cell_type": "markdown",
      "id": "later-toddler",
      "metadata": {
        "id": "later-toddler"
      },
      "source": [
        "使用 `OR` 結合兩個條件時，要兩者皆為假才為假，其餘狀況均為真。"
      ]
    },
    {
      "cell_type": "code",
      "execution_count": null,
      "id": "a3c11a44",
      "metadata": {
        "id": "a3c11a44",
        "outputId": "942f9826-9159-4a74-fd4e-4486230b76f6"
      },
      "outputs": [
        {
          "data": {
            "text/html": [
              "<table>\n",
              "<tr>\n",
              "<th>False</th>\n",
              "<th>True</th>\n",
              "<th>True</th>\n",
              "<th>True</th>\n",
              "</tr>\n",
              "<tr>\n",
              "<td>0</td>\n",
              "<td>1</td>\n",
              "<td>1</td>\n",
              "<td>1</td>\n",
              "</tr>\n",
              "</table>\n",
              "1 row in set (0.00 sec)"
            ],
            "text/plain": [
              "+-------+------+------+------+\n",
              "| False | True | True | True |\n",
              "+-------+------+------+------+\n",
              "| 0     | 1    | 1    | 1    |\n",
              "+-------+------+------+------+\n",
              "1 row in set (0.00 sec)"
            ]
          },
          "execution_count": 13,
          "metadata": {},
          "output_type": "execute_result"
        }
      ],
      "source": [
        "%%sql\n",
        "SELECT 0 OR 0 AS False,\n",
        "       0 OR 1 AS True,\n",
        "       1 OR 0 AS True,\n",
        "       1 OR 1 AS True;"
      ]
    },
    {
      "cell_type": "markdown",
      "id": "694450cc",
      "metadata": {
        "id": "694450cc"
      },
      "source": [
        "將 `OR` 應用在資料表欄位，所形成的判斷結果也會隨著列數而產生基於列的運算，因此最後從資料表中篩選的觀測值，會是 `condition_1_or_condition_2` 為 1（布林值 `True`）的觀測值。"
      ]
    },
    {
      "cell_type": "code",
      "execution_count": null,
      "id": "d150c563",
      "metadata": {
        "id": "d150c563",
        "outputId": "d500da8c-c066-487c-91e1-227bc93361c9"
      },
      "outputs": [
        {
          "data": {
            "text/html": [
              "<table>\n",
              "<tr>\n",
              "<th>condition_1</th>\n",
              "<th>condition_2</th>\n",
              "<th>condtion_1_or_condition_2</th>\n",
              "</tr>\n",
              "<tr>\n",
              "<td>0</td>\n",
              "<td>0</td>\n",
              "<td>0</td>\n",
              "</tr>\n",
              "<tr>\n",
              "<td>0</td>\n",
              "<td>0</td>\n",
              "<td>0</td>\n",
              "</tr>\n",
              "<tr>\n",
              "<td>0</td>\n",
              "<td>1</td>\n",
              "<td>1</td>\n",
              "</tr>\n",
              "<tr>\n",
              "<td>0</td>\n",
              "<td>0</td>\n",
              "<td>0</td>\n",
              "</tr>\n",
              "<tr>\n",
              "<td>0</td>\n",
              "<td>0</td>\n",
              "<td>0</td>\n",
              "</tr>\n",
              "<tr>\n",
              "<td>1</td>\n",
              "<td>0</td>\n",
              "<td>1</td>\n",
              "</tr>\n",
              "<tr>\n",
              "<td>0</td>\n",
              "<td>0</td>\n",
              "<td>0</td>\n",
              "</tr>\n",
              "<tr>\n",
              "<td>0</td>\n",
              "<td>0</td>\n",
              "<td>0</td>\n",
              "</tr>\n",
              "<tr>\n",
              "<td>0</td>\n",
              "<td>0</td>\n",
              "<td>0</td>\n",
              "</tr>\n",
              "<tr>\n",
              "<td>0</td>\n",
              "<td>0</td>\n",
              "<td>0</td>\n",
              "</tr>\n",
              "</table>\n",
              "10 rows in set (0.00 sec)"
            ],
            "text/plain": [
              "+-------------+-------------+---------------------------+\n",
              "| condition_1 | condition_2 | condtion_1_or_condition_2 |\n",
              "+-------------+-------------+---------------------------+\n",
              "| 0           | 0           | 0                         |\n",
              "+-------------+-------------+---------------------------+\n",
              "| 0           | 0           | 0                         |\n",
              "+-------------+-------------+---------------------------+\n",
              "| 0           | 1           | 1                         |\n",
              "+-------------+-------------+---------------------------+\n",
              "| 0           | 0           | 0                         |\n",
              "+-------------+-------------+---------------------------+\n",
              "| 0           | 0           | 0                         |\n",
              "+-------------+-------------+---------------------------+\n",
              "| 1           | 0           | 1                         |\n",
              "+-------------+-------------+---------------------------+\n",
              "| 0           | 0           | 0                         |\n",
              "+-------------+-------------+---------------------------+\n",
              "| 0           | 0           | 0                         |\n",
              "+-------------+-------------+---------------------------+\n",
              "| 0           | 0           | 0                         |\n",
              "+-------------+-------------+---------------------------+\n",
              "| 0           | 0           | 0                         |\n",
              "+-------------+-------------+---------------------------+\n",
              "10 rows in set (0.00 sec)"
            ]
          },
          "execution_count": 14,
          "metadata": {},
          "output_type": "execute_result"
        }
      ],
      "source": [
        "%%sql\n",
        "SELECT director = 'Steven Spielberg' AS condition_1,\n",
        "       director = 'Christopher Nolan' AS condition_2,\n",
        "       director = 'Steven Spielberg' OR director = 'Christopher Nolan' AS condtion_1_or_condition_2\n",
        "  FROM movies\n",
        " LIMIT 10;"
      ]
    },
    {
      "cell_type": "markdown",
      "id": "28fce0b4",
      "metadata": {
        "id": "28fce0b4"
      },
      "source": [
        "當我們以 `OR` 結合條件時，可以改使用 `IN` 作為關係運算符，並以小括號 `()` 表示欲判斷是否存在於的目標集合。"
      ]
    },
    {
      "cell_type": "code",
      "execution_count": null,
      "id": "2d5a1590",
      "metadata": {
        "id": "2d5a1590",
        "outputId": "bd1fd960-7fe5-4063-ad37-875876632156"
      },
      "outputs": [
        {
          "data": {
            "text/html": [
              "<table>\n",
              "<tr>\n",
              "<th>condition_1</th>\n",
              "<th>condition_2</th>\n",
              "<th>condtion_1_or_condition_2</th>\n",
              "</tr>\n",
              "<tr>\n",
              "<td>0</td>\n",
              "<td>0</td>\n",
              "<td>0</td>\n",
              "</tr>\n",
              "<tr>\n",
              "<td>0</td>\n",
              "<td>0</td>\n",
              "<td>0</td>\n",
              "</tr>\n",
              "<tr>\n",
              "<td>0</td>\n",
              "<td>1</td>\n",
              "<td>1</td>\n",
              "</tr>\n",
              "<tr>\n",
              "<td>0</td>\n",
              "<td>0</td>\n",
              "<td>0</td>\n",
              "</tr>\n",
              "<tr>\n",
              "<td>0</td>\n",
              "<td>0</td>\n",
              "<td>0</td>\n",
              "</tr>\n",
              "<tr>\n",
              "<td>1</td>\n",
              "<td>0</td>\n",
              "<td>1</td>\n",
              "</tr>\n",
              "<tr>\n",
              "<td>0</td>\n",
              "<td>0</td>\n",
              "<td>0</td>\n",
              "</tr>\n",
              "<tr>\n",
              "<td>0</td>\n",
              "<td>0</td>\n",
              "<td>0</td>\n",
              "</tr>\n",
              "<tr>\n",
              "<td>0</td>\n",
              "<td>0</td>\n",
              "<td>0</td>\n",
              "</tr>\n",
              "<tr>\n",
              "<td>0</td>\n",
              "<td>0</td>\n",
              "<td>0</td>\n",
              "</tr>\n",
              "</table>\n",
              "10 rows in set (0.00 sec)"
            ],
            "text/plain": [
              "+-------------+-------------+---------------------------+\n",
              "| condition_1 | condition_2 | condtion_1_or_condition_2 |\n",
              "+-------------+-------------+---------------------------+\n",
              "| 0           | 0           | 0                         |\n",
              "+-------------+-------------+---------------------------+\n",
              "| 0           | 0           | 0                         |\n",
              "+-------------+-------------+---------------------------+\n",
              "| 0           | 1           | 1                         |\n",
              "+-------------+-------------+---------------------------+\n",
              "| 0           | 0           | 0                         |\n",
              "+-------------+-------------+---------------------------+\n",
              "| 0           | 0           | 0                         |\n",
              "+-------------+-------------+---------------------------+\n",
              "| 1           | 0           | 1                         |\n",
              "+-------------+-------------+---------------------------+\n",
              "| 0           | 0           | 0                         |\n",
              "+-------------+-------------+---------------------------+\n",
              "| 0           | 0           | 0                         |\n",
              "+-------------+-------------+---------------------------+\n",
              "| 0           | 0           | 0                         |\n",
              "+-------------+-------------+---------------------------+\n",
              "| 0           | 0           | 0                         |\n",
              "+-------------+-------------+---------------------------+\n",
              "10 rows in set (0.00 sec)"
            ]
          },
          "execution_count": 15,
          "metadata": {},
          "output_type": "execute_result"
        }
      ],
      "source": [
        "%%sql\n",
        "SELECT director = 'Steven Spielberg' AS condition_1,\n",
        "       director = 'Christopher Nolan' AS condition_2,\n",
        "       director IN ('Steven Spielberg', 'Christopher Nolan') AS condtion_1_or_condition_2\n",
        "  FROM movies\n",
        " LIMIT 10;"
      ]
    },
    {
      "cell_type": "code",
      "execution_count": null,
      "id": "463fccca",
      "metadata": {
        "id": "463fccca",
        "outputId": "90e0b359-482d-4a0b-beb7-68867df80f58"
      },
      "outputs": [
        {
          "data": {
            "text/html": [
              "<table>\n",
              "<tr>\n",
              "<th>title</th>\n",
              "<th>director</th>\n",
              "</tr>\n",
              "<tr>\n",
              "<td>The Dark Knight</td>\n",
              "<td>Christopher Nolan</td>\n",
              "</tr>\n",
              "<tr>\n",
              "<td>Schindler's List</td>\n",
              "<td>Steven Spielberg</td>\n",
              "</tr>\n",
              "<tr>\n",
              "<td>Inception</td>\n",
              "<td>Christopher Nolan</td>\n",
              "</tr>\n",
              "<tr>\n",
              "<td>Saving Private Ryan</td>\n",
              "<td>Steven Spielberg</td>\n",
              "</tr>\n",
              "<tr>\n",
              "<td>Interstellar</td>\n",
              "<td>Christopher Nolan</td>\n",
              "</tr>\n",
              "</table>\n",
              "5 rows in set (0.00 sec)"
            ],
            "text/plain": [
              "+---------------------+-------------------+\n",
              "| title               | director          |\n",
              "+---------------------+-------------------+\n",
              "| The Dark Knight     | Christopher Nolan |\n",
              "+---------------------+-------------------+\n",
              "| Schindler's List    | Steven Spielberg  |\n",
              "+---------------------+-------------------+\n",
              "| Inception           | Christopher Nolan |\n",
              "+---------------------+-------------------+\n",
              "| Saving Private Ryan | Steven Spielberg  |\n",
              "+---------------------+-------------------+\n",
              "| Interstellar        | Christopher Nolan |\n",
              "+---------------------+-------------------+\n",
              "5 rows in set (0.00 sec)"
            ]
          },
          "execution_count": 16,
          "metadata": {},
          "output_type": "execute_result"
        }
      ],
      "source": [
        "%%sql\n",
        "SELECT title,\n",
        "       director\n",
        "  FROM movies\n",
        " WHERE director IN ('Steven Spielberg', 'Christopher Nolan')\n",
        " LIMIT 5;"
      ]
    },
    {
      "cell_type": "markdown",
      "id": "d11e14ca",
      "metadata": {
        "id": "d11e14ca"
      },
      "source": [
        "使用 `NOT` 可以將條件的判斷結果反轉，亦即真假互換。"
      ]
    },
    {
      "cell_type": "code",
      "execution_count": null,
      "id": "fae26ab9",
      "metadata": {
        "id": "fae26ab9",
        "outputId": "89ab9c72-946d-4559-eb2d-2930b6d99109"
      },
      "outputs": [
        {
          "data": {
            "text/html": [
              "<table>\n",
              "<tr>\n",
              "<th>False</th>\n",
              "<th>True</th>\n",
              "</tr>\n",
              "<tr>\n",
              "<td>0</td>\n",
              "<td>1</td>\n",
              "</tr>\n",
              "</table>\n",
              "1 row in set (0.00 sec)"
            ],
            "text/plain": [
              "+-------+------+\n",
              "| False | True |\n",
              "+-------+------+\n",
              "| 0     | 1    |\n",
              "+-------+------+\n",
              "1 row in set (0.00 sec)"
            ]
          },
          "execution_count": 17,
          "metadata": {},
          "output_type": "execute_result"
        }
      ],
      "source": [
        "%%sql\n",
        "SELECT NOT 1 AS False,\n",
        "       NOT 0 AS True;"
      ]
    },
    {
      "cell_type": "markdown",
      "id": "ff415cab",
      "metadata": {
        "id": "ff415cab"
      },
      "source": [
        "`NOT` 可以擺放在條件的前面，也可以放置在關係運算符之前，通常我們偏好唸起來與英文更相似的敘述，例如 `director NOT IN ('Steven Spielberg', 'Christopher Nolan')` 比 `NOT director IN ('Steven Spielberg', 'Christopher Nolan')` 更像英文，雖然查詢結果是相同的，但會使用前者這樣的敘述。"
      ]
    },
    {
      "cell_type": "code",
      "execution_count": null,
      "id": "67e32653",
      "metadata": {
        "id": "67e32653",
        "outputId": "bded9de4-b232-484c-bc9c-0bbaa07a2a6d"
      },
      "outputs": [
        {
          "data": {
            "text/html": [
              "<table>\n",
              "<tr>\n",
              "<th>title</th>\n",
              "<th>director</th>\n",
              "</tr>\n",
              "<tr>\n",
              "<td>The Shawshank Redemption</td>\n",
              "<td>Frank Darabont</td>\n",
              "</tr>\n",
              "<tr>\n",
              "<td>The Godfather</td>\n",
              "<td>Francis Ford Coppola</td>\n",
              "</tr>\n",
              "<tr>\n",
              "<td>The Godfather Part II</td>\n",
              "<td>Francis Ford Coppola</td>\n",
              "</tr>\n",
              "<tr>\n",
              "<td>12 Angry Men</td>\n",
              "<td>Sidney Lumet</td>\n",
              "</tr>\n",
              "<tr>\n",
              "<td>The Lord of the Rings: The Return of the King</td>\n",
              "<td>Peter Jackson</td>\n",
              "</tr>\n",
              "</table>\n",
              "5 rows in set (0.00 sec)"
            ],
            "text/plain": [
              "+-----------------------------------------------+----------------------+\n",
              "| title                                         | director             |\n",
              "+-----------------------------------------------+----------------------+\n",
              "| The Shawshank Redemption                      | Frank Darabont       |\n",
              "+-----------------------------------------------+----------------------+\n",
              "| The Godfather                                 | Francis Ford Coppola |\n",
              "+-----------------------------------------------+----------------------+\n",
              "| The Godfather Part II                         | Francis Ford Coppola |\n",
              "+-----------------------------------------------+----------------------+\n",
              "| 12 Angry Men                                  | Sidney Lumet         |\n",
              "+-----------------------------------------------+----------------------+\n",
              "| The Lord of the Rings: The Return of the King | Peter Jackson        |\n",
              "+-----------------------------------------------+----------------------+\n",
              "5 rows in set (0.00 sec)"
            ]
          },
          "execution_count": 18,
          "metadata": {},
          "output_type": "execute_result"
        }
      ],
      "source": [
        "%%sql\n",
        "SELECT title,\n",
        "       director\n",
        "  FROM movies\n",
        " WHERE director NOT IN ('Steven Spielberg', 'Christopher Nolan') -- preferred\n",
        " LIMIT 5;"
      ]
    },
    {
      "cell_type": "code",
      "execution_count": null,
      "id": "3fc5a30f",
      "metadata": {
        "id": "3fc5a30f",
        "outputId": "9aafdb2e-c099-4d1d-ed82-5debc9fe8b94"
      },
      "outputs": [
        {
          "data": {
            "text/html": [
              "<table>\n",
              "<tr>\n",
              "<th>title</th>\n",
              "<th>director</th>\n",
              "</tr>\n",
              "<tr>\n",
              "<td>The Shawshank Redemption</td>\n",
              "<td>Frank Darabont</td>\n",
              "</tr>\n",
              "<tr>\n",
              "<td>The Godfather</td>\n",
              "<td>Francis Ford Coppola</td>\n",
              "</tr>\n",
              "<tr>\n",
              "<td>The Godfather Part II</td>\n",
              "<td>Francis Ford Coppola</td>\n",
              "</tr>\n",
              "<tr>\n",
              "<td>12 Angry Men</td>\n",
              "<td>Sidney Lumet</td>\n",
              "</tr>\n",
              "<tr>\n",
              "<td>The Lord of the Rings: The Return of the King</td>\n",
              "<td>Peter Jackson</td>\n",
              "</tr>\n",
              "</table>\n",
              "5 rows in set (0.00 sec)"
            ],
            "text/plain": [
              "+-----------------------------------------------+----------------------+\n",
              "| title                                         | director             |\n",
              "+-----------------------------------------------+----------------------+\n",
              "| The Shawshank Redemption                      | Frank Darabont       |\n",
              "+-----------------------------------------------+----------------------+\n",
              "| The Godfather                                 | Francis Ford Coppola |\n",
              "+-----------------------------------------------+----------------------+\n",
              "| The Godfather Part II                         | Francis Ford Coppola |\n",
              "+-----------------------------------------------+----------------------+\n",
              "| 12 Angry Men                                  | Sidney Lumet         |\n",
              "+-----------------------------------------------+----------------------+\n",
              "| The Lord of the Rings: The Return of the King | Peter Jackson        |\n",
              "+-----------------------------------------------+----------------------+\n",
              "5 rows in set (0.00 sec)"
            ]
          },
          "execution_count": 19,
          "metadata": {},
          "output_type": "execute_result"
        }
      ],
      "source": [
        "%%sql\n",
        "SELECT title,\n",
        "       director\n",
        "  FROM movies\n",
        " WHERE NOT director IN ('Steven Spielberg', 'Christopher Nolan')\n",
        " LIMIT 5;"
      ]
    },
    {
      "cell_type": "markdown",
      "id": "stupid-devil",
      "metadata": {
        "id": "stupid-devil"
      },
      "source": [
        "## 空值的關係運算符\n",
        "\n",
        "`NULL` 空值不適用 `=` 或者 `!=` 關係運算符，必須以 `IS` 作為關係運算符才能夠判斷是否為空值，若逕自使用 `=` 或者 `!=` 則判斷結果依然為 `NULL` 空值，無法得到 0（布林值 `False`）或 1（布林值 `True`）的判斷結果。"
      ]
    },
    {
      "cell_type": "code",
      "execution_count": null,
      "id": "5a03f7d7",
      "metadata": {
        "id": "5a03f7d7",
        "outputId": "aebd29bf-bf6f-437a-ef4b-5138de63fd3f"
      },
      "outputs": [
        {
          "data": {
            "text/html": [
              "<table>\n",
              "<tr>\n",
              "<th>null_value</th>\n",
              "<th>null_value</th>\n",
              "<th>True</th>\n",
              "<th>False</th>\n",
              "</tr>\n",
              "<tr>\n",
              "<td>NULL</td>\n",
              "<td>NULL</td>\n",
              "<td>1</td>\n",
              "<td>0</td>\n",
              "</tr>\n",
              "</table>\n",
              "1 row in set (0.00 sec)"
            ],
            "text/plain": [
              "+------------+------------+------+-------+\n",
              "| null_value | null_value | True | False |\n",
              "+------------+------------+------+-------+\n",
              "| NULL       | NULL       | 1    | 0     |\n",
              "+------------+------------+------+-------+\n",
              "1 row in set (0.00 sec)"
            ]
          },
          "execution_count": 20,
          "metadata": {},
          "output_type": "execute_result"
        }
      ],
      "source": [
        "%%sql\n",
        "SELECT NULL = NULL AS null_value,\n",
        "       NULL != NULL AS null_value,\n",
        "       NULL IS NULL AS True,\n",
        "       NULL IS NOT NULL AS False;"
      ]
    },
    {
      "cell_type": "markdown",
      "id": "civic-industry",
      "metadata": {
        "id": "civic-industry"
      },
      "source": [
        "舉例來說，在 `covid19` 資料庫的 `lookup_table` 資料表中 `Province_State` 與 `Admin2` 欄都有不少空值的存在，如果對這兩欄分別使用 `=` 或者 `!=`，是無法得到 0（布林值 `False`）或 1（布林值 `True`）的判斷結果。"
      ]
    },
    {
      "cell_type": "code",
      "execution_count": null,
      "id": "cardiovascular-hanging",
      "metadata": {
        "id": "cardiovascular-hanging",
        "outputId": "7a2b2121-852e-42a8-a42f-619ef0a42cf1"
      },
      "outputs": [
        {
          "data": {
            "text/html": [
              "<table>\n",
              "<tr>\n",
              "<th>Province_State</th>\n",
              "<th>Admin2</th>\n",
              "<th>Province_State_equals_to_null</th>\n",
              "<th>Admin2_not_equals_to_null</th>\n",
              "</tr>\n",
              "<tr>\n",
              "<td>NULL</td>\n",
              "<td>NULL</td>\n",
              "<td>NULL</td>\n",
              "<td>NULL</td>\n",
              "</tr>\n",
              "<tr>\n",
              "<td>NULL</td>\n",
              "<td>NULL</td>\n",
              "<td>NULL</td>\n",
              "<td>NULL</td>\n",
              "</tr>\n",
              "<tr>\n",
              "<td>NULL</td>\n",
              "<td>NULL</td>\n",
              "<td>NULL</td>\n",
              "<td>NULL</td>\n",
              "</tr>\n",
              "<tr>\n",
              "<td>NULL</td>\n",
              "<td>NULL</td>\n",
              "<td>NULL</td>\n",
              "<td>NULL</td>\n",
              "</tr>\n",
              "<tr>\n",
              "<td>American Samoa</td>\n",
              "<td>NULL</td>\n",
              "<td>NULL</td>\n",
              "<td>NULL</td>\n",
              "</tr>\n",
              "</table>\n",
              "5 rows in set (0.00 sec)"
            ],
            "text/plain": [
              "+----------------+--------+-------------------------------+---------------------------+\n",
              "| Province_State | Admin2 | Province_State_equals_to_null | Admin2_not_equals_to_null |\n",
              "+----------------+--------+-------------------------------+---------------------------+\n",
              "| NULL           | NULL   | NULL                          | NULL                      |\n",
              "+----------------+--------+-------------------------------+---------------------------+\n",
              "| NULL           | NULL   | NULL                          | NULL                      |\n",
              "+----------------+--------+-------------------------------+---------------------------+\n",
              "| NULL           | NULL   | NULL                          | NULL                      |\n",
              "+----------------+--------+-------------------------------+---------------------------+\n",
              "| NULL           | NULL   | NULL                          | NULL                      |\n",
              "+----------------+--------+-------------------------------+---------------------------+\n",
              "| American Samoa | NULL   | NULL                          | NULL                      |\n",
              "+----------------+--------+-------------------------------+---------------------------+\n",
              "5 rows in set (0.00 sec)"
            ]
          },
          "execution_count": 21,
          "metadata": {},
          "output_type": "execute_result"
        }
      ],
      "source": [
        "%%sql\n",
        "SELECT Province_State,\n",
        "       Admin2,\n",
        "       Province_State = NULL AS Province_State_equals_to_null,\n",
        "       Admin2 != NULL AS Admin2_not_equals_to_null\n",
        "  FROM lookup_table\n",
        " LIMIT 5;"
      ]
    },
    {
      "cell_type": "markdown",
      "id": "16dda354",
      "metadata": {
        "id": "16dda354"
      },
      "source": [
        "必須以 `IS` 作為關係運算符才能夠判斷是否為空值。"
      ]
    },
    {
      "cell_type": "code",
      "execution_count": null,
      "id": "pressed-emission",
      "metadata": {
        "id": "pressed-emission",
        "outputId": "dac06462-b998-435b-b43f-a4e9f798ee00"
      },
      "outputs": [
        {
          "data": {
            "text/html": [
              "<table>\n",
              "<tr>\n",
              "<th>Province_State</th>\n",
              "<th>Admin2</th>\n",
              "<th>Province_State_is_null</th>\n",
              "<th>Admin2_is_not_null</th>\n",
              "</tr>\n",
              "<tr>\n",
              "<td>NULL</td>\n",
              "<td>NULL</td>\n",
              "<td>1</td>\n",
              "<td>0</td>\n",
              "</tr>\n",
              "<tr>\n",
              "<td>NULL</td>\n",
              "<td>NULL</td>\n",
              "<td>1</td>\n",
              "<td>0</td>\n",
              "</tr>\n",
              "<tr>\n",
              "<td>NULL</td>\n",
              "<td>NULL</td>\n",
              "<td>1</td>\n",
              "<td>0</td>\n",
              "</tr>\n",
              "<tr>\n",
              "<td>NULL</td>\n",
              "<td>NULL</td>\n",
              "<td>1</td>\n",
              "<td>0</td>\n",
              "</tr>\n",
              "<tr>\n",
              "<td>American Samoa</td>\n",
              "<td>NULL</td>\n",
              "<td>0</td>\n",
              "<td>0</td>\n",
              "</tr>\n",
              "</table>\n",
              "5 rows in set (0.00 sec)"
            ],
            "text/plain": [
              "+----------------+--------+------------------------+--------------------+\n",
              "| Province_State | Admin2 | Province_State_is_null | Admin2_is_not_null |\n",
              "+----------------+--------+------------------------+--------------------+\n",
              "| NULL           | NULL   | 1                      | 0                  |\n",
              "+----------------+--------+------------------------+--------------------+\n",
              "| NULL           | NULL   | 1                      | 0                  |\n",
              "+----------------+--------+------------------------+--------------------+\n",
              "| NULL           | NULL   | 1                      | 0                  |\n",
              "+----------------+--------+------------------------+--------------------+\n",
              "| NULL           | NULL   | 1                      | 0                  |\n",
              "+----------------+--------+------------------------+--------------------+\n",
              "| American Samoa | NULL   | 0                      | 0                  |\n",
              "+----------------+--------+------------------------+--------------------+\n",
              "5 rows in set (0.00 sec)"
            ]
          },
          "execution_count": 22,
          "metadata": {},
          "output_type": "execute_result"
        }
      ],
      "source": [
        "%%sql\n",
        "SELECT Province_State,\n",
        "       Admin2,\n",
        "       Province_State IS NULL AS Province_State_is_null,\n",
        "       Admin2 IS NOT NULL AS Admin2_is_not_null\n",
        "  FROM lookup_table\n",
        " LIMIT 5;"
      ]
    },
    {
      "cell_type": "code",
      "execution_count": null,
      "id": "8939320d",
      "metadata": {
        "id": "8939320d",
        "outputId": "173f20c8-f46a-4071-d800-5b0d577dd5c4"
      },
      "outputs": [
        {
          "data": {
            "text/html": [
              "<table>\n",
              "<tr>\n",
              "<th>Province_State</th>\n",
              "<th>Admin2</th>\n",
              "</tr>\n",
              "<tr>\n",
              "<td>Sint Eustatius and Saba</td>\n",
              "<td>Bonaire</td>\n",
              "</tr>\n",
              "<tr>\n",
              "<td>Ascension and Tristan da Cunha</td>\n",
              "<td>Saint Helena</td>\n",
              "</tr>\n",
              "<tr>\n",
              "<td>Puerto Rico</td>\n",
              "<td>Adjuntas</td>\n",
              "</tr>\n",
              "<tr>\n",
              "<td>Puerto Rico</td>\n",
              "<td>Aguada</td>\n",
              "</tr>\n",
              "<tr>\n",
              "<td>Puerto Rico</td>\n",
              "<td>Aguadilla</td>\n",
              "</tr>\n",
              "</table>\n",
              "5 rows in set (0.00 sec)"
            ],
            "text/plain": [
              "+--------------------------------+--------------+\n",
              "| Province_State                 | Admin2       |\n",
              "+--------------------------------+--------------+\n",
              "| Sint Eustatius and Saba        | Bonaire      |\n",
              "+--------------------------------+--------------+\n",
              "| Ascension and Tristan da Cunha | Saint Helena |\n",
              "+--------------------------------+--------------+\n",
              "| Puerto Rico                    | Adjuntas     |\n",
              "+--------------------------------+--------------+\n",
              "| Puerto Rico                    | Aguada       |\n",
              "+--------------------------------+--------------+\n",
              "| Puerto Rico                    | Aguadilla    |\n",
              "+--------------------------------+--------------+\n",
              "5 rows in set (0.00 sec)"
            ]
          },
          "execution_count": 23,
          "metadata": {},
          "output_type": "execute_result"
        }
      ],
      "source": [
        "%%sql\n",
        "SELECT Province_State,\n",
        "       Admin2\n",
        "  FROM lookup_table\n",
        " WHERE Province_State IS NOT NULL AND\n",
        "       Admin2 IS NOT NULL\n",
        " LIMIT 5;"
      ]
    },
    {
      "cell_type": "markdown",
      "id": "fb41728c",
      "metadata": {
        "id": "fb41728c"
      },
      "source": [
        "## 重點統整\n",
        "\n",
        "- 使用關係運算符衍生計算欄位，應用後所得到的 0（布林值 `False`）或 1（布林值 `True`）就是所謂的「條件」，將衍生計算所得的布林值放在 `WHERE` 保留字之後會將 1（布林值 `True`）的觀測值留在查詢結果中，就能完成從資料表篩選的任務。\n",
        "- 使用具備特徵比對（Pattern matching）性質的關係運算符 `LIKE`，使用 `LIKE` 作為關係運算符的時候要搭配萬用字元（Wildcards）來描述特徵。\n",
        "- 這個章節學起來的 SQL 保留字：\n",
        "    - `WHERE`\n",
        "- 將截至目前所學的 SQL 保留字集中在一個敘述中，寫作順序必須遵從標準 SQL 的規定。\n",
        "\n",
        "```sql\n",
        "SELECT DISTINCT columns AS alias\n",
        "  FROM table\n",
        " WHERE conditions\n",
        " ORDER BY columns DESC\n",
        " LIMIT m;\n",
        "```\n",
        "\n",
        "## 練習題 17-21\n",
        "\n",
        "練習題會涵蓋四個學習資料庫，記得要依據題目的需求，調整編輯器選單的學習資料庫，在自己電腦的 SQLiteStudio 寫出跟預期輸出相同的 SQL 敘述，寫作過程如果卡關了，可以參考附錄二「練習題參考解答」。\n",
        "\n",
        "### 17. 從 `covid19` 資料庫的 `time_series` 資料表將台灣的觀測值篩選出來，參考下列的預期查詢結果。\n",
        "\n",
        "預期輸出：(861, 4) 的查詢結果。"
      ]
    },
    {
      "cell_type": "code",
      "execution_count": null,
      "id": "cfdbfb47",
      "metadata": {
        "id": "cfdbfb47",
        "outputId": "c0490ead-cb8f-4bba-accf-aaaf9d51d40d"
      },
      "outputs": [
        {
          "data": {
            "text/html": [
              "<table>\n",
              "<tr>\n",
              "<th>Country_Region</th>\n",
              "<th>Date</th>\n",
              "<th>Confirmed</th>\n",
              "<th>Daily_Cases</th>\n",
              "</tr>\n",
              "<tr>\n",
              "<td>Taiwan</td>\n",
              "<td>2020-01-22</td>\n",
              "<td>1</td>\n",
              "<td>1</td>\n",
              "</tr>\n",
              "<tr>\n",
              "<td>Taiwan</td>\n",
              "<td>2020-01-23</td>\n",
              "<td>1</td>\n",
              "<td>0</td>\n",
              "</tr>\n",
              "<tr>\n",
              "<td>Taiwan</td>\n",
              "<td>2020-01-24</td>\n",
              "<td>3</td>\n",
              "<td>2</td>\n",
              "</tr>\n",
              "<tr>\n",
              "<td>Taiwan</td>\n",
              "<td>2020-01-25</td>\n",
              "<td>3</td>\n",
              "<td>0</td>\n",
              "</tr>\n",
              "<tr>\n",
              "<td>Taiwan</td>\n",
              "<td>2020-01-26</td>\n",
              "<td>4</td>\n",
              "<td>1</td>\n",
              "</tr>\n",
              "</table>\n",
              "5 rows in set (0.00 sec)"
            ],
            "text/plain": [
              "+----------------+------------+-----------+-------------+\n",
              "| Country_Region | Date       | Confirmed | Daily_Cases |\n",
              "+----------------+------------+-----------+-------------+\n",
              "| Taiwan         | 2020-01-22 | 1         | 1           |\n",
              "+----------------+------------+-----------+-------------+\n",
              "| Taiwan         | 2020-01-23 | 1         | 0           |\n",
              "+----------------+------------+-----------+-------------+\n",
              "| Taiwan         | 2020-01-24 | 3         | 2           |\n",
              "+----------------+------------+-----------+-------------+\n",
              "| Taiwan         | 2020-01-25 | 3         | 0           |\n",
              "+----------------+------------+-----------+-------------+\n",
              "| Taiwan         | 2020-01-26 | 4         | 1           |\n",
              "+----------------+------------+-----------+-------------+\n",
              "5 rows in set (0.00 sec)"
            ]
          },
          "execution_count": 24,
          "metadata": {},
          "output_type": "execute_result"
        }
      ],
      "source": [
        "-- 礙於紙本篇幅僅顯示出前五列示意\n",
        "%%sql\n"
      ]
    },
    {
      "cell_type": "markdown",
      "id": "50a86852",
      "metadata": {
        "id": "50a86852"
      },
      "source": [
        "### 18. 從 `imdb` 資料庫的 `movies` 資料表將上映年份為 1994 的電影篩選出來，參考下列的預期查詢結果。\n",
        "\n",
        "預期輸出：(5, 4) 的查詢結果。"
      ]
    },
    {
      "cell_type": "code",
      "execution_count": null,
      "id": "93501cd1",
      "metadata": {
        "id": "93501cd1",
        "outputId": "8633b934-7775-4a5f-bbf6-b02ad850928d"
      },
      "outputs": [
        {
          "data": {
            "text/html": [
              "<table>\n",
              "<tr>\n",
              "<th>title</th>\n",
              "<th>rating</th>\n",
              "<th>director</th>\n",
              "<th>runtime</th>\n",
              "</tr>\n",
              "<tr>\n",
              "<td>The Shawshank Redemption</td>\n",
              "<td>9.3</td>\n",
              "<td>Frank Darabont</td>\n",
              "<td>142</td>\n",
              "</tr>\n",
              "<tr>\n",
              "<td>Pulp Fiction</td>\n",
              "<td>8.9</td>\n",
              "<td>Quentin Tarantino</td>\n",
              "<td>154</td>\n",
              "</tr>\n",
              "<tr>\n",
              "<td>Forrest Gump</td>\n",
              "<td>8.8</td>\n",
              "<td>Robert Zemeckis</td>\n",
              "<td>142</td>\n",
              "</tr>\n",
              "<tr>\n",
              "<td>Léon: The Professional</td>\n",
              "<td>8.5</td>\n",
              "<td>Luc Besson</td>\n",
              "<td>110</td>\n",
              "</tr>\n",
              "<tr>\n",
              "<td>The Lion King</td>\n",
              "<td>8.5</td>\n",
              "<td>Roger Allers</td>\n",
              "<td>88</td>\n",
              "</tr>\n",
              "</table>\n",
              "5 rows in set (0.00 sec)"
            ],
            "text/plain": [
              "+--------------------------+--------+-------------------+---------+\n",
              "| title                    | rating | director          | runtime |\n",
              "+--------------------------+--------+-------------------+---------+\n",
              "| The Shawshank Redemption | 9.3    | Frank Darabont    | 142     |\n",
              "+--------------------------+--------+-------------------+---------+\n",
              "| Pulp Fiction             | 8.9    | Quentin Tarantino | 154     |\n",
              "+--------------------------+--------+-------------------+---------+\n",
              "| Forrest Gump             | 8.8    | Robert Zemeckis   | 142     |\n",
              "+--------------------------+--------+-------------------+---------+\n",
              "| Léon: The Professional  | 8.5    | Luc Besson        | 110     |\n",
              "+--------------------------+--------+-------------------+---------+\n",
              "| The Lion King            | 8.5    | Roger Allers      | 88      |\n",
              "+--------------------------+--------+-------------------+---------+\n",
              "5 rows in set (0.00 sec)"
            ]
          },
          "execution_count": 25,
          "metadata": {},
          "output_type": "execute_result"
        }
      ],
      "source": [
        "%%sql\n"
      ]
    },
    {
      "cell_type": "markdown",
      "id": "c8665c90",
      "metadata": {
        "id": "c8665c90"
      },
      "source": [
        "### 19. 從 `imdb` 資料庫的 `actors` 資料表將 Tom Hanks、Christian Bale、Leonardo DiCaprio 篩選出來，參考下列的預期查詢結果。\n",
        "\n",
        "註：Tom Hanks 是一位著名的美國男演員及電視製片人，以演技精湛而著稱。他是歷史上第2位連續兩屆獲得奧斯卡金像獎最佳男主角獎的演員，亦是最年輕獲得美國電影學會終身成就獎的演員。Christian Bale 是一名英國男演員和電影製片人，在蝙蝠俠三部曲中飾演 Bruce Wayne 獲得了廣泛讚揚及商業認可。Leonardo DiCaprio 是一位美國著名男演員、電影製片人兼環保概念的推動者，出演了由史詩愛情片鐵達尼號知名度大開。\n",
        "\n",
        "來源: Wikipedia\n",
        "\n",
        "預期輸出：(3, 2) 的查詢結果。"
      ]
    },
    {
      "cell_type": "code",
      "execution_count": null,
      "id": "2ed2844b",
      "metadata": {
        "id": "2ed2844b",
        "outputId": "3c3d5057-77d5-405a-a5e5-83060a044543"
      },
      "outputs": [
        {
          "data": {
            "text/html": [
              "<table>\n",
              "<tr>\n",
              "<th>id</th>\n",
              "<th>name</th>\n",
              "</tr>\n",
              "<tr>\n",
              "<td>518</td>\n",
              "<td>Christian Bale</td>\n",
              "</tr>\n",
              "<tr>\n",
              "<td>1860</td>\n",
              "<td>Leonardo DiCaprio</td>\n",
              "</tr>\n",
              "<tr>\n",
              "<td>2957</td>\n",
              "<td>Tom Hanks</td>\n",
              "</tr>\n",
              "</table>\n",
              "3 rows in set (0.00 sec)"
            ],
            "text/plain": [
              "+------+-------------------+\n",
              "| id   | name              |\n",
              "+------+-------------------+\n",
              "| 518  | Christian Bale    |\n",
              "+------+-------------------+\n",
              "| 1860 | Leonardo DiCaprio |\n",
              "+------+-------------------+\n",
              "| 2957 | Tom Hanks         |\n",
              "+------+-------------------+\n",
              "3 rows in set (0.00 sec)"
            ]
          },
          "execution_count": 26,
          "metadata": {},
          "output_type": "execute_result"
        }
      ],
      "source": [
        "%%sql\n"
      ]
    },
    {
      "cell_type": "markdown",
      "id": "954319df",
      "metadata": {
        "id": "954319df"
      },
      "source": [
        "### 20. 從 `imdb` 資料庫的 `movies` 資料表篩選出由 Christopher Nolan 或 Peter Jackson 所導演的電影，參考下列的預期查詢結果。\n",
        "\n",
        "註：Christopher Nolan 是一名英國導演、編劇及監製，他的十部電影在全球獲得超過 47 億美元的票房，執導著名電影包含「黑暗騎士三部曲」、全面啟動、星際效應及敦克爾克大行動；Peter Jackson 是一名紐西蘭導演、編劇及監製，執導最出名的作品是「魔戒電影三部曲」與「哈比人電影系列」。\n",
        "\n",
        "來源: Wikipedia\n",
        "\n",
        "預期輸出：(10, 2) 的查詢結果。"
      ]
    },
    {
      "cell_type": "code",
      "execution_count": null,
      "id": "1b436535",
      "metadata": {
        "id": "1b436535",
        "outputId": "4e5bdb01-7a54-4ddd-a345-67b6f1f4c0a3"
      },
      "outputs": [
        {
          "data": {
            "text/html": [
              "<table>\n",
              "<tr>\n",
              "<th>title</th>\n",
              "<th>director</th>\n",
              "</tr>\n",
              "<tr>\n",
              "<td>The Dark Knight</td>\n",
              "<td>Christopher Nolan</td>\n",
              "</tr>\n",
              "<tr>\n",
              "<td>Inception</td>\n",
              "<td>Christopher Nolan</td>\n",
              "</tr>\n",
              "<tr>\n",
              "<td>Interstellar</td>\n",
              "<td>Christopher Nolan</td>\n",
              "</tr>\n",
              "<tr>\n",
              "<td>The Prestige</td>\n",
              "<td>Christopher Nolan</td>\n",
              "</tr>\n",
              "<tr>\n",
              "<td>Memento</td>\n",
              "<td>Christopher Nolan</td>\n",
              "</tr>\n",
              "<tr>\n",
              "<td>The Dark Knight Rises</td>\n",
              "<td>Christopher Nolan</td>\n",
              "</tr>\n",
              "<tr>\n",
              "<td>Batman Begins</td>\n",
              "<td>Christopher Nolan</td>\n",
              "</tr>\n",
              "<tr>\n",
              "<td>The Lord of the Rings: The Return of the King</td>\n",
              "<td>Peter Jackson</td>\n",
              "</tr>\n",
              "<tr>\n",
              "<td>The Lord of the Rings: The Fellowship of the Ring</td>\n",
              "<td>Peter Jackson</td>\n",
              "</tr>\n",
              "<tr>\n",
              "<td>The Lord of the Rings: The Two Towers</td>\n",
              "<td>Peter Jackson</td>\n",
              "</tr>\n",
              "</table>\n",
              "10 rows in set (0.00 sec)"
            ],
            "text/plain": [
              "+---------------------------------------------------+-------------------+\n",
              "| title                                             | director          |\n",
              "+---------------------------------------------------+-------------------+\n",
              "| The Dark Knight                                   | Christopher Nolan |\n",
              "+---------------------------------------------------+-------------------+\n",
              "| Inception                                         | Christopher Nolan |\n",
              "+---------------------------------------------------+-------------------+\n",
              "| Interstellar                                      | Christopher Nolan |\n",
              "+---------------------------------------------------+-------------------+\n",
              "| The Prestige                                      | Christopher Nolan |\n",
              "+---------------------------------------------------+-------------------+\n",
              "| Memento                                           | Christopher Nolan |\n",
              "+---------------------------------------------------+-------------------+\n",
              "| The Dark Knight Rises                             | Christopher Nolan |\n",
              "+---------------------------------------------------+-------------------+\n",
              "| Batman Begins                                     | Christopher Nolan |\n",
              "+---------------------------------------------------+-------------------+\n",
              "| The Lord of the Rings: The Return of the King     | Peter Jackson     |\n",
              "+---------------------------------------------------+-------------------+\n",
              "| The Lord of the Rings: The Fellowship of the Ring | Peter Jackson     |\n",
              "+---------------------------------------------------+-------------------+\n",
              "| The Lord of the Rings: The Two Towers             | Peter Jackson     |\n",
              "+---------------------------------------------------+-------------------+\n",
              "10 rows in set (0.00 sec)"
            ]
          },
          "execution_count": 27,
          "metadata": {},
          "output_type": "execute_result"
        }
      ],
      "source": [
        "%%sql\n"
      ]
    },
    {
      "cell_type": "markdown",
      "id": "0d202016",
      "metadata": {
        "id": "0d202016"
      },
      "source": [
        "### 21. 從 `covid19` 資料庫的 `lookup_table` 資料表篩選出 `Country_Region` 名稱有 land 的國家，參考下列的預期查詢結果。\n",
        "\n",
        "預期輸出：(10, 1) 的查詢結果。"
      ]
    },
    {
      "cell_type": "code",
      "execution_count": null,
      "id": "ca8cef0e",
      "metadata": {
        "id": "ca8cef0e",
        "outputId": "96bf4615-b8ec-4f01-fb93-d1be1b23196f"
      },
      "outputs": [
        {
          "data": {
            "text/html": [
              "<table>\n",
              "<tr>\n",
              "<th>Country_Region</th>\n",
              "</tr>\n",
              "<tr>\n",
              "<td>Solomon Islands</td>\n",
              "</tr>\n",
              "<tr>\n",
              "<td>New Zealand</td>\n",
              "</tr>\n",
              "<tr>\n",
              "<td>Finland</td>\n",
              "</tr>\n",
              "<tr>\n",
              "<td>Iceland</td>\n",
              "</tr>\n",
              "<tr>\n",
              "<td>Ireland</td>\n",
              "</tr>\n",
              "<tr>\n",
              "<td>Netherlands</td>\n",
              "</tr>\n",
              "<tr>\n",
              "<td>Marshall Islands</td>\n",
              "</tr>\n",
              "<tr>\n",
              "<td>Poland</td>\n",
              "</tr>\n",
              "<tr>\n",
              "<td>Switzerland</td>\n",
              "</tr>\n",
              "<tr>\n",
              "<td>Thailand</td>\n",
              "</tr>\n",
              "</table>\n",
              "10 rows in set (0.00 sec)"
            ],
            "text/plain": [
              "+------------------+\n",
              "| Country_Region   |\n",
              "+------------------+\n",
              "| Solomon Islands  |\n",
              "+------------------+\n",
              "| New Zealand      |\n",
              "+------------------+\n",
              "| Finland          |\n",
              "+------------------+\n",
              "| Iceland          |\n",
              "+------------------+\n",
              "| Ireland          |\n",
              "+------------------+\n",
              "| Netherlands      |\n",
              "+------------------+\n",
              "| Marshall Islands |\n",
              "+------------------+\n",
              "| Poland           |\n",
              "+------------------+\n",
              "| Switzerland      |\n",
              "+------------------+\n",
              "| Thailand         |\n",
              "+------------------+\n",
              "10 rows in set (0.00 sec)"
            ]
          },
          "execution_count": 28,
          "metadata": {},
          "output_type": "execute_result"
        }
      ],
      "source": [
        "%%sql\n"
      ]
    }
  ],
  "metadata": {
    "kernelspec": {
      "display_name": "xsql",
      "language": "sqlite",
      "name": "xsql"
    },
    "language_info": {
      "codemirror_mode": "sql",
      "file_extension": "",
      "mimetype": "",
      "name": "mysql",
      "version": "0.1.5"
    },
    "colab": {
      "provenance": [],
      "include_colab_link": true
    }
  },
  "nbformat": 4,
  "nbformat_minor": 5
}