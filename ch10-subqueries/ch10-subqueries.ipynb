{
  "cells": [
    {
      "cell_type": "markdown",
      "metadata": {
        "id": "view-in-github",
        "colab_type": "text"
      },
      "source": [
        "<a href=\"https://colab.research.google.com/github/ccwu0918/book-sqlfifty/blob/main/ch10-subqueries/ch10-subqueries.ipynb\" target=\"_parent\"><img src=\"https://colab.research.google.com/assets/colab-badge.svg\" alt=\"Open In Colab\"/></a>"
      ]
    },
    {
      "cell_type": "markdown",
      "id": "lightweight-fruit",
      "metadata": {
        "id": "lightweight-fruit"
      },
      "source": [
        "# SQL 的五十道練習：初學者友善的資料庫入門\n",
        "\n",
        "> 子查詢"
      ]
    },
    {
      "cell_type": "markdown",
      "id": "9df38620",
      "metadata": {
        "id": "9df38620"
      },
      "source": [
        "讀者如果是資料科學的初學者，可以略過下述的程式碼；讀者如果不是資料科學的初學者，欲使用 JupyterLab 執行本章節內容，必須先執行下述程式碼載入所需模組與連接資料庫。"
      ]
    },
    {
      "cell_type": "code",
      "source": [
        "!pip install SQLAlchemy==1.4.46"
      ],
      "metadata": {
        "id": "vMMOCsytJ98k"
      },
      "id": "vMMOCsytJ98k",
      "execution_count": null,
      "outputs": []
    },
    {
      "cell_type": "code",
      "source": [
        "!git clone https://github.com/ccwu0918/book-sqlfifty"
      ],
      "metadata": {
        "id": "B5I8cc9KKCud"
      },
      "id": "B5I8cc9KKCud",
      "execution_count": null,
      "outputs": []
    },
    {
      "cell_type": "code",
      "execution_count": null,
      "id": "matched-spyware",
      "metadata": {
        "id": "matched-spyware"
      },
      "outputs": [],
      "source": [
        "# %LOAD sqlite3 db=../databases/imdb.db timeout=2 shared_cache=true"
      ]
    },
    {
      "cell_type": "code",
      "source": [
        "import sqlite3\n",
        "import unittest\n",
        "import json\n",
        "import os\n",
        "import numpy as np\n",
        "import pandas as pd\n",
        "conn = sqlite3.connect('./databases/imdb.db')\n",
        "conn.execute(\"\"\"ATTACH './databases/covid19.db' AS covid19\"\"\")\n",
        "conn.execute(\"\"\"ATTACH './databases/twElection2020.db' AS twElection2020\"\"\")\n",
        "conn.execute(\"\"\"ATTACH './databases/nba.db' AS nba\"\"\")\n",
        "conn.execute(\"\"\"ATTACH './databases/northwind.db' AS Northwind\"\"\")\n",
        "conn.execute(\"\"\"ATTACH './databases/Chinook_Sqlite.sqlite' AS Chinook\"\"\")"
      ],
      "metadata": {
        "id": "a4MBVX70KHnM"
      },
      "id": "a4MBVX70KHnM",
      "execution_count": null,
      "outputs": []
    },
    {
      "cell_type": "code",
      "source": [
        "# %%capture\n",
        "# load the SQL magic extension\n",
        "# https://github.com/catherinedevlin/ipython-sql\n",
        "# this extension allows us to connect to DBs and issue SQL command\n",
        "%load_ext sql\n",
        "\n",
        "# now we can use the magic extension to connect to our SQLite DB\n",
        "# use %sql to write an inline SQL command\n",
        "# use %%sql to write SQL commands in a cell\n",
        "%sql sqlite:///databases/imdb.db"
      ],
      "metadata": {
        "id": "QlCJWeNRKLfL"
      },
      "id": "QlCJWeNRKLfL",
      "execution_count": null,
      "outputs": []
    },
    {
      "cell_type": "code",
      "source": [
        "%%sql\n",
        "ATTACH \"./databases/covid19.db\" AS covid19;\n",
        "ATTACH \"./databases/twElection2020.db\" AS twElection2020;\n",
        "ATTACH \"./databases/nba.db\" AS nba;\n",
        "ATTACH \"./databases/northwind.db\" AS Northwind;\n",
        "ATTACH \"./databases/Chinook_Sqlite.sqlite\" AS Chinook;"
      ],
      "metadata": {
        "id": "GhTDeltpKRp_"
      },
      "id": "GhTDeltpKRp_",
      "execution_count": null,
      "outputs": []
    },
    {
      "cell_type": "markdown",
      "id": "supposed-spread",
      "metadata": {
        "id": "supposed-spread"
      },
      "source": [
        "## 複習一下\n",
        "\n",
        "在第五章「函數」我們提過複合函數（Composite functions）的概念，意即在函數中包括函數、先後使用多個函數，先使用的函數輸出將會成為後使用的函數輸入。舉例來說，`SUBSTR()` 函數的輸出為 `'Bos'`，成為 `UPPER()` 函數的輸入，最後的輸出為 `'BOS'`。"
      ]
    },
    {
      "cell_type": "code",
      "execution_count": null,
      "id": "d40a6859",
      "metadata": {
        "id": "d40a6859",
        "outputId": "f5a1323f-bbaf-4b84-dad1-667c9c7101f1"
      },
      "outputs": [
        {
          "data": {
            "text/html": [
              "<table>\n",
              "<tr>\n",
              "<th>city</th>\n",
              "<th>composite_function</th>\n",
              "</tr>\n",
              "<tr>\n",
              "<td>Boston</td>\n",
              "<td>BOS</td>\n",
              "</tr>\n",
              "</table>\n",
              "1 row in set (0.00 sec)"
            ],
            "text/plain": [
              "+--------+--------------------+\n",
              "| city   | composite_function |\n",
              "+--------+--------------------+\n",
              "| Boston | BOS                |\n",
              "+--------+--------------------+\n",
              "1 row in set (0.00 sec)"
            ]
          },
          "execution_count": 4,
          "metadata": {},
          "output_type": "execute_result"
        }
      ],
      "source": [
        "%%sql\n",
        "SELECT 'Boston' AS city,\n",
        "       UPPER(SUBSTR('Boston', 1, 3)) AS composite_function;"
      ]
    },
    {
      "cell_type": "markdown",
      "id": "ca721ec9",
      "metadata": {
        "id": "ca721ec9"
      },
      "source": [
        "## 子查詢\n",
        "\n",
        "如果是一段 SQL 敘述中包括另外一段 SQL 敘述、先後使用多個 SQL 敘述，先執行的 SQL 敘述查詢結果將會成回後執行的 SQL 敘述中的依據，這樣的 SQL 敘述結構就稱為子查詢（Subquery）。常見的子查詢結構有三種外型：\n",
        "\n",
        "1. 接續在 `WHERE` 保留字後的結構外型。\n",
        "\n",
        "```sql\n",
        "SELECT columns\n",
        "  FROM table\n",
        " WHERE (SELECT columns FROM table ...);\n",
        "```\n",
        "\n",
        "2. 接續在 `SELECT` 保留字後的結構外型。\n",
        "\n",
        "```sql\n",
        "SELECT (SELECT columns FROM table ...)\n",
        "  FROM table;\n",
        "```\n",
        "\n",
        "3. 接續在 `FROM` 保留字後的結構外型，這裡要注意的是先前別名是針對欄位名稱，這裡則是將先執行的 SQL 敘述查詢結果視為像資料表（實際上並不是）的存在。\n",
        "\n",
        "```sql\n",
        "SELECT columns\n",
        "  FROM (SELECT columns FROM table ...) AS alias;\n",
        "```\n",
        "\n",
        "## 常見的子查詢應用情境\n",
        "\n",
        "檢視常見的三種子查詢結構外型，可以概略猜到子查詢的應用情境。接續在 `WHERE` 保留字後的結構外型，應用於篩選資料表觀測值的條件必須要先經過一個 SQL 敘述查詢才能夠建立；接續在 `SELECT` 保留字後的結構外型，應用於衍生計算欄位的算式部分必須要先經過一個 SQL 敘述查詢才能夠獲得；接續在 `FROM` 保留字後的結構外型，應用於將先執行的 SQL 敘述查詢結果視為像資料表（實際上並不是）對待來取得所需資訊。\n",
        "\n",
        "情境一是接續在 `WHERE` 保留字後的結構外型，舉例來說，我們想知道片長 `runtime` 最短的電影是哪一部？假定最短片長為 `x`，我們可以寫出以下的 SQL 敘述得到這個問題的答案：\n",
        "\n",
        "```sql\n",
        "SELECT title,\n",
        "       runtime\n",
        "  FROM movies\n",
        " WHERE runtime = x;\n",
        "```\n",
        "\n",
        "但是 `x` 必須要先經過一個 SQL 敘述查詢才能得知為多少，獲得關鍵 `x` 的 SQL 敘述為："
      ]
    },
    {
      "cell_type": "code",
      "execution_count": null,
      "id": "777b5d81",
      "metadata": {
        "id": "777b5d81",
        "outputId": "75a70955-dbe3-41c2-ac89-57cb19a10618"
      },
      "outputs": [
        {
          "data": {
            "text/html": [
              "<table>\n",
              "<tr>\n",
              "<th>min_runtime</th>\n",
              "</tr>\n",
              "<tr>\n",
              "<td>45</td>\n",
              "</tr>\n",
              "</table>\n",
              "1 row in set (0.00 sec)"
            ],
            "text/plain": [
              "+-------------+\n",
              "| min_runtime |\n",
              "+-------------+\n",
              "| 45          |\n",
              "+-------------+\n",
              "1 row in set (0.00 sec)"
            ]
          },
          "execution_count": 5,
          "metadata": {},
          "output_type": "execute_result"
        }
      ],
      "source": [
        "%%sql\n",
        "SELECT MIN(runtime) AS min_runtime\n",
        "  FROM movies;"
      ]
    },
    {
      "cell_type": "markdown",
      "id": "structural-november",
      "metadata": {
        "id": "structural-november"
      },
      "source": [
        "接著我們可以將 `x` 替換為 SQL 敘述，並用小括號 `()` 包裝起來，就能成功將本來應該分兩次、先後執行的 SQL 敘述，調整為子查詢的結構外型。"
      ]
    },
    {
      "cell_type": "code",
      "execution_count": null,
      "id": "032d40c9",
      "metadata": {
        "id": "032d40c9",
        "outputId": "5f1c9719-826f-45fd-8e1e-be9aa91bc245"
      },
      "outputs": [
        {
          "data": {
            "text/html": [
              "<table>\n",
              "<tr>\n",
              "<th>title</th>\n",
              "<th>runtime</th>\n",
              "</tr>\n",
              "<tr>\n",
              "<td>Sherlock Jr.</td>\n",
              "<td>45</td>\n",
              "</tr>\n",
              "</table>\n",
              "1 row in set (0.00 sec)"
            ],
            "text/plain": [
              "+--------------+---------+\n",
              "| title        | runtime |\n",
              "+--------------+---------+\n",
              "| Sherlock Jr. | 45      |\n",
              "+--------------+---------+\n",
              "1 row in set (0.00 sec)"
            ]
          },
          "execution_count": 6,
          "metadata": {},
          "output_type": "execute_result"
        }
      ],
      "source": [
        "%%sql\n",
        "SELECT title,\n",
        "       runtime\n",
        "  FROM movies\n",
        " WHERE runtime = (\n",
        "                     SELECT MIN(runtime) AS min_runtime\n",
        "                       FROM movies\n",
        "                 );"
      ]
    },
    {
      "cell_type": "markdown",
      "id": "b52ac9ea",
      "metadata": {
        "id": "b52ac9ea"
      },
      "source": [
        "值得注意的地方有兩個，一是子查詢的結構外型也只能有一個分號 `;` 來標註 SQL 敘述的結束，因此替換之後要記得只留下最後執行 SQL 敘述的分號。二是替換之後因為排版變得比較亂，這時可以善用 SQLiteStudio 的 Format SQL 功能讓寫作的 SQL 敘述之編排、格式和設計具備更高的可讀性。\n",
        "\n",
        "![](https://github.com/ccwu0918/book-sqlfifty/blob/main/images/format-03.png?raw=1)\n",
        "\n",
        "![](https://github.com/ccwu0918/book-sqlfifty/blob/main/images/format-04.png?raw=1)\n",
        "\n",
        "情境二是接續在 `SELECT` 保留字後的結構外型，舉例來說，我們想知道在千禧年（西元 2000 年）之後上映的電影佔比為多少？假定在千禧年（西元 2000 年）之後上映的電影有 `x` 部，我們可以寫出以下的 SQL 敘述得到這個問題的答案：\n",
        "\n",
        "```sql\n",
        "SELECT x * 1.0 / COUNT(*) AS after_millennium_ratio\n",
        "  FROM movies;\n",
        "```\n",
        "\n",
        "但是 `x` 必須要先經過一個 SQL 敘述查詢才能得知為多少，獲得關鍵 `x` 的 SQL 敘述為："
      ]
    },
    {
      "cell_type": "code",
      "execution_count": null,
      "id": "6e7fd565",
      "metadata": {
        "id": "6e7fd565",
        "outputId": "234c096f-29f8-4f1f-f27e-dbd5b4990610"
      },
      "outputs": [
        {
          "data": {
            "text/html": [
              "<table>\n",
              "<tr>\n",
              "<th>count_after_millennium</th>\n",
              "</tr>\n",
              "<tr>\n",
              "<td>96</td>\n",
              "</tr>\n",
              "</table>\n",
              "1 row in set (0.00 sec)"
            ],
            "text/plain": [
              "+------------------------+\n",
              "| count_after_millennium |\n",
              "+------------------------+\n",
              "| 96                     |\n",
              "+------------------------+\n",
              "1 row in set (0.00 sec)"
            ]
          },
          "execution_count": 7,
          "metadata": {},
          "output_type": "execute_result"
        }
      ],
      "source": [
        "%%sql\n",
        "SELECT COUNT(*) AS count_after_millennium\n",
        "  FROM movies\n",
        " WHERE release_year >= 2000;"
      ]
    },
    {
      "cell_type": "markdown",
      "id": "3889f205",
      "metadata": {
        "id": "3889f205"
      },
      "source": [
        "接著我們可以將 `x` 替換為 SQL 敘述，並用小括號 `()` 包裝起來，就能成功將本來應該分兩次、先後執行的 SQL 敘述，調整為子查詢的結構外型。"
      ]
    },
    {
      "cell_type": "code",
      "execution_count": null,
      "id": "52b24ee2",
      "metadata": {
        "id": "52b24ee2",
        "outputId": "e942c61d-60d1-42fb-86b4-1f94b7866c76"
      },
      "outputs": [
        {
          "data": {
            "text/html": [
              "<table>\n",
              "<tr>\n",
              "<th>after_millennium_ratio</th>\n",
              "</tr>\n",
              "<tr>\n",
              "<td>0.384</td>\n",
              "</tr>\n",
              "</table>\n",
              "1 row in set (0.00 sec)"
            ],
            "text/plain": [
              "+------------------------+\n",
              "| after_millennium_ratio |\n",
              "+------------------------+\n",
              "| 0.384                  |\n",
              "+------------------------+\n",
              "1 row in set (0.00 sec)"
            ]
          },
          "execution_count": 8,
          "metadata": {},
          "output_type": "execute_result"
        }
      ],
      "source": [
        "%%sql\n",
        "SELECT (\n",
        "           SELECT COUNT( * ) AS count_after_millennium\n",
        "             FROM movies\n",
        "            WHERE release_year >= 2000\n",
        "       )* 1.0 / COUNT( * ) AS after_millennium_ratio\n",
        "  FROM movies;"
      ]
    },
    {
      "cell_type": "markdown",
      "id": "5902b323",
      "metadata": {
        "id": "5902b323"
      },
      "source": [
        "情境三是接續在 `FROM` 保留字後的結構外型，舉例來說，我們想知道不同年份 `release_year` 上映的電影平均評等有哪些年份是大於等於 8.5 的？在第九章「分組與聚合結果篩選」我們提過針對分組聚合的結果應用 `WHERE` 是不被允許的，應該要改使用分組聚合版本的 `HAVING` 保留字加上帶有聚合函數的條件。"
      ]
    },
    {
      "cell_type": "code",
      "execution_count": null,
      "id": "42a0e9b4",
      "metadata": {
        "id": "42a0e9b4",
        "outputId": "6fcd51eb-e030-4ea6-bc01-0d286944a926"
      },
      "outputs": [
        {
          "data": {
            "text/html": [
              "<table>\n",
              "<tr>\n",
              "<th>release_year</th>\n",
              "<th>avg_rating</th>\n",
              "</tr>\n",
              "<tr>\n",
              "<td>1936</td>\n",
              "<td>8.5</td>\n",
              "</tr>\n",
              "<tr>\n",
              "<td>1972</td>\n",
              "<td>9.2</td>\n",
              "</tr>\n",
              "<tr>\n",
              "<td>1974</td>\n",
              "<td>8.6</td>\n",
              "</tr>\n",
              "<tr>\n",
              "<td>1977</td>\n",
              "<td>8.6</td>\n",
              "</tr>\n",
              "<tr>\n",
              "<td>1994</td>\n",
              "<td>8.8</td>\n",
              "</tr>\n",
              "<tr>\n",
              "<td>1999</td>\n",
              "<td>8.54</td>\n",
              "</tr>\n",
              "<tr>\n",
              "<td>2002</td>\n",
              "<td>8.5</td>\n",
              "</tr>\n",
              "<tr>\n",
              "<td>2008</td>\n",
              "<td>8.5</td>\n",
              "</tr>\n",
              "</table>\n",
              "8 rows in set (0.00 sec)"
            ],
            "text/plain": [
              "+--------------+------------+\n",
              "| release_year | avg_rating |\n",
              "+--------------+------------+\n",
              "| 1936         | 8.5        |\n",
              "+--------------+------------+\n",
              "| 1972         | 9.2        |\n",
              "+--------------+------------+\n",
              "| 1974         | 8.6        |\n",
              "+--------------+------------+\n",
              "| 1977         | 8.6        |\n",
              "+--------------+------------+\n",
              "| 1994         | 8.8        |\n",
              "+--------------+------------+\n",
              "| 1999         | 8.54       |\n",
              "+--------------+------------+\n",
              "| 2002         | 8.5        |\n",
              "+--------------+------------+\n",
              "| 2008         | 8.5        |\n",
              "+--------------+------------+\n",
              "8 rows in set (0.00 sec)"
            ]
          },
          "execution_count": 9,
          "metadata": {},
          "output_type": "execute_result"
        }
      ],
      "source": [
        "%%sql\n",
        "SELECT release_year,\n",
        "       AVG(rating) AS avg_rating\n",
        "  FROM movies\n",
        " GROUP BY release_year\n",
        "HAVING AVG(rating) >= 8.5;"
      ]
    },
    {
      "cell_type": "markdown",
      "id": "fc13291f",
      "metadata": {
        "id": "fc13291f"
      },
      "source": [
        "除了前述改使用分組聚合版本的 `HAVING` 保留字加上帶有聚合函數的條件以外，我們也能透過子查詢來完成。假定有一個資料表 `avg_rating_by_release_year` 記錄了不同年份 `release_year` 上映的電影平均評等，我們可以寫出以下的 SQL 敘述得到這個問題的答案：\n",
        "\n",
        "```sql\n",
        "SELECT *\n",
        "  FROM avg_rating_by_release_year\n",
        " WHERE avg_rating >= 8.5;\n",
        "```\n",
        "\n",
        "但是 `avg_rating_by_release_year` 必須要先經過一個 SQL 敘述查詢才能得知為多少，獲得關鍵 `avg_rating_by_release_year` 的 SQL 敘述為：\n",
        "\n",
        "```sql\n",
        "SELECT release_year,\n",
        "       AVG(rating) AS avg_rating\n",
        "  FROM movies\n",
        " GROUP BY release_year;\n",
        "```\n",
        "\n",
        "接著我們可以將 `avg_rating_by_release_year` 替換為 SQL 敘述，並用小括號 `()` 包裝起來，並加上別名，就能成功將本來應該分兩次、先後執行的 SQL 敘述，調整為子查詢的結構外型。"
      ]
    },
    {
      "cell_type": "code",
      "execution_count": null,
      "id": "c5314282",
      "metadata": {
        "id": "c5314282",
        "outputId": "9300e6d9-11fc-432d-fa1d-5c743ab07571"
      },
      "outputs": [
        {
          "data": {
            "text/html": [
              "<table>\n",
              "<tr>\n",
              "<th>release_year</th>\n",
              "<th>avg_rating</th>\n",
              "</tr>\n",
              "<tr>\n",
              "<td>1936</td>\n",
              "<td>8.5</td>\n",
              "</tr>\n",
              "<tr>\n",
              "<td>1972</td>\n",
              "<td>9.2</td>\n",
              "</tr>\n",
              "<tr>\n",
              "<td>1974</td>\n",
              "<td>8.6</td>\n",
              "</tr>\n",
              "<tr>\n",
              "<td>1977</td>\n",
              "<td>8.6</td>\n",
              "</tr>\n",
              "<tr>\n",
              "<td>1994</td>\n",
              "<td>8.8</td>\n",
              "</tr>\n",
              "<tr>\n",
              "<td>1999</td>\n",
              "<td>8.54</td>\n",
              "</tr>\n",
              "<tr>\n",
              "<td>2002</td>\n",
              "<td>8.5</td>\n",
              "</tr>\n",
              "<tr>\n",
              "<td>2008</td>\n",
              "<td>8.5</td>\n",
              "</tr>\n",
              "</table>\n",
              "8 rows in set (0.00 sec)"
            ],
            "text/plain": [
              "+--------------+------------+\n",
              "| release_year | avg_rating |\n",
              "+--------------+------------+\n",
              "| 1936         | 8.5        |\n",
              "+--------------+------------+\n",
              "| 1972         | 9.2        |\n",
              "+--------------+------------+\n",
              "| 1974         | 8.6        |\n",
              "+--------------+------------+\n",
              "| 1977         | 8.6        |\n",
              "+--------------+------------+\n",
              "| 1994         | 8.8        |\n",
              "+--------------+------------+\n",
              "| 1999         | 8.54       |\n",
              "+--------------+------------+\n",
              "| 2002         | 8.5        |\n",
              "+--------------+------------+\n",
              "| 2008         | 8.5        |\n",
              "+--------------+------------+\n",
              "8 rows in set (0.00 sec)"
            ]
          },
          "execution_count": 10,
          "metadata": {},
          "output_type": "execute_result"
        }
      ],
      "source": [
        "%%sql\n",
        "SELECT *\n",
        "  FROM (\n",
        "           SELECT release_year,\n",
        "                  AVG(rating) AS avg_rating\n",
        "             FROM movies\n",
        "            GROUP BY release_year\n",
        "       )\n",
        "       AS avg_rating_by_release_year\n",
        " WHERE avg_rating >= 8.5;"
      ]
    },
    {
      "cell_type": "markdown",
      "id": "f9f1878a",
      "metadata": {
        "id": "f9f1878a"
      },
      "source": [
        "## 重點統整\n",
        "\n",
        "- 一段 SQL 敘述中包括另外一段 SQL 敘述、先後使用多個 SQL 敘述，先執行的 SQL 敘述查詢結果將會成回後執行的 SQL 敘述中的依據，這樣的 SQL 敘述結構就稱為子查詢（Subquery）。\n",
        "- 常見的子查詢結構有三種外型：\n",
        "    1. 接續在 `WHERE` 保留字後的結構外型。\n",
        "    2. 接續在 `SELECT` 保留字後的結構外型。\n",
        "    3. 接續在 `FROM` 保留字後的結構外型，這裡要注意的是先前別名是針對欄位名稱，這裡則是將先執行的 SQL 敘述查詢結果視為像資料表（實際上並不是）的存在。\n",
        "- 將截至目前所學的 SQL 保留字集中在一個敘述中，寫作順序必須遵從標準 SQL 的規定。\n",
        "\n",
        "```sql\n",
        "SELECT DISTINCT columns AS alias,\n",
        "       CASE WHEN condition_1 THEN result_1\n",
        "            WHEN condition_2 THEN result_2\n",
        "            ...\n",
        "            ELSE result_n END AS alias\n",
        "  FROM table\n",
        " WHERE conditions\n",
        " GROUP BY columns\n",
        "HAVING conditions\n",
        " ORDER BY columns DESC\n",
        " LIMIT m;\n",
        "```\n",
        "    \n",
        "## 練習題 30-34\n",
        "\n",
        "練習題會涵蓋四個學習資料庫，記得要依據題目的需求，調整編輯器選單的學習資料庫，在自己電腦的 SQLiteStudio 寫出跟預期輸出相同的 SQL 敘述，寫作過程如果卡關了，可以參考附錄二「練習題參考解答」。\n",
        "\n",
        "### 30. 從 `nba` 資料庫的 `players` 資料表運用子查詢找出 NBA 中身高最高與最矮的球員是誰，參考下列的預期查詢結果。\n",
        "\n",
        "預期輸出：(3, 3) 的查詢結果。"
      ]
    },
    {
      "cell_type": "code",
      "execution_count": null,
      "id": "b09e05e6",
      "metadata": {
        "id": "b09e05e6",
        "outputId": "7e7502bd-24e3-47ef-d47f-0004fca79ea1"
      },
      "outputs": [
        {
          "data": {
            "text/html": [
              "<table>\n",
              "<tr>\n",
              "<th>firstName</th>\n",
              "<th>lastName</th>\n",
              "<th>heightMeters</th>\n",
              "</tr>\n",
              "<tr>\n",
              "<td>Isaiah</td>\n",
              "<td>Thomas</td>\n",
              "<td>1.75</td>\n",
              "</tr>\n",
              "<tr>\n",
              "<td>Kristaps</td>\n",
              "<td>Porzingis</td>\n",
              "<td>2.21</td>\n",
              "</tr>\n",
              "<tr>\n",
              "<td>Boban</td>\n",
              "<td>Marjanovic</td>\n",
              "<td>2.21</td>\n",
              "</tr>\n",
              "</table>\n",
              "3 rows in set (0.00 sec)"
            ],
            "text/plain": [
              "+-----------+------------+--------------+\n",
              "| firstName | lastName   | heightMeters |\n",
              "+-----------+------------+--------------+\n",
              "| Isaiah    | Thomas     | 1.75         |\n",
              "+-----------+------------+--------------+\n",
              "| Kristaps  | Porzingis  | 2.21         |\n",
              "+-----------+------------+--------------+\n",
              "| Boban     | Marjanovic | 2.21         |\n",
              "+-----------+------------+--------------+\n",
              "3 rows in set (0.00 sec)"
            ]
          },
          "execution_count": 11,
          "metadata": {},
          "output_type": "execute_result"
        }
      ],
      "source": [
        "%%sql\n"
      ]
    },
    {
      "cell_type": "markdown",
      "id": "eb8e7b2c",
      "metadata": {
        "id": "eb8e7b2c"
      },
      "source": [
        "### 31. 從 `nba` 資料庫的 `players` 資料表運用子查詢計算球員的國籍佔比，參考下列的預期查詢結果。\n",
        "\n",
        "預期輸出：(42, 2) 的查詢結果。"
      ]
    },
    {
      "cell_type": "code",
      "execution_count": null,
      "id": "2444ecd2",
      "metadata": {
        "id": "2444ecd2",
        "outputId": "b60eb495-92ff-461a-e617-17f197e184da"
      },
      "outputs": [
        {
          "data": {
            "text/html": [
              "<table>\n",
              "<tr>\n",
              "<th>country</th>\n",
              "<th>player_percentage</th>\n",
              "</tr>\n",
              "<tr>\n",
              "<td>USA</td>\n",
              "<td>0.764822134387352</td>\n",
              "</tr>\n",
              "<tr>\n",
              "<td>Canada</td>\n",
              "<td>0.041501976284585</td>\n",
              "</tr>\n",
              "<tr>\n",
              "<td>France</td>\n",
              "<td>0.0177865612648221</td>\n",
              "</tr>\n",
              "<tr>\n",
              "<td>Germany</td>\n",
              "<td>0.0158102766798419</td>\n",
              "</tr>\n",
              "<tr>\n",
              "<td>Australia</td>\n",
              "<td>0.0138339920948617</td>\n",
              "</tr>\n",
              "<tr>\n",
              "<td>Serbia</td>\n",
              "<td>0.00988142292490119</td>\n",
              "</tr>\n",
              "<tr>\n",
              "<td>Spain</td>\n",
              "<td>0.00988142292490119</td>\n",
              "</tr>\n",
              "<tr>\n",
              "<td>Nigeria</td>\n",
              "<td>0.00790513833992095</td>\n",
              "</tr>\n",
              "<tr>\n",
              "<td>Turkey</td>\n",
              "<td>0.00790513833992095</td>\n",
              "</tr>\n",
              "<tr>\n",
              "<td>Argentina</td>\n",
              "<td>0.00592885375494071</td>\n",
              "</tr>\n",
              "<tr>\n",
              "<td>Bahamas</td>\n",
              "<td>0.00592885375494071</td>\n",
              "</tr>\n",
              "<tr>\n",
              "<td>Croatia</td>\n",
              "<td>0.00592885375494071</td>\n",
              "</tr>\n",
              "<tr>\n",
              "<td>Japan</td>\n",
              "<td>0.00592885375494071</td>\n",
              "</tr>\n",
              "<tr>\n",
              "<td>Lithuania</td>\n",
              "<td>0.00592885375494071</td>\n",
              "</tr>\n",
              "<tr>\n",
              "<td>Slovenia</td>\n",
              "<td>0.00592885375494071</td>\n",
              "</tr>\n",
              "<tr>\n",
              "<td>Brazil</td>\n",
              "<td>0.00395256916996047</td>\n",
              "</tr>\n",
              "<tr>\n",
              "<td>Cameroon</td>\n",
              "<td>0.00395256916996047</td>\n",
              "</tr>\n",
              "<tr>\n",
              "<td>Czech Republic</td>\n",
              "<td>0.00395256916996047</td>\n",
              "</tr>\n",
              "<tr>\n",
              "<td>DRC</td>\n",
              "<td>0.00395256916996047</td>\n",
              "</tr>\n",
              "<tr>\n",
              "<td>Dominican Republic</td>\n",
              "<td>0.00395256916996047</td>\n",
              "</tr>\n",
              "<tr>\n",
              "<td>Georgia</td>\n",
              "<td>0.00395256916996047</td>\n",
              "</tr>\n",
              "<tr>\n",
              "<td>Greece</td>\n",
              "<td>0.00395256916996047</td>\n",
              "</tr>\n",
              "<tr>\n",
              "<td>Latvia</td>\n",
              "<td>0.00395256916996047</td>\n",
              "</tr>\n",
              "<tr>\n",
              "<td>Montenegro</td>\n",
              "<td>0.00395256916996047</td>\n",
              "</tr>\n",
              "<tr>\n",
              "<td>Ukraine</td>\n",
              "<td>0.00395256916996047</td>\n",
              "</tr>\n",
              "<tr>\n",
              "<td>United Kingdom</td>\n",
              "<td>0.00395256916996047</td>\n",
              "</tr>\n",
              "<tr>\n",
              "<td>Angola</td>\n",
              "<td>0.00197628458498024</td>\n",
              "</tr>\n",
              "<tr>\n",
              "<td>Austria</td>\n",
              "<td>0.00197628458498024</td>\n",
              "</tr>\n",
              "<tr>\n",
              "<td>Bosnia and Herzegovina</td>\n",
              "<td>0.00197628458498024</td>\n",
              "</tr>\n",
              "<tr>\n",
              "<td>Denmark</td>\n",
              "<td>0.00197628458498024</td>\n",
              "</tr>\n",
              "<tr>\n",
              "<td>Finland</td>\n",
              "<td>0.00197628458498024</td>\n",
              "</tr>\n",
              "<tr>\n",
              "<td>Israel</td>\n",
              "<td>0.00197628458498024</td>\n",
              "</tr>\n",
              "<tr>\n",
              "<td>Italy</td>\n",
              "<td>0.00197628458498024</td>\n",
              "</tr>\n",
              "<tr>\n",
              "<td>Jamaica</td>\n",
              "<td>0.00197628458498024</td>\n",
              "</tr>\n",
              "<tr>\n",
              "<td>New Zealand</td>\n",
              "<td>0.00197628458498024</td>\n",
              "</tr>\n",
              "<tr>\n",
              "<td>Portugal</td>\n",
              "<td>0.00197628458498024</td>\n",
              "</tr>\n",
              "<tr>\n",
              "<td>Republic of the Congo</td>\n",
              "<td>0.00197628458498024</td>\n",
              "</tr>\n",
              "<tr>\n",
              "<td>Saint Lucia</td>\n",
              "<td>0.00197628458498024</td>\n",
              "</tr>\n",
              "<tr>\n",
              "<td>Senegal</td>\n",
              "<td>0.00197628458498024</td>\n",
              "</tr>\n",
              "<tr>\n",
              "<td>South Sudan</td>\n",
              "<td>0.00197628458498024</td>\n",
              "</tr>\n",
              "<tr>\n",
              "<td>Sudan</td>\n",
              "<td>0.00197628458498024</td>\n",
              "</tr>\n",
              "<tr>\n",
              "<td>Switzerland</td>\n",
              "<td>0.00197628458498024</td>\n",
              "</tr>\n",
              "</table>\n",
              "42 rows in set (0.00 sec)"
            ],
            "text/plain": [
              "+------------------------+---------------------+\n",
              "| country                | player_percentage   |\n",
              "+------------------------+---------------------+\n",
              "| USA                    | 0.764822134387352   |\n",
              "+------------------------+---------------------+\n",
              "| Canada                 | 0.041501976284585   |\n",
              "+------------------------+---------------------+\n",
              "| France                 | 0.0177865612648221  |\n",
              "+------------------------+---------------------+\n",
              "| Germany                | 0.0158102766798419  |\n",
              "+------------------------+---------------------+\n",
              "| Australia              | 0.0138339920948617  |\n",
              "+------------------------+---------------------+\n",
              "| Serbia                 | 0.00988142292490119 |\n",
              "+------------------------+---------------------+\n",
              "| Spain                  | 0.00988142292490119 |\n",
              "+------------------------+---------------------+\n",
              "| Nigeria                | 0.00790513833992095 |\n",
              "+------------------------+---------------------+\n",
              "| Turkey                 | 0.00790513833992095 |\n",
              "+------------------------+---------------------+\n",
              "| Argentina              | 0.00592885375494071 |\n",
              "+------------------------+---------------------+\n",
              "| Bahamas                | 0.00592885375494071 |\n",
              "+------------------------+---------------------+\n",
              "| Croatia                | 0.00592885375494071 |\n",
              "+------------------------+---------------------+\n",
              "| Japan                  | 0.00592885375494071 |\n",
              "+------------------------+---------------------+\n",
              "| Lithuania              | 0.00592885375494071 |\n",
              "+------------------------+---------------------+\n",
              "| Slovenia               | 0.00592885375494071 |\n",
              "+------------------------+---------------------+\n",
              "| Brazil                 | 0.00395256916996047 |\n",
              "+------------------------+---------------------+\n",
              "| Cameroon               | 0.00395256916996047 |\n",
              "+------------------------+---------------------+\n",
              "| Czech Republic         | 0.00395256916996047 |\n",
              "+------------------------+---------------------+\n",
              "| DRC                    | 0.00395256916996047 |\n",
              "+------------------------+---------------------+\n",
              "| Dominican Republic     | 0.00395256916996047 |\n",
              "+------------------------+---------------------+\n",
              "| Georgia                | 0.00395256916996047 |\n",
              "+------------------------+---------------------+\n",
              "| Greece                 | 0.00395256916996047 |\n",
              "+------------------------+---------------------+\n",
              "| Latvia                 | 0.00395256916996047 |\n",
              "+------------------------+---------------------+\n",
              "| Montenegro             | 0.00395256916996047 |\n",
              "+------------------------+---------------------+\n",
              "| Ukraine                | 0.00395256916996047 |\n",
              "+------------------------+---------------------+\n",
              "| United Kingdom         | 0.00395256916996047 |\n",
              "+------------------------+---------------------+\n",
              "| Angola                 | 0.00197628458498024 |\n",
              "+------------------------+---------------------+\n",
              "| Austria                | 0.00197628458498024 |\n",
              "+------------------------+---------------------+\n",
              "| Bosnia and Herzegovina | 0.00197628458498024 |\n",
              "+------------------------+---------------------+\n",
              "| Denmark                | 0.00197628458498024 |\n",
              "+------------------------+---------------------+\n",
              "| Finland                | 0.00197628458498024 |\n",
              "+------------------------+---------------------+\n",
              "| Israel                 | 0.00197628458498024 |\n",
              "+------------------------+---------------------+\n",
              "| Italy                  | 0.00197628458498024 |\n",
              "+------------------------+---------------------+\n",
              "| Jamaica                | 0.00197628458498024 |\n",
              "+------------------------+---------------------+\n",
              "| New Zealand            | 0.00197628458498024 |\n",
              "+------------------------+---------------------+\n",
              "| Portugal               | 0.00197628458498024 |\n",
              "+------------------------+---------------------+\n",
              "| Republic of the Congo  | 0.00197628458498024 |\n",
              "+------------------------+---------------------+\n",
              "| Saint Lucia            | 0.00197628458498024 |\n",
              "+------------------------+---------------------+\n",
              "| Senegal                | 0.00197628458498024 |\n",
              "+------------------------+---------------------+\n",
              "| South Sudan            | 0.00197628458498024 |\n",
              "+------------------------+---------------------+\n",
              "| Sudan                  | 0.00197628458498024 |\n",
              "+------------------------+---------------------+\n",
              "| Switzerland            | 0.00197628458498024 |\n",
              "+------------------------+---------------------+\n",
              "42 rows in set (0.00 sec)"
            ]
          },
          "execution_count": 12,
          "metadata": {},
          "output_type": "execute_result"
        }
      ],
      "source": [
        "%%sql\n"
      ]
    },
    {
      "cell_type": "markdown",
      "id": "0df39038",
      "metadata": {
        "id": "0df39038"
      },
      "source": [
        "### 32. 從 `nba` 資料庫運用子查詢找出 NBA 的場均得分王（`ppg`），參考下列的預期查詢結果。\n",
        "\n",
        "預期輸出：(1, 2) 的查詢結果。"
      ]
    },
    {
      "cell_type": "code",
      "execution_count": null,
      "id": "a929cf5e",
      "metadata": {
        "id": "a929cf5e",
        "outputId": "b5a2c6b9-eba2-4dd3-8005-47d8d817751f"
      },
      "outputs": [
        {
          "data": {
            "text/html": [
              "<table>\n",
              "<tr>\n",
              "<th>firstName</th>\n",
              "<th>lastName</th>\n",
              "</tr>\n",
              "<tr>\n",
              "<td>Kevin</td>\n",
              "<td>Durant</td>\n",
              "</tr>\n",
              "</table>\n",
              "1 row in set (0.00 sec)"
            ],
            "text/plain": [
              "+-----------+----------+\n",
              "| firstName | lastName |\n",
              "+-----------+----------+\n",
              "| Kevin     | Durant   |\n",
              "+-----------+----------+\n",
              "1 row in set (0.00 sec)"
            ]
          },
          "execution_count": 13,
          "metadata": {},
          "output_type": "execute_result"
        }
      ],
      "source": [
        "%%sql\n"
      ]
    },
    {
      "cell_type": "markdown",
      "id": "6b9b5706",
      "metadata": {
        "id": "6b9b5706"
      },
      "source": [
        "### 33. 從 `nba` 資料庫運用子查詢找出目前布魯克林籃網隊（Brooklyn Nets）的球員名單，參考下列的預期查詢結果。\n",
        "\n",
        "預期輸出：(16, 2) 的查詢結果。"
      ]
    },
    {
      "cell_type": "code",
      "execution_count": null,
      "id": "618a6ea2",
      "metadata": {
        "id": "618a6ea2",
        "outputId": "ac651c66-e60b-4769-fdbe-926b5126fe54"
      },
      "outputs": [
        {
          "data": {
            "text/html": [
              "<table>\n",
              "<tr>\n",
              "<th>firstName</th>\n",
              "<th>lastName</th>\n",
              "</tr>\n",
              "<tr>\n",
              "<td>LaMarcus</td>\n",
              "<td>Aldridge</td>\n",
              "</tr>\n",
              "<tr>\n",
              "<td>Kevin</td>\n",
              "<td>Durant</td>\n",
              "</tr>\n",
              "<tr>\n",
              "<td>Goran</td>\n",
              "<td>Dragic</td>\n",
              "</tr>\n",
              "<tr>\n",
              "<td>Blake</td>\n",
              "<td>Griffin</td>\n",
              "</tr>\n",
              "<tr>\n",
              "<td>Patty</td>\n",
              "<td>Mills</td>\n",
              "</tr>\n",
              "<tr>\n",
              "<td>Kyrie</td>\n",
              "<td>Irving</td>\n",
              "</tr>\n",
              "<tr>\n",
              "<td>Andre</td>\n",
              "<td>Drummond</td>\n",
              "</tr>\n",
              "<tr>\n",
              "<td>Seth</td>\n",
              "<td>Curry</td>\n",
              "</tr>\n",
              "<tr>\n",
              "<td>Joe</td>\n",
              "<td>Harris</td>\n",
              "</tr>\n",
              "<tr>\n",
              "<td>Ben</td>\n",
              "<td>Simmons</td>\n",
              "</tr>\n",
              "<tr>\n",
              "<td>Bruce</td>\n",
              "<td>Brown</td>\n",
              "</tr>\n",
              "<tr>\n",
              "<td>Nic</td>\n",
              "<td>Claxton</td>\n",
              "</tr>\n",
              "<tr>\n",
              "<td>Day'Ron</td>\n",
              "<td>Sharpe</td>\n",
              "</tr>\n",
              "<tr>\n",
              "<td>Kessler</td>\n",
              "<td>Edwards</td>\n",
              "</tr>\n",
              "<tr>\n",
              "<td>Cam</td>\n",
              "<td>Thomas</td>\n",
              "</tr>\n",
              "<tr>\n",
              "<td>David</td>\n",
              "<td>Duke Jr.</td>\n",
              "</tr>\n",
              "</table>\n",
              "16 rows in set (0.00 sec)"
            ],
            "text/plain": [
              "+-----------+----------+\n",
              "| firstName | lastName |\n",
              "+-----------+----------+\n",
              "| LaMarcus  | Aldridge |\n",
              "+-----------+----------+\n",
              "| Kevin     | Durant   |\n",
              "+-----------+----------+\n",
              "| Goran     | Dragic   |\n",
              "+-----------+----------+\n",
              "| Blake     | Griffin  |\n",
              "+-----------+----------+\n",
              "| Patty     | Mills    |\n",
              "+-----------+----------+\n",
              "| Kyrie     | Irving   |\n",
              "+-----------+----------+\n",
              "| Andre     | Drummond |\n",
              "+-----------+----------+\n",
              "| Seth      | Curry    |\n",
              "+-----------+----------+\n",
              "| Joe       | Harris   |\n",
              "+-----------+----------+\n",
              "| Ben       | Simmons  |\n",
              "+-----------+----------+\n",
              "| Bruce     | Brown    |\n",
              "+-----------+----------+\n",
              "| Nic       | Claxton  |\n",
              "+-----------+----------+\n",
              "| Day'Ron   | Sharpe   |\n",
              "+-----------+----------+\n",
              "| Kessler   | Edwards  |\n",
              "+-----------+----------+\n",
              "| Cam       | Thomas   |\n",
              "+-----------+----------+\n",
              "| David     | Duke Jr. |\n",
              "+-----------+----------+\n",
              "16 rows in set (0.00 sec)"
            ]
          },
          "execution_count": 14,
          "metadata": {},
          "output_type": "execute_result"
        }
      ],
      "source": []
    },
    {
      "cell_type": "markdown",
      "id": "7a9d0561",
      "metadata": {
        "id": "7a9d0561"
      },
      "source": [
        "### 34. 從 `twElection2020` 資料庫的 `presidential` 資料表計算各組候選人的得票率，參考下列的預期查詢結果。\n",
        "\n",
        "預期輸出：(3, 2) 的查詢結果。"
      ]
    },
    {
      "cell_type": "code",
      "execution_count": null,
      "id": "3787174b",
      "metadata": {
        "id": "3787174b",
        "outputId": "10e12ba0-786b-4c53-ee4f-44ca1a7281ab"
      },
      "outputs": [
        {
          "data": {
            "text/html": [
              "<table>\n",
              "<tr>\n",
              "<th>candidate_id</th>\n",
              "<th>votes_percentage</th>\n",
              "</tr>\n",
              "<tr>\n",
              "<td>1</td>\n",
              "<td>4.26%</td>\n",
              "</tr>\n",
              "<tr>\n",
              "<td>2</td>\n",
              "<td>38.61%</td>\n",
              "</tr>\n",
              "<tr>\n",
              "<td>3</td>\n",
              "<td>57.13%</td>\n",
              "</tr>\n",
              "</table>\n",
              "3 rows in set (0.06 sec)"
            ],
            "text/plain": [
              "+--------------+------------------+\n",
              "| candidate_id | votes_percentage |\n",
              "+--------------+------------------+\n",
              "| 1            | 4.26%            |\n",
              "+--------------+------------------+\n",
              "| 2            | 38.61%           |\n",
              "+--------------+------------------+\n",
              "| 3            | 57.13%           |\n",
              "+--------------+------------------+\n",
              "3 rows in set (0.06 sec)"
            ]
          },
          "execution_count": 15,
          "metadata": {},
          "output_type": "execute_result"
        }
      ],
      "source": [
        "%%sql\n"
      ]
    }
  ],
  "metadata": {
    "kernelspec": {
      "display_name": "xsql",
      "language": "sqlite",
      "name": "xsql"
    },
    "language_info": {
      "codemirror_mode": "sql",
      "file_extension": "",
      "mimetype": "",
      "name": "mysql",
      "version": "0.1.5"
    },
    "colab": {
      "provenance": [],
      "include_colab_link": true
    }
  },
  "nbformat": 4,
  "nbformat_minor": 5
}