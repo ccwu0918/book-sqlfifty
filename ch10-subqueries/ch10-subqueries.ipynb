{
 "cells": [
  {
   "cell_type": "markdown",
   "id": "lightweight-fruit",
   "metadata": {
    "slideshow": {
     "slide_type": "slide"
    }
   },
   "source": [
    "# SQL 的五十道練習：初學者友善的資料庫入門\n",
    "\n",
    "> 子查詢"
   ]
  },
  {
   "cell_type": "code",
   "execution_count": 1,
   "id": "matched-spyware",
   "metadata": {
    "slideshow": {
     "slide_type": "skip"
    }
   },
   "outputs": [],
   "source": [
    "%LOAD sqlite3 db=../databases/imdb.db timeout=2 shared_cache=true"
   ]
  },
  {
   "cell_type": "markdown",
   "id": "supposed-spread",
   "metadata": {
    "slideshow": {
     "slide_type": "slide"
    }
   },
   "source": [
    "## 複習一下\n",
    "\n",
    "在第五章「函數」我們提過複合函數（Composite functions）的概念，意即在函數中包括函數、先後使用多個函數，先使用的函數輸出將會成為後使用的函數輸入。舉例來說，`SUBSTR()` 函數的輸出為 `'Bos'`，成為 `UPPER()` 函數的輸入，最後的輸出為 `'BOS'`。"
   ]
  },
  {
   "cell_type": "code",
   "execution_count": 2,
   "id": "d40a6859",
   "metadata": {},
   "outputs": [
    {
     "data": {
      "text/html": [
       "<table>\n",
       "<tr>\n",
       "<th>city</th>\n",
       "<th>composite_function</th>\n",
       "</tr>\n",
       "<tr>\n",
       "<td>Boston</td>\n",
       "<td>BOS</td>\n",
       "</tr>\n",
       "</table>\n",
       "1 row in set (0.00 sec)"
      ],
      "text/plain": [
       "+--------+--------------------+\n",
       "| city   | composite_function |\n",
       "+--------+--------------------+\n",
       "| Boston | BOS                |\n",
       "+--------+--------------------+\n",
       "1 row in set (0.00 sec)"
      ]
     },
     "execution_count": 2,
     "metadata": {},
     "output_type": "execute_result"
    }
   ],
   "source": [
    "SELECT 'Boston' AS city,\n",
    "       UPPER(SUBSTR('Boston', 1, 3)) AS composite_function;"
   ]
  },
  {
   "cell_type": "markdown",
   "id": "ca721ec9",
   "metadata": {
    "slideshow": {
     "slide_type": "subslide"
    }
   },
   "source": [
    "## 子查詢\n",
    "\n",
    "如果是一段 SQL 敘述中包括另外一段 SQL 敘述、先後使用多個 SQL 敘述，先執行的 SQL 敘述查詢結果將會成回後執行的 SQL 敘述中的依據，這樣的 SQL 敘述結構就稱為子查詢（Subquery）。常見的子查詢結構有三種外型：\n",
    "\n",
    "1. 接續在 `WHERE` 保留字後的結構外型。\n",
    "\n",
    "```sql\n",
    "SELECT columns\n",
    "  FROM table\n",
    " WHERE (SELECT columns FROM table ...);\n",
    "```\n",
    "\n",
    "2. 接續在 `SELECT` 保留字後的結構外型。\n",
    "\n",
    "```sql\n",
    "SELECT (SELECT columns FROM table ...)\n",
    "  FROM table;\n",
    "```\n",
    "\n",
    "3. 接續在 `FROM` 保留字後的結構外型，這裡要注意的是先前別名是針對欄位名稱，這裡則是將先執行的 SQL 敘述查詢結果視為像資料表（實際上並不是）的存在。\n",
    "\n",
    "```sql\n",
    "SELECT columns\n",
    "  FROM (SELECT columns FROM table ...) AS alias;\n",
    "```\n",
    "\n",
    "## 常見的子查詢應用情境\n",
    "\n",
    "檢視常見的三種子查詢結構外型，可以概略猜到子查詢的應用情境。接續在 `WHERE` 保留字後的結構外型，應用於篩選資料表觀測值的條件必須要先經過一個 SQL 敘述查詢才能夠建立；接續在 `SELECT` 保留字後的結構外型，應用於衍生計算欄位的算式部分必須要先經過一個 SQL 敘述查詢才能夠獲得；接續在 `FROM` 保留字後的結構外型，應用於將先執行的 SQL 敘述查詢結果視為像資料表（實際上並不是）對待來取得所需資訊。\n",
    "\n",
    "情境一是接續在 `WHERE` 保留字後的結構外型，舉例來說，我們想知道片長 `runtime` 最短的電影是哪一部？假定最短片長為 `x`，我們可以寫出以下的 SQL 敘述得到這個問題的答案：\n",
    "\n",
    "```sql\n",
    "SELECT title,\n",
    "       runtime\n",
    "  FROM movies\n",
    " WHERE runtime = x;\n",
    "```\n",
    "\n",
    "但是 `x` 必須要先經過一個 SQL 敘述查詢才能得知為多少，獲得關鍵 `x` 的 SQL 敘述為："
   ]
  },
  {
   "cell_type": "code",
   "execution_count": 3,
   "id": "777b5d81",
   "metadata": {
    "slideshow": {
     "slide_type": "subslide"
    }
   },
   "outputs": [
    {
     "data": {
      "text/html": [
       "<table>\n",
       "<tr>\n",
       "<th>min_runtime</th>\n",
       "</tr>\n",
       "<tr>\n",
       "<td>45</td>\n",
       "</tr>\n",
       "</table>\n",
       "1 row in set (0.00 sec)"
      ],
      "text/plain": [
       "+-------------+\n",
       "| min_runtime |\n",
       "+-------------+\n",
       "| 45          |\n",
       "+-------------+\n",
       "1 row in set (0.00 sec)"
      ]
     },
     "execution_count": 3,
     "metadata": {},
     "output_type": "execute_result"
    }
   ],
   "source": [
    "SELECT MIN(runtime) AS min_runtime\n",
    "  FROM movies;"
   ]
  },
  {
   "cell_type": "markdown",
   "id": "structural-november",
   "metadata": {
    "slideshow": {
     "slide_type": "slide"
    }
   },
   "source": [
    "接著我們可以將 `x` 替換為 SQL 敘述，並用小括號 `()` 包裝起來，就能成功將本來應該分兩次、先後執行的 SQL 敘述，調整為子查詢的結構外型。"
   ]
  },
  {
   "cell_type": "code",
   "execution_count": 4,
   "id": "032d40c9",
   "metadata": {},
   "outputs": [
    {
     "data": {
      "text/html": [
       "<table>\n",
       "<tr>\n",
       "<th>title</th>\n",
       "<th>runtime</th>\n",
       "</tr>\n",
       "<tr>\n",
       "<td>Sherlock Jr.</td>\n",
       "<td>45</td>\n",
       "</tr>\n",
       "</table>\n",
       "1 row in set (0.00 sec)"
      ],
      "text/plain": [
       "+--------------+---------+\n",
       "| title        | runtime |\n",
       "+--------------+---------+\n",
       "| Sherlock Jr. | 45      |\n",
       "+--------------+---------+\n",
       "1 row in set (0.00 sec)"
      ]
     },
     "execution_count": 4,
     "metadata": {},
     "output_type": "execute_result"
    }
   ],
   "source": [
    "SELECT title,\n",
    "       runtime\n",
    "  FROM movies\n",
    " WHERE runtime = (\n",
    "                     SELECT MIN(runtime) AS min_runtime\n",
    "                       FROM movies\n",
    "                 );"
   ]
  },
  {
   "cell_type": "markdown",
   "id": "b52ac9ea",
   "metadata": {
    "slideshow": {
     "slide_type": "slide"
    }
   },
   "source": [
    "值得注意的地方有兩個，一是子查詢的結構外型也只能有一個分號 `;` 來標註 SQL 敘述的結束，因此替換之後要記得只留下最後執行 SQL 敘述的分號。二是替換之後因為排版變得比較亂，這時可以善用 SQLiteStudio 的 Format SQL 功能讓寫作的 SQL 敘述之編排、格式和設計具備更高的可讀性。\n",
    "\n",
    "![](../images/format-03.png)\n",
    "\n",
    "![](../images/format-04.png)\n",
    "\n",
    "情境二是接續在 `SELECT` 保留字後的結構外型，舉例來說，我們想知道在千禧年（西元 2000 年）之後上映的電影佔比為多少？假定在千禧年（西元 2000 年）之後上映的電影有 `x` 部，我們可以寫出以下的 SQL 敘述得到這個問題的答案：\n",
    "\n",
    "```sql\n",
    "SELECT x * 1.0 / COUNT(*) AS after_millennium_ratio\n",
    "  FROM movies;\n",
    "```\n",
    "\n",
    "但是 `x` 必須要先經過一個 SQL 敘述查詢才能得知為多少，獲得關鍵 `x` 的 SQL 敘述為："
   ]
  },
  {
   "cell_type": "code",
   "execution_count": 5,
   "id": "6e7fd565",
   "metadata": {},
   "outputs": [
    {
     "data": {
      "text/html": [
       "<table>\n",
       "<tr>\n",
       "<th>count_after_millennium</th>\n",
       "</tr>\n",
       "<tr>\n",
       "<td>96</td>\n",
       "</tr>\n",
       "</table>\n",
       "1 row in set (0.00 sec)"
      ],
      "text/plain": [
       "+------------------------+\n",
       "| count_after_millennium |\n",
       "+------------------------+\n",
       "| 96                     |\n",
       "+------------------------+\n",
       "1 row in set (0.00 sec)"
      ]
     },
     "execution_count": 5,
     "metadata": {},
     "output_type": "execute_result"
    }
   ],
   "source": [
    "SELECT COUNT(*) AS count_after_millennium\n",
    "  FROM movies\n",
    " WHERE release_year >= 2000;"
   ]
  },
  {
   "cell_type": "markdown",
   "id": "3889f205",
   "metadata": {},
   "source": [
    "接著我們可以將 `x` 替換為 SQL 敘述，並用小括號 `()` 包裝起來，就能成功將本來應該分兩次、先後執行的 SQL 敘述，調整為子查詢的結構外型。"
   ]
  },
  {
   "cell_type": "code",
   "execution_count": 6,
   "id": "52b24ee2",
   "metadata": {},
   "outputs": [
    {
     "data": {
      "text/html": [
       "<table>\n",
       "<tr>\n",
       "<th>after_millennium_ratio</th>\n",
       "</tr>\n",
       "<tr>\n",
       "<td>0.384</td>\n",
       "</tr>\n",
       "</table>\n",
       "1 row in set (0.00 sec)"
      ],
      "text/plain": [
       "+------------------------+\n",
       "| after_millennium_ratio |\n",
       "+------------------------+\n",
       "| 0.384                  |\n",
       "+------------------------+\n",
       "1 row in set (0.00 sec)"
      ]
     },
     "execution_count": 6,
     "metadata": {},
     "output_type": "execute_result"
    }
   ],
   "source": [
    "SELECT (\n",
    "           SELECT COUNT( * ) AS count_after_millennium\n",
    "             FROM movies\n",
    "            WHERE release_year >= 2000\n",
    "       )* 1.0 / COUNT( * ) AS after_millennium_ratio\n",
    "  FROM movies;"
   ]
  },
  {
   "cell_type": "markdown",
   "id": "5902b323",
   "metadata": {},
   "source": [
    "情境三是接續在 `FROM` 保留字後的結構外型，舉例來說，我們想知道不同年份 `release_year` 上映的電影平均評等有哪些年份是大於等於 8.5 的？在第九章「分組與聚合結果篩選」我們提過針對分組聚合的結果應用 `WHERE` 是不被允許的，應該要改使用分組聚合版本的 `HAVING` 保留字加上帶有聚合函數的條件。"
   ]
  },
  {
   "cell_type": "code",
   "execution_count": 7,
   "id": "42a0e9b4",
   "metadata": {},
   "outputs": [
    {
     "data": {
      "text/html": [
       "<table>\n",
       "<tr>\n",
       "<th>release_year</th>\n",
       "<th>avg_rating</th>\n",
       "</tr>\n",
       "<tr>\n",
       "<td>1936</td>\n",
       "<td>8.5</td>\n",
       "</tr>\n",
       "<tr>\n",
       "<td>1972</td>\n",
       "<td>9.2</td>\n",
       "</tr>\n",
       "<tr>\n",
       "<td>1974</td>\n",
       "<td>8.6</td>\n",
       "</tr>\n",
       "<tr>\n",
       "<td>1977</td>\n",
       "<td>8.6</td>\n",
       "</tr>\n",
       "<tr>\n",
       "<td>1994</td>\n",
       "<td>8.8</td>\n",
       "</tr>\n",
       "<tr>\n",
       "<td>1999</td>\n",
       "<td>8.54</td>\n",
       "</tr>\n",
       "<tr>\n",
       "<td>2002</td>\n",
       "<td>8.5</td>\n",
       "</tr>\n",
       "<tr>\n",
       "<td>2008</td>\n",
       "<td>8.5</td>\n",
       "</tr>\n",
       "</table>\n",
       "8 rows in set (0.00 sec)"
      ],
      "text/plain": [
       "+--------------+------------+\n",
       "| release_year | avg_rating |\n",
       "+--------------+------------+\n",
       "| 1936         | 8.5        |\n",
       "+--------------+------------+\n",
       "| 1972         | 9.2        |\n",
       "+--------------+------------+\n",
       "| 1974         | 8.6        |\n",
       "+--------------+------------+\n",
       "| 1977         | 8.6        |\n",
       "+--------------+------------+\n",
       "| 1994         | 8.8        |\n",
       "+--------------+------------+\n",
       "| 1999         | 8.54       |\n",
       "+--------------+------------+\n",
       "| 2002         | 8.5        |\n",
       "+--------------+------------+\n",
       "| 2008         | 8.5        |\n",
       "+--------------+------------+\n",
       "8 rows in set (0.00 sec)"
      ]
     },
     "execution_count": 7,
     "metadata": {},
     "output_type": "execute_result"
    }
   ],
   "source": [
    "SELECT release_year,\n",
    "       AVG(rating) AS avg_rating\n",
    "  FROM movies\n",
    " GROUP BY release_year\n",
    "HAVING AVG(rating) >= 8.5;"
   ]
  },
  {
   "cell_type": "markdown",
   "id": "fc13291f",
   "metadata": {},
   "source": [
    "除了前述改使用分組聚合版本的 `HAVING` 保留字加上帶有聚合函數的條件以外，我們也能透過子查詢來完成。假定有一個資料表 `avg_rating_by_release_year` 記錄了不同年份 `release_year` 上映的電影平均評等，我們可以寫出以下的 SQL 敘述得到這個問題的答案：\n",
    "\n",
    "```sql\n",
    "SELECT *\n",
    "  FROM avg_rating_by_release_year\n",
    " WHERE avg_rating >= 8.5;\n",
    "```\n",
    "\n",
    "但是 `avg_rating_by_release_year` 必須要先經過一個 SQL 敘述查詢才能得知為多少，獲得關鍵 `avg_rating_by_release_year` 的 SQL 敘述為：\n",
    "\n",
    "```sql\n",
    "SELECT release_year,\n",
    "       AVG(rating) AS avg_rating\n",
    "  FROM movies\n",
    " GROUP BY release_year;\n",
    "```\n",
    "\n",
    "接著我們可以將 `avg_rating_by_release_year` 替換為 SQL 敘述，並用小括號 `()` 包裝起來，並加上別名，就能成功將本來應該分兩次、先後執行的 SQL 敘述，調整為子查詢的結構外型。"
   ]
  },
  {
   "cell_type": "code",
   "execution_count": 8,
   "id": "c5314282",
   "metadata": {},
   "outputs": [
    {
     "data": {
      "text/html": [
       "<table>\n",
       "<tr>\n",
       "<th>release_year</th>\n",
       "<th>avg_rating</th>\n",
       "</tr>\n",
       "<tr>\n",
       "<td>1936</td>\n",
       "<td>8.5</td>\n",
       "</tr>\n",
       "<tr>\n",
       "<td>1972</td>\n",
       "<td>9.2</td>\n",
       "</tr>\n",
       "<tr>\n",
       "<td>1974</td>\n",
       "<td>8.6</td>\n",
       "</tr>\n",
       "<tr>\n",
       "<td>1977</td>\n",
       "<td>8.6</td>\n",
       "</tr>\n",
       "<tr>\n",
       "<td>1994</td>\n",
       "<td>8.8</td>\n",
       "</tr>\n",
       "<tr>\n",
       "<td>1999</td>\n",
       "<td>8.54</td>\n",
       "</tr>\n",
       "<tr>\n",
       "<td>2002</td>\n",
       "<td>8.5</td>\n",
       "</tr>\n",
       "<tr>\n",
       "<td>2008</td>\n",
       "<td>8.5</td>\n",
       "</tr>\n",
       "</table>\n",
       "8 rows in set (0.00 sec)"
      ],
      "text/plain": [
       "+--------------+------------+\n",
       "| release_year | avg_rating |\n",
       "+--------------+------------+\n",
       "| 1936         | 8.5        |\n",
       "+--------------+------------+\n",
       "| 1972         | 9.2        |\n",
       "+--------------+------------+\n",
       "| 1974         | 8.6        |\n",
       "+--------------+------------+\n",
       "| 1977         | 8.6        |\n",
       "+--------------+------------+\n",
       "| 1994         | 8.8        |\n",
       "+--------------+------------+\n",
       "| 1999         | 8.54       |\n",
       "+--------------+------------+\n",
       "| 2002         | 8.5        |\n",
       "+--------------+------------+\n",
       "| 2008         | 8.5        |\n",
       "+--------------+------------+\n",
       "8 rows in set (0.00 sec)"
      ]
     },
     "execution_count": 8,
     "metadata": {},
     "output_type": "execute_result"
    }
   ],
   "source": [
    "SELECT *\n",
    "  FROM (\n",
    "           SELECT release_year,\n",
    "                  AVG(rating) AS avg_rating\n",
    "             FROM movies\n",
    "            GROUP BY release_year\n",
    "       )\n",
    "       AS avg_rating_by_release_year\n",
    " WHERE avg_rating >= 8.5;"
   ]
  },
  {
   "cell_type": "markdown",
   "id": "handled-occasions",
   "metadata": {
    "slideshow": {
     "slide_type": "slide"
    }
   },
   "source": [
    "## 重點統整\n",
    "\n",
    "- 一段 SQL 敘述中包括另外一段 SQL 敘述、先後使用多個 SQL 敘述，先執行的 SQL 敘述查詢結果將會成回後執行的 SQL 敘述中的依據，這樣的 SQL 敘述結構就稱為子查詢（Subquery）。\n",
    "- 常見的子查詢結構有三種外型：\n",
    "    1. 接續在 `WHERE` 保留字後的結構外型。\n",
    "    2. 接續在 `SELECT` 保留字後的結構外型。\n",
    "    3. 接續在 `FROM` 保留字後的結構外型，這裡要注意的是先前別名是針對欄位名稱，這裡則是將先執行的 SQL 敘述查詢結果視為像資料表（實際上並不是）的存在。\n",
    "- 將截至目前所學的 SQL 保留字集中在一個敘述中，寫作順序必須遵從標準 SQL 的規定。\n",
    "\n",
    "```sql\n",
    "SELECT DISTINCT columns AS alias,\n",
    "       CASE WHEN condition_1 THEN result_1\n",
    "            WHEN condition_2 THEN result_2\n",
    "            ...\n",
    "            ELSE result_n END AS alias\n",
    "  FROM table\n",
    " WHERE conditions\n",
    " GROUP BY columns\n",
    "HAVING conditions\n",
    " ORDER BY columns DESC\n",
    " LIMIT m;\n",
    "```\n",
    "    \n",
    "## 練習題 30-34\n",
    "\n",
    "練習題會涵蓋四個學習資料庫，記得要依據題目的需求，調整編輯器選單的學習資料庫，在自己電腦的 SQLiteStudio 寫出跟預期輸出相同的 SQL 敘述，寫作過程如果卡關了，可以參考附錄二「練習題參考解答」。\n",
    "\n",
    "### 30. 從 `nba` 資料庫的 `players` 資料表運用子查詢找出 NBA 中身高最高與最矮的球員是誰，參考下列的預期查詢結果。\n",
    "\n",
    "預期輸出：(3, 3) 的查詢結果。\n",
    "\n",
    "```\n",
    "firstName\tlastName\theightMeters\n",
    "Isaiah\tThomas\t1.75\n",
    "Kristaps\tPorzingis\t2.21\n",
    "Boban\tMarjanovic\t2.21\n",
    "```\n",
    "\n",
    "### 31. 從 `nba` 資料庫的 `players` 資料表運用子查詢計算球員的國籍佔比，參考下列的預期查詢結果。\n",
    "\n",
    "預期輸出：(42, 2) 的查詢結果。\n",
    "\n",
    "```\n",
    "country\tplayer_percentage\n",
    "USA\t0.76482213438735\n",
    "Canada\t0.04150197628458\n",
    "France\t0.01778656126482\n",
    "Germany\t0.01581027667984\n",
    "Australia\t0.01383399209486\n",
    "Serbia\t0.0098814229249\n",
    "Spain\t0.0098814229249\n",
    "Nigeria\t0.00790513833992\n",
    "Turkey\t0.00790513833992\n",
    "Argentina\t0.00592885375494\n",
    "Bahamas\t0.00592885375494\n",
    "Croatia\t0.00592885375494\n",
    "Japan\t0.00592885375494\n",
    "Lithuania\t0.00592885375494\n",
    "Slovenia\t0.00592885375494\n",
    "Brazil\t0.00395256916996\n",
    "Cameroon\t0.00395256916996\n",
    "Czech Republic\t0.00395256916996\n",
    "DRC\t0.00395256916996\n",
    "Dominican Republic\t0.00395256916996\n",
    "Georgia\t0.00395256916996\n",
    "Greece\t0.00395256916996\n",
    "Latvia\t0.00395256916996\n",
    "Montenegro\t0.00395256916996\n",
    "Ukraine\t0.00395256916996\n",
    "United Kingdom\t0.00395256916996\n",
    "Angola\t0.00197628458498\n",
    "Austria\t0.00197628458498\n",
    "Bosnia and Herzegovina\t0.00197628458498\n",
    "Denmark\t0.00197628458498\n",
    "Finland\t0.00197628458498\n",
    "Israel\t0.00197628458498\n",
    "Italy\t0.00197628458498\n",
    "Jamaica\t0.00197628458498\n",
    "New Zealand\t0.00197628458498\n",
    "Portugal\t0.00197628458498\n",
    "Republic of the Congo\t0.00197628458498\n",
    "Saint Lucia\t0.00197628458498\n",
    "Senegal\t0.00197628458498\n",
    "South Sudan\t0.00197628458498\n",
    "Sudan\t0.00197628458498\n",
    "Switzerland\t0.00197628458498\n",
    "```\n",
    "\n",
    "### 32. 從 `nba` 資料庫運用子查詢找出 NBA 的場均得分王（`ppg`），參考下列的預期查詢結果。\n",
    "\n",
    "預期輸出：(1, 2) 的查詢結果。\n",
    "\n",
    "```\n",
    "firstName\tlastName\n",
    "Kevin\tDurant\n",
    "```\n",
    "\n",
    "### 33. 從 `nba` 資料庫運用子查詢找出目前布魯克林籃網隊（Brooklyn Nets）的球員名單，參考下列的預期查詢結果。\n",
    "\n",
    "預期輸出：(16, 2) 的查詢結果。\n",
    "\n",
    "```\n",
    "firstName\tlastName\n",
    "LaMarcus\tAldridge\n",
    "Kevin\tDurant\n",
    "Goran\tDragic\n",
    "Blake\tGriffin\n",
    "Patty\tMills\n",
    "Kyrie\tIrving\n",
    "Andre\tDrummond\n",
    "Seth\tCurry\n",
    "Joe\tHarris\n",
    "Ben\tSimmons\n",
    "Bruce\tBrown\n",
    "Nic\tClaxton\n",
    "Day'Ron\tSharpe\n",
    "Kessler\tEdwards\n",
    "Cam\tThomas\n",
    "David\tDuke Jr.\n",
    "```\n",
    "\n",
    "### 34. 從 `twElection2020` 資料庫的 `presidential` 資料表計算各組候選人的得票率，參考下列的預期查詢結果。\n",
    "\n",
    "預期輸出：(3, 2) 的查詢結果。\n",
    "\n",
    "```\n",
    "candidate_id\tvotes_percentage\n",
    "1\t4.26%\n",
    "2\t38.61%\n",
    "3\t57.13%\n",
    "```"
   ]
  }
 ],
 "metadata": {
  "kernelspec": {
   "display_name": "xsql",
   "language": "sqlite",
   "name": "xsql"
  },
  "language_info": {
   "codemirror_mode": "sql",
   "file_extension": "",
   "mimetype": "",
   "name": "mysql",
   "version": "0.1.4"
  }
 },
 "nbformat": 4,
 "nbformat_minor": 5
}
