{
  "cells": [
    {
      "cell_type": "markdown",
      "metadata": {
        "id": "view-in-github",
        "colab_type": "text"
      },
      "source": [
        "<a href=\"https://colab.research.google.com/github/ccwu0918/book-sqlfifty/blob/main/Sqlite_Flask_for_Food_Bank.ipynb\" target=\"_parent\"><img src=\"https://colab.research.google.com/assets/colab-badge.svg\" alt=\"Open In Colab\"/></a>"
      ]
    },
    {
      "cell_type": "markdown",
      "metadata": {
        "id": "1IhN2BgUGzDJ"
      },
      "source": [
        "# SQL"
      ]
    },
    {
      "cell_type": "markdown",
      "metadata": {
        "id": "zIR4hP4zKpqX"
      },
      "source": [
        "## 為什麼要用資料庫？\n",
        "- 可以隨心所欲的做資料的存取\n",
        "- 當資料龐大時，處理效率比直接對檔案IO快上許多\n",
        "- 方便跟各種服務系統串接"
      ]
    },
    {
      "cell_type": "markdown",
      "metadata": {
        "id": "Rc4UK_DYMoDF"
      },
      "source": [
        "## 資料庫種類\n",
        "- 關聯式資料庫：資料欄位須先定義清楚、穩定\n",
        "- 非關聯式資料庫：資料擁有彈性結構、速度較快"
      ]
    },
    {
      "cell_type": "markdown",
      "metadata": {
        "id": "EJY_Gh5yLYIN"
      },
      "source": [
        "## 常見的關聯式資料庫種類\n",
        "- MySQL：免費、開源性質、常應用於Web，較適合中小型企業事務\n",
        "- PostgreSQL：免費、開源、以商業應用導向為主\n",
        "- MSSQL：Microsoft SQL Server，only on Windows，花錢就能買的完整方案。\n",
        "- Oracle：公部門常用的資料庫系統，安全、效能、功能都極為齊全。\n",
        "- SQLite：基於文件的資料庫，不需要架設伺服器，就能處理各種類數據。"
      ]
    },
    {
      "cell_type": "markdown",
      "metadata": {
        "id": "8KGQvub4MVKx"
      },
      "source": [
        "## 常見的非關聯式資料庫種類\n",
        "- MongoDB\n",
        "- Couchbase\n",
        "- Cassandra\n",
        "- Redis\n",
        "- memcache\n",
        "- HBase\n",
        "- Neo4J\n",
        "\n",
        "![](http://image.slidesharecdn.com/mongodbrdbmsmigrationwebinar-140202060406-phpapp02/95/migrating-from-relational-databases-to-mongodb-10-638.jpg?cb=1391321199)"
      ]
    },
    {
      "cell_type": "markdown",
      "metadata": {
        "id": "RVPZc7P9IQIN"
      },
      "source": [
        "## Static\n",
        "- 新建資料夾 `static`\n",
        "- 在 `static` 資料夾中，新增檔案 `style.css`\n",
        "\n",
        "## instance\n",
        "- 新建資料夾 `instance`\n",
        "- 在 `instance` 資料夾中，建立資料庫檔案 `food_bank.db`\n",
        "\n",
        "## Template\n",
        "- 新建資料夾 `templates`\n",
        "- 在 `templates` 資料夾中，新增檔案 `food_bank.html`\n",
        "- 在 `templates` 資料夾中，新增檔案 `view_food_bank.html`\n",
        "- 在 `templates` 資料夾中，新增檔案 `edit_food_bank.html`\n",
        "\n"
      ]
    },
    {
      "cell_type": "code",
      "execution_count": 1,
      "metadata": {
        "id": "PSXyk5Pwwg2C"
      },
      "outputs": [],
      "source": [
        "!mkdir ./static\n",
        "!mkdir ./instance\n",
        "!mkdir ./templates"
      ]
    },
    {
      "cell_type": "markdown",
      "metadata": {
        "id": "BOMf6EWuG0RH"
      },
      "source": [
        "## SQLite"
      ]
    },
    {
      "cell_type": "markdown",
      "metadata": {
        "id": "IGFD4jwYOhwL"
      },
      "source": [
        "``` python\n",
        "import sqlite3\n",
        "conn = sqlite3.connect('資料庫名稱.db')\n",
        "sql = \"......\"\n",
        "cursor = conn.execute(sql_ins)\n",
        "cursor = conn.commit() ###  會修改到資料的必須要多寫此行\n",
        "conn.close()\n",
        "```"
      ]
    },
    {
      "cell_type": "markdown",
      "metadata": {
        "id": "N6gxe9inIrtE"
      },
      "source": [
        "### 建立資料庫/資料表\n",
        "- 建立資料庫(Database/DB)：`資料庫.db`\n",
        "- 建立資料表(Table)：\n",
        "\n",
        "SQLite 型別\n",
        "- INTEGER：整數\n",
        "- REAL：浮點數\n",
        "- TEXT：文字\n",
        "- BLOB：原始資料\n",
        "\n",
        "``` mysql\n",
        "CREATE TABLE `資料表` (\n",
        "\t`欄位1`\t型別,\n",
        "\t`欄位2`\t型別,\n",
        "\t`.....\n",
        ")\n",
        "```"
      ]
    },
    {
      "cell_type": "code",
      "execution_count": 2,
      "metadata": {
        "id": "DsJAWlLjWNPC",
        "colab": {
          "base_uri": "https://localhost:8080/"
        },
        "outputId": "b69dc2c0-9cfa-4cac-d857-e8cdafc89c5e"
      },
      "outputs": [
        {
          "output_type": "stream",
          "name": "stdout",
          "text": [
            "Looking in indexes: https://pypi.org/simple, https://us-python.pkg.dev/colab-wheels/public/simple/\n",
            "Collecting SQLAlchemy==1.4.46\n",
            "  Downloading SQLAlchemy-1.4.46-cp310-cp310-manylinux_2_5_x86_64.manylinux1_x86_64.manylinux_2_17_x86_64.manylinux2014_x86_64.whl (1.6 MB)\n",
            "\u001b[2K     \u001b[90m━━━━━━━━━━━━━━━━━━━━━━━━━━━━━━━━━━━━━━━━\u001b[0m \u001b[32m1.6/1.6 MB\u001b[0m \u001b[31m19.1 MB/s\u001b[0m eta \u001b[36m0:00:00\u001b[0m\n",
            "\u001b[?25hRequirement already satisfied: greenlet!=0.4.17 in /usr/local/lib/python3.10/dist-packages (from SQLAlchemy==1.4.46) (2.0.2)\n",
            "Installing collected packages: SQLAlchemy\n",
            "  Attempting uninstall: SQLAlchemy\n",
            "    Found existing installation: SQLAlchemy 2.0.10\n",
            "    Uninstalling SQLAlchemy-2.0.10:\n",
            "      Successfully uninstalled SQLAlchemy-2.0.10\n",
            "Successfully installed SQLAlchemy-1.4.46\n"
          ]
        }
      ],
      "source": [
        "!pip install SQLAlchemy==1.4.46"
      ]
    },
    {
      "cell_type": "code",
      "execution_count": null,
      "metadata": {
        "id": "zorb7TZoWMWk"
      },
      "outputs": [],
      "source": [
        "# !git clone https://github.com/ccwu0918/book-sqlfifty"
      ]
    },
    {
      "cell_type": "code",
      "execution_count": 22,
      "metadata": {
        "id": "HXd7HGX0KVvv"
      },
      "outputs": [],
      "source": [
        "import sqlite3\n",
        "conn = sqlite3.connect('./instance/food_bank.db') # 如果資料庫不存在，會自動幫你建立\n",
        "sql_create_table = \"\"\"\n",
        "CREATE TABLE IF NOT EXISTS food_lists (\n",
        "\t`id` INTEGER PRIMARY KEY,\n",
        "\t`store` TEXT,\n",
        "\t`store_name` TEXT,\n",
        "\t`item_name` TEXT,\n",
        "\t`number` INTEGER,\n",
        "\t`price` INTEGER,\n",
        "\t`availability` TEXT,\n",
        "\t`expired_date` DATE,\n",
        "\t`booking_date` DATE\n",
        ");\n",
        "\"\"\"\n",
        "cursor = conn.execute(sql_create_table)\n",
        "conn.close()"
      ]
    },
    {
      "cell_type": "markdown",
      "metadata": {
        "id": "69a9gYGDOy9W"
      },
      "source": [
        "## CRUD"
      ]
    },
    {
      "cell_type": "markdown",
      "metadata": {
        "id": "gGoP-0kgO_Xy"
      },
      "source": [
        "### Create 新增資料\n",
        "``` mysql\n",
        "INSERT INTO `資料表` (`欄位1`, `欄位2`, ...)\n",
        "VALUES (值1, 值2, )\n",
        "```"
      ]
    },
    {
      "cell_type": "markdown",
      "metadata": {
        "id": "RxNY9qiVN-Db"
      },
      "source": [
        "\n",
        "### 一次新增多筆資料 (INSERT INTO SELECT)\n",
        "\n",
        "\n",
        "語法：\n",
        "\n",
        "``` mysql\n",
        "INSERT INTO `資料表` (`欄位1`, `欄位2`, ...)\n",
        "VALUES (value1_1, value1_2, ...),\n",
        "    (value2_1, value2_2, ...),\n",
        "    (value3_1, value3_2, ...),\n",
        "    ... ;\n",
        "或利用子查詢，從其它的資料表中取得資料來作一次多筆新增：\n",
        "\n",
        "INSERT INTO table_name (column1, column2, column3,...)\n",
        "SELECT othercolumn1, othercolumn2, othercolumn3,...\n",
        "FROM othertable_name;\n",
        "```"
      ]
    },
    {
      "cell_type": "code",
      "execution_count": 23,
      "metadata": {
        "id": "qFxe4P0y5BF8"
      },
      "outputs": [],
      "source": [
        "#@title 新增一筆訂房記錄\n",
        "import sqlite3\n",
        "conn = sqlite3.connect('./instance/food_bank.db')\n",
        "\n",
        "sql_ins = \"\"\"\n",
        "    INSERT INTO food_lists (store, store_name, item_name, number, price, availability, expired_date)\n",
        "             VALUES ('7-11', '7-11金門門市', '經典總匯三明治', 3, 39, 'available', '2023/06/05');\n",
        "\"\"\"\n",
        "cursor = conn.execute(sql_ins)\n",
        "cursor = conn.commit()\n",
        "conn.close()"
      ]
    },
    {
      "cell_type": "markdown",
      "metadata": {
        "id": "Xcx69GhqO4R-"
      },
      "source": [
        "### Read 讀取資料\n",
        "``` mysql\n",
        "SELECT `欄位1`, `欄位2`, ...\n",
        "FROM `資料表`\n",
        "WHERE 條件1 and/or 條件2 ....\n",
        "ORDER BY 排序方式1, 排序方式2\n",
        "LIMIT 筆數限制\n",
        "```\n",
        "- 顯示欄位：\n",
        "    - 全選所有資料表內的欄位 `SELECT * `\n",
        "    - 可自訂新欄位(運算符號和Python相同) `SELECT 欄位1, (欄位1-欄位2)*100/欄位2`\n",
        "    - 可自訂順序(不需要跟資料表順序一致)\n",
        "- 條件：\n",
        "    - 數值比較符號大致上和Python相同，\n",
        "        - 比較兩邊相等：`=`\n",
        "        - 沒有整除、次方運算子(要用[函式](https://www.w3schools.com/sql/sql_ref_mysql.asp))\n",
        "- 排序方式：\n",
        "    - DESC 倒序(大->小)排序\n",
        "    - ASC 正序(小->大)排序(可省略不寫)"
      ]
    },
    {
      "cell_type": "code",
      "execution_count": 28,
      "metadata": {
        "id": "UtKACt5KPJ7x"
      },
      "outputs": [],
      "source": [
        "import sqlite3\n",
        "conn = sqlite3.connect('./instance/food_bank.db')\n",
        "\n",
        "# SELECT `stock_id`,`date`,`open`,`close`,`high`,`low`,`volume`, `volume`*1000\n",
        "# FROM `stock_date`\n",
        "# WHERE `date` = '2020-03-03' or `volume` >= 40000\n",
        "# ORDER BY `stock_id` DESC, `date`\n",
        "\n",
        "sql = \"\"\"\n",
        "    SELECT * FROM food_lists ORDER BY id, expired_date DESC;\n",
        "\"\"\"\n",
        "cursor = conn.execute(sql)\n",
        "for row in cursor.fetchall():\n",
        "    print(row)\n",
        "conn.close()"
      ]
    },
    {
      "cell_type": "markdown",
      "metadata": {
        "id": "RL-NUTI6PKs_"
      },
      "source": [
        "### Update 更新資料\n",
        "``` mysql\n",
        "UPDATE `資料表`\n",
        "SET `欄位1`=值1, `欄位2`=值2, ...\n",
        "WHERE 條件1 and/or 條件2 ....\n",
        "```"
      ]
    },
    {
      "cell_type": "code",
      "execution_count": 25,
      "metadata": {
        "id": "zuic5XnKjLz3"
      },
      "outputs": [],
      "source": [
        "import sqlite3\n",
        "conn = sqlite3.connect('./instance/food_bank.db')\n",
        "\n",
        "id = 1\n",
        "store = \"全家\"\n",
        "store_name = \"全家_金大門市\"\n",
        "item_name = \"經典總匯三明治\"\n",
        "number = 2\n",
        "price = 29\n",
        "expired_date = \"2023/06/06\"\n",
        "\n",
        "sql_upd = f\"UPDATE food_lists SET store='{store}', store_name='{store_name}',item_name='{item_name}',number={number},price={price},expired_date='{expired_date}' WHERE id={id};\"\n",
        "\n",
        "cursor = conn.execute(sql_upd)\n",
        "cursor = conn.commit()\n",
        "conn.close()"
      ]
    },
    {
      "cell_type": "markdown",
      "metadata": {
        "id": "B1TSoIGgPOp2"
      },
      "source": [
        "### Delete 刪除資料\n",
        "``` mysql\n",
        "DELETE\n",
        "FROM `資料表`\n",
        "WHERE 條件1 and/or 條件2 ....\n",
        "```"
      ]
    },
    {
      "cell_type": "code",
      "execution_count": 27,
      "metadata": {
        "id": "P3C-3OiYPRkk"
      },
      "outputs": [],
      "source": [
        "import sqlite3\n",
        "conn = sqlite3.connect('./instance/food_bank.db')\n",
        "\n",
        "id = 1\n",
        "\n",
        "# DELETE\n",
        "# FROM `stock_date`\n",
        "# WHERE `stock_id` = 2330 and `date` = '2020-03-03'\n",
        "\n",
        "sql_del = f\"DELETE FROM food_lists WHERE id={id};\"\n",
        "\n",
        "cursor = conn.execute(sql_del)\n",
        "cursor = conn.commit()\n",
        "conn.close()"
      ]
    },
    {
      "cell_type": "markdown",
      "metadata": {
        "id": "_Frte3hAm-wn"
      },
      "source": [
        "### 處理重複資料\n",
        "- 新增資料的時候先檢查資料是否存在：`SELECT`\n",
        "- 設計資料庫：\n",
        "    - 新增一欄位讓所有資料各擁有一唯一代碼，\n",
        "        - 刪除時留下最小或最大的代碼：先用`SELECT`，再用`DELETE`\n",
        "    - 建立唯一值組合：`UNIQUE INDEX`\n",
        "        - 要先思考哪些欄位組合起來是唯一值"
      ]
    },
    {
      "cell_type": "code",
      "execution_count": 58,
      "metadata": {
        "id": "bZ677Ry7lRjS"
      },
      "outputs": [],
      "source": [
        "import sqlite3\n",
        "conn = sqlite3.connect('./instance/food_bank.db')\n",
        "sql_create_ui = \"\"\"\n",
        "    CREATE UNIQUE INDEX `id_date` ON `food_lists`(`store_name`, `item_name`, `expired_date`)\n",
        "\"\"\"\n",
        "cursor = conn.execute(sql_create_ui)\n",
        "cursor = conn.commit()\n",
        "conn.close()"
      ]
    },
    {
      "cell_type": "code",
      "execution_count": null,
      "metadata": {
        "id": "v6a-85-XkfKG"
      },
      "outputs": [],
      "source": [
        "import sqlite3\n",
        "conn = sqlite3.connect('./instance/food_bank.db')\n",
        "sql_ins = \"\"\"\n",
        "    INSERT INTO food_lists (store, store_name, item_name, number, price, availability, expired_date)\n",
        "             VALUES ('7-11', '7-11_金大門市', '經典總匯三明治', 3, 29, 'available', '2023/06/05'),\n",
        "                 ('7-11', '7-11_下埔下門市', '經典三明治', 3, 25, 'available', '2023/06/05'),\n",
        "                 ('全家', '全家_金大門市', '總匯三明治', 3, 29, 'available', '2023/06/05'),\n",
        "                 ('全家', '全家_金寧門市', '經典三明治', 3, 25, 'available', '2023/06/05'),\n",
        "                 ('全家', '全家_金湖門市', '雞肉三明治', 3, 30, 'available', '2023/06/05');\n",
        "\"\"\"\n",
        "cursor = conn.execute(sql_ins)\n",
        "cursor = conn.commit()"
      ]
    },
    {
      "cell_type": "code",
      "execution_count": null,
      "metadata": {
        "id": "Xair6-K2lA_1"
      },
      "outputs": [],
      "source": [
        "# sql_ins2 = \"\"\"\n",
        "#     INSERT INTO rooms (room_number, room_type, price, availability, booking_date) VALUES (101, '雙人房', 2000, 'unavailable', '2023/08/08');\n",
        "# \"\"\"\n",
        "# cursor = conn.execute(sql_ins2)\n",
        "# cursor = conn.commit()\n",
        "# conn.close()"
      ]
    },
    {
      "cell_type": "code",
      "execution_count": 30,
      "metadata": {
        "id": "wLrCS_37lOFi",
        "colab": {
          "base_uri": "https://localhost:8080/"
        },
        "outputId": "5e7f0db6-b61a-43e4-b782-aef0831ba30d"
      },
      "outputs": [
        {
          "output_type": "stream",
          "name": "stdout",
          "text": [
            "(1, '7-11', '7-11_金大門市', '經典總匯三明治', 3, 29, 'available', '2023/06/05', None)\n",
            "(2, '7-11', '7-11_下埔下門市', '經典三明治', 3, 25, 'available', '2023/06/05', None)\n",
            "(3, '全家', '全家_金大門市', '總匯三明治', 3, 29, 'available', '2023/06/05', None)\n",
            "(4, '全家', '全家_金寧門市', '經典三明治', 3, 25, 'available', '2023/06/05', None)\n",
            "(5, '全家', '全家_金湖門市', '雞肉三明治', 3, 30, 'available', '2023/06/05', None)\n"
          ]
        }
      ],
      "source": [
        "import sqlite3\n",
        "conn = sqlite3.connect('./instance/food_bank.db')\n",
        "sql = \"\"\"\n",
        "    SELECT *\n",
        "    FROM `food_lists`\n",
        "\"\"\"\n",
        "cursor = conn.execute(sql)\n",
        "for row in cursor.fetchall():\n",
        "    print(row)\n",
        "conn.close()"
      ]
    },
    {
      "cell_type": "markdown",
      "metadata": {
        "id": "OEzzA3sKG3I-"
      },
      "source": [
        "## MySQL"
      ]
    },
    {
      "cell_type": "markdown",
      "metadata": {
        "id": "QhKdBU4Dvesj"
      },
      "source": [
        "``` python\n",
        "import pymysql\n",
        "conn = pymysql.connect(host,account,passwd,dateabase)\n",
        "cursor = conn.cursor()\n",
        "sql = \"......\"\n",
        "cursor.execute(sql)\n",
        "cursor.commit()\n",
        "conn.close()\n",
        "```"
      ]
    },
    {
      "cell_type": "markdown",
      "metadata": {
        "id": "pv0ozFnNvzLQ"
      },
      "source": [
        "### 環境設定"
      ]
    },
    {
      "cell_type": "markdown",
      "metadata": {
        "id": "n77rV1ydwdxq"
      },
      "source": [
        "### [IMDB 資料庫](https://relational.fit.cvut.cz/dataset/IMDb)\n",
        "![](https://relational.fit.cvut.cz/assets/img/datasets-generated/imdb_ijs.svg)\n"
      ]
    },
    {
      "cell_type": "markdown",
      "metadata": {
        "id": "0BScAhZRwYtm"
      },
      "source": [
        "## INNER JOIN\n",
        "- 一對多關係\n",
        "    - 電影有很多演員\n",
        "- 資料單一地方管理\n",
        "    - `stock_list`：股票代碼、股票名稱\n",
        "    - `stock_date`：股票代碼、日期、各交易原始資訊\n",
        "    - 若股票名稱改名，改 `stock_list` 就好"
      ]
    },
    {
      "cell_type": "markdown",
      "metadata": {
        "id": "Ta4QLbJHyGbe"
      },
      "source": [
        "``` mysql\n",
        "SELECT `資料表n`.`欄位1`, `資料表n`.`欄位2`, ...\n",
        "FROM `資料表1`\n",
        "INNER JOIN `資料表2` ON 關聯條件1 and/or 條件2\n",
        "WHERE 條件1 and/or 條件2 ....\n",
        "ORDER BY 排序方式1, 排序方式2\n",
        "LIMIT 筆數限制\n",
        "```"
      ]
    },
    {
      "cell_type": "markdown",
      "metadata": {
        "id": "m-vIHwZYTpqS"
      },
      "source": [
        "## 學習資源\n",
        "- [w3school](https://www.w3schools.com/sql/default.asp)\n",
        "- [深入淺出 SQL](https://www.tenlong.com.tw/products/9789866840166)"
      ]
    },
    {
      "cell_type": "markdown",
      "metadata": {
        "id": "SKai6XR4MpQS"
      },
      "source": [
        "# Flask"
      ]
    },
    {
      "cell_type": "markdown",
      "metadata": {
        "id": "PBZMw_I2RtZw"
      },
      "source": [
        "## 為什麼要學架網站？\n",
        "- 讓任何人不限裝置/平台/系統，只要能上網，都能很方便且易使用\n",
        "- 網路爬蟲抓的就是網站，所以理解網站怎麼架設，對於增加爬蟲經驗會很有幫助\n",
        "\n",
        "## 為什麼要用 Flask ？\n",
        "- 容易上手\n",
        "- 輕量化"
      ]
    },
    {
      "cell_type": "markdown",
      "metadata": {
        "id": "rnBoI7b_MhVd"
      },
      "source": [
        "## 環境設定"
      ]
    },
    {
      "cell_type": "code",
      "execution_count": 4,
      "metadata": {
        "id": "s2YDrW1QIHXL",
        "colab": {
          "base_uri": "https://localhost:8080/"
        },
        "outputId": "11e61d42-602a-40c6-b212-f4d14de85540"
      },
      "outputs": [
        {
          "output_type": "stream",
          "name": "stdout",
          "text": [
            "Looking in indexes: https://pypi.org/simple, https://us-python.pkg.dev/colab-wheels/public/simple/\n",
            "Collecting flask-ngrok\n",
            "  Downloading flask_ngrok-0.0.25-py3-none-any.whl (3.1 kB)\n",
            "Requirement already satisfied: Flask>=0.8 in /usr/local/lib/python3.10/dist-packages (from flask-ngrok) (2.2.4)\n",
            "Requirement already satisfied: requests in /usr/local/lib/python3.10/dist-packages (from flask-ngrok) (2.27.1)\n",
            "Requirement already satisfied: Werkzeug>=2.2.2 in /usr/local/lib/python3.10/dist-packages (from Flask>=0.8->flask-ngrok) (2.3.0)\n",
            "Requirement already satisfied: Jinja2>=3.0 in /usr/local/lib/python3.10/dist-packages (from Flask>=0.8->flask-ngrok) (3.1.2)\n",
            "Requirement already satisfied: itsdangerous>=2.0 in /usr/local/lib/python3.10/dist-packages (from Flask>=0.8->flask-ngrok) (2.1.2)\n",
            "Requirement already satisfied: click>=8.0 in /usr/local/lib/python3.10/dist-packages (from Flask>=0.8->flask-ngrok) (8.1.3)\n",
            "Requirement already satisfied: urllib3<1.27,>=1.21.1 in /usr/local/lib/python3.10/dist-packages (from requests->flask-ngrok) (1.26.15)\n",
            "Requirement already satisfied: certifi>=2017.4.17 in /usr/local/lib/python3.10/dist-packages (from requests->flask-ngrok) (2022.12.7)\n",
            "Requirement already satisfied: charset-normalizer~=2.0.0 in /usr/local/lib/python3.10/dist-packages (from requests->flask-ngrok) (2.0.12)\n",
            "Requirement already satisfied: idna<4,>=2.5 in /usr/local/lib/python3.10/dist-packages (from requests->flask-ngrok) (3.4)\n",
            "Requirement already satisfied: MarkupSafe>=2.0 in /usr/local/lib/python3.10/dist-packages (from Jinja2>=3.0->Flask>=0.8->flask-ngrok) (2.1.2)\n",
            "Installing collected packages: flask-ngrok\n",
            "Successfully installed flask-ngrok-0.0.25\n"
          ]
        }
      ],
      "source": [
        "!pip install flask-ngrok"
      ]
    },
    {
      "cell_type": "code",
      "execution_count": null,
      "metadata": {
        "id": "9K1siLkxmHXG"
      },
      "outputs": [],
      "source": [
        "# !pip install flask==0.12.2"
      ]
    },
    {
      "cell_type": "code",
      "execution_count": 5,
      "metadata": {
        "id": "vIlwHmaknWk1",
        "colab": {
          "base_uri": "https://localhost:8080/"
        },
        "outputId": "9295c0af-adef-43dd-ac4f-d2247bb38a58"
      },
      "outputs": [
        {
          "output_type": "stream",
          "name": "stdout",
          "text": [
            "Looking in indexes: https://pypi.org/simple, https://us-python.pkg.dev/colab-wheels/public/simple/\n",
            "Collecting pyngrok==4.1.1\n",
            "  Downloading pyngrok-4.1.1.tar.gz (18 kB)\n",
            "  Preparing metadata (setup.py) ... \u001b[?25l\u001b[?25hdone\n",
            "Requirement already satisfied: future in /usr/local/lib/python3.10/dist-packages (from pyngrok==4.1.1) (0.18.3)\n",
            "Requirement already satisfied: PyYAML in /usr/local/lib/python3.10/dist-packages (from pyngrok==4.1.1) (6.0)\n",
            "Building wheels for collected packages: pyngrok\n",
            "  Building wheel for pyngrok (setup.py) ... \u001b[?25l\u001b[?25hdone\n",
            "  Created wheel for pyngrok: filename=pyngrok-4.1.1-py3-none-any.whl size=15963 sha256=45d2e0e905114cadde66d3de32486d48eed7288e4b9bfd60e66d7e729cbb09ad\n",
            "  Stored in directory: /root/.cache/pip/wheels/4c/7c/4c/632fba2ea8e88d8890102eb07bc922e1ca8fa14db5902c91a8\n",
            "Successfully built pyngrok\n",
            "Installing collected packages: pyngrok\n",
            "Successfully installed pyngrok-4.1.1\n"
          ]
        }
      ],
      "source": [
        "!pip install pyngrok==4.1.1"
      ]
    },
    {
      "cell_type": "markdown",
      "source": [
        "## 01.註冊 ngrok 帳號\n",
        "\n",
        "\n",
        "\n",
        "[ngrok註冊網址](https://dashboard.ngrok.com/signup)\n",
        "\n",
        "## 02. 建立並取得 authtoken\n"
      ],
      "metadata": {
        "id": "ro-QNqDC_ykq"
      }
    },
    {
      "cell_type": "code",
      "execution_count": 31,
      "metadata": {
        "id": "1vh65fvynZYL",
        "colab": {
          "base_uri": "https://localhost:8080/"
        },
        "outputId": "73d253a8-f061-4e14-a819-db3b9eede408"
      },
      "outputs": [
        {
          "output_type": "stream",
          "name": "stdout",
          "text": [
            "Authtoken saved to configuration file: /root/.ngrok2/ngrok.yml\n"
          ]
        }
      ],
      "source": [
        "!ngrok authtoken '29Yeppg9EErt12XNjS2DlOVpMQv_4GHpNG5xMiBCPHwm2TzmD'"
      ]
    },
    {
      "cell_type": "code",
      "execution_count": null,
      "metadata": {
        "id": "9C5sw9itoRQF"
      },
      "outputs": [],
      "source": [
        "# !ngrok config add-authtoken 29Yeppg9EErt12XNjS2DlOVpMQv_4GHpNG5xMiBCPHwm2TzmD"
      ]
    },
    {
      "cell_type": "markdown",
      "metadata": {
        "id": "lm0tyXnMbE2X"
      },
      "source": [
        "## [Bootstrap](https://getbootstrap.com/)\n",
        "- 包含 HTML、CSS及JavaScript的前端框架，有許多已經設定好的元素，方便開發\n",
        "\n",
        "## [DataTables](https://datatables.net/)\n",
        "- jQuery 套件，讓表格可以有更多功能操作\n",
        "    - jQuery：JavaScript函式庫，簡化 HTML 與 JavaScript 之間的操作\n",
        "- 此套件會把所有結果按照套件設定重新排序，亦即不會依照原先資料的排序"
      ]
    },
    {
      "cell_type": "markdown",
      "metadata": {
        "id": "WpQ0ZuRGc3cM"
      },
      "source": [
        "![](https://simpliv.files.wordpress.com/2018/04/learn-the-foundations-of-html-css-javascript-from-experts12.gif?w=640)"
      ]
    },
    {
      "cell_type": "code",
      "execution_count": 7,
      "metadata": {
        "id": "O__6Fjv0s2Fm",
        "colab": {
          "base_uri": "https://localhost:8080/"
        },
        "outputId": "a75c722a-7819-401a-caff-9517def766bf"
      },
      "outputs": [
        {
          "output_type": "stream",
          "name": "stdout",
          "text": [
            "Looking in indexes: https://pypi.org/simple, https://us-python.pkg.dev/colab-wheels/public/simple/\n",
            "Collecting flask_bootstrap\n",
            "  Downloading Flask-Bootstrap-3.3.7.1.tar.gz (456 kB)\n",
            "\u001b[2K     \u001b[90m━━━━━━━━━━━━━━━━━━━━━━━━━━━━━━━━━━━━━━━\u001b[0m \u001b[32m456.4/456.4 kB\u001b[0m \u001b[31m6.7 MB/s\u001b[0m eta \u001b[36m0:00:00\u001b[0m\n",
            "\u001b[?25h  Preparing metadata (setup.py) ... \u001b[?25l\u001b[?25hdone\n",
            "Requirement already satisfied: Flask>=0.8 in /usr/local/lib/python3.10/dist-packages (from flask_bootstrap) (2.2.4)\n",
            "Collecting dominate (from flask_bootstrap)\n",
            "  Downloading dominate-2.8.0-py2.py3-none-any.whl (29 kB)\n",
            "Collecting visitor (from flask_bootstrap)\n",
            "  Downloading visitor-0.1.3.tar.gz (3.3 kB)\n",
            "  Preparing metadata (setup.py) ... \u001b[?25l\u001b[?25hdone\n",
            "Requirement already satisfied: Werkzeug>=2.2.2 in /usr/local/lib/python3.10/dist-packages (from Flask>=0.8->flask_bootstrap) (2.3.0)\n",
            "Requirement already satisfied: Jinja2>=3.0 in /usr/local/lib/python3.10/dist-packages (from Flask>=0.8->flask_bootstrap) (3.1.2)\n",
            "Requirement already satisfied: itsdangerous>=2.0 in /usr/local/lib/python3.10/dist-packages (from Flask>=0.8->flask_bootstrap) (2.1.2)\n",
            "Requirement already satisfied: click>=8.0 in /usr/local/lib/python3.10/dist-packages (from Flask>=0.8->flask_bootstrap) (8.1.3)\n",
            "Requirement already satisfied: MarkupSafe>=2.0 in /usr/local/lib/python3.10/dist-packages (from Jinja2>=3.0->Flask>=0.8->flask_bootstrap) (2.1.2)\n",
            "Building wheels for collected packages: flask_bootstrap, visitor\n",
            "  Building wheel for flask_bootstrap (setup.py) ... \u001b[?25l\u001b[?25hdone\n",
            "  Created wheel for flask_bootstrap: filename=Flask_Bootstrap-3.3.7.1-py3-none-any.whl size=460122 sha256=fb09e88f694f24cce6e6401dc6500feb9aab75528bff03c6295f427fa4122b95\n",
            "  Stored in directory: /root/.cache/pip/wheels/6f/33/ad/26540e84a28334e5dfeda756df270f95353779f03bc5cf40d4\n",
            "  Building wheel for visitor (setup.py) ... \u001b[?25l\u001b[?25hdone\n",
            "  Created wheel for visitor: filename=visitor-0.1.3-py3-none-any.whl size=3925 sha256=e83e70a244e776444abdaa71ddd708374be71c30afb3f19ba2db60f4e43c1340\n",
            "  Stored in directory: /root/.cache/pip/wheels/19/31/99/2ec5b4459cac4d801d6201d501a354366d180afc9f8bb2d333\n",
            "Successfully built flask_bootstrap visitor\n",
            "Installing collected packages: visitor, dominate, flask_bootstrap\n",
            "Successfully installed dominate-2.8.0 flask_bootstrap-3.3.7.1 visitor-0.1.3\n"
          ]
        }
      ],
      "source": [
        "!pip install flask_bootstrap"
      ]
    },
    {
      "cell_type": "code",
      "execution_count": 8,
      "metadata": {
        "id": "RWhqx6c1vsgi",
        "colab": {
          "base_uri": "https://localhost:8080/"
        },
        "outputId": "9208179e-9184-47b8-9db8-934f98af9c2a"
      },
      "outputs": [
        {
          "output_type": "stream",
          "name": "stdout",
          "text": [
            "Looking in indexes: https://pypi.org/simple, https://us-python.pkg.dev/colab-wheels/public/simple/\n",
            "Collecting flask_sqlalchemy\n",
            "  Downloading Flask_SQLAlchemy-3.0.3-py3-none-any.whl (24 kB)\n",
            "Requirement already satisfied: Flask>=2.2 in /usr/local/lib/python3.10/dist-packages (from flask_sqlalchemy) (2.2.4)\n",
            "Requirement already satisfied: SQLAlchemy>=1.4.18 in /usr/local/lib/python3.10/dist-packages (from flask_sqlalchemy) (1.4.46)\n",
            "Requirement already satisfied: Werkzeug>=2.2.2 in /usr/local/lib/python3.10/dist-packages (from Flask>=2.2->flask_sqlalchemy) (2.3.0)\n",
            "Requirement already satisfied: Jinja2>=3.0 in /usr/local/lib/python3.10/dist-packages (from Flask>=2.2->flask_sqlalchemy) (3.1.2)\n",
            "Requirement already satisfied: itsdangerous>=2.0 in /usr/local/lib/python3.10/dist-packages (from Flask>=2.2->flask_sqlalchemy) (2.1.2)\n",
            "Requirement already satisfied: click>=8.0 in /usr/local/lib/python3.10/dist-packages (from Flask>=2.2->flask_sqlalchemy) (8.1.3)\n",
            "Requirement already satisfied: greenlet!=0.4.17 in /usr/local/lib/python3.10/dist-packages (from SQLAlchemy>=1.4.18->flask_sqlalchemy) (2.0.2)\n",
            "Requirement already satisfied: MarkupSafe>=2.0 in /usr/local/lib/python3.10/dist-packages (from Jinja2>=3.0->Flask>=2.2->flask_sqlalchemy) (2.1.2)\n",
            "Installing collected packages: flask_sqlalchemy\n",
            "Successfully installed flask_sqlalchemy-3.0.3\n"
          ]
        }
      ],
      "source": [
        "!pip install flask_sqlalchemy"
      ]
    },
    {
      "cell_type": "markdown",
      "metadata": {
        "id": "gxt3An_xsSqC"
      },
      "source": [
        "\n",
        "\n",
        "---\n",
        "\n"
      ]
    },
    {
      "cell_type": "markdown",
      "source": [
        "# 網頁樣式設定"
      ],
      "metadata": {
        "id": "XynS08gkNEQg"
      }
    },
    {
      "cell_type": "code",
      "source": [
        "%%writefile ./static/style.css\n",
        "\n",
        "body {\n",
        "    font-family: Arial, sans-serif;\n",
        "    margin: 0;\n",
        "    padding: 0;\n",
        "}\n",
        "\n",
        "h1, h2 {\n",
        "    text-align: center;\n",
        "}\n",
        "\n",
        "form {\n",
        "    display: flex;\n",
        "    flex-direction: column;\n",
        "    align-items: center;\n",
        "}\n",
        "\n",
        "table {\n",
        "    border-collapse: collapse;\n",
        "    width: 100%;\n",
        "    margin-top: 20px;\n",
        "}\n",
        "\n",
        "th, td {\n",
        "    text-align: left;\n",
        "    padding: 8px;\n",
        "}\n",
        "\n",
        "label {\n",
        "    font-weight: bold;\n",
        "}\n",
        "\n",
        "a {\n",
        "    text-decoration: none;\n",
        "    color: #4CAF50;\n",
        "}\n",
        "\n",
        "th {\n",
        "    background-color: #008080;\n",
        "    color: white;\n",
        "}\n",
        "\n",
        "tr:nth-child(even) {\n",
        "    background-color: #f2f2f2;\n",
        "}\n",
        "\n",
        "input[type=\"text\"], input[type=\"date\"] {\n",
        "    padding: 5px;\n",
        "    margin-bottom: 10px;\n",
        "    border-radius: 5px;\n",
        "    border: none;\n",
        "}\n",
        "\n",
        "input[type=\"submit\"] {\n",
        "    background-color: #008080;\n",
        "    color: white;\n",
        "    padding: 10px;\n",
        "    border: none;\n",
        "    border-radius: 5px;\n",
        "    cursor: pointer;\n",
        "    align-items: center;\n",
        "}\n",
        "\n",
        "input[type=\"submit\"]:hover {\n",
        "    background-color: #3e8e41;\n",
        "}"
      ],
      "metadata": {
        "id": "JHMWzBEu6CYS",
        "colab": {
          "base_uri": "https://localhost:8080/"
        },
        "outputId": "dd5620be-d9e2-4072-8201-0766693f76c4"
      },
      "execution_count": 32,
      "outputs": [
        {
          "output_type": "stream",
          "name": "stdout",
          "text": [
            "Overwriting ./static/style.css\n"
          ]
        }
      ]
    },
    {
      "cell_type": "markdown",
      "metadata": {
        "id": "ihz-gwVdyktL"
      },
      "source": [
        "\n",
        "\n",
        "---\n",
        "\n"
      ]
    },
    {
      "cell_type": "markdown",
      "source": [
        "# 進階版網頁"
      ],
      "metadata": {
        "id": "xzzr7uDU8jJb"
      }
    },
    {
      "cell_type": "code",
      "source": [
        "%%writefile ./templates/food_bank.html\n",
        "<head>\n",
        "    <link rel=\"stylesheet\" type=\"text/css\" href=\"https://cdn.datatables.net/1.10.20/css/dataTables.bootstrap4.min.css\">\n",
        "    <link rel=\"stylesheet\" href=\"{{ url_for('static', filename='style.css') }}\">\n",
        "    <script type=\"text/javascript\" src=\"https://code.jquery.com/jquery-3.3.1.js\"></script>\n",
        "    <script type=\"text/javascript\" src=\"https://cdn.datatables.net/1.10.20/js/jquery.dataTables.min.js\"></script>\n",
        "    <script type=\"text/javascript\" src=\"https://cdn.datatables.net/1.10.20/js/dataTables.bootstrap4.min.js\"></script>\n",
        "</head>\n",
        "{% extends \"bootstrap/base.html\" %}\n",
        "\n",
        "{% block title %}View Bookings{% endblock %}\n",
        "\n",
        "{% block navbar %}\n",
        "<div class=\"navbar navbar-inverse\" role=\"navigation\">\n",
        "    <div class=\"container\">\n",
        "        <div class=\"navbar-header\">\n",
        "            <button type=\"button\" class=\"navbar-toggle\"\n",
        "            data-toggle=\"collapse\" data-target=\".navbar-collapse\">\n",
        "                <span class=\"sr-only\">導覽</span>\n",
        "                <span class=\"icon-bar\"></span>\n",
        "                <span class=\"icon-bar\"></span>\n",
        "                <span class=\"icon-bar\"></span>\n",
        "            </button>\n",
        "            <a class=\"navbar-brand\" href=\"/\">新增記錄</a>\n",
        "        </div>\n",
        "        <div class=\"navbar-collapse collapse\">\n",
        "            <ul class=\"nav navbar-nav\">\n",
        "                <li><a href=\"/\">首頁</a></li>\n",
        "                <li><a href=\"/setup\">建立資料表</a></li>\n",
        "                <li><a href=\"/insert_foods\">新增範例資料</a></li>\n",
        "                <li><a href=\"/view_foods\">查詢記錄</a></li>\n",
        "            </ul>\n",
        "        </div>\n",
        "    </div>\n",
        "</div>\n",
        "{% endblock %}\n",
        "\n",
        "{% block content %}\n",
        "<div class=\"container\">\n",
        "    <div class=\"page-header\">\n",
        "    <h1>新增即期商品</h1>\n",
        "    <form method=\"POST\">\n",
        "        <label for=\"store\">便利商店:</label>\n",
        "        <input type=\"text\" id=\"store\" name=\"store\" required><br>\n",
        "        <label for=\"store_name\">商店名稱:</label>\n",
        "        <input type=\"text\" id=\"store_name\" name=\"store_name\" required><br>\n",
        "        <label for=\"item_name\">商品名稱:</label>\n",
        "        <input type=\"text\" id=\"item_name\" name=\"item_name\" required><br>\n",
        "        <label for=\"number\">數量:</label>\n",
        "        <input type=\"text\" id=\"number\" name=\"number\" required><br>\n",
        "        <label for=\"price\">售價:</label>\n",
        "        <input type=\"text\" id=\"price\" name=\"price\" required><br>\n",
        "        <label for=\"expired_date\">有效期限:</label>\n",
        "        <input type=\"date\" id=\"expired_date\" name=\"expired_date\" required><br>\n",
        "        <input type=\"submit\" value=\"確定送出\">\n",
        "    </form>\n",
        "    </div>\n",
        "</div>\n",
        "{% endblock %}"
      ],
      "metadata": {
        "colab": {
          "base_uri": "https://localhost:8080/"
        },
        "outputId": "bb355154-f7ec-4afe-d7ae-0295c98b1806",
        "id": "aUu3qK5GsUPJ"
      },
      "execution_count": 63,
      "outputs": [
        {
          "output_type": "stream",
          "name": "stdout",
          "text": [
            "Overwriting ./templates/food_bank.html\n"
          ]
        }
      ]
    },
    {
      "cell_type": "code",
      "source": [
        "%%writefile ./templates/view_foods.html\n",
        "<head>\n",
        "    <link rel=\"stylesheet\" type=\"text/css\" href=\"https://cdn.datatables.net/1.10.20/css/dataTables.bootstrap4.min.css\">\n",
        "    <link rel=\"stylesheet\" href=\"{{ url_for('static', filename='style.css') }}\">\n",
        "    <script type=\"text/javascript\" src=\"https://code.jquery.com/jquery-3.3.1.js\"></script>\n",
        "    <script type=\"text/javascript\" src=\"https://cdn.datatables.net/1.10.20/js/jquery.dataTables.min.js\"></script>\n",
        "    <script type=\"text/javascript\" src=\"https://cdn.datatables.net/1.10.20/js/dataTables.bootstrap4.min.js\"></script>\n",
        "</head>\n",
        "{% extends \"bootstrap/base.html\" %}\n",
        "\n",
        "{% block title %}即期商品列表{% endblock %}\n",
        "\n",
        "{% block navbar %}\n",
        "<div class=\"navbar navbar-inverse\" role=\"navigation\">\n",
        "    <div class=\"container\">\n",
        "        <div class=\"navbar-header\">\n",
        "            <button type=\"button\" class=\"navbar-toggle\"\n",
        "            data-toggle=\"collapse\" data-target=\".navbar-collapse\">\n",
        "                <span class=\"sr-only\">導覽</span>\n",
        "                <span class=\"icon-bar\"></span>\n",
        "                <span class=\"icon-bar\"></span>\n",
        "                <span class=\"icon-bar\"></span>\n",
        "            </button>\n",
        "            <a class=\"navbar-brand\" href=\"/\">即期商品記錄</a>\n",
        "        </div>\n",
        "        <div class=\"navbar-collapse collapse\">\n",
        "            <ul class=\"nav navbar-nav\">\n",
        "                <li><a href=\"/\">首頁</a></li>\n",
        "                <li><a href=\"/setup\">建立資料表</a></li>\n",
        "                <li><a href=\"/insert_foods\">新增範例資料</a></li>\n",
        "                <li><a href=\"/food_bank\">新增記錄</a></li>\n",
        "            </ul>\n",
        "        </div>\n",
        "    </div>\n",
        "</div>\n",
        "{% endblock %}\n",
        "\n",
        "{% block content %}\n",
        "<div class=\"container\">\n",
        "    <div class=\"page-header\">\n",
        "    <h1>即期商品記錄</h1>\n",
        "    <table class=\"table\" id=\"book_table\">\n",
        "        <thead>\n",
        "            <tr>\n",
        "                <th>便利商店</th>\n",
        "                <th>商店名稱</th>\n",
        "                <th>商品名稱</th>\n",
        "                <th>數量</th>\n",
        "                <th>售價</th>\n",
        "                <th>Availability</th>\n",
        "                <th>有效期限</th>\n",
        "                <th>Action</th>\n",
        "            </tr>\n",
        "        </thead>\n",
        "        <tbody>\n",
        "            {% for food in foods %}\n",
        "            <tr>\n",
        "                <td>{{ food[1] }}</td>\n",
        "                <td>{{ food[2] }}</td>\n",
        "                <td>{{ food[3] }}</td>\n",
        "                <td>{{ food[4] }}</td>\n",
        "                <td>{{ food[5] }}</td>\n",
        "                <td>{{ food[6] }}</td>\n",
        "                <td>{{ food[7] }}</td>\n",
        "                <td>\n",
        "                    <a href=\"{{ url_for('edit_food', id=food[0]) }}\">Edit</a> |\n",
        "                    <a href=\"{{ url_for('delete_food', id=food[0]) }}\">Delete</a>\n",
        "                </td>\n",
        "            </tr>\n",
        "            {% endfor %}\n",
        "        </tbody>\n",
        "    </table>\n",
        "    <br>\n",
        "    <form method=\"POST\">\n",
        "        <input type=\"submit\" value=\"回首頁\">\n",
        "    </form>\n",
        "    </div>\n",
        "</div>\n",
        "{% endblock %}\n",
        "{% block scripts %}\n",
        "<script type=\"text/javascript\">\n",
        "$(document).ready(function() {\n",
        "    $('#book_table').DataTable();\n",
        "} );\n",
        "</script>\n",
        "{% endblock %}"
      ],
      "metadata": {
        "colab": {
          "base_uri": "https://localhost:8080/"
        },
        "id": "Xk8HgiK8wzOR",
        "outputId": "d6cd44ee-b831-4b75-e756-037c61555032"
      },
      "execution_count": 66,
      "outputs": [
        {
          "output_type": "stream",
          "name": "stdout",
          "text": [
            "Overwriting ./templates/view_foods.html\n"
          ]
        }
      ]
    },
    {
      "cell_type": "code",
      "source": [
        "%%writefile ./templates/edit_food.html\n",
        "<head>\n",
        "    <link rel=\"stylesheet\" type=\"text/css\" href=\"https://cdn.datatables.net/1.10.20/css/dataTables.bootstrap4.min.css\">\n",
        "    <link rel=\"stylesheet\" href=\"{{ url_for('static', filename='style.css') }}\">\n",
        "    <script type=\"text/javascript\" src=\"https://code.jquery.com/jquery-3.3.1.js\"></script>\n",
        "    <script type=\"text/javascript\" src=\"https://cdn.datatables.net/1.10.20/js/jquery.dataTables.min.js\"></script>\n",
        "    <script type=\"text/javascript\" src=\"https://cdn.datatables.net/1.10.20/js/dataTables.bootstrap4.min.js\"></script>\n",
        "</head>\n",
        "{% extends \"bootstrap/base.html\" %}\n",
        "\n",
        "{% block title %}修改商品資訊{% endblock %}\n",
        "\n",
        "{% block navbar %}\n",
        "<div class=\"navbar navbar-inverse\" role=\"navigation\">\n",
        "    <div class=\"container\">\n",
        "        <div class=\"navbar-header\">\n",
        "            <button type=\"button\" class=\"navbar-toggle\"\n",
        "            data-toggle=\"collapse\" data-target=\".navbar-collapse\">\n",
        "                <span class=\"sr-only\">導覽</span>\n",
        "                <span class=\"icon-bar\"></span>\n",
        "                <span class=\"icon-bar\"></span>\n",
        "                <span class=\"icon-bar\"></span>\n",
        "            </button>\n",
        "            <a class=\"navbar-brand\" href=\"/\">修改商品資訊</a>\n",
        "        </div>\n",
        "        <div class=\"navbar-collapse collapse\">\n",
        "            <ul class=\"nav navbar-nav\">\n",
        "                <li><a href=\"/\">首頁</a></li>\n",
        "                <li><a href=\"/setup\">建立資料表</a></li>\n",
        "                <li><a href=\"/insert_foods\">新增範例資料</a></li>\n",
        "                <li><a href=\"/view_foods\">即期商品</a></li>\n",
        "                <li><a href=\"/food_bank\">新增記錄</a></li>\n",
        "            </ul>\n",
        "        </div>\n",
        "    </div>\n",
        "</div>\n",
        "{% endblock %}\n",
        "\n",
        "{% block content %}\n",
        "<div class=\"container\">\n",
        "    <div class=\"page-header\">\n",
        "    <h1>修改商品資訊</h1>\n",
        "    <form method=\"POST\">\n",
        "        {% for food in foods %}\n",
        "        <label for=\"store\">便利商店:</label>\n",
        "        <input type=\"text\" id=\"store\" name=\"store\" value=\"{{ food[1] }}\" required><br>\n",
        "        <label for=\"store_name\">商店名稱:</label>\n",
        "        <input type=\"text\" id=\"store_name\" name=\"store_name\" value=\"{{ food[2] }}\" required><br>\n",
        "        <label for=\"item_name\">商品名稱:</label>\n",
        "        <input type=\"text\" id=\"item_name\" name=\"item_name\" value=\"{{ food[3] }}\" required><br>\n",
        "        <label for=\"number\">數量:</label>\n",
        "        <input type=\"text\" id=\"number\" name=\"number\" value=\"{{ food[4] }}\" required><br>\n",
        "        <label for=\"price\">售價:</label>\n",
        "        <input type=\"text\" id=\"price\" name=\"price\" value=\"{{ food[5] }}\" required><br>\n",
        "        <label for=\"expired_date\">有效期限:</label>\n",
        "        <input type=\"date\" id=\"expired_date\" name=\"expired_date\" value=\"{{ food[7] }}\" required> ({{ food[7] }}) <br><br>\n",
        "        {% endfor %}\n",
        "        <input type=\"submit\" value=\"確定修改\">\n",
        "    </form>\n",
        "    </div>\n",
        "</div>\n",
        "{% endblock %}"
      ],
      "metadata": {
        "colab": {
          "base_uri": "https://localhost:8080/"
        },
        "id": "_WhMYm4VzdbW",
        "outputId": "daa6bd63-aeaf-4c02-ba4a-dcdcac9bb267"
      },
      "execution_count": 65,
      "outputs": [
        {
          "output_type": "stream",
          "name": "stdout",
          "text": [
            "Overwriting ./templates/edit_food.html\n"
          ]
        }
      ]
    },
    {
      "cell_type": "markdown",
      "source": [
        "\n",
        "\n",
        "---\n",
        "\n"
      ],
      "metadata": {
        "id": "-yYuIYB68UyC"
      }
    },
    {
      "cell_type": "code",
      "execution_count": null,
      "metadata": {
        "id": "CmN_a2hUsTeG",
        "colab": {
          "base_uri": "https://localhost:8080/"
        },
        "outputId": "45794b04-e2ed-48db-f959-b1c414f8b07f"
      },
      "outputs": [
        {
          "output_type": "stream",
          "name": "stdout",
          "text": [
            " * Serving Flask app '__main__'\n",
            " * Debug mode: off\n"
          ]
        },
        {
          "output_type": "stream",
          "name": "stderr",
          "text": [
            "INFO:werkzeug:\u001b[31m\u001b[1mWARNING: This is a development server. Do not use it in a production deployment. Use a production WSGI server instead.\u001b[0m\n",
            " * Running on http://127.0.0.1:5000\n",
            "INFO:werkzeug:\u001b[33mPress CTRL+C to quit\u001b[0m\n"
          ]
        },
        {
          "output_type": "stream",
          "name": "stdout",
          "text": [
            " * Running on http://cd79-34-23-255-244.ngrok-free.app\n",
            " * Traffic stats available on http://127.0.0.1:4040\n"
          ]
        }
      ],
      "source": [
        "from flask_ngrok import run_with_ngrok\n",
        "from flask import Flask, render_template, request, redirect, url_for\n",
        "from flask_bootstrap import Bootstrap\n",
        "from flask_sqlalchemy import SQLAlchemy\n",
        "\n",
        "import sqlite3\n",
        "\n",
        "app = Flask(__name__)\n",
        "\n",
        "# 連接SQLite資料庫\n",
        "# conn = sqlite3.connect('food_bank.db')\n",
        "\n",
        "app.config['SQLALCHEMY_DATABASE_URI'] = 'sqlite:///food_bank.db'\n",
        "db = SQLAlchemy(app)\n",
        "bootstrap = Bootstrap(app)\n",
        "run_with_ngrok(app)\n",
        "\n",
        "\n",
        "# 建立食物銀行資料表\n",
        "@app.route('/setup')\n",
        "def setup():\n",
        "    sql = \"\"\"\n",
        "    CREATE TABLE IF NOT EXISTS food_lists (\n",
        "        `id` INTEGER PRIMARY KEY,\n",
        "        `store` TEXT,\n",
        "        `store_name` TEXT,\n",
        "        `item_name` TEXT,\n",
        "        `number` INTEGER,\n",
        "        `price` INTEGER,\n",
        "        `availability` TEXT,\n",
        "        `expired_date` DATE,\n",
        "        `booking_date` DATE\n",
        "    );\n",
        "    \"\"\"\n",
        "\n",
        "    db.engine.execute(sql)\n",
        "    # return \"系統資料表建立成功！<a href=\\\"/\\\">回首頁</a>\"\n",
        "    return redirect(url_for('view_foods'))\n",
        "\n",
        "@app.route('/', methods=['GET', 'POST'])\n",
        "\n",
        "# 新增記錄功能\n",
        "@app.route('/food_bank', methods=['GET', 'POST'])\n",
        "def food_bank():\n",
        "    if request.method == 'POST':\n",
        "        store = request.form['store']\n",
        "        store_name = request.form['store_name']\n",
        "        item_name = request.form['item_name']\n",
        "        number = request.form['number']\n",
        "        price = request.form['price']\n",
        "        availability = 'available'\n",
        "        expired_date = request.form['expired_date']\n",
        "\n",
        "        sql = f\"\"\"\n",
        "            INSERT INTO food_lists (store, store_name, item_name, number, price, availability, expired_date)\n",
        "                    VALUES ('{store}', '{store_name}', '{item_name}', {number}, {price}, '{availability}', '{expired_date}');\n",
        "        \"\"\"\n",
        "\n",
        "        db.engine.execute(sql)\n",
        "        return redirect(url_for('view_foods'))\n",
        "    return render_template('food_bank.html')\n",
        "\n",
        "# 新增多筆範例記錄\n",
        "@app.route('/insert_foods')\n",
        "def insert():\n",
        "    try:                      # 使用 try，測試內容是否正確\n",
        "        sql = \"\"\"\n",
        "            INSERT INTO food_lists (store, store_name, item_name, number, price, availability, expired_date)\n",
        "                    VALUES ('7-11', '7-11_金大門市', '經典總匯三明治', 3, 29, 'available', '2023/06/05'),\n",
        "                        ('7-11', '7-11_下埔下門市', '經典三明治', 3, 25, 'available', '2023/06/05'),\n",
        "                        ('全家', '全家_金大門市', '總匯三明治', 3, 29, 'available', '2023/06/05'),\n",
        "                        ('全家', '全家_金寧門市', '經典三明治', 3, 25, 'available', '2023/06/05'),\n",
        "                        ('全家', '全家_金湖門市', '雞肉三明治', 3, 30, 'available', '2023/06/05');\n",
        "        \"\"\"\n",
        "\n",
        "        db.engine.execute(sql)\n",
        "        # return \"多筆範例資料新增成功！<a href=\\\"/\\\">回首頁</a>\"\n",
        "    except:                   # 如果 try 的內容發生錯誤，就執行 except 裡的內容\n",
        "        print(\"Error\")\n",
        "    return redirect(url_for('view_foods'))\n",
        "\n",
        "# 查看即期商品紀錄\n",
        "@app.route('/view_foods', methods=['GET', 'POST'])\n",
        "def view_foods():\n",
        "    if request.method == 'GET':\n",
        "        sql = \"\"\"\n",
        "            SELECT * FROM food_lists ORDER BY id, expired_date DESC;\n",
        "        \"\"\"\n",
        "        foods = db.engine.execute(sql)\n",
        "        return render_template('view_foods.html', foods=foods)\n",
        "    else:\n",
        "        return redirect(url_for('food_bank'))\n",
        "\n",
        "# 修改商品紀錄\n",
        "@app.route('/edit_food/<int:id>', methods=['GET', 'POST'])\n",
        "def edit_food(id):\n",
        "    if request.method == 'POST':\n",
        "\n",
        "        store = request.form['store']\n",
        "        store_name = request.form['store_name']\n",
        "        item_name = request.form['item_name']\n",
        "        number = request.form['number']\n",
        "        price = request.form['price']\n",
        "        availability = 'unavailable'\n",
        "        expired_date = request.form['expired_date']\n",
        "\n",
        "        sql = f\"UPDATE food_lists SET store='{store}', store_name='{store_name}',item_name='{item_name}',number={number},price={price},expired_date='{expired_date}' WHERE id={id};\"\n",
        "\n",
        "        db.engine.execute(sql)\n",
        "        # return \"資料修改成功！\"\n",
        "        return redirect(url_for('view_foods'))\n",
        "    else:\n",
        "        sql = f\"SELECT * FROM food_lists WHERE id={id};\"\n",
        "        foods = db.engine.execute(sql)\n",
        "\n",
        "        return render_template('edit_food.html', foods=foods)\n",
        "\n",
        "# 刪除商品紀錄\n",
        "@app.route('/delete_food/<int:id>')\n",
        "def delete_food(id):\n",
        "    sql = f\"DELETE FROM food_lists WHERE id={id};\"\n",
        "    db.engine.execute(sql)\n",
        "    # return \"資料刪除成功！\"\n",
        "    return redirect(url_for('view_foods'))\n",
        "\n",
        "# 使用參數刪除商品紀錄\n",
        "@app.route(\"/delete_food\")\n",
        "def delete_booking_param():\n",
        "    id = request.args.get('id')\n",
        "    sql = f\"DELETE FROM food_lists WHERE id={id};\"\n",
        "    db.engine.execute(sql)\n",
        "    # return \"資料刪除成功！\"\n",
        "    return redirect(url_for('view_foods'))\n",
        "\n",
        "if __name__ == '__main__':\n",
        "    app.run()"
      ]
    },
    {
      "cell_type": "markdown",
      "metadata": {
        "id": "FeROawSUQH3f"
      },
      "source": [
        "#### [練習]\n",
        "- 增加一個參數 expired_date\n",
        "    - 如果是走 delete_food ， url 是 `/delete_food/1/XXX`\n",
        "    - 如果是走 delete_food_param ， url 是 `/delete_food?id=1&booking_date=XXX`\n"
      ]
    },
    {
      "cell_type": "markdown",
      "metadata": {
        "id": "LpS5-_TAUVbE"
      },
      "source": [
        "## 學習資源\n",
        "- [Flask Web 開發實戰](https://tw.pyladies.com/events/topic.html?id=35)\n",
        "    - [Flask Web 開發:基於 Python 的 Web 應用開發實戰](https://www.tenlong.com.tw/products/9787115373991)\n",
        "- 學習地圖\n",
        "    - [前端](https://softnshare.com/webfrontendprogrammer/)\n",
        "    - [後端](https://softnshare.com/backenddeveloper/)\n",
        "        - VPS 主機：Linode, DigitalOcean, GCP, AWS, Azure\n",
        "            - [鳥哥的 Linux 私房菜](http://linux.vbird.org/)\n"
      ]
    }
  ],
  "metadata": {
    "colab": {
      "provenance": [],
      "include_colab_link": true
    },
    "kernelspec": {
      "display_name": "Python 3",
      "name": "python3"
    }
  },
  "nbformat": 4,
  "nbformat_minor": 0
}