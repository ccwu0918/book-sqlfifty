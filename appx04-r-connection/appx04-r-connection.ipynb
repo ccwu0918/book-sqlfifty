{
 "cells": [
  {
   "cell_type": "markdown",
   "id": "bd932d25",
   "metadata": {},
   "source": [
    "# SQL 的五十道練習：初學者友善的資料庫入門\n",
    "\n",
    "> 附錄四：以 R 語言串接學習資料庫\n",
    "\n",
    "假使讀者不是資料科學的初學者，對於 R 以及模組有一定的認識與暸解，可以使用模組 `RSQLite` 與 `DBI` 建立學習資料庫的連線、使用模組並且對學習資料庫進行資料查詢。"
   ]
  },
  {
   "cell_type": "markdown",
   "id": "6ee59b79",
   "metadata": {},
   "source": [
    "## 安裝模組\n",
    "\n",
    "使用 `install.packages()` 函數在 R 語言環境中安裝模組 `RSQLite` 與 `DBI`。\n",
    "\n",
    "```r\n",
    "install.packages(\"RSQLite\")\n",
    "install.packages(\"DBI\")\n",
    "```"
   ]
  },
  {
   "cell_type": "markdown",
   "id": "a85ceb75",
   "metadata": {},
   "source": [
    "## 載入模組"
   ]
  },
  {
   "cell_type": "code",
   "execution_count": 1,
   "id": "423b7ae2",
   "metadata": {},
   "outputs": [],
   "source": [
    "library(\"DBI\")"
   ]
  },
  {
   "cell_type": "markdown",
   "id": "cebe3fd4",
   "metadata": {},
   "source": [
    "## 建立連線\n",
    "\n",
    "以相對路徑位於 `../databases/imdb.db` 的學習資料庫為例，使用 `DBI` 模組的 `dbConnect()` 函數。"
   ]
  },
  {
   "cell_type": "code",
   "execution_count": 2,
   "id": "c0c167c2",
   "metadata": {},
   "outputs": [],
   "source": [
    "con <- dbConnect(RSQLite::SQLite(), \"../databases/imdb.db\")"
   ]
  },
  {
   "cell_type": "markdown",
   "id": "d14469ab",
   "metadata": {},
   "source": [
    "## 列出學習資料庫中的所有資料表\n",
    "\n",
    "使用 DBI 模組的 `dbListTables()` 函數。"
   ]
  },
  {
   "cell_type": "code",
   "execution_count": 3,
   "id": "807bdade",
   "metadata": {},
   "outputs": [
    {
     "name": "stdout",
     "output_type": "stream",
     "text": [
      "[1] \"actors\"  \"casting\" \"movies\" \n"
     ]
    }
   ],
   "source": [
    "print(dbListTables(con))"
   ]
  },
  {
   "cell_type": "markdown",
   "id": "a8456e19",
   "metadata": {},
   "source": [
    "## 列出指定資料表所有的欄位名稱\n",
    "\n",
    "使用 `DBI` 模組的 `dbListFields()` 函數。"
   ]
  },
  {
   "cell_type": "code",
   "execution_count": 4,
   "id": "cc6c89a1",
   "metadata": {},
   "outputs": [
    {
     "name": "stdout",
     "output_type": "stream",
     "text": [
      "[1] \"id\"   \"name\"\n"
     ]
    }
   ],
   "source": [
    "print(dbListFields(con, \"actors\"))"
   ]
  },
  {
   "cell_type": "code",
   "execution_count": 5,
   "id": "04ffae7f",
   "metadata": {},
   "outputs": [
    {
     "name": "stdout",
     "output_type": "stream",
     "text": [
      "[1] \"movie_id\" \"actor_id\" \"ord\"     \n"
     ]
    }
   ],
   "source": [
    "print(dbListFields(con, \"casting\"))"
   ]
  },
  {
   "cell_type": "code",
   "execution_count": 6,
   "id": "4df80a3f",
   "metadata": {},
   "outputs": [
    {
     "name": "stdout",
     "output_type": "stream",
     "text": [
      "[1] \"id\"           \"title\"        \"release_year\" \"rating\"       \"director\"    \n",
      "[6] \"runtime\"     \n"
     ]
    }
   ],
   "source": [
    "print(dbListFields(con, \"movies\"))"
   ]
  },
  {
   "cell_type": "markdown",
   "id": "33797027",
   "metadata": {},
   "source": [
    "## 進行資料查詢\n",
    "\n",
    "使用 `DBI` 模組的 `dbGetQuery()` 函數。"
   ]
  },
  {
   "cell_type": "code",
   "execution_count": 7,
   "id": "db874f27",
   "metadata": {},
   "outputs": [
    {
     "data": {
      "text/html": [
       "<table class=\"dataframe\">\n",
       "<caption>A data.frame: 5 × 2</caption>\n",
       "<thead>\n",
       "\t<tr><th scope=col>id</th><th scope=col>name</th></tr>\n",
       "\t<tr><th scope=col>&lt;int&gt;</th><th scope=col>&lt;chr&gt;</th></tr>\n",
       "</thead>\n",
       "<tbody>\n",
       "\t<tr><td>1</td><td>Aamir Khan        </td></tr>\n",
       "\t<tr><td>2</td><td>Aaron Eckhart     </td></tr>\n",
       "\t<tr><td>3</td><td>Aaron Lazar       </td></tr>\n",
       "\t<tr><td>4</td><td>Abbas-Ali Roomandi</td></tr>\n",
       "\t<tr><td>5</td><td>Abbey Lee         </td></tr>\n",
       "</tbody>\n",
       "</table>\n"
      ],
      "text/latex": [
       "A data.frame: 5 × 2\n",
       "\\begin{tabular}{ll}\n",
       " id & name\\\\\n",
       " <int> & <chr>\\\\\n",
       "\\hline\n",
       "\t 1 & Aamir Khan        \\\\\n",
       "\t 2 & Aaron Eckhart     \\\\\n",
       "\t 3 & Aaron Lazar       \\\\\n",
       "\t 4 & Abbas-Ali Roomandi\\\\\n",
       "\t 5 & Abbey Lee         \\\\\n",
       "\\end{tabular}\n"
      ],
      "text/markdown": [
       "\n",
       "A data.frame: 5 × 2\n",
       "\n",
       "| id &lt;int&gt; | name &lt;chr&gt; |\n",
       "|---|---|\n",
       "| 1 | Aamir Khan         |\n",
       "| 2 | Aaron Eckhart      |\n",
       "| 3 | Aaron Lazar        |\n",
       "| 4 | Abbas-Ali Roomandi |\n",
       "| 5 | Abbey Lee          |\n",
       "\n"
      ],
      "text/plain": [
       "  id name              \n",
       "1 1  Aamir Khan        \n",
       "2 2  Aaron Eckhart     \n",
       "3 3  Aaron Lazar       \n",
       "4 4  Abbas-Ali Roomandi\n",
       "5 5  Abbey Lee         "
      ]
     },
     "metadata": {},
     "output_type": "display_data"
    }
   ],
   "source": [
    "sql_statement <- \"\n",
    "SELECT *\n",
    "  FROM actors\n",
    " LIMIT 5;\n",
    "\"\n",
    "dbGetQuery(con, sql_statement)"
   ]
  },
  {
   "cell_type": "code",
   "execution_count": 8,
   "id": "503d2461",
   "metadata": {},
   "outputs": [
    {
     "data": {
      "text/html": [
       "<table class=\"dataframe\">\n",
       "<caption>A data.frame: 5 × 3</caption>\n",
       "<thead>\n",
       "\t<tr><th scope=col>movie_id</th><th scope=col>actor_id</th><th scope=col>ord</th></tr>\n",
       "\t<tr><th scope=col>&lt;int&gt;</th><th scope=col>&lt;int&gt;</th><th scope=col>&lt;int&gt;</th></tr>\n",
       "</thead>\n",
       "<tbody>\n",
       "\t<tr><td>1</td><td>2944</td><td>1</td></tr>\n",
       "\t<tr><td>1</td><td>2192</td><td>2</td></tr>\n",
       "\t<tr><td>1</td><td> 330</td><td>3</td></tr>\n",
       "\t<tr><td>1</td><td>3134</td><td>4</td></tr>\n",
       "\t<tr><td>1</td><td> 552</td><td>5</td></tr>\n",
       "</tbody>\n",
       "</table>\n"
      ],
      "text/latex": [
       "A data.frame: 5 × 3\n",
       "\\begin{tabular}{lll}\n",
       " movie\\_id & actor\\_id & ord\\\\\n",
       " <int> & <int> & <int>\\\\\n",
       "\\hline\n",
       "\t 1 & 2944 & 1\\\\\n",
       "\t 1 & 2192 & 2\\\\\n",
       "\t 1 &  330 & 3\\\\\n",
       "\t 1 & 3134 & 4\\\\\n",
       "\t 1 &  552 & 5\\\\\n",
       "\\end{tabular}\n"
      ],
      "text/markdown": [
       "\n",
       "A data.frame: 5 × 3\n",
       "\n",
       "| movie_id &lt;int&gt; | actor_id &lt;int&gt; | ord &lt;int&gt; |\n",
       "|---|---|---|\n",
       "| 1 | 2944 | 1 |\n",
       "| 1 | 2192 | 2 |\n",
       "| 1 |  330 | 3 |\n",
       "| 1 | 3134 | 4 |\n",
       "| 1 |  552 | 5 |\n",
       "\n"
      ],
      "text/plain": [
       "  movie_id actor_id ord\n",
       "1 1        2944     1  \n",
       "2 1        2192     2  \n",
       "3 1         330     3  \n",
       "4 1        3134     4  \n",
       "5 1         552     5  "
      ]
     },
     "metadata": {},
     "output_type": "display_data"
    }
   ],
   "source": [
    "sql_statement <- \"\n",
    "SELECT *\n",
    "  FROM casting\n",
    " LIMIT 5;\n",
    "\"\n",
    "dbGetQuery(con, sql_statement)"
   ]
  },
  {
   "cell_type": "code",
   "execution_count": 9,
   "id": "5385e989",
   "metadata": {},
   "outputs": [
    {
     "data": {
      "text/html": [
       "<table class=\"dataframe\">\n",
       "<caption>A data.frame: 5 × 6</caption>\n",
       "<thead>\n",
       "\t<tr><th scope=col>id</th><th scope=col>title</th><th scope=col>release_year</th><th scope=col>rating</th><th scope=col>director</th><th scope=col>runtime</th></tr>\n",
       "\t<tr><th scope=col>&lt;int&gt;</th><th scope=col>&lt;chr&gt;</th><th scope=col>&lt;int&gt;</th><th scope=col>&lt;dbl&gt;</th><th scope=col>&lt;chr&gt;</th><th scope=col>&lt;int&gt;</th></tr>\n",
       "</thead>\n",
       "<tbody>\n",
       "\t<tr><td>1</td><td>The Shawshank Redemption</td><td>1994</td><td>9.3</td><td>Frank Darabont      </td><td>142</td></tr>\n",
       "\t<tr><td>2</td><td>The Godfather           </td><td>1972</td><td>9.2</td><td>Francis Ford Coppola</td><td>175</td></tr>\n",
       "\t<tr><td>3</td><td>The Dark Knight         </td><td>2008</td><td>9.0</td><td>Christopher Nolan   </td><td>152</td></tr>\n",
       "\t<tr><td>4</td><td>The Godfather Part II   </td><td>1974</td><td>9.0</td><td>Francis Ford Coppola</td><td>202</td></tr>\n",
       "\t<tr><td>5</td><td>12 Angry Men            </td><td>1957</td><td>9.0</td><td>Sidney Lumet        </td><td> 96</td></tr>\n",
       "</tbody>\n",
       "</table>\n"
      ],
      "text/latex": [
       "A data.frame: 5 × 6\n",
       "\\begin{tabular}{llllll}\n",
       " id & title & release\\_year & rating & director & runtime\\\\\n",
       " <int> & <chr> & <int> & <dbl> & <chr> & <int>\\\\\n",
       "\\hline\n",
       "\t 1 & The Shawshank Redemption & 1994 & 9.3 & Frank Darabont       & 142\\\\\n",
       "\t 2 & The Godfather            & 1972 & 9.2 & Francis Ford Coppola & 175\\\\\n",
       "\t 3 & The Dark Knight          & 2008 & 9.0 & Christopher Nolan    & 152\\\\\n",
       "\t 4 & The Godfather Part II    & 1974 & 9.0 & Francis Ford Coppola & 202\\\\\n",
       "\t 5 & 12 Angry Men             & 1957 & 9.0 & Sidney Lumet         &  96\\\\\n",
       "\\end{tabular}\n"
      ],
      "text/markdown": [
       "\n",
       "A data.frame: 5 × 6\n",
       "\n",
       "| id &lt;int&gt; | title &lt;chr&gt; | release_year &lt;int&gt; | rating &lt;dbl&gt; | director &lt;chr&gt; | runtime &lt;int&gt; |\n",
       "|---|---|---|---|---|---|\n",
       "| 1 | The Shawshank Redemption | 1994 | 9.3 | Frank Darabont       | 142 |\n",
       "| 2 | The Godfather            | 1972 | 9.2 | Francis Ford Coppola | 175 |\n",
       "| 3 | The Dark Knight          | 2008 | 9.0 | Christopher Nolan    | 152 |\n",
       "| 4 | The Godfather Part II    | 1974 | 9.0 | Francis Ford Coppola | 202 |\n",
       "| 5 | 12 Angry Men             | 1957 | 9.0 | Sidney Lumet         |  96 |\n",
       "\n"
      ],
      "text/plain": [
       "  id title                    release_year rating director             runtime\n",
       "1 1  The Shawshank Redemption 1994         9.3    Frank Darabont       142    \n",
       "2 2  The Godfather            1972         9.2    Francis Ford Coppola 175    \n",
       "3 3  The Dark Knight          2008         9.0    Christopher Nolan    152    \n",
       "4 4  The Godfather Part II    1974         9.0    Francis Ford Coppola 202    \n",
       "5 5  12 Angry Men             1957         9.0    Sidney Lumet          96    "
      ]
     },
     "metadata": {},
     "output_type": "display_data"
    }
   ],
   "source": [
    "sql_statement <- \"\n",
    "SELECT *\n",
    "  FROM movies\n",
    " LIMIT 5;\n",
    "\"\n",
    "dbGetQuery(con, sql_statement)"
   ]
  },
  {
   "cell_type": "markdown",
   "id": "7f3f306c",
   "metadata": {},
   "source": [
    "## 關閉連線\n",
    "\n",
    "使用 `DBI` 模組的 `dbDisconnect()` 函數。"
   ]
  },
  {
   "cell_type": "code",
   "execution_count": 10,
   "id": "228830b4",
   "metadata": {},
   "outputs": [],
   "source": [
    "dbDisconnect(con)"
   ]
  },
  {
   "cell_type": "markdown",
   "id": "6315a70d",
   "metadata": {},
   "source": [
    "## 延伸閱讀\n",
    "\n",
    "- Databases using R <https://db.rstudio.com/>\n",
    "- RSQLite <https://rsqlite.r-dbi.org/>\n",
    "- DBI <https://dbi.r-dbi.org/>"
   ]
  }
 ],
 "metadata": {
  "kernelspec": {
   "display_name": "R",
   "language": "R",
   "name": "ir"
  },
  "language_info": {
   "codemirror_mode": "r",
   "file_extension": ".r",
   "mimetype": "text/x-r-source",
   "name": "R",
   "pygments_lexer": "r",
   "version": "4.1.2"
  }
 },
 "nbformat": 4,
 "nbformat_minor": 5
}
