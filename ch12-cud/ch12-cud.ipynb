{
 "cells": [
  {
   "cell_type": "markdown",
   "id": "lightweight-fruit",
   "metadata": {
    "slideshow": {
     "slide_type": "slide"
    }
   },
   "source": [
    "# SQL 的五十道練習：初學者友善的資料庫入門\n",
    "\n",
    "> 資料定義語言與資料操作語言"
   ]
  },
  {
   "cell_type": "code",
   "execution_count": 1,
   "id": "matched-spyware",
   "metadata": {
    "slideshow": {
     "slide_type": "skip"
    }
   },
   "outputs": [],
   "source": [
    "%LOAD sqlite3 db=../databases/imdb.db timeout=2 shared_cache=true"
   ]
  },
  {
   "cell_type": "markdown",
   "id": "associate-buffalo",
   "metadata": {
    "slideshow": {
     "slide_type": "subslide"
    }
   },
   "source": [
    "## 複習一下\n",
    "\n",
    "在第一章「簡介」我們試圖用一句話解釋 SQL：\n",
    "\n",
    "> SQL 是 Structured Query Language 的縮寫，是一個專門針對關聯式資料庫中所儲存的資料進行查詢、定義、操作與控制的語言。\n",
    "\n",
    "SQL 在 1970 年代由國際商業機器公司（IBM）創造，剛開發出來時候僅只是為了更有效率地「查詢」儲存於關聯式資料庫中的資料，但是到了現代，除了查詢以外像是資料的建立、更新與刪除，也都能靠著 SQL 來完成。具體來說，SQL 是由保留字（Keyword）、符號、常數與函數所組合而成的一種語言，按照使用目的可以再細分為資料查詢語言（Data Query Language, DQL）、資料定義語言（Data Definition Language, DDL）、資料操作語言（Data Manipulation Language, DML）、資料控制語言（Data Control Language, DCL）以及交易控制語言（Transaction Control Language, TCL）。\n",
    "\n",
    "|SQL 的分類|範例|\n",
    "|:---------|:----|\n",
    "|資料查詢語言（Data Query Language, DQL）|`SELECT ...`|\n",
    "|資料定義語言（Data Definition Language, DDL）|`CREATE ...`|\n",
    "|資料操作語言（Data Manipulation Language, DML）|`UPDATE ...`|\n",
    "|資料控制語言（Data Control Language, DCL）|`GRANT ...`|\n",
    "|交易控制語言（Transaction Control Language, TCL）|`COMMIT`|\n",
    "\n",
    "SQL 是一個能夠與關聯式資料庫互動的專用語言，常見的互動有四個：包含創造（Create）、查詢（Read）、更新（Update）與刪除（Delete），這四個動作又在業界與社群被簡稱為 CRUD，其中查詢對應了本書第三章「簡介」到第十一章「垂直與水平合併資料」所介紹的資料查詢語言，本章會用點到為止的篇幅介紹與「創造」、「刪除」對應的資料定義語言以及與「更新」對應的資料操作語言部分。\n",
    "\n",
    "## 資料定義語言\n",
    "\n",
    "資料定義語言（Data Definition Language, DDL）最主要的保留字是 `CREATE` 與 `DROP`，這意味著我們可以在資料庫創造與刪除物件。那麼有哪些物件可以被創造與刪除呢？它們分別是檢視表（Views）與資料表（Tables）。\n",
    "\n",
    "檢視表（Views）相較於第十章「子查詢」所介紹的子查詢，差別在於子查詢的結果是用過即捨棄的，若希望重新取得子查詢結果，必須將該段 SQL 敘述以純文字檔案（可用 `.sql` 為副檔名儲存）保存起來；檢視表則可以直接將 SQL 敘述儲存在資料庫中，並且給予一個檢視表命名，想要檢視該段 SQL 敘述的查詢結果時，只需要將檢視表命名放在 `FROM` 保留字之後即可。因此，對於純粹只需要向資料庫寫作資料查詢語言的初級資料分析師來說，檢視表可以視為等同於資料表的存在，但實際上檢視表儲存的內容並不是列（Rows）與欄（Columns）所組成的二維表格，而是一段 SQL 敘述，只有在對檢視表寫作資料查詢語言時，才會執行被儲存的 SQL 敘述。簡單來說，檢視表是一種介於「子查詢」與「建立資料表」之間的功能，就像是資料表版本的「衍生計算欄位」，由於多數「非資料庫管理員」的資料分析師在公司中沒有建立資料表的權限，因此若是有建立檢視表的權限將可以滿足我們對資料表的創造需求。\n",
    "\n",
    "```sql\n",
    "SELECT *\n",
    "  FROM view;\n",
    "```\n",
    "\n",
    "### 建立與刪除檢視表\n",
    "\n",
    "使用 `CREATE VIEW` 建立檢視表並給予檢視表命名，然後再加入希望檢視表被查詢時所執行的 SQL 敘述。\n",
    "\n",
    "```sql\n",
    "CREATE VIEW view\n",
    "    AS\n",
    "   SQL Statement;\n",
    "```\n",
    "\n",
    "舉例來說，我們想知道不同年份 `release_year` 上映的電影平均評等有哪些年份是大於等於 8.5 的？在第九章「分組與聚合結果篩選」我們提過針對分組聚合的結果應用 `WHERE` 是不被允許的，應該要改使用分組聚合版本的 `HAVING` 保留字加上帶有聚合函數的條件。"
   ]
  },
  {
   "cell_type": "code",
   "execution_count": 2,
   "id": "75979710",
   "metadata": {},
   "outputs": [
    {
     "data": {
      "text/html": [
       "<table>\n",
       "<tr>\n",
       "<th>release_year</th>\n",
       "<th>avg_rating</th>\n",
       "</tr>\n",
       "<tr>\n",
       "<td>1936</td>\n",
       "<td>8.5</td>\n",
       "</tr>\n",
       "<tr>\n",
       "<td>1972</td>\n",
       "<td>9.2</td>\n",
       "</tr>\n",
       "<tr>\n",
       "<td>1974</td>\n",
       "<td>8.6</td>\n",
       "</tr>\n",
       "<tr>\n",
       "<td>1977</td>\n",
       "<td>8.6</td>\n",
       "</tr>\n",
       "<tr>\n",
       "<td>1994</td>\n",
       "<td>8.8</td>\n",
       "</tr>\n",
       "<tr>\n",
       "<td>1999</td>\n",
       "<td>8.54</td>\n",
       "</tr>\n",
       "<tr>\n",
       "<td>2002</td>\n",
       "<td>8.5</td>\n",
       "</tr>\n",
       "<tr>\n",
       "<td>2008</td>\n",
       "<td>8.5</td>\n",
       "</tr>\n",
       "</table>\n",
       "8 rows in set (0.00 sec)"
      ],
      "text/plain": [
       "+--------------+------------+\n",
       "| release_year | avg_rating |\n",
       "+--------------+------------+\n",
       "| 1936         | 8.5        |\n",
       "+--------------+------------+\n",
       "| 1972         | 9.2        |\n",
       "+--------------+------------+\n",
       "| 1974         | 8.6        |\n",
       "+--------------+------------+\n",
       "| 1977         | 8.6        |\n",
       "+--------------+------------+\n",
       "| 1994         | 8.8        |\n",
       "+--------------+------------+\n",
       "| 1999         | 8.54       |\n",
       "+--------------+------------+\n",
       "| 2002         | 8.5        |\n",
       "+--------------+------------+\n",
       "| 2008         | 8.5        |\n",
       "+--------------+------------+\n",
       "8 rows in set (0.00 sec)"
      ]
     },
     "execution_count": 2,
     "metadata": {},
     "output_type": "execute_result"
    }
   ],
   "source": [
    "SELECT release_year,\n",
    "       AVG(rating) AS avg_rating\n",
    "  FROM movies\n",
    " GROUP BY release_year\n",
    "HAVING AVG(rating) >= 8.5;"
   ]
  },
  {
   "cell_type": "markdown",
   "id": "b1014728",
   "metadata": {
    "slideshow": {
     "slide_type": "subslide"
    }
   },
   "source": [
    "在第十章「子查詢」我們提過除了前述改使用分組聚合版本的 `HAVING` 保留字加上帶有聚合函數的條件以外，也能透過子查詢來完成。"
   ]
  },
  {
   "cell_type": "code",
   "execution_count": 3,
   "id": "1f81366c",
   "metadata": {},
   "outputs": [
    {
     "data": {
      "text/html": [
       "<table>\n",
       "<tr>\n",
       "<th>release_year</th>\n",
       "<th>avg_rating</th>\n",
       "</tr>\n",
       "<tr>\n",
       "<td>1936</td>\n",
       "<td>8.5</td>\n",
       "</tr>\n",
       "<tr>\n",
       "<td>1972</td>\n",
       "<td>9.2</td>\n",
       "</tr>\n",
       "<tr>\n",
       "<td>1974</td>\n",
       "<td>8.6</td>\n",
       "</tr>\n",
       "<tr>\n",
       "<td>1977</td>\n",
       "<td>8.6</td>\n",
       "</tr>\n",
       "<tr>\n",
       "<td>1994</td>\n",
       "<td>8.8</td>\n",
       "</tr>\n",
       "<tr>\n",
       "<td>1999</td>\n",
       "<td>8.54</td>\n",
       "</tr>\n",
       "<tr>\n",
       "<td>2002</td>\n",
       "<td>8.5</td>\n",
       "</tr>\n",
       "<tr>\n",
       "<td>2008</td>\n",
       "<td>8.5</td>\n",
       "</tr>\n",
       "</table>\n",
       "8 rows in set (0.00 sec)"
      ],
      "text/plain": [
       "+--------------+------------+\n",
       "| release_year | avg_rating |\n",
       "+--------------+------------+\n",
       "| 1936         | 8.5        |\n",
       "+--------------+------------+\n",
       "| 1972         | 9.2        |\n",
       "+--------------+------------+\n",
       "| 1974         | 8.6        |\n",
       "+--------------+------------+\n",
       "| 1977         | 8.6        |\n",
       "+--------------+------------+\n",
       "| 1994         | 8.8        |\n",
       "+--------------+------------+\n",
       "| 1999         | 8.54       |\n",
       "+--------------+------------+\n",
       "| 2002         | 8.5        |\n",
       "+--------------+------------+\n",
       "| 2008         | 8.5        |\n",
       "+--------------+------------+\n",
       "8 rows in set (0.00 sec)"
      ]
     },
     "execution_count": 3,
     "metadata": {},
     "output_type": "execute_result"
    }
   ],
   "source": [
    "SELECT *\n",
    "  FROM (\n",
    "           SELECT release_year,\n",
    "                  AVG(rating) AS avg_rating\n",
    "             FROM movies\n",
    "            GROUP BY release_year\n",
    "       )\n",
    "       AS avg_rating_by_release_year\n",
    " WHERE avg_rating >= 8.5;"
   ]
  },
  {
   "cell_type": "markdown",
   "id": "f4684449",
   "metadata": {
    "slideshow": {
     "slide_type": "subslide"
    }
   },
   "source": [
    "前述透過子查詢所建立出來，像資料表一般的 `avg_rating_by_release_year` 也能創造為檢視表，與子查詢的差異在於，建立為檢視表之後是可以確實在 SQLiteStudio 的資料庫清單中看到，而非像子查詢使用後即被捨棄。"
   ]
  },
  {
   "cell_type": "code",
   "execution_count": 4,
   "id": "91f662a1",
   "metadata": {},
   "outputs": [],
   "source": [
    "CREATE VIEW avg_rating_by_release_year\n",
    "    AS\n",
    "SELECT release_year,\n",
    "       AVG(rating) AS avg_rating\n",
    "  FROM movies\n",
    " GROUP BY release_year;"
   ]
  },
  {
   "cell_type": "markdown",
   "id": "513bcd05",
   "metadata": {
    "slideshow": {
     "slide_type": "subslide"
    }
   },
   "source": [
    "![](../images/view-01.png)\n",
    "\n",
    "回到問題「我們想知道不同年份 `release_year` 上映的電影平均評等有哪些年份是大於等於 8.5 的？」就可以寫出以下的 SQL 敘述得到這個問題的答案。"
   ]
  },
  {
   "cell_type": "code",
   "execution_count": 5,
   "id": "1be8d407",
   "metadata": {
    "slideshow": {
     "slide_type": "subslide"
    }
   },
   "outputs": [
    {
     "data": {
      "text/html": [
       "<table>\n",
       "<tr>\n",
       "<th>release_year</th>\n",
       "<th>avg_rating</th>\n",
       "</tr>\n",
       "<tr>\n",
       "<td>1936</td>\n",
       "<td>8.5</td>\n",
       "</tr>\n",
       "<tr>\n",
       "<td>1972</td>\n",
       "<td>9.2</td>\n",
       "</tr>\n",
       "<tr>\n",
       "<td>1974</td>\n",
       "<td>8.6</td>\n",
       "</tr>\n",
       "<tr>\n",
       "<td>1977</td>\n",
       "<td>8.6</td>\n",
       "</tr>\n",
       "<tr>\n",
       "<td>1994</td>\n",
       "<td>8.8</td>\n",
       "</tr>\n",
       "<tr>\n",
       "<td>1999</td>\n",
       "<td>8.54</td>\n",
       "</tr>\n",
       "<tr>\n",
       "<td>2002</td>\n",
       "<td>8.5</td>\n",
       "</tr>\n",
       "<tr>\n",
       "<td>2008</td>\n",
       "<td>8.5</td>\n",
       "</tr>\n",
       "</table>\n",
       "8 rows in set (0.00 sec)"
      ],
      "text/plain": [
       "+--------------+------------+\n",
       "| release_year | avg_rating |\n",
       "+--------------+------------+\n",
       "| 1936         | 8.5        |\n",
       "+--------------+------------+\n",
       "| 1972         | 9.2        |\n",
       "+--------------+------------+\n",
       "| 1974         | 8.6        |\n",
       "+--------------+------------+\n",
       "| 1977         | 8.6        |\n",
       "+--------------+------------+\n",
       "| 1994         | 8.8        |\n",
       "+--------------+------------+\n",
       "| 1999         | 8.54       |\n",
       "+--------------+------------+\n",
       "| 2002         | 8.5        |\n",
       "+--------------+------------+\n",
       "| 2008         | 8.5        |\n",
       "+--------------+------------+\n",
       "8 rows in set (0.00 sec)"
      ]
     },
     "execution_count": 5,
     "metadata": {},
     "output_type": "execute_result"
    }
   ],
   "source": [
    "SELECT *\n",
    "  FROM avg_rating_by_release_year\n",
    " WHERE avg_rating >= 8.5;"
   ]
  },
  {
   "cell_type": "markdown",
   "id": "significant-zoning",
   "metadata": {
    "slideshow": {
     "slide_type": "subslide"
    }
   },
   "source": [
    "使用 `DROP VIEW` 刪除檢視表，指定欲刪除的檢視表命名即可。\n",
    "\n",
    "```sql\n",
    "DROP VIEW view;\n",
    "```"
   ]
  },
  {
   "cell_type": "code",
   "execution_count": 6,
   "id": "indoor-think",
   "metadata": {},
   "outputs": [],
   "source": [
    "DROP VIEW avg_rating_by_release_year;"
   ]
  },
  {
   "cell_type": "markdown",
   "id": "annoying-graduate",
   "metadata": {
    "slideshow": {
     "slide_type": "subslide"
    }
   },
   "source": [
    "成功刪除檢視表之後，在 SQLiteStudio 的資料庫清單中就能夠看到檢視表已經不存在。\n",
    "\n",
    "![](../images/view-02.png)\n",
    "\n",
    "刪除檢視表以後，就無法在 `FROM` 保留字之後指定檢視表查詢。\n",
    "\n",
    "```sql\n",
    "SELECT *\n",
    "  FROM avg_rating_by_release_year\n",
    " WHERE avg_rating >= 8.5;\n",
    "```\n",
    "\n",
    "```\n",
    "Error while executing SQL query on database 'imdb': no such table: avg_rating_by_release_year\n",
    "```\n",
    "\n",
    "### 建立與刪除資料表\n",
    "\n",
    "資料表是以列（Rows）與欄（Columns）所組成的二維表格，有時列也有其他別名，像是紀錄（Records）、觀測值（Observations）、元組（Tuples）等；欄的其他別名則有欄位（Fields）、變數（Variables）、屬性（Attributes）等。\n",
    "\n",
    "![](../images/Relational_database_terms.png)\n",
    "\n",
    "來源：<https://en.wikipedia.org/wiki/Relational_database>\n",
    "\n",
    "不同於檢視表，資料表確實將資料儲存於二維表格中，我們有兩種方式可以建立資料表：基於 SQL 敘述從既有資料查詢衍生為資料表或者從零至一，從零至一建立資料表除了會用到資料定義語言，也會使用資料操作語言，因此可以在後面的小節一起示範，我們先採用基於 SQL 敘述從既有資料查詢衍生為資料表。使用 `CREATE TABLE` 建立資料表並給予資料表命名，然後再加入能夠生成表中資料的 SQL 敘述。\n",
    "\n",
    "```sql\n",
    "CREATE TABLE table\n",
    "    AS\n",
    "   SQL Statement;\n",
    "```\n",
    "\n",
    "舉例來說，前面小節所建立的檢視表，也能夠以資料表的形式創造。這裡要提醒讀者，多數「非資料庫管理員」的資料分析師在公司中沒有建立資料表的權限，在自己電腦的 SQLiteStudio 學習環境中操作才能確保順利進行。"
   ]
  },
  {
   "cell_type": "code",
   "execution_count": 7,
   "id": "803b85ab",
   "metadata": {},
   "outputs": [],
   "source": [
    "CREATE TABLE avg_rating_by_release_year\n",
    "    AS\n",
    "SELECT release_year,\n",
    "       AVG(rating) AS avg_rating\n",
    "  FROM movies\n",
    " GROUP BY release_year;"
   ]
  },
  {
   "cell_type": "markdown",
   "id": "33fd444c",
   "metadata": {
    "slideshow": {
     "slide_type": "subslide"
    }
   },
   "source": [
    "建立為資料表的 `avg_rating_by_release_year` 同樣可以確實在 SQLiteStudio 的資料庫清單中看到。\n",
    "\n",
    "![](../images/create-table-01.png)\n",
    "\n",
    "在回答問題「我們想知道不同年份 release_year 上映的電影平均評等有哪些年份是大於等於 8.5 的？」就可以如同建立完檢視表後寫出以下的 SQL 敘述得到這個問題的答案。"
   ]
  },
  {
   "cell_type": "code",
   "execution_count": 8,
   "id": "6ad0817b",
   "metadata": {},
   "outputs": [
    {
     "data": {
      "text/html": [
       "<table>\n",
       "<tr>\n",
       "<th>release_year</th>\n",
       "<th>avg_rating</th>\n",
       "</tr>\n",
       "<tr>\n",
       "<td>1936</td>\n",
       "<td>8.5</td>\n",
       "</tr>\n",
       "<tr>\n",
       "<td>1972</td>\n",
       "<td>9.2</td>\n",
       "</tr>\n",
       "<tr>\n",
       "<td>1974</td>\n",
       "<td>8.6</td>\n",
       "</tr>\n",
       "<tr>\n",
       "<td>1977</td>\n",
       "<td>8.6</td>\n",
       "</tr>\n",
       "<tr>\n",
       "<td>1994</td>\n",
       "<td>8.8</td>\n",
       "</tr>\n",
       "<tr>\n",
       "<td>1999</td>\n",
       "<td>8.54</td>\n",
       "</tr>\n",
       "<tr>\n",
       "<td>2002</td>\n",
       "<td>8.5</td>\n",
       "</tr>\n",
       "<tr>\n",
       "<td>2008</td>\n",
       "<td>8.5</td>\n",
       "</tr>\n",
       "</table>\n",
       "8 rows in set (0.00 sec)"
      ],
      "text/plain": [
       "+--------------+------------+\n",
       "| release_year | avg_rating |\n",
       "+--------------+------------+\n",
       "| 1936         | 8.5        |\n",
       "+--------------+------------+\n",
       "| 1972         | 9.2        |\n",
       "+--------------+------------+\n",
       "| 1974         | 8.6        |\n",
       "+--------------+------------+\n",
       "| 1977         | 8.6        |\n",
       "+--------------+------------+\n",
       "| 1994         | 8.8        |\n",
       "+--------------+------------+\n",
       "| 1999         | 8.54       |\n",
       "+--------------+------------+\n",
       "| 2002         | 8.5        |\n",
       "+--------------+------------+\n",
       "| 2008         | 8.5        |\n",
       "+--------------+------------+\n",
       "8 rows in set (0.00 sec)"
      ]
     },
     "execution_count": 8,
     "metadata": {},
     "output_type": "execute_result"
    }
   ],
   "source": [
    "SELECT *\n",
    "  FROM avg_rating_by_release_year\n",
    " WHERE avg_rating >= 8.5;"
   ]
  },
  {
   "cell_type": "markdown",
   "id": "abandoned-passion",
   "metadata": {
    "slideshow": {
     "slide_type": "slide"
    }
   },
   "source": [
    "使用 `DROP TABLE` 刪除資料表，指定欲刪除的資料表命名即可。\n",
    "\n",
    "```sql\n",
    "DROP TABLE table;\n",
    "```"
   ]
  },
  {
   "cell_type": "code",
   "execution_count": 9,
   "id": "23f95948",
   "metadata": {},
   "outputs": [],
   "source": [
    "DROP TABLE avg_rating_by_release_year;"
   ]
  },
  {
   "cell_type": "markdown",
   "id": "9b1e3f8d",
   "metadata": {},
   "source": [
    "成功刪除資料表之後，在 SQLiteStudio 的資料庫清單中就能夠看到資料表已經不存在。\n",
    "\n",
    "![](../images/create-table-02.png)\n",
    "\n",
    "刪除資料表以後，就無法在 `FROM` 保留字之後指定資料表查詢。\n",
    "\n",
    "```sql\n",
    "SELECT *\n",
    "  FROM avg_rating_by_release_year\n",
    " WHERE avg_rating >= 8.5;\n",
    "```\n",
    "\n",
    "```\n",
    "Error while executing SQL query on database 'imdb': no such table: avg_rating_by_release_year\n",
    "```"
   ]
  },
  {
   "cell_type": "markdown",
   "id": "2039b92a",
   "metadata": {
    "slideshow": {
     "slide_type": "subslide"
    }
   },
   "source": [
    "## 資料操作語言\n",
    "\n",
    "資料操作語言（Data Manipulation Language, DML）可以針對資料表進行更新。至於檢視表因為儲存的並不是資料，而是一段 SQL 敘述，想要更新檢視表，維持相同命名但替換儲存其中的 SQL 敘述，作法很單純，就是先 `DROP VIEW` 刪除檢視表、然後再重新 `CREATE VIEW` 建立相同命名的檢視表即可。\n",
    "\n",
    "### 更新資料表\n",
    "\n",
    "我們在前面的小節提到有兩種建立資料表的方式：基於 SQL 敘述從既有資料查詢衍生為資料表或者從零至一，我們已經示範過基於 SQL 敘述從既有資料查詢衍生為資料表的方式，現在我們可以利用資料定義語言以及資料操作語言從零至一建立資料表。首先使用 `CREATE TABLE` 建立資料表並給予資料表命名、指定欄位名稱與資料類別。\n",
    "\n",
    "```sql\n",
    "CREATE TABLE table (\n",
    "    columns typeof_columns,\n",
    "    ...\n",
    ");\n",
    "```\n",
    "\n",
    "舉例來說，在 `imdb` 資料庫建立資料表 `favorite_movies`，資料表的三欄分別為 `title`、`release_year` 與 `rating`，資料類別依序為 `text`、`integer` 與 `real`。"
   ]
  },
  {
   "cell_type": "code",
   "execution_count": 10,
   "id": "edd83957",
   "metadata": {},
   "outputs": [],
   "source": [
    "CREATE TABLE favorite_movies (\n",
    "    title text,\n",
    "    release_year integer,\n",
    "    rating real\n",
    ");"
   ]
  },
  {
   "cell_type": "markdown",
   "id": "eb07c8aa",
   "metadata": {},
   "source": [
    "建立好的資料表 `favorite_movies` 可以確實在 SQLiteStudio 的資料庫清單中看到。\n",
    "\n",
    "![](../images/create-table-03.png)\n",
    "\n",
    "這時候對新建立好的資料表 `favorite_movies` 查詢，會看到 0 筆觀測值。"
   ]
  },
  {
   "cell_type": "code",
   "execution_count": 11,
   "id": "08476c75",
   "metadata": {},
   "outputs": [
    {
     "data": {
      "text/html": [
       "</table>\n",
       "Empty set (0.00 sec)"
      ],
      "text/plain": [
       "\n",
       "Empty set (0.00 sec)"
      ]
     },
     "execution_count": 11,
     "metadata": {},
     "output_type": "execute_result"
    }
   ],
   "source": [
    "SELECT *\n",
    "  FROM favorite_movies;"
   ]
  },
  {
   "cell_type": "markdown",
   "id": "5486c66a",
   "metadata": {},
   "source": [
    "因為是從零至一建立資料表，除了 `CREATE TABLE` 以外，我們還需要使用 `INSERT INTO` 插入觀測值。\n",
    "\n",
    "```sql\n",
    "INSERT INTO table\n",
    "VALUES \n",
    "       (observations);\n",
    "```\n",
    "\n",
    "其中觀測值以元組（Tuples）形式指派、以逗號分隔值，舉例來說，在資料表 `favorite_movies` 插入五筆觀測值。"
   ]
  },
  {
   "cell_type": "code",
   "execution_count": 12,
   "id": "0292783e",
   "metadata": {},
   "outputs": [],
   "source": [
    "INSERT INTO favorite_movies\n",
    "VALUES \n",
    "       ('The Shawshank Redemption', 1995, 9.2),\n",
    "       ('The Godfather', 1972, 9.1),\n",
    "       ('The Dark Knight', 2008, 9.0),\n",
    "       ('Forrest Gump', 1994, 8.8),\n",
    "       ('Fight Club', 1999, 8.8);"
   ]
  },
  {
   "cell_type": "markdown",
   "id": "aa19a776",
   "metadata": {},
   "source": [
    "完成插入觀測值後，對資料表 `favorite_movies` 查詢，會看到 `(5, 3)` 的外型。"
   ]
  },
  {
   "cell_type": "code",
   "execution_count": 13,
   "id": "e2a1fe9b",
   "metadata": {},
   "outputs": [
    {
     "data": {
      "text/html": [
       "<table>\n",
       "<tr>\n",
       "<th>title</th>\n",
       "<th>release_year</th>\n",
       "<th>rating</th>\n",
       "</tr>\n",
       "<tr>\n",
       "<td>The Shawshank Redemption</td>\n",
       "<td>1995</td>\n",
       "<td>9.2</td>\n",
       "</tr>\n",
       "<tr>\n",
       "<td>The Godfather</td>\n",
       "<td>1972</td>\n",
       "<td>9.1</td>\n",
       "</tr>\n",
       "<tr>\n",
       "<td>The Dark Knight</td>\n",
       "<td>2008</td>\n",
       "<td>9</td>\n",
       "</tr>\n",
       "<tr>\n",
       "<td>Forrest Gump</td>\n",
       "<td>1994</td>\n",
       "<td>8.8</td>\n",
       "</tr>\n",
       "<tr>\n",
       "<td>Fight Club</td>\n",
       "<td>1999</td>\n",
       "<td>8.8</td>\n",
       "</tr>\n",
       "</table>\n",
       "5 rows in set (0.00 sec)"
      ],
      "text/plain": [
       "+--------------------------+--------------+--------+\n",
       "| title                    | release_year | rating |\n",
       "+--------------------------+--------------+--------+\n",
       "| The Shawshank Redemption | 1995         | 9.2    |\n",
       "+--------------------------+--------------+--------+\n",
       "| The Godfather            | 1972         | 9.1    |\n",
       "+--------------------------+--------------+--------+\n",
       "| The Dark Knight          | 2008         | 9      |\n",
       "+--------------------------+--------------+--------+\n",
       "| Forrest Gump             | 1994         | 8.8    |\n",
       "+--------------------------+--------------+--------+\n",
       "| Fight Club               | 1999         | 8.8    |\n",
       "+--------------------------+--------------+--------+\n",
       "5 rows in set (0.00 sec)"
      ]
     },
     "execution_count": 13,
     "metadata": {},
     "output_type": "execute_result"
    }
   ],
   "source": [
    "SELECT *\n",
    "  FROM favorite_movies;"
   ]
  },
  {
   "cell_type": "markdown",
   "id": "eb4840e5",
   "metadata": {},
   "source": [
    "假如不想一筆一筆地輸入觀測值，資料也可以從副檔名為 `.csv` 的逗號分隔值檔案（Comma separated values）匯入，使用 SQLiteStudio 的資料匯入（Import）功能，記得將 First line respresents CSV column names 勾選方格取消勾選。\n",
    "\n",
    "```\n",
    "The Shawshank Redemption,1995,9.2\n",
    "The Godfather,1972,9.1\n",
    "The Dark Knight,2008,9\n",
    "Forrest Gump,1994,8.8\n",
    "Fight Club,1999,8.8\n",
    "```\n",
    "\n",
    "![](../images/import-01.png)\n",
    "\n",
    "![](../images/import-02.png)\n",
    "\n",
    "![](../images/import-03.png)"
   ]
  },
  {
   "cell_type": "markdown",
   "id": "fdc1892d",
   "metadata": {},
   "source": [
    "如果我們已經插入了觀測值才發現資料有誤，使用 `UPDATE table SET ...` 更新。\n",
    "\n",
    "```sql\n",
    "UPDATE table\n",
    "   SET columns = values\n",
    " WHERE conditions;\n",
    "```\n",
    "\n",
    "舉例來說，The Shawshank Redemption 於 1994-10-14 在美國上映，於 1995-03-10 在台灣上映，中文片名為「刺激1995」，上映年份誤植為 1995。"
   ]
  },
  {
   "cell_type": "code",
   "execution_count": 14,
   "id": "a5966622",
   "metadata": {},
   "outputs": [],
   "source": [
    "UPDATE favorite_movies\n",
    "   SET release_year = 1994\n",
    " WHERE title = 'The Shawshank Redemption';"
   ]
  },
  {
   "cell_type": "markdown",
   "id": "822956df",
   "metadata": {},
   "source": [
    "完成更新觀測值後，對資料表 `favorite_movies` 查詢，會看到 The Shawshank Redemption 上映年份確實更新成了 1994。"
   ]
  },
  {
   "cell_type": "code",
   "execution_count": 15,
   "id": "e0a28bb4",
   "metadata": {},
   "outputs": [
    {
     "data": {
      "text/html": [
       "<table>\n",
       "<tr>\n",
       "<th>title</th>\n",
       "<th>release_year</th>\n",
       "<th>rating</th>\n",
       "</tr>\n",
       "<tr>\n",
       "<td>The Shawshank Redemption</td>\n",
       "<td>1994</td>\n",
       "<td>9.2</td>\n",
       "</tr>\n",
       "<tr>\n",
       "<td>The Godfather</td>\n",
       "<td>1972</td>\n",
       "<td>9.1</td>\n",
       "</tr>\n",
       "<tr>\n",
       "<td>The Dark Knight</td>\n",
       "<td>2008</td>\n",
       "<td>9</td>\n",
       "</tr>\n",
       "<tr>\n",
       "<td>Forrest Gump</td>\n",
       "<td>1994</td>\n",
       "<td>8.8</td>\n",
       "</tr>\n",
       "<tr>\n",
       "<td>Fight Club</td>\n",
       "<td>1999</td>\n",
       "<td>8.8</td>\n",
       "</tr>\n",
       "</table>\n",
       "5 rows in set (0.00 sec)"
      ],
      "text/plain": [
       "+--------------------------+--------------+--------+\n",
       "| title                    | release_year | rating |\n",
       "+--------------------------+--------------+--------+\n",
       "| The Shawshank Redemption | 1994         | 9.2    |\n",
       "+--------------------------+--------------+--------+\n",
       "| The Godfather            | 1972         | 9.1    |\n",
       "+--------------------------+--------------+--------+\n",
       "| The Dark Knight          | 2008         | 9      |\n",
       "+--------------------------+--------------+--------+\n",
       "| Forrest Gump             | 1994         | 8.8    |\n",
       "+--------------------------+--------------+--------+\n",
       "| Fight Club               | 1999         | 8.8    |\n",
       "+--------------------------+--------------+--------+\n",
       "5 rows in set (0.00 sec)"
      ]
     },
     "execution_count": 15,
     "metadata": {},
     "output_type": "execute_result"
    }
   ],
   "source": [
    "SELECT *\n",
    "  FROM favorite_movies;"
   ]
  },
  {
   "cell_type": "markdown",
   "id": "681470e9",
   "metadata": {},
   "source": [
    "如果我們已經插入了觀測值才發現是不需要的資料，使用 `DELETE FROM table ...` 刪除指定觀測值。\n",
    "\n",
    "```sql\n",
    "DELETE FROM table\n",
    " WHERE conditions;\n",
    "```\n",
    "\n",
    "舉例來說，The Godfather 於 1972-03-24 在美國上映，對於讀者已經是太過於久遠的電影。"
   ]
  },
  {
   "cell_type": "code",
   "execution_count": 16,
   "id": "54891707",
   "metadata": {},
   "outputs": [],
   "source": [
    "DELETE FROM favorite_movies\n",
    " WHERE title = 'The Godfather';"
   ]
  },
  {
   "cell_type": "markdown",
   "id": "4af66f20",
   "metadata": {},
   "source": [
    "完成刪除觀測值後，對資料表 `favorite_movies` 查詢，會看到 The Godfather 已經確實被刪除。"
   ]
  },
  {
   "cell_type": "code",
   "execution_count": 17,
   "id": "93ef2c56",
   "metadata": {},
   "outputs": [
    {
     "data": {
      "text/html": [
       "<table>\n",
       "<tr>\n",
       "<th>title</th>\n",
       "<th>release_year</th>\n",
       "<th>rating</th>\n",
       "</tr>\n",
       "<tr>\n",
       "<td>The Shawshank Redemption</td>\n",
       "<td>1994</td>\n",
       "<td>9.2</td>\n",
       "</tr>\n",
       "<tr>\n",
       "<td>The Dark Knight</td>\n",
       "<td>2008</td>\n",
       "<td>9</td>\n",
       "</tr>\n",
       "<tr>\n",
       "<td>Forrest Gump</td>\n",
       "<td>1994</td>\n",
       "<td>8.8</td>\n",
       "</tr>\n",
       "<tr>\n",
       "<td>Fight Club</td>\n",
       "<td>1999</td>\n",
       "<td>8.8</td>\n",
       "</tr>\n",
       "</table>\n",
       "4 rows in set (0.00 sec)"
      ],
      "text/plain": [
       "+--------------------------+--------------+--------+\n",
       "| title                    | release_year | rating |\n",
       "+--------------------------+--------------+--------+\n",
       "| The Shawshank Redemption | 1994         | 9.2    |\n",
       "+--------------------------+--------------+--------+\n",
       "| The Dark Knight          | 2008         | 9      |\n",
       "+--------------------------+--------------+--------+\n",
       "| Forrest Gump             | 1994         | 8.8    |\n",
       "+--------------------------+--------------+--------+\n",
       "| Fight Club               | 1999         | 8.8    |\n",
       "+--------------------------+--------------+--------+\n",
       "4 rows in set (0.00 sec)"
      ]
     },
     "execution_count": 17,
     "metadata": {},
     "output_type": "execute_result"
    }
   ],
   "source": [
    "SELECT *\n",
    "  FROM favorite_movies;"
   ]
  },
  {
   "cell_type": "markdown",
   "id": "e6642789",
   "metadata": {},
   "source": [
    "如果希望刪除資料表中「所有」的觀測值，同樣使用 `DELETE FROM table`，但是不指定條件。"
   ]
  },
  {
   "cell_type": "code",
   "execution_count": 18,
   "id": "f69a356b",
   "metadata": {},
   "outputs": [],
   "source": [
    "DELETE FROM favorite_movies;"
   ]
  },
  {
   "cell_type": "markdown",
   "id": "e99fd680",
   "metadata": {},
   "source": [
    "完成刪除觀測值後，對資料表 `favorite_movies` 查詢，會看到 0 筆觀測值。"
   ]
  },
  {
   "cell_type": "code",
   "execution_count": 19,
   "id": "72837416",
   "metadata": {},
   "outputs": [
    {
     "data": {
      "text/html": [
       "</table>\n",
       "Empty set (0.01 sec)"
      ],
      "text/plain": [
       "\n",
       "Empty set (0.01 sec)"
      ]
     },
     "execution_count": 19,
     "metadata": {},
     "output_type": "execute_result"
    }
   ],
   "source": [
    "SELECT *\n",
    "  FROM favorite_movies;"
   ]
  },
  {
   "cell_type": "code",
   "execution_count": 20,
   "id": "7c6d6273",
   "metadata": {},
   "outputs": [],
   "source": [
    "DROP TABLE favorite_movies;"
   ]
  },
  {
   "cell_type": "markdown",
   "id": "2655f20e",
   "metadata": {},
   "source": [
    "刪除資料表之後，在 SQLiteStudio 的資料庫清單中就能夠看到資料表已經不存在。\n",
    "\n",
    "![](../images/create-table-02.png)"
   ]
  },
  {
   "cell_type": "markdown",
   "id": "a4b4fb09",
   "metadata": {
    "slideshow": {
     "slide_type": "subslide"
    }
   },
   "source": [
    "## 重點統整\n",
    "\n",
    "- SQL 是一個能夠與關聯式資料庫互動的專用語言，常見的互動有四個：包含創造（Create）、查詢（Read）、更新（Update）與刪除（Delete）；與「創造」、「刪除」對應的是資料定義語言，與「更新」對應的是資料操作語言。\n",
    "- 這個章節學起來的 SQL 保留字：\n",
    "    - `CREATE VIEW`\n",
    "    - `DROP VIEW`\n",
    "    - `CREATE TABLE`\n",
    "    - `DROP TABLE`\n",
    "    - `INSERT INTO`\n",
    "    - `UPDATE`\n",
    "    - `SET`\n",
    "    - `DELETE`\n",
    "- 將截至目前所學的資料查詢語言（DQL）集中在一個敘述中，寫作順序必須遵從標準 SQL 的規定。\n",
    "\n",
    "```sql\n",
    "SELECT DISTINCT columns AS alias,\n",
    "       CASE WHEN condition_1 THEN result_1\n",
    "            WHEN condition_2 THEN result_2\n",
    "            ...\n",
    "            ELSE result_n END AS alias\n",
    "  FROM table\n",
    " WHERE conditions\n",
    " GROUP BY columns\n",
    "HAVING conditions\n",
    " ORDER BY columns DESC\n",
    " LIMIT m;\n",
    "```\n",
    "\n",
    "- 建立檢視表\n",
    "\n",
    "```sql\n",
    "CREATE VIEW view\n",
    "    AS\n",
    "   SQL Statement;\n",
    "```\n",
    "\n",
    "- 刪除檢視表 `DROP VIEW view;`\n",
    "\n",
    "- 基於 SQL 敘述從既有資料查詢衍生為資料表\n",
    "\n",
    "```sql\n",
    "CREATE TABLE table\n",
    "    AS\n",
    "   SQL Statement;\n",
    "```\n",
    "\n",
    "- 從零至一建立資料表\n",
    "\n",
    "```sql\n",
    "CREATE TABLE table (\n",
    "    columns typeof_columns,\n",
    "    ...\n",
    ");\n",
    "```\n",
    "\n",
    "- 刪除資料表 `DROP TABLE table;`\n",
    "\n",
    "- 插入觀測值\n",
    "\n",
    "```sql\n",
    "INSERT INTO table\n",
    "VALUES \n",
    "       (observations);\n",
    "```\n",
    "\n",
    "- 更新觀測值\n",
    "\n",
    "```sql\n",
    "UPDATE table\n",
    "   SET columns = values\n",
    " WHERE conditions;\n",
    "```\n",
    "\n",
    "- 刪除指定觀測值\n",
    "\n",
    "```sql\n",
    "DELETE FROM table\n",
    " WHERE conditions;\n",
    "```\n",
    "\n",
    "- 刪除所有觀測值\n",
    "\n",
    "```sql\n",
    "DELETE FROM table;\n",
    "```\n",
    "\n",
    "## 練習題 40-45\n",
    "\n",
    "練習題會涵蓋四個學習資料庫，記得要依據題目的需求，調整編輯器選單的學習資料庫，在自己電腦的 SQLiteStudio 寫出跟預期輸出相同的 SQL 敘述，寫作過程如果卡關了，可以參考附錄二「練習題參考解答」。\n",
    "\n",
    "### 40. 從 `covid19` 資料庫建立一個檢視表名為 `total_confirmed_by_country_region` 記錄截至 2022-05-31 全球各國的確診人數，參考下列的預期輸出。\n",
    "\n",
    "註：本題不需考慮 `daily_report` 內的 `Last_Update` 時間戳記，`daily_report` 的數據有效期間就是 2022-05-31。\n",
    "\n",
    "預期輸出：(199, 2) 的檢視表 `total_confirmed_by_country_region`。\n",
    "\n",
    "```sql\n",
    "SELECT *\n",
    "  FROM total_confirmed_by_country_region;\n",
    "```\n",
    "\n",
    "```\n",
    "Country_Region\ttotal_confirmed\n",
    "Afghanistan\t180347\n",
    "Albania\t276101\n",
    "Algeria\t265884\n",
    "Andorra\t42894\n",
    "Angola\t99761\n",
    "...\n",
    "```\n",
    "\n",
    "### 41. 從 `twElection2020` 資料庫建立一個檢視表名為 `presidential_total_votes` 記錄三組候選人的總得票數，參考下列的預期輸出。\n",
    "\n",
    "預期輸出：(3, 3) 的檢視表 `presidential_total_votes`。\n",
    "\n",
    "```sql\n",
    "SELECT * \n",
    "  FROM presidential_total_votes;\n",
    "```\n",
    "\n",
    "```\n",
    "number\tcandidate\ttotal_votes\n",
    "1\t宋楚瑜/余湘\t608590\n",
    "2\t韓國瑜/張善政\t5522119\n",
    "3\t蔡英文/賴清德\t8170231\n",
    "```\n",
    "\n",
    "### 42. 從 `nba` 資料庫建立一個檢視表名為 `ppg_leader_by_teams`  紀錄各個球隊的得分王（生涯場均得分 `ppg` 全隊最高）是誰，參考下列的預期輸出。\n",
    "\n",
    "預期輸出：(30, 4) 的檢視表 `ppg_leader_by_teams`。\n",
    "\n",
    "```sql\n",
    "SELECT *\n",
    "  FROM ppg_leader_by_teams;\n",
    "```\n",
    "\n",
    "```\n",
    "team\tfirstName\tlastName\tMAX(career_summaries.ppg)\n",
    "Atlanta Hawks\tTrae\tYoung\t25.3\n",
    "Boston Celtics\tJayson\tTatum\t20.9\n",
    "Brooklyn Nets\tKevin\tDurant\t27.2\n",
    "Charlotte Hornets\tLaMelo\tBall\t18.3\n",
    "Chicago Bulls\tDeMar\tDeRozan\t20.8\n",
    "Cleveland Cavaliers\tCollin\tSexton\t20\n",
    "Dallas Mavericks\tLuka\tDoncic\t26.4\n",
    "Denver Nuggets\tNikola\tJokic\t19.7\n",
    "Detroit Pistons\tCade\tCunningham\t17.4\n",
    "Golden State Warriors\tStephen\tCurry\t24.3\n",
    "Houston Rockets\tJohn\tWall\t19.1\n",
    "Indiana Pacers\tBuddy\tHield\t15.9\n",
    "LA Clippers\tPaul\tGeorge\t20.4\n",
    "Los Angeles Lakers\tLeBron\tJames\t27.1\n",
    "Memphis Grizzlies\tJa\tMorant\t21.2\n",
    "Miami Heat\tJimmy\tButler\t17.7\n",
    "Milwaukee Bucks\tGiannis\tAntetokounmpo\t21.8\n",
    "Minnesota Timberwolves\tKarl-Anthony\tTowns\t23.2\n",
    "New Orleans Pelicans\tZion\tWilliamson\t25.7\n",
    "New York Knicks\tKemba\tWalker\t19.5\n",
    "Oklahoma City Thunder\tShai\tGilgeous-Alexander\t18.2\n",
    "Orlando Magic\tFranz\tWagner\t15.2\n",
    "Philadelphia 76ers\tJoel\tEmbiid\t26\n",
    "Phoenix Suns\tDevin\tBooker\t23.5\n",
    "Portland Trail Blazers\tDamian\tLillard\t24.6\n",
    "Sacramento Kings\tDe'Aaron\tFox\t19.1\n",
    "San Antonio Spurs\tKeldon\tJohnson\t14.4\n",
    "Toronto Raptors\tPascal\tSiakam\t15.7\n",
    "Utah Jazz\tDonovan\tMitchell\t23.9\n",
    "Washington Wizards\tBradley\tBeal\t22.1\n",
    "```\n",
    "\n",
    "### 43. 在 `nba` 資料庫新增一個資料表名為 `favorite_players`，具有三個欄位 `name`、`years_pro`、`ppg`，資料類型分別是文字（`TEXT`）、整數（`INTEGER`）與浮點數（`REAL`），參考下列的預期輸出。\n",
    "\n",
    "預期輸出：(0, 3) 的資料表 `favorite_players`。\n",
    "\n",
    "```sql\n",
    "SELECT *\n",
    "  FROM favorite_players;\n",
    "```\n",
    "\n",
    "```\n",
    "name\tyears_pro\tppg\n",
    "```\n",
    "\n",
    "### 44. 承接上題，在 `nba` 資料庫的 `favorite_players` 資料表中新增五筆觀測值，參考下列的預期輸出。\n",
    "\n",
    "預期輸出：(5, 3) 的資料表 `favorite_players`。\n",
    "\n",
    "```sql\n",
    "SELECT * \n",
    "  FROM favorite_players;\n",
    "```\n",
    "\n",
    "```\n",
    "name\tyears_pro\tppg\n",
    "Steve Nash\t19\t14.3\n",
    "Michael Jordan\t14\t30.1\n",
    "Paul Pierce\t19\t19.7\n",
    "Kevin Garnett\t21\t17.8\n",
    "Hakeem Olajuwon\t18\t21.8\n",
    "```\n",
    "\n",
    "### 45. 承接上題，在 `nba` 資料庫的 `favorite_players` 資料表將第五位球員 Hakeem Olajuwon 替換成 Tim Duncan，參考下列的預期輸出。\n",
    "\n",
    "預期輸出：(5, 3) 的資料表 `favorite_players`。\n",
    "\n",
    "```sql\n",
    "SELECT *\n",
    "  FROM favorite_players;\n",
    "```\n",
    "\n",
    "```\n",
    "name\tyears_pro\tppg\n",
    "Steve Nash\t19\t14.3\n",
    "Michael Jordan\t14\t30.1\n",
    "Paul Pierce\t19\t19.7\n",
    "Kevin Garnett\t21\t17.8\n",
    "Tim Duncan\t19\t19\n",
    "```"
   ]
  }
 ],
 "metadata": {
  "kernelspec": {
   "display_name": "xsql",
   "language": "sqlite",
   "name": "xsql"
  },
  "language_info": {
   "codemirror_mode": "sql",
   "file_extension": "",
   "mimetype": "",
   "name": "mysql",
   "version": "0.1.4"
  }
 },
 "nbformat": 4,
 "nbformat_minor": 5
}
