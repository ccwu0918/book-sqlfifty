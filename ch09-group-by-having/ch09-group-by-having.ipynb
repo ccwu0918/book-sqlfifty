{
  "cells": [
    {
      "cell_type": "markdown",
      "metadata": {
        "id": "view-in-github",
        "colab_type": "text"
      },
      "source": [
        "<a href=\"https://colab.research.google.com/github/ccwu0918/book-sqlfifty/blob/main/ch09-group-by-having/ch09-group-by-having.ipynb\" target=\"_parent\"><img src=\"https://colab.research.google.com/assets/colab-badge.svg\" alt=\"Open In Colab\"/></a>"
      ]
    },
    {
      "cell_type": "markdown",
      "id": "lightweight-fruit",
      "metadata": {
        "id": "lightweight-fruit"
      },
      "source": [
        "# SQL 的五十道練習：初學者友善的資料庫入門\n",
        "\n",
        "> 分組與聚合結果篩選"
      ]
    },
    {
      "cell_type": "markdown",
      "id": "6268a9b4",
      "metadata": {
        "id": "6268a9b4"
      },
      "source": [
        "讀者如果是資料科學的初學者，可以略過下述的程式碼；讀者如果不是資料科學的初學者，欲使用 JupyterLab 執行本章節內容，必須先執行下述程式碼載入所需模組與連接資料庫。"
      ]
    },
    {
      "cell_type": "code",
      "source": [
        "!git clone https://github.com/datainpoint/book-sqlfifty"
      ],
      "metadata": {
        "id": "OLdPXBJgIE8x"
      },
      "execution_count": null,
      "outputs": [],
      "id": "OLdPXBJgIE8x"
    },
    {
      "cell_type": "code",
      "execution_count": null,
      "metadata": {
        "id": "bfa07fd1"
      },
      "outputs": [],
      "source": [
        "# %LOAD sqlite3 db=../databases/imdb.db timeout=2 shared_cache=true"
      ],
      "id": "bfa07fd1"
    },
    {
      "cell_type": "code",
      "execution_count": null,
      "metadata": {
        "id": "q5KuWtO8_iPx"
      },
      "outputs": [],
      "source": [
        "%cd databases\n",
        "!wget -N https://raw.githubusercontent.com/jpwhite3/northwind-SQLite3/master/dist/northwind.db\n",
        "!wget -N https://github.com/lerocha/chinook-database/raw/master/ChinookDatabase/DataSources/Chinook_Sqlite.sqlite\n",
        "%cd .."
      ],
      "id": "q5KuWtO8_iPx"
    },
    {
      "cell_type": "code",
      "execution_count": null,
      "metadata": {
        "deletable": false,
        "id": "N6lQpgDt_iPy"
      },
      "outputs": [],
      "source": [
        "import sqlite3\n",
        "import unittest\n",
        "import json\n",
        "import os\n",
        "import numpy as np\n",
        "import pandas as pd\n",
        "conn = sqlite3.connect('./databases/imdb.db')\n",
        "conn.execute(\"\"\"ATTACH './databases/covid19.db' AS covid19\"\"\")\n",
        "conn.execute(\"\"\"ATTACH './databases/twElection2020.db' AS twElection2020\"\"\")\n",
        "conn.execute(\"\"\"ATTACH './databases/nba.db' AS nba\"\"\")\n",
        "conn.execute(\"\"\"ATTACH './databases/northwind.db' AS Northwind\"\"\")\n",
        "conn.execute(\"\"\"ATTACH './databases/Chinook_Sqlite.sqlite' AS Chinook\"\"\")"
      ],
      "id": "N6lQpgDt_iPy"
    },
    {
      "cell_type": "code",
      "source": [
        "# %%capture\n",
        "# load the SQL magic extension\n",
        "# https://github.com/catherinedevlin/ipython-sql\n",
        "# this extension allows us to connect to DBs and issue SQL command\n",
        "%load_ext sql\n",
        "\n",
        "# now we can use the magic extension to connect to our SQLite DB\n",
        "# use %sql to write an inline SQL command\n",
        "# use %%sql to write SQL commands in a cell\n",
        "%sql sqlite:///databases/imdb.db"
      ],
      "metadata": {
        "id": "PdgXDJam_07h"
      },
      "execution_count": null,
      "outputs": [],
      "id": "PdgXDJam_07h"
    },
    {
      "cell_type": "code",
      "source": [
        "%%sql\n",
        "ATTACH \"./databases/covid19.db\" AS covid19;\n",
        "ATTACH \"./databases/twElection2020.db\" AS twElection2020;\n",
        "ATTACH \"./databases/nba.db\" AS nba;\n",
        "ATTACH \"./databases/northwind.db\" AS Northwind;\n",
        "ATTACH \"./databases/Chinook_Sqlite.sqlite\" AS Chinook;"
      ],
      "metadata": {
        "id": "2buY_jlrABq3"
      },
      "execution_count": null,
      "outputs": [],
      "id": "2buY_jlrABq3"
    },
    {
      "cell_type": "code",
      "source": [
        "%%sql\n",
        "SELECT sqlite_version();"
      ],
      "metadata": {
        "id": "Bm8LogkDACyI"
      },
      "execution_count": null,
      "outputs": [],
      "id": "Bm8LogkDACyI"
    },
    {
      "cell_type": "markdown",
      "id": "4fedd6a3",
      "metadata": {
        "id": "4fedd6a3"
      },
      "source": [
        "## 複習一下\n",
        "\n",
        "在第三章「從資料表選擇」我們提過使用 `DISTINCT` 保留字來為查詢的結果剔除重複值；第六章「排序查詢結果」我們提過在 SQL 敘述中加入 `ORDER BY` 指定欄位作為排序依據，預設為遞增排序。"
      ]
    },
    {
      "cell_type": "code",
      "execution_count": null,
      "id": "b80d588d",
      "metadata": {
        "id": "b80d588d",
        "outputId": "9bc19dec-022e-479a-cb2b-4fa0ce72f402"
      },
      "outputs": [
        {
          "data": {
            "text/html": [
              "<table>\n",
              "<tr>\n",
              "<th>distinct_director</th>\n",
              "</tr>\n",
              "<tr>\n",
              "<td>Aamir Khan</td>\n",
              "</tr>\n",
              "<tr>\n",
              "<td>Adam Elliot</td>\n",
              "</tr>\n",
              "<tr>\n",
              "<td>Akira Kurosawa</td>\n",
              "</tr>\n",
              "<tr>\n",
              "<td>Alejandro G. Iñárritu</td>\n",
              "</tr>\n",
              "<tr>\n",
              "<td>Alfred Hitchcock</td>\n",
              "</tr>\n",
              "<tr>\n",
              "<td>Andrew Stanton</td>\n",
              "</tr>\n",
              "<tr>\n",
              "<td>Anthony Russo</td>\n",
              "</tr>\n",
              "<tr>\n",
              "<td>Asghar Farhadi</td>\n",
              "</tr>\n",
              "<tr>\n",
              "<td>Billy Wilder</td>\n",
              "</tr>\n",
              "<tr>\n",
              "<td>Bob Persichetti</td>\n",
              "</tr>\n",
              "</table>\n",
              "10 rows in set (0.00 sec)"
            ],
            "text/plain": [
              "+-------------------------+\n",
              "| distinct_director       |\n",
              "+-------------------------+\n",
              "| Aamir Khan              |\n",
              "+-------------------------+\n",
              "| Adam Elliot             |\n",
              "+-------------------------+\n",
              "| Akira Kurosawa          |\n",
              "+-------------------------+\n",
              "| Alejandro G. Iñárritu |\n",
              "+-------------------------+\n",
              "| Alfred Hitchcock        |\n",
              "+-------------------------+\n",
              "| Andrew Stanton          |\n",
              "+-------------------------+\n",
              "| Anthony Russo           |\n",
              "+-------------------------+\n",
              "| Asghar Farhadi          |\n",
              "+-------------------------+\n",
              "| Billy Wilder            |\n",
              "+-------------------------+\n",
              "| Bob Persichetti         |\n",
              "+-------------------------+\n",
              "10 rows in set (0.00 sec)"
            ]
          },
          "execution_count": 4,
          "metadata": {},
          "output_type": "execute_result"
        }
      ],
      "source": [
        "%%sql\n",
        "SELECT DISTINCT director AS distinct_director\n",
        "  FROM movies\n",
        " ORDER BY director\n",
        " LIMIT 10;"
      ]
    },
    {
      "cell_type": "markdown",
      "id": "supposed-spread",
      "metadata": {
        "id": "supposed-spread"
      },
      "source": [
        "## 以 `GROUP BY` 分組\n",
        "\n",
        "對資料表中的欄位剔除重複值並且遞增排序，這樣的技巧在 SQL 與關聯式資料庫管理系統被稱為「分組」，在 SQL 敘述中加入 `GROUP BY` 就等同於 `DISTINCT` 與 `ORDER BY` 兩者同時作用的效果。\n",
        "\n",
        "```sql\n",
        "SELECT columns\n",
        "  FROM table\n",
        " GROUP BY columns;\n",
        "```"
      ]
    },
    {
      "cell_type": "code",
      "execution_count": null,
      "id": "eb7893bc",
      "metadata": {
        "id": "eb7893bc",
        "outputId": "185bc700-16b2-494c-9c93-fd0f4e9fb586"
      },
      "outputs": [
        {
          "data": {
            "text/html": [
              "<table>\n",
              "<tr>\n",
              "<th>director</th>\n",
              "</tr>\n",
              "<tr>\n",
              "<td>Aamir Khan</td>\n",
              "</tr>\n",
              "<tr>\n",
              "<td>Adam Elliot</td>\n",
              "</tr>\n",
              "<tr>\n",
              "<td>Akira Kurosawa</td>\n",
              "</tr>\n",
              "<tr>\n",
              "<td>Alejandro G. Iñárritu</td>\n",
              "</tr>\n",
              "<tr>\n",
              "<td>Alfred Hitchcock</td>\n",
              "</tr>\n",
              "<tr>\n",
              "<td>Andrew Stanton</td>\n",
              "</tr>\n",
              "<tr>\n",
              "<td>Anthony Russo</td>\n",
              "</tr>\n",
              "<tr>\n",
              "<td>Asghar Farhadi</td>\n",
              "</tr>\n",
              "<tr>\n",
              "<td>Billy Wilder</td>\n",
              "</tr>\n",
              "<tr>\n",
              "<td>Bob Persichetti</td>\n",
              "</tr>\n",
              "</table>\n",
              "10 rows in set (0.00 sec)"
            ],
            "text/plain": [
              "+-------------------------+\n",
              "| director                |\n",
              "+-------------------------+\n",
              "| Aamir Khan              |\n",
              "+-------------------------+\n",
              "| Adam Elliot             |\n",
              "+-------------------------+\n",
              "| Akira Kurosawa          |\n",
              "+-------------------------+\n",
              "| Alejandro G. Iñárritu |\n",
              "+-------------------------+\n",
              "| Alfred Hitchcock        |\n",
              "+-------------------------+\n",
              "| Andrew Stanton          |\n",
              "+-------------------------+\n",
              "| Anthony Russo           |\n",
              "+-------------------------+\n",
              "| Asghar Farhadi          |\n",
              "+-------------------------+\n",
              "| Billy Wilder            |\n",
              "+-------------------------+\n",
              "| Bob Persichetti         |\n",
              "+-------------------------+\n",
              "10 rows in set (0.00 sec)"
            ]
          },
          "execution_count": 5,
          "metadata": {},
          "output_type": "execute_result"
        }
      ],
      "source": [
        "%%sql\n",
        "SELECT director\n",
        "  FROM movies\n",
        " GROUP BY director\n",
        " LIMIT 10;"
      ]
    },
    {
      "cell_type": "markdown",
      "id": "6045fc53",
      "metadata": {
        "id": "6045fc53"
      },
      "source": [
        "我們也能夠指定多個資料表欄位作為分組依據，只需要在 `GROUP BY` 之後用逗號 `,` 隔開不同欄位名稱即可，這時候會產生笛卡兒積（Cartesian product）效果，意即不同欄位的獨一值會組成所有可能的集合，例如 `GROUP BY director, release_year` 會將導演與上映年份的所有可能組成顯示於查詢結果。"
      ]
    },
    {
      "cell_type": "code",
      "execution_count": null,
      "id": "16e3d4a8",
      "metadata": {
        "id": "16e3d4a8",
        "outputId": "2865a948-de9c-4c65-cad2-4bf2e6252e01"
      },
      "outputs": [
        {
          "data": {
            "text/html": [
              "<table>\n",
              "<tr>\n",
              "<th>director</th>\n",
              "<th>release_year</th>\n",
              "</tr>\n",
              "<tr>\n",
              "<td>Aamir Khan</td>\n",
              "<td>2007</td>\n",
              "</tr>\n",
              "<tr>\n",
              "<td>Adam Elliot</td>\n",
              "<td>2009</td>\n",
              "</tr>\n",
              "<tr>\n",
              "<td>Akira Kurosawa</td>\n",
              "<td>1950</td>\n",
              "</tr>\n",
              "<tr>\n",
              "<td>Akira Kurosawa</td>\n",
              "<td>1952</td>\n",
              "</tr>\n",
              "<tr>\n",
              "<td>Akira Kurosawa</td>\n",
              "<td>1954</td>\n",
              "</tr>\n",
              "<tr>\n",
              "<td>Akira Kurosawa</td>\n",
              "<td>1961</td>\n",
              "</tr>\n",
              "<tr>\n",
              "<td>Akira Kurosawa</td>\n",
              "<td>1963</td>\n",
              "</tr>\n",
              "<tr>\n",
              "<td>Akira Kurosawa</td>\n",
              "<td>1975</td>\n",
              "</tr>\n",
              "<tr>\n",
              "<td>Akira Kurosawa</td>\n",
              "<td>1985</td>\n",
              "</tr>\n",
              "<tr>\n",
              "<td>Alejandro G. Iñárritu</td>\n",
              "<td>2000</td>\n",
              "</tr>\n",
              "</table>\n",
              "10 rows in set (0.00 sec)"
            ],
            "text/plain": [
              "+-------------------------+--------------+\n",
              "| director                | release_year |\n",
              "+-------------------------+--------------+\n",
              "| Aamir Khan              | 2007         |\n",
              "+-------------------------+--------------+\n",
              "| Adam Elliot             | 2009         |\n",
              "+-------------------------+--------------+\n",
              "| Akira Kurosawa          | 1950         |\n",
              "+-------------------------+--------------+\n",
              "| Akira Kurosawa          | 1952         |\n",
              "+-------------------------+--------------+\n",
              "| Akira Kurosawa          | 1954         |\n",
              "+-------------------------+--------------+\n",
              "| Akira Kurosawa          | 1961         |\n",
              "+-------------------------+--------------+\n",
              "| Akira Kurosawa          | 1963         |\n",
              "+-------------------------+--------------+\n",
              "| Akira Kurosawa          | 1975         |\n",
              "+-------------------------+--------------+\n",
              "| Akira Kurosawa          | 1985         |\n",
              "+-------------------------+--------------+\n",
              "| Alejandro G. Iñárritu | 2000         |\n",
              "+-------------------------+--------------+\n",
              "10 rows in set (0.00 sec)"
            ]
          },
          "execution_count": 6,
          "metadata": {},
          "output_type": "execute_result"
        }
      ],
      "source": [
        "%%sql\n",
        "SELECT director,\n",
        "       release_year\n",
        "  FROM movies\n",
        " GROUP BY director,\n",
        "          release_year\n",
        " LIMIT 10;"
      ]
    },
    {
      "cell_type": "markdown",
      "id": "olympic-advertiser",
      "metadata": {
        "id": "olympic-advertiser"
      },
      "source": [
        "`GROUP BY` 除了能夠得到 `DISTINCT` 與 `ORDER BY` 同時作用的效果，另外一個重要功能是搭配聚合函數進行分組聚合的資料分析技巧。在第五章「函數」，我們將函數粗略分為兩大類：通用函數與聚合函數，其中「用來彙總資訊」的函數，稱為聚合函數（Aggregate functions）。於 `SELECT` 後使用聚合函數的時候，能夠將欄位資料彙總後輸出。"
      ]
    },
    {
      "cell_type": "code",
      "execution_count": null,
      "id": "instrumental-dinner",
      "metadata": {
        "id": "instrumental-dinner",
        "outputId": "79c477f5-3994-49eb-8778-079b423631d1"
      },
      "outputs": [
        {
          "data": {
            "text/html": [
              "<table>\n",
              "<tr>\n",
              "<th>avg_rating</th>\n",
              "</tr>\n",
              "<tr>\n",
              "<td>8.30719999999998</td>\n",
              "</tr>\n",
              "</table>\n",
              "1 row in set (0.00 sec)"
            ],
            "text/plain": [
              "+------------------+\n",
              "| avg_rating       |\n",
              "+------------------+\n",
              "| 8.30719999999998 |\n",
              "+------------------+\n",
              "1 row in set (0.00 sec)"
            ]
          },
          "execution_count": 7,
          "metadata": {},
          "output_type": "execute_result"
        }
      ],
      "source": [
        "%%sql\n",
        "SELECT AVG(rating) AS avg_rating\n",
        "  FROM movies;"
      ]
    },
    {
      "cell_type": "markdown",
      "id": "cba70f30",
      "metadata": {
        "id": "cba70f30"
      },
      "source": [
        "舉例來說，現在我們希望計算不同年份 `release_year` 上映的電影平均評等，我們該怎麼做呢？比較直觀的想法是先知道有哪些年份。"
      ]
    },
    {
      "cell_type": "code",
      "execution_count": null,
      "id": "99a9f751",
      "metadata": {
        "id": "99a9f751",
        "outputId": "14d9ab44-30bd-441f-c4fe-a1fba3a68fe1"
      },
      "outputs": [
        {
          "data": {
            "text/html": [
              "<table>\n",
              "<tr>\n",
              "<th>release_year</th>\n",
              "</tr>\n",
              "<tr>\n",
              "<td>1921</td>\n",
              "</tr>\n",
              "<tr>\n",
              "<td>1924</td>\n",
              "</tr>\n",
              "<tr>\n",
              "<td>1925</td>\n",
              "</tr>\n",
              "<tr>\n",
              "<td>1926</td>\n",
              "</tr>\n",
              "<tr>\n",
              "<td>1927</td>\n",
              "</tr>\n",
              "</table>\n",
              "5 rows in set (0.00 sec)"
            ],
            "text/plain": [
              "+--------------+\n",
              "| release_year |\n",
              "+--------------+\n",
              "| 1921         |\n",
              "+--------------+\n",
              "| 1924         |\n",
              "+--------------+\n",
              "| 1925         |\n",
              "+--------------+\n",
              "| 1926         |\n",
              "+--------------+\n",
              "| 1927         |\n",
              "+--------------+\n",
              "5 rows in set (0.00 sec)"
            ]
          },
          "execution_count": 8,
          "metadata": {},
          "output_type": "execute_result"
        }
      ],
      "source": [
        "%%sql\n",
        "SELECT release_year\n",
        "  FROM movies\n",
        " GROUP BY release_year\n",
        " LIMIT 5;"
      ]
    },
    {
      "cell_type": "markdown",
      "id": "a1d24011",
      "metadata": {
        "id": "a1d24011"
      },
      "source": [
        "接著篩選不同上映年份的電影，計算這些電影的平均評等。\n",
        "\n",
        "```sql\n",
        "SELECT AVG(rating) AS avg_rating\n",
        "  FROM players\n",
        " WHERE release_year = 1921;\n",
        "SELECT AVG(rating) AS avg_rating\n",
        "  FROM players\n",
        " WHERE release_year = 1924;\n",
        "-- To be continued...\n",
        "```\n",
        "\n",
        "不過上映年份有為數眾多的獨一值，我們不太可能一一做資料表觀測值篩選然後計算平均評等。"
      ]
    },
    {
      "cell_type": "code",
      "execution_count": null,
      "id": "7c5cda5d",
      "metadata": {
        "id": "7c5cda5d",
        "outputId": "7eb1eba0-2ede-434a-a2db-baf73fa12736"
      },
      "outputs": [
        {
          "data": {
            "text/html": [
              "<table>\n",
              "<tr>\n",
              "<th>number_of_distinct_years</th>\n",
              "</tr>\n",
              "<tr>\n",
              "<td>86</td>\n",
              "</tr>\n",
              "</table>\n",
              "1 row in set (0.00 sec)"
            ],
            "text/plain": [
              "+--------------------------+\n",
              "| number_of_distinct_years |\n",
              "+--------------------------+\n",
              "| 86                       |\n",
              "+--------------------------+\n",
              "1 row in set (0.00 sec)"
            ]
          },
          "execution_count": 9,
          "metadata": {},
          "output_type": "execute_result"
        }
      ],
      "source": [
        "%%sql\n",
        "SELECT COUNT(DISTINCT release_year) AS number_of_distinct_years\n",
        "  FROM movies;"
      ]
    },
    {
      "cell_type": "markdown",
      "id": "weird-houston",
      "metadata": {
        "id": "weird-houston"
      },
      "source": [
        "## 結合聚合函數與 `GROUP BY` 完成分組聚合\n",
        "\n",
        "同時使用聚合函數（例如 `AVG()`、`COUNT()`、`SUM()`...等）以及 `GROUP BY` 可以便捷地達成分組聚合，完成上述計算不同年份 `release_year` 上映的電影平均評等。\n",
        "\n",
        "```sql\n",
        "SELECT AGGREGATE_FUNCTION(column) AS alias\n",
        "  FROM table\n",
        " GROUP BY columns;\n",
        "```"
      ]
    },
    {
      "cell_type": "code",
      "execution_count": null,
      "id": "three-pressure",
      "metadata": {
        "id": "three-pressure",
        "outputId": "2f1b91c0-6fcf-47c1-c3ba-c87c7a8e1ed4"
      },
      "outputs": [
        {
          "data": {
            "text/html": [
              "<table>\n",
              "<tr>\n",
              "<th>release_year</th>\n",
              "<th>avg_rating</th>\n",
              "</tr>\n",
              "<tr>\n",
              "<td>1921</td>\n",
              "<td>8.3</td>\n",
              "</tr>\n",
              "<tr>\n",
              "<td>1924</td>\n",
              "<td>8.2</td>\n",
              "</tr>\n",
              "<tr>\n",
              "<td>1925</td>\n",
              "<td>8.2</td>\n",
              "</tr>\n",
              "<tr>\n",
              "<td>1926</td>\n",
              "<td>8.2</td>\n",
              "</tr>\n",
              "<tr>\n",
              "<td>1927</td>\n",
              "<td>8.3</td>\n",
              "</tr>\n",
              "<tr>\n",
              "<td>1928</td>\n",
              "<td>8.2</td>\n",
              "</tr>\n",
              "<tr>\n",
              "<td>1931</td>\n",
              "<td>8.4</td>\n",
              "</tr>\n",
              "<tr>\n",
              "<td>1934</td>\n",
              "<td>8.1</td>\n",
              "</tr>\n",
              "<tr>\n",
              "<td>1936</td>\n",
              "<td>8.5</td>\n",
              "</tr>\n",
              "<tr>\n",
              "<td>1939</td>\n",
              "<td>8.13333333333333</td>\n",
              "</tr>\n",
              "</table>\n",
              "10 rows in set (0.00 sec)"
            ],
            "text/plain": [
              "+--------------+------------------+\n",
              "| release_year | avg_rating       |\n",
              "+--------------+------------------+\n",
              "| 1921         | 8.3              |\n",
              "+--------------+------------------+\n",
              "| 1924         | 8.2              |\n",
              "+--------------+------------------+\n",
              "| 1925         | 8.2              |\n",
              "+--------------+------------------+\n",
              "| 1926         | 8.2              |\n",
              "+--------------+------------------+\n",
              "| 1927         | 8.3              |\n",
              "+--------------+------------------+\n",
              "| 1928         | 8.2              |\n",
              "+--------------+------------------+\n",
              "| 1931         | 8.4              |\n",
              "+--------------+------------------+\n",
              "| 1934         | 8.1              |\n",
              "+--------------+------------------+\n",
              "| 1936         | 8.5              |\n",
              "+--------------+------------------+\n",
              "| 1939         | 8.13333333333333 |\n",
              "+--------------+------------------+\n",
              "10 rows in set (0.00 sec)"
            ]
          },
          "execution_count": 10,
          "metadata": {},
          "output_type": "execute_result"
        }
      ],
      "source": [
        "%%sql\n",
        "SELECT release_year,\n",
        "       AVG(rating) AS avg_rating\n",
        "  FROM movies\n",
        " GROUP BY release_year\n",
        " LIMIT 10;"
      ]
    },
    {
      "cell_type": "markdown",
      "id": "existing-integrity",
      "metadata": {
        "id": "existing-integrity"
      },
      "source": [
        "## 以 `HAVING` 篩選分組聚合結果\n",
        "\n",
        "在第七章「從資料表篩選」我們提過運用 `WHERE` 保留字搭配條件（Conditions）取出資料表符合「條件」的觀測值，這是一種作用於水平資料列「觀測值」的篩選方式。不過，假如我們希望針對分組聚合的結果進行篩選呢？\n",
        "\n",
        "```sql\n",
        "SELECT release_year,\n",
        "       AVG(rating) AS avg_rating\n",
        "  FROM movies\n",
        " WHERE AVG(rating) >= 8.5\n",
        " GROUP BY release_year;\n",
        "```\n",
        "\n",
        "```\n",
        "Error: sqlite3_statement_backend::prepare: misuse of aggregate: AVG()\n",
        "```"
      ]
    },
    {
      "cell_type": "markdown",
      "id": "8729da27",
      "metadata": {
        "id": "8729da27"
      },
      "source": [
        "這時我們得到了一個錯誤訊息：`misuse of aggregate: AVG()` 意即針對分組聚合的結果應用 `WHERE` 是不被允許的。在這樣的應用情境下，應該要改使用 `HAVING` 保留字加上帶有聚合函數的條件。`HAVING` 就像是分組聚合版本的 `WHERE`，兩者作用的維度不同，`WHERE` 篩選原始資料表列中的「觀測值」、`HAVING` 篩選聚合結果中的「欄位」。\n",
        "\n",
        "```sql\n",
        "SELECT AGGREGATE_FUNCTION(column) AS alias\n",
        "  FROM table\n",
        " GROUP BY columns\n",
        "HAVING conditions;\n",
        "```"
      ]
    },
    {
      "cell_type": "code",
      "execution_count": null,
      "id": "7dbab28d",
      "metadata": {
        "id": "7dbab28d",
        "outputId": "3029fc79-4638-452d-d6aa-5df8516c1612"
      },
      "outputs": [
        {
          "data": {
            "text/html": [
              "<table>\n",
              "<tr>\n",
              "<th>release_year</th>\n",
              "<th>avg_rating</th>\n",
              "</tr>\n",
              "<tr>\n",
              "<td>1936</td>\n",
              "<td>8.5</td>\n",
              "</tr>\n",
              "<tr>\n",
              "<td>1972</td>\n",
              "<td>9.2</td>\n",
              "</tr>\n",
              "<tr>\n",
              "<td>1974</td>\n",
              "<td>8.6</td>\n",
              "</tr>\n",
              "<tr>\n",
              "<td>1977</td>\n",
              "<td>8.6</td>\n",
              "</tr>\n",
              "<tr>\n",
              "<td>1994</td>\n",
              "<td>8.8</td>\n",
              "</tr>\n",
              "<tr>\n",
              "<td>1999</td>\n",
              "<td>8.54</td>\n",
              "</tr>\n",
              "<tr>\n",
              "<td>2002</td>\n",
              "<td>8.5</td>\n",
              "</tr>\n",
              "<tr>\n",
              "<td>2008</td>\n",
              "<td>8.5</td>\n",
              "</tr>\n",
              "</table>\n",
              "8 rows in set (0.00 sec)"
            ],
            "text/plain": [
              "+--------------+------------+\n",
              "| release_year | avg_rating |\n",
              "+--------------+------------+\n",
              "| 1936         | 8.5        |\n",
              "+--------------+------------+\n",
              "| 1972         | 9.2        |\n",
              "+--------------+------------+\n",
              "| 1974         | 8.6        |\n",
              "+--------------+------------+\n",
              "| 1977         | 8.6        |\n",
              "+--------------+------------+\n",
              "| 1994         | 8.8        |\n",
              "+--------------+------------+\n",
              "| 1999         | 8.54       |\n",
              "+--------------+------------+\n",
              "| 2002         | 8.5        |\n",
              "+--------------+------------+\n",
              "| 2008         | 8.5        |\n",
              "+--------------+------------+\n",
              "8 rows in set (0.00 sec)"
            ]
          },
          "execution_count": 11,
          "metadata": {},
          "output_type": "execute_result"
        }
      ],
      "source": [
        "%%sql\n",
        "SELECT release_year,\n",
        "       AVG(rating) AS avg_rating\n",
        "  FROM movies\n",
        " GROUP BY release_year\n",
        "HAVING AVG(rating) >= 8.5;"
      ]
    },
    {
      "cell_type": "markdown",
      "id": "fd249b9f",
      "metadata": {
        "id": "fd249b9f"
      },
      "source": [
        "## 重點統整\n",
        "\n",
        "- 在 SQL 敘述中加入 `GROUP BY` 就等同於 `DISTINCT` 與 `ORDER BY` 兩者同時作用的效果。\n",
        "- `GROUP BY` 另外一個重要功能是搭配聚合函數進行分組聚合的資料分析技巧。\n",
        "- 以 `HAVING` 篩選分組聚合結果。\n",
        "- 這個章節學起來的 SQL 保留字：\n",
        "    - `GROUP BY`\n",
        "    - `HAVING`\n",
        "- 將截至目前所學的 SQL 保留字集中在一個敘述中，寫作順序必須遵從標準 SQL 的規定。\n",
        "\n",
        "```sql\n",
        "SELECT DISTINCT columns AS alias,\n",
        "       CASE WHEN condition_1 THEN result_1\n",
        "            WHEN condition_2 THEN result_2\n",
        "            ...\n",
        "            ELSE result_n END AS alias\n",
        "  FROM table\n",
        " WHERE conditions\n",
        " GROUP BY columns\n",
        "HAVING conditions\n",
        " ORDER BY columns DESC\n",
        " LIMIT m;\n",
        "```\n",
        "\n",
        "## 練習題 25-29\n",
        "\n",
        "練習題會涵蓋四個學習資料庫，記得要依據題目的需求，調整編輯器選單的學習資料庫，在自己電腦的 SQLiteStudio 寫出跟預期輸出相同的 SQL 敘述，寫作過程如果卡關了，可以參考附錄二「練習題參考解答」。\n",
        "\n",
        "### 25. 從 `imdb` 資料庫的 `movies` 資料表計算每一年有幾部在 IMDb.com 獲得高評等的經典電影，參考下列的預期查詢結果。\n",
        "\n",
        "註：在 `movies` 資料表中的所有電影都是高評等的經典電影，讀者不需要定義或篩選「高評等」。\n",
        "\n",
        "預期輸出：(86, 2) 的查詢結果。"
      ]
    },
    {
      "cell_type": "code",
      "execution_count": null,
      "id": "bf96bd5b",
      "metadata": {
        "id": "bf96bd5b",
        "outputId": "d91e3f3e-e044-4b6f-902e-19087c05e2ee"
      },
      "outputs": [
        {
          "data": {
            "text/html": [
              "<table>\n",
              "<tr>\n",
              "<th>release_year</th>\n",
              "<th>number_of_movies</th>\n",
              "</tr>\n",
              "<tr>\n",
              "<td>1921</td>\n",
              "<td>1</td>\n",
              "</tr>\n",
              "<tr>\n",
              "<td>1924</td>\n",
              "<td>1</td>\n",
              "</tr>\n",
              "<tr>\n",
              "<td>1925</td>\n",
              "<td>1</td>\n",
              "</tr>\n",
              "<tr>\n",
              "<td>1926</td>\n",
              "<td>1</td>\n",
              "</tr>\n",
              "<tr>\n",
              "<td>1927</td>\n",
              "<td>1</td>\n",
              "</tr>\n",
              "</table>\n",
              "5 rows in set (0.00 sec)"
            ],
            "text/plain": [
              "+--------------+------------------+\n",
              "| release_year | number_of_movies |\n",
              "+--------------+------------------+\n",
              "| 1921         | 1                |\n",
              "+--------------+------------------+\n",
              "| 1924         | 1                |\n",
              "+--------------+------------------+\n",
              "| 1925         | 1                |\n",
              "+--------------+------------------+\n",
              "| 1926         | 1                |\n",
              "+--------------+------------------+\n",
              "| 1927         | 1                |\n",
              "+--------------+------------------+\n",
              "5 rows in set (0.00 sec)"
            ]
          },
          "execution_count": 12,
          "metadata": {},
          "output_type": "execute_result"
        }
      ],
      "source": [
        "-- 礙於紙本篇幅僅顯示出前五列示意\n",
        "%%sql\n"
      ]
    },
    {
      "cell_type": "markdown",
      "id": "205571f7",
      "metadata": {
        "id": "205571f7"
      },
      "source": [
        "### 26. 從 `imdb` 資料庫的 `movies` 資料表計算每一年有幾部在 IMDb.com 獲得高評等的經典電影，只顯示電影數在 5 部以上（`>= 5`）的年份，參考下列的預期查詢結果。\n",
        "\n",
        "註：在 `movies` 資料表中的所有電影都是高評等的經典電影，讀者不需要定義或篩選「高評等」。\n",
        "\n",
        "預期輸出：(17, 2) 的查詢結果。"
      ]
    },
    {
      "cell_type": "code",
      "execution_count": null,
      "id": "32fd8714",
      "metadata": {
        "id": "32fd8714",
        "outputId": "ec57b59c-5c1e-4614-da7d-e00e42ccd3df"
      },
      "outputs": [
        {
          "data": {
            "text/html": [
              "<table>\n",
              "<tr>\n",
              "<th>release_year</th>\n",
              "<th>number_of_movies</th>\n",
              "</tr>\n",
              "<tr>\n",
              "<td>1957</td>\n",
              "<td>6</td>\n",
              "</tr>\n",
              "<tr>\n",
              "<td>1975</td>\n",
              "<td>5</td>\n",
              "</tr>\n",
              "<tr>\n",
              "<td>1994</td>\n",
              "<td>5</td>\n",
              "</tr>\n",
              "<tr>\n",
              "<td>1995</td>\n",
              "<td>8</td>\n",
              "</tr>\n",
              "<tr>\n",
              "<td>1997</td>\n",
              "<td>5</td>\n",
              "</tr>\n",
              "<tr>\n",
              "<td>1998</td>\n",
              "<td>5</td>\n",
              "</tr>\n",
              "<tr>\n",
              "<td>1999</td>\n",
              "<td>5</td>\n",
              "</tr>\n",
              "<tr>\n",
              "<td>2000</td>\n",
              "<td>5</td>\n",
              "</tr>\n",
              "<tr>\n",
              "<td>2001</td>\n",
              "<td>5</td>\n",
              "</tr>\n",
              "<tr>\n",
              "<td>2003</td>\n",
              "<td>6</td>\n",
              "</tr>\n",
              "<tr>\n",
              "<td>2004</td>\n",
              "<td>7</td>\n",
              "</tr>\n",
              "<tr>\n",
              "<td>2007</td>\n",
              "<td>5</td>\n",
              "</tr>\n",
              "<tr>\n",
              "<td>2009</td>\n",
              "<td>6</td>\n",
              "</tr>\n",
              "<tr>\n",
              "<td>2010</td>\n",
              "<td>5</td>\n",
              "</tr>\n",
              "<tr>\n",
              "<td>2011</td>\n",
              "<td>5</td>\n",
              "</tr>\n",
              "<tr>\n",
              "<td>2014</td>\n",
              "<td>5</td>\n",
              "</tr>\n",
              "<tr>\n",
              "<td>2019</td>\n",
              "<td>6</td>\n",
              "</tr>\n",
              "</table>\n",
              "17 rows in set (0.00 sec)"
            ],
            "text/plain": [
              "+--------------+------------------+\n",
              "| release_year | number_of_movies |\n",
              "+--------------+------------------+\n",
              "| 1957         | 6                |\n",
              "+--------------+------------------+\n",
              "| 1975         | 5                |\n",
              "+--------------+------------------+\n",
              "| 1994         | 5                |\n",
              "+--------------+------------------+\n",
              "| 1995         | 8                |\n",
              "+--------------+------------------+\n",
              "| 1997         | 5                |\n",
              "+--------------+------------------+\n",
              "| 1998         | 5                |\n",
              "+--------------+------------------+\n",
              "| 1999         | 5                |\n",
              "+--------------+------------------+\n",
              "| 2000         | 5                |\n",
              "+--------------+------------------+\n",
              "| 2001         | 5                |\n",
              "+--------------+------------------+\n",
              "| 2003         | 6                |\n",
              "+--------------+------------------+\n",
              "| 2004         | 7                |\n",
              "+--------------+------------------+\n",
              "| 2007         | 5                |\n",
              "+--------------+------------------+\n",
              "| 2009         | 6                |\n",
              "+--------------+------------------+\n",
              "| 2010         | 5                |\n",
              "+--------------+------------------+\n",
              "| 2011         | 5                |\n",
              "+--------------+------------------+\n",
              "| 2014         | 5                |\n",
              "+--------------+------------------+\n",
              "| 2019         | 6                |\n",
              "+--------------+------------------+\n",
              "17 rows in set (0.00 sec)"
            ]
          },
          "execution_count": 13,
          "metadata": {},
          "output_type": "execute_result"
        }
      ],
      "source": [
        "%%sql\n"
      ]
    },
    {
      "cell_type": "markdown",
      "id": "6cdbdc63",
      "metadata": {
        "id": "6cdbdc63"
      },
      "source": [
        "### 27. 從 `twElection2020` 資料庫的 `presidential` 資料表暸解台灣 2020 總統副總統的選舉結果，參考下列的預期查詢結果。\n",
        "\n",
        "預期輸出：(3, 2) 的查詢結果。"
      ]
    },
    {
      "cell_type": "code",
      "execution_count": null,
      "id": "b634854a",
      "metadata": {
        "id": "b634854a",
        "outputId": "36a0caee-c8f0-43ce-bcc4-1914fbc50b57"
      },
      "outputs": [
        {
          "data": {
            "text/html": [
              "<table>\n",
              "<tr>\n",
              "<th>candidate_id</th>\n",
              "<th>total_votes</th>\n",
              "</tr>\n",
              "<tr>\n",
              "<td>1</td>\n",
              "<td>608590</td>\n",
              "</tr>\n",
              "<tr>\n",
              "<td>2</td>\n",
              "<td>5522119</td>\n",
              "</tr>\n",
              "<tr>\n",
              "<td>3</td>\n",
              "<td>8170231</td>\n",
              "</tr>\n",
              "</table>\n",
              "3 rows in set (0.03 sec)"
            ],
            "text/plain": [
              "+--------------+-------------+\n",
              "| candidate_id | total_votes |\n",
              "+--------------+-------------+\n",
              "| 1            | 608590      |\n",
              "+--------------+-------------+\n",
              "| 2            | 5522119     |\n",
              "+--------------+-------------+\n",
              "| 3            | 8170231     |\n",
              "+--------------+-------------+\n",
              "3 rows in set (0.03 sec)"
            ]
          },
          "execution_count": 14,
          "metadata": {},
          "output_type": "execute_result"
        }
      ],
      "source": [
        "%%sql\n"
      ]
    },
    {
      "cell_type": "markdown",
      "id": "009ebb4e",
      "metadata": {
        "id": "009ebb4e"
      },
      "source": [
        "### 28. 從 `nba` 資料庫的 `players` 資料表根據 `country` 暸解 NBA 由哪些國家的球員所組成，參考下列的預期查詢結果。\n",
        "\n",
        "預期輸出：(42, 2) 的查詢結果。"
      ]
    },
    {
      "cell_type": "code",
      "execution_count": null,
      "id": "edb1a463",
      "metadata": {
        "id": "edb1a463",
        "outputId": "98aa24fd-2c10-4918-db4f-703ff8b9d4c4"
      },
      "outputs": [
        {
          "data": {
            "text/html": [
              "<table>\n",
              "<tr>\n",
              "<th>country</th>\n",
              "<th>number_of_players</th>\n",
              "</tr>\n",
              "<tr>\n",
              "<td>USA</td>\n",
              "<td>387</td>\n",
              "</tr>\n",
              "<tr>\n",
              "<td>Canada</td>\n",
              "<td>21</td>\n",
              "</tr>\n",
              "<tr>\n",
              "<td>France</td>\n",
              "<td>9</td>\n",
              "</tr>\n",
              "<tr>\n",
              "<td>Germany</td>\n",
              "<td>8</td>\n",
              "</tr>\n",
              "<tr>\n",
              "<td>Australia</td>\n",
              "<td>7</td>\n",
              "</tr>\n",
              "<tr>\n",
              "<td>Spain</td>\n",
              "<td>5</td>\n",
              "</tr>\n",
              "<tr>\n",
              "<td>Serbia</td>\n",
              "<td>5</td>\n",
              "</tr>\n",
              "<tr>\n",
              "<td>Turkey</td>\n",
              "<td>4</td>\n",
              "</tr>\n",
              "<tr>\n",
              "<td>Nigeria</td>\n",
              "<td>4</td>\n",
              "</tr>\n",
              "<tr>\n",
              "<td>Slovenia</td>\n",
              "<td>3</td>\n",
              "</tr>\n",
              "<tr>\n",
              "<td>Lithuania</td>\n",
              "<td>3</td>\n",
              "</tr>\n",
              "<tr>\n",
              "<td>Japan</td>\n",
              "<td>3</td>\n",
              "</tr>\n",
              "<tr>\n",
              "<td>Croatia</td>\n",
              "<td>3</td>\n",
              "</tr>\n",
              "<tr>\n",
              "<td>Bahamas</td>\n",
              "<td>3</td>\n",
              "</tr>\n",
              "<tr>\n",
              "<td>Argentina</td>\n",
              "<td>3</td>\n",
              "</tr>\n",
              "<tr>\n",
              "<td>United Kingdom</td>\n",
              "<td>2</td>\n",
              "</tr>\n",
              "<tr>\n",
              "<td>Ukraine</td>\n",
              "<td>2</td>\n",
              "</tr>\n",
              "<tr>\n",
              "<td>Montenegro</td>\n",
              "<td>2</td>\n",
              "</tr>\n",
              "<tr>\n",
              "<td>Latvia</td>\n",
              "<td>2</td>\n",
              "</tr>\n",
              "<tr>\n",
              "<td>Greece</td>\n",
              "<td>2</td>\n",
              "</tr>\n",
              "<tr>\n",
              "<td>Georgia</td>\n",
              "<td>2</td>\n",
              "</tr>\n",
              "<tr>\n",
              "<td>Dominican Republic</td>\n",
              "<td>2</td>\n",
              "</tr>\n",
              "<tr>\n",
              "<td>DRC</td>\n",
              "<td>2</td>\n",
              "</tr>\n",
              "<tr>\n",
              "<td>Czech Republic</td>\n",
              "<td>2</td>\n",
              "</tr>\n",
              "<tr>\n",
              "<td>Cameroon</td>\n",
              "<td>2</td>\n",
              "</tr>\n",
              "<tr>\n",
              "<td>Brazil</td>\n",
              "<td>2</td>\n",
              "</tr>\n",
              "<tr>\n",
              "<td>Switzerland</td>\n",
              "<td>1</td>\n",
              "</tr>\n",
              "<tr>\n",
              "<td>Sudan</td>\n",
              "<td>1</td>\n",
              "</tr>\n",
              "<tr>\n",
              "<td>South Sudan</td>\n",
              "<td>1</td>\n",
              "</tr>\n",
              "<tr>\n",
              "<td>Senegal</td>\n",
              "<td>1</td>\n",
              "</tr>\n",
              "<tr>\n",
              "<td>Saint Lucia</td>\n",
              "<td>1</td>\n",
              "</tr>\n",
              "<tr>\n",
              "<td>Republic of the Congo</td>\n",
              "<td>1</td>\n",
              "</tr>\n",
              "<tr>\n",
              "<td>Portugal</td>\n",
              "<td>1</td>\n",
              "</tr>\n",
              "<tr>\n",
              "<td>New Zealand</td>\n",
              "<td>1</td>\n",
              "</tr>\n",
              "<tr>\n",
              "<td>Jamaica</td>\n",
              "<td>1</td>\n",
              "</tr>\n",
              "<tr>\n",
              "<td>Italy</td>\n",
              "<td>1</td>\n",
              "</tr>\n",
              "<tr>\n",
              "<td>Israel</td>\n",
              "<td>1</td>\n",
              "</tr>\n",
              "<tr>\n",
              "<td>Finland</td>\n",
              "<td>1</td>\n",
              "</tr>\n",
              "<tr>\n",
              "<td>Denmark</td>\n",
              "<td>1</td>\n",
              "</tr>\n",
              "<tr>\n",
              "<td>Bosnia and Herzegovina</td>\n",
              "<td>1</td>\n",
              "</tr>\n",
              "<tr>\n",
              "<td>Austria</td>\n",
              "<td>1</td>\n",
              "</tr>\n",
              "<tr>\n",
              "<td>Angola</td>\n",
              "<td>1</td>\n",
              "</tr>\n",
              "</table>\n",
              "42 rows in set (0.00 sec)"
            ],
            "text/plain": [
              "+------------------------+-------------------+\n",
              "| country                | number_of_players |\n",
              "+------------------------+-------------------+\n",
              "| USA                    | 387               |\n",
              "+------------------------+-------------------+\n",
              "| Canada                 | 21                |\n",
              "+------------------------+-------------------+\n",
              "| France                 | 9                 |\n",
              "+------------------------+-------------------+\n",
              "| Germany                | 8                 |\n",
              "+------------------------+-------------------+\n",
              "| Australia              | 7                 |\n",
              "+------------------------+-------------------+\n",
              "| Spain                  | 5                 |\n",
              "+------------------------+-------------------+\n",
              "| Serbia                 | 5                 |\n",
              "+------------------------+-------------------+\n",
              "| Turkey                 | 4                 |\n",
              "+------------------------+-------------------+\n",
              "| Nigeria                | 4                 |\n",
              "+------------------------+-------------------+\n",
              "| Slovenia               | 3                 |\n",
              "+------------------------+-------------------+\n",
              "| Lithuania              | 3                 |\n",
              "+------------------------+-------------------+\n",
              "| Japan                  | 3                 |\n",
              "+------------------------+-------------------+\n",
              "| Croatia                | 3                 |\n",
              "+------------------------+-------------------+\n",
              "| Bahamas                | 3                 |\n",
              "+------------------------+-------------------+\n",
              "| Argentina              | 3                 |\n",
              "+------------------------+-------------------+\n",
              "| United Kingdom         | 2                 |\n",
              "+------------------------+-------------------+\n",
              "| Ukraine                | 2                 |\n",
              "+------------------------+-------------------+\n",
              "| Montenegro             | 2                 |\n",
              "+------------------------+-------------------+\n",
              "| Latvia                 | 2                 |\n",
              "+------------------------+-------------------+\n",
              "| Greece                 | 2                 |\n",
              "+------------------------+-------------------+\n",
              "| Georgia                | 2                 |\n",
              "+------------------------+-------------------+\n",
              "| Dominican Republic     | 2                 |\n",
              "+------------------------+-------------------+\n",
              "| DRC                    | 2                 |\n",
              "+------------------------+-------------------+\n",
              "| Czech Republic         | 2                 |\n",
              "+------------------------+-------------------+\n",
              "| Cameroon               | 2                 |\n",
              "+------------------------+-------------------+\n",
              "| Brazil                 | 2                 |\n",
              "+------------------------+-------------------+\n",
              "| Switzerland            | 1                 |\n",
              "+------------------------+-------------------+\n",
              "| Sudan                  | 1                 |\n",
              "+------------------------+-------------------+\n",
              "| South Sudan            | 1                 |\n",
              "+------------------------+-------------------+\n",
              "| Senegal                | 1                 |\n",
              "+------------------------+-------------------+\n",
              "| Saint Lucia            | 1                 |\n",
              "+------------------------+-------------------+\n",
              "| Republic of the Congo  | 1                 |\n",
              "+------------------------+-------------------+\n",
              "| Portugal               | 1                 |\n",
              "+------------------------+-------------------+\n",
              "| New Zealand            | 1                 |\n",
              "+------------------------+-------------------+\n",
              "| Jamaica                | 1                 |\n",
              "+------------------------+-------------------+\n",
              "| Italy                  | 1                 |\n",
              "+------------------------+-------------------+\n",
              "| Israel                 | 1                 |\n",
              "+------------------------+-------------------+\n",
              "| Finland                | 1                 |\n",
              "+------------------------+-------------------+\n",
              "| Denmark                | 1                 |\n",
              "+------------------------+-------------------+\n",
              "| Bosnia and Herzegovina | 1                 |\n",
              "+------------------------+-------------------+\n",
              "| Austria                | 1                 |\n",
              "+------------------------+-------------------+\n",
              "| Angola                 | 1                 |\n",
              "+------------------------+-------------------+\n",
              "42 rows in set (0.00 sec)"
            ]
          },
          "execution_count": 15,
          "metadata": {},
          "output_type": "execute_result"
        }
      ],
      "source": [
        "%%sql\n"
      ]
    },
    {
      "cell_type": "markdown",
      "id": "efad149f",
      "metadata": {
        "id": "efad149f"
      },
      "source": [
        "### 29. 從 `nba` 資料庫的 `players` 資料表根據 `country` 暸解 NBA 由哪些國家的球員所組成，只顯示球員數在 2 位以上（>= 2）並在 9 位以下（<=9）的國家，參考下列的預期查詢結果。\n",
        "\n",
        "預期輸出：(24, 2) 的查詢結果。"
      ]
    },
    {
      "cell_type": "code",
      "execution_count": null,
      "id": "f9bac54a",
      "metadata": {
        "id": "f9bac54a",
        "outputId": "b614bd16-ab6d-43cc-cb00-4bbaae63126b"
      },
      "outputs": [
        {
          "data": {
            "text/html": [
              "<table>\n",
              "<tr>\n",
              "<th>country</th>\n",
              "<th>number_of_players</th>\n",
              "</tr>\n",
              "<tr>\n",
              "<td>France</td>\n",
              "<td>9</td>\n",
              "</tr>\n",
              "<tr>\n",
              "<td>Germany</td>\n",
              "<td>8</td>\n",
              "</tr>\n",
              "<tr>\n",
              "<td>Australia</td>\n",
              "<td>7</td>\n",
              "</tr>\n",
              "<tr>\n",
              "<td>Spain</td>\n",
              "<td>5</td>\n",
              "</tr>\n",
              "<tr>\n",
              "<td>Serbia</td>\n",
              "<td>5</td>\n",
              "</tr>\n",
              "<tr>\n",
              "<td>Turkey</td>\n",
              "<td>4</td>\n",
              "</tr>\n",
              "<tr>\n",
              "<td>Nigeria</td>\n",
              "<td>4</td>\n",
              "</tr>\n",
              "<tr>\n",
              "<td>Slovenia</td>\n",
              "<td>3</td>\n",
              "</tr>\n",
              "<tr>\n",
              "<td>Lithuania</td>\n",
              "<td>3</td>\n",
              "</tr>\n",
              "<tr>\n",
              "<td>Japan</td>\n",
              "<td>3</td>\n",
              "</tr>\n",
              "<tr>\n",
              "<td>Croatia</td>\n",
              "<td>3</td>\n",
              "</tr>\n",
              "<tr>\n",
              "<td>Bahamas</td>\n",
              "<td>3</td>\n",
              "</tr>\n",
              "<tr>\n",
              "<td>Argentina</td>\n",
              "<td>3</td>\n",
              "</tr>\n",
              "<tr>\n",
              "<td>United Kingdom</td>\n",
              "<td>2</td>\n",
              "</tr>\n",
              "<tr>\n",
              "<td>Ukraine</td>\n",
              "<td>2</td>\n",
              "</tr>\n",
              "<tr>\n",
              "<td>Montenegro</td>\n",
              "<td>2</td>\n",
              "</tr>\n",
              "<tr>\n",
              "<td>Latvia</td>\n",
              "<td>2</td>\n",
              "</tr>\n",
              "<tr>\n",
              "<td>Greece</td>\n",
              "<td>2</td>\n",
              "</tr>\n",
              "<tr>\n",
              "<td>Georgia</td>\n",
              "<td>2</td>\n",
              "</tr>\n",
              "<tr>\n",
              "<td>Dominican Republic</td>\n",
              "<td>2</td>\n",
              "</tr>\n",
              "<tr>\n",
              "<td>DRC</td>\n",
              "<td>2</td>\n",
              "</tr>\n",
              "<tr>\n",
              "<td>Czech Republic</td>\n",
              "<td>2</td>\n",
              "</tr>\n",
              "<tr>\n",
              "<td>Cameroon</td>\n",
              "<td>2</td>\n",
              "</tr>\n",
              "<tr>\n",
              "<td>Brazil</td>\n",
              "<td>2</td>\n",
              "</tr>\n",
              "</table>\n",
              "24 rows in set (0.00 sec)"
            ],
            "text/plain": [
              "+--------------------+-------------------+\n",
              "| country            | number_of_players |\n",
              "+--------------------+-------------------+\n",
              "| France             | 9                 |\n",
              "+--------------------+-------------------+\n",
              "| Germany            | 8                 |\n",
              "+--------------------+-------------------+\n",
              "| Australia          | 7                 |\n",
              "+--------------------+-------------------+\n",
              "| Spain              | 5                 |\n",
              "+--------------------+-------------------+\n",
              "| Serbia             | 5                 |\n",
              "+--------------------+-------------------+\n",
              "| Turkey             | 4                 |\n",
              "+--------------------+-------------------+\n",
              "| Nigeria            | 4                 |\n",
              "+--------------------+-------------------+\n",
              "| Slovenia           | 3                 |\n",
              "+--------------------+-------------------+\n",
              "| Lithuania          | 3                 |\n",
              "+--------------------+-------------------+\n",
              "| Japan              | 3                 |\n",
              "+--------------------+-------------------+\n",
              "| Croatia            | 3                 |\n",
              "+--------------------+-------------------+\n",
              "| Bahamas            | 3                 |\n",
              "+--------------------+-------------------+\n",
              "| Argentina          | 3                 |\n",
              "+--------------------+-------------------+\n",
              "| United Kingdom     | 2                 |\n",
              "+--------------------+-------------------+\n",
              "| Ukraine            | 2                 |\n",
              "+--------------------+-------------------+\n",
              "| Montenegro         | 2                 |\n",
              "+--------------------+-------------------+\n",
              "| Latvia             | 2                 |\n",
              "+--------------------+-------------------+\n",
              "| Greece             | 2                 |\n",
              "+--------------------+-------------------+\n",
              "| Georgia            | 2                 |\n",
              "+--------------------+-------------------+\n",
              "| Dominican Republic | 2                 |\n",
              "+--------------------+-------------------+\n",
              "| DRC                | 2                 |\n",
              "+--------------------+-------------------+\n",
              "| Czech Republic     | 2                 |\n",
              "+--------------------+-------------------+\n",
              "| Cameroon           | 2                 |\n",
              "+--------------------+-------------------+\n",
              "| Brazil             | 2                 |\n",
              "+--------------------+-------------------+\n",
              "24 rows in set (0.00 sec)"
            ]
          },
          "execution_count": 16,
          "metadata": {},
          "output_type": "execute_result"
        }
      ],
      "source": [
        "%%sql\n"
      ]
    }
  ],
  "metadata": {
    "kernelspec": {
      "display_name": "xsql",
      "language": "sqlite",
      "name": "xsql"
    },
    "language_info": {
      "codemirror_mode": "sql",
      "file_extension": "",
      "mimetype": "",
      "name": "mysql",
      "version": "0.1.5"
    },
    "colab": {
      "provenance": [],
      "include_colab_link": true
    }
  },
  "nbformat": 4,
  "nbformat_minor": 5
}