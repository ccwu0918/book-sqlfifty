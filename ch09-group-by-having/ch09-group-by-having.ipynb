{
 "cells": [
  {
   "cell_type": "markdown",
   "id": "lightweight-fruit",
   "metadata": {
    "slideshow": {
     "slide_type": "slide"
    }
   },
   "source": [
    "# SQL 的五十道練習：初學者友善的資料庫入門\n",
    "\n",
    "> 分組與聚合結果篩選"
   ]
  },
  {
   "cell_type": "code",
   "execution_count": 1,
   "id": "matched-spyware",
   "metadata": {
    "slideshow": {
     "slide_type": "skip"
    }
   },
   "outputs": [],
   "source": [
    "%LOAD sqlite3 db=../databases/imdb.db timeout=2 shared_cache=true"
   ]
  },
  {
   "cell_type": "markdown",
   "id": "4fedd6a3",
   "metadata": {
    "slideshow": {
     "slide_type": "slide"
    }
   },
   "source": [
    "## 複習一下\n",
    "\n",
    "在第三章「從資料表選擇」我們提過使用 `DISTINCT` 保留字來為查詢的結果剔除重複值；第六章「排序查詢結果」我們提過在 SQL 敘述中加入 `ORDER BY` 指定欄位作為排序依據，預設為遞增排序。"
   ]
  },
  {
   "cell_type": "code",
   "execution_count": 2,
   "id": "b80d588d",
   "metadata": {},
   "outputs": [
    {
     "data": {
      "text/html": [
       "<table>\n",
       "<tr>\n",
       "<th>distinct_director</th>\n",
       "</tr>\n",
       "<tr>\n",
       "<td>Aamir Khan</td>\n",
       "</tr>\n",
       "<tr>\n",
       "<td>Adam Elliot</td>\n",
       "</tr>\n",
       "<tr>\n",
       "<td>Akira Kurosawa</td>\n",
       "</tr>\n",
       "<tr>\n",
       "<td>Alejandro G. Iñárritu</td>\n",
       "</tr>\n",
       "<tr>\n",
       "<td>Alfred Hitchcock</td>\n",
       "</tr>\n",
       "<tr>\n",
       "<td>Andrew Stanton</td>\n",
       "</tr>\n",
       "<tr>\n",
       "<td>Anthony Russo</td>\n",
       "</tr>\n",
       "<tr>\n",
       "<td>Asghar Farhadi</td>\n",
       "</tr>\n",
       "<tr>\n",
       "<td>Billy Wilder</td>\n",
       "</tr>\n",
       "<tr>\n",
       "<td>Bob Persichetti</td>\n",
       "</tr>\n",
       "</table>\n",
       "10 rows in set (0.00 sec)"
      ],
      "text/plain": [
       "+-------------------------+\n",
       "| distinct_director       |\n",
       "+-------------------------+\n",
       "| Aamir Khan              |\n",
       "+-------------------------+\n",
       "| Adam Elliot             |\n",
       "+-------------------------+\n",
       "| Akira Kurosawa          |\n",
       "+-------------------------+\n",
       "| Alejandro G. Iñárritu |\n",
       "+-------------------------+\n",
       "| Alfred Hitchcock        |\n",
       "+-------------------------+\n",
       "| Andrew Stanton          |\n",
       "+-------------------------+\n",
       "| Anthony Russo           |\n",
       "+-------------------------+\n",
       "| Asghar Farhadi          |\n",
       "+-------------------------+\n",
       "| Billy Wilder            |\n",
       "+-------------------------+\n",
       "| Bob Persichetti         |\n",
       "+-------------------------+\n",
       "10 rows in set (0.00 sec)"
      ]
     },
     "execution_count": 2,
     "metadata": {},
     "output_type": "execute_result"
    }
   ],
   "source": [
    "SELECT DISTINCT director AS distinct_director\n",
    "  FROM movies\n",
    " ORDER BY director\n",
    " LIMIT 10;"
   ]
  },
  {
   "cell_type": "markdown",
   "id": "supposed-spread",
   "metadata": {
    "slideshow": {
     "slide_type": "slide"
    }
   },
   "source": [
    "## 以 `GROUP BY` 分組\n",
    "\n",
    "對資料表中的欄位剔除重複值並且遞增排序，這樣的技巧在 SQL 與關聯式資料庫管理系統被稱為「分組」，在 SQL 敘述中加入 `GROUP BY` 就等同於 `DISTINCT` 與 `ORDER BY` 兩者同時作用的效果。\n",
    "\n",
    "```sql\n",
    "SELECT columns\n",
    "  FROM table\n",
    " GROUP BY columns;\n",
    "```"
   ]
  },
  {
   "cell_type": "code",
   "execution_count": 3,
   "id": "eb7893bc",
   "metadata": {},
   "outputs": [
    {
     "data": {
      "text/html": [
       "<table>\n",
       "<tr>\n",
       "<th>director</th>\n",
       "</tr>\n",
       "<tr>\n",
       "<td>Aamir Khan</td>\n",
       "</tr>\n",
       "<tr>\n",
       "<td>Adam Elliot</td>\n",
       "</tr>\n",
       "<tr>\n",
       "<td>Akira Kurosawa</td>\n",
       "</tr>\n",
       "<tr>\n",
       "<td>Alejandro G. Iñárritu</td>\n",
       "</tr>\n",
       "<tr>\n",
       "<td>Alfred Hitchcock</td>\n",
       "</tr>\n",
       "<tr>\n",
       "<td>Andrew Stanton</td>\n",
       "</tr>\n",
       "<tr>\n",
       "<td>Anthony Russo</td>\n",
       "</tr>\n",
       "<tr>\n",
       "<td>Asghar Farhadi</td>\n",
       "</tr>\n",
       "<tr>\n",
       "<td>Billy Wilder</td>\n",
       "</tr>\n",
       "<tr>\n",
       "<td>Bob Persichetti</td>\n",
       "</tr>\n",
       "</table>\n",
       "10 rows in set (0.00 sec)"
      ],
      "text/plain": [
       "+-------------------------+\n",
       "| director                |\n",
       "+-------------------------+\n",
       "| Aamir Khan              |\n",
       "+-------------------------+\n",
       "| Adam Elliot             |\n",
       "+-------------------------+\n",
       "| Akira Kurosawa          |\n",
       "+-------------------------+\n",
       "| Alejandro G. Iñárritu |\n",
       "+-------------------------+\n",
       "| Alfred Hitchcock        |\n",
       "+-------------------------+\n",
       "| Andrew Stanton          |\n",
       "+-------------------------+\n",
       "| Anthony Russo           |\n",
       "+-------------------------+\n",
       "| Asghar Farhadi          |\n",
       "+-------------------------+\n",
       "| Billy Wilder            |\n",
       "+-------------------------+\n",
       "| Bob Persichetti         |\n",
       "+-------------------------+\n",
       "10 rows in set (0.00 sec)"
      ]
     },
     "execution_count": 3,
     "metadata": {},
     "output_type": "execute_result"
    }
   ],
   "source": [
    "SELECT director\n",
    "  FROM movies\n",
    " GROUP BY director\n",
    " LIMIT 10;"
   ]
  },
  {
   "cell_type": "markdown",
   "id": "6045fc53",
   "metadata": {
    "slideshow": {
     "slide_type": "subslide"
    }
   },
   "source": [
    "我們也能夠指定多個資料表欄位作為分組依據，只需要在 `GROUP BY` 之後用逗號 `,` 隔開不同欄位名稱即可，這時候會產生笛卡兒積（Cartesian product）效果，意即不同欄位的獨一值會組成所有可能的集合，例如 `GROUP BY director, release_year` 會將導演與上映年份的所有可能組成顯示於查詢結果。"
   ]
  },
  {
   "cell_type": "code",
   "execution_count": 4,
   "id": "16e3d4a8",
   "metadata": {},
   "outputs": [
    {
     "data": {
      "text/html": [
       "<table>\n",
       "<tr>\n",
       "<th>director</th>\n",
       "<th>release_year</th>\n",
       "</tr>\n",
       "<tr>\n",
       "<td>Aamir Khan</td>\n",
       "<td>2007</td>\n",
       "</tr>\n",
       "<tr>\n",
       "<td>Adam Elliot</td>\n",
       "<td>2009</td>\n",
       "</tr>\n",
       "<tr>\n",
       "<td>Akira Kurosawa</td>\n",
       "<td>1950</td>\n",
       "</tr>\n",
       "<tr>\n",
       "<td>Akira Kurosawa</td>\n",
       "<td>1952</td>\n",
       "</tr>\n",
       "<tr>\n",
       "<td>Akira Kurosawa</td>\n",
       "<td>1954</td>\n",
       "</tr>\n",
       "<tr>\n",
       "<td>Akira Kurosawa</td>\n",
       "<td>1961</td>\n",
       "</tr>\n",
       "<tr>\n",
       "<td>Akira Kurosawa</td>\n",
       "<td>1963</td>\n",
       "</tr>\n",
       "<tr>\n",
       "<td>Akira Kurosawa</td>\n",
       "<td>1975</td>\n",
       "</tr>\n",
       "<tr>\n",
       "<td>Akira Kurosawa</td>\n",
       "<td>1985</td>\n",
       "</tr>\n",
       "<tr>\n",
       "<td>Alejandro G. Iñárritu</td>\n",
       "<td>2000</td>\n",
       "</tr>\n",
       "</table>\n",
       "10 rows in set (0.00 sec)"
      ],
      "text/plain": [
       "+-------------------------+--------------+\n",
       "| director                | release_year |\n",
       "+-------------------------+--------------+\n",
       "| Aamir Khan              | 2007         |\n",
       "+-------------------------+--------------+\n",
       "| Adam Elliot             | 2009         |\n",
       "+-------------------------+--------------+\n",
       "| Akira Kurosawa          | 1950         |\n",
       "+-------------------------+--------------+\n",
       "| Akira Kurosawa          | 1952         |\n",
       "+-------------------------+--------------+\n",
       "| Akira Kurosawa          | 1954         |\n",
       "+-------------------------+--------------+\n",
       "| Akira Kurosawa          | 1961         |\n",
       "+-------------------------+--------------+\n",
       "| Akira Kurosawa          | 1963         |\n",
       "+-------------------------+--------------+\n",
       "| Akira Kurosawa          | 1975         |\n",
       "+-------------------------+--------------+\n",
       "| Akira Kurosawa          | 1985         |\n",
       "+-------------------------+--------------+\n",
       "| Alejandro G. Iñárritu | 2000         |\n",
       "+-------------------------+--------------+\n",
       "10 rows in set (0.00 sec)"
      ]
     },
     "execution_count": 4,
     "metadata": {},
     "output_type": "execute_result"
    }
   ],
   "source": [
    "SELECT director,\n",
    "       release_year\n",
    "  FROM movies\n",
    " GROUP BY director,\n",
    "          release_year\n",
    " LIMIT 10;"
   ]
  },
  {
   "cell_type": "markdown",
   "id": "olympic-advertiser",
   "metadata": {
    "slideshow": {
     "slide_type": "subslide"
    }
   },
   "source": [
    "`GROUP BY` 除了能夠得到 `DISTINCT` 與 `ORDER BY` 同時作用的效果，另外一個重要功能是搭配聚合函數進行分組聚合的資料分析技巧。在第五章「函數」，我們將函數粗略分為兩大類：通用函數與聚合函數，其中「用來彙總資訊」的函數，稱為聚合函數（Aggregate functions）。於 `SELECT` 後使用聚合函數的時候，能夠將欄位資料彙總後輸出。"
   ]
  },
  {
   "cell_type": "code",
   "execution_count": 5,
   "id": "instrumental-dinner",
   "metadata": {},
   "outputs": [
    {
     "data": {
      "text/html": [
       "<table>\n",
       "<tr>\n",
       "<th>avg_rating</th>\n",
       "</tr>\n",
       "<tr>\n",
       "<td>8.30719999999998</td>\n",
       "</tr>\n",
       "</table>\n",
       "1 row in set (0.00 sec)"
      ],
      "text/plain": [
       "+------------------+\n",
       "| avg_rating       |\n",
       "+------------------+\n",
       "| 8.30719999999998 |\n",
       "+------------------+\n",
       "1 row in set (0.00 sec)"
      ]
     },
     "execution_count": 5,
     "metadata": {},
     "output_type": "execute_result"
    }
   ],
   "source": [
    "SELECT AVG(rating) AS avg_rating\n",
    "  FROM movies;"
   ]
  },
  {
   "cell_type": "markdown",
   "id": "cba70f30",
   "metadata": {
    "slideshow": {
     "slide_type": "subslide"
    }
   },
   "source": [
    "舉例來說，現在我們希望計算不同年份 `release_year` 上映的電影平均評等，我們該怎麼做呢？比較直觀的想法是先知道有哪些年份。"
   ]
  },
  {
   "cell_type": "code",
   "execution_count": 6,
   "id": "99a9f751",
   "metadata": {},
   "outputs": [
    {
     "data": {
      "text/html": [
       "<table>\n",
       "<tr>\n",
       "<th>release_year</th>\n",
       "</tr>\n",
       "<tr>\n",
       "<td>1921</td>\n",
       "</tr>\n",
       "<tr>\n",
       "<td>1924</td>\n",
       "</tr>\n",
       "<tr>\n",
       "<td>1925</td>\n",
       "</tr>\n",
       "<tr>\n",
       "<td>1926</td>\n",
       "</tr>\n",
       "<tr>\n",
       "<td>1927</td>\n",
       "</tr>\n",
       "</table>\n",
       "5 rows in set (0.00 sec)"
      ],
      "text/plain": [
       "+--------------+\n",
       "| release_year |\n",
       "+--------------+\n",
       "| 1921         |\n",
       "+--------------+\n",
       "| 1924         |\n",
       "+--------------+\n",
       "| 1925         |\n",
       "+--------------+\n",
       "| 1926         |\n",
       "+--------------+\n",
       "| 1927         |\n",
       "+--------------+\n",
       "5 rows in set (0.00 sec)"
      ]
     },
     "execution_count": 6,
     "metadata": {},
     "output_type": "execute_result"
    }
   ],
   "source": [
    "SELECT release_year\n",
    "  FROM movies\n",
    " GROUP BY release_year\n",
    " LIMIT 5;"
   ]
  },
  {
   "cell_type": "markdown",
   "id": "a1d24011",
   "metadata": {
    "slideshow": {
     "slide_type": "subslide"
    }
   },
   "source": [
    "接著篩選不同上映年份的電影，計算這些電影的平均評等。\n",
    "\n",
    "```sql\n",
    "SELECT AVG(rating) AS avg_rating\n",
    "  FROM players\n",
    " WHERE release_year = 1921;\n",
    "SELECT AVG(rating) AS avg_rating\n",
    "  FROM players\n",
    " WHERE release_year = 1924;\n",
    "-- To be continued...\n",
    "```\n",
    "\n",
    "不過上映年份有為數眾多的獨一值，我們不太可能一一做資料表觀測值篩選然後計算平均評等。"
   ]
  },
  {
   "cell_type": "code",
   "execution_count": 7,
   "id": "7c5cda5d",
   "metadata": {},
   "outputs": [
    {
     "data": {
      "text/html": [
       "<table>\n",
       "<tr>\n",
       "<th>number_of_distinct_years</th>\n",
       "</tr>\n",
       "<tr>\n",
       "<td>86</td>\n",
       "</tr>\n",
       "</table>\n",
       "1 row in set (0.00 sec)"
      ],
      "text/plain": [
       "+--------------------------+\n",
       "| number_of_distinct_years |\n",
       "+--------------------------+\n",
       "| 86                       |\n",
       "+--------------------------+\n",
       "1 row in set (0.00 sec)"
      ]
     },
     "execution_count": 7,
     "metadata": {},
     "output_type": "execute_result"
    }
   ],
   "source": [
    "SELECT COUNT(DISTINCT release_year) AS number_of_distinct_years\n",
    "  FROM movies;"
   ]
  },
  {
   "cell_type": "markdown",
   "id": "weird-houston",
   "metadata": {
    "slideshow": {
     "slide_type": "subslide"
    }
   },
   "source": [
    "## 結合聚合函數與 `GROUP BY` 完成分組聚合\n",
    "\n",
    "同時使用聚合函數（例如 `AVG()`、`COUNT()`、`SUM()`...等）以及 `GROUP BY` 可以便捷地達成分組聚合，完成上述計算不同年份 `release_year` 上映的電影平均評等。\n",
    "\n",
    "```sql\n",
    "SELECT AGGREGATE_FUNCTION(column) AS alias\n",
    "  FROM table\n",
    " GROUP BY columns;\n",
    "```"
   ]
  },
  {
   "cell_type": "code",
   "execution_count": 8,
   "id": "three-pressure",
   "metadata": {
    "slideshow": {
     "slide_type": "subslide"
    }
   },
   "outputs": [
    {
     "data": {
      "text/html": [
       "<table>\n",
       "<tr>\n",
       "<th>release_year</th>\n",
       "<th>avg_rating</th>\n",
       "</tr>\n",
       "<tr>\n",
       "<td>1921</td>\n",
       "<td>8.3</td>\n",
       "</tr>\n",
       "<tr>\n",
       "<td>1924</td>\n",
       "<td>8.2</td>\n",
       "</tr>\n",
       "<tr>\n",
       "<td>1925</td>\n",
       "<td>8.2</td>\n",
       "</tr>\n",
       "<tr>\n",
       "<td>1926</td>\n",
       "<td>8.2</td>\n",
       "</tr>\n",
       "<tr>\n",
       "<td>1927</td>\n",
       "<td>8.3</td>\n",
       "</tr>\n",
       "<tr>\n",
       "<td>1928</td>\n",
       "<td>8.2</td>\n",
       "</tr>\n",
       "<tr>\n",
       "<td>1931</td>\n",
       "<td>8.4</td>\n",
       "</tr>\n",
       "<tr>\n",
       "<td>1934</td>\n",
       "<td>8.1</td>\n",
       "</tr>\n",
       "<tr>\n",
       "<td>1936</td>\n",
       "<td>8.5</td>\n",
       "</tr>\n",
       "<tr>\n",
       "<td>1939</td>\n",
       "<td>8.13333333333333</td>\n",
       "</tr>\n",
       "</table>\n",
       "10 rows in set (0.00 sec)"
      ],
      "text/plain": [
       "+--------------+------------------+\n",
       "| release_year | avg_rating       |\n",
       "+--------------+------------------+\n",
       "| 1921         | 8.3              |\n",
       "+--------------+------------------+\n",
       "| 1924         | 8.2              |\n",
       "+--------------+------------------+\n",
       "| 1925         | 8.2              |\n",
       "+--------------+------------------+\n",
       "| 1926         | 8.2              |\n",
       "+--------------+------------------+\n",
       "| 1927         | 8.3              |\n",
       "+--------------+------------------+\n",
       "| 1928         | 8.2              |\n",
       "+--------------+------------------+\n",
       "| 1931         | 8.4              |\n",
       "+--------------+------------------+\n",
       "| 1934         | 8.1              |\n",
       "+--------------+------------------+\n",
       "| 1936         | 8.5              |\n",
       "+--------------+------------------+\n",
       "| 1939         | 8.13333333333333 |\n",
       "+--------------+------------------+\n",
       "10 rows in set (0.00 sec)"
      ]
     },
     "execution_count": 8,
     "metadata": {},
     "output_type": "execute_result"
    }
   ],
   "source": [
    "SELECT release_year,\n",
    "       AVG(rating) AS avg_rating\n",
    "  FROM movies\n",
    " GROUP BY release_year\n",
    " LIMIT 10;"
   ]
  },
  {
   "cell_type": "markdown",
   "id": "existing-integrity",
   "metadata": {
    "slideshow": {
     "slide_type": "slide"
    }
   },
   "source": [
    "## 以 `HAVING` 篩選分組聚合結果\n",
    "\n",
    "在第七章「從資料表篩選」我們提過運用 `WHERE` 保留字搭配條件（Conditions）取出資料表符合「條件」的觀測值，這是一種作用於水平資料列「觀測值」的篩選方式。不過，假如我們希望針對分組聚合的結果進行篩選呢？"
   ]
  },
  {
   "cell_type": "code",
   "execution_count": 9,
   "id": "68198352",
   "metadata": {},
   "outputs": [
    {
     "ename": "Error",
     "evalue": "sqlite3_statement_backend::prepare: misuse of aggregate: AVG() while preparing \"SELECT release_year,\n       AVG(rating) AS avg_rating\n  FROM movies\n WHERE AVG(rating) >= 8.5\n GROUP BY release_year;\".",
     "output_type": "error",
     "traceback": [
      "Error: sqlite3_statement_backend::prepare: misuse of aggregate: AVG() while preparing \"SELECT release_year,\n       AVG(rating) AS avg_rating\n  FROM movies\n WHERE AVG(rating) >= 8.5\n GROUP BY release_year;\"."
     ]
    }
   ],
   "source": [
    "SELECT release_year,\n",
    "       AVG(rating) AS avg_rating\n",
    "  FROM movies\n",
    " WHERE AVG(rating) >= 8.5\n",
    " GROUP BY release_year;"
   ]
  },
  {
   "cell_type": "markdown",
   "id": "8729da27",
   "metadata": {},
   "source": [
    "這時我們得到了一個錯誤訊息：`misuse of aggregate: AVG()` 意即針對分組聚合的結果應用 `WHERE` 是不被允許的。在這樣的應用情境下，應該要改使用 `HAVING` 保留字加上帶有聚合函數的條件。`HAVING` 就像是分組聚合版本的 `WHERE`，兩者作用的維度不同，`WHERE` 篩選原始資料表列中的「觀測值」、`HAVING` 篩選聚合結果中的「欄位」。\n",
    "\n",
    "```sql\n",
    "SELECT AGGREGATE_FUNCTION(column) AS alias\n",
    "  FROM table\n",
    " GROUP BY columns\n",
    "HAVING conditions;\n",
    "```"
   ]
  },
  {
   "cell_type": "code",
   "execution_count": 10,
   "id": "7dbab28d",
   "metadata": {},
   "outputs": [
    {
     "data": {
      "text/html": [
       "<table>\n",
       "<tr>\n",
       "<th>release_year</th>\n",
       "<th>avg_rating</th>\n",
       "</tr>\n",
       "<tr>\n",
       "<td>1936</td>\n",
       "<td>8.5</td>\n",
       "</tr>\n",
       "<tr>\n",
       "<td>1972</td>\n",
       "<td>9.2</td>\n",
       "</tr>\n",
       "<tr>\n",
       "<td>1974</td>\n",
       "<td>8.6</td>\n",
       "</tr>\n",
       "<tr>\n",
       "<td>1977</td>\n",
       "<td>8.6</td>\n",
       "</tr>\n",
       "<tr>\n",
       "<td>1994</td>\n",
       "<td>8.8</td>\n",
       "</tr>\n",
       "<tr>\n",
       "<td>1999</td>\n",
       "<td>8.54</td>\n",
       "</tr>\n",
       "<tr>\n",
       "<td>2002</td>\n",
       "<td>8.5</td>\n",
       "</tr>\n",
       "<tr>\n",
       "<td>2008</td>\n",
       "<td>8.5</td>\n",
       "</tr>\n",
       "</table>\n",
       "8 rows in set (0.00 sec)"
      ],
      "text/plain": [
       "+--------------+------------+\n",
       "| release_year | avg_rating |\n",
       "+--------------+------------+\n",
       "| 1936         | 8.5        |\n",
       "+--------------+------------+\n",
       "| 1972         | 9.2        |\n",
       "+--------------+------------+\n",
       "| 1974         | 8.6        |\n",
       "+--------------+------------+\n",
       "| 1977         | 8.6        |\n",
       "+--------------+------------+\n",
       "| 1994         | 8.8        |\n",
       "+--------------+------------+\n",
       "| 1999         | 8.54       |\n",
       "+--------------+------------+\n",
       "| 2002         | 8.5        |\n",
       "+--------------+------------+\n",
       "| 2008         | 8.5        |\n",
       "+--------------+------------+\n",
       "8 rows in set (0.00 sec)"
      ]
     },
     "execution_count": 10,
     "metadata": {},
     "output_type": "execute_result"
    }
   ],
   "source": [
    "SELECT release_year,\n",
    "       AVG(rating) AS avg_rating\n",
    "  FROM movies\n",
    " GROUP BY release_year\n",
    "HAVING AVG(rating) >= 8.5;"
   ]
  },
  {
   "cell_type": "markdown",
   "id": "understanding-sudan",
   "metadata": {
    "slideshow": {
     "slide_type": "slide"
    }
   },
   "source": [
    "## 重點統整\n",
    "\n",
    "- 在 SQL 敘述中加入 `GROUP BY` 就等同於 `DISTINCT` 與 `ORDER BY` 兩者同時作用的效果。\n",
    "- `GROUP BY` 另外一個重要功能是搭配聚合函數進行分組聚合的資料分析技巧。\n",
    "- 以 `HAVING` 篩選分組聚合結果。\n",
    "- 這個章節學起來的 SQL 保留字：\n",
    "    - `GROUP BY`\n",
    "    - `HAVING`\n",
    "- 將截至目前所學的 SQL 保留字集中在一個敘述中，寫作順序必須遵從標準 SQL 的規定。\n",
    "\n",
    "```sql\n",
    "SELECT DISTINCT columns AS alias,\n",
    "       CASE WHEN condition_1 THEN result_1\n",
    "            WHEN condition_2 THEN result_2\n",
    "            ...\n",
    "            ELSE result_n END AS alias\n",
    "  FROM table\n",
    " WHERE conditions\n",
    " GROUP BY columns\n",
    "HAVING conditions\n",
    " ORDER BY columns DESC\n",
    " LIMIT m;\n",
    "```\n",
    "\n",
    "## 練習題 25-29\n",
    "\n",
    "練習題會涵蓋四個學習資料庫，記得要依據題目的需求，調整編輯器選單的學習資料庫，在自己電腦的 SQLiteStudio 寫出跟預期輸出相同的 SQL 敘述，寫作過程如果卡關了，可以參考附錄二「練習題參考解答」。\n",
    "\n",
    "### 25. 從 `imdb` 資料庫的 `movies` 資料表計算每一年有幾部在 IMDb.com 獲得高評等的經典電影，參考下列的預期查詢結果。\n",
    "\n",
    "註：在 `movies` 資料表中的所有電影都是高評等的經典電影，讀者不需要定義或篩選「高評等」。\n",
    "\n",
    "預期輸出：(86, 2) 的查詢結果。\n",
    "\n",
    "```\n",
    "release_year\tnumber_of_movies\n",
    "1921\t1\n",
    "1924\t1\n",
    "1925\t1\n",
    "1926\t1\n",
    "1927\t1\n",
    "...\n",
    "```\n",
    "\n",
    "### 26. 從 `imdb` 資料庫的 `movies` 資料表計算每一年有幾部在 IMDb.com 獲得高評等的經典電影，只顯示電影數在 5 部以上（`>= 5`）的年份，參考下列的預期查詢結果。\n",
    "\n",
    "註：在 `movies` 資料表中的所有電影都是高評等的經典電影，讀者不需要定義或篩選「高評等」。\n",
    "\n",
    "預期輸出：(17, 2) 的查詢結果。\n",
    "\n",
    "```\n",
    "release_year\tnumber_of_movies\n",
    "1957\t6\n",
    "1975\t5\n",
    "1994\t5\n",
    "1995\t8\n",
    "1997\t5\n",
    "1998\t5\n",
    "1999\t5\n",
    "2000\t5\n",
    "2001\t5\n",
    "2003\t6\n",
    "2004\t7\n",
    "2007\t5\n",
    "2009\t6\n",
    "2010\t5\n",
    "2011\t5\n",
    "2014\t5\n",
    "2019\t6\n",
    "```\n",
    "\n",
    "### 27. 從 `twElection2020` 資料庫的 `presidential` 資料表暸解台灣 2020 總統副總統的選舉結果，參考下列的預期查詢結果。\n",
    "\n",
    "預期輸出：(3, 2) 的查詢結果。\n",
    "\n",
    "```\n",
    "candidate_id\ttotal_votes\n",
    "1\t608590\n",
    "2\t5522119\n",
    "3\t8170231\n",
    "```\n",
    "\n",
    "### 28. 從 `nba` 資料庫的 `players` 資料表根據 `country` 暸解 NBA 由哪些國家的球員所組成，參考下列的預期查詢結果。\n",
    "\n",
    "預期輸出：(42, 2) 的查詢結果。\n",
    "\n",
    "```\n",
    "country\tnumber_of_players\n",
    "USA\t387\n",
    "Canada\t21\n",
    "France\t9\n",
    "Germany\t8\n",
    "Australia\t7\n",
    "Serbia\t5\n",
    "Spain\t5\n",
    "Nigeria\t4\n",
    "Turkey\t4\n",
    "Argentina\t3\n",
    "Bahamas\t3\n",
    "Croatia\t3\n",
    "Japan\t3\n",
    "Lithuania\t3\n",
    "Slovenia\t3\n",
    "Brazil\t2\n",
    "Cameroon\t2\n",
    "Czech Republic\t2\n",
    "DRC\t2\n",
    "Dominican Republic\t2\n",
    "Georgia\t2\n",
    "Greece\t2\n",
    "Latvia\t2\n",
    "Montenegro\t2\n",
    "Ukraine\t2\n",
    "United Kingdom\t2\n",
    "Angola\t1\n",
    "Austria\t1\n",
    "Bosnia and Herzegovina\t1\n",
    "Denmark\t1\n",
    "Finland\t1\n",
    "Israel\t1\n",
    "Italy\t1\n",
    "Jamaica\t1\n",
    "New Zealand\t1\n",
    "Portugal\t1\n",
    "Republic of the Congo\t1\n",
    "Saint Lucia\t1\n",
    "Senegal\t1\n",
    "South Sudan\t1\n",
    "Sudan\t1\n",
    "Switzerland\t1\n",
    "```\n",
    "\n",
    "### 29. 從 `nba` 資料庫的 `players` 資料表根據 `country` 暸解 NBA 由哪些國家的球員所組成，只顯示球員數在 2 位以上（>= 2）並在 9 位以下（<=9）的國家，參考下列的預期查詢結果。\n",
    "\n",
    "預期輸出：(24, 2) 的查詢結果。\n",
    "\n",
    "```\n",
    "country\tnumber_of_players\n",
    "France\t9\n",
    "Germany\t8\n",
    "Australia\t7\n",
    "Serbia\t5\n",
    "Spain\t5\n",
    "Nigeria\t4\n",
    "Turkey\t4\n",
    "Argentina\t3\n",
    "Bahamas\t3\n",
    "Croatia\t3\n",
    "Japan\t3\n",
    "Lithuania\t3\n",
    "Slovenia\t3\n",
    "Brazil\t2\n",
    "Cameroon\t2\n",
    "Czech Republic\t2\n",
    "DRC\t2\n",
    "Dominican Republic\t2\n",
    "Georgia\t2\n",
    "Greece\t2\n",
    "Latvia\t2\n",
    "Montenegro\t2\n",
    "Ukraine\t2\n",
    "United Kingdom\t2\n",
    "```"
   ]
  }
 ],
 "metadata": {
  "kernelspec": {
   "display_name": "xsql",
   "language": "sqlite",
   "name": "xsql"
  },
  "language_info": {
   "codemirror_mode": "sql",
   "file_extension": "",
   "mimetype": "",
   "name": "mysql",
   "version": "0.1.4"
  }
 },
 "nbformat": 4,
 "nbformat_minor": 5
}
