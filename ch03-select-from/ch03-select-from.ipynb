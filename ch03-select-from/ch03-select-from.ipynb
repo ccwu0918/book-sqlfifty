{
  "cells": [
    {
      "cell_type": "markdown",
      "metadata": {
        "id": "view-in-github",
        "colab_type": "text"
      },
      "source": [
        "<a href=\"https://colab.research.google.com/github/ccwu0918/book-sqlfifty/blob/main/ch03-select-from/ch03-select-from.ipynb\" target=\"_parent\"><img src=\"https://colab.research.google.com/assets/colab-badge.svg\" alt=\"Open In Colab\"/></a>"
      ]
    },
    {
      "cell_type": "markdown",
      "id": "lightweight-fruit",
      "metadata": {
        "id": "lightweight-fruit"
      },
      "source": [
        "# SQL 的五十道練習：初學者友善的資料庫入門\n",
        "\n",
        "> 從資料表選擇"
      ]
    },
    {
      "cell_type": "code",
      "source": [
        "!git clone https://github.com/ccwu0918/book-sqlfifty"
      ],
      "metadata": {
        "colab": {
          "base_uri": "https://localhost:8080/"
        },
        "id": "aqwJ4Y1T0f6f",
        "outputId": "43ca0292-5e3e-4806-f7d6-9ac66f41bb8a"
      },
      "execution_count": null,
      "outputs": [
        {
          "output_type": "stream",
          "name": "stdout",
          "text": [
            "Cloning into 'book-sqlfifty'...\n",
            "remote: Enumerating objects: 186, done.\u001b[K\n",
            "remote: Counting objects: 100% (186/186), done.\u001b[K\n",
            "remote: Compressing objects: 100% (122/122), done.\u001b[K\n",
            "remote: Total 186 (delta 54), reused 173 (delta 44), pack-reused 0\u001b[K\n",
            "Receiving objects: 100% (186/186), 28.90 MiB | 13.73 MiB/s, done.\n",
            "Resolving deltas: 100% (54/54), done.\n"
          ]
        }
      ],
      "id": "aqwJ4Y1T0f6f"
    },
    {
      "cell_type": "code",
      "source": [
        "%cd book-sqlfifty"
      ],
      "metadata": {
        "colab": {
          "base_uri": "https://localhost:8080/"
        },
        "id": "2zA5EYKY0lqK",
        "outputId": "caca6f8e-d0a2-4325-c198-f383bec45847"
      },
      "execution_count": null,
      "outputs": [
        {
          "output_type": "stream",
          "name": "stdout",
          "text": [
            "/content/book-sqlfifty\n"
          ]
        }
      ],
      "id": "2zA5EYKY0lqK"
    },
    {
      "cell_type": "markdown",
      "id": "88a14a91",
      "metadata": {
        "id": "88a14a91"
      },
      "source": [
        "讀者如果是資料科學的初學者，可以略過下述的程式碼；讀者如果不是資料科學的初學者，欲使用 JupyterLab 執行本章節內容，必須先執行下述程式碼載入所需模組與連接資料庫。"
      ]
    },
    {
      "cell_type": "code",
      "source": [
        "import sqlite3\n",
        "import unittest\n",
        "import json\n",
        "import os\n",
        "import numpy as np\n",
        "import pandas as pd\n",
        "conn = sqlite3.connect('./databases/imdb.db')\n",
        "conn.execute(\"\"\"ATTACH './databases/covid19.db' AS covid19\"\"\")\n",
        "conn.execute(\"\"\"ATTACH './databases/twElection2020.db' AS twElection2020\"\"\")\n",
        "conn.execute(\"\"\"ATTACH './databases/nba.db' AS nba\"\"\")\n",
        "conn.execute(\"\"\"ATTACH './databases/northwind.db' AS Northwind\"\"\")\n",
        "conn.execute(\"\"\"ATTACH './databases/Chinook_Sqlite.sqlite' AS Chinook\"\"\")"
      ],
      "metadata": {
        "id": "jhLiSnfq8rSq"
      },
      "id": "jhLiSnfq8rSq",
      "execution_count": null,
      "outputs": []
    },
    {
      "cell_type": "code",
      "source": [
        "# %%capture\n",
        "# load the SQL magic extension\n",
        "# https://github.com/catherinedevlin/ipython-sql\n",
        "# this extension allows us to connect to DBs and issue SQL command\n",
        "%load_ext sql\n",
        "\n",
        "# now we can use the magic extension to connect to our SQLite DB\n",
        "# use %sql to write an inline SQL command\n",
        "# use %%sql to write SQL commands in a cell\n",
        "%sql sqlite:///databases/imdb.db"
      ],
      "metadata": {
        "colab": {
          "base_uri": "https://localhost:8080/",
          "height": 35
        },
        "id": "Ieg3H2Wm0rIv",
        "outputId": "db970aed-f552-437b-d665-18279cdc7f83"
      },
      "execution_count": null,
      "outputs": [
        {
          "output_type": "execute_result",
          "data": {
            "text/plain": [
              "'Connected: @databases/imdb.db'"
            ],
            "application/vnd.google.colaboratory.intrinsic+json": {
              "type": "string"
            }
          },
          "metadata": {},
          "execution_count": 3
        }
      ],
      "id": "Ieg3H2Wm0rIv"
    },
    {
      "cell_type": "code",
      "execution_count": null,
      "metadata": {
        "id": "de6cc691"
      },
      "outputs": [],
      "source": [
        "# %LOAD sqlite3 db=../databases/imdb.db timeout=2 shared_cache=true"
      ],
      "id": "de6cc691"
    },
    {
      "cell_type": "code",
      "execution_count": null,
      "metadata": {
        "colab": {
          "base_uri": "https://localhost:8080/"
        },
        "id": "9bcc07d8",
        "outputId": "9add96ed-23ee-41cc-8b1b-73756816fb6a"
      },
      "outputs": [
        {
          "output_type": "stream",
          "name": "stdout",
          "text": [
            " * sqlite:///databases/imdb.db\n",
            "Done.\n",
            "Done.\n",
            "Done.\n"
          ]
        },
        {
          "output_type": "execute_result",
          "data": {
            "text/plain": [
              "[]"
            ]
          },
          "metadata": {},
          "execution_count": 5
        }
      ],
      "source": [
        "%%sql\n",
        "ATTACH \"./databases/covid19.db\" AS covid19;\n",
        "ATTACH \"./databases/twElection2020.db\" AS twElection2020;\n",
        "ATTACH \"./databases/nba.db\" AS nba;\n",
        "ATTACH \"./databases/northwind.db\" AS Northwind;\n",
        "ATTACH \"./databases/Chinook_Sqlite.sqlite\" AS Chinook;"
      ],
      "id": "9bcc07d8"
    },
    {
      "cell_type": "markdown",
      "id": "threaded-police",
      "metadata": {
        "id": "threaded-police"
      },
      "source": [
        "## 複習一下\n",
        "\n",
        "在第二章「建立學習環境」我們寫作了 SQL 敘述完成哈囉世界、檢視學習資料庫中第一個資料表（依照英文字母順序排列）的「前五列、所有欄」，藉此確認學習環境能夠妥善運行。"
      ]
    },
    {
      "cell_type": "code",
      "execution_count": null,
      "id": "3e4a3340",
      "metadata": {
        "id": "3e4a3340",
        "outputId": "a16ae56f-1525-4ec4-f15a-3177c7b56dfd",
        "colab": {
          "base_uri": "https://localhost:8080/",
          "height": 96
        }
      },
      "outputs": [
        {
          "output_type": "stream",
          "name": "stdout",
          "text": [
            " * sqlite:///databases/imdb.db\n",
            "Done.\n"
          ]
        },
        {
          "output_type": "execute_result",
          "data": {
            "text/plain": [
              "[('Hello, World!',)]"
            ],
            "text/html": [
              "<table>\n",
              "    <thead>\n",
              "        <tr>\n",
              "            <th>&#x27;Hello, World!&#x27;</th>\n",
              "        </tr>\n",
              "    </thead>\n",
              "    <tbody>\n",
              "        <tr>\n",
              "            <td>Hello, World!</td>\n",
              "        </tr>\n",
              "    </tbody>\n",
              "</table>"
            ]
          },
          "metadata": {},
          "execution_count": 7
        }
      ],
      "source": [
        "%%sql\n",
        "SELECT 'Hello, World!';"
      ]
    },
    {
      "cell_type": "code",
      "execution_count": null,
      "id": "wired-consciousness",
      "metadata": {
        "id": "wired-consciousness",
        "outputId": "1737e618-ffda-4825-fa65-c532d78aff92",
        "colab": {
          "base_uri": "https://localhost:8080/",
          "height": 182
        }
      },
      "outputs": [
        {
          "output_type": "stream",
          "name": "stdout",
          "text": [
            " * sqlite:///databases/imdb.db\n",
            "Done.\n"
          ]
        },
        {
          "output_type": "execute_result",
          "data": {
            "text/plain": [
              "[(1, 'Aamir Khan'),\n",
              " (2, 'Aaron Eckhart'),\n",
              " (3, 'Aaron Lazar'),\n",
              " (4, 'Abbas-Ali Roomandi'),\n",
              " (5, 'Abbey Lee')]"
            ],
            "text/html": [
              "<table>\n",
              "    <thead>\n",
              "        <tr>\n",
              "            <th>id</th>\n",
              "            <th>name</th>\n",
              "        </tr>\n",
              "    </thead>\n",
              "    <tbody>\n",
              "        <tr>\n",
              "            <td>1</td>\n",
              "            <td>Aamir Khan</td>\n",
              "        </tr>\n",
              "        <tr>\n",
              "            <td>2</td>\n",
              "            <td>Aaron Eckhart</td>\n",
              "        </tr>\n",
              "        <tr>\n",
              "            <td>3</td>\n",
              "            <td>Aaron Lazar</td>\n",
              "        </tr>\n",
              "        <tr>\n",
              "            <td>4</td>\n",
              "            <td>Abbas-Ali Roomandi</td>\n",
              "        </tr>\n",
              "        <tr>\n",
              "            <td>5</td>\n",
              "            <td>Abbey Lee</td>\n",
              "        </tr>\n",
              "    </tbody>\n",
              "</table>"
            ]
          },
          "metadata": {},
          "execution_count": 8
        }
      ],
      "source": [
        "%%sql\n",
        "SELECT *\n",
        "  FROM actors\n",
        " LIMIT 5;"
      ]
    },
    {
      "cell_type": "markdown",
      "id": "b7d073ce",
      "metadata": {
        "id": "b7d073ce"
      },
      "source": [
        "在第二章「建立學習環境」我們寫作了 SQL 敘述查詢四個學習資料庫每一個資料表的元資料（Metadata）來獲得每一欄的資訊。"
      ]
    },
    {
      "cell_type": "code",
      "execution_count": null,
      "id": "6fd2756c",
      "metadata": {
        "id": "6fd2756c",
        "outputId": "8c539d8f-81a9-4e8e-b763-37edc6625513",
        "colab": {
          "base_uri": "https://localhost:8080/",
          "height": 118
        }
      },
      "outputs": [
        {
          "output_type": "stream",
          "name": "stdout",
          "text": [
            " * sqlite:///databases/imdb.db\n",
            "Done.\n"
          ]
        },
        {
          "output_type": "execute_result",
          "data": {
            "text/plain": [
              "[(0, 'id', 'INTEGER', 0, None, 1), (1, 'name', 'TEXT', 0, None, 0)]"
            ],
            "text/html": [
              "<table>\n",
              "    <thead>\n",
              "        <tr>\n",
              "            <th>cid</th>\n",
              "            <th>name</th>\n",
              "            <th>type</th>\n",
              "            <th>notnull</th>\n",
              "            <th>dflt_value</th>\n",
              "            <th>pk</th>\n",
              "        </tr>\n",
              "    </thead>\n",
              "    <tbody>\n",
              "        <tr>\n",
              "            <td>0</td>\n",
              "            <td>id</td>\n",
              "            <td>INTEGER</td>\n",
              "            <td>0</td>\n",
              "            <td>None</td>\n",
              "            <td>1</td>\n",
              "        </tr>\n",
              "        <tr>\n",
              "            <td>1</td>\n",
              "            <td>name</td>\n",
              "            <td>TEXT</td>\n",
              "            <td>0</td>\n",
              "            <td>None</td>\n",
              "            <td>0</td>\n",
              "        </tr>\n",
              "    </tbody>\n",
              "</table>"
            ]
          },
          "metadata": {},
          "execution_count": 9
        }
      ],
      "source": [
        "%%sql\n",
        "SELECT *\n",
        "  FROM PRAGMA_TABLE_INFO('actors');"
      ]
    },
    {
      "cell_type": "markdown",
      "id": "55398fe0",
      "metadata": {
        "id": "55398fe0"
      },
      "source": [
        "## SQL 敘述的組成\n",
        "\n",
        "藉由觀察這三個 SQL 敘述，我們可以將 SQL 敘述歸納為以下幾個部分的組成：\n",
        "\n",
        "- 保留字：具有特定功能的指令，例如 `SELECT`、`FROM` 與 `LIMIT`。\n",
        "- 符號：具有特定功能的符號，例如 `*` 與 `;`。\n",
        "- 常數：由使用者給予的資料，例如 `'Hello, World!'`。\n",
        "- 函數：具有特定邏輯的輸入與輸出對應，例如 `PRAGMA_TABLE_INFO()`。\n",
        "\n",
        "其中 `SELECT` 是「選擇」欄的保留字，`FROM` 是指定「從」哪個資料表查詢，`LIMIT m` 是讓查詢結果顯示前 `m` 列，`*` 表示「所有欄」，`;` 表示一段 SQL 敘述的結束。我們習慣以 `(m, n)` 來描述一個具有 `m` 列、`n` 欄的資料表或者查詢結果，其中 `m` 不包含欄名那一列，舉例來說 `SELECT 'Hello, World!';` 的查詢結果是 `(1, 1)`。"
      ]
    },
    {
      "cell_type": "code",
      "execution_count": null,
      "id": "1877f829",
      "metadata": {
        "id": "1877f829",
        "outputId": "f4a747f9-f89b-43a9-a2be-cd724c634734",
        "colab": {
          "base_uri": "https://localhost:8080/",
          "height": 96
        }
      },
      "outputs": [
        {
          "output_type": "stream",
          "name": "stdout",
          "text": [
            " * sqlite:///databases/imdb.db\n",
            "Done.\n"
          ]
        },
        {
          "output_type": "execute_result",
          "data": {
            "text/plain": [
              "[('Hello, World!',)]"
            ],
            "text/html": [
              "<table>\n",
              "    <thead>\n",
              "        <tr>\n",
              "            <th>&#x27;Hello, World!&#x27;</th>\n",
              "        </tr>\n",
              "    </thead>\n",
              "    <tbody>\n",
              "        <tr>\n",
              "            <td>Hello, World!</td>\n",
              "        </tr>\n",
              "    </tbody>\n",
              "</table>"
            ]
          },
          "metadata": {},
          "execution_count": 10
        }
      ],
      "source": [
        "%%sql\n",
        "SELECT 'Hello, World!';"
      ]
    },
    {
      "cell_type": "markdown",
      "id": "3610b497",
      "metadata": {
        "id": "3610b497"
      },
      "source": [
        "`SELECT * FROM actors LIMIT 5;` 的查詢結果是 `(5, 2)`"
      ]
    },
    {
      "cell_type": "code",
      "execution_count": null,
      "id": "7a93d79b",
      "metadata": {
        "id": "7a93d79b",
        "outputId": "2ba040c8-21a2-493f-c0e0-4a248623ace9",
        "colab": {
          "base_uri": "https://localhost:8080/",
          "height": 182
        }
      },
      "outputs": [
        {
          "output_type": "stream",
          "name": "stdout",
          "text": [
            " * sqlite:///databases/imdb.db\n",
            "Done.\n"
          ]
        },
        {
          "output_type": "execute_result",
          "data": {
            "text/plain": [
              "[(1, 'Aamir Khan'),\n",
              " (2, 'Aaron Eckhart'),\n",
              " (3, 'Aaron Lazar'),\n",
              " (4, 'Abbas-Ali Roomandi'),\n",
              " (5, 'Abbey Lee')]"
            ],
            "text/html": [
              "<table>\n",
              "    <thead>\n",
              "        <tr>\n",
              "            <th>id</th>\n",
              "            <th>name</th>\n",
              "        </tr>\n",
              "    </thead>\n",
              "    <tbody>\n",
              "        <tr>\n",
              "            <td>1</td>\n",
              "            <td>Aamir Khan</td>\n",
              "        </tr>\n",
              "        <tr>\n",
              "            <td>2</td>\n",
              "            <td>Aaron Eckhart</td>\n",
              "        </tr>\n",
              "        <tr>\n",
              "            <td>3</td>\n",
              "            <td>Aaron Lazar</td>\n",
              "        </tr>\n",
              "        <tr>\n",
              "            <td>4</td>\n",
              "            <td>Abbas-Ali Roomandi</td>\n",
              "        </tr>\n",
              "        <tr>\n",
              "            <td>5</td>\n",
              "            <td>Abbey Lee</td>\n",
              "        </tr>\n",
              "    </tbody>\n",
              "</table>"
            ]
          },
          "metadata": {},
          "execution_count": 11
        }
      ],
      "source": [
        "%%sql\n",
        "SELECT *\n",
        "  FROM actors\n",
        " LIMIT 5;"
      ]
    },
    {
      "cell_type": "markdown",
      "id": "lasting-fantasy",
      "metadata": {
        "id": "lasting-fantasy"
      },
      "source": [
        "## 查詢結果顯示常數：`SELECT constants`\n",
        "\n",
        "使用單獨存在的 `SELECT` 保留字指定希望在查詢結果中顯示的常數，常用的常數類別有四種，分別是整數、浮點數、文字與空值，我們可以使用 `TYPEOF()` 函數顯示常數或者資料表欄位的類別，當 `SELECT` 之後有不只一個資料的時候就用逗號 `,` 分隔。\n",
        "\n",
        "|常數類別|範例|\n",
        "|:------|:---|\n",
        "|整數 `integer`|`7`, `19`, `5566`, ...etc.|\n",
        "|浮點數 `real`|`2.718`, `3.14159`, ...etc.|\n",
        "|文字 `text`|`'Hello, World!'`, `'SQL'`, ...etc.|\n",
        "|空值 `null`|`NULL`|"
      ]
    },
    {
      "cell_type": "code",
      "execution_count": null,
      "id": "350dc657",
      "metadata": {
        "id": "350dc657",
        "outputId": "29dc6965-e544-4ae6-ecf3-6c0dd66bb033",
        "colab": {
          "base_uri": "https://localhost:8080/",
          "height": 96
        }
      },
      "outputs": [
        {
          "output_type": "stream",
          "name": "stdout",
          "text": [
            " * sqlite:///databases/imdb.db\n",
            "Done.\n"
          ]
        },
        {
          "output_type": "execute_result",
          "data": {
            "text/plain": [
              "[(5566, 'integer')]"
            ],
            "text/html": [
              "<table>\n",
              "    <thead>\n",
              "        <tr>\n",
              "            <th>5566</th>\n",
              "            <th>TYPEOF(5566)</th>\n",
              "        </tr>\n",
              "    </thead>\n",
              "    <tbody>\n",
              "        <tr>\n",
              "            <td>5566</td>\n",
              "            <td>integer</td>\n",
              "        </tr>\n",
              "    </tbody>\n",
              "</table>"
            ]
          },
          "metadata": {},
          "execution_count": 12
        }
      ],
      "source": [
        "%%sql\n",
        "SELECT 5566,\n",
        "       TYPEOF(5566);"
      ]
    },
    {
      "cell_type": "code",
      "execution_count": null,
      "id": "4cca6806",
      "metadata": {
        "id": "4cca6806",
        "outputId": "cbc56721-29b1-459e-a196-7945fd6b4f5f",
        "colab": {
          "base_uri": "https://localhost:8080/",
          "height": 96
        }
      },
      "outputs": [
        {
          "output_type": "stream",
          "name": "stdout",
          "text": [
            " * sqlite:///databases/imdb.db\n",
            "Done.\n"
          ]
        },
        {
          "output_type": "execute_result",
          "data": {
            "text/plain": [
              "[(2.718, 'real')]"
            ],
            "text/html": [
              "<table>\n",
              "    <thead>\n",
              "        <tr>\n",
              "            <th>2.718</th>\n",
              "            <th>TYPEOF(2.718)</th>\n",
              "        </tr>\n",
              "    </thead>\n",
              "    <tbody>\n",
              "        <tr>\n",
              "            <td>2.718</td>\n",
              "            <td>real</td>\n",
              "        </tr>\n",
              "    </tbody>\n",
              "</table>"
            ]
          },
          "metadata": {},
          "execution_count": 13
        }
      ],
      "source": [
        "%%sql\n",
        "SELECT 2.718,\n",
        "       TYPEOF(2.718);"
      ]
    },
    {
      "cell_type": "code",
      "execution_count": null,
      "id": "e35079a8",
      "metadata": {
        "id": "e35079a8",
        "outputId": "3058de34-7478-4a01-8db9-8453e693908b",
        "colab": {
          "base_uri": "https://localhost:8080/",
          "height": 96
        }
      },
      "outputs": [
        {
          "output_type": "stream",
          "name": "stdout",
          "text": [
            " * sqlite:///databases/imdb.db\n",
            "Done.\n"
          ]
        },
        {
          "output_type": "execute_result",
          "data": {
            "text/plain": [
              "[('Hello, World!', 'text')]"
            ],
            "text/html": [
              "<table>\n",
              "    <thead>\n",
              "        <tr>\n",
              "            <th>&#x27;Hello, World!&#x27;</th>\n",
              "            <th>TYPEOF(&#x27;Hello, World!&#x27;)</th>\n",
              "        </tr>\n",
              "    </thead>\n",
              "    <tbody>\n",
              "        <tr>\n",
              "            <td>Hello, World!</td>\n",
              "            <td>text</td>\n",
              "        </tr>\n",
              "    </tbody>\n",
              "</table>"
            ]
          },
          "metadata": {},
          "execution_count": 14
        }
      ],
      "source": [
        "%%sql\n",
        "SELECT 'Hello, World!',\n",
        "       TYPEOF('Hello, World!');"
      ]
    },
    {
      "cell_type": "code",
      "execution_count": null,
      "id": "f9eab8d5",
      "metadata": {
        "id": "f9eab8d5",
        "outputId": "7243ecd8-334f-40b3-dc7f-5a911e4a1b04",
        "colab": {
          "base_uri": "https://localhost:8080/",
          "height": 96
        }
      },
      "outputs": [
        {
          "output_type": "stream",
          "name": "stdout",
          "text": [
            " * sqlite:///databases/imdb.db\n",
            "Done.\n"
          ]
        },
        {
          "output_type": "execute_result",
          "data": {
            "text/plain": [
              "[(None, 'null')]"
            ],
            "text/html": [
              "<table>\n",
              "    <thead>\n",
              "        <tr>\n",
              "            <th>NULL</th>\n",
              "            <th>TYPEOF(NULL)</th>\n",
              "        </tr>\n",
              "    </thead>\n",
              "    <tbody>\n",
              "        <tr>\n",
              "            <td>None</td>\n",
              "            <td>null</td>\n",
              "        </tr>\n",
              "    </tbody>\n",
              "</table>"
            ]
          },
          "metadata": {},
          "execution_count": 15
        }
      ],
      "source": [
        "%%sql\n",
        "SELECT NULL,\n",
        "       TYPEOF(NULL);"
      ]
    },
    {
      "cell_type": "markdown",
      "id": "cfc222c9",
      "metadata": {
        "id": "cfc222c9"
      },
      "source": [
        "## 在敘述中添加註解\n",
        "\n",
        "寫作 SQL 敘述會有需要在其中添加註解（Comments）的時候，註解是不會被關聯式資料庫管理系統執行的說明文字，通常作為與工作上的同事、或者未來的自己（看不懂自己從前所寫的程式是相當常見的），說明 SQL 敘述中值得注意的事項或者邏輯，常用的註解形式有單行註解、行末註解與多行註解。\n",
        "\n",
        "單行註解：用兩個減號 `--` 標註並且單獨存在一行。\n",
        "\n",
        "```sql\n",
        "-- single line comment\n",
        "SELECT columns\n",
        "  FROM table\n",
        " LIMIT m;\n",
        "```\n",
        "\n",
        "行末註解：用兩個減號 `--` 標註，但是置放於一行 SQL 敘述的句尾。\n",
        "\n",
        "```sql\n",
        "SELECT columns -- end of line comment\n",
        "  FROM table   -- end of line comment\n",
        " LIMIT m;      -- end of line comment\n",
        "```\n",
        "\n",
        "多行註解：用 `/*` 開頭、`*/` 結尾來標註。\n",
        "\n",
        "```sql\n",
        "/*\n",
        "multiple-line comments...\n",
        "multiple-line comments...\n",
        "multiple-line comments...\n",
        "*/\n",
        "SELECT columns\n",
        "  FROM table\n",
        " LIMIT m;\n",
        "```"
      ]
    },
    {
      "cell_type": "markdown",
      "id": "becfe6d3",
      "metadata": {
        "id": "becfe6d3"
      },
      "source": [
        "## 為查詢結果限制顯示列數：`LIMIT`\n",
        "\n",
        "```sql\n",
        "SELECT columns\n",
        "  FROM table\n",
        " LIMIT m;\n",
        "```\n",
        "\n",
        "因為資料表中的觀測值列數可能都有很多筆，為了在有限的版面顯示，我們可以透過 `LIMIT` 保留字讓查詢結果顯示前 `m` 列即可。"
      ]
    },
    {
      "cell_type": "code",
      "execution_count": null,
      "id": "b1880641",
      "metadata": {
        "id": "b1880641",
        "outputId": "1321d14d-23ce-4167-f563-251bbb51cc4e",
        "colab": {
          "base_uri": "https://localhost:8080/",
          "height": 96
        }
      },
      "outputs": [
        {
          "output_type": "stream",
          "name": "stdout",
          "text": [
            " * sqlite:///databases/imdb.db\n",
            "Done.\n"
          ]
        },
        {
          "output_type": "execute_result",
          "data": {
            "text/plain": [
              "[(1, 'The Shawshank Redemption', 1994, 9.3, 'Frank Darabont', 142)]"
            ],
            "text/html": [
              "<table>\n",
              "    <thead>\n",
              "        <tr>\n",
              "            <th>id</th>\n",
              "            <th>title</th>\n",
              "            <th>release_year</th>\n",
              "            <th>rating</th>\n",
              "            <th>director</th>\n",
              "            <th>runtime</th>\n",
              "        </tr>\n",
              "    </thead>\n",
              "    <tbody>\n",
              "        <tr>\n",
              "            <td>1</td>\n",
              "            <td>The Shawshank Redemption</td>\n",
              "            <td>1994</td>\n",
              "            <td>9.3</td>\n",
              "            <td>Frank Darabont</td>\n",
              "            <td>142</td>\n",
              "        </tr>\n",
              "    </tbody>\n",
              "</table>"
            ]
          },
          "metadata": {},
          "execution_count": 16
        }
      ],
      "source": [
        "%%sql\n",
        "SELECT *\n",
        "  FROM movies\n",
        " LIMIT 1;"
      ]
    },
    {
      "cell_type": "code",
      "execution_count": null,
      "id": "98e05077",
      "metadata": {
        "id": "98e05077",
        "outputId": "ec8407f9-8aa0-442e-b809-134f080c569b",
        "colab": {
          "base_uri": "https://localhost:8080/",
          "height": 139
        }
      },
      "outputs": [
        {
          "output_type": "stream",
          "name": "stdout",
          "text": [
            " * sqlite:///databases/imdb.db\n",
            "Done.\n"
          ]
        },
        {
          "output_type": "execute_result",
          "data": {
            "text/plain": [
              "[(1, 'The Shawshank Redemption', 1994, 9.3, 'Frank Darabont', 142),\n",
              " (2, 'The Godfather', 1972, 9.2, 'Francis Ford Coppola', 175),\n",
              " (3, 'The Dark Knight', 2008, 9.0, 'Christopher Nolan', 152)]"
            ],
            "text/html": [
              "<table>\n",
              "    <thead>\n",
              "        <tr>\n",
              "            <th>id</th>\n",
              "            <th>title</th>\n",
              "            <th>release_year</th>\n",
              "            <th>rating</th>\n",
              "            <th>director</th>\n",
              "            <th>runtime</th>\n",
              "        </tr>\n",
              "    </thead>\n",
              "    <tbody>\n",
              "        <tr>\n",
              "            <td>1</td>\n",
              "            <td>The Shawshank Redemption</td>\n",
              "            <td>1994</td>\n",
              "            <td>9.3</td>\n",
              "            <td>Frank Darabont</td>\n",
              "            <td>142</td>\n",
              "        </tr>\n",
              "        <tr>\n",
              "            <td>2</td>\n",
              "            <td>The Godfather</td>\n",
              "            <td>1972</td>\n",
              "            <td>9.2</td>\n",
              "            <td>Francis Ford Coppola</td>\n",
              "            <td>175</td>\n",
              "        </tr>\n",
              "        <tr>\n",
              "            <td>3</td>\n",
              "            <td>The Dark Knight</td>\n",
              "            <td>2008</td>\n",
              "            <td>9.0</td>\n",
              "            <td>Christopher Nolan</td>\n",
              "            <td>152</td>\n",
              "        </tr>\n",
              "    </tbody>\n",
              "</table>"
            ]
          },
          "metadata": {},
          "execution_count": 17
        }
      ],
      "source": [
        "%%sql\n",
        "SELECT *\n",
        "  FROM movies\n",
        " LIMIT 3;"
      ]
    },
    {
      "cell_type": "markdown",
      "id": "69e9a84b",
      "metadata": {
        "id": "69e9a84b"
      },
      "source": [
        "## 選擇資料表欄位：`SELECT columns FROM table;`\n",
        "\n",
        "從資料表選擇欄位的時候使用 `SELECT` 與 `FROM` 保留字分別指定欄位名稱與資料表名稱，若希望從資料表選擇「所有」欄位，可以使用星號（`*`）達成。"
      ]
    },
    {
      "cell_type": "code",
      "execution_count": null,
      "id": "3bc5dd88",
      "metadata": {
        "id": "3bc5dd88",
        "outputId": "d3f51bf1-a0a5-4e83-d58f-0a2ad251dda4",
        "colab": {
          "base_uri": "https://localhost:8080/",
          "height": 182
        }
      },
      "outputs": [
        {
          "output_type": "stream",
          "name": "stdout",
          "text": [
            " * sqlite:///databases/imdb.db\n",
            "Done.\n"
          ]
        },
        {
          "output_type": "execute_result",
          "data": {
            "text/plain": [
              "[(1, 'The Shawshank Redemption', 1994, 9.3, 'Frank Darabont', 142),\n",
              " (2, 'The Godfather', 1972, 9.2, 'Francis Ford Coppola', 175),\n",
              " (3, 'The Dark Knight', 2008, 9.0, 'Christopher Nolan', 152),\n",
              " (4, 'The Godfather Part II', 1974, 9.0, 'Francis Ford Coppola', 202),\n",
              " (5, '12 Angry Men', 1957, 9.0, 'Sidney Lumet', 96)]"
            ],
            "text/html": [
              "<table>\n",
              "    <thead>\n",
              "        <tr>\n",
              "            <th>id</th>\n",
              "            <th>title</th>\n",
              "            <th>release_year</th>\n",
              "            <th>rating</th>\n",
              "            <th>director</th>\n",
              "            <th>runtime</th>\n",
              "        </tr>\n",
              "    </thead>\n",
              "    <tbody>\n",
              "        <tr>\n",
              "            <td>1</td>\n",
              "            <td>The Shawshank Redemption</td>\n",
              "            <td>1994</td>\n",
              "            <td>9.3</td>\n",
              "            <td>Frank Darabont</td>\n",
              "            <td>142</td>\n",
              "        </tr>\n",
              "        <tr>\n",
              "            <td>2</td>\n",
              "            <td>The Godfather</td>\n",
              "            <td>1972</td>\n",
              "            <td>9.2</td>\n",
              "            <td>Francis Ford Coppola</td>\n",
              "            <td>175</td>\n",
              "        </tr>\n",
              "        <tr>\n",
              "            <td>3</td>\n",
              "            <td>The Dark Knight</td>\n",
              "            <td>2008</td>\n",
              "            <td>9.0</td>\n",
              "            <td>Christopher Nolan</td>\n",
              "            <td>152</td>\n",
              "        </tr>\n",
              "        <tr>\n",
              "            <td>4</td>\n",
              "            <td>The Godfather Part II</td>\n",
              "            <td>1974</td>\n",
              "            <td>9.0</td>\n",
              "            <td>Francis Ford Coppola</td>\n",
              "            <td>202</td>\n",
              "        </tr>\n",
              "        <tr>\n",
              "            <td>5</td>\n",
              "            <td>12 Angry Men</td>\n",
              "            <td>1957</td>\n",
              "            <td>9.0</td>\n",
              "            <td>Sidney Lumet</td>\n",
              "            <td>96</td>\n",
              "        </tr>\n",
              "    </tbody>\n",
              "</table>"
            ]
          },
          "metadata": {},
          "execution_count": 18
        }
      ],
      "source": [
        "%%sql\n",
        "SELECT *\n",
        "  FROM movies\n",
        " LIMIT 5;"
      ]
    },
    {
      "cell_type": "markdown",
      "id": "405df71b",
      "metadata": {
        "id": "405df71b"
      },
      "source": [
        "在 `SELECT` 後加入欄的名稱讓查詢結果只顯示資料表中指定的欄。"
      ]
    },
    {
      "cell_type": "code",
      "execution_count": null,
      "id": "ed166165",
      "metadata": {
        "id": "ed166165",
        "outputId": "74e0c530-7346-45d5-ed64-37ca15b93247",
        "colab": {
          "base_uri": "https://localhost:8080/",
          "height": 182
        }
      },
      "outputs": [
        {
          "output_type": "stream",
          "name": "stdout",
          "text": [
            " * sqlite:///databases/imdb.db\n",
            "Done.\n"
          ]
        },
        {
          "output_type": "execute_result",
          "data": {
            "text/plain": [
              "[('The Shawshank Redemption',),\n",
              " ('The Godfather',),\n",
              " ('The Dark Knight',),\n",
              " ('The Godfather Part II',),\n",
              " ('12 Angry Men',)]"
            ],
            "text/html": [
              "<table>\n",
              "    <thead>\n",
              "        <tr>\n",
              "            <th>title</th>\n",
              "        </tr>\n",
              "    </thead>\n",
              "    <tbody>\n",
              "        <tr>\n",
              "            <td>The Shawshank Redemption</td>\n",
              "        </tr>\n",
              "        <tr>\n",
              "            <td>The Godfather</td>\n",
              "        </tr>\n",
              "        <tr>\n",
              "            <td>The Dark Knight</td>\n",
              "        </tr>\n",
              "        <tr>\n",
              "            <td>The Godfather Part II</td>\n",
              "        </tr>\n",
              "        <tr>\n",
              "            <td>12 Angry Men</td>\n",
              "        </tr>\n",
              "    </tbody>\n",
              "</table>"
            ]
          },
          "metadata": {},
          "execution_count": 19
        }
      ],
      "source": [
        "%%sql\n",
        "SELECT title\n",
        "  FROM movies\n",
        " LIMIT 5;"
      ]
    },
    {
      "cell_type": "markdown",
      "id": "ae4e9319",
      "metadata": {
        "id": "ae4e9319"
      },
      "source": [
        "在 `SELECT` 後加入欄的名稱讓查詢結果只顯示資料表中指定的多個欄，在不同欄名稱之間用逗號分隔。"
      ]
    },
    {
      "cell_type": "code",
      "execution_count": null,
      "id": "ff38507d",
      "metadata": {
        "id": "ff38507d",
        "outputId": "0dd64684-f6e4-47d0-9d7b-962b9f2e86dc",
        "colab": {
          "base_uri": "https://localhost:8080/",
          "height": 182
        }
      },
      "outputs": [
        {
          "output_type": "stream",
          "name": "stdout",
          "text": [
            " * sqlite:///databases/imdb.db\n",
            "Done.\n"
          ]
        },
        {
          "output_type": "execute_result",
          "data": {
            "text/plain": [
              "[('The Shawshank Redemption', 1994, 'Frank Darabont'),\n",
              " ('The Godfather', 1972, 'Francis Ford Coppola'),\n",
              " ('The Dark Knight', 2008, 'Christopher Nolan'),\n",
              " ('The Godfather Part II', 1974, 'Francis Ford Coppola'),\n",
              " ('12 Angry Men', 1957, 'Sidney Lumet')]"
            ],
            "text/html": [
              "<table>\n",
              "    <thead>\n",
              "        <tr>\n",
              "            <th>title</th>\n",
              "            <th>release_year</th>\n",
              "            <th>director</th>\n",
              "        </tr>\n",
              "    </thead>\n",
              "    <tbody>\n",
              "        <tr>\n",
              "            <td>The Shawshank Redemption</td>\n",
              "            <td>1994</td>\n",
              "            <td>Frank Darabont</td>\n",
              "        </tr>\n",
              "        <tr>\n",
              "            <td>The Godfather</td>\n",
              "            <td>1972</td>\n",
              "            <td>Francis Ford Coppola</td>\n",
              "        </tr>\n",
              "        <tr>\n",
              "            <td>The Dark Knight</td>\n",
              "            <td>2008</td>\n",
              "            <td>Christopher Nolan</td>\n",
              "        </tr>\n",
              "        <tr>\n",
              "            <td>The Godfather Part II</td>\n",
              "            <td>1974</td>\n",
              "            <td>Francis Ford Coppola</td>\n",
              "        </tr>\n",
              "        <tr>\n",
              "            <td>12 Angry Men</td>\n",
              "            <td>1957</td>\n",
              "            <td>Sidney Lumet</td>\n",
              "        </tr>\n",
              "    </tbody>\n",
              "</table>"
            ]
          },
          "metadata": {},
          "execution_count": 21
        }
      ],
      "source": [
        "%%sql\n",
        "SELECT title,\n",
        "    release_year,\n",
        "    director\n",
        "FROM movies\n",
        "LIMIT 5;"
      ]
    },
    {
      "cell_type": "markdown",
      "id": "4f96f013",
      "metadata": {
        "id": "4f96f013"
      },
      "source": [
        "## 為查詢結果取別名：`AS alias`\n",
        "\n",
        "```sql\n",
        "SELECT constants AS alias;\n",
        "\n",
        "SELECT columns AS alias\n",
        "  FROM table;\n",
        "```\n",
        "\n",
        "我們可以透過 `AS` 保留字來為查詢的結果取別名，不論是常數或者是資料表的欄，都能在查詢結果中以指定的名稱顯示。"
      ]
    },
    {
      "cell_type": "code",
      "execution_count": null,
      "id": "48f8c259",
      "metadata": {
        "id": "48f8c259",
        "outputId": "ff4172a1-26e7-4e1c-9f1b-ac8b16ad37fe",
        "colab": {
          "base_uri": "https://localhost:8080/",
          "height": 96
        }
      },
      "outputs": [
        {
          "output_type": "stream",
          "name": "stdout",
          "text": [
            " * sqlite:///databases/imdb.db\n",
            "Done.\n"
          ]
        },
        {
          "output_type": "execute_result",
          "data": {
            "text/plain": [
              "[('Hello, World!', 'text')]"
            ],
            "text/html": [
              "<table>\n",
              "    <thead>\n",
              "        <tr>\n",
              "            <th>hello_world</th>\n",
              "            <th>typeof_hello_world</th>\n",
              "        </tr>\n",
              "    </thead>\n",
              "    <tbody>\n",
              "        <tr>\n",
              "            <td>Hello, World!</td>\n",
              "            <td>text</td>\n",
              "        </tr>\n",
              "    </tbody>\n",
              "</table>"
            ]
          },
          "metadata": {},
          "execution_count": 22
        }
      ],
      "source": [
        "%%sql\n",
        "SELECT 'Hello, World!' AS hello_world,\n",
        "       TYPEOF('Hello, World!') AS typeof_hello_world;"
      ]
    },
    {
      "cell_type": "code",
      "execution_count": null,
      "id": "c7d73226",
      "metadata": {
        "id": "c7d73226",
        "outputId": "74df35cd-fa30-48fb-ff02-de0deb25754a",
        "colab": {
          "base_uri": "https://localhost:8080/",
          "height": 182
        }
      },
      "outputs": [
        {
          "output_type": "stream",
          "name": "stdout",
          "text": [
            " * sqlite:///databases/imdb.db\n",
            "Done.\n"
          ]
        },
        {
          "output_type": "execute_result",
          "data": {
            "text/plain": [
              "[('The Shawshank Redemption', 1994, 'Frank Darabont'),\n",
              " ('The Godfather', 1972, 'Francis Ford Coppola'),\n",
              " ('The Dark Knight', 2008, 'Christopher Nolan'),\n",
              " ('The Godfather Part II', 1974, 'Francis Ford Coppola'),\n",
              " ('12 Angry Men', 1957, 'Sidney Lumet')]"
            ],
            "text/html": [
              "<table>\n",
              "    <thead>\n",
              "        <tr>\n",
              "            <th>movie</th>\n",
              "            <th>released_in</th>\n",
              "            <th>directed_by</th>\n",
              "        </tr>\n",
              "    </thead>\n",
              "    <tbody>\n",
              "        <tr>\n",
              "            <td>The Shawshank Redemption</td>\n",
              "            <td>1994</td>\n",
              "            <td>Frank Darabont</td>\n",
              "        </tr>\n",
              "        <tr>\n",
              "            <td>The Godfather</td>\n",
              "            <td>1972</td>\n",
              "            <td>Francis Ford Coppola</td>\n",
              "        </tr>\n",
              "        <tr>\n",
              "            <td>The Dark Knight</td>\n",
              "            <td>2008</td>\n",
              "            <td>Christopher Nolan</td>\n",
              "        </tr>\n",
              "        <tr>\n",
              "            <td>The Godfather Part II</td>\n",
              "            <td>1974</td>\n",
              "            <td>Francis Ford Coppola</td>\n",
              "        </tr>\n",
              "        <tr>\n",
              "            <td>12 Angry Men</td>\n",
              "            <td>1957</td>\n",
              "            <td>Sidney Lumet</td>\n",
              "        </tr>\n",
              "    </tbody>\n",
              "</table>"
            ]
          },
          "metadata": {},
          "execution_count": 23
        }
      ],
      "source": [
        "%%sql\n",
        "SELECT title AS movie,\n",
        "    release_year AS released_in,\n",
        "    director AS directed_by\n",
        "FROM movies\n",
        "LIMIT 5;"
      ]
    },
    {
      "cell_type": "markdown",
      "id": "591a29a7",
      "metadata": {
        "id": "591a29a7"
      },
      "source": [
        "## 為查詢結果剔除重複值：`DISTINCT`\n",
        "\n",
        "```sql\n",
        "SELECT DISTINCT columns\n",
        "  FROM table;\n",
        "```\n",
        "\n",
        "我們可以透過 `DISTINCT` 保留字來為查詢的結果剔除重複值，舉例來說，在 `imdb` 資料庫的 `movies` 資料表中 `director` 欄的前 10 列可以看到重複出現的導演如 Francis Ford Coppola（執導教父三部曲）與 Peter Jackson（執導魔戒三部曲）。"
      ]
    },
    {
      "cell_type": "code",
      "execution_count": null,
      "id": "a487df35",
      "metadata": {
        "id": "a487df35",
        "outputId": "906071ab-9c56-4dd4-931f-04ebc7b9c975",
        "colab": {
          "base_uri": "https://localhost:8080/",
          "height": 289
        }
      },
      "outputs": [
        {
          "output_type": "stream",
          "name": "stdout",
          "text": [
            " * sqlite:///databases/imdb.db\n",
            "Done.\n"
          ]
        },
        {
          "output_type": "execute_result",
          "data": {
            "text/plain": [
              "[('Frank Darabont',),\n",
              " ('Francis Ford Coppola',),\n",
              " ('Christopher Nolan',),\n",
              " ('Francis Ford Coppola',),\n",
              " ('Sidney Lumet',),\n",
              " ('Steven Spielberg',),\n",
              " ('Peter Jackson',),\n",
              " ('Quentin Tarantino',),\n",
              " ('Peter Jackson',),\n",
              " ('Sergio Leone',)]"
            ],
            "text/html": [
              "<table>\n",
              "    <thead>\n",
              "        <tr>\n",
              "            <th>director</th>\n",
              "        </tr>\n",
              "    </thead>\n",
              "    <tbody>\n",
              "        <tr>\n",
              "            <td>Frank Darabont</td>\n",
              "        </tr>\n",
              "        <tr>\n",
              "            <td>Francis Ford Coppola</td>\n",
              "        </tr>\n",
              "        <tr>\n",
              "            <td>Christopher Nolan</td>\n",
              "        </tr>\n",
              "        <tr>\n",
              "            <td>Francis Ford Coppola</td>\n",
              "        </tr>\n",
              "        <tr>\n",
              "            <td>Sidney Lumet</td>\n",
              "        </tr>\n",
              "        <tr>\n",
              "            <td>Steven Spielberg</td>\n",
              "        </tr>\n",
              "        <tr>\n",
              "            <td>Peter Jackson</td>\n",
              "        </tr>\n",
              "        <tr>\n",
              "            <td>Quentin Tarantino</td>\n",
              "        </tr>\n",
              "        <tr>\n",
              "            <td>Peter Jackson</td>\n",
              "        </tr>\n",
              "        <tr>\n",
              "            <td>Sergio Leone</td>\n",
              "        </tr>\n",
              "    </tbody>\n",
              "</table>"
            ]
          },
          "metadata": {},
          "execution_count": 26
        }
      ],
      "source": [
        "%%sql\n",
        "SELECT director\n",
        "  FROM movies\n",
        " LIMIT 10;"
      ]
    },
    {
      "cell_type": "markdown",
      "id": "a643187c",
      "metadata": {
        "id": "a643187c"
      },
      "source": [
        "在加入 `DISTINCT` 保留字之後同樣顯示前 10 列，可以清楚發現已經沒有重複出現的導演。"
      ]
    },
    {
      "cell_type": "code",
      "execution_count": null,
      "id": "3b88defd",
      "metadata": {
        "id": "3b88defd",
        "outputId": "231015eb-b7bb-48c7-a47d-6b758c282c3d",
        "colab": {
          "base_uri": "https://localhost:8080/",
          "height": 289
        }
      },
      "outputs": [
        {
          "output_type": "stream",
          "name": "stdout",
          "text": [
            " * sqlite:///databases/imdb.db\n",
            "Done.\n"
          ]
        },
        {
          "output_type": "execute_result",
          "data": {
            "text/plain": [
              "[('Frank Darabont',),\n",
              " ('Francis Ford Coppola',),\n",
              " ('Christopher Nolan',),\n",
              " ('Sidney Lumet',),\n",
              " ('Steven Spielberg',),\n",
              " ('Peter Jackson',),\n",
              " ('Quentin Tarantino',),\n",
              " ('Sergio Leone',),\n",
              " ('Robert Zemeckis',),\n",
              " ('David Fincher',)]"
            ],
            "text/html": [
              "<table>\n",
              "    <thead>\n",
              "        <tr>\n",
              "            <th>director</th>\n",
              "        </tr>\n",
              "    </thead>\n",
              "    <tbody>\n",
              "        <tr>\n",
              "            <td>Frank Darabont</td>\n",
              "        </tr>\n",
              "        <tr>\n",
              "            <td>Francis Ford Coppola</td>\n",
              "        </tr>\n",
              "        <tr>\n",
              "            <td>Christopher Nolan</td>\n",
              "        </tr>\n",
              "        <tr>\n",
              "            <td>Sidney Lumet</td>\n",
              "        </tr>\n",
              "        <tr>\n",
              "            <td>Steven Spielberg</td>\n",
              "        </tr>\n",
              "        <tr>\n",
              "            <td>Peter Jackson</td>\n",
              "        </tr>\n",
              "        <tr>\n",
              "            <td>Quentin Tarantino</td>\n",
              "        </tr>\n",
              "        <tr>\n",
              "            <td>Sergio Leone</td>\n",
              "        </tr>\n",
              "        <tr>\n",
              "            <td>Robert Zemeckis</td>\n",
              "        </tr>\n",
              "        <tr>\n",
              "            <td>David Fincher</td>\n",
              "        </tr>\n",
              "    </tbody>\n",
              "</table>"
            ]
          },
          "metadata": {},
          "execution_count": 25
        }
      ],
      "source": [
        "%%sql\n",
        "SELECT DISTINCT director\n",
        "  FROM movies\n",
        " LIMIT 10;"
      ]
    },
    {
      "cell_type": "markdown",
      "id": "016eeb54",
      "metadata": {
        "id": "016eeb54"
      },
      "source": [
        "## SQL 風格指南\n",
        "\n",
        "閱讀到這裡，讀者對於寫作過的 SQL 敘述應該有一些疑惑，例如保留字大寫、換行或者句首的空白（縮排，Indentation），如果沒有遵照這樣的方式寫作會不會影響查詢結果呢？答案是「不會」，SQL 具有幾個語言特性：\n",
        "\n",
        "1. 一段 SQL 敘述最後要以分號 `;` 做為結束的標註。\n",
        "2. 保留字的大小寫並不會影響執行結果，也就是俗稱的大小寫不敏感（Case insensitive）。\n",
        "3. 常數有固定的書寫方式，像是文字要用一組單引號 `'some texts'` 標註，整數、浮點數與空值可以直接寫作。\n",
        "4. 保留字之間要以空格或者換行來區隔。\n",
        "\n",
        "在 SQL 的敘述中保留字大小寫、是否換行或者是否有縮排，都不會對查詢結果有任何的影響。例如下列的這段 SQL 敘述，保留字大小寫、換行與縮排都相當隨興，但卻沒有影響到查詢的結果。"
      ]
    },
    {
      "cell_type": "code",
      "execution_count": null,
      "id": "92343168",
      "metadata": {
        "id": "92343168",
        "outputId": "d5afb312-f32b-4961-9dae-8285b356c712",
        "colab": {
          "base_uri": "https://localhost:8080/",
          "height": 182
        }
      },
      "outputs": [
        {
          "output_type": "stream",
          "name": "stdout",
          "text": [
            " * sqlite:///databases/imdb.db\n",
            "Done.\n"
          ]
        },
        {
          "output_type": "execute_result",
          "data": {
            "text/plain": [
              "[('The Shawshank Redemption', 1994, 9.3),\n",
              " ('The Godfather', 1972, 9.2),\n",
              " ('The Dark Knight', 2008, 9.0),\n",
              " ('The Godfather Part II', 1974, 9.0),\n",
              " ('12 Angry Men', 1957, 9.0)]"
            ],
            "text/html": [
              "<table>\n",
              "    <thead>\n",
              "        <tr>\n",
              "            <th>title</th>\n",
              "            <th>release_year</th>\n",
              "            <th>rating</th>\n",
              "        </tr>\n",
              "    </thead>\n",
              "    <tbody>\n",
              "        <tr>\n",
              "            <td>The Shawshank Redemption</td>\n",
              "            <td>1994</td>\n",
              "            <td>9.3</td>\n",
              "        </tr>\n",
              "        <tr>\n",
              "            <td>The Godfather</td>\n",
              "            <td>1972</td>\n",
              "            <td>9.2</td>\n",
              "        </tr>\n",
              "        <tr>\n",
              "            <td>The Dark Knight</td>\n",
              "            <td>2008</td>\n",
              "            <td>9.0</td>\n",
              "        </tr>\n",
              "        <tr>\n",
              "            <td>The Godfather Part II</td>\n",
              "            <td>1974</td>\n",
              "            <td>9.0</td>\n",
              "        </tr>\n",
              "        <tr>\n",
              "            <td>12 Angry Men</td>\n",
              "            <td>1957</td>\n",
              "            <td>9.0</td>\n",
              "        </tr>\n",
              "    </tbody>\n",
              "</table>"
            ]
          },
          "metadata": {},
          "execution_count": 24
        }
      ],
      "source": [
        "%%sql\n",
        "Select title, release_year,\n",
        "       rating\n",
        "from movies liMiT 5;"
      ]
    },
    {
      "cell_type": "markdown",
      "id": "covered-object",
      "metadata": {
        "id": "covered-object"
      },
      "source": [
        "唯一不能夠隨興寫作的是 SQL 敘述中保留字彼此之間的「相對順序」，例如目前所學的幾個保留字 `SELECT`、`FROM`、`LIMIT` 等。\n",
        "\n",
        "```sql\n",
        "SELECT DISTINCT columns AS alias\n",
        "  FROM table\n",
        " LIMIT m;\n",
        "```\n",
        "\n",
        "如果調動保留字的相對順序，就會得到語法錯誤的訊息（Syntax error），例如對調 `LIMIT` 與 `FROM` 的順序。\n",
        "\n",
        "```sql\n",
        "SELECT DISTINCT director AS distinct_director\n",
        " LIMIT 10\n",
        "  FROM movies;\n",
        "```\n",
        "\n",
        "```\n",
        "near \"FROM\": syntax error while preparing \"SELECT DISTINCT director AS distinct_director\n",
        " LIMIT 10\n",
        "  FROM movies;\".\n",
        "```\n",
        "\n",
        "又或者對調 `SELECT` 與 `FROM` 的順序。\n",
        "\n",
        "```sql\n",
        "  FROM movies\n",
        "SELECT DISTINCT director AS distinct_director\n",
        " LIMIT 10;\n",
        "```\n",
        "\n",
        "```\n",
        "near \"FROM\": syntax error while preparing \"  FROM movies\n",
        "SELECT DISTINCT director AS distinct_director\n",
        " LIMIT 10;\".\n",
        "```"
      ]
    },
    {
      "cell_type": "markdown",
      "id": "bf5e3885",
      "metadata": {
        "id": "bf5e3885"
      },
      "source": [
        "只需要遵守保留字的書寫順序讓 SQL 寫作時有很大的彈性，但是這不代表只要查詢結果是正確的，就可以隨心所欲地寫作。有時候我們必須顧慮到可讀性（Readibility），特別是在工作時，可讀性更為重要，因為工作上可能會遭遇到協作、程式碼審查（Code review）、維運、代理或者交接等情境，在這些時候查詢結果正確僅是最低門檻，可讀性必須要能達到前述情境中所要求的程度。推薦的作法是參考一份工作團隊、協作夥伴或者自己喜歡並且願意去遵從的風格指南（Style guide），風格指南指的是一套規範程式語言在寫作時必須遵從的編排、格式和設計的準則，風格指南能夠確保每一段程式碼都和其他不同人寫作的程式碼有高度一致性，被眾多使用者採用的 SQL 風格指南有：\n",
        "\n",
        "- Simon Holywell 的風格指南 <https://www.sqlstyle.guide>\n",
        "- GitLab 的風格指南 <https://about.gitlab.com/handbook/business-technology/data-team/platform/sql-style-guide>\n",
        "- Mozilla 的風格指南 <https://docs.telemetry.mozilla.org/concepts/sql_style.html>\n",
        "\n",
        "本書採用 Simon Holywell 的風格指南來寫作 SQL，其中值得注意的幾個重點有：\n",
        "\n",
        "- 敘述換行與縮排是採用靠右對齊的編排格式。\n",
        "- 保留字與函數採用全大寫。\n",
        "- 取別名的時候採用蛇形命名法（Snake case），例如 `alias_for_some_variables`。"
      ]
    },
    {
      "cell_type": "code",
      "execution_count": null,
      "id": "78e90458",
      "metadata": {
        "id": "78e90458",
        "outputId": "8c9461b3-0909-4013-e920-2706c2c3f351",
        "colab": {
          "base_uri": "https://localhost:8080/",
          "height": 289
        }
      },
      "outputs": [
        {
          "output_type": "stream",
          "name": "stdout",
          "text": [
            " * sqlite:///databases/imdb.db\n",
            "Done.\n"
          ]
        },
        {
          "output_type": "execute_result",
          "data": {
            "text/plain": [
              "[('Frank Darabont',),\n",
              " ('Francis Ford Coppola',),\n",
              " ('Christopher Nolan',),\n",
              " ('Sidney Lumet',),\n",
              " ('Steven Spielberg',),\n",
              " ('Peter Jackson',),\n",
              " ('Quentin Tarantino',),\n",
              " ('Sergio Leone',),\n",
              " ('Robert Zemeckis',),\n",
              " ('David Fincher',)]"
            ],
            "text/html": [
              "<table>\n",
              "    <thead>\n",
              "        <tr>\n",
              "            <th>distinct_director</th>\n",
              "        </tr>\n",
              "    </thead>\n",
              "    <tbody>\n",
              "        <tr>\n",
              "            <td>Frank Darabont</td>\n",
              "        </tr>\n",
              "        <tr>\n",
              "            <td>Francis Ford Coppola</td>\n",
              "        </tr>\n",
              "        <tr>\n",
              "            <td>Christopher Nolan</td>\n",
              "        </tr>\n",
              "        <tr>\n",
              "            <td>Sidney Lumet</td>\n",
              "        </tr>\n",
              "        <tr>\n",
              "            <td>Steven Spielberg</td>\n",
              "        </tr>\n",
              "        <tr>\n",
              "            <td>Peter Jackson</td>\n",
              "        </tr>\n",
              "        <tr>\n",
              "            <td>Quentin Tarantino</td>\n",
              "        </tr>\n",
              "        <tr>\n",
              "            <td>Sergio Leone</td>\n",
              "        </tr>\n",
              "        <tr>\n",
              "            <td>Robert Zemeckis</td>\n",
              "        </tr>\n",
              "        <tr>\n",
              "            <td>David Fincher</td>\n",
              "        </tr>\n",
              "    </tbody>\n",
              "</table>"
            ]
          },
          "metadata": {},
          "execution_count": 27
        }
      ],
      "source": [
        "%%sql\n",
        "SELECT DISTINCT director AS distinct_director\n",
        "  FROM movies\n",
        " LIMIT 10;"
      ]
    },
    {
      "cell_type": "markdown",
      "id": "5340fa9d",
      "metadata": {
        "id": "5340fa9d"
      },
      "source": [
        "除了參閱、遵從 Simon Holywell 的風格指南，我們也可以善用 SQLiteStudio 的 Format SQL 功能，在編輯器範圍按右鍵，讓寫作的 SQL 敘述之編排、格式和設計具備更高的可讀性。\n",
        "\n",
        "![](https://github.com/ccwu0918/book-sqlfifty/blob/main/images/format-01.png?raw=1)\n",
        "\n",
        "![](https://github.com/ccwu0918/book-sqlfifty/blob/main/images/format-02.png?raw=1)\n",
        "\n",
        "## 重點統整\n",
        "\n",
        "- 我們可以將 SQL 敘述歸納為以下幾個部分的組成：\n",
        "    - 保留字：具有特定功能的指令。\n",
        "    - 符號：具有特定功能的符號。\n",
        "    - 常數：由使用者給予的資料。\n",
        "    - 函數：具有特定邏輯的輸入與輸出對應。\n",
        "- 本書採用 Simon Holywell 的風格指南來寫作 SQL，其中值得注意的幾個重點有：\n",
        "    - 敘述換行與縮排是採用靠右對齊的編排格式。\n",
        "    - 保留字與函數採用全大寫。\n",
        "    - 取別名的時候採用蛇形命名法（Snake case）。\n",
        "- 這個章節學起來的 SQL 保留字：\n",
        "    - `SELECT`\n",
        "    - `FROM`\n",
        "    - `LIMIT`\n",
        "    - `AS`\n",
        "    - `DISTINCT`\n",
        "- 將截至目前所學的 SQL 保留字集中在一個敘述中，寫作順序必須遵從標準 SQL 的規定。\n",
        "\n",
        "```sql\n",
        "SELECT DISTINCT columns AS alias\n",
        "  FROM table\n",
        " LIMIT m;\n",
        "```"
      ]
    },
    {
      "cell_type": "markdown",
      "id": "23a7faa1",
      "metadata": {
        "id": "23a7faa1"
      },
      "source": [
        "## 練習題 01-05\n",
        "\n",
        "練習題會涵蓋四個學習資料庫，記得要依據題目的需求，調整編輯器選單的學習資料庫，在自己電腦的 SQLiteStudio 寫出跟預期輸出相同的 SQL 敘述，寫作過程如果卡關了，可以參考附錄二「練習題參考解答」。\n",
        "\n",
        "### 01. 從 `twElection2020` 資料庫的 `admin_regions` 資料表選擇所有變數，並且使用 `LIMIT 5` 顯示前五列資料，參考下列的預期查詢結果。\n",
        "\n",
        "預期輸出：(5, 4) 的查詢結果。"
      ]
    },
    {
      "cell_type": "code",
      "execution_count": null,
      "id": "b2b6e619",
      "metadata": {
        "id": "b2b6e619",
        "outputId": "483a7718-3f26-48f9-ee2c-f0610a4c2d77"
      },
      "outputs": [
        {
          "data": {
            "text/html": [
              "<table>\n",
              "<tr>\n",
              "<th>id</th>\n",
              "<th>county</th>\n",
              "<th>town</th>\n",
              "<th>village</th>\n",
              "</tr>\n",
              "<tr>\n",
              "<td>1</td>\n",
              "<td>南投縣</td>\n",
              "<td>中寮鄉</td>\n",
              "<td>中寮村</td>\n",
              "</tr>\n",
              "<tr>\n",
              "<td>2</td>\n",
              "<td>南投縣</td>\n",
              "<td>中寮鄉</td>\n",
              "<td>內城村</td>\n",
              "</tr>\n",
              "<tr>\n",
              "<td>3</td>\n",
              "<td>南投縣</td>\n",
              "<td>中寮鄉</td>\n",
              "<td>八仙村</td>\n",
              "</tr>\n",
              "<tr>\n",
              "<td>4</td>\n",
              "<td>南投縣</td>\n",
              "<td>中寮鄉</td>\n",
              "<td>和興村</td>\n",
              "</tr>\n",
              "<tr>\n",
              "<td>5</td>\n",
              "<td>南投縣</td>\n",
              "<td>中寮鄉</td>\n",
              "<td>崁頂村</td>\n",
              "</tr>\n",
              "</table>\n",
              "5 rows in set (0.00 sec)"
            ],
            "text/plain": [
              "+----+-----------+-----------+-----------+\n",
              "| id | county    | town      | village   |\n",
              "+----+-----------+-----------+-----------+\n",
              "| 1  | 南投縣 | 中寮鄉 | 中寮村 |\n",
              "+----+-----------+-----------+-----------+\n",
              "| 2  | 南投縣 | 中寮鄉 | 內城村 |\n",
              "+----+-----------+-----------+-----------+\n",
              "| 3  | 南投縣 | 中寮鄉 | 八仙村 |\n",
              "+----+-----------+-----------+-----------+\n",
              "| 4  | 南投縣 | 中寮鄉 | 和興村 |\n",
              "+----+-----------+-----------+-----------+\n",
              "| 5  | 南投縣 | 中寮鄉 | 崁頂村 |\n",
              "+----+-----------+-----------+-----------+\n",
              "5 rows in set (0.00 sec)"
            ]
          },
          "execution_count": 25,
          "metadata": {},
          "output_type": "execute_result"
        }
      ],
      "source": []
    },
    {
      "cell_type": "markdown",
      "id": "a41cabe7",
      "metadata": {
        "id": "a41cabe7"
      },
      "source": [
        "### 02. 從 `nba` 資料庫的球隊資料表 `teams` 中選擇 `confName`、`divName`、`fullName` 三個變數，並且使用 `LIMIT 10` 顯示前十列資料，參考下列預期的查詢結果。\n",
        "\n",
        "預期輸出：(10, 3) 的查詢結果。"
      ]
    },
    {
      "cell_type": "code",
      "execution_count": null,
      "id": "43817cd4",
      "metadata": {
        "id": "43817cd4",
        "outputId": "c704a1b8-8bd7-40ca-d9ac-580c689f358e"
      },
      "outputs": [
        {
          "data": {
            "text/html": [
              "<table>\n",
              "<tr>\n",
              "<th>confName</th>\n",
              "<th>divName</th>\n",
              "<th>fullName</th>\n",
              "</tr>\n",
              "<tr>\n",
              "<td>East</td>\n",
              "<td>Southeast</td>\n",
              "<td>Atlanta Hawks</td>\n",
              "</tr>\n",
              "<tr>\n",
              "<td>East</td>\n",
              "<td>Atlantic</td>\n",
              "<td>Boston Celtics</td>\n",
              "</tr>\n",
              "<tr>\n",
              "<td>East</td>\n",
              "<td>Central</td>\n",
              "<td>Cleveland Cavaliers</td>\n",
              "</tr>\n",
              "<tr>\n",
              "<td>West</td>\n",
              "<td>Southwest</td>\n",
              "<td>New Orleans Pelicans</td>\n",
              "</tr>\n",
              "<tr>\n",
              "<td>East</td>\n",
              "<td>Central</td>\n",
              "<td>Chicago Bulls</td>\n",
              "</tr>\n",
              "<tr>\n",
              "<td>West</td>\n",
              "<td>Southwest</td>\n",
              "<td>Dallas Mavericks</td>\n",
              "</tr>\n",
              "<tr>\n",
              "<td>West</td>\n",
              "<td>Northwest</td>\n",
              "<td>Denver Nuggets</td>\n",
              "</tr>\n",
              "<tr>\n",
              "<td>West</td>\n",
              "<td>Pacific</td>\n",
              "<td>Golden State Warriors</td>\n",
              "</tr>\n",
              "<tr>\n",
              "<td>West</td>\n",
              "<td>Southwest</td>\n",
              "<td>Houston Rockets</td>\n",
              "</tr>\n",
              "<tr>\n",
              "<td>West</td>\n",
              "<td>Pacific</td>\n",
              "<td>LA Clippers</td>\n",
              "</tr>\n",
              "</table>\n",
              "10 rows in set (0.00 sec)"
            ],
            "text/plain": [
              "+----------+-----------+-----------------------+\n",
              "| confName | divName   | fullName              |\n",
              "+----------+-----------+-----------------------+\n",
              "| East     | Southeast | Atlanta Hawks         |\n",
              "+----------+-----------+-----------------------+\n",
              "| East     | Atlantic  | Boston Celtics        |\n",
              "+----------+-----------+-----------------------+\n",
              "| East     | Central   | Cleveland Cavaliers   |\n",
              "+----------+-----------+-----------------------+\n",
              "| West     | Southwest | New Orleans Pelicans  |\n",
              "+----------+-----------+-----------------------+\n",
              "| East     | Central   | Chicago Bulls         |\n",
              "+----------+-----------+-----------------------+\n",
              "| West     | Southwest | Dallas Mavericks      |\n",
              "+----------+-----------+-----------------------+\n",
              "| West     | Northwest | Denver Nuggets        |\n",
              "+----------+-----------+-----------------------+\n",
              "| West     | Pacific   | Golden State Warriors |\n",
              "+----------+-----------+-----------------------+\n",
              "| West     | Southwest | Houston Rockets       |\n",
              "+----------+-----------+-----------------------+\n",
              "| West     | Pacific   | LA Clippers           |\n",
              "+----------+-----------+-----------------------+\n",
              "10 rows in set (0.00 sec)"
            ]
          },
          "execution_count": 26,
          "metadata": {},
          "output_type": "execute_result"
        }
      ],
      "source": []
    },
    {
      "cell_type": "markdown",
      "id": "4198008a",
      "metadata": {
        "id": "4198008a"
      },
      "source": [
        "### 03. 從 `nba` 資料庫的球員資料表 `players` 中選擇 `firstName`、`lastName` 兩個變數，並依序取別名為 `first_name`、`last_name`，使用 `LIMIT 5` 顯示前五列資料，參考下列預期的查詢結果。\n",
        "\n",
        "預期輸出：(5, 2) 的查詢結果。"
      ]
    },
    {
      "cell_type": "code",
      "execution_count": null,
      "id": "429c2aaf",
      "metadata": {
        "id": "429c2aaf",
        "outputId": "f5143741-f67c-47d4-f6bd-1d2d9a6e3d30"
      },
      "outputs": [
        {
          "data": {
            "text/html": [
              "<table>\n",
              "<tr>\n",
              "<th>first_name</th>\n",
              "<th>last_name</th>\n",
              "</tr>\n",
              "<tr>\n",
              "<td>LeBron</td>\n",
              "<td>James</td>\n",
              "</tr>\n",
              "<tr>\n",
              "<td>Carmelo</td>\n",
              "<td>Anthony</td>\n",
              "</tr>\n",
              "<tr>\n",
              "<td>Udonis</td>\n",
              "<td>Haslem</td>\n",
              "</tr>\n",
              "<tr>\n",
              "<td>Dwight</td>\n",
              "<td>Howard</td>\n",
              "</tr>\n",
              "<tr>\n",
              "<td>Andre</td>\n",
              "<td>Iguodala</td>\n",
              "</tr>\n",
              "</table>\n",
              "5 rows in set (0.00 sec)"
            ],
            "text/plain": [
              "+------------+-----------+\n",
              "| first_name | last_name |\n",
              "+------------+-----------+\n",
              "| LeBron     | James     |\n",
              "+------------+-----------+\n",
              "| Carmelo    | Anthony   |\n",
              "+------------+-----------+\n",
              "| Udonis     | Haslem    |\n",
              "+------------+-----------+\n",
              "| Dwight     | Howard    |\n",
              "+------------+-----------+\n",
              "| Andre      | Iguodala  |\n",
              "+------------+-----------+\n",
              "5 rows in set (0.00 sec)"
            ]
          },
          "execution_count": 27,
          "metadata": {},
          "output_type": "execute_result"
        }
      ],
      "source": []
    },
    {
      "cell_type": "markdown",
      "id": "7f49a8cc",
      "metadata": {
        "id": "7f49a8cc"
      },
      "source": [
        "### 04. 從 `twElection2020` 資料庫的 `admin_regions` 資料表選擇「不重複」的縣市（`county`），參考下列的預期查詢結果。\n",
        "\n",
        "預期輸出：(22, 1) 的查詢結果。"
      ]
    },
    {
      "cell_type": "code",
      "execution_count": null,
      "id": "4e21785e",
      "metadata": {
        "id": "4e21785e",
        "outputId": "a729e9d6-d88b-40a4-fdc3-96ebece3c388"
      },
      "outputs": [
        {
          "data": {
            "text/html": [
              "<table>\n",
              "<tr>\n",
              "<th>distinct_counties</th>\n",
              "</tr>\n",
              "<tr>\n",
              "<td>南投縣</td>\n",
              "</tr>\n",
              "<tr>\n",
              "<td>嘉義市</td>\n",
              "</tr>\n",
              "<tr>\n",
              "<td>嘉義縣</td>\n",
              "</tr>\n",
              "<tr>\n",
              "<td>基隆市</td>\n",
              "</tr>\n",
              "<tr>\n",
              "<td>宜蘭縣</td>\n",
              "</tr>\n",
              "<tr>\n",
              "<td>屏東縣</td>\n",
              "</tr>\n",
              "<tr>\n",
              "<td>彰化縣</td>\n",
              "</tr>\n",
              "<tr>\n",
              "<td>新北市</td>\n",
              "</tr>\n",
              "<tr>\n",
              "<td>新竹市</td>\n",
              "</tr>\n",
              "<tr>\n",
              "<td>新竹縣</td>\n",
              "</tr>\n",
              "<tr>\n",
              "<td>桃園市</td>\n",
              "</tr>\n",
              "<tr>\n",
              "<td>澎湖縣</td>\n",
              "</tr>\n",
              "<tr>\n",
              "<td>臺中市</td>\n",
              "</tr>\n",
              "<tr>\n",
              "<td>臺北市</td>\n",
              "</tr>\n",
              "<tr>\n",
              "<td>臺南市</td>\n",
              "</tr>\n",
              "<tr>\n",
              "<td>臺東縣</td>\n",
              "</tr>\n",
              "<tr>\n",
              "<td>花蓮縣</td>\n",
              "</tr>\n",
              "<tr>\n",
              "<td>苗栗縣</td>\n",
              "</tr>\n",
              "<tr>\n",
              "<td>連江縣</td>\n",
              "</tr>\n",
              "<tr>\n",
              "<td>金門縣</td>\n",
              "</tr>\n",
              "<tr>\n",
              "<td>雲林縣</td>\n",
              "</tr>\n",
              "<tr>\n",
              "<td>高雄市</td>\n",
              "</tr>\n",
              "</table>\n",
              "22 rows in set (0.01 sec)"
            ],
            "text/plain": [
              "+-------------------+\n",
              "| distinct_counties |\n",
              "+-------------------+\n",
              "| 南投縣         |\n",
              "+-------------------+\n",
              "| 嘉義市         |\n",
              "+-------------------+\n",
              "| 嘉義縣         |\n",
              "+-------------------+\n",
              "| 基隆市         |\n",
              "+-------------------+\n",
              "| 宜蘭縣         |\n",
              "+-------------------+\n",
              "| 屏東縣         |\n",
              "+-------------------+\n",
              "| 彰化縣         |\n",
              "+-------------------+\n",
              "| 新北市         |\n",
              "+-------------------+\n",
              "| 新竹市         |\n",
              "+-------------------+\n",
              "| 新竹縣         |\n",
              "+-------------------+\n",
              "| 桃園市         |\n",
              "+-------------------+\n",
              "| 澎湖縣         |\n",
              "+-------------------+\n",
              "| 臺中市         |\n",
              "+-------------------+\n",
              "| 臺北市         |\n",
              "+-------------------+\n",
              "| 臺南市         |\n",
              "+-------------------+\n",
              "| 臺東縣         |\n",
              "+-------------------+\n",
              "| 花蓮縣         |\n",
              "+-------------------+\n",
              "| 苗栗縣         |\n",
              "+-------------------+\n",
              "| 連江縣         |\n",
              "+-------------------+\n",
              "| 金門縣         |\n",
              "+-------------------+\n",
              "| 雲林縣         |\n",
              "+-------------------+\n",
              "| 高雄市         |\n",
              "+-------------------+\n",
              "22 rows in set (0.01 sec)"
            ]
          },
          "execution_count": 28,
          "metadata": {},
          "output_type": "execute_result"
        }
      ],
      "source": []
    },
    {
      "cell_type": "markdown",
      "id": "b30ff0d2",
      "metadata": {
        "id": "b30ff0d2"
      },
      "source": [
        "### 05. 從 `nba` 資料庫的 `teams` 資料表選擇「不重複」的分組（`divName`），參考下列的預期查詢結果。\n",
        "\n",
        "預期輸出：(6, 1) 的查詢結果。"
      ]
    },
    {
      "cell_type": "code",
      "execution_count": null,
      "id": "ca60ee31",
      "metadata": {
        "id": "ca60ee31",
        "outputId": "01feb3cf-f8c8-4499-9058-b022981f8ec5"
      },
      "outputs": [
        {
          "data": {
            "text/html": [
              "<table>\n",
              "<tr>\n",
              "<th>distinct_divisions</th>\n",
              "</tr>\n",
              "<tr>\n",
              "<td>Southeast</td>\n",
              "</tr>\n",
              "<tr>\n",
              "<td>Atlantic</td>\n",
              "</tr>\n",
              "<tr>\n",
              "<td>Central</td>\n",
              "</tr>\n",
              "<tr>\n",
              "<td>Southwest</td>\n",
              "</tr>\n",
              "<tr>\n",
              "<td>Northwest</td>\n",
              "</tr>\n",
              "<tr>\n",
              "<td>Pacific</td>\n",
              "</tr>\n",
              "</table>\n",
              "6 rows in set (0.00 sec)"
            ],
            "text/plain": [
              "+--------------------+\n",
              "| distinct_divisions |\n",
              "+--------------------+\n",
              "| Southeast          |\n",
              "+--------------------+\n",
              "| Atlantic           |\n",
              "+--------------------+\n",
              "| Central            |\n",
              "+--------------------+\n",
              "| Southwest          |\n",
              "+--------------------+\n",
              "| Northwest          |\n",
              "+--------------------+\n",
              "| Pacific            |\n",
              "+--------------------+\n",
              "6 rows in set (0.00 sec)"
            ]
          },
          "execution_count": 29,
          "metadata": {},
          "output_type": "execute_result"
        }
      ],
      "source": []
    }
  ],
  "metadata": {
    "kernelspec": {
      "display_name": "xsql",
      "language": "sqlite",
      "name": "xsql"
    },
    "language_info": {
      "codemirror_mode": "sql",
      "file_extension": "",
      "mimetype": "",
      "name": "mysql",
      "version": "0.1.5"
    },
    "colab": {
      "provenance": [],
      "include_colab_link": true
    }
  },
  "nbformat": 4,
  "nbformat_minor": 5
}