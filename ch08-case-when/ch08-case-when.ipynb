{
  "cells": [
    {
      "cell_type": "markdown",
      "metadata": {
        "id": "view-in-github",
        "colab_type": "text"
      },
      "source": [
        "<a href=\"https://colab.research.google.com/github/ccwu0918/book-sqlfifty/blob/main/ch08-case-when/ch08-case-when.ipynb\" target=\"_parent\"><img src=\"https://colab.research.google.com/assets/colab-badge.svg\" alt=\"Open In Colab\"/></a>"
      ]
    },
    {
      "cell_type": "markdown",
      "id": "lightweight-fruit",
      "metadata": {
        "id": "lightweight-fruit"
      },
      "source": [
        "# SQL 的五十道練習：初學者友善的資料庫入門\n",
        "\n",
        "> 條件邏輯"
      ]
    },
    {
      "cell_type": "markdown",
      "id": "07de66c5",
      "metadata": {
        "id": "07de66c5"
      },
      "source": [
        "讀者如果是資料科學的初學者，可以略過下述的程式碼；讀者如果不是資料科學的初學者，欲使用 JupyterLab 執行本章節內容，必須先執行下述程式碼載入所需模組與連接資料庫。"
      ]
    },
    {
      "cell_type": "code",
      "source": [
        "!git clone https://github.com/datainpoint/book-sqlfifty"
      ],
      "metadata": {
        "id": "OLdPXBJgIE8x"
      },
      "execution_count": null,
      "outputs": [],
      "id": "OLdPXBJgIE8x"
    },
    {
      "cell_type": "code",
      "execution_count": null,
      "metadata": {
        "id": "bfa07fd1"
      },
      "outputs": [],
      "source": [
        "# %LOAD sqlite3 db=../databases/imdb.db timeout=2 shared_cache=true"
      ],
      "id": "bfa07fd1"
    },
    {
      "cell_type": "code",
      "execution_count": null,
      "metadata": {
        "id": "q5KuWtO8_iPx"
      },
      "outputs": [],
      "source": [
        "%cd databases\n",
        "!wget -N https://raw.githubusercontent.com/jpwhite3/northwind-SQLite3/master/dist/northwind.db\n",
        "!wget -N https://github.com/lerocha/chinook-database/raw/master/ChinookDatabase/DataSources/Chinook_Sqlite.sqlite\n",
        "%cd .."
      ],
      "id": "q5KuWtO8_iPx"
    },
    {
      "cell_type": "code",
      "execution_count": null,
      "metadata": {
        "deletable": false,
        "id": "N6lQpgDt_iPy"
      },
      "outputs": [],
      "source": [
        "import sqlite3\n",
        "import unittest\n",
        "import json\n",
        "import os\n",
        "import numpy as np\n",
        "import pandas as pd\n",
        "conn = sqlite3.connect('./databases/imdb.db')\n",
        "conn.execute(\"\"\"ATTACH './databases/covid19.db' AS covid19\"\"\")\n",
        "conn.execute(\"\"\"ATTACH './databases/twElection2020.db' AS twElection2020\"\"\")\n",
        "conn.execute(\"\"\"ATTACH './databases/nba.db' AS nba\"\"\")\n",
        "conn.execute(\"\"\"ATTACH './databases/northwind.db' AS Northwind\"\"\")\n",
        "conn.execute(\"\"\"ATTACH './databases/Chinook_Sqlite.sqlite' AS Chinook\"\"\")"
      ],
      "id": "N6lQpgDt_iPy"
    },
    {
      "cell_type": "code",
      "source": [
        "# %%capture\n",
        "# load the SQL magic extension\n",
        "# https://github.com/catherinedevlin/ipython-sql\n",
        "# this extension allows us to connect to DBs and issue SQL command\n",
        "%load_ext sql\n",
        "\n",
        "# now we can use the magic extension to connect to our SQLite DB\n",
        "# use %sql to write an inline SQL command\n",
        "# use %%sql to write SQL commands in a cell\n",
        "%sql sqlite:///databases/imdb.db"
      ],
      "metadata": {
        "id": "PdgXDJam_07h"
      },
      "execution_count": null,
      "outputs": [],
      "id": "PdgXDJam_07h"
    },
    {
      "cell_type": "code",
      "source": [
        "%%sql\n",
        "ATTACH \"./databases/covid19.db\" AS covid19;\n",
        "ATTACH \"./databases/twElection2020.db\" AS twElection2020;\n",
        "ATTACH \"./databases/nba.db\" AS nba;\n",
        "ATTACH \"./databases/northwind.db\" AS Northwind;\n",
        "ATTACH \"./databases/Chinook_Sqlite.sqlite\" AS Chinook;"
      ],
      "metadata": {
        "id": "2buY_jlrABq3"
      },
      "execution_count": null,
      "outputs": [],
      "id": "2buY_jlrABq3"
    },
    {
      "cell_type": "code",
      "source": [
        "%%sql\n",
        "SELECT sqlite_version();"
      ],
      "metadata": {
        "id": "Bm8LogkDACyI"
      },
      "execution_count": null,
      "outputs": [],
      "id": "Bm8LogkDACyI"
    },
    {
      "cell_type": "markdown",
      "id": "supposed-spread",
      "metadata": {
        "id": "supposed-spread"
      },
      "source": [
        "## 複習一下\n",
        "\n",
        "在第四章「衍生計算欄位」我們提過關係運算符與邏輯運算符在後續的「篩選觀測值」以及「條件邏輯」的章節中佔有舉足輕重的地位，針對常數或欄位可以使用關係運算符衍生計算欄位，應用後會得到 0（布林值 `False`）或 1（布林值 `True`）兩者其中之一，就是所謂的「條件」，而「邏輯運算符」則是將數個條件結合成一個條件的運算符。布林值除了能夠運用在 `WHERE` 保留字之後作為篩選資料表觀測值的依據，另一個常見的應用場景就是這個章節要介紹的「條件邏輯」。\n",
        "\n",
        "在第四章「衍生計算欄位」我們透過了四種運算符獲得新的欄位：數值運算符、文字運算符、關係運算符與邏輯運算符；在第五章「函數」我們透過兩大類函數獲得新的欄位：通用函數與聚合函數。條件邏輯是第三種生成衍生計算欄位的方式，透過條件所得的布林值來決定所指定的資料值為何，在實務中這樣的技巧又被稱為分箱（Binning）、編碼（Encoding）或者分組（Categorizing）。\n",
        "\n",
        "## 以 `CASE WHEN` 敘述衍生計算欄位\n",
        "\n",
        "最基礎的條件邏輯可以用 0（布林值 `False`）或 1（布林值 `True`）表示，意即區分為兩組，這時只需要透過關係運算即可完成。舉例來說，將電影的上映年份分為兩組：在千禧年之前上映的為 0（布林值 `False`）、在千禧年之後上映的為 1（布林值 `True`）。"
      ]
    },
    {
      "cell_type": "code",
      "execution_count": null,
      "id": "0cab313f",
      "metadata": {
        "id": "0cab313f",
        "outputId": "501442ff-366e-43b9-a76a-7464fe08f6b8"
      },
      "outputs": [
        {
          "data": {
            "text/html": [
              "<table>\n",
              "<tr>\n",
              "<th>title</th>\n",
              "<th>release_year</th>\n",
              "<th>released_after_millennium</th>\n",
              "</tr>\n",
              "<tr>\n",
              "<td>The Shawshank Redemption</td>\n",
              "<td>1994</td>\n",
              "<td>0</td>\n",
              "</tr>\n",
              "<tr>\n",
              "<td>The Godfather</td>\n",
              "<td>1972</td>\n",
              "<td>0</td>\n",
              "</tr>\n",
              "<tr>\n",
              "<td>The Dark Knight</td>\n",
              "<td>2008</td>\n",
              "<td>1</td>\n",
              "</tr>\n",
              "<tr>\n",
              "<td>The Godfather Part II</td>\n",
              "<td>1974</td>\n",
              "<td>0</td>\n",
              "</tr>\n",
              "<tr>\n",
              "<td>12 Angry Men</td>\n",
              "<td>1957</td>\n",
              "<td>0</td>\n",
              "</tr>\n",
              "<tr>\n",
              "<td>Schindler's List</td>\n",
              "<td>1993</td>\n",
              "<td>0</td>\n",
              "</tr>\n",
              "<tr>\n",
              "<td>The Lord of the Rings: The Return of the King</td>\n",
              "<td>2003</td>\n",
              "<td>1</td>\n",
              "</tr>\n",
              "<tr>\n",
              "<td>Pulp Fiction</td>\n",
              "<td>1994</td>\n",
              "<td>0</td>\n",
              "</tr>\n",
              "<tr>\n",
              "<td>The Lord of the Rings: The Fellowship of the Ring</td>\n",
              "<td>2001</td>\n",
              "<td>1</td>\n",
              "</tr>\n",
              "<tr>\n",
              "<td>The Good, the Bad and the Ugly</td>\n",
              "<td>1966</td>\n",
              "<td>0</td>\n",
              "</tr>\n",
              "</table>\n",
              "10 rows in set (0.00 sec)"
            ],
            "text/plain": [
              "+---------------------------------------------------+--------------+---------------------------+\n",
              "| title                                             | release_year | released_after_millennium |\n",
              "+---------------------------------------------------+--------------+---------------------------+\n",
              "| The Shawshank Redemption                          | 1994         | 0                         |\n",
              "+---------------------------------------------------+--------------+---------------------------+\n",
              "| The Godfather                                     | 1972         | 0                         |\n",
              "+---------------------------------------------------+--------------+---------------------------+\n",
              "| The Dark Knight                                   | 2008         | 1                         |\n",
              "+---------------------------------------------------+--------------+---------------------------+\n",
              "| The Godfather Part II                             | 1974         | 0                         |\n",
              "+---------------------------------------------------+--------------+---------------------------+\n",
              "| 12 Angry Men                                      | 1957         | 0                         |\n",
              "+---------------------------------------------------+--------------+---------------------------+\n",
              "| Schindler's List                                  | 1993         | 0                         |\n",
              "+---------------------------------------------------+--------------+---------------------------+\n",
              "| The Lord of the Rings: The Return of the King     | 2003         | 1                         |\n",
              "+---------------------------------------------------+--------------+---------------------------+\n",
              "| Pulp Fiction                                      | 1994         | 0                         |\n",
              "+---------------------------------------------------+--------------+---------------------------+\n",
              "| The Lord of the Rings: The Fellowship of the Ring | 2001         | 1                         |\n",
              "+---------------------------------------------------+--------------+---------------------------+\n",
              "| The Good, the Bad and the Ugly                    | 1966         | 0                         |\n",
              "+---------------------------------------------------+--------------+---------------------------+\n",
              "10 rows in set (0.00 sec)"
            ]
          },
          "execution_count": 4,
          "metadata": {},
          "output_type": "execute_result"
        }
      ],
      "source": [
        "%%sql\n",
        "SELECT title,\n",
        "       release_year,\n",
        "       release_year >= 2000 AS released_after_millennium\n",
        "  FROM movies\n",
        " LIMIT 10;"
      ]
    },
    {
      "cell_type": "markdown",
      "id": "olympic-advertiser",
      "metadata": {
        "id": "olympic-advertiser"
      },
      "source": [
        "那麼什麼時候需要使用條件邏輯的技巧呢？當我們的衍生計算欄位不想要以布林值來表示或者分組不止兩組的時候，就能夠改使用 `CASE WHEN` 敘述衍生計算欄位。\n",
        "\n",
        "```sql\n",
        "SELECT CASE WHEN condition_1 THEN result_1\n",
        "            WHEN condition_2 THEN result_2 END AS alias;\n",
        "```\n",
        "\n",
        "舉例來說，將電影的上映年份分為兩組：在千禧年之前上映的為 `'Before millennium'`、在千禧年之後上映的為 `'After millennium'`。"
      ]
    },
    {
      "cell_type": "code",
      "execution_count": null,
      "id": "2a6b15a7",
      "metadata": {
        "id": "2a6b15a7",
        "outputId": "10a91d75-f259-420a-dbce-cdc2b28d4697"
      },
      "outputs": [
        {
          "data": {
            "text/html": [
              "<table>\n",
              "<tr>\n",
              "<th>title</th>\n",
              "<th>release_year</th>\n",
              "<th>before_or_after_millennium</th>\n",
              "</tr>\n",
              "<tr>\n",
              "<td>The Shawshank Redemption</td>\n",
              "<td>1994</td>\n",
              "<td>Before millennium</td>\n",
              "</tr>\n",
              "<tr>\n",
              "<td>The Godfather</td>\n",
              "<td>1972</td>\n",
              "<td>Before millennium</td>\n",
              "</tr>\n",
              "<tr>\n",
              "<td>The Dark Knight</td>\n",
              "<td>2008</td>\n",
              "<td>After millennium</td>\n",
              "</tr>\n",
              "<tr>\n",
              "<td>The Godfather Part II</td>\n",
              "<td>1974</td>\n",
              "<td>Before millennium</td>\n",
              "</tr>\n",
              "<tr>\n",
              "<td>12 Angry Men</td>\n",
              "<td>1957</td>\n",
              "<td>Before millennium</td>\n",
              "</tr>\n",
              "<tr>\n",
              "<td>Schindler's List</td>\n",
              "<td>1993</td>\n",
              "<td>Before millennium</td>\n",
              "</tr>\n",
              "<tr>\n",
              "<td>The Lord of the Rings: The Return of the King</td>\n",
              "<td>2003</td>\n",
              "<td>After millennium</td>\n",
              "</tr>\n",
              "<tr>\n",
              "<td>Pulp Fiction</td>\n",
              "<td>1994</td>\n",
              "<td>Before millennium</td>\n",
              "</tr>\n",
              "<tr>\n",
              "<td>The Lord of the Rings: The Fellowship of the Ring</td>\n",
              "<td>2001</td>\n",
              "<td>After millennium</td>\n",
              "</tr>\n",
              "<tr>\n",
              "<td>The Good, the Bad and the Ugly</td>\n",
              "<td>1966</td>\n",
              "<td>Before millennium</td>\n",
              "</tr>\n",
              "</table>\n",
              "10 rows in set (0.00 sec)"
            ],
            "text/plain": [
              "+---------------------------------------------------+--------------+----------------------------+\n",
              "| title                                             | release_year | before_or_after_millennium |\n",
              "+---------------------------------------------------+--------------+----------------------------+\n",
              "| The Shawshank Redemption                          | 1994         | Before millennium          |\n",
              "+---------------------------------------------------+--------------+----------------------------+\n",
              "| The Godfather                                     | 1972         | Before millennium          |\n",
              "+---------------------------------------------------+--------------+----------------------------+\n",
              "| The Dark Knight                                   | 2008         | After millennium           |\n",
              "+---------------------------------------------------+--------------+----------------------------+\n",
              "| The Godfather Part II                             | 1974         | Before millennium          |\n",
              "+---------------------------------------------------+--------------+----------------------------+\n",
              "| 12 Angry Men                                      | 1957         | Before millennium          |\n",
              "+---------------------------------------------------+--------------+----------------------------+\n",
              "| Schindler's List                                  | 1993         | Before millennium          |\n",
              "+---------------------------------------------------+--------------+----------------------------+\n",
              "| The Lord of the Rings: The Return of the King     | 2003         | After millennium           |\n",
              "+---------------------------------------------------+--------------+----------------------------+\n",
              "| Pulp Fiction                                      | 1994         | Before millennium          |\n",
              "+---------------------------------------------------+--------------+----------------------------+\n",
              "| The Lord of the Rings: The Fellowship of the Ring | 2001         | After millennium           |\n",
              "+---------------------------------------------------+--------------+----------------------------+\n",
              "| The Good, the Bad and the Ugly                    | 1966         | Before millennium          |\n",
              "+---------------------------------------------------+--------------+----------------------------+\n",
              "10 rows in set (0.00 sec)"
            ]
          },
          "execution_count": 5,
          "metadata": {},
          "output_type": "execute_result"
        }
      ],
      "source": [
        "%%sql\n",
        "SELECT title,\n",
        "       release_year,\n",
        "       CASE WHEN release_year >= 2000 THEN 'After millennium'\n",
        "            WHEN release_year < 2000 THEN 'Before millennium' END AS before_or_after_millennium\n",
        "  FROM movies\n",
        " LIMIT 10;"
      ]
    },
    {
      "cell_type": "markdown",
      "id": "1f14655e",
      "metadata": {
        "id": "1f14655e"
      },
      "source": [
        "如果分組需求與布林值一樣是二元、非黑即白的時候，`CASE WHEN` 敘述可以加入 `ELSE` 取代其中一個條件的敘述。\n",
        "\n",
        "```sql\n",
        "SELECT CASE WHEN condition_1 THEN result_1\n",
        "            ELSE result_2 END AS alias;\n",
        "```\n",
        "\n",
        "舉例來說，將電影的上映年份分為兩組：在千禧年之前上映的為 `'Before millennium'`、在千禧年之後上映的為 `'After millennium'`，能夠用 `ELSE` 取代先前的條件 `release_year < 2000`。"
      ]
    },
    {
      "cell_type": "code",
      "execution_count": null,
      "id": "e12157e3",
      "metadata": {
        "id": "e12157e3",
        "outputId": "8b56de5d-0bfa-48ca-f69c-d8c9c2c1b693"
      },
      "outputs": [
        {
          "data": {
            "text/html": [
              "<table>\n",
              "<tr>\n",
              "<th>title</th>\n",
              "<th>release_year</th>\n",
              "<th>before_or_after_millennium</th>\n",
              "</tr>\n",
              "<tr>\n",
              "<td>The Shawshank Redemption</td>\n",
              "<td>1994</td>\n",
              "<td>Before millennium</td>\n",
              "</tr>\n",
              "<tr>\n",
              "<td>The Godfather</td>\n",
              "<td>1972</td>\n",
              "<td>Before millennium</td>\n",
              "</tr>\n",
              "<tr>\n",
              "<td>The Dark Knight</td>\n",
              "<td>2008</td>\n",
              "<td>After millennium</td>\n",
              "</tr>\n",
              "<tr>\n",
              "<td>The Godfather Part II</td>\n",
              "<td>1974</td>\n",
              "<td>Before millennium</td>\n",
              "</tr>\n",
              "<tr>\n",
              "<td>12 Angry Men</td>\n",
              "<td>1957</td>\n",
              "<td>Before millennium</td>\n",
              "</tr>\n",
              "<tr>\n",
              "<td>Schindler's List</td>\n",
              "<td>1993</td>\n",
              "<td>Before millennium</td>\n",
              "</tr>\n",
              "<tr>\n",
              "<td>The Lord of the Rings: The Return of the King</td>\n",
              "<td>2003</td>\n",
              "<td>After millennium</td>\n",
              "</tr>\n",
              "<tr>\n",
              "<td>Pulp Fiction</td>\n",
              "<td>1994</td>\n",
              "<td>Before millennium</td>\n",
              "</tr>\n",
              "<tr>\n",
              "<td>The Lord of the Rings: The Fellowship of the Ring</td>\n",
              "<td>2001</td>\n",
              "<td>After millennium</td>\n",
              "</tr>\n",
              "<tr>\n",
              "<td>The Good, the Bad and the Ugly</td>\n",
              "<td>1966</td>\n",
              "<td>Before millennium</td>\n",
              "</tr>\n",
              "</table>\n",
              "10 rows in set (0.00 sec)"
            ],
            "text/plain": [
              "+---------------------------------------------------+--------------+----------------------------+\n",
              "| title                                             | release_year | before_or_after_millennium |\n",
              "+---------------------------------------------------+--------------+----------------------------+\n",
              "| The Shawshank Redemption                          | 1994         | Before millennium          |\n",
              "+---------------------------------------------------+--------------+----------------------------+\n",
              "| The Godfather                                     | 1972         | Before millennium          |\n",
              "+---------------------------------------------------+--------------+----------------------------+\n",
              "| The Dark Knight                                   | 2008         | After millennium           |\n",
              "+---------------------------------------------------+--------------+----------------------------+\n",
              "| The Godfather Part II                             | 1974         | Before millennium          |\n",
              "+---------------------------------------------------+--------------+----------------------------+\n",
              "| 12 Angry Men                                      | 1957         | Before millennium          |\n",
              "+---------------------------------------------------+--------------+----------------------------+\n",
              "| Schindler's List                                  | 1993         | Before millennium          |\n",
              "+---------------------------------------------------+--------------+----------------------------+\n",
              "| The Lord of the Rings: The Return of the King     | 2003         | After millennium           |\n",
              "+---------------------------------------------------+--------------+----------------------------+\n",
              "| Pulp Fiction                                      | 1994         | Before millennium          |\n",
              "+---------------------------------------------------+--------------+----------------------------+\n",
              "| The Lord of the Rings: The Fellowship of the Ring | 2001         | After millennium           |\n",
              "+---------------------------------------------------+--------------+----------------------------+\n",
              "| The Good, the Bad and the Ugly                    | 1966         | Before millennium          |\n",
              "+---------------------------------------------------+--------------+----------------------------+\n",
              "10 rows in set (0.00 sec)"
            ]
          },
          "execution_count": 6,
          "metadata": {},
          "output_type": "execute_result"
        }
      ],
      "source": [
        "%%sql\n",
        "SELECT title,\n",
        "       release_year,\n",
        "       CASE WHEN release_year >= 2000 THEN 'After millennium'\n",
        "            ELSE 'Before millennium' END AS before_or_after_millennium\n",
        "  FROM movies\n",
        " LIMIT 10;"
      ]
    },
    {
      "cell_type": "markdown",
      "id": "50028617",
      "metadata": {
        "id": "50028617"
      },
      "source": [
        "如果分組需求超過兩組的時候，只要增加 `WHEN` 敘述與條件即可。\n",
        "\n",
        "```sql\n",
        "SELECT CASE WHEN condition_1 THEN result_1\n",
        "            WHEN condition_2 THEN result_2\n",
        "            ...\n",
        "            ELSE result_n END AS alias;\n",
        "```\n",
        "\n",
        "舉例來說，將電影的長度 `runtime` 分為四組，超過 180 分鐘的為 `'Over 3 hours'`，超過 120 分鐘、未滿 180 分鐘的為 `'Over 2 hours'`，超過 60 分鐘、未滿 120 分鐘的為 `'Over 1 hour'`，未滿 60 分鐘的為 `'Below 1 hour'`。"
      ]
    },
    {
      "cell_type": "code",
      "execution_count": null,
      "id": "c6d894e2",
      "metadata": {
        "id": "c6d894e2",
        "outputId": "bf0a8de3-e069-488d-90bd-38aac8b1e9c2"
      },
      "outputs": [
        {
          "data": {
            "text/html": [
              "<table>\n",
              "<tr>\n",
              "<th>title</th>\n",
              "<th>runtime</th>\n",
              "<th>runtime_category</th>\n",
              "</tr>\n",
              "<tr>\n",
              "<td>The Shawshank Redemption</td>\n",
              "<td>142</td>\n",
              "<td>Over 2 hours</td>\n",
              "</tr>\n",
              "<tr>\n",
              "<td>The Godfather</td>\n",
              "<td>175</td>\n",
              "<td>Over 2 hours</td>\n",
              "</tr>\n",
              "<tr>\n",
              "<td>The Dark Knight</td>\n",
              "<td>152</td>\n",
              "<td>Over 2 hours</td>\n",
              "</tr>\n",
              "<tr>\n",
              "<td>The Godfather Part II</td>\n",
              "<td>202</td>\n",
              "<td>Over 3 hours</td>\n",
              "</tr>\n",
              "<tr>\n",
              "<td>12 Angry Men</td>\n",
              "<td>96</td>\n",
              "<td>Over 1 hour</td>\n",
              "</tr>\n",
              "<tr>\n",
              "<td>Schindler's List</td>\n",
              "<td>195</td>\n",
              "<td>Over 3 hours</td>\n",
              "</tr>\n",
              "<tr>\n",
              "<td>The Lord of the Rings: The Return of the King</td>\n",
              "<td>201</td>\n",
              "<td>Over 3 hours</td>\n",
              "</tr>\n",
              "<tr>\n",
              "<td>Pulp Fiction</td>\n",
              "<td>154</td>\n",
              "<td>Over 2 hours</td>\n",
              "</tr>\n",
              "<tr>\n",
              "<td>The Lord of the Rings: The Fellowship of the Ring</td>\n",
              "<td>178</td>\n",
              "<td>Over 2 hours</td>\n",
              "</tr>\n",
              "<tr>\n",
              "<td>The Good, the Bad and the Ugly</td>\n",
              "<td>178</td>\n",
              "<td>Over 2 hours</td>\n",
              "</tr>\n",
              "</table>\n",
              "10 rows in set (0.00 sec)"
            ],
            "text/plain": [
              "+---------------------------------------------------+---------+------------------+\n",
              "| title                                             | runtime | runtime_category |\n",
              "+---------------------------------------------------+---------+------------------+\n",
              "| The Shawshank Redemption                          | 142     | Over 2 hours     |\n",
              "+---------------------------------------------------+---------+------------------+\n",
              "| The Godfather                                     | 175     | Over 2 hours     |\n",
              "+---------------------------------------------------+---------+------------------+\n",
              "| The Dark Knight                                   | 152     | Over 2 hours     |\n",
              "+---------------------------------------------------+---------+------------------+\n",
              "| The Godfather Part II                             | 202     | Over 3 hours     |\n",
              "+---------------------------------------------------+---------+------------------+\n",
              "| 12 Angry Men                                      | 96      | Over 1 hour      |\n",
              "+---------------------------------------------------+---------+------------------+\n",
              "| Schindler's List                                  | 195     | Over 3 hours     |\n",
              "+---------------------------------------------------+---------+------------------+\n",
              "| The Lord of the Rings: The Return of the King     | 201     | Over 3 hours     |\n",
              "+---------------------------------------------------+---------+------------------+\n",
              "| Pulp Fiction                                      | 154     | Over 2 hours     |\n",
              "+---------------------------------------------------+---------+------------------+\n",
              "| The Lord of the Rings: The Fellowship of the Ring | 178     | Over 2 hours     |\n",
              "+---------------------------------------------------+---------+------------------+\n",
              "| The Good, the Bad and the Ugly                    | 178     | Over 2 hours     |\n",
              "+---------------------------------------------------+---------+------------------+\n",
              "10 rows in set (0.00 sec)"
            ]
          },
          "execution_count": 7,
          "metadata": {},
          "output_type": "execute_result"
        }
      ],
      "source": [
        "%%sql\n",
        "SELECT title,\n",
        "       runtime,\n",
        "       CASE WHEN runtime > 180 THEN 'Over 3 hours'\n",
        "            WHEN runtime > 120 THEN 'Over 2 hours'\n",
        "            WHEN runtime > 60 THEN 'Over 1 hour'\n",
        "            WHEN runtime <= 60 THEN 'Below 1 hour' END AS runtime_category\n",
        "  FROM movies\n",
        " LIMIT 10;"
      ]
    },
    {
      "cell_type": "markdown",
      "id": "90543254",
      "metadata": {
        "id": "90543254"
      },
      "source": [
        "當然，我們也可以加入 `ELSE` 取代其中一個條件 `runtime <= 60`。"
      ]
    },
    {
      "cell_type": "code",
      "execution_count": null,
      "id": "three-pressure",
      "metadata": {
        "id": "three-pressure",
        "outputId": "5f758798-52da-47de-8a70-e4ec8f33d927"
      },
      "outputs": [
        {
          "data": {
            "text/html": [
              "<table>\n",
              "<tr>\n",
              "<th>title</th>\n",
              "<th>runtime</th>\n",
              "<th>runtime_category</th>\n",
              "</tr>\n",
              "<tr>\n",
              "<td>The Shawshank Redemption</td>\n",
              "<td>142</td>\n",
              "<td>Over 2 hours</td>\n",
              "</tr>\n",
              "<tr>\n",
              "<td>The Godfather</td>\n",
              "<td>175</td>\n",
              "<td>Over 2 hours</td>\n",
              "</tr>\n",
              "<tr>\n",
              "<td>The Dark Knight</td>\n",
              "<td>152</td>\n",
              "<td>Over 2 hours</td>\n",
              "</tr>\n",
              "<tr>\n",
              "<td>The Godfather Part II</td>\n",
              "<td>202</td>\n",
              "<td>Over 3 hours</td>\n",
              "</tr>\n",
              "<tr>\n",
              "<td>12 Angry Men</td>\n",
              "<td>96</td>\n",
              "<td>Over 1 hour</td>\n",
              "</tr>\n",
              "<tr>\n",
              "<td>Schindler's List</td>\n",
              "<td>195</td>\n",
              "<td>Over 3 hours</td>\n",
              "</tr>\n",
              "<tr>\n",
              "<td>The Lord of the Rings: The Return of the King</td>\n",
              "<td>201</td>\n",
              "<td>Over 3 hours</td>\n",
              "</tr>\n",
              "<tr>\n",
              "<td>Pulp Fiction</td>\n",
              "<td>154</td>\n",
              "<td>Over 2 hours</td>\n",
              "</tr>\n",
              "<tr>\n",
              "<td>The Lord of the Rings: The Fellowship of the Ring</td>\n",
              "<td>178</td>\n",
              "<td>Over 2 hours</td>\n",
              "</tr>\n",
              "<tr>\n",
              "<td>The Good, the Bad and the Ugly</td>\n",
              "<td>178</td>\n",
              "<td>Over 2 hours</td>\n",
              "</tr>\n",
              "</table>\n",
              "10 rows in set (0.00 sec)"
            ],
            "text/plain": [
              "+---------------------------------------------------+---------+------------------+\n",
              "| title                                             | runtime | runtime_category |\n",
              "+---------------------------------------------------+---------+------------------+\n",
              "| The Shawshank Redemption                          | 142     | Over 2 hours     |\n",
              "+---------------------------------------------------+---------+------------------+\n",
              "| The Godfather                                     | 175     | Over 2 hours     |\n",
              "+---------------------------------------------------+---------+------------------+\n",
              "| The Dark Knight                                   | 152     | Over 2 hours     |\n",
              "+---------------------------------------------------+---------+------------------+\n",
              "| The Godfather Part II                             | 202     | Over 3 hours     |\n",
              "+---------------------------------------------------+---------+------------------+\n",
              "| 12 Angry Men                                      | 96      | Over 1 hour      |\n",
              "+---------------------------------------------------+---------+------------------+\n",
              "| Schindler's List                                  | 195     | Over 3 hours     |\n",
              "+---------------------------------------------------+---------+------------------+\n",
              "| The Lord of the Rings: The Return of the King     | 201     | Over 3 hours     |\n",
              "+---------------------------------------------------+---------+------------------+\n",
              "| Pulp Fiction                                      | 154     | Over 2 hours     |\n",
              "+---------------------------------------------------+---------+------------------+\n",
              "| The Lord of the Rings: The Fellowship of the Ring | 178     | Over 2 hours     |\n",
              "+---------------------------------------------------+---------+------------------+\n",
              "| The Good, the Bad and the Ugly                    | 178     | Over 2 hours     |\n",
              "+---------------------------------------------------+---------+------------------+\n",
              "10 rows in set (0.00 sec)"
            ]
          },
          "execution_count": 8,
          "metadata": {},
          "output_type": "execute_result"
        }
      ],
      "source": [
        "%%sql\n",
        "SELECT title,\n",
        "       runtime,\n",
        "       CASE WHEN runtime > 180 THEN 'Over 3 hours'\n",
        "            WHEN runtime > 120 THEN 'Over 2 hours'\n",
        "            WHEN runtime > 60 THEN 'Over 1 hour'\n",
        "            ELSE 'Below 1 hour' END AS runtime_category\n",
        "  FROM movies\n",
        " LIMIT 10;"
      ]
    },
    {
      "cell_type": "markdown",
      "id": "dying-intake",
      "metadata": {
        "id": "dying-intake"
      },
      "source": [
        "## 條件是否互斥與寫作順序\n",
        "\n",
        "撰寫條件邏輯非常值得注意的是，條件是否互斥（Mutually exclusive）？若沒有互斥，那麼寫作的順序就會是賦值的順序。舉前面的例子來說，將電影的長度 `runtime` 分為四組，條件一到四分別為 `runtime > 180`、`runtime > 120`、`runtime > 60` 與 `runtime <= 60`，除了條件 `runtime > 60` 與 `runtime <= 60` 兩者是互斥，前三個條件是有交集的（電影長度超過 120 分鐘代表也超過 60 分鐘、電影長度超過 180 分鐘代表也超過 120、60 分鐘）。\n",
        "\n",
        "```sql\n",
        "CASE WHEN runtime > 180 THEN 'Over 3 hours'\n",
        "     WHEN runtime > 120 THEN 'Over 2 hours'\n",
        "     WHEN runtime > 60 THEN 'Over 1 hour'\n",
        "     WHEN runtime <= 60 THEN 'Below 1 hour' END AS runtime_category\n",
        "```\n",
        "\n",
        "在 `CASE WHEN` 的條件敘述有交集的情況下，衍生計算欄位所賦予的值是依照寫作順序而定的，因此範例撰寫的順序是和預期結果相符的，能夠將電影依照長度 `runtime` 分為四組。"
      ]
    },
    {
      "cell_type": "code",
      "execution_count": null,
      "id": "f321f683",
      "metadata": {
        "id": "f321f683",
        "outputId": "c3c1c62c-48b7-40d5-c5bb-ffb007062456"
      },
      "outputs": [
        {
          "data": {
            "text/html": [
              "<table>\n",
              "<tr>\n",
              "<th>runtime_category</th>\n",
              "</tr>\n",
              "<tr>\n",
              "<td>Over 2 hours</td>\n",
              "</tr>\n",
              "<tr>\n",
              "<td>Over 3 hours</td>\n",
              "</tr>\n",
              "<tr>\n",
              "<td>Over 1 hour</td>\n",
              "</tr>\n",
              "<tr>\n",
              "<td>Below 1 hour</td>\n",
              "</tr>\n",
              "</table>\n",
              "4 rows in set (0.00 sec)"
            ],
            "text/plain": [
              "+------------------+\n",
              "| runtime_category |\n",
              "+------------------+\n",
              "| Over 2 hours     |\n",
              "+------------------+\n",
              "| Over 3 hours     |\n",
              "+------------------+\n",
              "| Over 1 hour      |\n",
              "+------------------+\n",
              "| Below 1 hour     |\n",
              "+------------------+\n",
              "4 rows in set (0.00 sec)"
            ]
          },
          "execution_count": 9,
          "metadata": {},
          "output_type": "execute_result"
        }
      ],
      "source": [
        "%%sql\n",
        "SELECT DISTINCT CASE WHEN runtime > 180 THEN 'Over 3 hours' -- expected result\n",
        "                WHEN runtime > 120 THEN 'Over 2 hours'\n",
        "                WHEN runtime > 60 THEN 'Over 1 hour'\n",
        "                WHEN runtime <= 60 THEN 'Below 1 hour' END AS runtime_category\n",
        "  FROM movies;"
      ]
    },
    {
      "cell_type": "markdown",
      "id": "53248e56",
      "metadata": {
        "id": "53248e56"
      },
      "source": [
        "若是沒有注意到條件是否互斥與寫作順序，可能就會得到和預期相異的結果，例如先寫了條件 `runtime > 60` 會使得最終分組的結果缺少了 `'Over 3 hours'` 與 `'Over 2 hours'`，因為這兩組對應的條件都被條件 `runtime > 60` 先判斷走了。"
      ]
    },
    {
      "cell_type": "code",
      "execution_count": null,
      "id": "77336018",
      "metadata": {
        "id": "77336018",
        "outputId": "65ee1f71-4bed-473f-c148-8a14d9b1b1ac"
      },
      "outputs": [
        {
          "data": {
            "text/html": [
              "<table>\n",
              "<tr>\n",
              "<th>runtime_category</th>\n",
              "</tr>\n",
              "<tr>\n",
              "<td>Over 1 hours</td>\n",
              "</tr>\n",
              "<tr>\n",
              "<td>Below 1 hour</td>\n",
              "</tr>\n",
              "</table>\n",
              "2 rows in set (0.00 sec)"
            ],
            "text/plain": [
              "+------------------+\n",
              "| runtime_category |\n",
              "+------------------+\n",
              "| Over 1 hours     |\n",
              "+------------------+\n",
              "| Below 1 hour     |\n",
              "+------------------+\n",
              "2 rows in set (0.00 sec)"
            ]
          },
          "execution_count": 10,
          "metadata": {},
          "output_type": "execute_result"
        }
      ],
      "source": [
        "%%sql\n",
        "SELECT DISTINCT CASE WHEN runtime > 60 THEN 'Over 1 hours' -- unexpected result\n",
        "                WHEN runtime > 120 THEN 'Over 2 hours'\n",
        "                WHEN runtime > 180 THEN 'Over 3 hour'\n",
        "                WHEN runtime <= 60 THEN 'Below 1 hour' END AS runtime_category\n",
        "  FROM movies;"
      ]
    },
    {
      "cell_type": "markdown",
      "id": "lovely-publisher",
      "metadata": {
        "id": "lovely-publisher"
      },
      "source": [
        "如果不想要特別注意寫作順序，可以把條件設計為互斥，例如還是先分組 `'Over 1 hours'`，但是把條件的上界、下界都交代清楚。"
      ]
    },
    {
      "cell_type": "code",
      "execution_count": null,
      "id": "gorgeous-drinking",
      "metadata": {
        "id": "gorgeous-drinking",
        "outputId": "036c6c78-5611-4b16-d724-507879c976fe"
      },
      "outputs": [
        {
          "data": {
            "text/html": [
              "<table>\n",
              "<tr>\n",
              "<th>runtime_category</th>\n",
              "</tr>\n",
              "<tr>\n",
              "<td>Over 2 hours</td>\n",
              "</tr>\n",
              "<tr>\n",
              "<td>Over 3 hour</td>\n",
              "</tr>\n",
              "<tr>\n",
              "<td>Over 1 hours</td>\n",
              "</tr>\n",
              "<tr>\n",
              "<td>Below 1 hour</td>\n",
              "</tr>\n",
              "</table>\n",
              "4 rows in set (0.00 sec)"
            ],
            "text/plain": [
              "+------------------+\n",
              "| runtime_category |\n",
              "+------------------+\n",
              "| Over 2 hours     |\n",
              "+------------------+\n",
              "| Over 3 hour      |\n",
              "+------------------+\n",
              "| Over 1 hours     |\n",
              "+------------------+\n",
              "| Below 1 hour     |\n",
              "+------------------+\n",
              "4 rows in set (0.00 sec)"
            ]
          },
          "execution_count": 11,
          "metadata": {},
          "output_type": "execute_result"
        }
      ],
      "source": [
        "%%sql\n",
        "SELECT DISTINCT CASE WHEN runtime > 60 AND runtime <= 120 THEN 'Over 1 hours' -- expected result\n",
        "                WHEN runtime > 120 AND runtime <= 180 THEN 'Over 2 hours'\n",
        "                WHEN runtime > 180 THEN 'Over 3 hour'\n",
        "                WHEN runtime <= 60 THEN 'Below 1 hour' END AS runtime_category\n",
        "  FROM movies;"
      ]
    },
    {
      "cell_type": "markdown",
      "id": "existing-integrity",
      "metadata": {
        "id": "existing-integrity"
      },
      "source": [
        "## 以 `CASE WHEN` 衍生計算欄位排序\n",
        "\n",
        "`CASE WHEN` 除了能夠在 `SELECT` 敘述後使用，亦能夠在 `ORDER BY` 敘述後使用。想要以 `CASE WHEN` 衍生計算欄位排序，一種方式是在 `SELECT` 後建立別名並在 `ORDER BY` 後加上別名。\n",
        "\n",
        "```sql\n",
        "SELECT CASE WHEN condition_1 THEN result_1\n",
        "            WHEN condition_2 THEN result_2\n",
        "            ...\n",
        "            ELSE result_n END AS alias\n",
        "  FROM TABLE\n",
        " ORDER BY alias;\n",
        "```"
      ]
    },
    {
      "cell_type": "code",
      "execution_count": null,
      "id": "0f10206d",
      "metadata": {
        "id": "0f10206d",
        "outputId": "70a25e4e-8e55-4e1b-b995-e4f0bfe6a6a3"
      },
      "outputs": [
        {
          "data": {
            "text/html": [
              "<table>\n",
              "<tr>\n",
              "<th>title</th>\n",
              "<th>runtime</th>\n",
              "<th>runtime_category</th>\n",
              "</tr>\n",
              "<tr>\n",
              "<td>Sherlock Jr.</td>\n",
              "<td>45</td>\n",
              "<td>Below 1 hour</td>\n",
              "</tr>\n",
              "<tr>\n",
              "<td>12 Angry Men</td>\n",
              "<td>96</td>\n",
              "<td>Over 1 hour</td>\n",
              "</tr>\n",
              "<tr>\n",
              "<td>The Silence of the Lambs</td>\n",
              "<td>118</td>\n",
              "<td>Over 1 hour</td>\n",
              "</tr>\n",
              "<tr>\n",
              "<td>Life Is Beautiful</td>\n",
              "<td>116</td>\n",
              "<td>Over 1 hour</td>\n",
              "</tr>\n",
              "<tr>\n",
              "<td>Back to the Future</td>\n",
              "<td>116</td>\n",
              "<td>Over 1 hour</td>\n",
              "</tr>\n",
              "<tr>\n",
              "<td>Psycho</td>\n",
              "<td>109</td>\n",
              "<td>Over 1 hour</td>\n",
              "</tr>\n",
              "<tr>\n",
              "<td>Léon: The Professional</td>\n",
              "<td>110</td>\n",
              "<td>Over 1 hour</td>\n",
              "</tr>\n",
              "<tr>\n",
              "<td>The Lion King</td>\n",
              "<td>88</td>\n",
              "<td>Over 1 hour</td>\n",
              "</tr>\n",
              "<tr>\n",
              "<td>American History X</td>\n",
              "<td>119</td>\n",
              "<td>Over 1 hour</td>\n",
              "</tr>\n",
              "<tr>\n",
              "<td>The Usual Suspects</td>\n",
              "<td>106</td>\n",
              "<td>Over 1 hour</td>\n",
              "</tr>\n",
              "</table>\n",
              "10 rows in set (0.00 sec)"
            ],
            "text/plain": [
              "+--------------------------+---------+------------------+\n",
              "| title                    | runtime | runtime_category |\n",
              "+--------------------------+---------+------------------+\n",
              "| Sherlock Jr.             | 45      | Below 1 hour     |\n",
              "+--------------------------+---------+------------------+\n",
              "| 12 Angry Men             | 96      | Over 1 hour      |\n",
              "+--------------------------+---------+------------------+\n",
              "| The Silence of the Lambs | 118     | Over 1 hour      |\n",
              "+--------------------------+---------+------------------+\n",
              "| Life Is Beautiful        | 116     | Over 1 hour      |\n",
              "+--------------------------+---------+------------------+\n",
              "| Back to the Future       | 116     | Over 1 hour      |\n",
              "+--------------------------+---------+------------------+\n",
              "| Psycho                   | 109     | Over 1 hour      |\n",
              "+--------------------------+---------+------------------+\n",
              "| Léon: The Professional  | 110     | Over 1 hour      |\n",
              "+--------------------------+---------+------------------+\n",
              "| The Lion King            | 88      | Over 1 hour      |\n",
              "+--------------------------+---------+------------------+\n",
              "| American History X       | 119     | Over 1 hour      |\n",
              "+--------------------------+---------+------------------+\n",
              "| The Usual Suspects       | 106     | Over 1 hour      |\n",
              "+--------------------------+---------+------------------+\n",
              "10 rows in set (0.00 sec)"
            ]
          },
          "execution_count": 12,
          "metadata": {},
          "output_type": "execute_result"
        }
      ],
      "source": [
        "%%sql\n",
        "SELECT title,\n",
        "       runtime,\n",
        "       CASE WHEN runtime > 180 THEN 'Over 3 hours'\n",
        "            WHEN runtime > 120 THEN 'Over 2 hours'\n",
        "            WHEN runtime > 60 THEN 'Over 1 hour'\n",
        "            ELSE 'Below 1 hour' END AS runtime_category\n",
        "  FROM movies\n",
        " ORDER BY runtime_category\n",
        " LIMIT 10;"
      ]
    },
    {
      "cell_type": "markdown",
      "id": "graphic-collar",
      "metadata": {
        "id": "graphic-collar"
      },
      "source": [
        "另一種方式是略過 `SELECT` 後建立別名，直接在 `ORDER BY` 後加上 `CASE WHEN` 敘述，要注意這時就得將原本敘述最後的 `AS alias` 省去。\n",
        "\n",
        "```sql\n",
        "SELECT columns\n",
        "  FROM TABLE\n",
        " ORDER BY CASE WHEN condition_1 THEN result_1\n",
        "               WHEN condition_2 THEN result_2\n",
        "               ...\n",
        "               ELSE result_n END;\n",
        "```"
      ]
    },
    {
      "cell_type": "code",
      "execution_count": null,
      "id": "skilled-burns",
      "metadata": {
        "id": "skilled-burns",
        "outputId": "9d0154f2-2a2a-44c8-8c77-a0ac0da7129a"
      },
      "outputs": [
        {
          "data": {
            "text/html": [
              "<table>\n",
              "<tr>\n",
              "<th>title</th>\n",
              "<th>runtime</th>\n",
              "</tr>\n",
              "<tr>\n",
              "<td>Sherlock Jr.</td>\n",
              "<td>45</td>\n",
              "</tr>\n",
              "<tr>\n",
              "<td>12 Angry Men</td>\n",
              "<td>96</td>\n",
              "</tr>\n",
              "<tr>\n",
              "<td>The Silence of the Lambs</td>\n",
              "<td>118</td>\n",
              "</tr>\n",
              "<tr>\n",
              "<td>Life Is Beautiful</td>\n",
              "<td>116</td>\n",
              "</tr>\n",
              "<tr>\n",
              "<td>Back to the Future</td>\n",
              "<td>116</td>\n",
              "</tr>\n",
              "<tr>\n",
              "<td>Psycho</td>\n",
              "<td>109</td>\n",
              "</tr>\n",
              "<tr>\n",
              "<td>Léon: The Professional</td>\n",
              "<td>110</td>\n",
              "</tr>\n",
              "<tr>\n",
              "<td>The Lion King</td>\n",
              "<td>88</td>\n",
              "</tr>\n",
              "<tr>\n",
              "<td>American History X</td>\n",
              "<td>119</td>\n",
              "</tr>\n",
              "<tr>\n",
              "<td>The Usual Suspects</td>\n",
              "<td>106</td>\n",
              "</tr>\n",
              "</table>\n",
              "10 rows in set (0.00 sec)"
            ],
            "text/plain": [
              "+--------------------------+---------+\n",
              "| title                    | runtime |\n",
              "+--------------------------+---------+\n",
              "| Sherlock Jr.             | 45      |\n",
              "+--------------------------+---------+\n",
              "| 12 Angry Men             | 96      |\n",
              "+--------------------------+---------+\n",
              "| The Silence of the Lambs | 118     |\n",
              "+--------------------------+---------+\n",
              "| Life Is Beautiful        | 116     |\n",
              "+--------------------------+---------+\n",
              "| Back to the Future       | 116     |\n",
              "+--------------------------+---------+\n",
              "| Psycho                   | 109     |\n",
              "+--------------------------+---------+\n",
              "| Léon: The Professional  | 110     |\n",
              "+--------------------------+---------+\n",
              "| The Lion King            | 88      |\n",
              "+--------------------------+---------+\n",
              "| American History X       | 119     |\n",
              "+--------------------------+---------+\n",
              "| The Usual Suspects       | 106     |\n",
              "+--------------------------+---------+\n",
              "10 rows in set (0.00 sec)"
            ]
          },
          "execution_count": 13,
          "metadata": {},
          "output_type": "execute_result"
        }
      ],
      "source": [
        "%%sql\n",
        "SELECT title,\n",
        "       runtime\n",
        "  FROM movies\n",
        " ORDER BY CASE WHEN runtime > 180 THEN 'Over 3 hours'\n",
        "               WHEN runtime > 120 THEN 'Over 2 hours'\n",
        "               WHEN runtime > 60 THEN 'Over 1 hour'\n",
        "               ELSE 'Below 1 hour' END\n",
        " LIMIT 10;"
      ]
    },
    {
      "cell_type": "markdown",
      "id": "adjacent-reference",
      "metadata": {
        "id": "adjacent-reference"
      },
      "source": [
        "## 以 `CASE WHEN` 衍生計算欄位篩選\n",
        "\n",
        "`CASE WHEN` 除了能夠搭配 `SELECT` 敘述、`ORDER BY` 敘述後使用，亦能夠搭配 `WHERE` 敘述使用。想要以 `CASE WHEN` 衍生計算欄位篩選資料表觀測值，在 `SELECT` 後建立別名並在 `WHERE` 後利用別名搭配關係運算符建立條件。\n",
        "\n",
        "```sql\n",
        "SELECT CASE WHEN condition_1 THEN result_1\n",
        "            WHEN condition_2 THEN result_2\n",
        "            ...\n",
        "            ELSE result_n END AS alias\n",
        "  FROM TABLE\n",
        " WHERE conditions;\n",
        "```"
      ]
    },
    {
      "cell_type": "code",
      "execution_count": null,
      "id": "corrected-trading",
      "metadata": {
        "id": "corrected-trading",
        "outputId": "3a6afbe1-69ba-4f63-f734-bbe329944510"
      },
      "outputs": [
        {
          "data": {
            "text/html": [
              "<table>\n",
              "<tr>\n",
              "<th>title</th>\n",
              "<th>runtime</th>\n",
              "<th>runtime_category</th>\n",
              "</tr>\n",
              "<tr>\n",
              "<td>Gone with the Wind</td>\n",
              "<td>238</td>\n",
              "<td>Over 3 hours</td>\n",
              "</tr>\n",
              "<tr>\n",
              "<td>Once Upon a Time in America</td>\n",
              "<td>229</td>\n",
              "<td>Over 3 hours</td>\n",
              "</tr>\n",
              "<tr>\n",
              "<td>Lawrence of Arabia</td>\n",
              "<td>218</td>\n",
              "<td>Over 3 hours</td>\n",
              "</tr>\n",
              "<tr>\n",
              "<td>Ben-Hur</td>\n",
              "<td>212</td>\n",
              "<td>Over 3 hours</td>\n",
              "</tr>\n",
              "<tr>\n",
              "<td>Seven Samurai</td>\n",
              "<td>207</td>\n",
              "<td>Over 3 hours</td>\n",
              "</tr>\n",
              "<tr>\n",
              "<td>The Godfather Part II</td>\n",
              "<td>202</td>\n",
              "<td>Over 3 hours</td>\n",
              "</tr>\n",
              "<tr>\n",
              "<td>The Lord of the Rings: The Return of the King</td>\n",
              "<td>201</td>\n",
              "<td>Over 3 hours</td>\n",
              "</tr>\n",
              "<tr>\n",
              "<td>Schindler's List</td>\n",
              "<td>195</td>\n",
              "<td>Over 3 hours</td>\n",
              "</tr>\n",
              "<tr>\n",
              "<td>Gandhi</td>\n",
              "<td>191</td>\n",
              "<td>Over 3 hours</td>\n",
              "</tr>\n",
              "<tr>\n",
              "<td>The Green Mile</td>\n",
              "<td>189</td>\n",
              "<td>Over 3 hours</td>\n",
              "</tr>\n",
              "<tr>\n",
              "<td>Barry Lyndon</td>\n",
              "<td>185</td>\n",
              "<td>Over 3 hours</td>\n",
              "</tr>\n",
              "<tr>\n",
              "<td>The Deer Hunter</td>\n",
              "<td>183</td>\n",
              "<td>Over 3 hours</td>\n",
              "</tr>\n",
              "<tr>\n",
              "<td>Avengers: Endgame</td>\n",
              "<td>181</td>\n",
              "<td>Over 3 hours</td>\n",
              "</tr>\n",
              "<tr>\n",
              "<td>Dances with Wolves</td>\n",
              "<td>181</td>\n",
              "<td>Over 3 hours</td>\n",
              "</tr>\n",
              "</table>\n",
              "14 rows in set (0.00 sec)"
            ],
            "text/plain": [
              "+-----------------------------------------------+---------+------------------+\n",
              "| title                                         | runtime | runtime_category |\n",
              "+-----------------------------------------------+---------+------------------+\n",
              "| Gone with the Wind                            | 238     | Over 3 hours     |\n",
              "+-----------------------------------------------+---------+------------------+\n",
              "| Once Upon a Time in America                   | 229     | Over 3 hours     |\n",
              "+-----------------------------------------------+---------+------------------+\n",
              "| Lawrence of Arabia                            | 218     | Over 3 hours     |\n",
              "+-----------------------------------------------+---------+------------------+\n",
              "| Ben-Hur                                       | 212     | Over 3 hours     |\n",
              "+-----------------------------------------------+---------+------------------+\n",
              "| Seven Samurai                                 | 207     | Over 3 hours     |\n",
              "+-----------------------------------------------+---------+------------------+\n",
              "| The Godfather Part II                         | 202     | Over 3 hours     |\n",
              "+-----------------------------------------------+---------+------------------+\n",
              "| The Lord of the Rings: The Return of the King | 201     | Over 3 hours     |\n",
              "+-----------------------------------------------+---------+------------------+\n",
              "| Schindler's List                              | 195     | Over 3 hours     |\n",
              "+-----------------------------------------------+---------+------------------+\n",
              "| Gandhi                                        | 191     | Over 3 hours     |\n",
              "+-----------------------------------------------+---------+------------------+\n",
              "| The Green Mile                                | 189     | Over 3 hours     |\n",
              "+-----------------------------------------------+---------+------------------+\n",
              "| Barry Lyndon                                  | 185     | Over 3 hours     |\n",
              "+-----------------------------------------------+---------+------------------+\n",
              "| The Deer Hunter                               | 183     | Over 3 hours     |\n",
              "+-----------------------------------------------+---------+------------------+\n",
              "| Avengers: Endgame                             | 181     | Over 3 hours     |\n",
              "+-----------------------------------------------+---------+------------------+\n",
              "| Dances with Wolves                            | 181     | Over 3 hours     |\n",
              "+-----------------------------------------------+---------+------------------+\n",
              "14 rows in set (0.00 sec)"
            ]
          },
          "execution_count": 14,
          "metadata": {},
          "output_type": "execute_result"
        }
      ],
      "source": [
        "%%sql\n",
        "SELECT title,\n",
        "       runtime,\n",
        "       CASE WHEN runtime > 180 THEN 'Over 3 hours'\n",
        "            WHEN runtime > 120 THEN 'Over 2 hours'\n",
        "            WHEN runtime > 60 THEN 'Over 1 hour'\n",
        "            ELSE 'Below 1 hour' END AS runtime_category\n",
        "  FROM movies\n",
        " WHERE runtime_category = 'Over 3 hours'\n",
        " ORDER BY runtime_category, \n",
        "          runtime DESC;"
      ]
    },
    {
      "cell_type": "markdown",
      "id": "d8a519ed",
      "metadata": {
        "id": "d8a519ed"
      },
      "source": [
        "## 重點統整\n",
        "\n",
        "- 條件邏輯是第三種生成衍生計算欄位的方式，透過條件所得的布林值來決定所指定的資料值為何，在實務中這樣的技巧又被稱為分箱（Binning）、編碼（Encoding）或者分組（Categorizing）。\n",
        "- 這個章節學起來的 SQL 保留字：\n",
        "    - `CASE WHEN`\n",
        "    - `THEN`\n",
        "    - `ELSE`\n",
        "    - `END`\n",
        "- 將截至目前所學的 SQL 保留字集中在一個敘述中，寫作順序必須遵從標準 SQL 的規定。\n",
        "\n",
        "```sql\n",
        "SELECT DISTINCT columns AS alias,\n",
        "       CASE WHEN condition_1 THEN result_1\n",
        "            WHEN condition_2 THEN result_2\n",
        "            ...\n",
        "            ELSE result_n END AS alias\n",
        "  FROM table\n",
        " WHERE conditions\n",
        " ORDER BY columns DESC\n",
        " LIMIT m;\n",
        "```\n",
        "\n",
        "## 練習題 22-24\n",
        "\n",
        "練習題會涵蓋四個學習資料庫，記得要依據題目的需求，調整編輯器選單的學習資料庫，在自己電腦的 SQLiteStudio 寫出跟預期輸出相同的 SQL 敘述，寫作過程如果卡關了，可以參考附錄二「練習題參考解答」。\n",
        "\n",
        "### 22. 從 `covid19` 資料庫的 `daily_report` 資料表將「美國」與「非美國」的觀測值用衍生計算欄位區分，美國的觀測值給予 `'Is US'`、非美國的觀測值給予 `'Not US'`，參考下列的預期查詢結果。\n",
        "\n",
        "預期輸出：(4011, 2) 的查詢結果。"
      ]
    },
    {
      "cell_type": "code",
      "execution_count": null,
      "id": "1e8bbc78",
      "metadata": {
        "id": "1e8bbc78",
        "outputId": "57d6093f-569f-4a75-bbc6-d56ea30563ca"
      },
      "outputs": [
        {
          "data": {
            "text/html": [
              "<table>\n",
              "<tr>\n",
              "<th>Combined_Key</th>\n",
              "<th>is_us</th>\n",
              "</tr>\n",
              "<tr>\n",
              "<td>Abbeville, South Carolina, US</td>\n",
              "<td>Is US</td>\n",
              "</tr>\n",
              "<tr>\n",
              "<td>Abruzzo, Italy</td>\n",
              "<td>Not US</td>\n",
              "</tr>\n",
              "<tr>\n",
              "<td>Acadia, Louisiana, US</td>\n",
              "<td>Is US</td>\n",
              "</tr>\n",
              "<tr>\n",
              "<td>Accomack, Virginia, US</td>\n",
              "<td>Is US</td>\n",
              "</tr>\n",
              "<tr>\n",
              "<td>Acre, Brazil</td>\n",
              "<td>Not US</td>\n",
              "</tr>\n",
              "</table>\n",
              "5 rows in set (0.01 sec)"
            ],
            "text/plain": [
              "+-------------------------------+--------+\n",
              "| Combined_Key                  | is_us  |\n",
              "+-------------------------------+--------+\n",
              "| Abbeville, South Carolina, US | Is US  |\n",
              "+-------------------------------+--------+\n",
              "| Abruzzo, Italy                | Not US |\n",
              "+-------------------------------+--------+\n",
              "| Acadia, Louisiana, US         | Is US  |\n",
              "+-------------------------------+--------+\n",
              "| Accomack, Virginia, US        | Is US  |\n",
              "+-------------------------------+--------+\n",
              "| Acre, Brazil                  | Not US |\n",
              "+-------------------------------+--------+\n",
              "5 rows in set (0.01 sec)"
            ]
          },
          "execution_count": 15,
          "metadata": {},
          "output_type": "execute_result"
        }
      ],
      "source": [
        "-- 礙於紙本篇幅僅顯示出前五列示意\n",
        "%%sql\n"
      ]
    },
    {
      "cell_type": "markdown",
      "id": "cafd05d4",
      "metadata": {
        "id": "cafd05d4"
      },
      "source": [
        "### 23. 從 `imdb` 資料庫的 `movies` 資料表將評等超過 8.7（`>8.7`）的電影分類為 `'Awesome'`、將評等超過 8.4（`>8.4`）的電影分類為 `'Terrific'`，再將其餘的電影分類為 `'Great'`，參考下列的預期查詢結果。\n",
        "\n",
        "預期輸出：(250, 3) 的查詢結果。"
      ]
    },
    {
      "cell_type": "code",
      "execution_count": null,
      "id": "9eeed30d",
      "metadata": {
        "id": "9eeed30d",
        "outputId": "92af1bbf-3547-4059-8775-f8222626c442"
      },
      "outputs": [
        {
          "data": {
            "text/html": [
              "<table>\n",
              "<tr>\n",
              "<th>title</th>\n",
              "<th>rating</th>\n",
              "<th>rating_category</th>\n",
              "</tr>\n",
              "<tr>\n",
              "<td>The Shawshank Redemption</td>\n",
              "<td>9.3</td>\n",
              "<td>Awesome</td>\n",
              "</tr>\n",
              "<tr>\n",
              "<td>The Godfather</td>\n",
              "<td>9.2</td>\n",
              "<td>Awesome</td>\n",
              "</tr>\n",
              "<tr>\n",
              "<td>The Dark Knight</td>\n",
              "<td>9</td>\n",
              "<td>Awesome</td>\n",
              "</tr>\n",
              "<tr>\n",
              "<td>The Godfather Part II</td>\n",
              "<td>9</td>\n",
              "<td>Awesome</td>\n",
              "</tr>\n",
              "<tr>\n",
              "<td>12 Angry Men</td>\n",
              "<td>9</td>\n",
              "<td>Awesome</td>\n",
              "</tr>\n",
              "</table>\n",
              "5 rows in set (0.00 sec)"
            ],
            "text/plain": [
              "+--------------------------+--------+-----------------+\n",
              "| title                    | rating | rating_category |\n",
              "+--------------------------+--------+-----------------+\n",
              "| The Shawshank Redemption | 9.3    | Awesome         |\n",
              "+--------------------------+--------+-----------------+\n",
              "| The Godfather            | 9.2    | Awesome         |\n",
              "+--------------------------+--------+-----------------+\n",
              "| The Dark Knight          | 9      | Awesome         |\n",
              "+--------------------------+--------+-----------------+\n",
              "| The Godfather Part II    | 9      | Awesome         |\n",
              "+--------------------------+--------+-----------------+\n",
              "| 12 Angry Men             | 9      | Awesome         |\n",
              "+--------------------------+--------+-----------------+\n",
              "5 rows in set (0.00 sec)"
            ]
          },
          "execution_count": 16,
          "metadata": {},
          "output_type": "execute_result"
        }
      ],
      "source": [
        "-- 礙於紙本篇幅僅顯示出前五列示意\n",
        "%%sql\n"
      ]
    },
    {
      "cell_type": "markdown",
      "id": "c7e6494f",
      "metadata": {
        "id": "c7e6494f"
      },
      "source": [
        "### 24. 從 `twElection2020` 資料庫的 `admin_regions` 資料表將 `county` 分類為 `'六都'`與`'非六都'`，參考下列的預期查詢結果。\n",
        "\n",
        "註：六都為臺北市、新北市、桃園市、臺中市、臺南市與高雄市。\n",
        "\n",
        "預期輸出：(22, 2) 的查詢結果。"
      ]
    },
    {
      "cell_type": "code",
      "execution_count": null,
      "id": "722bc597",
      "metadata": {
        "id": "722bc597",
        "outputId": "8288ce90-3beb-49b0-a8a8-99daf8b6a041"
      },
      "outputs": [
        {
          "data": {
            "text/html": [
              "<table>\n",
              "<tr>\n",
              "<th>county</th>\n",
              "<th>county_type</th>\n",
              "</tr>\n",
              "<tr>\n",
              "<td>新北市</td>\n",
              "<td>六都</td>\n",
              "</tr>\n",
              "<tr>\n",
              "<td>桃園市</td>\n",
              "<td>六都</td>\n",
              "</tr>\n",
              "<tr>\n",
              "<td>臺中市</td>\n",
              "<td>六都</td>\n",
              "</tr>\n",
              "<tr>\n",
              "<td>臺北市</td>\n",
              "<td>六都</td>\n",
              "</tr>\n",
              "<tr>\n",
              "<td>臺南市</td>\n",
              "<td>六都</td>\n",
              "</tr>\n",
              "<tr>\n",
              "<td>高雄市</td>\n",
              "<td>六都</td>\n",
              "</tr>\n",
              "<tr>\n",
              "<td>南投縣</td>\n",
              "<td>非六都</td>\n",
              "</tr>\n",
              "<tr>\n",
              "<td>嘉義市</td>\n",
              "<td>非六都</td>\n",
              "</tr>\n",
              "<tr>\n",
              "<td>嘉義縣</td>\n",
              "<td>非六都</td>\n",
              "</tr>\n",
              "<tr>\n",
              "<td>基隆市</td>\n",
              "<td>非六都</td>\n",
              "</tr>\n",
              "<tr>\n",
              "<td>宜蘭縣</td>\n",
              "<td>非六都</td>\n",
              "</tr>\n",
              "<tr>\n",
              "<td>屏東縣</td>\n",
              "<td>非六都</td>\n",
              "</tr>\n",
              "<tr>\n",
              "<td>彰化縣</td>\n",
              "<td>非六都</td>\n",
              "</tr>\n",
              "<tr>\n",
              "<td>新竹市</td>\n",
              "<td>非六都</td>\n",
              "</tr>\n",
              "<tr>\n",
              "<td>新竹縣</td>\n",
              "<td>非六都</td>\n",
              "</tr>\n",
              "<tr>\n",
              "<td>澎湖縣</td>\n",
              "<td>非六都</td>\n",
              "</tr>\n",
              "<tr>\n",
              "<td>臺東縣</td>\n",
              "<td>非六都</td>\n",
              "</tr>\n",
              "<tr>\n",
              "<td>花蓮縣</td>\n",
              "<td>非六都</td>\n",
              "</tr>\n",
              "<tr>\n",
              "<td>苗栗縣</td>\n",
              "<td>非六都</td>\n",
              "</tr>\n",
              "<tr>\n",
              "<td>連江縣</td>\n",
              "<td>非六都</td>\n",
              "</tr>\n",
              "<tr>\n",
              "<td>金門縣</td>\n",
              "<td>非六都</td>\n",
              "</tr>\n",
              "<tr>\n",
              "<td>雲林縣</td>\n",
              "<td>非六都</td>\n",
              "</tr>\n",
              "</table>\n",
              "22 rows in set (0.01 sec)"
            ],
            "text/plain": [
              "+-----------+-------------+\n",
              "| county    | county_type |\n",
              "+-----------+-------------+\n",
              "| 新北市 | 六都      |\n",
              "+-----------+-------------+\n",
              "| 桃園市 | 六都      |\n",
              "+-----------+-------------+\n",
              "| 臺中市 | 六都      |\n",
              "+-----------+-------------+\n",
              "| 臺北市 | 六都      |\n",
              "+-----------+-------------+\n",
              "| 臺南市 | 六都      |\n",
              "+-----------+-------------+\n",
              "| 高雄市 | 六都      |\n",
              "+-----------+-------------+\n",
              "| 南投縣 | 非六都   |\n",
              "+-----------+-------------+\n",
              "| 嘉義市 | 非六都   |\n",
              "+-----------+-------------+\n",
              "| 嘉義縣 | 非六都   |\n",
              "+-----------+-------------+\n",
              "| 基隆市 | 非六都   |\n",
              "+-----------+-------------+\n",
              "| 宜蘭縣 | 非六都   |\n",
              "+-----------+-------------+\n",
              "| 屏東縣 | 非六都   |\n",
              "+-----------+-------------+\n",
              "| 彰化縣 | 非六都   |\n",
              "+-----------+-------------+\n",
              "| 新竹市 | 非六都   |\n",
              "+-----------+-------------+\n",
              "| 新竹縣 | 非六都   |\n",
              "+-----------+-------------+\n",
              "| 澎湖縣 | 非六都   |\n",
              "+-----------+-------------+\n",
              "| 臺東縣 | 非六都   |\n",
              "+-----------+-------------+\n",
              "| 花蓮縣 | 非六都   |\n",
              "+-----------+-------------+\n",
              "| 苗栗縣 | 非六都   |\n",
              "+-----------+-------------+\n",
              "| 連江縣 | 非六都   |\n",
              "+-----------+-------------+\n",
              "| 金門縣 | 非六都   |\n",
              "+-----------+-------------+\n",
              "| 雲林縣 | 非六都   |\n",
              "+-----------+-------------+\n",
              "22 rows in set (0.01 sec)"
            ]
          },
          "execution_count": 17,
          "metadata": {},
          "output_type": "execute_result"
        }
      ],
      "source": [
        "%%sql\n"
      ]
    }
  ],
  "metadata": {
    "kernelspec": {
      "display_name": "xsql",
      "language": "sqlite",
      "name": "xsql"
    },
    "language_info": {
      "codemirror_mode": "sql",
      "file_extension": "",
      "mimetype": "",
      "name": "mysql",
      "version": "0.1.5"
    },
    "colab": {
      "provenance": [],
      "include_colab_link": true
    }
  },
  "nbformat": 4,
  "nbformat_minor": 5
}